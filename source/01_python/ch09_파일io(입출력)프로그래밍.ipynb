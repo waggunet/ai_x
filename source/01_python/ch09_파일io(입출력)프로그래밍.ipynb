{
 "cells": [
  {
   "cell_type": "code",
   "execution_count": 1,
   "id": "cdfc1d62",
   "metadata": {},
   "outputs": [
    {
     "data": {
      "text/html": [
       "\n",
       "<style>\n",
       "div.container{width:86% !important;}\n",
       "div.cell.code_cell.rendered{width:100%;}\n",
       "div.CodeMirror {font-family:Consolas; font-size:13pt;\n",
       "div.output {font-size:12pt; font-weight:bold;}\n",
       "div.input {font-family:Consolas; font-size:10pt;}\n",
       "div.prompt {min-width:70px;}\n",
       "div#toc-wrapper{padding-top:120px;}\n",
       "div.text_cell_render ul li{font-size:10pt;padding:5px;}\n",
       "table.dataframe{font-size:15px;\n",
       "</style>\n"
      ],
      "text/plain": [
       "<IPython.core.display.HTML object>"
      ]
     },
     "metadata": {},
     "output_type": "display_data"
    }
   ],
   "source": [
    "# 매 강의 시작시마다 동일하게 처리해야 함\n",
    "from IPython.display import display, HTML\n",
    "display(HTML(\"\"\"\n",
    "<style>\n",
    "div.container{width:86% !important;}\n",
    "div.cell.code_cell.rendered{width:100%;}\n",
    "div.CodeMirror {font-family:Consolas; font-size:13pt;\n",
    "div.output {font-size:12pt; font-weight:bold;}\n",
    "div.input {font-family:Consolas; font-size:10pt;}\n",
    "div.prompt {min-width:70px;}\n",
    "div#toc-wrapper{padding-top:120px;}\n",
    "div.text_cell_render ul li{font-size:10pt;padding:5px;}\n",
    "table.dataframe{font-size:15px;\n",
    "</style>\n",
    "\"\"\"))"
   ]
  },
  {
   "cell_type": "code",
   "execution_count": 77,
   "id": "455e0902",
   "metadata": {},
   "outputs": [],
   "source": [
    "# 250422"
   ]
  },
  {
   "cell_type": "markdown",
   "id": "7857a9be",
   "metadata": {},
   "source": [
    "<b><font size=\"5\" color=\"red\">ch09. 파일 입/출력 프로그래밍</font></b>\n",
    "- 파일 : txt, pickle, csv, json, hdf5(h5)\n",
    "\n",
    "# 1절. txt 파일에 데이터 저장하고 불러오기"
   ]
  },
  {
   "cell_type": "code",
   "execution_count": 10,
   "id": "df4f05be",
   "metadata": {},
   "outputs": [],
   "source": [
    "try:\n",
    "    f = open('data/ch09.txt', 'w') # 파일이름은 제대로 친다고 치고 진행한다.\n",
    "except FileNotFoundError as e:\n",
    "    print(e)\n",
    "    "
   ]
  },
  {
   "cell_type": "code",
   "execution_count": 12,
   "id": "de9371b0",
   "metadata": {},
   "outputs": [
    {
     "name": "stdout",
     "output_type": "stream",
     "text": [
      "쓰기 가능한지 여부 : True\n"
     ]
    }
   ],
   "source": [
    "f = open('data.cho09.txt', \"w\")\n",
    "print('쓰기 가능한지 여부 :', f.writable())"
   ]
  },
  {
   "cell_type": "code",
   "execution_count": 13,
   "id": "b00762ce",
   "metadata": {},
   "outputs": [],
   "source": [
    "f.write('Hello\\nWorld')\n",
    "f.close()  # close() 쓰기한 내용이 저장됨"
   ]
  },
  {
   "cell_type": "code",
   "execution_count": 14,
   "id": "9e06d038",
   "metadata": {},
   "outputs": [
    {
     "name": "stdout",
     "output_type": "stream",
     "text": [
      "쓰기 가능한지 여부 : True\n"
     ]
    }
   ],
   "source": [
    "with open('data/ch09.txt', 'w') as f:\n",
    "    print('쓰기 가능한지 여부 :', f.writable())\n",
    "    f.write('Hello\\nPython')"
   ]
  },
  {
   "cell_type": "code",
   "execution_count": 21,
   "id": "bfd2d34c",
   "metadata": {
    "scrolled": true
   },
   "outputs": [
    {
     "name": "stdout",
     "output_type": "stream",
     "text": [
      "쓰기 가능한지 여부 : True\n"
     ]
    }
   ],
   "source": [
    "# 한글사용시 반드시 encoding 적용 필요함\n",
    "# mode : 'r' 또는 'rt' (텍스트모드) : 읽기, 파일이 없는 경우 예외, 파일이 있는 경우 text읽기 모드\n",
    "#        'rb' : 바이너리 읽기 모드\n",
    "#        'w' 또는 'wt' : text 쓰기 모드 (파일이 있으면 덮어씀, 파일이 없으면 파일 생성)\n",
    "#        'wb' : 비이너리 쓰기 모드\n",
    "#        'a' 또는 'at' : text 추가 모드 (파일이 있으면 append, 없으면 파일 생성) \n",
    "#        읽기모드에서 파일이 없으면 예외 / 쓰기모드에서는 폴더가 없으면 예외\n",
    "# encoding\n",
    "#        euc-kr (한글완성형) 믜 x\n",
    "#        cp949 (확장된 한글완성형) : open() 함수 기본 encoding 방식(win)\n",
    "#        utf-8 (한글조합형) : open()함수 기본 encoding 방식(mac, linux), 주피터노트북 기본\n",
    "\n",
    "with open('data/ch09.txt', 'w') as f:\n",
    "    print('쓰기 가능한지 여부 :', f.writable())\n",
    "    f.write('Hello\\nPython\\n')"
   ]
  },
  {
   "cell_type": "code",
   "execution_count": null,
   "id": "156bca49",
   "metadata": {},
   "outputs": [],
   "source": [
    "'''\n",
    " 1. cp949란?\n",
    "cp949는 Microsoft가 만든 확장 EUC-KR 문자셋.\n",
    "다른 이름으로는 Windows-949, UHC(통합 한글 코드).\n",
    "기본이 되는 건 EUC-KR이라는 문자셋이고, 여기에 추가적인 한글 문자들이 더해져서 만들어짐.\n",
    "\n",
    "📌 2. 왜 cp949가 생겼을까?\n",
    "EUC-KR은 약 2,350자 정도의 한글만 지원했는데, 이건 현대 한국어에서는 부족.\n",
    "그래서 Microsoft가 자사 Windows 시스템에서 더 많은 한글을 다루기 위해 만든 게 cp949.\n",
    "이 덕분에 총 11,172자의 완성형 한글을 다룰 수 있게 됨.\n",
    "\n",
    "'''"
   ]
  },
  {
   "cell_type": "code",
   "execution_count": 22,
   "id": "5b6da8d0",
   "metadata": {},
   "outputs": [],
   "source": [
    "# 데이터 쓰기\n",
    "\n",
    "with open('data/ch09.txt', 'a', encoding=\"utf-8\") as f:\n",
    "    # 1.방법\n",
    "    f.write('홍길동, 33, 아무동9\\n')\n",
    "    f.write('김길동, 34, 저무동8\\n')\n",
    "    # 2.방법\n",
    "    textlist = ['홍길동, 33, 아무동9\\n', '김길동, 33, 아무동9\\n']\n",
    "    for line in textlist:\n",
    "        f.write(line)\n",
    "    # 3.방법\n",
    "    f.writelines(textlist)"
   ]
  },
  {
   "cell_type": "code",
   "execution_count": 25,
   "id": "b0eb3c20",
   "metadata": {},
   "outputs": [],
   "source": [
    "# 데이터 읽기\n",
    "\n",
    "with open('data/ch09.txt', 'r', encoding=\"utf-8\") as f:\n",
    "    pass"
   ]
  },
  {
   "cell_type": "code",
   "execution_count": 29,
   "id": "2839ee58",
   "metadata": {},
   "outputs": [
    {
     "name": "stdout",
     "output_type": "stream",
     "text": [
      "Hello\n",
      " Python\n",
      " 홍길동, 33, 아무동9\n",
      " 김길동, 34, 저무동8\n",
      " 홍길동, 33, 아무동9\n",
      " 김길동, 33, 아무동9\n",
      " 홍길동, 33, 아무동9\n",
      " 김길동, 33, 아무동9\n",
      " "
     ]
    }
   ],
   "source": [
    "# 한줄씩 읽기\n",
    "with open('data/ch09.txt', 'r', encoding=\"utf-8\") as f:\n",
    "    line = f.readline()\n",
    "    while line!='':\n",
    "        print(line, end=' ')\n",
    "        line = f.readline()"
   ]
  },
  {
   "cell_type": "code",
   "execution_count": 31,
   "id": "f38e36ed",
   "metadata": {},
   "outputs": [
    {
     "name": "stdout",
     "output_type": "stream",
     "text": [
      "['Hello\\n', 'Python\\n', '홍길동, 33, 아무동9\\n', '김길동, 34, 저무동8\\n', '홍길동, 33, 아무동9\\n', '김길동, 33, 아무동9\\n', '홍길동, 33, 아무동9\\n', '김길동, 33, 아무동9\\n']\n"
     ]
    }
   ],
   "source": [
    "# 모든 줄을 읽기\n",
    "\n",
    "with open('data/ch09.txt', 'r', encoding=\"utf-8\") as f:\n",
    "    lines = f.readlines()\n",
    "    print(lines)"
   ]
  },
  {
   "cell_type": "code",
   "execution_count": 37,
   "id": "db2546a2",
   "metadata": {},
   "outputs": [
    {
     "name": "stdout",
     "output_type": "stream",
     "text": [
      "Hello\n",
      "Python\n",
      "홍길동, 33, 아무동9\n",
      "김길동, 34, 저무동8\n",
      "홍길동, 33, 아무동9\n",
      "김길동, 33, 아무동9\n",
      "홍길동, 33, 아무동9\n",
      "김길동, 33, 아무동9\n",
      "\n"
     ]
    },
    {
     "data": {
      "text/plain": [
       "['Hello\\n',\n",
       " 'Python\\n',\n",
       " '홍길동, 33, 아무동9\\n',\n",
       " '김길동, 34, 저무동8\\n',\n",
       " '홍길동, 33, 아무동9\\n',\n",
       " '김길동, 33, 아무동9\\n',\n",
       " '홍길동, 33, 아무동9\\n',\n",
       " '김길동, 33, 아무동9\\n']"
      ]
     },
     "execution_count": 37,
     "metadata": {},
     "output_type": "execute_result"
    }
   ],
   "source": [
    "# 모두 읽기\n",
    "\n",
    "with open('data/ch09.txt', 'r', encoding=\"utf-8\") as f:\n",
    "    lines_ = f.read()\n",
    "    print(lines_)\n",
    "lines"
   ]
  },
  {
   "cell_type": "markdown",
   "id": "000b3beb",
   "metadata": {},
   "source": [
    "# 2절. 피클을 이용한 객체 저장 및 불러오기\n",
    "## 2.1 형식이 있는 txt 데이터 불러오기"
   ]
  },
  {
   "cell_type": "code",
   "execution_count": 4,
   "id": "4a42a48d",
   "metadata": {},
   "outputs": [],
   "source": [
    "class Member:\n",
    "    def __init__(self, name, age, email, address):\n",
    "        self.name = name\n",
    "        self.age = age\n",
    "        self.email = email\n",
    "        self.address = address\n",
    "    def __str__(self):\n",
    "        return \"{}, {}, {}, {}\".format(self.name,\n",
    "                                      \"성년\" if self.age>18 else \"미성년\",\n",
    "                                      self.email,\n",
    "                                      self.address)\n",
    "    def as_dict(self):\n",
    "        return {\n",
    "            'name' : self.name,\n",
    "            'age':self.age,\n",
    "            'email':self.email,\n",
    "            'address':self.address      \n",
    "        }\n",
    "    def __eq__(self, other):\n",
    "        return self.name == other.name and \\\n",
    "                self.age == other.age and \\\n",
    "                self.email == other.email and \\\n",
    "                self.address == other.address"
   ]
  },
  {
   "cell_type": "code",
   "execution_count": 5,
   "id": "c4d78dfd",
   "metadata": {},
   "outputs": [
    {
     "name": "stdout",
     "output_type": "stream",
     "text": [
      "True\n",
      "True\n"
     ]
    }
   ],
   "source": [
    "user1 = Member('홍', 20,'a@a.com', '신림동')\n",
    "user2 = Member('홍', 20,'a@a.com', '신림동')\n",
    "print(user1 == user2)\n",
    "print(user1.__eq__(user2)) # 같은 내용이면 True"
   ]
  },
  {
   "cell_type": "code",
   "execution_count": 6,
   "id": "3667364e",
   "metadata": {},
   "outputs": [],
   "source": [
    "# 형식이 있는 txt파일 내용을 member list(피클 저장), 딕셔너리 list(데이터프레임)로 저장\n",
    "user_list = [] # member list\n",
    "user_dict = [] # 딕셔너리 list\n",
    "with open('data/ch09_member.txt', 'r', encoding='utf-8') as txt_file:\n",
    "    lines = txt_file.readlines()\n",
    "# print(lines)\n",
    "for line in lines:\n",
    "#     print(line)\n",
    "    data =line.split(', ')\n",
    "#     print(data)\n",
    "    name = data[0]\n",
    "    age = int(data[1].strip()) # strip() 좌우 공백제거(space, \\t, \\n)\n",
    "    email = data[2].strip()\n",
    "    address = data[3].strip()\n",
    "    user = Member(name, age, email, address)\n",
    "    user_list.append(user)\n",
    "    user_dict.append(user.as_dict)\n",
    "#     user_dict.append(user.__dict__)"
   ]
  },
  {
   "cell_type": "code",
   "execution_count": 15,
   "id": "8abdc95a",
   "metadata": {},
   "outputs": [
    {
     "name": "stdout",
     "output_type": "stream",
     "text": [
      "홍길동, 성년, kildong@hong.com, 서울시 관악구\n",
      "홍길숙, 성년, kilsuk1@hong.com, 서울시 영등포구\n",
      "신길동, 성년, shinkil@hong.com, 서울시 동작구\n"
     ]
    }
   ],
   "source": [
    "for user in user_list:\n",
    "    print(user)"
   ]
  },
  {
   "cell_type": "markdown",
   "id": "a2f7a718",
   "metadata": {},
   "source": [
    "## 2.2 피클링\n",
    "- 객체 리스트(user_list) -> 피클파일로 쓰기\n",
    "- 피클 파일을 읽기 -> 객체 리스트(load_user_list)"
   ]
  },
  {
   "cell_type": "code",
   "execution_count": 16,
   "id": "5dadeaa8",
   "metadata": {},
   "outputs": [],
   "source": [
    "# 피클링을 이용한 객체를 저장하기\n",
    "\n",
    "import pickle\n",
    "with open('data/ch09_member.data', 'wb') as f:\n",
    "    pickle.dump(user_list, f)"
   ]
  },
  {
   "cell_type": "code",
   "execution_count": 17,
   "id": "2868f29f",
   "metadata": {},
   "outputs": [],
   "source": [
    "# 피클링을 이용한 파일에서 객체 데이터로 읽기\n",
    "with open('data/ch09_member.data', 'rb') as f:\n",
    "    load_user_list = pickle.load(f)"
   ]
  },
  {
   "cell_type": "code",
   "execution_count": 18,
   "id": "d4d08a05",
   "metadata": {},
   "outputs": [
    {
     "data": {
      "text/plain": [
       "True"
      ]
     },
     "execution_count": 18,
     "metadata": {},
     "output_type": "execute_result"
    }
   ],
   "source": [
    "user_list == load_user_list"
   ]
  },
  {
   "cell_type": "code",
   "execution_count": 19,
   "id": "48e7ab06",
   "metadata": {},
   "outputs": [
    {
     "ename": "TypeError",
     "evalue": "'Member' object is not subscriptable",
     "output_type": "error",
     "traceback": [
      "\u001b[1;31m---------------------------------------------------------------------------\u001b[0m",
      "\u001b[1;31mTypeError\u001b[0m                                 Traceback (most recent call last)",
      "Cell \u001b[1;32mIn[19], line 2\u001b[0m\n\u001b[0;32m      1\u001b[0m \u001b[38;5;28;01mfor\u001b[39;00m idx \u001b[38;5;129;01min\u001b[39;00m \u001b[38;5;28mrange\u001b[39m(\u001b[38;5;28mlen\u001b[39m(user_list)):\n\u001b[1;32m----> 2\u001b[0m     \u001b[38;5;28mprint\u001b[39m(idx, \u001b[43muser\u001b[49m\u001b[43m[\u001b[49m\u001b[43midx\u001b[49m\u001b[43m]\u001b[49m)\n\u001b[0;32m      3\u001b[0m     \u001b[38;5;28mprint\u001b[39m(idx, load_user_list[idx])\n",
      "\u001b[1;31mTypeError\u001b[0m: 'Member' object is not subscriptable"
     ]
    }
   ],
   "source": [
    "for idx in range(len(user_list)):\n",
    "    print(idx, user[idx])\n",
    "    print(idx, load_user_list[idx])"
   ]
  },
  {
   "cell_type": "code",
   "execution_count": 20,
   "id": "243d01c3",
   "metadata": {},
   "outputs": [
    {
     "name": "stdout",
     "output_type": "stream",
     "text": [
      "홍길동, 성년, kildong@hong.com, 서울시 관악구\n",
      "홍길동, 성년, kildong@hong.com, 서울시 관악구\n",
      "홍길숙, 성년, kilsuk1@hong.com, 서울시 영등포구\n",
      "홍길숙, 성년, kilsuk1@hong.com, 서울시 영등포구\n",
      "신길동, 성년, shinkil@hong.com, 서울시 동작구\n",
      "신길동, 성년, shinkil@hong.com, 서울시 동작구\n"
     ]
    }
   ],
   "source": [
    "for user, load_user in zip(user_list, load_user_list):\n",
    "    print(user)\n",
    "    print(load_user)"
   ]
  },
  {
   "cell_type": "code",
   "execution_count": 21,
   "id": "949e751c",
   "metadata": {
    "scrolled": true
   },
   "outputs": [
    {
     "name": "stdout",
     "output_type": "stream",
     "text": [
      "0 홍길동, 성년, kildong@hong.com, 서울시 관악구\n",
      "0 홍길동, 성년, kildong@hong.com, 서울시 관악구\n",
      "True\n",
      "1 홍길숙, 성년, kilsuk1@hong.com, 서울시 영등포구\n",
      "1 홍길숙, 성년, kilsuk1@hong.com, 서울시 영등포구\n",
      "True\n",
      "2 신길동, 성년, shinkil@hong.com, 서울시 동작구\n",
      "2 신길동, 성년, shinkil@hong.com, 서울시 동작구\n",
      "True\n"
     ]
    }
   ],
   "source": [
    "for idx,(user, load_user) in enumerate(zip(user_list, load_user_list)):\n",
    "    print(idx, user)\n",
    "    print(idx, load_user)\n",
    "    print(user == load_user)"
   ]
  },
  {
   "cell_type": "code",
   "execution_count": 24,
   "id": "eb0a399b",
   "metadata": {},
   "outputs": [
    {
     "data": {
      "text/plain": [
       "True"
      ]
     },
     "execution_count": 24,
     "metadata": {},
     "output_type": "execute_result"
    }
   ],
   "source": [
    "result = []\n",
    "for user, load_user in zip(user_list, load_user_list):\n",
    "    result.append(user==load_user)\n",
    "all(result)"
   ]
  },
  {
   "cell_type": "markdown",
   "id": "9bfda94a",
   "metadata": {},
   "source": [
    "# 3절. CSV 형식 파일 읽기/쓰기\n",
    "- csv파일 <-> 리스트데이터로 3.1 / 3.2\n",
    "- csv파일 <-> 딕셔너리데이터 3.3 / 3.4"
   ]
  },
  {
   "cell_type": "code",
   "execution_count": null,
   "id": "f5c1f72e",
   "metadata": {},
   "outputs": [],
   "source": [
    "'''\n",
    "변환 방식\t예제 번호\t설명\n",
    "CSV → 리스트\t3.1\t한 줄씩 리스트로 읽음\n",
    "리스트 → CSV\t3.2\t리스트를 CSV로 씀\n",
    "CSV → 딕셔너리\t3.3\t한 줄을 딕셔너리로 읽음\n",
    "딕셔너리 → CSV\t3.4\t딕셔너리를 CSV로 씀\n",
    "'''\n"
   ]
  },
  {
   "cell_type": "markdown",
   "id": "7269045e",
   "metadata": {},
   "source": [
    "## 3.1 reader"
   ]
  },
  {
   "cell_type": "code",
   "execution_count": 71,
   "id": "0785503e",
   "metadata": {},
   "outputs": [
    {
     "name": "stdout",
     "output_type": "stream",
     "text": [
      "[['홍길동', '20', 'kildong@hong.com', '서울시 관악구'], ['김길동', '40', 'kimdong@hong.com', '서울시 영등포구'], ['신길동', '30', 'sindong@hong.com', '서울시 동작구']]\n"
     ]
    }
   ],
   "source": [
    "import csv\n",
    "with open('data/ch09_member1.csv', 'r', encoding='utf-8') as f:\n",
    "    reader = csv.reader(f)\n",
    "    result = list(reader)\n",
    "print(result)"
   ]
  },
  {
   "cell_type": "code",
   "execution_count": 72,
   "id": "39ad274f",
   "metadata": {
    "scrolled": true
   },
   "outputs": [
    {
     "name": "stdout",
     "output_type": "stream",
     "text": [
      "[['홍길동', 20.0, 'kildong@hong.com', '서울시 관악구'], ['김길동', 40.0, 'kimdong@hong.com', '서울시 영등포구'], ['신길동', 30.0, 'sindong@hong.com', '서울시 동작구']]\n"
     ]
    }
   ],
   "source": [
    "# \" \"(따옴표)가 없는 데이터는 numeric으로\n",
    "import csv\n",
    "with open('data/ch09_member1.csv', 'r', encoding='utf-8') as f:\n",
    "    reader = csv.reader(f,\n",
    "                       quoting=csv.QUOTE_NONNUMERIC)\n",
    "    result = list(reader)\n",
    "print(result)"
   ]
  },
  {
   "cell_type": "code",
   "execution_count": 3,
   "id": "0429507c",
   "metadata": {},
   "outputs": [
    {
     "name": "stdout",
     "output_type": "stream",
     "text": [
      "[{'name': '홍길동', 'age': 20, 'email': 'kildong@hong.com', 'address': '서울시 관악구'}, {'name': '김길동', 'age': 40, 'email': 'kimdong@hong.com', 'address': '서울시 영등포구'}, {'name': '신길동', 'age': 30, 'email': 'sindong@hong.com', 'address': '서울시 동작구'}]\n"
     ]
    }
   ],
   "source": [
    "import csv\n",
    "with open('data/ch09_member1.csv', 'r', encoding='utf-8') as f:\n",
    "    reader = csv.reader(f,\n",
    "                       quoting=csv.QUOTE_NONNUMERIC)\n",
    "    result = list(reader)\n",
    "dict_list = []\n",
    "for data in result:\n",
    "    dict_list.append({\n",
    "        'name':data[0],\n",
    "        'age':int(data[1]),\n",
    "        'email':data[2],\n",
    "        'address':data[3]\n",
    "    })\n",
    "print(dict_list)"
   ]
  },
  {
   "cell_type": "markdown",
   "id": "e4917b66",
   "metadata": {},
   "source": [
    "## 3.2 writer"
   ]
  },
  {
   "cell_type": "code",
   "execution_count": 23,
   "id": "4795957e",
   "metadata": {},
   "outputs": [],
   "source": [
    "user_list = [['홍길동',20,'kildong@hong.com','서울시 관악구'],\n",
    "             ['김길동',40,'kimdong@hong.com','서울시 영등포구'],\n",
    "             ['신길동',30,'sindong@hong.com','서울시 동작구']]"
   ]
  },
  {
   "cell_type": "code",
   "execution_count": 27,
   "id": "46e26fa5",
   "metadata": {},
   "outputs": [],
   "source": [
    "import csv\n",
    "with open('data/ch09_member1_write.csv', 'w', newline='', encoding='utf-8') as f:\n",
    "    writer = csv.writer(f, quoting=csv.QUOTE_NONNUMERIC)\n",
    "    writer.writerows(user_list)"
   ]
  },
  {
   "cell_type": "markdown",
   "id": "6566efe9",
   "metadata": {},
   "source": [
    "## 3.3 DictReader"
   ]
  },
  {
   "cell_type": "code",
   "execution_count": 30,
   "id": "96d73142",
   "metadata": {},
   "outputs": [
    {
     "name": "stdout",
     "output_type": "stream",
     "text": [
      "홍길동 20 h@h.com 서울시 관악구\n",
      "신길동 40 s@h.com 서울시 영등포구 팀장\n",
      "김길동 30 k@h.com 서울시 동작구\n"
     ]
    }
   ],
   "source": [
    "import csv\n",
    "with open('data/ch09_member3.csv', 'r', encoding='utf-8') as f:\n",
    "    dict_reader = csv.DictReader(f)\n",
    "    for row in dict_reader:\n",
    "        if row['job'] is None:\n",
    "            print(row['name'],row['age'],row['email'],row['address'] )\n",
    "        else:\n",
    "            print(row['name'],row['age'],row['email'],row['address'], row['job'])"
   ]
  },
  {
   "cell_type": "code",
   "execution_count": 19,
   "id": "a68e558e",
   "metadata": {},
   "outputs": [
    {
     "name": "stdout",
     "output_type": "stream",
     "text": [
      "{'Name': '홍길동', 'Age': '20', 'Email': 'kildong@hong.com', 'Address': '서울시 관악구', 'Job': ''}\n",
      "{'Name': '김길동', 'Age': '40', 'Email': 'kimdong@hong.com', 'Address': '서울시 영등포구', 'Job': '팀장'}\n",
      "{'Name': '신길동', 'Age': '30', 'Email': 'sindong@hong.com', 'Address': '서울시 동작구', 'Job': ''}\n"
     ]
    }
   ],
   "source": [
    "# header가 없는 csv파일(ch09_emeber1-cp.csv)을 딕셔너리로 읽기\n",
    "\n",
    "with open('data/ch09_member1-cp.csv', encoding='cp949') as f:\n",
    "    dict_reader = csv.DictReader(f,\n",
    "                                fieldnames=['Name','Age','Email','Address','Job'])\n",
    "#     print(list(dict_reader))\n",
    "#     print(list(dict_reader))\n",
    "    result = list(dict_reader)\n",
    "for row in result:\n",
    "    print(row)"
   ]
  },
  {
   "cell_type": "code",
   "execution_count": 21,
   "id": "45a768f3",
   "metadata": {},
   "outputs": [
    {
     "name": "stdout",
     "output_type": "stream",
     "text": [
      "{'Name': '홍길동', 'Age': '20', 'Email': 'kildong@hong.com', 'Address': '서울시 관악구', 'job': ['']}\n",
      "{'Name': '김길동', 'Age': '40', 'Email': 'kimdong@hong.com', 'Address': '서울시 영등포구', 'job': ['팀장']}\n",
      "{'Name': '신길동', 'Age': '30', 'Email': 'sindong@hong.com', 'Address': '서울시 동작구', 'job': ['']}\n"
     ]
    }
   ],
   "source": [
    "\n",
    "with open('data/ch09_member1-cp.csv', encoding='cp949') as f:\n",
    "    dict_reader = csv.DictReader(f,\n",
    "                                fieldnames=['Name','Age','Email','Address'],\n",
    "                                restkey='job')\n",
    "#     print(list(dict_reader))\n",
    "#     print(list(dict_reader))\n",
    "    result = list(dict_reader)\n",
    "for row in result:\n",
    "    print(row)"
   ]
  },
  {
   "cell_type": "markdown",
   "id": "00d12849",
   "metadata": {},
   "source": [
    "## 3.4 DictWriter\n",
    "- 딕셔너리 리스트 -> CSV파일"
   ]
  },
  {
   "cell_type": "code",
   "execution_count": 36,
   "id": "eb82654f",
   "metadata": {},
   "outputs": [],
   "source": [
    "user1 = {'name':'홍길동','age':22,'email':'a@a.com','address':'신림동'}\n",
    "user2 = {'name':'김길동','age':32,'email':'b@a.com','address':'신림동'}\n",
    "user3 = {'name':'신길동','age':42,'email':'c@a.com','address':'신림동'}\n",
    "user_list = [user1, user2, user3]\n",
    "fieldnames = list(user1.keys())"
   ]
  },
  {
   "cell_type": "code",
   "execution_count": 38,
   "id": "4cd2bc4c",
   "metadata": {},
   "outputs": [],
   "source": [
    "with open('data/ch09_member4.csv', 'w', encoding='utf-8', newline='') as f:\n",
    "    dict_writer = csv.DictWriter(f,\n",
    "                                fieldnames=fieldnames)\n",
    "    dict_writer.writeheader()  # header 쓰기\n",
    "    dict_writer.writerows(user_list)"
   ]
  },
  {
   "cell_type": "code",
   "execution_count": 32,
   "id": "b486342b",
   "metadata": {},
   "outputs": [
    {
     "data": {
      "text/plain": [
       "dict_keys(['name', 'age', 'email', 'address'])"
      ]
     },
     "execution_count": 32,
     "metadata": {},
     "output_type": "execute_result"
    }
   ],
   "source": [
    "user1.keys()"
   ]
  },
  {
   "cell_type": "code",
   "execution_count": 33,
   "id": "f4c234ad",
   "metadata": {},
   "outputs": [
    {
     "data": {
      "text/plain": [
       "dict_values(['홍길동', 22, 'a@a.com', '신림동'])"
      ]
     },
     "execution_count": 33,
     "metadata": {},
     "output_type": "execute_result"
    }
   ],
   "source": [
    "user1.values()"
   ]
  },
  {
   "cell_type": "code",
   "execution_count": 34,
   "id": "74d05dc1",
   "metadata": {},
   "outputs": [
    {
     "data": {
      "text/plain": [
       "dict_items([('name', '홍길동'), ('age', 22), ('email', 'a@a.com'), ('address', '신림동')])"
      ]
     },
     "execution_count": 34,
     "metadata": {},
     "output_type": "execute_result"
    }
   ],
   "source": [
    "user1.items()"
   ]
  },
  {
   "cell_type": "markdown",
   "id": "4768ebe5",
   "metadata": {},
   "source": [
    "## csv < - > 데이터 프레임"
   ]
  },
  {
   "cell_type": "code",
   "execution_count": 4,
   "id": "cad81ad6",
   "metadata": {},
   "outputs": [
    {
     "data": {
      "text/html": [
       "<div>\n",
       "<style scoped>\n",
       "    .dataframe tbody tr th:only-of-type {\n",
       "        vertical-align: middle;\n",
       "    }\n",
       "\n",
       "    .dataframe tbody tr th {\n",
       "        vertical-align: top;\n",
       "    }\n",
       "\n",
       "    .dataframe thead th {\n",
       "        text-align: right;\n",
       "    }\n",
       "</style>\n",
       "<table border=\"1\" class=\"dataframe\">\n",
       "  <thead>\n",
       "    <tr style=\"text-align: right;\">\n",
       "      <th></th>\n",
       "      <th>name</th>\n",
       "      <th>age</th>\n",
       "      <th>email</th>\n",
       "      <th>address</th>\n",
       "      <th>job</th>\n",
       "    </tr>\n",
       "  </thead>\n",
       "  <tbody>\n",
       "    <tr>\n",
       "      <th>0</th>\n",
       "      <td>홍길동</td>\n",
       "      <td>20</td>\n",
       "      <td>h@h.com</td>\n",
       "      <td>서울시 관악구</td>\n",
       "      <td>NaN</td>\n",
       "    </tr>\n",
       "    <tr>\n",
       "      <th>1</th>\n",
       "      <td>신길동</td>\n",
       "      <td>40</td>\n",
       "      <td>s@h.com</td>\n",
       "      <td>서울시 영등포구</td>\n",
       "      <td>팀장</td>\n",
       "    </tr>\n",
       "    <tr>\n",
       "      <th>2</th>\n",
       "      <td>김길동</td>\n",
       "      <td>30</td>\n",
       "      <td>k@h.com</td>\n",
       "      <td>서울시 동작구</td>\n",
       "      <td>NaN</td>\n",
       "    </tr>\n",
       "  </tbody>\n",
       "</table>\n",
       "</div>"
      ],
      "text/plain": [
       "  name  age    email   address  job\n",
       "0  홍길동   20  h@h.com   서울시 관악구  NaN\n",
       "1  신길동   40  s@h.com  서울시 영등포구   팀장\n",
       "2  김길동   30  k@h.com   서울시 동작구  NaN"
      ]
     },
     "execution_count": 4,
     "metadata": {},
     "output_type": "execute_result"
    }
   ],
   "source": [
    "import pandas as pd\n",
    "member = pd.read_csv('data/ch09_member3.csv')\n",
    "member"
   ]
  },
  {
   "cell_type": "code",
   "execution_count": 5,
   "id": "d1aacc54",
   "metadata": {},
   "outputs": [
    {
     "name": "stdout",
     "output_type": "stream",
     "text": [
      "<class 'pandas.core.frame.DataFrame'>\n"
     ]
    }
   ],
   "source": [
    "print(type(member))"
   ]
  },
  {
   "cell_type": "markdown",
   "id": "106c6e68",
   "metadata": {},
   "source": [
    "# 4절 JSON 데이터 저장하고 불러오기(dump, load)\n",
    "- 딕셔너리리스트 <-> JSON 파일(기본)\n",
    "- 객체리스트 <-> JSON 파일\n",
    "\n",
    "## 4.1 dump(파일 출력)"
   ]
  },
  {
   "cell_type": "code",
   "execution_count": 8,
   "id": "e2e9e400",
   "metadata": {},
   "outputs": [],
   "source": [
    "data = [{'name':'홍길동','age':22,'email':'a@a.com','address':'서울'},\n",
    "        {'name':'김길동','age':32,'email':'b@a.com','address':'신림동'}]"
   ]
  },
  {
   "cell_type": "code",
   "execution_count": 10,
   "id": "2c6c383f",
   "metadata": {},
   "outputs": [],
   "source": [
    "# ensure_ascii 매개변수\n",
    "#     True : 비 ASCII문은 유니코드 형태로 저장\n",
    "#     False : 비 ASCII문자 원래 형태로 저장\n",
    "import json\n",
    "with open('data/ch09_member.json', 'w', encoding='utf-8') as jsonfile:\n",
    "    json.dump(data,  # 딕셔너리 리스트\n",
    "             jsonfile,\n",
    "             ensure_ascii=False,\n",
    "             indent='\\t')"
   ]
  },
  {
   "cell_type": "code",
   "execution_count": 11,
   "id": "65570de2",
   "metadata": {},
   "outputs": [],
   "source": [
    "import json\n",
    "with open('data/ch09_member.json', 'w', encoding='utf-8') as jsonfile:\n",
    "    json.dump(data,  # 딕셔너리 리스트\n",
    "             jsonfile,\n",
    "             ensure_ascii=False)"
   ]
  },
  {
   "cell_type": "code",
   "execution_count": 17,
   "id": "69455a1d",
   "metadata": {},
   "outputs": [],
   "source": [
    "class Member:\n",
    "    def __init__(self, name, age, email, address):\n",
    "        self.name = name\n",
    "        self.age = age\n",
    "        self.email = email\n",
    "        self.address = address\n",
    "    def __str__(self):\n",
    "        return \"{}, {}, {}, {}\".format(self.name,\n",
    "                                      self.age,\n",
    "                                      self.email,\n",
    "                                      self.address)\n",
    "    def as_dict(self):\n",
    "        return {\n",
    "            'name' : self.name,\n",
    "            'age':self.age,\n",
    "            'email':self.email,\n",
    "            'address':self.address      \n",
    "        }\n",
    "    def __eq__(self, other):\n",
    "        if isinstance(other, Member):\n",
    "            return self.__str__ == other.__dict__\n",
    "        else:\n",
    "            return False\n",
    "        "
   ]
  },
  {
   "cell_type": "code",
   "execution_count": 18,
   "id": "ea5df260",
   "metadata": {},
   "outputs": [
    {
     "name": "stdout",
     "output_type": "stream",
     "text": [
      "False\n",
      "False\n"
     ]
    }
   ],
   "source": [
    "user1 = Member('홍길동', 22, 'a@a.com','신림동')\n",
    "user2 = Member('홍길동', 22, 'a@a.com','신림동')\n",
    "print(user1.__eq__('user2'))\n",
    "print(user2 == user2)"
   ]
  },
  {
   "cell_type": "code",
   "execution_count": 19,
   "id": "ed3f6c91",
   "metadata": {},
   "outputs": [],
   "source": [
    "member_list = [Member('홍길동', 22, 'a@a.com', '서울'),\n",
    "               Member('홍길동', 22, 'a@a.com', '서울'),\n",
    "               Member('홍길동', 22, 'a@a.com', '서울')]"
   ]
  },
  {
   "cell_type": "code",
   "execution_count": 21,
   "id": "7b2bd0ed",
   "metadata": {},
   "outputs": [],
   "source": [
    "with open('data/ch09_member1.json', 'w', encoding='utf-8') as jsonfile:\n",
    "    json.dump(member_list, # 객체 리스트\n",
    "             jsonfile,\n",
    "             ensure_ascii=False,\n",
    "             indent='\\t',\n",
    "             default=Member.as_dict # 객체를 딕셔너리로 return 하는 인스턴스 함수\n",
    "             )"
   ]
  },
  {
   "cell_type": "markdown",
   "id": "886acaf8",
   "metadata": {},
   "source": [
    "## 4.2 load(파일 입력)\n",
    "- json파일 -> 딕셔너리 리스트 (기본)\n",
    "                   ↓\n",
    "- json파일 -> 객체리스트"
   ]
  },
  {
   "cell_type": "code",
   "execution_count": 22,
   "id": "6cd54f7d",
   "metadata": {},
   "outputs": [],
   "source": [
    "def as_member(dic):\n",
    "    '매개변수로 딕셔너리를 받아 Member객체를 return'\n",
    "    return Member(dic.get('name'), dic['age'], dic.get('email'),dic.get('address'))"
   ]
  },
  {
   "cell_type": "code",
   "execution_count": 23,
   "id": "e7478de7",
   "metadata": {},
   "outputs": [
    {
     "name": "stdout",
     "output_type": "stream",
     "text": [
      "김길동, 20, z@z.com, 관악\n"
     ]
    }
   ],
   "source": [
    "member = as_member({'name':'김길동','age':20, 'email':'z@z.com','address':'관악'})\n",
    "print(member)"
   ]
  },
  {
   "cell_type": "code",
   "execution_count": 24,
   "id": "f8ab3dd6",
   "metadata": {},
   "outputs": [
    {
     "data": {
      "text/plain": [
       "[{'name': '홍길동', 'age': 22, 'email': 'a@a.com', 'address': '서울'},\n",
       " {'name': '김길동', 'age': 32, 'email': 'b@a.com', 'address': '신림동'}]"
      ]
     },
     "execution_count": 24,
     "metadata": {},
     "output_type": "execute_result"
    }
   ],
   "source": [
    "# 딕셔너리 리스트로 받기\n",
    "with open('data/ch09_member.json', encoding='utf-8') as f:\n",
    "    load_data = json.load(f)\n",
    "load_data"
   ]
  },
  {
   "cell_type": "code",
   "execution_count": 25,
   "id": "32002d51",
   "metadata": {},
   "outputs": [
    {
     "name": "stdout",
     "output_type": "stream",
     "text": [
      "홍길동, 22, a@a.com, 서울\n",
      "홍길동, 22, a@a.com, 서울\n",
      "홍길동, 22, a@a.com, 서울\n"
     ]
    }
   ],
   "source": [
    "# 개체 리스트로 받기\n",
    "with open('data/ch09_member1.json', encoding='utf-8') as f:\n",
    "    load_member_list = json.load(f, object_hook=as_member)\n",
    "for load_data in load_member_list:\n",
    "    print(load_data)"
   ]
  },
  {
   "cell_type": "markdown",
   "id": "3b4799aa",
   "metadata": {},
   "source": [
    "## JSON -> 데이터프레임"
   ]
  },
  {
   "cell_type": "code",
   "execution_count": 26,
   "id": "e8d72801",
   "metadata": {},
   "outputs": [
    {
     "data": {
      "text/html": [
       "<div>\n",
       "<style scoped>\n",
       "    .dataframe tbody tr th:only-of-type {\n",
       "        vertical-align: middle;\n",
       "    }\n",
       "\n",
       "    .dataframe tbody tr th {\n",
       "        vertical-align: top;\n",
       "    }\n",
       "\n",
       "    .dataframe thead th {\n",
       "        text-align: right;\n",
       "    }\n",
       "</style>\n",
       "<table border=\"1\" class=\"dataframe\">\n",
       "  <thead>\n",
       "    <tr style=\"text-align: right;\">\n",
       "      <th></th>\n",
       "      <th>name</th>\n",
       "      <th>age</th>\n",
       "      <th>email</th>\n",
       "      <th>address</th>\n",
       "    </tr>\n",
       "  </thead>\n",
       "  <tbody>\n",
       "    <tr>\n",
       "      <th>0</th>\n",
       "      <td>홍길동</td>\n",
       "      <td>22</td>\n",
       "      <td>a@a.com</td>\n",
       "      <td>서울</td>\n",
       "    </tr>\n",
       "    <tr>\n",
       "      <th>1</th>\n",
       "      <td>홍길동</td>\n",
       "      <td>22</td>\n",
       "      <td>a@a.com</td>\n",
       "      <td>서울</td>\n",
       "    </tr>\n",
       "    <tr>\n",
       "      <th>2</th>\n",
       "      <td>홍길동</td>\n",
       "      <td>22</td>\n",
       "      <td>a@a.com</td>\n",
       "      <td>서울</td>\n",
       "    </tr>\n",
       "  </tbody>\n",
       "</table>\n",
       "</div>"
      ],
      "text/plain": [
       "  name  age    email address\n",
       "0  홍길동   22  a@a.com      서울\n",
       "1  홍길동   22  a@a.com      서울\n",
       "2  홍길동   22  a@a.com      서울"
      ]
     },
     "execution_count": 26,
     "metadata": {},
     "output_type": "execute_result"
    }
   ],
   "source": [
    "import pandas as pd\n",
    "pd.read_json('data/ch09_member1.json') \n",
    "# pd.함수() : encoding='utf=8' 기본값\n",
    "# open(파일, 모드)함수 : encoding='cp949' 기본값"
   ]
  },
  {
   "cell_type": "code",
   "execution_count": 1,
   "id": "0e9beea6",
   "metadata": {},
   "outputs": [],
   "source": [
    "# 4/22 복습"
   ]
  },
  {
   "cell_type": "code",
   "execution_count": 7,
   "id": "7f394c12",
   "metadata": {},
   "outputs": [],
   "source": [
    "# 기본형식\n",
    "# f = open('파일이름', '모드', encoding='utf-8')\n",
    "'''\n",
    "모드\t의미\n",
    "\"r\"\t읽기 (파일이 있어야 함)\n",
    "\"w\"\t쓰기 (없으면 생성, 있으면 덮어씀)\n",
    "\"a\"\t추가 (파일 끝에 이어서 씀)\n",
    "\"b\"\t바이너리 모드 (픽클 등 이진 파일용)\n",
    "'''\n"
   ]
  },
  {
   "cell_type": "code",
   "execution_count": null,
   "id": "4062a802",
   "metadata": {},
   "outputs": [],
   "source": [
    "# 텍스트파일 다루기\n",
    "# 텍스트 파일 쓰기\n",
    "\n",
    "with open(\"example.txt\", \"w\", encoding=\"utf-8\") as f:\n",
    "    f.writer(\"안녕하세요\\n\")\n",
    "    f.write(\"파이썬 파일 입출력 예제\")"
   ]
  },
  {
   "cell_type": "code",
   "execution_count": 9,
   "id": "878ac0ad",
   "metadata": {},
   "outputs": [],
   "source": [
    "# 텍스트 파일 읽기\n",
    "with open(\"example.txt\", \"w\", encoding=\"utf-8\") as f:\n",
    "    for line in f:\n",
    "        print(line.strip()) # strip()은 줄 끝의 줄바꿈 \\n을 제거"
   ]
  },
  {
   "cell_type": "code",
   "execution_count": 11,
   "id": "83e49fe8",
   "metadata": {},
   "outputs": [
    {
     "name": "stdout",
     "output_type": "stream",
     "text": [
      "메모를 입력하세요(exit입력 시 종료) : sdf\n",
      "메모를 입력하세요(exit입력 시 종료) : k\n",
      "메모를 입력하세요(exit입력 시 종료) : k\n",
      "메모를 입력하세요(exit입력 시 종료) : exit\n"
     ]
    }
   ],
   "source": [
    "# 텍스트 + 사용자 입력\n",
    "# 사용자 메모 저장\n",
    "with open('memo.txt', 'w', encoding='utf-8') as f:\n",
    "    while True:\n",
    "        line = input(\"메모를 입력하세요(exit입력 시 종료) : \")\n",
    "        if line == 'exit':\n",
    "            break\n",
    "    f.write(line + '\\n')"
   ]
  },
  {
   "cell_type": "code",
   "execution_count": 14,
   "id": "824324da",
   "metadata": {},
   "outputs": [],
   "source": [
    "# 형식이 있는 텍트스 처리\n",
    "\n",
    "# 홍길동,20,kildong@hong.com,서울시 강동구\n",
    "# 홍길서,30,kilseo@hong.cokm,서울시 강서구\n",
    "\n",
    "with open('member.txt', 'r') as f:\n",
    "    for line in f:\n",
    "        name, age, email, addr = line.strip().split(',')\n",
    "        print(f'이름:{name} | 나이: {age} | 이메일:{email} | 주소:{addr}')"
   ]
  },
  {
   "cell_type": "code",
   "execution_count": null,
   "id": "3b0b2e59",
   "metadata": {},
   "outputs": [],
   "source": [
    "# 파일에 이어쓰기 (a)"
   ]
  },
  {
   "cell_type": "code",
   "execution_count": null,
   "id": "002b8811",
   "metadata": {},
   "outputs": [],
   "source": [
    "with open('member.txt', 'a' encoding='utf-8') as f:\n",
    "    f.write('이 내용을 이어씁니다'\\n')"
   ]
  },
  {
   "cell_type": "code",
   "execution_count": null,
   "id": "81e44781",
   "metadata": {},
   "outputs": [],
   "source": [
    "# print()로 파일에 출력하기\n",
    "with open('log.txt', 'w') as f:\n",
    "    print('로그기록 시작',file=f)\n",
    "    print('사용자:맹구',file=f)\n",
    "# 화면 대신 파일로 출력 print(...., file=f)"
   ]
  },
  {
   "cell_type": "code",
   "execution_count": null,
   "id": "04c1bf5c",
   "metadata": {},
   "outputs": [],
   "source": [
    "'''\n",
    "예제\t설명\t주요 포인트\n",
    "예제 1\t텍스트 파일 쓰기\t\"w\" 모드\n",
    "예제 2\t텍스트 파일 읽기\tfor line in f\n",
    "예제 3\t사용자 입력 저장\t반복문 + exit 처리\n",
    "예제 4\t쉼표로 구분된 텍스트 처리\tsplit(\",\")\n",
    "예제 5\t이어쓰기\t\"a\" 모드\n",
    "+α\tprint(..., file=파일)\t간단하게 로그 남기기\n",
    "'''"
   ]
  },
  {
   "cell_type": "code",
   "execution_count": null,
   "id": "eb1bd106",
   "metadata": {},
   "outputs": [],
   "source": [
    "# 피클(pickle)\n",
    "'''\n",
    "파이썬의 객체(리스트, 딕셔너리, 클래스 인스턴스 등)을 그대로 파일에 저장하거나 다시 부러올 수 있는 기능\n",
    "일판 파일은 텍스트만 저장\n",
    "피클은 파이썬 객체 그대로 저장 가능\n",
    "'''"
   ]
  },
  {
   "cell_type": "code",
   "execution_count": null,
   "id": "c3e87dd2",
   "metadata": {},
   "outputs": [],
   "source": [
    "# 피클 사용지 주의사항\n",
    "'''\n",
    "작업\t파일 모드\n",
    "저장\t\"wb\" (write binary)\n",
    "읽기\t\"rb\" (read binary)\n",
    "'''"
   ]
  },
  {
   "cell_type": "code",
   "execution_count": 15,
   "id": "f2428603",
   "metadata": {},
   "outputs": [
    {
     "name": "stdout",
     "output_type": "stream",
     "text": [
      "객체 저장 완료\n"
     ]
    }
   ],
   "source": [
    "# 간단한 객체 저장하기(피클링)\n",
    "import pickle\n",
    "data = {'name': '맹구','age': 13, 'hobby':['게임','먹방']}\n",
    "with open('data.pkl', 'wb') as f:\n",
    "    pickle.dump(data, f)\n",
    "\n",
    "print(\"객체 저장 완료\")\n",
    "                                        "
   ]
  },
  {
   "cell_type": "code",
   "execution_count": 20,
   "id": "a8bd6042",
   "metadata": {},
   "outputs": [
    {
     "name": "stdout",
     "output_type": "stream",
     "text": [
      "불러온 데이터: {'name': '맹구', 'age': 13, 'hobby': ['게임', '먹방']}\n",
      "이름: 맹구\n"
     ]
    }
   ],
   "source": [
    "# 저장된 객체 불러오기(언피클링)\n",
    "with open('data.pkl', 'rb') as f:\n",
    "    loaded = pickle.load(f)\n",
    "print('불러온 데이터:',loaded)\n",
    "print('이름:', loaded['name'])"
   ]
  },
  {
   "cell_type": "code",
   "execution_count": 22,
   "id": "2e4a00ae",
   "metadata": {},
   "outputs": [
    {
     "name": "stdout",
     "output_type": "stream",
     "text": [
      "내 점수: [90, 85, 77, 100, 88]\n"
     ]
    }
   ],
   "source": [
    "# 리스트 객체 저장 & 불러오기\n",
    "import pickle\n",
    "\n",
    "scores=[90,85,77,100,88]\n",
    "\n",
    "with open('scores.pkl','wb') as f:\n",
    "    pickle.dump(scores, f)\n",
    "    \n",
    "# 불러오기\n",
    "\n",
    "with open('scores.pkl', 'rb') as f:\n",
    "    my_scores = pickle.load(f)\n",
    "    \n",
    "print('내 점수:',my_scores)"
   ]
  },
  {
   "cell_type": "code",
   "execution_count": 24,
   "id": "256157ec",
   "metadata": {},
   "outputs": [
    {
     "name": "stdout",
     "output_type": "stream",
     "text": [
      "맹구 학생, 2 학년\n"
     ]
    }
   ],
   "source": [
    "# 사용자 정의 클래스 객체 저장하기\n",
    "class Student:\n",
    "    def __init__(self, name, grade):\n",
    "        self.name = name\n",
    "        self.grade = grade\n",
    "        \n",
    "    def __str__(self):\n",
    "        return f'{self.name} 학생, {self.grade} 학년'\n",
    "\n",
    "# 객체생성\n",
    "s1 = Student('맹구', 2)\n",
    "\n",
    "# 저장\n",
    "with open('student.pkl', 'wb') as f:\n",
    "    pickle.dump(s1, f)\n",
    "    \n",
    "# 불러오기\n",
    "with open('student.pkl', 'rb') as f:\n",
    "    student = pickle.load(f)\n",
    "\n",
    "print(student) # __str__ 자동 호출\n",
    "    "
   ]
  },
  {
   "cell_type": "code",
   "execution_count": null,
   "id": "a8b68b23",
   "metadata": {},
   "outputs": [],
   "source": [
    "'''\n",
    "프로그램 종료 시 객체 상태를 저장해두고 다음에 그대로 복구하고 싶을 때\n",
    "\n",
    "게임 저장/불러오기, 설정 저장 등에 자주 사용\n",
    "'''"
   ]
  },
  {
   "cell_type": "code",
   "execution_count": null,
   "id": "4b7b5be0",
   "metadata": {},
   "outputs": [],
   "source": [
    "'''\n",
    "피클 관련 주요 함수 요약\n",
    "\n",
    "함수\t설명\n",
    "pickle.dump(obj, file)\t객체를 파일에 저장\n",
    "pickle.load(file)\t파일에서 객체 불러오기\n",
    "파일 모드\t\"wb\" 저장 / \"rb\" 불러오기\n",
    "'''"
   ]
  },
  {
   "cell_type": "code",
   "execution_count": null,
   "id": "f2791374",
   "metadata": {},
   "outputs": [],
   "source": [
    "# CSV\n",
    "'''\n",
    "CSV = Comma Separated Values\n",
    "즉, 데이터를 쉼표(,)로 구분해 저장한 텍스트 파일\n",
    "\n",
    "import csv \n",
    "\n",
    "'''"
   ]
  },
  {
   "cell_type": "code",
   "execution_count": null,
   "id": "d116d52e",
   "metadata": {},
   "outputs": [],
   "source": [
    "# 1단계 : 리스트 형태로 저장 (csv.writer)\n",
    "import csv\n",
    "\n",
    "with open(\"members.csv\", \"w\", newline=\"\", encoding=\"utf-8\") as f:\n",
    "    writer = csv.writer(f)\n",
    "    writer.writerow([\"이름\", \"나이\", \"이메일\"])\n",
    "    writer.writerow([\"맹구\", 13, \"maeng@zzz.com\"])\n",
    "    writer.writerow([\"철수\", 12, \"chulsoo@abc.com\"])\n",
    "    \n",
    "'''\n",
    "함수\t설명\n",
    "writerow()\t한 줄씩 저장\n",
    "newline=\"\"\t줄 간격 이상 방지 (Windows에서 꼭 필요)\n",
    "'''\n"
   ]
  },
  {
   "cell_type": "code",
   "execution_count": null,
   "id": "d4a9437b",
   "metadata": {},
   "outputs": [],
   "source": [
    "# 2단계 : 리스트 형태로 읽기 (csv.reader)\n",
    "\n",
    "with open(\"members.csv\", \"r\", encoding=\"utf-8\") as f:\n",
    "    reader = csv.reader(f)\n",
    "    for row in reader:\n",
    "        print(\"읽은 행:\", row)\n",
    "        \n",
    "# 각 row는 리스트로 들어오고, 첫 번째 줄은 보통 헤더(열 제목)"
   ]
  },
  {
   "cell_type": "code",
   "execution_count": null,
   "id": "304b983a",
   "metadata": {},
   "outputs": [],
   "source": [
    "# 3단계 : 딕셔너리 형태로 저장 (csv.DictWriter)\n",
    "\n",
    "with open(\"members_dict.csv\", \"w\", newline=\"\", encoding=\"utf-8\") as f:\n",
    "    fieldnames = [\"이름\", \"나이\", \"이메일\"]\n",
    "    writer = csv.DictWriter(f, fieldnames=fieldnames)\n",
    "\n",
    "    writer.writeheader()  # 열 제목\n",
    "    writer.writerow({\"이름\": \"맹구\", \"나이\": 13, \"이메일\": \"maeng@zzz.com\"})\n",
    "    writer.writerow({\"이름\": \"철수\", \"나이\": 12, \"이메일\": \"chulsoo@abc.com\"})\n",
    "    \n"
   ]
  },
  {
   "cell_type": "code",
   "execution_count": null,
   "id": "a4664741",
   "metadata": {},
   "outputs": [],
   "source": [
    "# 4단계 : 딕셔너리 형태로 읽기 (csv.DictReader)\n",
    "\n",
    "with open(\"members_dict.csv\", \"r\", encoding=\"utf-8\") as f:\n",
    "    reader = csv.DictReader(f)\n",
    "    for row in reader:\n",
    "        print(row[\"이름\"], row[\"이메일\"])\n",
    "        "
   ]
  },
  {
   "cell_type": "code",
   "execution_count": null,
   "id": "9cfa496d",
   "metadata": {},
   "outputs": [],
   "source": [
    "# 필드 불일치 대응 (PDF에서 나왔던 내용)\n",
    "'''\n",
    "상황\t대응 방법\n",
    "필드가 더 많음\trestkey로 나머지 필드 처리\n",
    "필드가 부족함\trestval로 빈 값 채움\n",
    "필드 외 값 있음\textrasaction='ignore' or 'raise' 사용\n",
    "'''\n",
    "\n",
    "# csv.DictReader(f, fieldnames=..., restkey=\"기타\", restval=\"없음\")"
   ]
  },
  {
   "cell_type": "code",
   "execution_count": null,
   "id": "1ec446c5",
   "metadata": {},
   "outputs": [],
   "source": [
    "'''\n",
    "작업 | 방식 | 함수\n",
    "리스트 저장 | csv.writer | writerow, writerows\n",
    "리스트 읽기 | csv.reader | for row in reader\n",
    "딕셔너리 저장 | csv.DictWriter | writeheader, writerow\n",
    "딕셔너리 읽기 | csv.DictReader | row[\"필드명\"] 접근\n",
    "'''"
   ]
  },
  {
   "cell_type": "code",
   "execution_count": null,
   "id": "3caa55a3",
   "metadata": {},
   "outputs": [],
   "source": [
    "# json\n",
    "'''\n",
    "JavaScript Object Notation\n",
    "데이터를 키-값 구조로 저장하는 텍스트 포맷\n",
    "파이썬의 딕셔너리와 아주 유사\n",
    "\n",
    "import json\n",
    "\n",
    "'''\n"
   ]
  },
  {
   "cell_type": "code",
   "execution_count": null,
   "id": "987e3457",
   "metadata": {},
   "outputs": [],
   "source": [
    "# 1단계 : JSON 저장(json.dump)\n",
    "\n",
    "import json\n",
    "\n",
    "data = {\n",
    "    \"이름\": \"맹구\",\n",
    "    \"나이\": 13,\n",
    "    \"취미\": [\"먹기\", \"자기\", \"게임\"]\n",
    "}\n",
    "\n",
    "with open(\"data.json\", \"w\", encoding=\"utf-8\") as f:\n",
    "    json.dump(data, f, ensure_ascii=False, indent=2)\n",
    "\n",
    "'''\n",
    "옵션\t설명\n",
    "ensure_ascii=False\t한글이 깨지지 않게 저장\n",
    "indent=2\t보기 좋게 들여쓰기 (pretty format)\n",
    "\n",
    "'''"
   ]
  },
  {
   "cell_type": "code",
   "execution_count": null,
   "id": "04581694",
   "metadata": {},
   "outputs": [],
   "source": [
    "# 2단계 : json 불러오기(json.load)\n",
    "\n",
    "with open(\"data.json\", \"r\", encoding=\"utf-8\") as f:\n",
    "    loaded = json.load(f)\n",
    "\n",
    "print(\"이름:\", loaded[\"이름\"])\n",
    "print(\"취미 리스트:\", loaded[\"취미\"])\n"
   ]
  },
  {
   "cell_type": "code",
   "execution_count": null,
   "id": "6ed1ada8",
   "metadata": {},
   "outputs": [],
   "source": [
    "# 3단계 : json 문자열 -> 파싱(json.loads)\n",
    "\n",
    "json_str = '{\"이름\": \"맹구\", \"나이\": 13}'\n",
    "data = json.loads(json_str)\n",
    "print(data[\"나이\"])\n"
   ]
  },
  {
   "cell_type": "code",
   "execution_count": null,
   "id": "9cd5ab58",
   "metadata": {},
   "outputs": [],
   "source": [
    "# 4단계 : json 객체 -> 문자열 변환 (json.dumps)\n",
    "\n",
    "user = {\"id\": \"maeng9\", \"level\": 3}\n",
    "json_string = json.dumps(user, ensure_ascii=False)\n",
    "print(json_string)"
   ]
  },
  {
   "cell_type": "code",
   "execution_count": null,
   "id": "44f2cd10",
   "metadata": {},
   "outputs": [],
   "source": [
    "# 리스트 전체 저장\n",
    "\n",
    "users = [\n",
    "    {\"이름\": \"맹구\", \"나이\": 13},\n",
    "    {\"이름\": \"철수\", \"나이\": 12}\n",
    "]\n",
    "\n",
    "with open(\"users.json\", \"w\", encoding=\"utf-8\") as f:\n",
    "    json.dump(users, f, ensure_ascii=False, indent=2)\n"
   ]
  },
  {
   "cell_type": "code",
   "execution_count": null,
   "id": "265dc10e",
   "metadata": {},
   "outputs": [],
   "source": [
    "'''\n",
    "JSON vs CSV 차이 요약\n",
    "항목\tCSV\tJSON\n",
    "구조\t행/열 기반\t중첩 가능, 유연한 구조\n",
    "읽기/쓰기\tcsv 모듈\tjson 모듈\n",
    "사용 용도\t표 형태, 엑셀 호환\t설정파일, API 데이터 등\n",
    "\n",
    "'''"
   ]
  },
  {
   "cell_type": "code",
   "execution_count": null,
   "id": "a02b9651",
   "metadata": {},
   "outputs": [],
   "source": [
    "'''\n",
    "HDF5란?\n",
    "Hierarchical Data Format 5\n",
    "대용량 과학 데이터 저장을 위해 만들어진 고성능 포맷이야!\n",
    "NASA, 연구소, 머신러닝에서도 많이 씀\n",
    "이미지, 센서데이터, 시계열 데이터 등 저장하기에 최적화\n",
    "'''"
   ]
  },
  {
   "cell_type": "code",
   "execution_count": null,
   "id": "017ca610",
   "metadata": {},
   "outputs": [],
   "source": [
    "'''\n",
    "파이썬에서 HDF5 다루는 방법\n",
    "\n",
    "방법               | 설명\n",
    "pandas.to_hdf()   | 판다스에서 DataFrame을 HDF5로 저장\n",
    "pandas.read_hdf() | HDF5 파일을 다시 DataFrame으로 불러옴\n",
    "h5py 모듈          | 더 세밀하게 다루는 모듈 (배열 단위 등)\n",
    "'''\n"
   ]
  },
  {
   "cell_type": "code",
   "execution_count": null,
   "id": "51134747",
   "metadata": {},
   "outputs": [],
   "source": [
    "#  1단계: 판다스 DataFrame → HDF5 저장\n",
    "\n",
    "import pandas as pd\n",
    "\n",
    "df = pd.DataFrame({\n",
    "    \"이름\": [\"맹구\", \"철수\", \"짱구\"],\n",
    "    \"나이\": [13, 12, 5]\n",
    "})\n",
    "\n",
    "df.to_hdf(\"data.h5\", key=\"고객\", mode=\"w\")\n",
    "print(\"HDF5 파일 저장 완료!\")\n",
    "\n",
    "'''\n",
    "key\t저장할 이름 (하위 그룹 이름)\n",
    "mode=\"w\"\t덮어쓰기 저장 (없으면 생성됨)\n",
    "'''"
   ]
  },
  {
   "cell_type": "code",
   "execution_count": 25,
   "id": "4248986a",
   "metadata": {},
   "outputs": [],
   "source": [
    "# 2단계: HDF5 파일에서 다시 읽기\n",
    "\n",
    "df2 = pd.read_hdf(\"data.h5\", key=\"고객\")\n",
    "print(df2)\n",
    "\n",
    "# 원래 저장했던 key 이름으로 불러와야 함!"
   ]
  },
  {
   "cell_type": "code",
   "execution_count": null,
   "id": "62026707",
   "metadata": {},
   "outputs": [],
   "source": [
    "# 3단계: 여러 DataFrame 저장 (key로 구분)\n",
    "\n",
    "df1 = pd.DataFrame({\"값\": [1, 2, 3]})\n",
    "df2 = pd.DataFrame({\"값\": [100, 200, 300]})\n",
    "\n",
    "with pd.HDFStore(\"multi_data.h5\", mode=\"w\") as store:\n",
    "    store.put(\"첫번째\", df1)\n",
    "    store.put(\"두번째\", df2)\n",
    "\n",
    "# 불러오기\n",
    "with pd.HDFStore(\"multi_data.h5\", mode=\"r\") as store:\n",
    "    print(\"첫 번째 DF:\\n\", store[\"첫번째\"])\n",
    "    print(\"두 번째 DF:\\n\", store[\"두번째\"])\n",
    "\n",
    "# HDFStore는 폴더처럼 작동해서 여러 그룹(key)을 저장할 수 있음"
   ]
  },
  {
   "cell_type": "code",
   "execution_count": null,
   "id": "76f7b8bd",
   "metadata": {},
   "outputs": [],
   "source": [
    "'''\n",
    "HDF5 뷰어 도구 (PDF에 언급된 HDFView)\n",
    "\n",
    "https://www.hdfgroup.org/downloads/hdfview\n",
    "\n",
    "'''"
   ]
  },
  {
   "cell_type": "code",
   "execution_count": null,
   "id": "6bf70ff6",
   "metadata": {},
   "outputs": [],
   "source": [
    "'''\n",
    "항목\t설명\n",
    ".to_hdf()\tDataFrame을 HDF5로 저장\n",
    ".read_hdf()\tHDF5에서 불러오기\n",
    "HDFStore\t여러 key 저장 가능\n",
    "사용 이유\t대용량, 고속, 계층적 구조\n",
    "파일 확장자\t.h5, .hdf5\n",
    "'''"
   ]
  },
  {
   "cell_type": "code",
   "execution_count": null,
   "id": "6db621da",
   "metadata": {},
   "outputs": [],
   "source": [
    "# 고객관리 프로젝트"
   ]
  },
  {
   "cell_type": "code",
   "execution_count": null,
   "id": "4f20f005",
   "metadata": {},
   "outputs": [],
   "source": [
    "# 구성\n",
    "class Customer:\n",
    "    def __init__(self, name, phone, email, age, grade, etc):\n",
    "        ...\n",
    "\n",
    "    def to_list_style(self):  # 예: ['맹구', '010-1234-5678', 'm@naver.com', 13, 3, '불꽃남자']\n",
    "        ...\n",
    "\n",
    "    def as_dic(self):  # csv용 딕셔너리 반환\n",
    "        ...\n"
   ]
  },
  {
   "cell_type": "code",
   "execution_count": null,
   "id": "a8791157",
   "metadata": {
    "collapsed": true
   },
   "outputs": [],
   "source": [
    "# 주요 기능 (함수별로 분리)\n",
    "'''\n",
    "번호 | 기능 | 설명\n",
    "0 | load_customers() | 프로그램 시작 시 txt 파일에서 데이터 불러오기\n",
    "1 | fn1_insert_customer_info() | 고객 1명 입력 후 리스트에 추가\n",
    "2 | fn2_print_customers() | 전체 고객 출력\n",
    "3 | fn3_delete_customer() | 이름으로 삭제\n",
    "4 | fn4_search_customer() | 이름으로 검색\n",
    "5 | fn5_save_customer_csv() | csv 형식으로 내보내기\n",
    "9 | fn9_save_customer_txt() | 종료 시 txt 파일 백업 저장\n",
    "'''\n"
   ]
  },
  {
   "cell_type": "code",
   "execution_count": null,
   "id": "9f3ecaef",
   "metadata": {},
   "outputs": [],
   "source": [
    "# main() 함수 구조\n",
    "def main():\n",
    "    customer_list = load_customers()\n",
    "\n",
    "    while True:\n",
    "        print(\"1:입력 | 2:전체출력 | 3:삭제 | 4:이름찾기 | 5:CSV저장 | 9:종료\")\n",
    "        fn = int(input(\"메뉴선택 : \"))\n",
    "\n",
    "        if fn == 1:\n",
    "            customer = fn1_insert_customer_info()\n",
    "            customer_list.append(customer)\n",
    "        elif fn == 2:\n",
    "            fn2_print_customers(customer_list)\n",
    "        elif fn == 3:\n",
    "            fn3_delete_customer(customer_list)\n",
    "        elif fn == 4:\n",
    "            fn4_search_customer(customer_list)\n",
    "        elif fn == 5:\n",
    "            fn5_save_customer_csv(customer_list)\n",
    "        elif fn == 9:\n",
    "            fn9_save_customer_txt(customer_list)\n",
    "            break\n",
    "\n"
   ]
  },
  {
   "cell_type": "code",
   "execution_count": null,
   "id": "584159c8",
   "metadata": {},
   "outputs": [],
   "source": [
    "# 1단계 전체 구조 \n",
    "'''\n",
    "파일 구조 (단순 텍스트 기반)\n",
    "고객 정보는 data/ch09_customers.txt에 저장\n",
    "\n",
    "시작할 때: 파일 불러오기 → 리스트로 변환\n",
    "\n",
    "종료할 때: 리스트 내용을 다시 txt에 저장\n",
    "'''\n"
   ]
  },
  {
   "cell_type": "code",
   "execution_count": null,
   "id": "9ef7982e",
   "metadata": {},
   "outputs": [],
   "source": [
    "# Customer 클래스\n",
    "class Customer:\n",
    "    def __init__(self, name, phone, email, age, grade, etc):\n",
    "        self.name = name\n",
    "        self.phone = phone\n",
    "        self.email = email\n",
    "        self.age = int(age)\n",
    "        self.grade = int(grade)\n",
    "        self.etc = etc\n",
    "\n",
    "    def to_list_style(self):\n",
    "        return [self.name, self.phone, self.email, str(self.age), str(self.grade), self.etc]\n",
    "\n",
    "    def as_dic(self):\n",
    "        return {\n",
    "            \"이름\": self.name,\n",
    "            \"전화\": self.phone,\n",
    "            \"이메일\": self.email,\n",
    "            \"나이\": self.age,\n",
    "            \"등급\": self.grade,\n",
    "            \"기타\": self.etc\n",
    "        }\n",
    "\n",
    "    def __str__(self):\n",
    "        return f\"{self.name} | {self.phone} | {self.email} | {self.age}세 | 등급: {self.grade} | {self.etc}\"\n"
   ]
  },
  {
   "cell_type": "code",
   "execution_count": null,
   "id": "20b1fddd",
   "metadata": {},
   "outputs": [],
   "source": [
    "# 2단계 : 주요 기능 함수 설계\n",
    "# 0. load_customers()\n",
    "\n",
    "'''\n",
    "파일이 없으면 새로 만들고 빈 리스트 반환\n",
    "\n",
    "있으면 txt 읽어서 Customer 리스트 반환\n",
    "'''\n",
    "import os\n",
    "\n",
    "def load_customers():\n",
    "    path = \"data/ch09_customers.txt\"\n",
    "    customer_list = []\n",
    "\n",
    "    if not os.path.exists(path):\n",
    "        open(path, \"w\", encoding=\"utf-8\").close()\n",
    "        return []\n",
    "\n",
    "    with open(path, \"r\", encoding=\"utf-8\") as f:\n",
    "        for line in f:\n",
    "            parts = line.strip().split(\",\")\n",
    "            if len(parts) == 6:\n",
    "                customer_list.append(Customer(*parts))\n",
    "    return customer_list\n",
    "\n"
   ]
  },
  {
   "cell_type": "code",
   "execution_count": null,
   "id": "2767a41c",
   "metadata": {},
   "outputs": [],
   "source": [
    "# 1. fn1_insert_customer_info()\n",
    "\n",
    "def fn1_insert_customer_info():\n",
    "    name = input(\"이름: \")\n",
    "    phone = input(\"전화번호: \")\n",
    "    email = input(\"이메일: \")\n",
    "    age = input(\"나이: \")\n",
    "    grade = input(\"등급(1~5): \")\n",
    "    etc = input(\"기타사항: \")\n",
    "\n",
    "    return Customer(name, phone, email, age, grade, etc)\n",
    "\n"
   ]
  },
  {
   "cell_type": "code",
   "execution_count": null,
   "id": "baa7895a",
   "metadata": {},
   "outputs": [],
   "source": [
    "# 2. fn2_print_customers(customer_list)\n",
    "\n",
    "def fn2_print_customers(customer_list):\n",
    "    for idx, customer in enumerate(customer_list, start=1):\n",
    "        print(f\"[{idx}] {customer}\")\n"
   ]
  },
  {
   "cell_type": "code",
   "execution_count": null,
   "id": "12f83c39",
   "metadata": {},
   "outputs": [],
   "source": [
    "# 3. fn3_delete_customer(customer_list)\n",
    "\n",
    "def fn3_delete_customer(customer_list):\n",
    "    target = input(\"삭제할 고객 이름: \")\n",
    "    removed = [c for c in customer_list if c.name != target]\n",
    "    if len(removed) < len(customer_list):\n",
    "        print(f\"{target} 삭제 완료.\")\n",
    "    else:\n",
    "        print(\"해당 이름 없음.\")\n",
    "    return removed\n"
   ]
  },
  {
   "cell_type": "code",
   "execution_count": null,
   "id": "c1d234b4",
   "metadata": {},
   "outputs": [],
   "source": [
    "# 4. fn4_search_customer(customer_list)\n",
    "\n",
    "def fn4_search_customer(customer_list):\n",
    "    keyword = input(\"검색할 고객 이름: \")\n",
    "    for c in customer_list:\n",
    "        if keyword in c.name:\n",
    "            print(c)\n"
   ]
  },
  {
   "cell_type": "code",
   "execution_count": null,
   "id": "9856912c",
   "metadata": {},
   "outputs": [],
   "source": [
    "# 5. fn5_save_customer_csv(customer_list)\n",
    "\n",
    "import csv\n",
    "\n",
    "def fn5_save_customer_csv(customer_list):\n",
    "    with open(\"customers.csv\", \"w\", newline=\"\", encoding=\"utf-8\") as f:\n",
    "        writer = csv.DictWriter(f, fieldnames=[\"이름\", \"전화\", \"이메일\", \"나이\", \"등급\", \"기타\"])\n",
    "        writer.writeheader()\n",
    "        for c in customer_list:\n",
    "            writer.writerow(c.as_dic())\n",
    "    print(\"CSV 저장 완료.\")\n"
   ]
  },
  {
   "cell_type": "code",
   "execution_count": null,
   "id": "21e1c3f3",
   "metadata": {},
   "outputs": [],
   "source": [
    "# 6. fn9_save_customer_txt(customer_list)\n",
    "\n",
    "def fn9_save_customer_txt(customer_list):\n",
    "    with open(\"data/ch09_customers.txt\", \"w\", encoding=\"utf-8\") as f:\n",
    "        for c in customer_list:\n",
    "            f.write(\",\".join(c.to_list_style()) + \"\\n\")\n",
    "    print(\"종료 전 데이터 저장 완료.\")\n"
   ]
  },
  {
   "cell_type": "code",
   "execution_count": null,
   "id": "6eb11ce1",
   "metadata": {},
   "outputs": [],
   "source": [
    "#  main() 루프 구성\n",
    "\n",
    "def main():\n",
    "    customer_list = load_customers()\n",
    "\n",
    "    while True:\n",
    "        print(\"1:입력 | 2:전체출력 | 3:삭제 | 4:이름찾기 | 5:CSV저장 | 9:종료\")\n",
    "        choice = input(\"메뉴 선택: \")\n",
    "\n",
    "        if choice == \"1\":\n",
    "            customer = fn1_insert_customer_info()\n",
    "            customer_list.append(customer)\n",
    "        elif choice == \"2\":\n",
    "            fn2_print_customers(customer_list)\n",
    "        elif choice == \"3\":\n",
    "            customer_list = fn3_delete_customer(customer_list)\n",
    "        elif choice == \"4\":\n",
    "            fn4_search_customer(customer_list)\n",
    "        elif choice == \"5\":\n",
    "            fn5_save_customer_csv(customer_list)\n",
    "        elif choice == \"9\":\n",
    "            fn9_save_customer_txt(customer_list)\n",
    "            break\n",
    "        else:\n",
    "            print(\"잘못된 입력입니다.\")\n",
    "\n",
    "if __name__ == \"__main__\":\n",
    "    main()\n"
   ]
  },
  {
   "cell_type": "code",
   "execution_count": null,
   "id": "3a7dc922",
   "metadata": {},
   "outputs": [],
   "source": [
    "# 250423 본강의\n",
    "\n",
    "\n",
    "\n"
   ]
  },
  {
   "cell_type": "markdown",
   "id": "e1f312ff",
   "metadata": {},
   "source": [
    "# 5절. hdf5(h5)파일 쓰기/읽기\n",
    "- h5py 사용\n",
    "## 5.1 hdf5 파일 쓰기\n",
    "- 딕셔너리 리스트를 hdf5파일에 쓰기\n",
    "- 데이터프레임을 hdf5파일에 쓰기"
   ]
  },
  {
   "cell_type": "code",
   "execution_count": 3,
   "id": "9afab2c3",
   "metadata": {
    "scrolled": true
   },
   "outputs": [
    {
     "data": {
      "text/html": [
       "<div>\n",
       "<style scoped>\n",
       "    .dataframe tbody tr th:only-of-type {\n",
       "        vertical-align: middle;\n",
       "    }\n",
       "\n",
       "    .dataframe tbody tr th {\n",
       "        vertical-align: top;\n",
       "    }\n",
       "\n",
       "    .dataframe thead th {\n",
       "        text-align: right;\n",
       "    }\n",
       "</style>\n",
       "<table border=\"1\" class=\"dataframe\">\n",
       "  <thead>\n",
       "    <tr style=\"text-align: right;\">\n",
       "      <th></th>\n",
       "      <th>sepal_length</th>\n",
       "      <th>sepal_width</th>\n",
       "      <th>petal_length</th>\n",
       "      <th>petal_width</th>\n",
       "      <th>species</th>\n",
       "    </tr>\n",
       "  </thead>\n",
       "  <tbody>\n",
       "    <tr>\n",
       "      <th>0</th>\n",
       "      <td>5.1</td>\n",
       "      <td>3.5</td>\n",
       "      <td>1.4</td>\n",
       "      <td>0.2</td>\n",
       "      <td>setosa</td>\n",
       "    </tr>\n",
       "    <tr>\n",
       "      <th>50</th>\n",
       "      <td>7.0</td>\n",
       "      <td>3.2</td>\n",
       "      <td>4.7</td>\n",
       "      <td>1.4</td>\n",
       "      <td>versicolor</td>\n",
       "    </tr>\n",
       "    <tr>\n",
       "      <th>100</th>\n",
       "      <td>6.3</td>\n",
       "      <td>3.3</td>\n",
       "      <td>6.0</td>\n",
       "      <td>2.5</td>\n",
       "      <td>virginica</td>\n",
       "    </tr>\n",
       "  </tbody>\n",
       "</table>\n",
       "</div>"
      ],
      "text/plain": [
       "     sepal_length  sepal_width  petal_length  petal_width     species\n",
       "0             5.1          3.5           1.4          0.2      setosa\n",
       "50            7.0          3.2           4.7          1.4  versicolor\n",
       "100           6.3          3.3           6.0          2.5   virginica"
      ]
     },
     "metadata": {},
     "output_type": "display_data"
    }
   ],
   "source": [
    "# seaborn 패키지. 학습을 위한 데이터셋 다수 \n",
    "import seaborn as sns\n",
    "iris_df = sns.load_dataset(\"iris\")\n",
    "display(iris_df[::50]) # print가 아닌 display로 출력"
   ]
  },
  {
   "cell_type": "code",
   "execution_count": 10,
   "id": "a3e17871",
   "metadata": {},
   "outputs": [],
   "source": [
    "iris_df.to_hdf(\"data/ch09_iris.hdf5\", key='iris')"
   ]
  },
  {
   "cell_type": "code",
   "execution_count": 4,
   "id": "de291a29",
   "metadata": {},
   "outputs": [
    {
     "data": {
      "text/plain": [
       "(dict, pandas.core.frame.DataFrame)"
      ]
     },
     "execution_count": 4,
     "metadata": {},
     "output_type": "execute_result"
    }
   ],
   "source": [
    "iris_dic = iris_df.to_dict()\n",
    "type(iris_dic), type(iris_df)"
   ]
  },
  {
   "cell_type": "code",
   "execution_count": 5,
   "id": "0884bcda",
   "metadata": {},
   "outputs": [
    {
     "data": {
      "text/plain": [
       "dict_keys(['sepal_length', 'sepal_width', 'petal_length', 'petal_width', 'species'])"
      ]
     },
     "execution_count": 5,
     "metadata": {},
     "output_type": "execute_result"
    }
   ],
   "source": [
    "iris_dic.keys()"
   ]
  },
  {
   "cell_type": "code",
   "execution_count": 6,
   "id": "314e9631",
   "metadata": {},
   "outputs": [
    {
     "name": "stdout",
     "output_type": "stream",
     "text": [
      "그룹명 : sepal_length\n",
      "그룹명 : sepal_width\n",
      "그룹명 : petal_length\n",
      "그룹명 : petal_width\n",
      "그룹명 : species\n"
     ]
    }
   ],
   "source": [
    "for group, value in iris_dic.items():\n",
    "    print('그룹명 :', group)\n",
    "    # print(value)"
   ]
  },
  {
   "cell_type": "code",
   "execution_count": 7,
   "id": "5389e3c7",
   "metadata": {
    "collapsed": true
   },
   "outputs": [
    {
     "name": "stdout",
     "output_type": "stream",
     "text": [
      "그룹명 : sepal_length\n",
      "0:5.1\t1:4.9\t2:4.7\t3:4.6\t4:5.0\t5:5.4\t6:4.6\t7:5.0\t8:4.4\t9:4.9\t10:5.4\t11:4.8\t12:4.8\t13:4.3\t14:5.8\t15:5.7\t16:5.4\t17:5.1\t18:5.7\t19:5.1\t20:5.4\t21:5.1\t22:4.6\t23:5.1\t24:4.8\t25:5.0\t26:5.0\t27:5.2\t28:5.2\t29:4.7\t30:4.8\t31:5.4\t32:5.2\t33:5.5\t34:4.9\t35:5.0\t36:5.5\t37:4.9\t38:4.4\t39:5.1\t40:5.0\t41:4.5\t42:4.4\t43:5.0\t44:5.1\t45:4.8\t46:5.1\t47:4.6\t48:5.3\t49:5.0\t50:7.0\t51:6.4\t52:6.9\t53:5.5\t54:6.5\t55:5.7\t56:6.3\t57:4.9\t58:6.6\t59:5.2\t60:5.0\t61:5.9\t62:6.0\t63:6.1\t64:5.6\t65:6.7\t66:5.6\t67:5.8\t68:6.2\t69:5.6\t70:5.9\t71:6.1\t72:6.3\t73:6.1\t74:6.4\t75:6.6\t76:6.8\t77:6.7\t78:6.0\t79:5.7\t80:5.5\t81:5.5\t82:5.8\t83:6.0\t84:5.4\t85:6.0\t86:6.7\t87:6.3\t88:5.6\t89:5.5\t90:5.5\t91:6.1\t92:5.8\t93:5.0\t94:5.6\t95:5.7\t96:5.7\t97:6.2\t98:5.1\t99:5.7\t100:6.3\t101:5.8\t102:7.1\t103:6.3\t104:6.5\t105:7.6\t106:4.9\t107:7.3\t108:6.7\t109:7.2\t110:6.5\t111:6.4\t112:6.8\t113:5.7\t114:5.8\t115:6.4\t116:6.5\t117:7.7\t118:7.7\t119:6.0\t120:6.9\t121:5.6\t122:7.7\t123:6.3\t124:6.7\t125:7.2\t126:6.2\t127:6.1\t128:6.4\t129:7.2\t130:7.4\t131:7.9\t132:6.4\t133:6.3\t134:6.1\t135:7.7\t136:6.3\t137:6.4\t138:6.0\t139:6.9\t140:6.7\t141:6.9\t142:5.8\t143:6.8\t144:6.7\t145:6.7\t146:6.3\t147:6.5\t148:6.2\t149:5.9\t\n",
      "그룹명 : sepal_width\n",
      "0:3.5\t1:3.0\t2:3.2\t3:3.1\t4:3.6\t5:3.9\t6:3.4\t7:3.4\t8:2.9\t9:3.1\t10:3.7\t11:3.4\t12:3.0\t13:3.0\t14:4.0\t15:4.4\t16:3.9\t17:3.5\t18:3.8\t19:3.8\t20:3.4\t21:3.7\t22:3.6\t23:3.3\t24:3.4\t25:3.0\t26:3.4\t27:3.5\t28:3.4\t29:3.2\t30:3.1\t31:3.4\t32:4.1\t33:4.2\t34:3.1\t35:3.2\t36:3.5\t37:3.6\t38:3.0\t39:3.4\t40:3.5\t41:2.3\t42:3.2\t43:3.5\t44:3.8\t45:3.0\t46:3.8\t47:3.2\t48:3.7\t49:3.3\t50:3.2\t51:3.2\t52:3.1\t53:2.3\t54:2.8\t55:2.8\t56:3.3\t57:2.4\t58:2.9\t59:2.7\t60:2.0\t61:3.0\t62:2.2\t63:2.9\t64:2.9\t65:3.1\t66:3.0\t67:2.7\t68:2.2\t69:2.5\t70:3.2\t71:2.8\t72:2.5\t73:2.8\t74:2.9\t75:3.0\t76:2.8\t77:3.0\t78:2.9\t79:2.6\t80:2.4\t81:2.4\t82:2.7\t83:2.7\t84:3.0\t85:3.4\t86:3.1\t87:2.3\t88:3.0\t89:2.5\t90:2.6\t91:3.0\t92:2.6\t93:2.3\t94:2.7\t95:3.0\t96:2.9\t97:2.9\t98:2.5\t99:2.8\t100:3.3\t101:2.7\t102:3.0\t103:2.9\t104:3.0\t105:3.0\t106:2.5\t107:2.9\t108:2.5\t109:3.6\t110:3.2\t111:2.7\t112:3.0\t113:2.5\t114:2.8\t115:3.2\t116:3.0\t117:3.8\t118:2.6\t119:2.2\t120:3.2\t121:2.8\t122:2.8\t123:2.7\t124:3.3\t125:3.2\t126:2.8\t127:3.0\t128:2.8\t129:3.0\t130:2.8\t131:3.8\t132:2.8\t133:2.8\t134:2.6\t135:3.0\t136:3.4\t137:3.1\t138:3.0\t139:3.1\t140:3.1\t141:3.1\t142:2.7\t143:3.2\t144:3.3\t145:3.0\t146:2.5\t147:3.0\t148:3.4\t149:3.0\t\n",
      "그룹명 : petal_length\n",
      "0:1.4\t1:1.4\t2:1.3\t3:1.5\t4:1.4\t5:1.7\t6:1.4\t7:1.5\t8:1.4\t9:1.5\t10:1.5\t11:1.6\t12:1.4\t13:1.1\t14:1.2\t15:1.5\t16:1.3\t17:1.4\t18:1.7\t19:1.5\t20:1.7\t21:1.5\t22:1.0\t23:1.7\t24:1.9\t25:1.6\t26:1.6\t27:1.5\t28:1.4\t29:1.6\t30:1.6\t31:1.5\t32:1.5\t33:1.4\t34:1.5\t35:1.2\t36:1.3\t37:1.4\t38:1.3\t39:1.5\t40:1.3\t41:1.3\t42:1.3\t43:1.6\t44:1.9\t45:1.4\t46:1.6\t47:1.4\t48:1.5\t49:1.4\t50:4.7\t51:4.5\t52:4.9\t53:4.0\t54:4.6\t55:4.5\t56:4.7\t57:3.3\t58:4.6\t59:3.9\t60:3.5\t61:4.2\t62:4.0\t63:4.7\t64:3.6\t65:4.4\t66:4.5\t67:4.1\t68:4.5\t69:3.9\t70:4.8\t71:4.0\t72:4.9\t73:4.7\t74:4.3\t75:4.4\t76:4.8\t77:5.0\t78:4.5\t79:3.5\t80:3.8\t81:3.7\t82:3.9\t83:5.1\t84:4.5\t85:4.5\t86:4.7\t87:4.4\t88:4.1\t89:4.0\t90:4.4\t91:4.6\t92:4.0\t93:3.3\t94:4.2\t95:4.2\t96:4.2\t97:4.3\t98:3.0\t99:4.1\t100:6.0\t101:5.1\t102:5.9\t103:5.6\t104:5.8\t105:6.6\t106:4.5\t107:6.3\t108:5.8\t109:6.1\t110:5.1\t111:5.3\t112:5.5\t113:5.0\t114:5.1\t115:5.3\t116:5.5\t117:6.7\t118:6.9\t119:5.0\t120:5.7\t121:4.9\t122:6.7\t123:4.9\t124:5.7\t125:6.0\t126:4.8\t127:4.9\t128:5.6\t129:5.8\t130:6.1\t131:6.4\t132:5.6\t133:5.1\t134:5.6\t135:6.1\t136:5.6\t137:5.5\t138:4.8\t139:5.4\t140:5.6\t141:5.1\t142:5.1\t143:5.9\t144:5.7\t145:5.2\t146:5.0\t147:5.2\t148:5.4\t149:5.1\t\n",
      "그룹명 : petal_width\n",
      "0:0.2\t1:0.2\t2:0.2\t3:0.2\t4:0.2\t5:0.4\t6:0.3\t7:0.2\t8:0.2\t9:0.1\t10:0.2\t11:0.2\t12:0.1\t13:0.1\t14:0.2\t15:0.4\t16:0.4\t17:0.3\t18:0.3\t19:0.3\t20:0.2\t21:0.4\t22:0.2\t23:0.5\t24:0.2\t25:0.2\t26:0.4\t27:0.2\t28:0.2\t29:0.2\t30:0.2\t31:0.4\t32:0.1\t33:0.2\t34:0.2\t35:0.2\t36:0.2\t37:0.1\t38:0.2\t39:0.2\t40:0.3\t41:0.3\t42:0.2\t43:0.6\t44:0.4\t45:0.3\t46:0.2\t47:0.2\t48:0.2\t49:0.2\t50:1.4\t51:1.5\t52:1.5\t53:1.3\t54:1.5\t55:1.3\t56:1.6\t57:1.0\t58:1.3\t59:1.4\t60:1.0\t61:1.5\t62:1.0\t63:1.4\t64:1.3\t65:1.4\t66:1.5\t67:1.0\t68:1.5\t69:1.1\t70:1.8\t71:1.3\t72:1.5\t73:1.2\t74:1.3\t75:1.4\t76:1.4\t77:1.7\t78:1.5\t79:1.0\t80:1.1\t81:1.0\t82:1.2\t83:1.6\t84:1.5\t85:1.6\t86:1.5\t87:1.3\t88:1.3\t89:1.3\t90:1.2\t91:1.4\t92:1.2\t93:1.0\t94:1.3\t95:1.2\t96:1.3\t97:1.3\t98:1.1\t99:1.3\t100:2.5\t101:1.9\t102:2.1\t103:1.8\t104:2.2\t105:2.1\t106:1.7\t107:1.8\t108:1.8\t109:2.5\t110:2.0\t111:1.9\t112:2.1\t113:2.0\t114:2.4\t115:2.3\t116:1.8\t117:2.2\t118:2.3\t119:1.5\t120:2.3\t121:2.0\t122:2.0\t123:1.8\t124:2.1\t125:1.8\t126:1.8\t127:1.8\t128:2.1\t129:1.6\t130:1.9\t131:2.0\t132:2.2\t133:1.5\t134:1.4\t135:2.3\t136:2.4\t137:1.8\t138:1.8\t139:2.1\t140:2.4\t141:2.3\t142:1.9\t143:2.3\t144:2.5\t145:2.3\t146:1.9\t147:2.0\t148:2.3\t149:1.8\t\n",
      "그룹명 : species\n",
      "0:setosa\t1:setosa\t2:setosa\t3:setosa\t4:setosa\t5:setosa\t6:setosa\t7:setosa\t8:setosa\t9:setosa\t10:setosa\t11:setosa\t12:setosa\t13:setosa\t14:setosa\t15:setosa\t16:setosa\t17:setosa\t18:setosa\t19:setosa\t20:setosa\t21:setosa\t22:setosa\t23:setosa\t24:setosa\t25:setosa\t26:setosa\t27:setosa\t28:setosa\t29:setosa\t30:setosa\t31:setosa\t32:setosa\t33:setosa\t34:setosa\t35:setosa\t36:setosa\t37:setosa\t38:setosa\t39:setosa\t40:setosa\t41:setosa\t42:setosa\t43:setosa\t44:setosa\t45:setosa\t46:setosa\t47:setosa\t48:setosa\t49:setosa\t50:versicolor\t51:versicolor\t52:versicolor\t53:versicolor\t54:versicolor\t55:versicolor\t56:versicolor\t57:versicolor\t58:versicolor\t59:versicolor\t60:versicolor\t61:versicolor\t62:versicolor\t63:versicolor\t64:versicolor\t65:versicolor\t66:versicolor\t67:versicolor\t68:versicolor\t69:versicolor\t70:versicolor\t71:versicolor\t72:versicolor\t73:versicolor\t74:versicolor\t75:versicolor\t76:versicolor\t77:versicolor\t78:versicolor\t79:versicolor\t80:versicolor\t81:versicolor\t82:versicolor\t83:versicolor\t84:versicolor\t85:versicolor\t86:versicolor\t87:versicolor\t88:versicolor\t89:versicolor\t90:versicolor\t91:versicolor\t92:versicolor\t93:versicolor\t94:versicolor\t95:versicolor\t96:versicolor\t97:versicolor\t98:versicolor\t99:versicolor\t100:virginica\t101:virginica\t102:virginica\t103:virginica\t104:virginica\t105:virginica\t106:virginica\t107:virginica\t108:virginica\t109:virginica\t110:virginica\t111:virginica\t112:virginica\t113:virginica\t114:virginica\t115:virginica\t116:virginica\t117:virginica\t118:virginica\t119:virginica\t120:virginica\t121:virginica\t122:virginica\t123:virginica\t124:virginica\t125:virginica\t126:virginica\t127:virginica\t128:virginica\t129:virginica\t130:virginica\t131:virginica\t132:virginica\t133:virginica\t134:virginica\t135:virginica\t136:virginica\t137:virginica\t138:virginica\t139:virginica\t140:virginica\t141:virginica\t142:virginica\t143:virginica\t144:virginica\t145:virginica\t146:virginica\t147:virginica\t148:virginica\t149:virginica\t\n"
     ]
    }
   ],
   "source": [
    "for group, value in iris_dic.items():\n",
    "    print('그룹명 :', group)\n",
    "    for key, data in value.items():\n",
    "        print('{}:{}'.format(str(key), data), end='\\t')\n",
    "    print() # 개행"
   ]
  },
  {
   "cell_type": "code",
   "execution_count": 10,
   "id": "a0a9258a",
   "metadata": {},
   "outputs": [],
   "source": [
    "# 딕셔너리 리스트를 hdf파일로 쓰기\n",
    "import h5py\n",
    "with h5py.File('data/ch09_iris_dic.h5', 'w') as f:\n",
    "    for group, value in iris_dic.items():\n",
    "        grp = f.create_group(group)\n",
    "        for key, data in value.items():\n",
    "            grp.create_dataset(str(key), data=data)"
   ]
  },
  {
   "cell_type": "markdown",
   "id": "ac2b91a2",
   "metadata": {},
   "source": [
    "## 5.2 hdf5 파일 읽기\n",
    "- hdf5파일을 딕셔너리 리스트로 읽기\n",
    "- hdf5파일을 데이터프레임으로 읽기"
   ]
  },
  {
   "cell_type": "code",
   "execution_count": 11,
   "id": "a9022d92",
   "metadata": {
    "collapsed": true
   },
   "outputs": [
    {
     "ename": "KeyError",
     "evalue": "'No object named iris in the file'",
     "output_type": "error",
     "traceback": [
      "\u001b[1;31m---------------------------------------------------------------------------\u001b[0m",
      "\u001b[1;31mKeyError\u001b[0m                                  Traceback (most recent call last)",
      "Cell \u001b[1;32mIn[11], line 2\u001b[0m\n\u001b[0;32m      1\u001b[0m \u001b[38;5;28;01mimport\u001b[39;00m \u001b[38;5;21;01mpandas\u001b[39;00m \u001b[38;5;28;01mas\u001b[39;00m \u001b[38;5;21;01mpd\u001b[39;00m\n\u001b[1;32m----> 2\u001b[0m load_iris_df \u001b[38;5;241m=\u001b[39m \u001b[43mpd\u001b[49m\u001b[38;5;241;43m.\u001b[39;49m\u001b[43mread_hdf\u001b[49m\u001b[43m(\u001b[49m\u001b[38;5;124;43m\"\u001b[39;49m\u001b[38;5;124;43mdata/ch09_iris.hdf5\u001b[39;49m\u001b[38;5;124;43m\"\u001b[39;49m\u001b[43m,\u001b[49m\u001b[43m \u001b[49m\u001b[43mkey\u001b[49m\u001b[38;5;241;43m=\u001b[39;49m\u001b[38;5;124;43m'\u001b[39;49m\u001b[38;5;124;43miris\u001b[39;49m\u001b[38;5;124;43m'\u001b[39;49m\u001b[43m)\u001b[49m\n\u001b[0;32m      3\u001b[0m load_iris_df[::\u001b[38;5;241m50\u001b[39m]\n",
      "File \u001b[1;32m~\\anaconda3\\lib\\site-packages\\pandas\\io\\pytables.py:442\u001b[0m, in \u001b[0;36mread_hdf\u001b[1;34m(path_or_buf, key, mode, errors, where, start, stop, columns, iterator, chunksize, **kwargs)\u001b[0m\n\u001b[0;32m    437\u001b[0m                 \u001b[38;5;28;01mraise\u001b[39;00m \u001b[38;5;167;01mValueError\u001b[39;00m(\n\u001b[0;32m    438\u001b[0m                     \u001b[38;5;124m\"\u001b[39m\u001b[38;5;124mkey must be provided when HDF5 \u001b[39m\u001b[38;5;124m\"\u001b[39m\n\u001b[0;32m    439\u001b[0m                     \u001b[38;5;124m\"\u001b[39m\u001b[38;5;124mfile contains multiple datasets.\u001b[39m\u001b[38;5;124m\"\u001b[39m\n\u001b[0;32m    440\u001b[0m                 )\n\u001b[0;32m    441\u001b[0m         key \u001b[38;5;241m=\u001b[39m candidate_only_group\u001b[38;5;241m.\u001b[39m_v_pathname\n\u001b[1;32m--> 442\u001b[0m     \u001b[38;5;28;01mreturn\u001b[39;00m \u001b[43mstore\u001b[49m\u001b[38;5;241;43m.\u001b[39;49m\u001b[43mselect\u001b[49m\u001b[43m(\u001b[49m\n\u001b[0;32m    443\u001b[0m \u001b[43m        \u001b[49m\u001b[43mkey\u001b[49m\u001b[43m,\u001b[49m\n\u001b[0;32m    444\u001b[0m \u001b[43m        \u001b[49m\u001b[43mwhere\u001b[49m\u001b[38;5;241;43m=\u001b[39;49m\u001b[43mwhere\u001b[49m\u001b[43m,\u001b[49m\n\u001b[0;32m    445\u001b[0m \u001b[43m        \u001b[49m\u001b[43mstart\u001b[49m\u001b[38;5;241;43m=\u001b[39;49m\u001b[43mstart\u001b[49m\u001b[43m,\u001b[49m\n\u001b[0;32m    446\u001b[0m \u001b[43m        \u001b[49m\u001b[43mstop\u001b[49m\u001b[38;5;241;43m=\u001b[39;49m\u001b[43mstop\u001b[49m\u001b[43m,\u001b[49m\n\u001b[0;32m    447\u001b[0m \u001b[43m        \u001b[49m\u001b[43mcolumns\u001b[49m\u001b[38;5;241;43m=\u001b[39;49m\u001b[43mcolumns\u001b[49m\u001b[43m,\u001b[49m\n\u001b[0;32m    448\u001b[0m \u001b[43m        \u001b[49m\u001b[43miterator\u001b[49m\u001b[38;5;241;43m=\u001b[39;49m\u001b[43miterator\u001b[49m\u001b[43m,\u001b[49m\n\u001b[0;32m    449\u001b[0m \u001b[43m        \u001b[49m\u001b[43mchunksize\u001b[49m\u001b[38;5;241;43m=\u001b[39;49m\u001b[43mchunksize\u001b[49m\u001b[43m,\u001b[49m\n\u001b[0;32m    450\u001b[0m \u001b[43m        \u001b[49m\u001b[43mauto_close\u001b[49m\u001b[38;5;241;43m=\u001b[39;49m\u001b[43mauto_close\u001b[49m\u001b[43m,\u001b[49m\n\u001b[0;32m    451\u001b[0m \u001b[43m    \u001b[49m\u001b[43m)\u001b[49m\n\u001b[0;32m    452\u001b[0m \u001b[38;5;28;01mexcept\u001b[39;00m (\u001b[38;5;167;01mValueError\u001b[39;00m, \u001b[38;5;167;01mTypeError\u001b[39;00m, \u001b[38;5;167;01mKeyError\u001b[39;00m):\n\u001b[0;32m    453\u001b[0m     \u001b[38;5;28;01mif\u001b[39;00m \u001b[38;5;129;01mnot\u001b[39;00m \u001b[38;5;28misinstance\u001b[39m(path_or_buf, HDFStore):\n\u001b[0;32m    454\u001b[0m         \u001b[38;5;66;03m# if there is an error, close the store if we opened it.\u001b[39;00m\n",
      "File \u001b[1;32m~\\anaconda3\\lib\\site-packages\\pandas\\io\\pytables.py:847\u001b[0m, in \u001b[0;36mHDFStore.select\u001b[1;34m(self, key, where, start, stop, columns, iterator, chunksize, auto_close)\u001b[0m\n\u001b[0;32m    845\u001b[0m group \u001b[38;5;241m=\u001b[39m \u001b[38;5;28mself\u001b[39m\u001b[38;5;241m.\u001b[39mget_node(key)\n\u001b[0;32m    846\u001b[0m \u001b[38;5;28;01mif\u001b[39;00m group \u001b[38;5;129;01mis\u001b[39;00m \u001b[38;5;28;01mNone\u001b[39;00m:\n\u001b[1;32m--> 847\u001b[0m     \u001b[38;5;28;01mraise\u001b[39;00m \u001b[38;5;167;01mKeyError\u001b[39;00m(\u001b[38;5;124mf\u001b[39m\u001b[38;5;124m\"\u001b[39m\u001b[38;5;124mNo object named \u001b[39m\u001b[38;5;132;01m{\u001b[39;00mkey\u001b[38;5;132;01m}\u001b[39;00m\u001b[38;5;124m in the file\u001b[39m\u001b[38;5;124m\"\u001b[39m)\n\u001b[0;32m    849\u001b[0m \u001b[38;5;66;03m# create the storer and axes\u001b[39;00m\n\u001b[0;32m    850\u001b[0m where \u001b[38;5;241m=\u001b[39m _ensure_term(where, scope_level\u001b[38;5;241m=\u001b[39m\u001b[38;5;241m1\u001b[39m)\n",
      "\u001b[1;31mKeyError\u001b[0m: 'No object named iris in the file'"
     ]
    }
   ],
   "source": [
    "import pandas as pd\n",
    "load_iris_df = pd.read_hdf(\"data/ch09_iris.hdf5\", key='iris')\n",
    "load_iris_df[::50]"
   ]
  },
  {
   "cell_type": "code",
   "execution_count": 12,
   "id": "64e87255",
   "metadata": {
    "collapsed": true
   },
   "outputs": [
    {
     "ename": "NameError",
     "evalue": "name 'load_iris_df' is not defined",
     "output_type": "error",
     "traceback": [
      "\u001b[1;31m---------------------------------------------------------------------------\u001b[0m",
      "\u001b[1;31mNameError\u001b[0m                                 Traceback (most recent call last)",
      "Cell \u001b[1;32mIn[12], line 1\u001b[0m\n\u001b[1;32m----> 1\u001b[0m \u001b[38;5;28mall\u001b[39m(iris_df \u001b[38;5;241m==\u001b[39m \u001b[43mload_iris_df\u001b[49m)\n",
      "\u001b[1;31mNameError\u001b[0m: name 'load_iris_df' is not defined"
     ]
    }
   ],
   "source": [
    "all(iris_df == load_iris_df) # 두 데이터프레임 변수의 모든 행과 열의 값이 같은지 여부"
   ]
  },
  {
   "cell_type": "code",
   "execution_count": 13,
   "id": "670dcb7d",
   "metadata": {
    "collapsed": true
   },
   "outputs": [
    {
     "ename": "NameError",
     "evalue": "name 'load_iris_df' is not defined",
     "output_type": "error",
     "traceback": [
      "\u001b[1;31m---------------------------------------------------------------------------\u001b[0m",
      "\u001b[1;31mNameError\u001b[0m                                 Traceback (most recent call last)",
      "Cell \u001b[1;32mIn[13], line 1\u001b[0m\n\u001b[1;32m----> 1\u001b[0m \u001b[38;5;28mall\u001b[39m(iris_df \u001b[38;5;241m==\u001b[39m \u001b[43mload_iris_df\u001b[49m)\n",
      "\u001b[1;31mNameError\u001b[0m: name 'load_iris_df' is not defined"
     ]
    }
   ],
   "source": [
    "all(iris_df == load_iris_df) # 두 데이터프레임 변수의 모든 행과 열의 값이 같은지 여부 "
   ]
  },
  {
   "cell_type": "code",
   "execution_count": 14,
   "id": "ca2a3346",
   "metadata": {},
   "outputs": [
    {
     "name": "stdout",
     "output_type": "stream",
     "text": [
      "그룹 :  petal_length\n",
      "0:1.4\t1:1.4\t10:1.5\t100:6.0\t101:5.1\t102:5.9\t103:5.6\t104:5.8\t105:6.6\t106:4.5\t107:6.3\t108:5.8\t109:6.1\t11:1.6\t110:5.1\t111:5.3\t112:5.5\t113:5.0\t114:5.1\t115:5.3\t116:5.5\t117:6.7\t118:6.9\t119:5.0\t12:1.4\t120:5.7\t121:4.9\t122:6.7\t123:4.9\t124:5.7\t125:6.0\t126:4.8\t127:4.9\t128:5.6\t129:5.8\t13:1.1\t130:6.1\t131:6.4\t132:5.6\t133:5.1\t134:5.6\t135:6.1\t136:5.6\t137:5.5\t138:4.8\t139:5.4\t14:1.2\t140:5.6\t141:5.1\t142:5.1\t143:5.9\t144:5.7\t145:5.2\t146:5.0\t147:5.2\t148:5.4\t149:5.1\t15:1.5\t16:1.3\t17:1.4\t18:1.7\t19:1.5\t2:1.3\t20:1.7\t21:1.5\t22:1.0\t23:1.7\t24:1.9\t25:1.6\t26:1.6\t27:1.5\t28:1.4\t29:1.6\t3:1.5\t30:1.6\t31:1.5\t32:1.5\t33:1.4\t34:1.5\t35:1.2\t36:1.3\t37:1.4\t38:1.3\t39:1.5\t4:1.4\t40:1.3\t41:1.3\t42:1.3\t43:1.6\t44:1.9\t45:1.4\t46:1.6\t47:1.4\t48:1.5\t49:1.4\t5:1.7\t50:4.7\t51:4.5\t52:4.9\t53:4.0\t54:4.6\t55:4.5\t56:4.7\t57:3.3\t58:4.6\t59:3.9\t6:1.4\t60:3.5\t61:4.2\t62:4.0\t63:4.7\t64:3.6\t65:4.4\t66:4.5\t67:4.1\t68:4.5\t69:3.9\t7:1.5\t70:4.8\t71:4.0\t72:4.9\t73:4.7\t74:4.3\t75:4.4\t76:4.8\t77:5.0\t78:4.5\t79:3.5\t8:1.4\t80:3.8\t81:3.7\t82:3.9\t83:5.1\t84:4.5\t85:4.5\t86:4.7\t87:4.4\t88:4.1\t89:4.0\t9:1.5\t90:4.4\t91:4.6\t92:4.0\t93:3.3\t94:4.2\t95:4.2\t96:4.2\t97:4.3\t98:3.0\t99:4.1\t그룹 :  petal_width\n",
      "0:0.2\t1:0.2\t10:0.2\t100:2.5\t101:1.9\t102:2.1\t103:1.8\t104:2.2\t105:2.1\t106:1.7\t107:1.8\t108:1.8\t109:2.5\t11:0.2\t110:2.0\t111:1.9\t112:2.1\t113:2.0\t114:2.4\t115:2.3\t116:1.8\t117:2.2\t118:2.3\t119:1.5\t12:0.1\t120:2.3\t121:2.0\t122:2.0\t123:1.8\t124:2.1\t125:1.8\t126:1.8\t127:1.8\t128:2.1\t129:1.6\t13:0.1\t130:1.9\t131:2.0\t132:2.2\t133:1.5\t134:1.4\t135:2.3\t136:2.4\t137:1.8\t138:1.8\t139:2.1\t14:0.2\t140:2.4\t141:2.3\t142:1.9\t143:2.3\t144:2.5\t145:2.3\t146:1.9\t147:2.0\t148:2.3\t149:1.8\t15:0.4\t16:0.4\t17:0.3\t18:0.3\t19:0.3\t2:0.2\t20:0.2\t21:0.4\t22:0.2\t23:0.5\t24:0.2\t25:0.2\t26:0.4\t27:0.2\t28:0.2\t29:0.2\t3:0.2\t30:0.2\t31:0.4\t32:0.1\t33:0.2\t34:0.2\t35:0.2\t36:0.2\t37:0.1\t38:0.2\t39:0.2\t4:0.2\t40:0.3\t41:0.3\t42:0.2\t43:0.6\t44:0.4\t45:0.3\t46:0.2\t47:0.2\t48:0.2\t49:0.2\t5:0.4\t50:1.4\t51:1.5\t52:1.5\t53:1.3\t54:1.5\t55:1.3\t56:1.6\t57:1.0\t58:1.3\t59:1.4\t6:0.3\t60:1.0\t61:1.5\t62:1.0\t63:1.4\t64:1.3\t65:1.4\t66:1.5\t67:1.0\t68:1.5\t69:1.1\t7:0.2\t70:1.8\t71:1.3\t72:1.5\t73:1.2\t74:1.3\t75:1.4\t76:1.4\t77:1.7\t78:1.5\t79:1.0\t8:0.2\t80:1.1\t81:1.0\t82:1.2\t83:1.6\t84:1.5\t85:1.6\t86:1.5\t87:1.3\t88:1.3\t89:1.3\t9:0.1\t90:1.2\t91:1.4\t92:1.2\t93:1.0\t94:1.3\t95:1.2\t96:1.3\t97:1.3\t98:1.1\t99:1.3\t그룹 :  sepal_length\n",
      "0:5.1\t1:4.9\t10:5.4\t100:6.3\t101:5.8\t102:7.1\t103:6.3\t104:6.5\t105:7.6\t106:4.9\t107:7.3\t108:6.7\t109:7.2\t11:4.8\t110:6.5\t111:6.4\t112:6.8\t113:5.7\t114:5.8\t115:6.4\t116:6.5\t117:7.7\t118:7.7\t119:6.0\t12:4.8\t120:6.9\t121:5.6\t122:7.7\t123:6.3\t124:6.7\t125:7.2\t126:6.2\t127:6.1\t128:6.4\t129:7.2\t13:4.3\t130:7.4\t131:7.9\t132:6.4\t133:6.3\t134:6.1\t135:7.7\t136:6.3\t137:6.4\t138:6.0\t139:6.9\t14:5.8\t140:6.7\t141:6.9\t142:5.8\t143:6.8\t144:6.7\t145:6.7\t146:6.3\t147:6.5\t148:6.2\t149:5.9\t15:5.7\t16:5.4\t17:5.1\t18:5.7\t19:5.1\t2:4.7\t20:5.4\t21:5.1\t22:4.6\t23:5.1\t24:4.8\t25:5.0\t26:5.0\t27:5.2\t28:5.2\t29:4.7\t3:4.6\t30:4.8\t31:5.4\t32:5.2\t33:5.5\t34:4.9\t35:5.0\t36:5.5\t37:4.9\t38:4.4\t39:5.1\t4:5.0\t40:5.0\t41:4.5\t42:4.4\t43:5.0\t44:5.1\t45:4.8\t46:5.1\t47:4.6\t48:5.3\t49:5.0\t5:5.4\t50:7.0\t51:6.4\t52:6.9\t53:5.5\t54:6.5\t55:5.7\t56:6.3\t57:4.9\t58:6.6\t59:5.2\t6:4.6\t60:5.0\t61:5.9\t62:6.0\t63:6.1\t64:5.6\t65:6.7\t66:5.6\t67:5.8\t68:6.2\t69:5.6\t7:5.0\t70:5.9\t71:6.1\t72:6.3\t73:6.1\t74:6.4\t75:6.6\t76:6.8\t77:6.7\t78:6.0\t79:5.7\t8:4.4\t80:5.5\t81:5.5\t82:5.8\t83:6.0\t84:5.4\t85:6.0\t86:6.7\t87:6.3\t88:5.6\t89:5.5\t9:4.9\t90:5.5\t91:6.1\t92:5.8\t93:5.0\t94:5.6\t95:5.7\t96:5.7\t97:6.2\t98:5.1\t99:5.7\t그룹 :  sepal_width\n",
      "0:3.5\t1:3.0\t10:3.7\t100:3.3\t101:2.7\t102:3.0\t103:2.9\t104:3.0\t105:3.0\t106:2.5\t107:2.9\t108:2.5\t109:3.6\t11:3.4\t110:3.2\t111:2.7\t112:3.0\t113:2.5\t114:2.8\t115:3.2\t116:3.0\t117:3.8\t118:2.6\t119:2.2\t12:3.0\t120:3.2\t121:2.8\t122:2.8\t123:2.7\t124:3.3\t125:3.2\t126:2.8\t127:3.0\t128:2.8\t129:3.0\t13:3.0\t130:2.8\t131:3.8\t132:2.8\t133:2.8\t134:2.6\t135:3.0\t136:3.4\t137:3.1\t138:3.0\t139:3.1\t14:4.0\t140:3.1\t141:3.1\t142:2.7\t143:3.2\t144:3.3\t145:3.0\t146:2.5\t147:3.0\t148:3.4\t149:3.0\t15:4.4\t16:3.9\t17:3.5\t18:3.8\t19:3.8\t2:3.2\t20:3.4\t21:3.7\t22:3.6\t23:3.3\t24:3.4\t25:3.0\t26:3.4\t27:3.5\t28:3.4\t29:3.2\t3:3.1\t30:3.1\t31:3.4\t32:4.1\t33:4.2\t34:3.1\t35:3.2\t36:3.5\t37:3.6\t38:3.0\t39:3.4\t4:3.6\t40:3.5\t41:2.3\t42:3.2\t43:3.5\t44:3.8\t45:3.0\t46:3.8\t47:3.2\t48:3.7\t49:3.3\t5:3.9\t50:3.2\t51:3.2\t52:3.1\t53:2.3\t54:2.8\t55:2.8\t56:3.3\t57:2.4\t58:2.9\t59:2.7\t6:3.4\t60:2.0\t61:3.0\t62:2.2\t63:2.9\t64:2.9\t65:3.1\t66:3.0\t67:2.7\t68:2.2\t69:2.5\t7:3.4\t70:3.2\t71:2.8\t72:2.5\t73:2.8\t74:2.9\t75:3.0\t76:2.8\t77:3.0\t78:2.9\t79:2.6\t8:2.9\t80:2.4\t81:2.4\t82:2.7\t83:2.7\t84:3.0\t85:3.4\t86:3.1\t87:2.3\t88:3.0\t89:2.5\t9:3.1\t90:2.6\t91:3.0\t92:2.6\t93:2.3\t94:2.7\t95:3.0\t96:2.9\t97:2.9\t98:2.5\t99:2.8\t그룹 :  species\n",
      "0:b'setosa'\t1:b'setosa'\t10:b'setosa'\t100:b'virginica'\t101:b'virginica'\t102:b'virginica'\t103:b'virginica'\t104:b'virginica'\t105:b'virginica'\t106:b'virginica'\t107:b'virginica'\t108:b'virginica'\t109:b'virginica'\t11:b'setosa'\t110:b'virginica'\t111:b'virginica'\t112:b'virginica'\t113:b'virginica'\t114:b'virginica'\t115:b'virginica'\t116:b'virginica'\t117:b'virginica'\t118:b'virginica'\t119:b'virginica'\t12:b'setosa'\t120:b'virginica'\t121:b'virginica'\t122:b'virginica'\t123:b'virginica'\t124:b'virginica'\t125:b'virginica'\t126:b'virginica'\t127:b'virginica'\t128:b'virginica'\t129:b'virginica'\t13:b'setosa'\t130:b'virginica'\t131:b'virginica'\t132:b'virginica'\t133:b'virginica'\t134:b'virginica'\t135:b'virginica'\t136:b'virginica'\t137:b'virginica'\t138:b'virginica'\t139:b'virginica'\t14:b'setosa'\t140:b'virginica'\t141:b'virginica'\t142:b'virginica'\t143:b'virginica'\t144:b'virginica'\t145:b'virginica'\t146:b'virginica'\t147:b'virginica'\t148:b'virginica'\t149:b'virginica'\t15:b'setosa'\t16:b'setosa'\t17:b'setosa'\t18:b'setosa'\t19:b'setosa'\t2:b'setosa'\t20:b'setosa'\t21:b'setosa'\t22:b'setosa'\t23:b'setosa'\t24:b'setosa'\t25:b'setosa'\t26:b'setosa'\t27:b'setosa'\t28:b'setosa'\t29:b'setosa'\t3:b'setosa'\t30:b'setosa'\t31:b'setosa'\t32:b'setosa'\t33:b'setosa'\t34:b'setosa'\t35:b'setosa'\t36:b'setosa'\t37:b'setosa'\t38:b'setosa'\t39:b'setosa'\t4:b'setosa'\t40:b'setosa'\t41:b'setosa'\t42:b'setosa'\t43:b'setosa'\t44:b'setosa'\t45:b'setosa'\t46:b'setosa'\t47:b'setosa'\t48:b'setosa'\t49:b'setosa'\t5:b'setosa'\t50:b'versicolor'\t51:b'versicolor'\t52:b'versicolor'\t53:b'versicolor'\t54:b'versicolor'\t55:b'versicolor'\t56:b'versicolor'\t57:b'versicolor'\t58:b'versicolor'\t59:b'versicolor'\t6:b'setosa'\t60:b'versicolor'\t61:b'versicolor'\t62:b'versicolor'\t63:b'versicolor'\t64:b'versicolor'\t65:b'versicolor'\t66:b'versicolor'\t67:b'versicolor'\t68:b'versicolor'\t69:b'versicolor'\t7:b'setosa'\t70:b'versicolor'\t71:b'versicolor'\t72:b'versicolor'\t73:b'versicolor'\t74:b'versicolor'\t75:b'versicolor'\t76:b'versicolor'\t77:b'versicolor'\t78:b'versicolor'\t79:b'versicolor'\t8:b'setosa'\t80:b'versicolor'\t81:b'versicolor'\t82:b'versicolor'\t83:b'versicolor'\t84:b'versicolor'\t85:b'versicolor'\t86:b'versicolor'\t87:b'versicolor'\t88:b'versicolor'\t89:b'versicolor'\t9:b'setosa'\t90:b'versicolor'\t91:b'versicolor'\t92:b'versicolor'\t93:b'versicolor'\t94:b'versicolor'\t95:b'versicolor'\t96:b'versicolor'\t97:b'versicolor'\t98:b'versicolor'\t99:b'versicolor'\t"
     ]
    }
   ],
   "source": [
    "with h5py.File('data/ch09_iris_dic.h5', 'r') as f:\n",
    "    for group, value in f.items():\n",
    "        print('그룹 : ', group)\n",
    "        for key, data in value.items():\n",
    "            print('{}:{}'.format(key, data[()]), end='\\t')\n",
    "            # data[()] : h5 DataSet타입을 가져올 때"
   ]
  },
  {
   "cell_type": "code",
   "execution_count": 15,
   "id": "94ec973c",
   "metadata": {},
   "outputs": [
    {
     "data": {
      "text/plain": [
       "dict_keys(['petal_length', 'petal_width', 'sepal_length', 'sepal_width', 'species'])"
      ]
     },
     "execution_count": 15,
     "metadata": {},
     "output_type": "execute_result"
    }
   ],
   "source": [
    "load_iris_dic = {}\n",
    "with h5py.File('data/ch09_iris_dic.h5', 'r') as f:\n",
    "    for group, value in f.items():\n",
    "        temp = {}\n",
    "        for key, data in value.items():\n",
    "            temp[int(key)] = data[()]\n",
    "        load_iris_dic[group] = temp\n",
    "        \n",
    "# load_iris_dic['sepal_length'] = {0:5.4, 1:4}\n",
    "# load_iris_dic['sepal_width'] = {0:5.4, 1:4}\n",
    "load_iris_dic.keys()"
   ]
  },
  {
   "cell_type": "code",
   "execution_count": 16,
   "id": "e640a49d",
   "metadata": {},
   "outputs": [
    {
     "data": {
      "text/plain": [
       "{'s_l': {0: 5.4, 1: 4}}"
      ]
     },
     "execution_count": 16,
     "metadata": {},
     "output_type": "execute_result"
    }
   ],
   "source": [
    "{'s_l':{0:5.4, 1:4}}"
   ]
  },
  {
   "cell_type": "markdown",
   "id": "b5691218",
   "metadata": {},
   "source": [
    "# 6절. 연습문제 : 고객관리\n",
    "- 프로그램 시작시 \"data/ch09_customers.txt(고객데이터 백업용)\"의 내용을 load(객체 list)\n",
    "                 파일이 없을 경우 빈 파일 생성\n",
    "- \"data/ch09_customers.txt(고객데이터 백업용)의 내용\n",
    "  홍길동, 010-9999-9999, a@a.com, 30, 3, 까칠해\n",
    "  홍길동, 010-9999-9999, a@a.com, 30, 3, 까칠해\n",
    "\n",
    "## Customer 클래스 작성"
   ]
  },
  {
   "cell_type": "code",
   "execution_count": 17,
   "id": "98fd5d34",
   "metadata": {},
   "outputs": [],
   "source": [
    "class Customer:\n",
    "    '고객데이터와 as_dic(), to_list_style(txt백업시), __str__()'\n",
    "    def __init__(self, name, phone, email, age, grade, etc):\n",
    "        self.name = name\n",
    "        self.phone = phone\n",
    "        self.email = email\n",
    "        self.age  = age\n",
    "        self.grade = grade\n",
    "        self.etc = etc\n",
    "    def as_dic(self):\n",
    "        return {\"name\":self.name, \n",
    "                \"phone\":self.phone, \n",
    "                \"email\":self.email,\n",
    "                \"age\":self.age, \n",
    "                \"grade\":self.grade, \n",
    "                \"etc\":self.etc}\n",
    "    def to_list_style(self):\n",
    "        # return \"홍길동, 010-9999-9999, a@a.com, 30, 3, 까칠해\"\n",
    "#         return \"{}, {}, {}, {}, {}, {}\".format(self.name, self.phone, self.email,\n",
    "#                                               self.age, self.grade, self.etc)\n",
    "        temp = [self.name, \n",
    "                self.phone, \n",
    "                self.email, \n",
    "                str(self.age), \n",
    "                str(self.grade), \n",
    "                self.etc]\n",
    "        return ', '.join(temp)\n",
    "    def __str__(self):\n",
    "        # return \"  *** 홍길동, 010-9999-9999, a@a.com, 30, 까칠해\"\n",
    "        return \"{:>5}\\t{:3}\\t{:13}\\t{:15}\\t{:3}\\t{}\".format('*'*self.grade,\n",
    "                       self.name, self.phone, self.email, self.age, self.etc)\n"
   ]
  },
  {
   "cell_type": "code",
   "execution_count": 18,
   "id": "9695892d",
   "metadata": {},
   "outputs": [
    {
     "data": {
      "text/plain": [
       "'홍길동, 010-9999-9999, a@a.com, 30, 3, 까칠해'"
      ]
     },
     "execution_count": 18,
     "metadata": {},
     "output_type": "execute_result"
    }
   ],
   "source": [
    "temp = ['홍길동','010-9999-9999', 'a@a.com', '30', '3', '까칠해']\n",
    "', '.join(temp)"
   ]
  },
  {
   "cell_type": "code",
   "execution_count": 19,
   "id": "0dac095e",
   "metadata": {},
   "outputs": [],
   "source": [
    "def to_customer(row):\n",
    "    '''\n",
    "    row = \"홍길동, 010-9999-9999, a@a.com, 30, 3, 까칠해\"(txt파일 내용)을 매개변수로 받아\n",
    "    Customer 객체로 return \n",
    "    '''\n",
    "    data = row.split(',')\n",
    "    name = data[0]\n",
    "    phone = data[1].strip() # strip은 앞뒤 white space 제거\n",
    "    email = data[2].strip()\n",
    "    age = int(data[3].strip())\n",
    "    grade = int(data[4].strip())\n",
    "    etc = data[5].strip()\n",
    "    return Customer(name, phone, email, age, grade, etc)\n"
   ]
  },
  {
   "cell_type": "code",
   "execution_count": 20,
   "id": "9c6e58ad",
   "metadata": {},
   "outputs": [
    {
     "name": "stdout",
     "output_type": "stream",
     "text": [
      "  ***\t홍길동\t010-9999-9999\ta@a.com        \t 30\t까칠해\n",
      "as_dic() = {'name': '홍길동', 'phone': '010-9999-9999', 'email': 'a@a.com', 'age': 30, 'grade': 3, 'etc': '까칠해'}\n",
      "to_list_style() = 홍길동, 010-9999-9999, a@a.com, 30, 3, 까칠해\n",
      "  ***\t홍길동\t010-9999-9999\ta@a.com        \t 30\t까칠해\n"
     ]
    }
   ],
   "source": [
    "c1 = Customer(\"홍길동\", \"010-9999-9999\", \"a@a.com\", 30, 3, \"까칠해\")\n",
    "print(c1)\n",
    "print('as_dic() =',c1.as_dic())\n",
    "print('to_list_style() =',c1.to_list_style())\n",
    "c2 = to_customer(\"홍길동, 010-9999-9999, a@a.com, 30, 3, 까칠해\")\n",
    "print(c2)"
   ]
  },
  {
   "cell_type": "markdown",
   "id": "fbde3d7a",
   "metadata": {},
   "source": [
    "## 0. 처음 실행시 호출\n",
    "- ch09_customers.txt(백업데이터)에서 customer_list return\n",
    "- 파일이 없으면 빈 파일 생성, customer_list = [] return"
   ]
  },
  {
   "cell_type": "code",
   "execution_count": 21,
   "id": "0dec732c",
   "metadata": {},
   "outputs": [],
   "source": [
    "def load_customers():\n",
    "    customer_list = []\n",
    "    try:\n",
    "        with open('data/ch09_customers.txt', 'r', encoding='utf-8') as f:\n",
    "            # txt 데이터 한줄씩 customer 객체로 받아 customer_list.append\n",
    "            lines = f.readlines()\n",
    "            for line in lines:\n",
    "                #line = \"홍길동, 010-9999-9999, a@a.com, 30, 3, 까칠해\"\n",
    "                customer = to_customer(line)\n",
    "                # print(customer)\n",
    "                customer_list.append(customer)\n",
    "    except:\n",
    "        with open('data/ch09_customers.txt', 'w', encoding='utf-8') as f:\n",
    "            print('초기화 파일을 생성했습니다')\n",
    "    return customer_list"
   ]
  },
  {
   "cell_type": "code",
   "execution_count": 22,
   "id": "fadd84ea",
   "metadata": {},
   "outputs": [
    {
     "name": "stdout",
     "output_type": "stream",
     "text": [
      "  ***\t홍길동\t010-9999-9999\ta@a.com        \t 30\t까칠해\n",
      "  ***\t홍길동\t010-9999-9999\ta@a.com        \t 30\t까칠해\n",
      "  ***\t신길동\t010-9999-9999\ta@a.com        \t 30\t까칠해\n",
      "  ***\t신길동\t010-9999-9999\ta@a.com        \t 30\t까칠해\n",
      "  ***\t이길동\t010-9999-9999\ta@a.com        \t 30\t까칠해\n",
      "  ***\t김길동\t010-9999-9999\ta@a.com        \t 30\t까칠해\n"
     ]
    }
   ],
   "source": [
    "customer_list = load_customers()\n",
    "for customer in customer_list:\n",
    "    print(customer)"
   ]
  },
  {
   "cell_type": "markdown",
   "id": "140a00ef",
   "metadata": {},
   "source": [
    "## 1. 입력\n"
   ]
  },
  {
   "cell_type": "code",
   "execution_count": 23,
   "id": "cb2b16a7",
   "metadata": {},
   "outputs": [],
   "source": [
    "def fn1_insert_customer_info():\n",
    "    '''\n",
    "    사용자로부터 name, phone, email, age, grade, etc를 입력받아 Customer형 객체 반환\n",
    "    '''\n",
    "    import re\n",
    "    name = input('이름 :')\n",
    "    name_pattern = r'[가-힣]{2,}'\n",
    "    while not re.search(name_pattern, name):\n",
    "        print('이름을 제대로 입력하세요(한글 2글자 이상)')\n",
    "        name = input('이름 :')\n",
    "    phone = input('전화 :')\n",
    "    email = input('메일 :')\n",
    "    while True:\n",
    "        try:\n",
    "            age = int(input('나이 :'))\n",
    "            if (age<0) or (age>130) :\n",
    "                raise Exception('나이 범위 이상')\n",
    "            break \n",
    "        except:\n",
    "            print('올바른 나이를 입력하세요')\n",
    "    try:\n",
    "        grade = int(input('등급(1~5) : '))\n",
    "        # grade = 1 if grade < 1 else 5 if grade>5 else grade\n",
    "        if grade < 1:\n",
    "            grade = 1\n",
    "        if grade > 5:\n",
    "            grade = 5\n",
    "    except:\n",
    "        print('유효하지 않은 등급 입력시 1등급으로 초기화')\n",
    "        grade = 1\n",
    "    etc = input('기타 정보 :')\n",
    "    return Customer(name, phone, email, age, grade, etc)"
   ]
  },
  {
   "cell_type": "code",
   "execution_count": 24,
   "id": "a22debd6",
   "metadata": {},
   "outputs": [
    {
     "name": "stdout",
     "output_type": "stream",
     "text": [
      "이름 :김\n",
      "이름을 제대로 입력하세요(한글 2글자 이상)\n",
      "이름 :abc\n",
      "이름을 제대로 입력하세요(한글 2글자 이상)\n",
      "이름 :김123\n",
      "이름을 제대로 입력하세요(한글 2글자 이상)\n",
      "이름 :김기길\n",
      "전화 :010-1111-1111\n",
      "메일 :skdf@sd.com\n",
      "나이 :333\n",
      "올바른 나이를 입력하세요\n",
      "나이 :22\n",
      "등급(1~5) : 9\n",
      "기타 정보 :sdf\n",
      "  ***\t홍길동\t010-9999-9999\ta@a.com        \t 30\t까칠해\n",
      "  ***\t홍길동\t010-9999-9999\ta@a.com        \t 30\t까칠해\n",
      "  ***\t신길동\t010-9999-9999\ta@a.com        \t 30\t까칠해\n",
      "  ***\t신길동\t010-9999-9999\ta@a.com        \t 30\t까칠해\n",
      "  ***\t이길동\t010-9999-9999\ta@a.com        \t 30\t까칠해\n",
      "  ***\t김길동\t010-9999-9999\ta@a.com        \t 30\t까칠해\n",
      "*****\t김기길\t010-1111-1111\tskdf@sd.com    \t 22\tsdf\n"
     ]
    }
   ],
   "source": [
    "# 1번 함수 테스트\n",
    "customer_list = load_customers()\n",
    "customer = fn1_insert_customer_info()\n",
    "customer_list.append(customer)\n",
    "for customer in customer_list:\n",
    "    print(customer)"
   ]
  },
  {
   "cell_type": "markdown",
   "id": "d215dff7",
   "metadata": {},
   "source": [
    "## 2. 전체출력"
   ]
  },
  {
   "cell_type": "code",
   "execution_count": 25,
   "id": "08d3ba73",
   "metadata": {},
   "outputs": [],
   "source": [
    "def fn2_print_customers(customer_list):\n",
    "    'customer_list를 출력(pdf 40page 스타일)'\n",
    "    print('='*70)\n",
    "    print('{:^70}'.format('고객 정보'))\n",
    "    print('-'*70)\n",
    "    print(\"{:>5}\\t{:3}\\t{:13}\\t{:10}\\t{:3}\\t{}\".format(\"GRADE\", \"이름\", \"전화\",\n",
    "                                                      \"메일\",\"나이\",\"기타\"))\n",
    "    print('-'*70)\n",
    "    for customer in customer_list:\n",
    "        print(customer)"
   ]
  },
  {
   "cell_type": "code",
   "execution_count": 26,
   "id": "7bab6bd4",
   "metadata": {},
   "outputs": [
    {
     "name": "stdout",
     "output_type": "stream",
     "text": [
      "======================================================================\n",
      "                                고객 정보                                 \n",
      "----------------------------------------------------------------------\n",
      "GRADE\t이름 \t전화           \t메일        \t나이 \t기타\n",
      "----------------------------------------------------------------------\n",
      "  ***\t홍길동\t010-9999-9999\ta@a.com        \t 30\t까칠해\n",
      "  ***\t홍길동\t010-9999-9999\ta@a.com        \t 30\t까칠해\n",
      "  ***\t신길동\t010-9999-9999\ta@a.com        \t 30\t까칠해\n",
      "  ***\t신길동\t010-9999-9999\ta@a.com        \t 30\t까칠해\n",
      "  ***\t이길동\t010-9999-9999\ta@a.com        \t 30\t까칠해\n",
      "  ***\t김길동\t010-9999-9999\ta@a.com        \t 30\t까칠해\n"
     ]
    }
   ],
   "source": [
    "# 2번 기능 테스트\n",
    "customer_list = load_customers()\n",
    "fn2_print_customers(customer_list)\n"
   ]
  },
  {
   "cell_type": "markdown",
   "id": "fee41935",
   "metadata": {},
   "source": [
    "## 3. 삭제"
   ]
  },
  {
   "cell_type": "code",
   "execution_count": 27,
   "id": "3eecc96c",
   "metadata": {},
   "outputs": [],
   "source": [
    "# 3. 삭제 (동명이인이 없을 경우 구현)\n",
    "def fn3_delete_customer(customer_list):\n",
    "    '''삭제하고자 하는 고객이름을 input으로 받아\n",
    "    매개변수로 들어온 customer_list에서 삭제하고 \"삭제했음/삭제못했음\"을 메세지로 출력'''\n",
    "    delete_name = input('삭제할 고객 이름은?')\n",
    "    for customer in customer_list:\n",
    "        if customer.name == delete_name:\n",
    "            customer_list.remove(customer)\n",
    "            print('{}님 데이터를 삭제하였습니다'.format(delete_name))\n",
    "            return\n",
    "    else:\n",
    "        print('{}님 데이터는 존재하지 않습니다'.format(delete_name))"
   ]
  },
  {
   "cell_type": "code",
   "execution_count": 28,
   "id": "60488527",
   "metadata": {},
   "outputs": [],
   "source": [
    "# 3. 삭제 (동명이인이 있을 경우 구현)\n",
    "def fn3_delete_customer(customer_list):\n",
    "    '''삭제하고자 하는 고객이름을 input으로 받아\n",
    "    매개변수로 들어온 customer_list에서 삭제하고 \"삭제했음/삭제못했음\"을 메세지로 출력'''\n",
    "    delete_name = input('삭제할 고객 이름은?')\n",
    "    delete_idx = [] # 삭제할 인덱스를 저장하는 용도\n",
    "    for idx, customer in enumerate(customer_list):\n",
    "        if customer.name == delete_name:\n",
    "            delete_idx.append(idx)\n",
    "    if delete_idx:\n",
    "        for idx in delete_idx[::-1]: # [1,0]\n",
    "            del customer_list[idx]\n",
    "        print('{}님 {}명 삭제하였습니다'.format(delete_name, len(delete_idx)))\n",
    "    else:\n",
    "        print('{}님 데이터가 존재하지 않습니다'.format(delete_name))"
   ]
  },
  {
   "cell_type": "code",
   "execution_count": 29,
   "id": "3340573a",
   "metadata": {},
   "outputs": [
    {
     "name": "stdout",
     "output_type": "stream",
     "text": [
      "삭제할 고객 이름은?홍길동\n",
      "홍길동님 2명 삭제하였습니다\n"
     ]
    }
   ],
   "source": [
    "# 3번 기능 테스트\n",
    "customer_list = load_customers()\n",
    "fn3_delete_customer(customer_list)"
   ]
  },
  {
   "cell_type": "code",
   "execution_count": 30,
   "id": "059e26f0",
   "metadata": {},
   "outputs": [
    {
     "name": "stdout",
     "output_type": "stream",
     "text": [
      "======================================================================\n",
      "                                고객 정보                                 \n",
      "----------------------------------------------------------------------\n",
      "GRADE\t이름 \t전화           \t메일        \t나이 \t기타\n",
      "----------------------------------------------------------------------\n",
      "  ***\t신길동\t010-9999-9999\ta@a.com        \t 30\t까칠해\n",
      "  ***\t신길동\t010-9999-9999\ta@a.com        \t 30\t까칠해\n",
      "  ***\t이길동\t010-9999-9999\ta@a.com        \t 30\t까칠해\n",
      "  ***\t김길동\t010-9999-9999\ta@a.com        \t 30\t까칠해\n"
     ]
    }
   ],
   "source": [
    "fn2_print_customers(customer_list)"
   ]
  },
  {
   "cell_type": "markdown",
   "id": "84e8d948",
   "metadata": {},
   "source": [
    "## 4. 이름찾기"
   ]
  },
  {
   "cell_type": "code",
   "execution_count": 31,
   "id": "119c00ce",
   "metadata": {},
   "outputs": [],
   "source": [
    "# 4. 이름찾기 (동명이인이 있음)\n",
    "def fn4_search_customer(customer_list):\n",
    "    '''찾고자 하는 이름을 input으로 받아, customer_list에서 검색하여 \n",
    "    같은 이름이 있으면 search_list에 append한 후 search_list를 출력\n",
    "    같은 이름이 없으면 없다고 출력'''\n",
    "    search_name = input('검색할 이름은?')\n",
    "    search_list = []\n",
    "    for customer in customer_list:\n",
    "        if customer.name == search_name:\n",
    "            search_list.append(customer)\n",
    "    if search_list:\n",
    "        fn2_print_customers(search_list)\n",
    "    else:\n",
    "        print(\"{}님 데이터는 존재하지 않습니다\".format(search_name))"
   ]
  },
  {
   "cell_type": "code",
   "execution_count": 32,
   "id": "4bf2a8e4",
   "metadata": {},
   "outputs": [],
   "source": [
    "# 4. 이름찾기 (동명이인이 있음)\n",
    "def fn4_search_customer(customer_list):\n",
    "    '''찾고자 하는 이름을 input으로 받아, customer_list에서 검색하여 \n",
    "    같은 이름이 있으면 search_list에 append한 후 search_list를 출력\n",
    "    같은 이름이 없으면 없다고 출력'''\n",
    "    search_name = input('검색할 이름은?')\n",
    "    search_idx = []\n",
    "    for idx, customer in enumerate(customer_list):\n",
    "        if customer.name == search_name:\n",
    "            search_idx.append(idx)\n",
    "    if search_idx:\n",
    "        print('='*70)\n",
    "        print('{:^70}'.format('고객 정보'))\n",
    "        print('-'*70)\n",
    "        print(\"{:>5}\\t{:3}\\t{:13}\\t{:10}\\t{:3}\\t{}\".format(\"GRADE\", \"이름\", \"전화\",\n",
    "                                                          \"메일\",\"나이\",\"기타\"))\n",
    "        print('-'*70)\n",
    "        for idx in search_idx:\n",
    "            print(customer_list[idx])\n",
    "    else:\n",
    "        print(\"{}님 데이터는 존재하지 않습니다\".format(search_name))"
   ]
  },
  {
   "cell_type": "code",
   "execution_count": 33,
   "id": "752f7bb1",
   "metadata": {},
   "outputs": [
    {
     "name": "stdout",
     "output_type": "stream",
     "text": [
      "검색할 이름은?신길동\n",
      "======================================================================\n",
      "                                고객 정보                                 \n",
      "----------------------------------------------------------------------\n",
      "GRADE\t이름 \t전화           \t메일        \t나이 \t기타\n",
      "----------------------------------------------------------------------\n",
      "  ***\t신길동\t010-9999-9999\ta@a.com        \t 30\t까칠해\n",
      "  ***\t신길동\t010-9999-9999\ta@a.com        \t 30\t까칠해\n"
     ]
    }
   ],
   "source": [
    "# 4기능 테스트\n",
    "fn4_search_customer(customer_list)"
   ]
  },
  {
   "cell_type": "markdown",
   "id": "aebce2f6",
   "metadata": {},
   "source": [
    "## 5. 내보내기(CSV)"
   ]
  },
  {
   "cell_type": "code",
   "execution_count": null,
   "id": "d8fee297",
   "metadata": {},
   "outputs": [],
   "source": [
    "def fn3_save_customers(customer_list):"
   ]
  },
  {
   "cell_type": "code",
   "execution_count": null,
   "id": "bd024b6d",
   "metadata": {},
   "outputs": [],
   "source": [
    "# 5번 기능 테스트"
   ]
  },
  {
   "cell_type": "markdown",
   "id": "8639280e",
   "metadata": {},
   "source": [
    "## 9. 종료"
   ]
  },
  {
   "cell_type": "code",
   "execution_count": null,
   "id": "03dd7e2b",
   "metadata": {},
   "outputs": [],
   "source": [
    "# 9. 종료(종료하기 전 customer)"
   ]
  },
  {
   "cell_type": "code",
   "execution_count": null,
   "id": "05f73991",
   "metadata": {},
   "outputs": [],
   "source": [
    "# 9번 기능 테스트"
   ]
  },
  {
   "cell_type": "code",
   "execution_count": null,
   "id": "1a4a2502",
   "metadata": {},
   "outputs": [],
   "source": []
  },
  {
   "cell_type": "code",
   "execution_count": null,
   "id": "6a09ba85",
   "metadata": {},
   "outputs": [],
   "source": []
  },
  {
   "cell_type": "code",
   "execution_count": null,
   "id": "f1b69224",
   "metadata": {},
   "outputs": [],
   "source": []
  },
  {
   "cell_type": "code",
   "execution_count": null,
   "id": "5ac89cca",
   "metadata": {},
   "outputs": [],
   "source": []
  },
  {
   "cell_type": "code",
   "execution_count": null,
   "id": "55cbd835",
   "metadata": {},
   "outputs": [],
   "source": []
  },
  {
   "cell_type": "code",
   "execution_count": null,
   "id": "cac26e72",
   "metadata": {},
   "outputs": [],
   "source": []
  },
  {
   "cell_type": "code",
   "execution_count": null,
   "id": "f33e3461",
   "metadata": {},
   "outputs": [],
   "source": []
  }
 ],
 "metadata": {
  "kernelspec": {
   "display_name": "Python 3 (ipykernel)",
   "language": "python",
   "name": "python3"
  },
  "language_info": {
   "codemirror_mode": {
    "name": "ipython",
    "version": 3
   },
   "file_extension": ".py",
   "mimetype": "text/x-python",
   "name": "python",
   "nbconvert_exporter": "python",
   "pygments_lexer": "ipython3",
   "version": "3.10.9"
  },
  "toc": {
   "base_numbering": 1,
   "nav_menu": {},
   "number_sections": false,
   "sideBar": true,
   "skip_h1_title": false,
   "title_cell": "Table of Contents",
   "title_sidebar": "Contents",
   "toc_cell": false,
   "toc_position": {
    "height": "calc(100% - 180px)",
    "left": "10px",
    "top": "150px",
    "width": "165px"
   },
   "toc_section_display": true,
   "toc_window_display": false
  }
 },
 "nbformat": 4,
 "nbformat_minor": 5
}
