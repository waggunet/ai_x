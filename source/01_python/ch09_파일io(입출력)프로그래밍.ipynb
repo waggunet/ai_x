{
 "cells": [
  {
   "cell_type": "code",
   "execution_count": 2,
   "id": "cdfc1d62",
   "metadata": {},
   "outputs": [
    {
     "data": {
      "text/html": [
       "\n",
       "<style>\n",
       "div.container{width:86% !important;}\n",
       "div.cell.code_cell.rendered{width:100%;}\n",
       "div.CodeMirror {font-family:Consolas; font-size:13pt;\n",
       "div.output {font-size:12pt; font-weight:bold;}\n",
       "div.input {font-family:Consolas; font-size:10pt;}\n",
       "div.prompt {min-width:70px;}\n",
       "div#toc-wrapper{padding-top:120px;}\n",
       "div.text_cell_render ul li{font-size:10pt;padding:5px;}\n",
       "table.dataframe{font-size:15px;\n",
       "</style>\n"
      ],
      "text/plain": [
       "<IPython.core.display.HTML object>"
      ]
     },
     "metadata": {},
     "output_type": "display_data"
    }
   ],
   "source": [
    "# 매 강의 시작시마다 동일하게 처리해야 함\n",
    "from IPython.display import display, HTML\n",
    "display(HTML(\"\"\"\n",
    "<style>\n",
    "div.container{width:86% !important;}\n",
    "div.cell.code_cell.rendered{width:100%;}\n",
    "div.CodeMirror {font-family:Consolas; font-size:13pt;\n",
    "div.output {font-size:12pt; font-weight:bold;}\n",
    "div.input {font-family:Consolas; font-size:10pt;}\n",
    "div.prompt {min-width:70px;}\n",
    "div#toc-wrapper{padding-top:120px;}\n",
    "div.text_cell_render ul li{font-size:10pt;padding:5px;}\n",
    "table.dataframe{font-size:15px;\n",
    "</style>\n",
    "\"\"\"))"
   ]
  },
  {
   "cell_type": "code",
   "execution_count": 77,
   "id": "455e0902",
   "metadata": {},
   "outputs": [],
   "source": [
    "# 250422"
   ]
  },
  {
   "cell_type": "markdown",
   "id": "7857a9be",
   "metadata": {},
   "source": [
    "<b><font size=\"5\" color=\"red\">ch09. 파일 입/출력 프로그래밍</font></b>\n",
    "- 파일 : txt, pickle, csv, json, hdf5(h5)\n",
    "\n",
    "# 1절. txt 파일에 데이터 저장하고 불러오기"
   ]
  },
  {
   "cell_type": "code",
   "execution_count": 10,
   "id": "df4f05be",
   "metadata": {},
   "outputs": [],
   "source": [
    "try:\n",
    "    f = open('data/ch09.txt', 'w') # 파일이름은 제대로 친다고 치고 진행한다.\n",
    "except FileNotFoundError as e:\n",
    "    print(e)\n",
    "    "
   ]
  },
  {
   "cell_type": "code",
   "execution_count": 12,
   "id": "de9371b0",
   "metadata": {},
   "outputs": [
    {
     "name": "stdout",
     "output_type": "stream",
     "text": [
      "쓰기 가능한지 여부 : True\n"
     ]
    }
   ],
   "source": [
    "f = open('data.cho09.txt', \"w\")\n",
    "print('쓰기 가능한지 여부 :', f.writable())"
   ]
  },
  {
   "cell_type": "code",
   "execution_count": 13,
   "id": "b00762ce",
   "metadata": {},
   "outputs": [],
   "source": [
    "f.write('Hello\\nWorld')\n",
    "f.close()  # close() 쓰기한 내용이 저장됨"
   ]
  },
  {
   "cell_type": "code",
   "execution_count": 14,
   "id": "9e06d038",
   "metadata": {},
   "outputs": [
    {
     "name": "stdout",
     "output_type": "stream",
     "text": [
      "쓰기 가능한지 여부 : True\n"
     ]
    }
   ],
   "source": [
    "with open('data/ch09.txt', 'w') as f:\n",
    "    print('쓰기 가능한지 여부 :', f.writable())\n",
    "    f.write('Hello\\nPython')"
   ]
  },
  {
   "cell_type": "code",
   "execution_count": 21,
   "id": "bfd2d34c",
   "metadata": {
    "scrolled": true
   },
   "outputs": [
    {
     "name": "stdout",
     "output_type": "stream",
     "text": [
      "쓰기 가능한지 여부 : True\n"
     ]
    }
   ],
   "source": [
    "# 한글사용시 반드시 encoding 적용 필요함\n",
    "# mode : 'r' 또는 'rt' (텍스트모드) : 읽기, 파일이 없는 경우 예외, 파일이 있는 경우 text읽기 모드\n",
    "#        'rb' : 바이너리 읽기 모드\n",
    "#        'w' 또는 'wt' : text 쓰기 모드 (파일이 있으면 덮어씀, 파일이 없으면 파일 생성)\n",
    "#        'wb' : 비이너리 쓰기 모드\n",
    "#        'a' 또는 'at' : text 추가 모드 (파일이 있으면 append, 없으면 파일 생성) \n",
    "#        읽기모드에서 파일이 없으면 예외 / 쓰기모드에서는 폴더가 없으면 예외\n",
    "# encoding\n",
    "#        euc-kr (한글완성형) 믜 x\n",
    "#        cp949 (확장된 한글완성형) : open() 함수 기본 encoding 방식(win)\n",
    "#        utf-8 (한글조합형) : open()함수 기본 encoding 방식(mac, linux), 주피터노트북 기본\n",
    "\n",
    "with open('data/ch09.txt', 'w') as f:\n",
    "    print('쓰기 가능한지 여부 :', f.writable())\n",
    "    f.write('Hello\\nPython\\n')"
   ]
  },
  {
   "cell_type": "code",
   "execution_count": null,
   "id": "156bca49",
   "metadata": {},
   "outputs": [],
   "source": [
    "'''\n",
    " 1. cp949란?\n",
    "cp949는 Microsoft가 만든 확장 EUC-KR 문자셋.\n",
    "다른 이름으로는 Windows-949, UHC(통합 한글 코드).\n",
    "기본이 되는 건 EUC-KR이라는 문자셋이고, 여기에 추가적인 한글 문자들이 더해져서 만들어짐.\n",
    "\n",
    "📌 2. 왜 cp949가 생겼을까?\n",
    "EUC-KR은 약 2,350자 정도의 한글만 지원했는데, 이건 현대 한국어에서는 부족.\n",
    "그래서 Microsoft가 자사 Windows 시스템에서 더 많은 한글을 다루기 위해 만든 게 cp949.\n",
    "이 덕분에 총 11,172자의 완성형 한글을 다룰 수 있게 됨.\n",
    "\n",
    "'''"
   ]
  },
  {
   "cell_type": "code",
   "execution_count": 22,
   "id": "5b6da8d0",
   "metadata": {},
   "outputs": [],
   "source": [
    "# 데이터 쓰기\n",
    "\n",
    "with open('data/ch09.txt', 'a', encoding=\"utf-8\") as f:\n",
    "    # 1.방법\n",
    "    f.write('홍길동, 33, 아무동9\\n')\n",
    "    f.write('김길동, 34, 저무동8\\n')\n",
    "    # 2.방법\n",
    "    textlist = ['홍길동, 33, 아무동9\\n', '김길동, 33, 아무동9\\n']\n",
    "    for line in textlist:\n",
    "        f.write(line)\n",
    "    # 3.방법\n",
    "    f.writelines(textlist)"
   ]
  },
  {
   "cell_type": "code",
   "execution_count": 25,
   "id": "b0eb3c20",
   "metadata": {},
   "outputs": [],
   "source": [
    "# 데이터 읽기\n",
    "\n",
    "with open('data/ch09.txt', 'r', encoding=\"utf-8\") as f:\n",
    "    pass"
   ]
  },
  {
   "cell_type": "code",
   "execution_count": 29,
   "id": "2839ee58",
   "metadata": {},
   "outputs": [
    {
     "name": "stdout",
     "output_type": "stream",
     "text": [
      "Hello\n",
      " Python\n",
      " 홍길동, 33, 아무동9\n",
      " 김길동, 34, 저무동8\n",
      " 홍길동, 33, 아무동9\n",
      " 김길동, 33, 아무동9\n",
      " 홍길동, 33, 아무동9\n",
      " 김길동, 33, 아무동9\n",
      " "
     ]
    }
   ],
   "source": [
    "# 한줄씩 읽기\n",
    "with open('data/ch09.txt', 'r', encoding=\"utf-8\") as f:\n",
    "    line = f.readline()\n",
    "    while line!='':\n",
    "        print(line, end=' ')\n",
    "        line = f.readline()"
   ]
  },
  {
   "cell_type": "code",
   "execution_count": 31,
   "id": "f38e36ed",
   "metadata": {},
   "outputs": [
    {
     "name": "stdout",
     "output_type": "stream",
     "text": [
      "['Hello\\n', 'Python\\n', '홍길동, 33, 아무동9\\n', '김길동, 34, 저무동8\\n', '홍길동, 33, 아무동9\\n', '김길동, 33, 아무동9\\n', '홍길동, 33, 아무동9\\n', '김길동, 33, 아무동9\\n']\n"
     ]
    }
   ],
   "source": [
    "# 모든 줄을 읽기\n",
    "\n",
    "with open('data/ch09.txt', 'r', encoding=\"utf-8\") as f:\n",
    "    lines = f.readlines()\n",
    "    print(lines)"
   ]
  },
  {
   "cell_type": "code",
   "execution_count": 37,
   "id": "db2546a2",
   "metadata": {},
   "outputs": [
    {
     "name": "stdout",
     "output_type": "stream",
     "text": [
      "Hello\n",
      "Python\n",
      "홍길동, 33, 아무동9\n",
      "김길동, 34, 저무동8\n",
      "홍길동, 33, 아무동9\n",
      "김길동, 33, 아무동9\n",
      "홍길동, 33, 아무동9\n",
      "김길동, 33, 아무동9\n",
      "\n"
     ]
    },
    {
     "data": {
      "text/plain": [
       "['Hello\\n',\n",
       " 'Python\\n',\n",
       " '홍길동, 33, 아무동9\\n',\n",
       " '김길동, 34, 저무동8\\n',\n",
       " '홍길동, 33, 아무동9\\n',\n",
       " '김길동, 33, 아무동9\\n',\n",
       " '홍길동, 33, 아무동9\\n',\n",
       " '김길동, 33, 아무동9\\n']"
      ]
     },
     "execution_count": 37,
     "metadata": {},
     "output_type": "execute_result"
    }
   ],
   "source": [
    "# 모두 읽기\n",
    "\n",
    "with open('data/ch09.txt', 'r', encoding=\"utf-8\") as f:\n",
    "    lines_ = f.read()\n",
    "    print(lines_)\n",
    "lines"
   ]
  },
  {
   "cell_type": "markdown",
   "id": "000b3beb",
   "metadata": {},
   "source": [
    "# 2절. 피클을 이용한 객체 저장 및 불러오기\n",
    "## 2.1 형식이 있는 txt 데이터 불러오기"
   ]
  },
  {
   "cell_type": "code",
   "execution_count": 4,
   "id": "4a42a48d",
   "metadata": {},
   "outputs": [],
   "source": [
    "class Member:\n",
    "    def __init__(self, name, age, email, address):\n",
    "        self.name = name\n",
    "        self.age = age\n",
    "        self.email = email\n",
    "        self.address = address\n",
    "    def __str__(self):\n",
    "        return \"{}, {}, {}, {}\".format(self.name,\n",
    "                                      \"성년\" if self.age>18 else \"미성년\",\n",
    "                                      self.email,\n",
    "                                      self.address)\n",
    "    def as_dict(self):\n",
    "        return {\n",
    "            'name' : self.name,\n",
    "            'age':self.age,\n",
    "            'email':self.email,\n",
    "            'address':self.address      \n",
    "        }\n",
    "    def __eq__(self, other):\n",
    "        return self.name == other.name and \\\n",
    "                self.age == other.age and \\\n",
    "                self.email == other.email and \\\n",
    "                self.address == other.address"
   ]
  },
  {
   "cell_type": "code",
   "execution_count": 5,
   "id": "c4d78dfd",
   "metadata": {},
   "outputs": [
    {
     "name": "stdout",
     "output_type": "stream",
     "text": [
      "True\n",
      "True\n"
     ]
    }
   ],
   "source": [
    "user1 = Member('홍', 20,'a@a.com', '신림동')\n",
    "user2 = Member('홍', 20,'a@a.com', '신림동')\n",
    "print(user1 == user2)\n",
    "print(user1.__eq__(user2)) # 같은 내용이면 True"
   ]
  },
  {
   "cell_type": "code",
   "execution_count": 6,
   "id": "3667364e",
   "metadata": {},
   "outputs": [],
   "source": [
    "# 형식이 있는 txt파일 내용을 member list(피클 저장), 딕셔너리 list(데이터프레임)로 저장\n",
    "user_list = [] # member list\n",
    "user_dict = [] # 딕셔너리 list\n",
    "with open('data/ch09_member.txt', 'r', encoding='utf-8') as txt_file:\n",
    "    lines = txt_file.readlines()\n",
    "# print(lines)\n",
    "for line in lines:\n",
    "#     print(line)\n",
    "    data =line.split(', ')\n",
    "#     print(data)\n",
    "    name = data[0]\n",
    "    age = int(data[1].strip()) # strip() 좌우 공백제거(space, \\t, \\n)\n",
    "    email = data[2].strip()\n",
    "    address = data[3].strip()\n",
    "    user = Member(name, age, email, address)\n",
    "    user_list.append(user)\n",
    "    user_dict.append(user.as_dict)\n",
    "#     user_dict.append(user.__dict__)"
   ]
  },
  {
   "cell_type": "code",
   "execution_count": 15,
   "id": "8abdc95a",
   "metadata": {},
   "outputs": [
    {
     "name": "stdout",
     "output_type": "stream",
     "text": [
      "홍길동, 성년, kildong@hong.com, 서울시 관악구\n",
      "홍길숙, 성년, kilsuk1@hong.com, 서울시 영등포구\n",
      "신길동, 성년, shinkil@hong.com, 서울시 동작구\n"
     ]
    }
   ],
   "source": [
    "for user in user_list:\n",
    "    print(user)"
   ]
  },
  {
   "cell_type": "markdown",
   "id": "a2f7a718",
   "metadata": {},
   "source": [
    "## 2.2 피클링\n",
    "- 객체 리스트(user_list) -> 피클파일로 쓰기\n",
    "- 피클 파일을 읽기 -> 객체 리스트(load_user_list)"
   ]
  },
  {
   "cell_type": "code",
   "execution_count": 16,
   "id": "5dadeaa8",
   "metadata": {},
   "outputs": [],
   "source": [
    "# 피클링을 이용한 객체를 저장하기\n",
    "\n",
    "import pickle\n",
    "with open('data/ch09_member.data', 'wb') as f:\n",
    "    pickle.dump(user_list, f)"
   ]
  },
  {
   "cell_type": "code",
   "execution_count": 17,
   "id": "2868f29f",
   "metadata": {},
   "outputs": [],
   "source": [
    "# 피클링을 이용한 파일에서 객체 데이터로 읽기\n",
    "with open('data/ch09_member.data', 'rb') as f:\n",
    "    load_user_list = pickle.load(f)"
   ]
  },
  {
   "cell_type": "code",
   "execution_count": 18,
   "id": "d4d08a05",
   "metadata": {},
   "outputs": [
    {
     "data": {
      "text/plain": [
       "True"
      ]
     },
     "execution_count": 18,
     "metadata": {},
     "output_type": "execute_result"
    }
   ],
   "source": [
    "user_list == load_user_list"
   ]
  },
  {
   "cell_type": "code",
   "execution_count": 19,
   "id": "48e7ab06",
   "metadata": {},
   "outputs": [
    {
     "ename": "TypeError",
     "evalue": "'Member' object is not subscriptable",
     "output_type": "error",
     "traceback": [
      "\u001b[1;31m---------------------------------------------------------------------------\u001b[0m",
      "\u001b[1;31mTypeError\u001b[0m                                 Traceback (most recent call last)",
      "Cell \u001b[1;32mIn[19], line 2\u001b[0m\n\u001b[0;32m      1\u001b[0m \u001b[38;5;28;01mfor\u001b[39;00m idx \u001b[38;5;129;01min\u001b[39;00m \u001b[38;5;28mrange\u001b[39m(\u001b[38;5;28mlen\u001b[39m(user_list)):\n\u001b[1;32m----> 2\u001b[0m     \u001b[38;5;28mprint\u001b[39m(idx, \u001b[43muser\u001b[49m\u001b[43m[\u001b[49m\u001b[43midx\u001b[49m\u001b[43m]\u001b[49m)\n\u001b[0;32m      3\u001b[0m     \u001b[38;5;28mprint\u001b[39m(idx, load_user_list[idx])\n",
      "\u001b[1;31mTypeError\u001b[0m: 'Member' object is not subscriptable"
     ]
    }
   ],
   "source": [
    "for idx in range(len(user_list)):\n",
    "    print(idx, user[idx])\n",
    "    print(idx, load_user_list[idx])"
   ]
  },
  {
   "cell_type": "code",
   "execution_count": 20,
   "id": "243d01c3",
   "metadata": {},
   "outputs": [
    {
     "name": "stdout",
     "output_type": "stream",
     "text": [
      "홍길동, 성년, kildong@hong.com, 서울시 관악구\n",
      "홍길동, 성년, kildong@hong.com, 서울시 관악구\n",
      "홍길숙, 성년, kilsuk1@hong.com, 서울시 영등포구\n",
      "홍길숙, 성년, kilsuk1@hong.com, 서울시 영등포구\n",
      "신길동, 성년, shinkil@hong.com, 서울시 동작구\n",
      "신길동, 성년, shinkil@hong.com, 서울시 동작구\n"
     ]
    }
   ],
   "source": [
    "for user, load_user in zip(user_list, load_user_list):\n",
    "    print(user)\n",
    "    print(load_user)"
   ]
  },
  {
   "cell_type": "code",
   "execution_count": 21,
   "id": "949e751c",
   "metadata": {
    "scrolled": true
   },
   "outputs": [
    {
     "name": "stdout",
     "output_type": "stream",
     "text": [
      "0 홍길동, 성년, kildong@hong.com, 서울시 관악구\n",
      "0 홍길동, 성년, kildong@hong.com, 서울시 관악구\n",
      "True\n",
      "1 홍길숙, 성년, kilsuk1@hong.com, 서울시 영등포구\n",
      "1 홍길숙, 성년, kilsuk1@hong.com, 서울시 영등포구\n",
      "True\n",
      "2 신길동, 성년, shinkil@hong.com, 서울시 동작구\n",
      "2 신길동, 성년, shinkil@hong.com, 서울시 동작구\n",
      "True\n"
     ]
    }
   ],
   "source": [
    "for idx,(user, load_user) in enumerate(zip(user_list, load_user_list)):\n",
    "    print(idx, user)\n",
    "    print(idx, load_user)\n",
    "    print(user == load_user)"
   ]
  },
  {
   "cell_type": "code",
   "execution_count": 24,
   "id": "eb0a399b",
   "metadata": {},
   "outputs": [
    {
     "data": {
      "text/plain": [
       "True"
      ]
     },
     "execution_count": 24,
     "metadata": {},
     "output_type": "execute_result"
    }
   ],
   "source": [
    "result = []\n",
    "for user, load_user in zip(user_list, load_user_list):\n",
    "    result.append(user==load_user)\n",
    "all(result)"
   ]
  },
  {
   "cell_type": "markdown",
   "id": "9bfda94a",
   "metadata": {},
   "source": [
    "# 3절. CSV 형식 파일 읽기/쓰기\n",
    "- csv파일 <-> 리스트데이터로 3.1 / 3.2\n",
    "- csv파일 <-> 딕셔너리데이터 3.3 / 3.4"
   ]
  },
  {
   "cell_type": "code",
   "execution_count": null,
   "id": "f5c1f72e",
   "metadata": {},
   "outputs": [],
   "source": [
    "'''\n",
    "변환 방식\t예제 번호\t설명\n",
    "CSV → 리스트\t3.1\t한 줄씩 리스트로 읽음\n",
    "리스트 → CSV\t3.2\t리스트를 CSV로 씀\n",
    "CSV → 딕셔너리\t3.3\t한 줄을 딕셔너리로 읽음\n",
    "딕셔너리 → CSV\t3.4\t딕셔너리를 CSV로 씀\n",
    "'''\n"
   ]
  },
  {
   "cell_type": "markdown",
   "id": "7269045e",
   "metadata": {},
   "source": [
    "## 3.1 reader"
   ]
  },
  {
   "cell_type": "code",
   "execution_count": 71,
   "id": "0785503e",
   "metadata": {},
   "outputs": [
    {
     "name": "stdout",
     "output_type": "stream",
     "text": [
      "[['홍길동', '20', 'kildong@hong.com', '서울시 관악구'], ['김길동', '40', 'kimdong@hong.com', '서울시 영등포구'], ['신길동', '30', 'sindong@hong.com', '서울시 동작구']]\n"
     ]
    }
   ],
   "source": [
    "import csv\n",
    "with open('data/ch09_member1.csv', 'r', encoding='utf-8') as f:\n",
    "    reader = csv.reader(f)\n",
    "    result = list(reader)\n",
    "print(result)"
   ]
  },
  {
   "cell_type": "code",
   "execution_count": 72,
   "id": "39ad274f",
   "metadata": {
    "scrolled": true
   },
   "outputs": [
    {
     "name": "stdout",
     "output_type": "stream",
     "text": [
      "[['홍길동', 20.0, 'kildong@hong.com', '서울시 관악구'], ['김길동', 40.0, 'kimdong@hong.com', '서울시 영등포구'], ['신길동', 30.0, 'sindong@hong.com', '서울시 동작구']]\n"
     ]
    }
   ],
   "source": [
    "# \" \"(따옴표)가 없는 데이터는 numeric으로\n",
    "import csv\n",
    "with open('data/ch09_member1.csv', 'r', encoding='utf-8') as f:\n",
    "    reader = csv.reader(f,\n",
    "                       quoting=csv.QUOTE_NONNUMERIC)\n",
    "    result = list(reader)\n",
    "print(result)"
   ]
  },
  {
   "cell_type": "code",
   "execution_count": 3,
   "id": "0429507c",
   "metadata": {},
   "outputs": [
    {
     "name": "stdout",
     "output_type": "stream",
     "text": [
      "[{'name': '홍길동', 'age': 20, 'email': 'kildong@hong.com', 'address': '서울시 관악구'}, {'name': '김길동', 'age': 40, 'email': 'kimdong@hong.com', 'address': '서울시 영등포구'}, {'name': '신길동', 'age': 30, 'email': 'sindong@hong.com', 'address': '서울시 동작구'}]\n"
     ]
    }
   ],
   "source": [
    "import csv\n",
    "with open('data/ch09_member1.csv', 'r', encoding='utf-8') as f:\n",
    "    reader = csv.reader(f,\n",
    "                       quoting=csv.QUOTE_NONNUMERIC)\n",
    "    result = list(reader)\n",
    "dict_list = []\n",
    "for data in result:\n",
    "    dict_list.append({\n",
    "        'name':data[0],\n",
    "        'age':int(data[1]),\n",
    "        'email':data[2],\n",
    "        'address':data[3]\n",
    "    })\n",
    "print(dict_list)"
   ]
  },
  {
   "cell_type": "markdown",
   "id": "e4917b66",
   "metadata": {},
   "source": [
    "## 3.2 writer"
   ]
  },
  {
   "cell_type": "code",
   "execution_count": 23,
   "id": "4795957e",
   "metadata": {},
   "outputs": [],
   "source": [
    "user_list = [['홍길동',20,'kildong@hong.com','서울시 관악구'],\n",
    "             ['김길동',40,'kimdong@hong.com','서울시 영등포구'],\n",
    "             ['신길동',30,'sindong@hong.com','서울시 동작구']]"
   ]
  },
  {
   "cell_type": "code",
   "execution_count": 27,
   "id": "46e26fa5",
   "metadata": {},
   "outputs": [],
   "source": [
    "import csv\n",
    "with open('data/ch09_member1_write.csv', 'w', newline='', encoding='utf-8') as f:\n",
    "    writer = csv.writer(f, quoting=csv.QUOTE_NONNUMERIC)\n",
    "    writer.writerows(user_list)"
   ]
  },
  {
   "cell_type": "markdown",
   "id": "6566efe9",
   "metadata": {},
   "source": [
    "## 3.3 DictReader"
   ]
  },
  {
   "cell_type": "code",
   "execution_count": 30,
   "id": "96d73142",
   "metadata": {},
   "outputs": [
    {
     "name": "stdout",
     "output_type": "stream",
     "text": [
      "홍길동 20 h@h.com 서울시 관악구\n",
      "신길동 40 s@h.com 서울시 영등포구 팀장\n",
      "김길동 30 k@h.com 서울시 동작구\n"
     ]
    }
   ],
   "source": [
    "import csv\n",
    "with open('data/ch09_member3.csv', 'r', encoding='utf-8') as f:\n",
    "    dict_reader = csv.DictReader(f)\n",
    "    for row in dict_reader:\n",
    "        if row['job'] is None:\n",
    "            print(row['name'],row['age'],row['email'],row['address'] )\n",
    "        else:\n",
    "            print(row['name'],row['age'],row['email'],row['address'], row['job'])"
   ]
  },
  {
   "cell_type": "code",
   "execution_count": 19,
   "id": "a68e558e",
   "metadata": {},
   "outputs": [
    {
     "name": "stdout",
     "output_type": "stream",
     "text": [
      "{'Name': '홍길동', 'Age': '20', 'Email': 'kildong@hong.com', 'Address': '서울시 관악구', 'Job': ''}\n",
      "{'Name': '김길동', 'Age': '40', 'Email': 'kimdong@hong.com', 'Address': '서울시 영등포구', 'Job': '팀장'}\n",
      "{'Name': '신길동', 'Age': '30', 'Email': 'sindong@hong.com', 'Address': '서울시 동작구', 'Job': ''}\n"
     ]
    }
   ],
   "source": [
    "# header가 없는 csv파일(ch09_emeber1-cp.csv)을 딕셔너리로 읽기\n",
    "\n",
    "with open('data/ch09_member1-cp.csv', encoding='cp949') as f:\n",
    "    dict_reader = csv.DictReader(f,\n",
    "                                fieldnames=['Name','Age','Email','Address','Job'])\n",
    "#     print(list(dict_reader))\n",
    "#     print(list(dict_reader))\n",
    "    result = list(dict_reader)\n",
    "for row in result:\n",
    "    print(row)"
   ]
  },
  {
   "cell_type": "code",
   "execution_count": 21,
   "id": "45a768f3",
   "metadata": {},
   "outputs": [
    {
     "name": "stdout",
     "output_type": "stream",
     "text": [
      "{'Name': '홍길동', 'Age': '20', 'Email': 'kildong@hong.com', 'Address': '서울시 관악구', 'job': ['']}\n",
      "{'Name': '김길동', 'Age': '40', 'Email': 'kimdong@hong.com', 'Address': '서울시 영등포구', 'job': ['팀장']}\n",
      "{'Name': '신길동', 'Age': '30', 'Email': 'sindong@hong.com', 'Address': '서울시 동작구', 'job': ['']}\n"
     ]
    }
   ],
   "source": [
    "\n",
    "with open('data/ch09_member1-cp.csv', encoding='cp949') as f:\n",
    "    dict_reader = csv.DictReader(f,\n",
    "                                fieldnames=['Name','Age','Email','Address'],\n",
    "                                restkey='job')\n",
    "#     print(list(dict_reader))\n",
    "#     print(list(dict_reader))\n",
    "    result = list(dict_reader)\n",
    "for row in result:\n",
    "    print(row)"
   ]
  },
  {
   "cell_type": "markdown",
   "id": "00d12849",
   "metadata": {},
   "source": [
    "## 3.4 DictWriter\n",
    "- 딕셔너리 리스트 -> CSV파일"
   ]
  },
  {
   "cell_type": "code",
   "execution_count": 36,
   "id": "eb82654f",
   "metadata": {},
   "outputs": [],
   "source": [
    "user1 = {'name':'홍길동','age':22,'email':'a@a.com','address':'신림동'}\n",
    "user2 = {'name':'김길동','age':32,'email':'b@a.com','address':'신림동'}\n",
    "user3 = {'name':'신길동','age':42,'email':'c@a.com','address':'신림동'}\n",
    "user_list = [user1, user2, user3]\n",
    "fieldnames = list(user1.keys())"
   ]
  },
  {
   "cell_type": "code",
   "execution_count": 38,
   "id": "4cd2bc4c",
   "metadata": {},
   "outputs": [],
   "source": [
    "with open('data/ch09_member4.csv', 'w', encoding='utf-8', newline='') as f:\n",
    "    dict_writer = csv.DictWriter(f,\n",
    "                                fieldnames=fieldnames)\n",
    "    dict_writer.writeheader()  # header 쓰기\n",
    "    dict_writer.writerows(user_list)"
   ]
  },
  {
   "cell_type": "code",
   "execution_count": 32,
   "id": "b486342b",
   "metadata": {},
   "outputs": [
    {
     "data": {
      "text/plain": [
       "dict_keys(['name', 'age', 'email', 'address'])"
      ]
     },
     "execution_count": 32,
     "metadata": {},
     "output_type": "execute_result"
    }
   ],
   "source": [
    "user1.keys()"
   ]
  },
  {
   "cell_type": "code",
   "execution_count": 33,
   "id": "f4c234ad",
   "metadata": {},
   "outputs": [
    {
     "data": {
      "text/plain": [
       "dict_values(['홍길동', 22, 'a@a.com', '신림동'])"
      ]
     },
     "execution_count": 33,
     "metadata": {},
     "output_type": "execute_result"
    }
   ],
   "source": [
    "user1.values()"
   ]
  },
  {
   "cell_type": "code",
   "execution_count": 34,
   "id": "74d05dc1",
   "metadata": {},
   "outputs": [
    {
     "data": {
      "text/plain": [
       "dict_items([('name', '홍길동'), ('age', 22), ('email', 'a@a.com'), ('address', '신림동')])"
      ]
     },
     "execution_count": 34,
     "metadata": {},
     "output_type": "execute_result"
    }
   ],
   "source": [
    "user1.items()"
   ]
  },
  {
   "cell_type": "markdown",
   "id": "4768ebe5",
   "metadata": {},
   "source": [
    "## csv < - > 데이터 프레임"
   ]
  },
  {
   "cell_type": "code",
   "execution_count": 4,
   "id": "cad81ad6",
   "metadata": {},
   "outputs": [
    {
     "data": {
      "text/html": [
       "<div>\n",
       "<style scoped>\n",
       "    .dataframe tbody tr th:only-of-type {\n",
       "        vertical-align: middle;\n",
       "    }\n",
       "\n",
       "    .dataframe tbody tr th {\n",
       "        vertical-align: top;\n",
       "    }\n",
       "\n",
       "    .dataframe thead th {\n",
       "        text-align: right;\n",
       "    }\n",
       "</style>\n",
       "<table border=\"1\" class=\"dataframe\">\n",
       "  <thead>\n",
       "    <tr style=\"text-align: right;\">\n",
       "      <th></th>\n",
       "      <th>name</th>\n",
       "      <th>age</th>\n",
       "      <th>email</th>\n",
       "      <th>address</th>\n",
       "      <th>job</th>\n",
       "    </tr>\n",
       "  </thead>\n",
       "  <tbody>\n",
       "    <tr>\n",
       "      <th>0</th>\n",
       "      <td>홍길동</td>\n",
       "      <td>20</td>\n",
       "      <td>h@h.com</td>\n",
       "      <td>서울시 관악구</td>\n",
       "      <td>NaN</td>\n",
       "    </tr>\n",
       "    <tr>\n",
       "      <th>1</th>\n",
       "      <td>신길동</td>\n",
       "      <td>40</td>\n",
       "      <td>s@h.com</td>\n",
       "      <td>서울시 영등포구</td>\n",
       "      <td>팀장</td>\n",
       "    </tr>\n",
       "    <tr>\n",
       "      <th>2</th>\n",
       "      <td>김길동</td>\n",
       "      <td>30</td>\n",
       "      <td>k@h.com</td>\n",
       "      <td>서울시 동작구</td>\n",
       "      <td>NaN</td>\n",
       "    </tr>\n",
       "  </tbody>\n",
       "</table>\n",
       "</div>"
      ],
      "text/plain": [
       "  name  age    email   address  job\n",
       "0  홍길동   20  h@h.com   서울시 관악구  NaN\n",
       "1  신길동   40  s@h.com  서울시 영등포구   팀장\n",
       "2  김길동   30  k@h.com   서울시 동작구  NaN"
      ]
     },
     "execution_count": 4,
     "metadata": {},
     "output_type": "execute_result"
    }
   ],
   "source": [
    "import pandas as pd\n",
    "member = pd.read_csv('data/ch09_member3.csv')\n",
    "member"
   ]
  },
  {
   "cell_type": "code",
   "execution_count": 5,
   "id": "d1aacc54",
   "metadata": {},
   "outputs": [
    {
     "name": "stdout",
     "output_type": "stream",
     "text": [
      "<class 'pandas.core.frame.DataFrame'>\n"
     ]
    }
   ],
   "source": [
    "print(type(member))"
   ]
  },
  {
   "cell_type": "markdown",
   "id": "106c6e68",
   "metadata": {},
   "source": [
    "# 4절 JSON 데이터 저장하고 불러오기(dump, load)\n",
    "- 딕셔너리리스트 <-> JSON 파일(기본)\n",
    "- 객체리스트 <-> JSON 파일\n",
    "\n",
    "## 4.1 dump(파일 출력)"
   ]
  },
  {
   "cell_type": "code",
   "execution_count": 8,
   "id": "e2e9e400",
   "metadata": {},
   "outputs": [],
   "source": [
    "data = [{'name':'홍길동','age':22,'email':'a@a.com','address':'서울'},\n",
    "        {'name':'김길동','age':32,'email':'b@a.com','address':'신림동'}]"
   ]
  },
  {
   "cell_type": "code",
   "execution_count": 10,
   "id": "2c6c383f",
   "metadata": {},
   "outputs": [],
   "source": [
    "# ensure_ascii 매개변수\n",
    "#     True : 비 ASCII문은 유니코드 형태로 저장\n",
    "#     False : 비 ASCII문자 원래 형태로 저장\n",
    "import json\n",
    "with open('data/ch09_member.json', 'w', encoding='utf-8') as jsonfile:\n",
    "    json.dump(data,  # 딕셔너리 리스트\n",
    "             jsonfile,\n",
    "             ensure_ascii=False,\n",
    "             indent='\\t')"
   ]
  },
  {
   "cell_type": "code",
   "execution_count": 11,
   "id": "65570de2",
   "metadata": {},
   "outputs": [],
   "source": [
    "import json\n",
    "with open('data/ch09_member.json', 'w', encoding='utf-8') as jsonfile:\n",
    "    json.dump(data,  # 딕셔너리 리스트\n",
    "             jsonfile,\n",
    "             ensure_ascii=False)"
   ]
  },
  {
   "cell_type": "code",
   "execution_count": 17,
   "id": "69455a1d",
   "metadata": {},
   "outputs": [],
   "source": [
    "class Member:\n",
    "    def __init__(self, name, age, email, address):\n",
    "        self.name = name\n",
    "        self.age = age\n",
    "        self.email = email\n",
    "        self.address = address\n",
    "    def __str__(self):\n",
    "        return \"{}, {}, {}, {}\".format(self.name,\n",
    "                                      self.age,\n",
    "                                      self.email,\n",
    "                                      self.address)\n",
    "    def as_dict(self):\n",
    "        return {\n",
    "            'name' : self.name,\n",
    "            'age':self.age,\n",
    "            'email':self.email,\n",
    "            'address':self.address      \n",
    "        }\n",
    "    def __eq__(self, other):\n",
    "        if isinstance(other, Member):\n",
    "            return self.__str__ == other.__dict__\n",
    "        else:\n",
    "            return False\n",
    "        "
   ]
  },
  {
   "cell_type": "code",
   "execution_count": 18,
   "id": "ea5df260",
   "metadata": {},
   "outputs": [
    {
     "name": "stdout",
     "output_type": "stream",
     "text": [
      "False\n",
      "False\n"
     ]
    }
   ],
   "source": [
    "user1 = Member('홍길동', 22, 'a@a.com','신림동')\n",
    "user2 = Member('홍길동', 22, 'a@a.com','신림동')\n",
    "print(user1.__eq__('user2'))\n",
    "print(user2 == user2)"
   ]
  },
  {
   "cell_type": "code",
   "execution_count": 19,
   "id": "ed3f6c91",
   "metadata": {},
   "outputs": [],
   "source": [
    "member_list = [Member('홍길동', 22, 'a@a.com', '서울'),\n",
    "               Member('홍길동', 22, 'a@a.com', '서울'),\n",
    "               Member('홍길동', 22, 'a@a.com', '서울')]"
   ]
  },
  {
   "cell_type": "code",
   "execution_count": 21,
   "id": "7b2bd0ed",
   "metadata": {},
   "outputs": [],
   "source": [
    "with open('data/ch09_member1.json', 'w', encoding='utf-8') as jsonfile:\n",
    "    json.dump(member_list, # 객체 리스트\n",
    "             jsonfile,\n",
    "             ensure_ascii=False,\n",
    "             indent='\\t',\n",
    "             default=Member.as_dict # 객체를 딕셔너리로 return 하는 인스턴스 함수\n",
    "             )"
   ]
  },
  {
   "cell_type": "markdown",
   "id": "886acaf8",
   "metadata": {},
   "source": [
    "## 4.2 load(파일 입력)\n",
    "- json파일 -> 딕셔너리 리스트 (기본)\n",
    "                   ↓\n",
    "- json파일 -> 객체리스트"
   ]
  },
  {
   "cell_type": "code",
   "execution_count": 22,
   "id": "6cd54f7d",
   "metadata": {},
   "outputs": [],
   "source": [
    "def as_member(dic):\n",
    "    '매개변수로 딕셔너리를 받아 Member객체를 return'\n",
    "    return Member(dic.get('name'), dic['age'], dic.get('email'),dic.get('address'))"
   ]
  },
  {
   "cell_type": "code",
   "execution_count": 23,
   "id": "e7478de7",
   "metadata": {},
   "outputs": [
    {
     "name": "stdout",
     "output_type": "stream",
     "text": [
      "김길동, 20, z@z.com, 관악\n"
     ]
    }
   ],
   "source": [
    "member = as_member({'name':'김길동','age':20, 'email':'z@z.com','address':'관악'})\n",
    "print(member)"
   ]
  },
  {
   "cell_type": "code",
   "execution_count": 24,
   "id": "f8ab3dd6",
   "metadata": {},
   "outputs": [
    {
     "data": {
      "text/plain": [
       "[{'name': '홍길동', 'age': 22, 'email': 'a@a.com', 'address': '서울'},\n",
       " {'name': '김길동', 'age': 32, 'email': 'b@a.com', 'address': '신림동'}]"
      ]
     },
     "execution_count": 24,
     "metadata": {},
     "output_type": "execute_result"
    }
   ],
   "source": [
    "# 딕셔너리 리스트로 받기\n",
    "with open('data/ch09_member.json', encoding='utf-8') as f:\n",
    "    load_data = json.load(f)\n",
    "load_data"
   ]
  },
  {
   "cell_type": "code",
   "execution_count": 25,
   "id": "32002d51",
   "metadata": {},
   "outputs": [
    {
     "name": "stdout",
     "output_type": "stream",
     "text": [
      "홍길동, 22, a@a.com, 서울\n",
      "홍길동, 22, a@a.com, 서울\n",
      "홍길동, 22, a@a.com, 서울\n"
     ]
    }
   ],
   "source": [
    "# 개체 리스트로 받기\n",
    "with open('data/ch09_member1.json', encoding='utf-8') as f:\n",
    "    load_member_list = json.load(f, object_hook=as_member)\n",
    "for load_data in load_member_list:\n",
    "    print(load_data)"
   ]
  },
  {
   "cell_type": "markdown",
   "id": "3b4799aa",
   "metadata": {},
   "source": [
    "## JSON -> 데이터프레임"
   ]
  },
  {
   "cell_type": "code",
   "execution_count": 26,
   "id": "e8d72801",
   "metadata": {},
   "outputs": [
    {
     "data": {
      "text/html": [
       "<div>\n",
       "<style scoped>\n",
       "    .dataframe tbody tr th:only-of-type {\n",
       "        vertical-align: middle;\n",
       "    }\n",
       "\n",
       "    .dataframe tbody tr th {\n",
       "        vertical-align: top;\n",
       "    }\n",
       "\n",
       "    .dataframe thead th {\n",
       "        text-align: right;\n",
       "    }\n",
       "</style>\n",
       "<table border=\"1\" class=\"dataframe\">\n",
       "  <thead>\n",
       "    <tr style=\"text-align: right;\">\n",
       "      <th></th>\n",
       "      <th>name</th>\n",
       "      <th>age</th>\n",
       "      <th>email</th>\n",
       "      <th>address</th>\n",
       "    </tr>\n",
       "  </thead>\n",
       "  <tbody>\n",
       "    <tr>\n",
       "      <th>0</th>\n",
       "      <td>홍길동</td>\n",
       "      <td>22</td>\n",
       "      <td>a@a.com</td>\n",
       "      <td>서울</td>\n",
       "    </tr>\n",
       "    <tr>\n",
       "      <th>1</th>\n",
       "      <td>홍길동</td>\n",
       "      <td>22</td>\n",
       "      <td>a@a.com</td>\n",
       "      <td>서울</td>\n",
       "    </tr>\n",
       "    <tr>\n",
       "      <th>2</th>\n",
       "      <td>홍길동</td>\n",
       "      <td>22</td>\n",
       "      <td>a@a.com</td>\n",
       "      <td>서울</td>\n",
       "    </tr>\n",
       "  </tbody>\n",
       "</table>\n",
       "</div>"
      ],
      "text/plain": [
       "  name  age    email address\n",
       "0  홍길동   22  a@a.com      서울\n",
       "1  홍길동   22  a@a.com      서울\n",
       "2  홍길동   22  a@a.com      서울"
      ]
     },
     "execution_count": 26,
     "metadata": {},
     "output_type": "execute_result"
    }
   ],
   "source": [
    "import pandas as pd\n",
    "pd.read_json('data/ch09_member1.json') \n",
    "# pd.함수() : encoding='utf=8' 기본값\n",
    "# open(파일, 모드)함수 : encoding='cp949' 기본값"
   ]
  },
  {
   "cell_type": "code",
   "execution_count": 1,
   "id": "0e9beea6",
   "metadata": {},
   "outputs": [],
   "source": [
    "# 4/22 복습"
   ]
  },
  {
   "cell_type": "code",
   "execution_count": 7,
   "id": "7f394c12",
   "metadata": {},
   "outputs": [],
   "source": [
    "# 기본형식\n",
    "# f = open('파일이름', '모드', encoding='utf-8')\n",
    "'''\n",
    "모드\t의미\n",
    "\"r\"\t읽기 (파일이 있어야 함)\n",
    "\"w\"\t쓰기 (없으면 생성, 있으면 덮어씀)\n",
    "\"a\"\t추가 (파일 끝에 이어서 씀)\n",
    "\"b\"\t바이너리 모드 (픽클 등 이진 파일용)\n",
    "'''\n"
   ]
  },
  {
   "cell_type": "code",
   "execution_count": null,
   "id": "4062a802",
   "metadata": {},
   "outputs": [],
   "source": [
    "# 텍스트파일 다루기\n",
    "# 텍스트 파일 쓰기\n",
    "\n",
    "with open(\"example.txt\", \"w\", encoding=\"utf-8\") as f:\n",
    "    f.writer(\"안녕하세요\\n\")\n",
    "    f.write(\"파이썬 파일 입출력 예제\")"
   ]
  },
  {
   "cell_type": "code",
   "execution_count": 9,
   "id": "878ac0ad",
   "metadata": {},
   "outputs": [],
   "source": [
    "# 텍스트 파일 읽기\n",
    "with open(\"example.txt\", \"w\", encoding=\"utf-8\") as f:\n",
    "    for line in f:\n",
    "        print(line.strip()) # strip()은 줄 끝의 줄바꿈 \\n을 제거"
   ]
  },
  {
   "cell_type": "code",
   "execution_count": 11,
   "id": "83e49fe8",
   "metadata": {},
   "outputs": [
    {
     "name": "stdout",
     "output_type": "stream",
     "text": [
      "메모를 입력하세요(exit입력 시 종료) : sdf\n",
      "메모를 입력하세요(exit입력 시 종료) : k\n",
      "메모를 입력하세요(exit입력 시 종료) : k\n",
      "메모를 입력하세요(exit입력 시 종료) : exit\n"
     ]
    }
   ],
   "source": [
    "# 텍스트 + 사용자 입력\n",
    "# 사용자 메모 저장\n",
    "with open('memo.txt', 'w', encoding='utf-8') as f:\n",
    "    while True:\n",
    "        line = input(\"메모를 입력하세요(exit입력 시 종료) : \")\n",
    "        if line == 'exit':\n",
    "            break\n",
    "    f.write(line + '\\n')"
   ]
  },
  {
   "cell_type": "code",
   "execution_count": 14,
   "id": "824324da",
   "metadata": {},
   "outputs": [],
   "source": [
    "# 형식이 있는 텍트스 처리\n",
    "\n",
    "# 홍길동,20,kildong@hong.com,서울시 강동구\n",
    "# 홍길서,30,kilseo@hong.cokm,서울시 강서구\n",
    "\n",
    "with open('member.txt', 'r') as f:\n",
    "    for line in f:\n",
    "        name, age, email, addr = line.strip().split(',')\n",
    "        print(f'이름:{name} | 나이: {age} | 이메일:{email} | 주소:{addr}')"
   ]
  },
  {
   "cell_type": "code",
   "execution_count": null,
   "id": "3b0b2e59",
   "metadata": {},
   "outputs": [],
   "source": [
    "# 파일에 이어쓰기 (a)"
   ]
  },
  {
   "cell_type": "code",
   "execution_count": null,
   "id": "002b8811",
   "metadata": {},
   "outputs": [],
   "source": [
    "with open('member.txt', 'a' encoding='utf-8') as f:\n",
    "    f.write('이 내용을 이어씁니다'\\n')"
   ]
  },
  {
   "cell_type": "code",
   "execution_count": null,
   "id": "81e44781",
   "metadata": {},
   "outputs": [],
   "source": [
    "# print()로 파일에 출력하기\n",
    "with open('log.txt', 'w') as f:\n",
    "    print('로그기록 시작',file=f)\n",
    "    print('사용자:맹구',file=f)\n",
    "# 화면 대신 파일로 출력 print(...., file=f)"
   ]
  },
  {
   "cell_type": "code",
   "execution_count": null,
   "id": "04c1bf5c",
   "metadata": {},
   "outputs": [],
   "source": [
    "'''\n",
    "예제\t설명\t주요 포인트\n",
    "예제 1\t텍스트 파일 쓰기\t\"w\" 모드\n",
    "예제 2\t텍스트 파일 읽기\tfor line in f\n",
    "예제 3\t사용자 입력 저장\t반복문 + exit 처리\n",
    "예제 4\t쉼표로 구분된 텍스트 처리\tsplit(\",\")\n",
    "예제 5\t이어쓰기\t\"a\" 모드\n",
    "+α\tprint(..., file=파일)\t간단하게 로그 남기기\n",
    "'''"
   ]
  },
  {
   "cell_type": "code",
   "execution_count": null,
   "id": "eb1bd106",
   "metadata": {},
   "outputs": [],
   "source": [
    "# 피클(pickle)\n",
    "'''\n",
    "파이썬의 객체(리스트, 딕셔너리, 클래스 인스턴스 등)을 그대로 파일에 저장하거나 다시 부러올 수 있는 기능\n",
    "일판 파일은 텍스트만 저장\n",
    "피클은 파이썬 객체 그대로 저장 가능\n",
    "'''"
   ]
  },
  {
   "cell_type": "code",
   "execution_count": null,
   "id": "c3e87dd2",
   "metadata": {},
   "outputs": [],
   "source": [
    "# 피클 사용지 주의사항\n",
    "'''\n",
    "작업\t파일 모드\n",
    "저장\t\"wb\" (write binary)\n",
    "읽기\t\"rb\" (read binary)\n",
    "'''"
   ]
  },
  {
   "cell_type": "code",
   "execution_count": 15,
   "id": "f2428603",
   "metadata": {},
   "outputs": [
    {
     "name": "stdout",
     "output_type": "stream",
     "text": [
      "객체 저장 완료\n"
     ]
    }
   ],
   "source": [
    "# 간단한 객체 저장하기(피클링)\n",
    "import pickle\n",
    "data = {'name': '맹구','age': 13, 'hobby':['게임','먹방']}\n",
    "with open('data.pkl', 'wb') as f:\n",
    "    pickle.dump(data, f)\n",
    "\n",
    "print(\"객체 저장 완료\")\n",
    "                                        "
   ]
  },
  {
   "cell_type": "code",
   "execution_count": 20,
   "id": "a8bd6042",
   "metadata": {},
   "outputs": [
    {
     "name": "stdout",
     "output_type": "stream",
     "text": [
      "불러온 데이터: {'name': '맹구', 'age': 13, 'hobby': ['게임', '먹방']}\n",
      "이름: 맹구\n"
     ]
    }
   ],
   "source": [
    "# 저장된 객체 불러오기(언피클링)\n",
    "with open('data.pkl', 'rb') as f:\n",
    "    loaded = pickle.load(f)\n",
    "print('불러온 데이터:',loaded)\n",
    "print('이름:', loaded['name'])"
   ]
  },
  {
   "cell_type": "code",
   "execution_count": 22,
   "id": "2e4a00ae",
   "metadata": {},
   "outputs": [
    {
     "name": "stdout",
     "output_type": "stream",
     "text": [
      "내 점수: [90, 85, 77, 100, 88]\n"
     ]
    }
   ],
   "source": [
    "# 리스트 객체 저장 & 불러오기\n",
    "import pickle\n",
    "\n",
    "scores=[90,85,77,100,88]\n",
    "\n",
    "with open('scores.pkl','wb') as f:\n",
    "    pickle.dump(scores, f)\n",
    "    \n",
    "# 불러오기\n",
    "\n",
    "with open('scores.pkl', 'rb') as f:\n",
    "    my_scores = pickle.load(f)\n",
    "    \n",
    "print('내 점수:',my_scores)"
   ]
  },
  {
   "cell_type": "code",
   "execution_count": 24,
   "id": "256157ec",
   "metadata": {},
   "outputs": [
    {
     "name": "stdout",
     "output_type": "stream",
     "text": [
      "맹구 학생, 2 학년\n"
     ]
    }
   ],
   "source": [
    "# 사용자 정의 클래스 객체 저장하기\n",
    "class Student:\n",
    "    def __init__(self, name, grade):\n",
    "        self.name = name\n",
    "        self.grade = grade\n",
    "        \n",
    "    def __str__(self):\n",
    "        return f'{self.name} 학생, {self.grade} 학년'\n",
    "\n",
    "# 객체생성\n",
    "s1 = Student('맹구', 2)\n",
    "\n",
    "# 저장\n",
    "with open('student.pkl', 'wb') as f:\n",
    "    pickle.dump(s1, f)\n",
    "    \n",
    "# 불러오기\n",
    "with open('student.pkl', 'rb') as f:\n",
    "    student = pickle.load(f)\n",
    "\n",
    "print(student) # __str__ 자동 호출\n",
    "    "
   ]
  },
  {
   "cell_type": "code",
   "execution_count": null,
   "id": "a8b68b23",
   "metadata": {},
   "outputs": [],
   "source": [
    "'''\n",
    "프로그램 종료 시 객체 상태를 저장해두고 다음에 그대로 복구하고 싶을 때\n",
    "\n",
    "게임 저장/불러오기, 설정 저장 등에 자주 사용\n",
    "'''"
   ]
  },
  {
   "cell_type": "code",
   "execution_count": null,
   "id": "4b7b5be0",
   "metadata": {},
   "outputs": [],
   "source": [
    "'''\n",
    "피클 관련 주요 함수 요약\n",
    "\n",
    "함수\t설명\n",
    "pickle.dump(obj, file)\t객체를 파일에 저장\n",
    "pickle.load(file)\t파일에서 객체 불러오기\n",
    "파일 모드\t\"wb\" 저장 / \"rb\" 불러오기\n",
    "'''"
   ]
  },
  {
   "cell_type": "code",
   "execution_count": null,
   "id": "f2791374",
   "metadata": {},
   "outputs": [],
   "source": [
    "# CSV\n",
    "'''\n",
    "CSV = Comma Separated Values\n",
    "즉, 데이터를 쉼표(,)로 구분해 저장한 텍스트 파일\n",
    "\n",
    "import csv \n",
    "\n",
    "'''"
   ]
  },
  {
   "cell_type": "code",
   "execution_count": null,
   "id": "d116d52e",
   "metadata": {},
   "outputs": [],
   "source": [
    "# 1단계 : 리스트 형태로 저장 (csv.writer)\n",
    "import csv\n",
    "\n",
    "with open(\"members.csv\", \"w\", newline=\"\", encoding=\"utf-8\") as f:\n",
    "    writer = csv.writer(f)\n",
    "    writer.writerow([\"이름\", \"나이\", \"이메일\"])\n",
    "    writer.writerow([\"맹구\", 13, \"maeng@zzz.com\"])\n",
    "    writer.writerow([\"철수\", 12, \"chulsoo@abc.com\"])\n",
    "    \n",
    "'''\n",
    "함수\t설명\n",
    "writerow()\t한 줄씩 저장\n",
    "newline=\"\"\t줄 간격 이상 방지 (Windows에서 꼭 필요)\n",
    "'''\n"
   ]
  },
  {
   "cell_type": "code",
   "execution_count": null,
   "id": "d4a9437b",
   "metadata": {},
   "outputs": [],
   "source": [
    "# 2단계 : 리스트 형태로 읽기 (csv.reader)\n",
    "\n",
    "with open(\"members.csv\", \"r\", encoding=\"utf-8\") as f:\n",
    "    reader = csv.reader(f)\n",
    "    for row in reader:\n",
    "        print(\"읽은 행:\", row)\n",
    "        \n",
    "# 각 row는 리스트로 들어오고, 첫 번째 줄은 보통 헤더(열 제목)"
   ]
  },
  {
   "cell_type": "code",
   "execution_count": null,
   "id": "304b983a",
   "metadata": {},
   "outputs": [],
   "source": [
    "# 3단계 : 딕셔너리 형태로 저장 (csv.DictWriter)\n",
    "\n",
    "with open(\"members_dict.csv\", \"w\", newline=\"\", encoding=\"utf-8\") as f:\n",
    "    fieldnames = [\"이름\", \"나이\", \"이메일\"]\n",
    "    writer = csv.DictWriter(f, fieldnames=fieldnames)\n",
    "\n",
    "    writer.writeheader()  # 열 제목\n",
    "    writer.writerow({\"이름\": \"맹구\", \"나이\": 13, \"이메일\": \"maeng@zzz.com\"})\n",
    "    writer.writerow({\"이름\": \"철수\", \"나이\": 12, \"이메일\": \"chulsoo@abc.com\"})\n",
    "    \n"
   ]
  },
  {
   "cell_type": "code",
   "execution_count": null,
   "id": "a4664741",
   "metadata": {},
   "outputs": [],
   "source": [
    "# 4단계 : 딕셔너리 형태로 읽기 (csv.DictReader)\n",
    "\n",
    "with open(\"members_dict.csv\", \"r\", encoding=\"utf-8\") as f:\n",
    "    reader = csv.DictReader(f)\n",
    "    for row in reader:\n",
    "        print(row[\"이름\"], row[\"이메일\"])\n",
    "        "
   ]
  },
  {
   "cell_type": "code",
   "execution_count": null,
   "id": "9cfa496d",
   "metadata": {},
   "outputs": [],
   "source": [
    "# 필드 불일치 대응 (PDF에서 나왔던 내용)\n",
    "'''\n",
    "상황\t대응 방법\n",
    "필드가 더 많음\trestkey로 나머지 필드 처리\n",
    "필드가 부족함\trestval로 빈 값 채움\n",
    "필드 외 값 있음\textrasaction='ignore' or 'raise' 사용\n",
    "'''\n",
    "\n",
    "# csv.DictReader(f, fieldnames=..., restkey=\"기타\", restval=\"없음\")"
   ]
  },
  {
   "cell_type": "code",
   "execution_count": null,
   "id": "1ec446c5",
   "metadata": {},
   "outputs": [],
   "source": [
    "'''\n",
    "작업 | 방식 | 함수\n",
    "리스트 저장 | csv.writer | writerow, writerows\n",
    "리스트 읽기 | csv.reader | for row in reader\n",
    "딕셔너리 저장 | csv.DictWriter | writeheader, writerow\n",
    "딕셔너리 읽기 | csv.DictReader | row[\"필드명\"] 접근\n",
    "'''"
   ]
  },
  {
   "cell_type": "code",
   "execution_count": null,
   "id": "3caa55a3",
   "metadata": {},
   "outputs": [],
   "source": [
    "# json\n",
    "'''\n",
    "JavaScript Object Notation\n",
    "데이터를 키-값 구조로 저장하는 텍스트 포맷\n",
    "파이썬의 딕셔너리와 아주 유사\n",
    "\n",
    "import json\n",
    "\n",
    "'''\n"
   ]
  },
  {
   "cell_type": "code",
   "execution_count": null,
   "id": "987e3457",
   "metadata": {},
   "outputs": [],
   "source": [
    "# 1단계 : JSON 저장(json.dump)\n",
    "\n",
    "import json\n",
    "\n",
    "data = {\n",
    "    \"이름\": \"맹구\",\n",
    "    \"나이\": 13,\n",
    "    \"취미\": [\"먹기\", \"자기\", \"게임\"]\n",
    "}\n",
    "\n",
    "with open(\"data.json\", \"w\", encoding=\"utf-8\") as f:\n",
    "    json.dump(data, f, ensure_ascii=False, indent=2)\n",
    "\n",
    "'''\n",
    "옵션\t설명\n",
    "ensure_ascii=False\t한글이 깨지지 않게 저장\n",
    "indent=2\t보기 좋게 들여쓰기 (pretty format)\n",
    "\n",
    "'''"
   ]
  },
  {
   "cell_type": "code",
   "execution_count": null,
   "id": "04581694",
   "metadata": {},
   "outputs": [],
   "source": [
    "# 2단계 : json 불러오기(json.load)\n",
    "\n",
    "with open(\"data.json\", \"r\", encoding=\"utf-8\") as f:\n",
    "    loaded = json.load(f)\n",
    "\n",
    "print(\"이름:\", loaded[\"이름\"])\n",
    "print(\"취미 리스트:\", loaded[\"취미\"])\n"
   ]
  },
  {
   "cell_type": "code",
   "execution_count": null,
   "id": "6ed1ada8",
   "metadata": {},
   "outputs": [],
   "source": [
    "# 3단계 : json 문자열 -> 파싱(json.loads)\n",
    "\n",
    "json_str = '{\"이름\": \"맹구\", \"나이\": 13}'\n",
    "data = json.loads(json_str)\n",
    "print(data[\"나이\"])\n"
   ]
  },
  {
   "cell_type": "code",
   "execution_count": null,
   "id": "9cd5ab58",
   "metadata": {},
   "outputs": [],
   "source": [
    "# 4단계 : json 객체 -> 문자열 변환 (json.dumps)\n",
    "\n",
    "user = {\"id\": \"maeng9\", \"level\": 3}\n",
    "json_string = json.dumps(user, ensure_ascii=False)\n",
    "print(json_string)"
   ]
  },
  {
   "cell_type": "code",
   "execution_count": null,
   "id": "44f2cd10",
   "metadata": {},
   "outputs": [],
   "source": [
    "# 리스트 전체 저장\n",
    "\n",
    "users = [\n",
    "    {\"이름\": \"맹구\", \"나이\": 13},\n",
    "    {\"이름\": \"철수\", \"나이\": 12}\n",
    "]\n",
    "\n",
    "with open(\"users.json\", \"w\", encoding=\"utf-8\") as f:\n",
    "    json.dump(users, f, ensure_ascii=False, indent=2)\n"
   ]
  },
  {
   "cell_type": "code",
   "execution_count": null,
   "id": "265dc10e",
   "metadata": {},
   "outputs": [],
   "source": [
    "'''\n",
    "JSON vs CSV 차이 요약\n",
    "항목\tCSV\tJSON\n",
    "구조\t행/열 기반\t중첩 가능, 유연한 구조\n",
    "읽기/쓰기\tcsv 모듈\tjson 모듈\n",
    "사용 용도\t표 형태, 엑셀 호환\t설정파일, API 데이터 등\n",
    "\n",
    "'''"
   ]
  },
  {
   "cell_type": "code",
   "execution_count": null,
   "id": "a02b9651",
   "metadata": {},
   "outputs": [],
   "source": [
    "'''\n",
    "HDF5란?\n",
    "Hierarchical Data Format 5\n",
    "대용량 과학 데이터 저장을 위해 만들어진 고성능 포맷이야!\n",
    "NASA, 연구소, 머신러닝에서도 많이 씀\n",
    "이미지, 센서데이터, 시계열 데이터 등 저장하기에 최적화\n",
    "'''"
   ]
  },
  {
   "cell_type": "code",
   "execution_count": null,
   "id": "017ca610",
   "metadata": {},
   "outputs": [],
   "source": [
    "'''\n",
    "파이썬에서 HDF5 다루는 방법\n",
    "\n",
    "방법               | 설명\n",
    "pandas.to_hdf()   | 판다스에서 DataFrame을 HDF5로 저장\n",
    "pandas.read_hdf() | HDF5 파일을 다시 DataFrame으로 불러옴\n",
    "h5py 모듈          | 더 세밀하게 다루는 모듈 (배열 단위 등)\n",
    "'''\n"
   ]
  },
  {
   "cell_type": "code",
   "execution_count": null,
   "id": "51134747",
   "metadata": {},
   "outputs": [],
   "source": [
    "#  1단계: 판다스 DataFrame → HDF5 저장\n",
    "\n",
    "import pandas as pd\n",
    "\n",
    "df = pd.DataFrame({\n",
    "    \"이름\": [\"맹구\", \"철수\", \"짱구\"],\n",
    "    \"나이\": [13, 12, 5]\n",
    "})\n",
    "\n",
    "df.to_hdf(\"data.h5\", key=\"고객\", mode=\"w\")\n",
    "print(\"HDF5 파일 저장 완료!\")\n",
    "\n",
    "'''\n",
    "key\t저장할 이름 (하위 그룹 이름)\n",
    "mode=\"w\"\t덮어쓰기 저장 (없으면 생성됨)\n",
    "'''"
   ]
  },
  {
   "cell_type": "code",
   "execution_count": 25,
   "id": "4248986a",
   "metadata": {},
   "outputs": [],
   "source": [
    "# 2단계: HDF5 파일에서 다시 읽기\n",
    "\n",
    "df2 = pd.read_hdf(\"data.h5\", key=\"고객\")\n",
    "print(df2)\n",
    "\n",
    "# 원래 저장했던 key 이름으로 불러와야 함!"
   ]
  },
  {
   "cell_type": "code",
   "execution_count": null,
   "id": "62026707",
   "metadata": {},
   "outputs": [],
   "source": [
    "# 3단계: 여러 DataFrame 저장 (key로 구분)\n",
    "\n",
    "df1 = pd.DataFrame({\"값\": [1, 2, 3]})\n",
    "df2 = pd.DataFrame({\"값\": [100, 200, 300]})\n",
    "\n",
    "with pd.HDFStore(\"multi_data.h5\", mode=\"w\") as store:\n",
    "    store.put(\"첫번째\", df1)\n",
    "    store.put(\"두번째\", df2)\n",
    "\n",
    "# 불러오기\n",
    "with pd.HDFStore(\"multi_data.h5\", mode=\"r\") as store:\n",
    "    print(\"첫 번째 DF:\\n\", store[\"첫번째\"])\n",
    "    print(\"두 번째 DF:\\n\", store[\"두번째\"])\n",
    "\n",
    "# HDFStore는 폴더처럼 작동해서 여러 그룹(key)을 저장할 수 있음"
   ]
  },
  {
   "cell_type": "code",
   "execution_count": null,
   "id": "76f7b8bd",
   "metadata": {},
   "outputs": [],
   "source": [
    "'''\n",
    "HDF5 뷰어 도구 (PDF에 언급된 HDFView)\n",
    "\n",
    "https://www.hdfgroup.org/downloads/hdfview\n",
    "\n",
    "'''"
   ]
  },
  {
   "cell_type": "code",
   "execution_count": null,
   "id": "6bf70ff6",
   "metadata": {},
   "outputs": [],
   "source": [
    "'''\n",
    "항목\t설명\n",
    ".to_hdf()\tDataFrame을 HDF5로 저장\n",
    ".read_hdf()\tHDF5에서 불러오기\n",
    "HDFStore\t여러 key 저장 가능\n",
    "사용 이유\t대용량, 고속, 계층적 구조\n",
    "파일 확장자\t.h5, .hdf5\n",
    "'''"
   ]
  },
  {
   "cell_type": "code",
   "execution_count": null,
   "id": "6db621da",
   "metadata": {},
   "outputs": [],
   "source": [
    "# 고객관리 프로젝트"
   ]
  },
  {
   "cell_type": "code",
   "execution_count": null,
   "id": "4f20f005",
   "metadata": {},
   "outputs": [],
   "source": [
    "# 구성\n",
    "class Customer:\n",
    "    def __init__(self, name, phone, email, age, grade, etc):\n",
    "        ...\n",
    "\n",
    "    def to_list_style(self):  # 예: ['맹구', '010-1234-5678', 'm@naver.com', 13, 3, '불꽃남자']\n",
    "        ...\n",
    "\n",
    "    def as_dic(self):  # csv용 딕셔너리 반환\n",
    "        ...\n"
   ]
  },
  {
   "cell_type": "code",
   "execution_count": null,
   "id": "a8791157",
   "metadata": {},
   "outputs": [],
   "source": [
    "# 주요 기능 (함수별로 분리)\n",
    "'''\n",
    "번호 | 기능 | 설명\n",
    "0 | load_customers() | 프로그램 시작 시 txt 파일에서 데이터 불러오기\n",
    "1 | fn1_insert_customer_info() | 고객 1명 입력 후 리스트에 추가\n",
    "2 | fn2_print_customers() | 전체 고객 출력\n",
    "3 | fn3_delete_customer() | 이름으로 삭제\n",
    "4 | fn4_search_customer() | 이름으로 검색\n",
    "5 | fn5_save_customer_csv() | csv 형식으로 내보내기\n",
    "9 | fn9_save_customer_txt() | 종료 시 txt 파일 백업 저장\n",
    "'''\n"
   ]
  },
  {
   "cell_type": "code",
   "execution_count": null,
   "id": "9f3ecaef",
   "metadata": {},
   "outputs": [],
   "source": [
    "# main() 함수 구조\n",
    "def main():\n",
    "    customer_list = load_customers()\n",
    "\n",
    "    while True:\n",
    "        print(\"1:입력 | 2:전체출력 | 3:삭제 | 4:이름찾기 | 5:CSV저장 | 9:종료\")\n",
    "        fn = int(input(\"메뉴선택 : \"))\n",
    "\n",
    "        if fn == 1:\n",
    "            customer = fn1_insert_customer_info()\n",
    "            customer_list.append(customer)\n",
    "        elif fn == 2:\n",
    "            fn2_print_customers(customer_list)\n",
    "        elif fn == 3:\n",
    "            fn3_delete_customer(customer_list)\n",
    "        elif fn == 4:\n",
    "            fn4_search_customer(customer_list)\n",
    "        elif fn == 5:\n",
    "            fn5_save_customer_csv(customer_list)\n",
    "        elif fn == 9:\n",
    "            fn9_save_customer_txt(customer_list)\n",
    "            break\n",
    "\n"
   ]
  },
  {
   "cell_type": "code",
   "execution_count": null,
   "id": "584159c8",
   "metadata": {},
   "outputs": [],
   "source": [
    "# 1단계 전체 구조 \n",
    "'''\n",
    "파일 구조 (단순 텍스트 기반)\n",
    "고객 정보는 data/ch09_customers.txt에 저장\n",
    "\n",
    "시작할 때: 파일 불러오기 → 리스트로 변환\n",
    "\n",
    "종료할 때: 리스트 내용을 다시 txt에 저장\n",
    "'''\n"
   ]
  },
  {
   "cell_type": "code",
   "execution_count": null,
   "id": "9ef7982e",
   "metadata": {},
   "outputs": [],
   "source": [
    "# Customer 클래스\n",
    "class Customer:\n",
    "    def __init__(self, name, phone, email, age, grade, etc):\n",
    "        self.name = name\n",
    "        self.phone = phone\n",
    "        self.email = email\n",
    "        self.age = int(age)\n",
    "        self.grade = int(grade)\n",
    "        self.etc = etc\n",
    "\n",
    "    def to_list_style(self):\n",
    "        return [self.name, self.phone, self.email, str(self.age), str(self.grade), self.etc]\n",
    "\n",
    "    def as_dic(self):\n",
    "        return {\n",
    "            \"이름\": self.name,\n",
    "            \"전화\": self.phone,\n",
    "            \"이메일\": self.email,\n",
    "            \"나이\": self.age,\n",
    "            \"등급\": self.grade,\n",
    "            \"기타\": self.etc\n",
    "        }\n",
    "\n",
    "    def __str__(self):\n",
    "        return f\"{self.name} | {self.phone} | {self.email} | {self.age}세 | 등급: {self.grade} | {self.etc}\"\n"
   ]
  },
  {
   "cell_type": "code",
   "execution_count": null,
   "id": "20b1fddd",
   "metadata": {},
   "outputs": [],
   "source": [
    "# 2단계 : 주요ㅕ 기능 함수 설계\n",
    "# 0. load_customers()\n",
    "\n",
    "'''\n",
    "파일이 없으면 새로 만들고 빈 리스트 반환\n",
    "\n",
    "있으면 txt 읽어서 Customer 리스트 반환\n",
    "'''\n",
    "import os\n",
    "\n",
    "def load_customers():\n",
    "    path = \"data/ch09_customers.txt\"\n",
    "    customer_list = []\n",
    "\n",
    "    if not os.path.exists(path):\n",
    "        open(path, \"w\", encoding=\"utf-8\").close()\n",
    "        return []\n",
    "\n",
    "    with open(path, \"r\", encoding=\"utf-8\") as f:\n",
    "        for line in f:\n",
    "            parts = line.strip().split(\",\")\n",
    "            if len(parts) == 6:\n",
    "                customer_list.append(Customer(*parts))\n",
    "    return customer_list\n",
    "\n"
   ]
  },
  {
   "cell_type": "code",
   "execution_count": null,
   "id": "2767a41c",
   "metadata": {},
   "outputs": [],
   "source": [
    "# 1. fn1_insert_customer_info()\n",
    "\n",
    "def fn1_insert_customer_info():\n",
    "    name = input(\"이름: \")\n",
    "    phone = input(\"전화번호: \")\n",
    "    email = input(\"이메일: \")\n",
    "    age = input(\"나이: \")\n",
    "    grade = input(\"등급(1~5): \")\n",
    "    etc = input(\"기타사항: \")\n",
    "\n",
    "    return Customer(name, phone, email, age, grade, etc)\n",
    "\n"
   ]
  },
  {
   "cell_type": "code",
   "execution_count": null,
   "id": "baa7895a",
   "metadata": {},
   "outputs": [],
   "source": [
    "# 2. fn2_print_customers(customer_list)\n",
    "\n",
    "def fn2_print_customers(customer_list):\n",
    "    for idx, customer in enumerate(customer_list, start=1):\n",
    "        print(f\"[{idx}] {customer}\")\n"
   ]
  },
  {
   "cell_type": "code",
   "execution_count": null,
   "id": "12f83c39",
   "metadata": {},
   "outputs": [],
   "source": [
    "# 3. fn3_delete_customer(customer_list)\n",
    "\n",
    "def fn3_delete_customer(customer_list):\n",
    "    target = input(\"삭제할 고객 이름: \")\n",
    "    removed = [c for c in customer_list if c.name != target]\n",
    "    if len(removed) < len(customer_list):\n",
    "        print(f\"{target} 삭제 완료.\")\n",
    "    else:\n",
    "        print(\"해당 이름 없음.\")\n",
    "    return removed\n"
   ]
  },
  {
   "cell_type": "code",
   "execution_count": null,
   "id": "c1d234b4",
   "metadata": {},
   "outputs": [],
   "source": [
    "# 4. fn4_search_customer(customer_list)\n",
    "\n",
    "def fn4_search_customer(customer_list):\n",
    "    keyword = input(\"검색할 고객 이름: \")\n",
    "    for c in customer_list:\n",
    "        if keyword in c.name:\n",
    "            print(c)\n"
   ]
  },
  {
   "cell_type": "code",
   "execution_count": null,
   "id": "9856912c",
   "metadata": {},
   "outputs": [],
   "source": [
    "# 5. fn5_save_customer_csv(customer_list)\n",
    "\n",
    "import csv\n",
    "\n",
    "def fn5_save_customer_csv(customer_list):\n",
    "    with open(\"customers.csv\", \"w\", newline=\"\", encoding=\"utf-8\") as f:\n",
    "        writer = csv.DictWriter(f, fieldnames=[\"이름\", \"전화\", \"이메일\", \"나이\", \"등급\", \"기타\"])\n",
    "        writer.writeheader()\n",
    "        for c in customer_list:\n",
    "            writer.writerow(c.as_dic())\n",
    "    print(\"CSV 저장 완료.\")\n"
   ]
  },
  {
   "cell_type": "code",
   "execution_count": null,
   "id": "21e1c3f3",
   "metadata": {},
   "outputs": [],
   "source": [
    "# 6. fn9_save_customer_txt(customer_list)\n",
    "\n",
    "def fn9_save_customer_txt(customer_list):\n",
    "    with open(\"data/ch09_customers.txt\", \"w\", encoding=\"utf-8\") as f:\n",
    "        for c in customer_list:\n",
    "            f.write(\",\".join(c.to_list_style()) + \"\\n\")\n",
    "    print(\"종료 전 데이터 저장 완료.\")\n"
   ]
  },
  {
   "cell_type": "code",
   "execution_count": null,
   "id": "6eb11ce1",
   "metadata": {},
   "outputs": [],
   "source": [
    "#  main() 루프 구성\n",
    "\n",
    "def main():\n",
    "    customer_list = load_customers()\n",
    "\n",
    "    while True:\n",
    "        print(\"1:입력 | 2:전체출력 | 3:삭제 | 4:이름찾기 | 5:CSV저장 | 9:종료\")\n",
    "        choice = input(\"메뉴 선택: \")\n",
    "\n",
    "        if choice == \"1\":\n",
    "            customer = fn1_insert_customer_info()\n",
    "            customer_list.append(customer)\n",
    "        elif choice == \"2\":\n",
    "            fn2_print_customers(customer_list)\n",
    "        elif choice == \"3\":\n",
    "            customer_list = fn3_delete_customer(customer_list)\n",
    "        elif choice == \"4\":\n",
    "            fn4_search_customer(customer_list)\n",
    "        elif choice == \"5\":\n",
    "            fn5_save_customer_csv(customer_list)\n",
    "        elif choice == \"9\":\n",
    "            fn9_save_customer_txt(customer_list)\n",
    "            break\n",
    "        else:\n",
    "            print(\"잘못된 입력입니다.\")\n",
    "\n",
    "if __name__ == \"__main__\":\n",
    "    main()\n"
   ]
  },
  {
   "cell_type": "code",
   "execution_count": null,
   "id": "e51142a7",
   "metadata": {},
   "outputs": [],
   "source": []
  },
  {
   "cell_type": "code",
   "execution_count": null,
   "id": "2344f6cd",
   "metadata": {},
   "outputs": [],
   "source": []
  },
  {
   "cell_type": "code",
   "execution_count": null,
   "id": "9afab2c3",
   "metadata": {},
   "outputs": [],
   "source": []
  },
  {
   "cell_type": "code",
   "execution_count": null,
   "id": "83ac41dc",
   "metadata": {},
   "outputs": [],
   "source": []
  }
 ],
 "metadata": {
  "kernelspec": {
   "display_name": "Python 3 (ipykernel)",
   "language": "python",
   "name": "python3"
  },
  "language_info": {
   "codemirror_mode": {
    "name": "ipython",
    "version": 3
   },
   "file_extension": ".py",
   "mimetype": "text/x-python",
   "name": "python",
   "nbconvert_exporter": "python",
   "pygments_lexer": "ipython3",
   "version": "3.10.9"
  },
  "toc": {
   "base_numbering": 1,
   "nav_menu": {},
   "number_sections": false,
   "sideBar": true,
   "skip_h1_title": false,
   "title_cell": "Table of Contents",
   "title_sidebar": "Contents",
   "toc_cell": false,
   "toc_position": {
    "height": "calc(100% - 180px)",
    "left": "10px",
    "top": "150px",
    "width": "205.054px"
   },
   "toc_section_display": true,
   "toc_window_display": true
  }
 },
 "nbformat": 4,
 "nbformat_minor": 5
}
