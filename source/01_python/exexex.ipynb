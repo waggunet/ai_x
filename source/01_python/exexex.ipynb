{
 "cells": [
  {
   "cell_type": "code",
   "execution_count": 14,
   "id": "d7f43b91",
   "metadata": {},
   "outputs": [
    {
     "data": {
      "text/html": [
       "\n",
       "<style>\n",
       "div.container{width:86% !important;}\n",
       "div.cell.code_cell.rendered{width:100%;}\n",
       "div.CodeMirror {font-family:Consolas; font-size:10pt;}\n",
       "div.output {font-size:12pt; font-weight:bold;}\n",
       "div.input {font-family:Consolas; font-size:10pt;}\n",
       "div.prompt {min-width:70px;}\n",
       "div#toc-wrapper{padding-top:120px;}\n",
       "div.text_cell_render ul li{font-size:10pt;padding:5px;}\n",
       "table.dataframe{font-size:15px;\n",
       "</style>\n"
      ],
      "text/plain": [
       "<IPython.core.display.HTML object>"
      ]
     },
     "metadata": {},
     "output_type": "display_data"
    }
   ],
   "source": [
    "# 매 강의 시작시마다 동일하게 처리해야 함\n",
    "from IPython.display import display, HTML\n",
    "display(HTML(\"\"\"\n",
    "<style>\n",
    "div.container{width:86% !important;}\n",
    "div.cell.code_cell.rendered{width:100%;}\n",
    "div.CodeMirror {font-family:Consolas; font-size:10pt;}\n",
    "div.output {font-size:12pt; font-weight:bold;}\n",
    "div.input {font-family:Consolas; font-size:10pt;}\n",
    "div.prompt {min-width:70px;}\n",
    "div#toc-wrapper{padding-top:120px;}\n",
    "div.text_cell_render ul li{font-size:10pt;padding:5px;}\n",
    "table.dataframe{font-size:15px;\n",
    "</style>\n",
    "\"\"\"))"
   ]
  },
  {
   "cell_type": "code",
   "execution_count": 17,
   "id": "98dec14c",
   "metadata": {},
   "outputs": [
    {
     "name": "stdout",
     "output_type": "stream",
     "text": [
      "slkdfjsldf\"sdfsdf\n"
     ]
    }
   ],
   "source": [
    "a = \"slkdfjsldf\\\"sdfsdf\"\n",
    "print(a)"
   ]
  },
  {
   "cell_type": "code",
   "execution_count": 37,
   "id": "fdb9ea0a",
   "metadata": {},
   "outputs": [
    {
     "name": "stdout",
     "output_type": "stream",
     "text": [
      "sdjfkljsdfsdfsdf' \n",
      "\tQsdfsd\tfsd\t\tf\\sdf\n"
     ]
    }
   ],
   "source": [
    "a = 'sdjfkljsdfsdfsdf\\' \\n\\tQsdfsd\\tfsd\\t\\tf\\\\sdf'\n",
    "print(a)\n"
   ]
  },
  {
   "cell_type": "code",
   "execution_count": 41,
   "id": "921210d6",
   "metadata": {},
   "outputs": [
    {
     "name": "stdout",
     "output_type": "stream",
     "text": [
      "PythonPythonPython  is very fun is very fun\n"
     ]
    }
   ],
   "source": [
    "head = \"Python\"\n",
    "tail = \" is very fun\"\n",
    "print(head * 3, tail *2)"
   ]
  },
  {
   "cell_type": "code",
   "execution_count": 42,
   "id": "69d2bb4f",
   "metadata": {},
   "outputs": [
    {
     "name": "stdout",
     "output_type": "stream",
     "text": [
      "==================================================\n",
      "sdlfkkjsdlkkfjsdlk=\n",
      "==================================================\n"
     ]
    }
   ],
   "source": [
    "print(\"=\" * 50)\n",
    "print(\"sdlfkkjsdlkkfjsdlk=\")\n",
    "print(\"=\" * 50)"
   ]
  },
  {
   "cell_type": "code",
   "execution_count": 75,
   "id": "78a5e954",
   "metadata": {},
   "outputs": [
    {
     "name": "stdout",
     "output_type": "stream",
     "text": [
      "9\n",
      "4\n",
      "147\n",
      "7\n",
      "2468\n",
      "258\n"
     ]
    }
   ],
   "source": [
    "a = '123456789'\n",
    "print(len(a))\n",
    "print(a[3])\n",
    "print(a[::3])\n",
    "print(a[-3])\n",
    "print(a[1:9:2])\n",
    "print(a[1:9:3])"
   ]
  },
  {
   "cell_type": "code",
   "execution_count": 78,
   "id": "ea74897d",
   "metadata": {},
   "outputs": [
    {
     "name": "stdout",
     "output_type": "stream",
     "text": [
      "i eat 4 apple\n"
     ]
    }
   ],
   "source": [
    "a = \"i eat %d apple\" %4\n",
    "print(a)"
   ]
  },
  {
   "cell_type": "code",
   "execution_count": 94,
   "id": "e9fcd7e4",
   "metadata": {},
   "outputs": [
    {
     "name": "stdout",
     "output_type": "stream",
     "text": [
      "sdkljf  hidsdfdsf% slkdfjsd\n"
     ]
    }
   ],
   "source": [
    "a = \"sdkljf %10s%% slkdfjsd\" %\"hidsdfdsf\"\n",
    "print(a)\n"
   ]
  },
  {
   "cell_type": "code",
   "execution_count": 95,
   "id": "07de033b",
   "metadata": {},
   "outputs": [
    {
     "name": "stdout",
     "output_type": "stream",
     "text": [
      "sdkljf hidsdfdsf % slkdfjsd\n"
     ]
    }
   ],
   "source": [
    "b = \"sdkljf %-10s%% slkdfjsd\" %\"hidsdfdsf\"\n",
    "print(b)"
   ]
  },
  {
   "cell_type": "code",
   "execution_count": 104,
   "id": "a179cfcb",
   "metadata": {},
   "outputs": [
    {
     "name": "stdout",
     "output_type": "stream",
     "text": [
      "sdkljf 3.1415% slkdfjsd\n"
     ]
    }
   ],
   "source": [
    "c = \"sdkljf %-0.4f%% slkdfjsd\" %3.1415342343\n",
    "print(c)"
   ]
  },
  {
   "cell_type": "code",
   "execution_count": 115,
   "id": "5ebf34a0",
   "metadata": {},
   "outputs": [
    {
     "name": "stdout",
     "output_type": "stream",
     "text": [
      "sdfjdlksjf 'sdf' sldkjf 'sdklf'klksdjflkjd\n"
     ]
    }
   ],
   "source": [
    "d =  \"sdfjdlksjf {0} sldkjf {1}klksdjflkjd\".format(\"'sdf'\", \"'sdklf'\")\n",
    "print(d)"
   ]
  },
  {
   "cell_type": "code",
   "execution_count": 120,
   "id": "4b6164fd",
   "metadata": {},
   "outputs": [
    {
     "name": "stdout",
     "output_type": "stream",
     "text": [
      "my name is alan and 50 years old, and i live in seoul\n"
     ]
    }
   ],
   "source": [
    "a = \"my name is {} and {} years old, and i live in {}\".format('alan',50, 'seoul')\n",
    "print(a)"
   ]
  },
  {
   "cell_type": "code",
   "execution_count": 5,
   "id": "e4eca26a",
   "metadata": {},
   "outputs": [
    {
     "name": "stdout",
     "output_type": "stream",
     "text": [
      "나의 이름은 조명환이고, 50 살이고 내년에는 51이 됩니댜.\n"
     ]
    }
   ],
   "source": [
    "name = '조명환'\n",
    "age = 50\n",
    "a = f'나의 이름은 {name}이고, {age} 살이고 내년에는 {age + 1}이 됩니댜.'\n",
    "print(a)\n"
   ]
  },
  {
   "cell_type": "markdown",
   "id": "c4b16ef4",
   "metadata": {},
   "source": [
    "# 02-2 문자열 자료형"
   ]
  },
  {
   "cell_type": "code",
   "execution_count": 9,
   "id": "923e7ecb",
   "metadata": {},
   "outputs": [
    {
     "name": "stdout",
     "output_type": "stream",
     "text": [
      "1\n",
      "4\n"
     ]
    }
   ],
   "source": [
    "a = \"abcdefghijk\"\n",
    "print(a.count('b')) #b의 갯수 카운트\n",
    "print(a.find('e'))"
   ]
  },
  {
   "cell_type": "code",
   "execution_count": 10,
   "id": "a38c1c3d",
   "metadata": {},
   "outputs": [
    {
     "name": "stdout",
     "output_type": "stream",
     "text": [
      "1\n",
      "4\n"
     ]
    }
   ],
   "source": [
    "a = \"abcdefghijk\"\n",
    "print(a.index('b')) #b의 갯수 카운트"
   ]
  },
  {
   "cell_type": "code",
   "execution_count": 12,
   "id": "2f1850b4",
   "metadata": {},
   "outputs": [
    {
     "name": "stdout",
     "output_type": "stream",
     "text": [
      "a, b, c, d, e, f, g, h, i, j, k\n"
     ]
    }
   ],
   "source": [
    "a = \", \".join('abcdefghijk')\n",
    "print(a)\n"
   ]
  },
  {
   "cell_type": "code",
   "execution_count": 17,
   "id": "9da8eb2a",
   "metadata": {},
   "outputs": [
    {
     "name": "stdout",
     "output_type": "stream",
     "text": [
      "a to the b to the c to the d to the e to the f to the g to the h to the i to the j to the k\n"
     ]
    }
   ],
   "source": [
    "a = \" to the \".join('abcdefghijk')\n",
    "print(a)"
   ]
  },
  {
   "cell_type": "code",
   "execution_count": 18,
   "id": "759485bb",
   "metadata": {},
   "outputs": [
    {
     "name": "stdout",
     "output_type": "stream",
     "text": [
      "A TO THE B TO THE C TO THE D TO THE E TO THE F TO THE G TO THE H TO THE I TO THE J TO THE K\n"
     ]
    }
   ],
   "source": [
    "print(a.upper()) # lower"
   ]
  },
  {
   "cell_type": "code",
   "execution_count": 23,
   "id": "1b390752",
   "metadata": {},
   "outputs": [
    {
     "name": "stdout",
     "output_type": "stream",
     "text": [
      "abcdefghijk\n",
      "    abcdefghijk\n",
      "abcdefghijk\n"
     ]
    }
   ],
   "source": [
    "a = \"    abcdefghijk\"\n",
    "print(a.strip()) # 공백제거\n",
    "print(a.rstrip()) # 공백제거\n",
    "print(a.lstrip()) # 공백제거\n"
   ]
  },
  {
   "cell_type": "code",
   "execution_count": 24,
   "id": "0790d4f6",
   "metadata": {},
   "outputs": [
    {
     "name": "stdout",
     "output_type": "stream",
     "text": [
      "    sldkfjefghijk\n"
     ]
    }
   ],
   "source": [
    "a = \"    abcdefghijk\"\n",
    "print(a.replace(\"abcd\", \"sldkfj\")) # 문자 교체"
   ]
  },
  {
   "cell_type": "code",
   "execution_count": 26,
   "id": "43169ba2",
   "metadata": {},
   "outputs": [
    {
     "name": "stdout",
     "output_type": "stream",
     "text": [
      "['ab', 'cd', 'ef', 'ghijk']\n"
     ]
    }
   ],
   "source": [
    "a = \"ab cd ef ghijk\"\n",
    "print(a.split()) # 쪼개기"
   ]
  },
  {
   "cell_type": "code",
   "execution_count": 27,
   "id": "036633f4",
   "metadata": {},
   "outputs": [
    {
     "name": "stdout",
     "output_type": "stream",
     "text": [
      "['ab', 'cd', 'ef', 'gh', 'ijk']\n"
     ]
    }
   ],
   "source": [
    "a = \"ab;cd;ef;gh;ijk\"\n",
    "print(a.split(\";\")) # 지정 문자 기준 쪼개기"
   ]
  },
  {
   "cell_type": "markdown",
   "id": "4f358c87",
   "metadata": {},
   "source": [
    "# 02-3 리스트 자료형"
   ]
  },
  {
   "cell_type": "code",
   "execution_count": 30,
   "id": "a6bab8fb",
   "metadata": {},
   "outputs": [
    {
     "name": "stdout",
     "output_type": "stream",
     "text": [
      "[1, 2, 3, 5, 6, 7, 8]\n",
      "<class 'list'>\n"
     ]
    }
   ],
   "source": [
    "odd = [1,2,3,5,6,7,8]\n",
    "print(odd)\n",
    "print(type(odd))"
   ]
  },
  {
   "cell_type": "code",
   "execution_count": 34,
   "id": "6e474641",
   "metadata": {},
   "outputs": [
    {
     "name": "stdout",
     "output_type": "stream",
     "text": [
      "[1, 2, 3, 'Life', 'gogo', 5, 6, 7, 8]\n",
      "3\n",
      "[2]\n",
      "Lifegogo\n"
     ]
    }
   ],
   "source": [
    "odd = [1,2,3,'Life','gogo',5,6,7,8]\n",
    "print(odd)\n",
    "print(odd[2])\n",
    "print(odd[1:2:])\n",
    "print(odd[3]+odd[4])"
   ]
  },
  {
   "cell_type": "code",
   "execution_count": 40,
   "id": "da4bba1a",
   "metadata": {},
   "outputs": [
    {
     "name": "stdout",
     "output_type": "stream",
     "text": [
      "4 b 6\n"
     ]
    }
   ],
   "source": [
    "a = [1,2,3,4,['a', 'b', 'c'],5,6,7]\n",
    "print(a[3], a[4][1], a[6]) # 리스트 내 리스트에서 자료 뽑기 자주 쓰임"
   ]
  },
  {
   "cell_type": "code",
   "execution_count": 41,
   "id": "7e9123c3",
   "metadata": {},
   "outputs": [
    {
     "name": "stdout",
     "output_type": "stream",
     "text": [
      "4 c 6\n"
     ]
    }
   ],
   "source": [
    "a = [1,2,3,4,['a', 'b', 'c'],5,6,7]\n",
    "print(a[3], a[4][-1], a[6]) # 리스트 내 리스트에서 자료 뽑기 자주 쓰임"
   ]
  },
  {
   "cell_type": "code",
   "execution_count": 43,
   "id": "95c2b2aa",
   "metadata": {},
   "outputs": [
    {
     "name": "stdout",
     "output_type": "stream",
     "text": [
      "[1, 3, ['a', 'b', 'c'], 6]\n"
     ]
    }
   ],
   "source": [
    "# 슬라이싱\n",
    "a = [1,2,3,4,['a', 'b', 'c'],5,6,7]\n",
    "print(a[::2])"
   ]
  },
  {
   "cell_type": "code",
   "execution_count": 45,
   "id": "6aba1eb1",
   "metadata": {},
   "outputs": [
    {
     "name": "stdout",
     "output_type": "stream",
     "text": [
      "[3, 4, ['a', 'b', 'c'], 5, 6, 7]\n"
     ]
    }
   ],
   "source": [
    "a = [1,2,3,4,['a', 'b', 'c'],5,6,7]\n",
    "print(a[2:8:1])"
   ]
  },
  {
   "cell_type": "code",
   "execution_count": 50,
   "id": "11b23ab3",
   "metadata": {},
   "outputs": [
    {
     "name": "stdout",
     "output_type": "stream",
     "text": [
      "[4, ['a', 'b', 'c'], 5]\n"
     ]
    }
   ],
   "source": [
    "a = [1,2,3,4,['a', 'b', 'c'],5,6,7]\n",
    "print(a[3:6]) # 중첩 슬라이싱"
   ]
  },
  {
   "cell_type": "code",
   "execution_count": 51,
   "id": "01c634cf",
   "metadata": {},
   "outputs": [
    {
     "name": "stdout",
     "output_type": "stream",
     "text": [
      "[4, ['a', 'b', 'c'], 5, 6, 7]\n"
     ]
    }
   ],
   "source": [
    "a = [1,2,3,4,['a', 'b', 'c'],5,6,7]\n",
    "print(a[3:])"
   ]
  },
  {
   "cell_type": "code",
   "execution_count": null,
   "id": "586426c4",
   "metadata": {},
   "outputs": [],
   "source": [
    "# 리스트 연산하기"
   ]
  },
  {
   "cell_type": "code",
   "execution_count": 55,
   "id": "0e880480",
   "metadata": {},
   "outputs": [
    {
     "name": "stdout",
     "output_type": "stream",
     "text": [
      "[1, 2, 3, 4, ['a', 'b', 'c'], 5, 6, 7]\n"
     ]
    }
   ],
   "source": [
    "a = [1,2,3,4]\n",
    "b = [['a', 'b', 'c'],5,6,7]\n",
    "print(a+b) # 리스트 더하기"
   ]
  },
  {
   "cell_type": "code",
   "execution_count": 58,
   "id": "8c9a2e1a",
   "metadata": {},
   "outputs": [
    {
     "name": "stdout",
     "output_type": "stream",
     "text": [
      "[1, 2, 3, 4, 1, 2, 3, 4, 1, 2, 3, 4]\n"
     ]
    }
   ],
   "source": [
    "a = [1,2,3,4]\n",
    "b = 3\n",
    "print(a*b) # 리스트 곱하기"
   ]
  },
  {
   "cell_type": "code",
   "execution_count": 59,
   "id": "1e72ff9a",
   "metadata": {},
   "outputs": [
    {
     "name": "stdout",
     "output_type": "stream",
     "text": [
      "4\n"
     ]
    }
   ],
   "source": [
    "a = [1,2,3,4]\n",
    "print(len(a)) # 리스트 길이 구하기"
   ]
  },
  {
   "cell_type": "code",
   "execution_count": 60,
   "id": "65a2d9b8",
   "metadata": {},
   "outputs": [
    {
     "name": "stdout",
     "output_type": "stream",
     "text": [
      "3hihi\n"
     ]
    }
   ],
   "source": [
    "a = [1,2,3,4]\n",
    "print(str(3) + 'hihi')"
   ]
  },
  {
   "cell_type": "code",
   "execution_count": null,
   "id": "5a8c5990",
   "metadata": {},
   "outputs": [],
   "source": [
    "# 리스트의 수정 및 삭제"
   ]
  },
  {
   "cell_type": "code",
   "execution_count": 63,
   "id": "d2a39a5a",
   "metadata": {},
   "outputs": [
    {
     "name": "stdout",
     "output_type": "stream",
     "text": [
      "[4, 2, 3, 4]\n"
     ]
    }
   ],
   "source": [
    "a = [1,2,3,4]\n",
    "a[0] = 4\n",
    "print(a) # 바꿔치기"
   ]
  },
  {
   "cell_type": "code",
   "execution_count": 64,
   "id": "c5faeb65",
   "metadata": {},
   "outputs": [
    {
     "name": "stdout",
     "output_type": "stream",
     "text": [
      "[2, 3, 4]\n"
     ]
    }
   ],
   "source": [
    "a = [1,2,3,4]\n",
    "del a[0]\n",
    "print(a) # 날리기"
   ]
  },
  {
   "cell_type": "code",
   "execution_count": 70,
   "id": "7b2a1537",
   "metadata": {},
   "outputs": [
    {
     "name": "stdout",
     "output_type": "stream",
     "text": [
      "[1, 2, 5]\n"
     ]
    }
   ],
   "source": [
    "a = [1,2,3,4,5]\n",
    "del a[2:4]\n",
    "print(a) # 슬라이싱 날리기"
   ]
  },
  {
   "cell_type": "code",
   "execution_count": null,
   "id": "a8b011bb",
   "metadata": {},
   "outputs": [],
   "source": [
    "# 리스트에 요소 추가하기"
   ]
  },
  {
   "cell_type": "code",
   "execution_count": 76,
   "id": "2f18314b",
   "metadata": {},
   "outputs": [
    {
     "name": "stdout",
     "output_type": "stream",
     "text": [
      "[1, 2, 3, 4, 5, 4, [3, 4]]\n"
     ]
    }
   ],
   "source": [
    "a = [1,2,3,4,5]\n",
    "a.append(4)\n",
    "a.append([3,4])\n",
    "print(a) # 요소 추가 및 리스트 추가"
   ]
  },
  {
   "cell_type": "code",
   "execution_count": 78,
   "id": "3829c118",
   "metadata": {},
   "outputs": [
    {
     "name": "stdout",
     "output_type": "stream",
     "text": [
      "[1, 2, 3, 4, 5]\n"
     ]
    }
   ],
   "source": [
    "a = [5,4,3,2,1]\n",
    "a.sort() # 정렬하기\n",
    "print(a)"
   ]
  },
  {
   "cell_type": "code",
   "execution_count": 80,
   "id": "099ffa15",
   "metadata": {},
   "outputs": [
    {
     "name": "stdout",
     "output_type": "stream",
     "text": [
      "[5, 4, 3, 2, 1]\n"
     ]
    }
   ],
   "source": [
    "a = [5,4,3,2,1]\n",
    "a.sort() # 정렬 후 \n",
    "a.reverse() # 뒤집기\n",
    "print(a)"
   ]
  },
  {
   "cell_type": "code",
   "execution_count": 81,
   "id": "8779fe94",
   "metadata": {},
   "outputs": [
    {
     "name": "stdout",
     "output_type": "stream",
     "text": [
      "[5, 5, 4, 3, 2, 1]\n"
     ]
    }
   ],
   "source": [
    "a = [5,4,3,2,1]\n",
    "a.insert(0,5) # 0번째 인덱스에 5 삽입\n",
    "print(a)"
   ]
  },
  {
   "cell_type": "code",
   "execution_count": 84,
   "id": "73668165",
   "metadata": {},
   "outputs": [
    {
     "name": "stdout",
     "output_type": "stream",
     "text": [
      "[5, 4, 2]\n"
     ]
    }
   ],
   "source": [
    "a = [5,4,3,2,1,1]\n",
    "a.remove(3) # 3 삭제\n",
    "a.remove(1)\n",
    "a.remove(1)\n",
    "print(a)"
   ]
  },
  {
   "cell_type": "code",
   "execution_count": 88,
   "id": "20f0c194",
   "metadata": {},
   "outputs": [
    {
     "name": "stdout",
     "output_type": "stream",
     "text": [
      "[5, 4, 3, 2]\n",
      "4\n"
     ]
    }
   ],
   "source": [
    "a = [5,4,3,2,1]\n",
    "a.pop() # 1만 날림, 끝에 것만 날린다는거\n",
    "print(a)\n",
    "print(a.pop(1))"
   ]
  },
  {
   "cell_type": "code",
   "execution_count": 92,
   "id": "dd332704",
   "metadata": {},
   "outputs": [
    {
     "name": "stdout",
     "output_type": "stream",
     "text": [
      "4\n"
     ]
    }
   ],
   "source": [
    "a = [5,4,3,3,3,3,2,1]\n",
    "print(a.count(3)) # 3이 몇개?"
   ]
  },
  {
   "cell_type": "code",
   "execution_count": null,
   "id": "85aa4cbd",
   "metadata": {},
   "outputs": [],
   "source": [
    "# extend"
   ]
  },
  {
   "cell_type": "code",
   "execution_count": 94,
   "id": "3ae659dc",
   "metadata": {},
   "outputs": [
    {
     "name": "stdout",
     "output_type": "stream",
     "text": [
      "[5, 4, 3, 3, 3, 3, 2, 1, 6, 7, 8, 9, [1, 2]]\n"
     ]
    }
   ],
   "source": [
    "a = [5,4,3,3,3,3,2,1]\n",
    "a.extend([6,7,8,9]) #추가 개념\n",
    "a.append([1,2]) # 는 전체  추가로 약간 개념이 다름\n",
    "print(a)"
   ]
  },
  {
   "cell_type": "markdown",
   "id": "97512f0f",
   "metadata": {},
   "source": [
    "# 2장. 자료형"
   ]
  },
  {
   "cell_type": "markdown",
   "id": "82a9a507",
   "metadata": {},
   "source": [
    "## 튜플\n",
    "- 서랍장이 리스트라면 튜플은 서랍장이 잠긴 것\n"
   ]
  },
  {
   "cell_type": "code",
   "execution_count": 2,
   "id": "6d93d21c",
   "metadata": {
    "scrolled": true
   },
   "outputs": [
    {
     "name": "stderr",
     "output_type": "stream",
     "text": [
      "Matplotlib is building the font cache; this may take a moment.\n"
     ]
    },
    {
     "ename": "FileNotFoundError",
     "evalue": "[Errno 2] No such file or directory: '/Users/myunghwancho/Documents/ai_x/source/01_python/C:/Windows/Fonts/Hancom Gothic Regular.ttf'",
     "output_type": "error",
     "traceback": [
      "\u001b[0;31m---------------------------------------------------------------------------\u001b[0m",
      "\u001b[0;31mFileNotFoundError\u001b[0m                         Traceback (most recent call last)",
      "Cell \u001b[0;32mIn[2], line 14\u001b[0m\n\u001b[1;32m     11\u001b[0m \u001b[38;5;28;01mimport\u001b[39;00m \u001b[38;5;21;01mmatplotlib\u001b[39;00m\u001b[38;5;21;01m.\u001b[39;00m\u001b[38;5;21;01mfont_manager\u001b[39;00m \u001b[38;5;28;01mas\u001b[39;00m \u001b[38;5;21;01mfm\u001b[39;00m\n\u001b[1;32m     12\u001b[0m font_file \u001b[38;5;241m=\u001b[39m \u001b[38;5;124m'\u001b[39m\u001b[38;5;124mC:/Windows/Fonts/Hancom Gothic Regular.ttf\u001b[39m\u001b[38;5;124m'\u001b[39m\n\u001b[1;32m     13\u001b[0m font_name \u001b[38;5;241m=\u001b[39m fm\u001b[38;5;241m.\u001b[39mFontProperties(fname\u001b[38;5;241m=\u001b[39mfont_file,\n\u001b[0;32m---> 14\u001b[0m                              )\u001b[38;5;241m.\u001b[39mget_name()\n\u001b[1;32m     15\u001b[0m plt\u001b[38;5;241m.\u001b[39mrc(\u001b[38;5;124m'\u001b[39m\u001b[38;5;124mfont\u001b[39m\u001b[38;5;124m'\u001b[39m, family\u001b[38;5;241m=\u001b[39mfont_name)\n\u001b[1;32m     17\u001b[0m \u001b[38;5;28;01mimport\u001b[39;00m \u001b[38;5;21;01mwarnings\u001b[39;00m\n",
      "File \u001b[0;32m/opt/anaconda3/lib/python3.12/site-packages/matplotlib/font_manager.py:676\u001b[0m, in \u001b[0;36mFontProperties.get_name\u001b[0;34m(self)\u001b[0m\n\u001b[1;32m    672\u001b[0m \u001b[38;5;28;01mdef\u001b[39;00m \u001b[38;5;21mget_name\u001b[39m(\u001b[38;5;28mself\u001b[39m):\n\u001b[1;32m    673\u001b[0m \u001b[38;5;250m    \u001b[39m\u001b[38;5;124;03m\"\"\"\u001b[39;00m\n\u001b[1;32m    674\u001b[0m \u001b[38;5;124;03m    Return the name of the font that best matches the font properties.\u001b[39;00m\n\u001b[1;32m    675\u001b[0m \u001b[38;5;124;03m    \"\"\"\u001b[39;00m\n\u001b[0;32m--> 676\u001b[0m     \u001b[38;5;28;01mreturn\u001b[39;00m get_font(findfont(\u001b[38;5;28mself\u001b[39m))\u001b[38;5;241m.\u001b[39mfamily_name\n",
      "File \u001b[0;32m/opt/anaconda3/lib/python3.12/site-packages/matplotlib/font_manager.py:1560\u001b[0m, in \u001b[0;36mget_font\u001b[0;34m(font_filepaths, hinting_factor)\u001b[0m\n\u001b[1;32m   1557\u001b[0m \u001b[38;5;28;01mif\u001b[39;00m hinting_factor \u001b[38;5;129;01mis\u001b[39;00m \u001b[38;5;28;01mNone\u001b[39;00m:\n\u001b[1;32m   1558\u001b[0m     hinting_factor \u001b[38;5;241m=\u001b[39m mpl\u001b[38;5;241m.\u001b[39mrcParams[\u001b[38;5;124m'\u001b[39m\u001b[38;5;124mtext.hinting_factor\u001b[39m\u001b[38;5;124m'\u001b[39m]\n\u001b[0;32m-> 1560\u001b[0m \u001b[38;5;28;01mreturn\u001b[39;00m _get_font(\n\u001b[1;32m   1561\u001b[0m     \u001b[38;5;66;03m# must be a tuple to be cached\u001b[39;00m\n\u001b[1;32m   1562\u001b[0m     paths,\n\u001b[1;32m   1563\u001b[0m     hinting_factor,\n\u001b[1;32m   1564\u001b[0m     _kerning_factor\u001b[38;5;241m=\u001b[39mmpl\u001b[38;5;241m.\u001b[39mrcParams[\u001b[38;5;124m'\u001b[39m\u001b[38;5;124mtext.kerning_factor\u001b[39m\u001b[38;5;124m'\u001b[39m],\n\u001b[1;32m   1565\u001b[0m     \u001b[38;5;66;03m# also key on the thread ID to prevent segfaults with multi-threading\u001b[39;00m\n\u001b[1;32m   1566\u001b[0m     thread_id\u001b[38;5;241m=\u001b[39mthreading\u001b[38;5;241m.\u001b[39mget_ident()\n\u001b[1;32m   1567\u001b[0m )\n",
      "File \u001b[0;32m/opt/anaconda3/lib/python3.12/site-packages/matplotlib/font_manager.py:1502\u001b[0m, in \u001b[0;36m_get_font\u001b[0;34m(font_filepaths, hinting_factor, _kerning_factor, thread_id)\u001b[0m\n\u001b[1;32m   1499\u001b[0m \u001b[38;5;129m@lru_cache\u001b[39m(\u001b[38;5;241m64\u001b[39m)\n\u001b[1;32m   1500\u001b[0m \u001b[38;5;28;01mdef\u001b[39;00m \u001b[38;5;21m_get_font\u001b[39m(font_filepaths, hinting_factor, \u001b[38;5;241m*\u001b[39m, _kerning_factor, thread_id):\n\u001b[1;32m   1501\u001b[0m     first_fontpath, \u001b[38;5;241m*\u001b[39mrest \u001b[38;5;241m=\u001b[39m font_filepaths\n\u001b[0;32m-> 1502\u001b[0m     \u001b[38;5;28;01mreturn\u001b[39;00m ft2font\u001b[38;5;241m.\u001b[39mFT2Font(\n\u001b[1;32m   1503\u001b[0m         first_fontpath, hinting_factor,\n\u001b[1;32m   1504\u001b[0m         _fallback_list\u001b[38;5;241m=\u001b[39m[\n\u001b[1;32m   1505\u001b[0m             ft2font\u001b[38;5;241m.\u001b[39mFT2Font(\n\u001b[1;32m   1506\u001b[0m                 fpath, hinting_factor,\n\u001b[1;32m   1507\u001b[0m                 _kerning_factor\u001b[38;5;241m=\u001b[39m_kerning_factor\n\u001b[1;32m   1508\u001b[0m             )\n\u001b[1;32m   1509\u001b[0m             \u001b[38;5;28;01mfor\u001b[39;00m fpath \u001b[38;5;129;01min\u001b[39;00m rest\n\u001b[1;32m   1510\u001b[0m         ],\n\u001b[1;32m   1511\u001b[0m         _kerning_factor\u001b[38;5;241m=\u001b[39m_kerning_factor\n\u001b[1;32m   1512\u001b[0m     )\n",
      "\u001b[0;31mFileNotFoundError\u001b[0m: [Errno 2] No such file or directory: '/Users/myunghwancho/Documents/ai_x/source/01_python/C:/Windows/Fonts/Hancom Gothic Regular.ttf'"
     ]
    }
   ],
   "source": [
    "import matplotlib.pyplot as plt\n",
    "import seaborn as sns\n",
    "import pandas as pd\n",
    "import numpy as np\n",
    "\n",
    "%config InlineBackend.figure_format = \"retina\"\n",
    "\n",
    "plt.rc('font', family='Malgun Gothic') # 윈도우즈\n",
    "plt.rc('axes', unicode_minus=False) # 축의 - 깨짐 방지\n",
    "\n",
    "import matplotlib.font_manager as fm\n",
    "font_file = 'C:/Windows/Fonts/Hancom Gothic Regular.ttf'\n",
    "font_name = fm.FontProperties(fname=font_file,\n",
    "                             ).get_name()\n",
    "plt.rc('font', family=font_name)\n",
    "\n",
    "import warnings"
   ]
  },
  {
   "cell_type": "code",
   "execution_count": 4,
   "id": "b4e68924",
   "metadata": {},
   "outputs": [
    {
     "name": "stdout",
     "output_type": "stream",
     "text": [
      "ls: C:\\ai_x\\download\\shareData\\부동산_250213: No such file or directory\n"
     ]
    }
   ],
   "source": [
    "%ls \"C:\\ai_x\\download\\shareData\\부동산_250213\""
   ]
  },
  {
   "cell_type": "code",
   "execution_count": null,
   "id": "fcdceccc",
   "metadata": {},
   "outputs": [],
   "source": []
  },
  {
   "cell_type": "code",
   "execution_count": null,
   "id": "0289761b",
   "metadata": {},
   "outputs": [],
   "source": []
  }
 ],
 "metadata": {
  "kernelspec": {
   "display_name": "Python [conda env:base] *",
   "language": "python",
   "name": "conda-base-py"
  },
  "language_info": {
   "codemirror_mode": {
    "name": "ipython",
    "version": 3
   },
   "file_extension": ".py",
   "mimetype": "text/x-python",
   "name": "python",
   "nbconvert_exporter": "python",
   "pygments_lexer": "ipython3",
   "version": "3.12.7"
  }
 },
 "nbformat": 4,
 "nbformat_minor": 5
}
