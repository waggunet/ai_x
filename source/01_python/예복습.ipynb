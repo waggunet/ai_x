{
 "cells": [
  {
   "cell_type": "code",
   "execution_count": null,
   "id": "404b02c3",
   "metadata": {},
   "outputs": [],
   "source": []
  },
  {
   "cell_type": "code",
   "execution_count": 1,
   "id": "ed3ed325",
   "metadata": {
    "scrolled": false
   },
   "outputs": [
    {
     "data": {
      "text/html": [
       "\n",
       "<style>\n",
       "div.container{width:86% !important;}\n",
       "div.cell.code_cell.rendered{width:100%;}\n",
       "div.CodeMirror {font-family:Consolas; font-size:10pt;}\n",
       "div.output {font-size:12pt; font-weight:bold;}\n",
       "div.input {font-family:Consolas; font-size:10pt;}\n",
       "div.prompt {min-width:70px;}\n",
       "div#toc-wrapper{padding-top:120px;}\n",
       "div.text_cell_render ul li{font-size:10pt;padding:5px;}\n",
       "table.dataframe{font-size:15px;\n",
       "</style>\n"
      ],
      "text/plain": [
       "<IPython.core.display.HTML object>"
      ]
     },
     "metadata": {},
     "output_type": "display_data"
    }
   ],
   "source": [
    "# 매 강의 시작시마다 동일하게 처리해야 함\n",
    "from IPython.display import display, HTML\n",
    "display(HTML(\"\"\"\n",
    "<style>\n",
    "div.container{width:86% !important;}\n",
    "div.cell.code_cell.rendered{width:100%;}\n",
    "div.CodeMirror {font-family:Consolas; font-size:10pt;}\n",
    "div.output {font-size:12pt; font-weight:bold;}\n",
    "div.input {font-family:Consolas; font-size:10pt;}\n",
    "div.prompt {min-width:70px;}\n",
    "div#toc-wrapper{padding-top:120px;}\n",
    "div.text_cell_render ul li{font-size:10pt;padding:5px;}\n",
    "table.dataframe{font-size:15px;\n",
    "</style>\n",
    "\"\"\"))"
   ]
  },
  {
   "cell_type": "code",
   "execution_count": null,
   "id": "beac7e40",
   "metadata": {},
   "outputs": [],
   "source": [
    "# 4/16"
   ]
  },
  {
   "cell_type": "code",
   "execution_count": 13,
   "id": "09a4d33a",
   "metadata": {},
   "outputs": [],
   "source": [
    "def my_hello():\n",
    "    '''\n",
    "    sllkjflksdjflsdkjfljsdf\n",
    "    slfkjsldkjflsdkjflskfj\n",
    "    skdflsdjf\n",
    "    '''\n",
    "    print('hello world')"
   ]
  },
  {
   "cell_type": "code",
   "execution_count": 14,
   "id": "4318947a",
   "metadata": {},
   "outputs": [
    {
     "name": "stdout",
     "output_type": "stream",
     "text": [
      "hello world\n",
      "None\n"
     ]
    }
   ],
   "source": [
    "print(my_hello())"
   ]
  },
  {
   "cell_type": "code",
   "execution_count": 16,
   "id": "73f14b01",
   "metadata": {},
   "outputs": [],
   "source": [
    "def fibonacci(n):\n",
    "    a, b = 0, 1\n",
    "    while a < n:\n",
    "        print(a, end='   ')\n",
    "        a, b = b, a + b\n",
    "    print()\n"
   ]
  },
  {
   "cell_type": "code",
   "execution_count": 18,
   "id": "282688b2",
   "metadata": {},
   "outputs": [
    {
     "name": "stdout",
     "output_type": "stream",
     "text": [
      "0   1   1   2   3   5   8   13   21   34   \n",
      "None\n"
     ]
    }
   ],
   "source": [
    "print(fibonacci(50))"
   ]
  },
  {
   "cell_type": "code",
   "execution_count": 20,
   "id": "74683eba",
   "metadata": {},
   "outputs": [
    {
     "name": "stdout",
     "output_type": "stream",
     "text": [
      "함수안 : 100\n",
      "함수밖 : 100\n"
     ]
    }
   ],
   "source": [
    "global_var = 100\n",
    "def func1():\n",
    "    print('함수안 :', global_var)\n",
    "func1()\n",
    "print('함수밖 :', global_var)"
   ]
  },
  {
   "cell_type": "code",
   "execution_count": 21,
   "id": "62ab4851",
   "metadata": {},
   "outputs": [
    {
     "name": "stdout",
     "output_type": "stream",
     "text": [
      "함수안: 20\n"
     ]
    },
    {
     "ename": "NameError",
     "evalue": "name 'local_var' is not defined",
     "output_type": "error",
     "traceback": [
      "\u001b[1;31m---------------------------------------------------------------------------\u001b[0m",
      "\u001b[1;31mNameError\u001b[0m                                 Traceback (most recent call last)",
      "Cell \u001b[1;32mIn[21], line 5\u001b[0m\n\u001b[0;32m      3\u001b[0m     \u001b[38;5;28mprint\u001b[39m(\u001b[38;5;124m'\u001b[39m\u001b[38;5;124m함수안:\u001b[39m\u001b[38;5;124m'\u001b[39m, local_var)\n\u001b[0;32m      4\u001b[0m func2()\n\u001b[1;32m----> 5\u001b[0m \u001b[38;5;28mprint\u001b[39m(\u001b[38;5;124m'\u001b[39m\u001b[38;5;124m함수밖:\u001b[39m\u001b[38;5;124m'\u001b[39m, \u001b[43mlocal_var\u001b[49m)\n",
      "\u001b[1;31mNameError\u001b[0m: name 'local_var' is not defined"
     ]
    }
   ],
   "source": [
    "g_var = 100\n",
    "def func2():\n",
    "    local_var = 20\n",
    "    print('함수안:', local_var)\n",
    "func2()\n",
    "print('함수밖:', local_var)"
   ]
  },
  {
   "cell_type": "code",
   "execution_count": 22,
   "id": "cbf6cd07",
   "metadata": {},
   "outputs": [],
   "source": [
    "def tot(x,y):\n",
    "    return x + y"
   ]
  },
  {
   "cell_type": "code",
   "execution_count": 24,
   "id": "b6270096",
   "metadata": {},
   "outputs": [
    {
     "name": "stdout",
     "output_type": "stream",
     "text": [
      "7\n"
     ]
    }
   ],
   "source": [
    "print(tot(3,4))"
   ]
  },
  {
   "cell_type": "code",
   "execution_count": 27,
   "id": "7b6a396a",
   "metadata": {},
   "outputs": [],
   "source": [
    "def add():\n",
    "    return False"
   ]
  },
  {
   "cell_type": "code",
   "execution_count": 28,
   "id": "2e8e02c9",
   "metadata": {},
   "outputs": [
    {
     "name": "stdout",
     "output_type": "stream",
     "text": [
      "False\n"
     ]
    }
   ],
   "source": [
    "print(add())"
   ]
  },
  {
   "cell_type": "code",
   "execution_count": 31,
   "id": "cc90550b",
   "metadata": {},
   "outputs": [],
   "source": [
    "def add(*args):\n",
    "    result_tot = 0\n",
    "    for data in args:\n",
    "        result_tot += data\n",
    "    return result_tot"
   ]
  },
  {
   "cell_type": "code",
   "execution_count": 32,
   "id": "e61d6c1d",
   "metadata": {},
   "outputs": [
    {
     "name": "stdout",
     "output_type": "stream",
     "text": [
      "94\n"
     ]
    }
   ],
   "source": [
    "print(add(1,2,3,43,45,))"
   ]
  },
  {
   "cell_type": "code",
   "execution_count": 35,
   "id": "7fb6dc7f",
   "metadata": {},
   "outputs": [],
   "source": [
    "subject = 'a', 'b', 'd', 'd'\n",
    "def concat(*subject, sep):\n",
    "    return sep.join(subject)\n"
   ]
  },
  {
   "cell_type": "code",
   "execution_count": 43,
   "id": "e3252836",
   "metadata": {},
   "outputs": [],
   "source": [
    "def add(a,b):\n",
    "    return a+b"
   ]
  },
  {
   "cell_type": "code",
   "execution_count": 44,
   "id": "80fee880",
   "metadata": {},
   "outputs": [
    {
     "name": "stdout",
     "output_type": "stream",
     "text": [
      "7\n"
     ]
    }
   ],
   "source": [
    "print(add(3,4))"
   ]
  },
  {
   "cell_type": "code",
   "execution_count": 47,
   "id": "5d4efd54",
   "metadata": {},
   "outputs": [
    {
     "name": "stdout",
     "output_type": "stream",
     "text": [
      "20\n"
     ]
    }
   ],
   "source": [
    "add2 = lambda a,b : a+b\n",
    "add3 = lambda c,d : c *d\n",
    "print(add3(4,5))"
   ]
  },
  {
   "cell_type": "code",
   "execution_count": 49,
   "id": "c419aa44",
   "metadata": {},
   "outputs": [],
   "source": [
    "def diff(a):\n",
    "    return \"홀수\" if a%2 else \"짝수\"\n",
    "    "
   ]
  },
  {
   "cell_type": "code",
   "execution_count": 51,
   "id": "9504f6f9",
   "metadata": {},
   "outputs": [
    {
     "name": "stdout",
     "output_type": "stream",
     "text": [
      "홀수\n"
     ]
    }
   ],
   "source": [
    "print(diff(3))"
   ]
  },
  {
   "cell_type": "code",
   "execution_count": 52,
   "id": "66d4ae98",
   "metadata": {},
   "outputs": [],
   "source": [
    "def diff2(a,b):\n",
    "    return a-b if a>b else b-a\n",
    "    return result"
   ]
  },
  {
   "cell_type": "code",
   "execution_count": 53,
   "id": "9ab77d6c",
   "metadata": {},
   "outputs": [
    {
     "name": "stdout",
     "output_type": "stream",
     "text": [
      "4\n"
     ]
    }
   ],
   "source": [
    "print(diff2(3,7))"
   ]
  },
  {
   "cell_type": "code",
   "execution_count": 54,
   "id": "f043a574",
   "metadata": {},
   "outputs": [],
   "source": [
    "ex2 = lambda a, b : a-b  if a>b else b-a"
   ]
  },
  {
   "cell_type": "code",
   "execution_count": 57,
   "id": "4b180119",
   "metadata": {},
   "outputs": [
    {
     "name": "stdout",
     "output_type": "stream",
     "text": [
      "4500\n"
     ]
    }
   ],
   "source": [
    "print(ex2(4000,-500))"
   ]
  },
  {
   "cell_type": "code",
   "execution_count": 58,
   "id": "ff879763",
   "metadata": {},
   "outputs": [],
   "source": [
    "ex3 = lambda a : a if a>=0 else 'negative'"
   ]
  },
  {
   "cell_type": "code",
   "execution_count": 59,
   "id": "ce2ef90c",
   "metadata": {},
   "outputs": [
    {
     "name": "stdout",
     "output_type": "stream",
     "text": [
      "4000\n"
     ]
    }
   ],
   "source": [
    "print(ex3(4000))"
   ]
  },
  {
   "cell_type": "code",
   "execution_count": 60,
   "id": "c7122edb",
   "metadata": {},
   "outputs": [],
   "source": [
    "ex4 = lambda score : 'a team' if 80<=score<=100 else \\\n",
    "                    'b team' if 60<=score<=80 else \\\n",
    "                    're exam' if 0<=score<60 else \\\n",
    "                    'ding'"
   ]
  },
  {
   "cell_type": "code",
   "execution_count": 64,
   "id": "60c2557f",
   "metadata": {},
   "outputs": [
    {
     "name": "stdout",
     "output_type": "stream",
     "text": [
      "b team\n"
     ]
    }
   ],
   "source": [
    "print(ex4(60))"
   ]
  },
  {
   "cell_type": "code",
   "execution_count": 2,
   "id": "498a44eb",
   "metadata": {},
   "outputs": [],
   "source": [
    "def number():\n",
    "    chk_num = int(input(\"숫자를 입력해주세요:\"))\n",
    "    if chk_num % 2 == 0:\n",
    "        print(\"짝수입니다.\")\n",
    "    else:\n",
    "        print(\"홀수입니다.\")\n",
    "\n"
   ]
  },
  {
   "cell_type": "code",
   "execution_count": 3,
   "id": "9185b371",
   "metadata": {},
   "outputs": [
    {
     "name": "stdout",
     "output_type": "stream",
     "text": [
      "숫자를 입력해주세요:3\n",
      "홀수입니다.\n"
     ]
    }
   ],
   "source": [
    "number()"
   ]
  },
  {
   "cell_type": "code",
   "execution_count": 12,
   "id": "015fa803",
   "metadata": {},
   "outputs": [],
   "source": [
    "def nums():\n",
    "    a = int(input(\"첫번째숫자 입력:\"))\n",
    "    b = int(input(\"두번째숫자 입력:\"))\n",
    "    if a > b:\n",
    "        print(\"{}이 {}보다 큽니다.\".format(a,b))\n",
    "    elif a < b:\n",
    "        print(\"{}이 {}보다 작습니다.\".format(a,b))\n",
    "    else:\n",
    "        print(\"{}와 {}는 같습니다..\".format(a,b))"
   ]
  },
  {
   "cell_type": "code",
   "execution_count": 14,
   "id": "4f3043d1",
   "metadata": {},
   "outputs": [
    {
     "name": "stdout",
     "output_type": "stream",
     "text": [
      "첫번째숫자 입력:4\n",
      "두번째숫자 입력:3\n",
      "4이 3보다 큽니다.\n"
     ]
    }
   ],
   "source": [
    "nums()\n"
   ]
  },
  {
   "cell_type": "code",
   "execution_count": 15,
   "id": "0784daec",
   "metadata": {},
   "outputs": [
    {
     "name": "stdout",
     "output_type": "stream",
     "text": [
      "글자 입력:rksmssdfsdf sdf\n",
      "15\n"
     ]
    }
   ],
   "source": [
    "def text_test():\n",
    "    t = input(\"글자 입력:\")\n",
    "    print(len(t))\n",
    "    \n",
    "\n",
    "text_test()\n",
    "    "
   ]
  },
  {
   "cell_type": "code",
   "execution_count": 24,
   "id": "972b6e43",
   "metadata": {},
   "outputs": [],
   "source": [
    "def avg():\n",
    "    num1 = int(input(\"1 number:\"))\n",
    "    num2 = int(input(\"2 number:\"))\n",
    "    num3 = int(input(\"3 number:\"))\n",
    "    num_avg = (num1+num2+num3)/3\n",
    "    print(round(num_avg,2))\n",
    "    "
   ]
  },
  {
   "cell_type": "code",
   "execution_count": 25,
   "id": "7eda6257",
   "metadata": {},
   "outputs": [
    {
     "name": "stdout",
     "output_type": "stream",
     "text": [
      "1 number:3\n",
      "2 number:5\n",
      "3 number:6\n",
      "4.67\n"
     ]
    }
   ],
   "source": [
    "avg()"
   ]
  },
  {
   "cell_type": "code",
   "execution_count": 30,
   "id": "b586fb55",
   "metadata": {},
   "outputs": [
    {
     "name": "stdout",
     "output_type": "stream",
     "text": [
      "1st :50\n",
      "2st :80\n",
      "3st :90\n",
      "우\n"
     ]
    }
   ],
   "source": [
    "def aaa():\n",
    "    num1 = int(input(\"1st :\"))\n",
    "    num2 = int(input(\"2st :\"))\n",
    "    num3 = int(input(\"3st :\"))\n",
    "    tot = (num1 + num2 + num3)/3\n",
    "    if tot >= 90:\n",
    "        print(\"수\")\n",
    "    elif tot >= 80:\n",
    "        print(\"우\")\n",
    "    elif tot >= 70:\n",
    "        print(\"미\")\n",
    "    else:\n",
    "        print(\"재시험\")\n",
    "    \n",
    "aaa()"
   ]
  },
  {
   "cell_type": "code",
   "execution_count": 32,
   "id": "a18be6c7",
   "metadata": {},
   "outputs": [
    {
     "name": "stdout",
     "output_type": "stream",
     "text": [
      "1번째 과목 점수:30\n",
      "2번째 과목 점수:40\n",
      "3번째 과목 점수:50\n",
      "평균은 40.00점이고, 등급은 재시험입니다.\n"
     ]
    }
   ],
   "source": [
    "def grade():\n",
    "    scores = [int(input(f\"{i+1}번째 과목 점수:\")) for i in range(3)]\n",
    "    avg = sum(scores) / len(scores)\n",
    "    \n",
    "    if avg >= 90 :\n",
    "        grade = \"수\"\n",
    "    elif avg >= 80 :\n",
    "        grade = \"우\"\n",
    "    elif avg >= 70 :\n",
    "        grade = \"미\"\n",
    "    else:\n",
    "        grade = \"재시험\"\n",
    "    print(f\"평균은 {avg:.2f}점이고, 등급은 {grade}입니다.\")\n",
    "    \n",
    "    \n",
    "grade()\n",
    "        \n",
    "    "
   ]
  },
  {
   "cell_type": "code",
   "execution_count": 35,
   "id": "6a0acce5",
   "metadata": {},
   "outputs": [
    {
     "name": "stdout",
     "output_type": "stream",
     "text": [
      "1\n",
      "2\n",
      "3\n",
      "재시험\n"
     ]
    }
   ],
   "source": [
    "def grade_level():\n",
    "    a, b, c = int(input()), int(input()), int(input())\n",
    "    avg = (a + b + c)/3\n",
    "    print(\"수\" if avg >= 90 else \"우\" if avg >= 80 else \"미\" if avg >= 70 else \"재시험\")\n",
    "    \n",
    "grade_level()"
   ]
  },
  {
   "cell_type": "code",
   "execution_count": 39,
   "id": "ad7ba85f",
   "metadata": {},
   "outputs": [
    {
     "name": "stdout",
     "output_type": "stream",
     "text": [
      "30 90 50 60\n",
      "최대값:90, 최소값30\n"
     ]
    }
   ],
   "source": [
    "def max_num():\n",
    "    lst = list(map(int, input().split()))\n",
    "    print(f\"최대값:{max(lst)}, 최소값{min(lst)}\")\n",
    "\n",
    "max_num()\n",
    "          \n",
    "    "
   ]
  },
  {
   "cell_type": "code",
   "execution_count": 43,
   "id": "88d8fb13",
   "metadata": {},
   "outputs": [
    {
     "name": "stdout",
     "output_type": "stream",
     "text": [
      "50 80 70 40\n",
      "최대값:80, 최소값:40\n"
     ]
    }
   ],
   "source": [
    "def max_num():\n",
    "    lst = list(map(int, input().split()))\n",
    "    print(\"최대값:{}, 최소값:{}\".format(max(lst),min(lst)))\n",
    "\n",
    "max_num()"
   ]
  },
  {
   "cell_type": "code",
   "execution_count": 10,
   "id": "c3ee6f30",
   "metadata": {},
   "outputs": [
    {
     "name": "stdout",
     "output_type": "stream",
     "text": [
      "숫자 입력 공백구분 여러개12 21 34 23 235 23432 23 \n",
      "12\n",
      "34\n",
      "23432\n"
     ]
    }
   ],
   "source": [
    "def jjaksu():\n",
    "    lst = list(map(int,input(\"숫자 입력 공백구분 여러개\").split()))\n",
    "    for num in lst:\n",
    "        if num %2==0:\n",
    "            print(num)\n",
    "\n",
    "jjaksu()        \n",
    "    "
   ]
  },
  {
   "cell_type": "code",
   "execution_count": 11,
   "id": "496b495c",
   "metadata": {},
   "outputs": [
    {
     "name": "stdout",
     "output_type": "stream",
     "text": [
      "숫자, 공백, 여려개12 32 42 55432 3423464567 4 4654 5456 4 6745 654 6456 \n",
      "3423464567\n",
      "6745\n"
     ]
    }
   ],
   "source": [
    "def holsu():\n",
    "    lst = list(map(int, input(\"숫자, 공백, 여려개\").split()))\n",
    "    for num in lst:\n",
    "        if num%2 != 0:\n",
    "            print(num)\n",
    "\n",
    "holsu()\n",
    "    "
   ]
  },
  {
   "cell_type": "code",
   "execution_count": 17,
   "id": "6d3d978f",
   "metadata": {},
   "outputs": [
    {
     "name": "stdout",
     "output_type": "stream",
     "text": [
      "숫자, 공백, 여려개23 234 562345 234 24 34 235 23 2 34 234 234 \n",
      "[23, 562345, 235, 23]\n"
     ]
    }
   ],
   "source": [
    "def holsu():\n",
    "    lst = list(map(int, input(\"숫자, 공백, 여려개\").split()))\n",
    "    result = []\n",
    "    for num in lst:\n",
    "        if num%2 != 0:\n",
    "            result.append(num)\n",
    "    print(result)\n",
    "            \n",
    "\n",
    "holsu()"
   ]
  },
  {
   "cell_type": "code",
   "execution_count": 20,
   "id": "350d4a02",
   "metadata": {},
   "outputs": [],
   "source": [
    "def holsu():\n",
    "    print([x for x in map(int, input().split()) if x%2 !=0])"
   ]
  },
  {
   "cell_type": "code",
   "execution_count": 21,
   "id": "9dcc12c4",
   "metadata": {},
   "outputs": [
    {
     "name": "stdout",
     "output_type": "stream",
     "text": [
      "924 23432 4 25 4 3543 5 \n",
      "[25, 3543, 5]\n"
     ]
    }
   ],
   "source": [
    "holsu()"
   ]
  },
  {
   "cell_type": "markdown",
   "id": "8f7b529f",
   "metadata": {},
   "source": [
    "# 4/23"
   ]
  },
  {
   "cell_type": "code",
   "execution_count": 23,
   "id": "3a5d65d1",
   "metadata": {},
   "outputs": [
    {
     "ename": "NameError",
     "evalue": "name 'np' is not defined",
     "output_type": "error",
     "traceback": [
      "\u001b[1;31m---------------------------------------------------------------------------\u001b[0m",
      "\u001b[1;31mNameError\u001b[0m                                 Traceback (most recent call last)",
      "Cell \u001b[1;32mIn[23], line 1\u001b[0m\n\u001b[1;32m----> 1\u001b[0m \u001b[43mnp\u001b[49m\u001b[38;5;241m.\u001b[39marray([\u001b[38;5;241m1\u001b[39m,\u001b[38;5;241m2\u001b[39m,\u001b[38;5;241m3\u001b[39m])\n",
      "\u001b[1;31mNameError\u001b[0m: name 'np' is not defined"
     ]
    }
   ],
   "source": [
    "np.array([1,2,3])"
   ]
  },
  {
   "cell_type": "code",
   "execution_count": 26,
   "id": "5a19f43f",
   "metadata": {},
   "outputs": [
    {
     "name": "stdout",
     "output_type": "stream",
     "text": [
      "[1 2 3 4 5]\n"
     ]
    }
   ],
   "source": [
    "import numpy as np\n",
    "\n",
    "arr = np.array([1,2,3,4,5])\n",
    "print(arr)"
   ]
  },
  {
   "cell_type": "code",
   "execution_count": 33,
   "id": "9f1d5409",
   "metadata": {},
   "outputs": [
    {
     "name": "stdout",
     "output_type": "stream",
     "text": [
      "1 (5,) 5 int32\n"
     ]
    }
   ],
   "source": [
    "print(arr.ndim, arr.shape, arr.size, arr.dtype)"
   ]
  },
  {
   "cell_type": "code",
   "execution_count": 36,
   "id": "a1e21541",
   "metadata": {},
   "outputs": [
    {
     "name": "stdout",
     "output_type": "stream",
     "text": [
      "[11 22 33]\n"
     ]
    }
   ],
   "source": [
    "import numpy as np\n",
    "arr1 = np.array([1,2,3])\n",
    "arr2 = np.array([10,20,30])\n",
    "tot = arr1 + arr2\n",
    "print(tot)\n"
   ]
  },
  {
   "cell_type": "code",
   "execution_count": 39,
   "id": "091bf3f8",
   "metadata": {},
   "outputs": [
    {
     "name": "stdout",
     "output_type": "stream",
     "text": [
      "[11 22 33]\n"
     ]
    }
   ],
   "source": [
    "print(np.array([1,2,3])+np.array([10,20,30]))"
   ]
  },
  {
   "cell_type": "code",
   "execution_count": 42,
   "id": "00c90ff4",
   "metadata": {},
   "outputs": [
    {
     "name": "stdout",
     "output_type": "stream",
     "text": [
      "[1 4 9]\n"
     ]
    }
   ],
   "source": [
    "print(np.array([1,2,3])**2)"
   ]
  },
  {
   "cell_type": "code",
   "execution_count": 43,
   "id": "3cbc7c6c",
   "metadata": {},
   "outputs": [],
   "source": [
    "# 브로드캐스팅\n",
    "# 차원이 다른 배열끼리도 자동으로 맞춰서 연산할 수 있는 기능"
   ]
  },
  {
   "cell_type": "code",
   "execution_count": 44,
   "id": "4bf22b49",
   "metadata": {},
   "outputs": [
    {
     "name": "stdout",
     "output_type": "stream",
     "text": [
      "[10 15 20 25 30]\n"
     ]
    }
   ],
   "source": [
    "a = np.array([2,3,4,5,6])\n",
    "b = 5\n",
    "print(a*b)"
   ]
  },
  {
   "cell_type": "code",
   "execution_count": 45,
   "id": "04666b11",
   "metadata": {},
   "outputs": [
    {
     "name": "stdout",
     "output_type": "stream",
     "text": [
      "[[4]\n",
      " [5]\n",
      " [6]]\n"
     ]
    }
   ],
   "source": [
    "a = np.array([[1],[2],[3]])\n",
    "b = 3\n",
    "print(a+b)"
   ]
  },
  {
   "cell_type": "code",
   "execution_count": 46,
   "id": "4b293a9d",
   "metadata": {},
   "outputs": [
    {
     "name": "stdout",
     "output_type": "stream",
     "text": [
      "[11 12 13]\n"
     ]
    }
   ],
   "source": [
    "a = np.array([1,2,3])\n",
    "b = 10\n",
    "print(a+b)"
   ]
  },
  {
   "cell_type": "code",
   "execution_count": 47,
   "id": "d19cbdec",
   "metadata": {},
   "outputs": [
    {
     "name": "stdout",
     "output_type": "stream",
     "text": [
      "[[11 22 33]\n",
      " [14 25 36]\n",
      " [17 28 39]]\n"
     ]
    }
   ],
   "source": [
    "a = np.array([\n",
    "    [1,2,3],\n",
    "    [4,5,6],\n",
    "    [7,8,9]\n",
    "])\n",
    "b = np.array([10,20,30])\n",
    "print(a+b)"
   ]
  },
  {
   "cell_type": "code",
   "execution_count": 54,
   "id": "41588961",
   "metadata": {},
   "outputs": [
    {
     "name": "stdout",
     "output_type": "stream",
     "text": [
      "[4 5 6]\n",
      "[[4 5]\n",
      " [7 8]]\n",
      "[7]\n"
     ]
    }
   ],
   "source": [
    "a = np.array([\n",
    "    [1,2,3],\n",
    "    [4,5,6],\n",
    "    [7,8,9]\n",
    "])\n",
    "print(a[1])\n",
    "print(a[1:,:2])\n",
    "print(a[2,:1])"
   ]
  },
  {
   "cell_type": "code",
   "execution_count": 73,
   "id": "0d7b3ba7",
   "metadata": {},
   "outputs": [
    {
     "name": "stdout",
     "output_type": "stream",
     "text": [
      "[7 8]\n"
     ]
    }
   ],
   "source": [
    "print(a[2,:2])"
   ]
  },
  {
   "cell_type": "code",
   "execution_count": 75,
   "id": "1cd7e7b6",
   "metadata": {},
   "outputs": [
    {
     "name": "stdout",
     "output_type": "stream",
     "text": [
      "[7 9]\n"
     ]
    }
   ],
   "source": [
    "a = np.array([1,3,5,7,9])\n",
    "cond = a[a>5]\n",
    "print(cond)"
   ]
  },
  {
   "cell_type": "code",
   "execution_count": 77,
   "id": "7962781c",
   "metadata": {},
   "outputs": [
    {
     "name": "stdout",
     "output_type": "stream",
     "text": [
      "[6 7 8 9]\n"
     ]
    }
   ],
   "source": [
    "a = np.array([\n",
    "    [1, 2, 3],\n",
    "    [4, 5, 6],\n",
    "    [7, 8, 9]\n",
    "])\n",
    "\n",
    "b = a[a>5]\n",
    "print(b)"
   ]
  },
  {
   "cell_type": "code",
   "execution_count": 79,
   "id": "51c3a2ac",
   "metadata": {
    "scrolled": true
   },
   "outputs": [
    {
     "name": "stdout",
     "output_type": "stream",
     "text": [
      "[[1 2 3]\n",
      " [4 5 3]\n",
      " [3 3 3]]\n"
     ]
    }
   ],
   "source": [
    "a = np.array([\n",
    "    [1, 2, 3],\n",
    "    [4, 5, 6],\n",
    "    [7, 8, 9]\n",
    "])\n",
    "\n",
    "b = a[a>5] = 3\n",
    "print(a)"
   ]
  },
  {
   "cell_type": "code",
   "execution_count": null,
   "id": "a6ceeac5",
   "metadata": {},
   "outputs": [],
   "source": [
    "arr.ndim     # 차원 수\n",
    "arr.shape    # 구조 (행, 열)\n",
    "arr.size     # 전체 요소 개수\n",
    "arr.dtype    # 자료형"
   ]
  },
  {
   "cell_type": "code",
   "execution_count": null,
   "id": "e4974e50",
   "metadata": {},
   "outputs": [],
   "source": []
  },
  {
   "cell_type": "code",
   "execution_count": null,
   "id": "02468c3f",
   "metadata": {},
   "outputs": [],
   "source": []
  },
  {
   "cell_type": "code",
   "execution_count": null,
   "id": "ed254b04",
   "metadata": {},
   "outputs": [],
   "source": []
  },
  {
   "cell_type": "code",
   "execution_count": null,
   "id": "d19f46aa",
   "metadata": {},
   "outputs": [],
   "source": []
  },
  {
   "cell_type": "code",
   "execution_count": null,
   "id": "79b1b203",
   "metadata": {},
   "outputs": [],
   "source": []
  },
  {
   "cell_type": "code",
   "execution_count": null,
   "id": "bdd5a0e2",
   "metadata": {},
   "outputs": [],
   "source": []
  },
  {
   "cell_type": "code",
   "execution_count": null,
   "id": "5f18f911",
   "metadata": {},
   "outputs": [],
   "source": []
  }
 ],
 "metadata": {
  "kernelspec": {
   "display_name": "Python 3 (ipykernel)",
   "language": "python",
   "name": "python3"
  },
  "language_info": {
   "codemirror_mode": {
    "name": "ipython",
    "version": 3
   },
   "file_extension": ".py",
   "mimetype": "text/x-python",
   "name": "python",
   "nbconvert_exporter": "python",
   "pygments_lexer": "ipython3",
   "version": "3.10.9"
  }
 },
 "nbformat": 4,
 "nbformat_minor": 5
}
