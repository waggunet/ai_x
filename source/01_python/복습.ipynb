{
 "cells": [
  {
   "cell_type": "code",
   "execution_count": null,
   "id": "404b02c3",
   "metadata": {},
   "outputs": [],
   "source": []
  },
  {
   "cell_type": "code",
   "execution_count": 1,
   "id": "ed3ed325",
   "metadata": {
    "scrolled": false
   },
   "outputs": [
    {
     "data": {
      "text/html": [
       "\n",
       "<style>\n",
       "div.container{width:86% !important;}\n",
       "div.cell.code_cell.rendered{width:100%;}\n",
       "div.CodeMirror {font-family:Consolas; font-size:10pt;}\n",
       "div.output {font-size:12pt; font-weight:bold;}\n",
       "div.input {font-family:Consolas; font-size:10pt;}\n",
       "div.prompt {min-width:70px;}\n",
       "div#toc-wrapper{padding-top:120px;}\n",
       "div.text_cell_render ul li{font-size:10pt;padding:5px;}\n",
       "table.dataframe{font-size:15px;\n",
       "</style>\n"
      ],
      "text/plain": [
       "<IPython.core.display.HTML object>"
      ]
     },
     "metadata": {},
     "output_type": "display_data"
    }
   ],
   "source": [
    "# 매 강의 시작시마다 동일하게 처리해야 함\n",
    "from IPython.display import display, HTML\n",
    "display(HTML(\"\"\"\n",
    "<style>\n",
    "div.container{width:86% !important;}\n",
    "div.cell.code_cell.rendered{width:100%;}\n",
    "div.CodeMirror {font-family:Consolas; font-size:10pt;}\n",
    "div.output {font-size:12pt; font-weight:bold;}\n",
    "div.input {font-family:Consolas; font-size:10pt;}\n",
    "div.prompt {min-width:70px;}\n",
    "div#toc-wrapper{padding-top:120px;}\n",
    "div.text_cell_render ul li{font-size:10pt;padding:5px;}\n",
    "table.dataframe{font-size:15px;\n",
    "</style>\n",
    "\"\"\"))"
   ]
  },
  {
   "cell_type": "code",
   "execution_count": null,
   "id": "beac7e40",
   "metadata": {},
   "outputs": [],
   "source": [
    "# 4/16"
   ]
  },
  {
   "cell_type": "code",
   "execution_count": 13,
   "id": "09a4d33a",
   "metadata": {},
   "outputs": [],
   "source": [
    "def my_hello():\n",
    "    '''\n",
    "    sllkjflksdjflsdkjfljsdf\n",
    "    slfkjsldkjflsdkjflskfj\n",
    "    skdflsdjf\n",
    "    '''\n",
    "    print('hello world')"
   ]
  },
  {
   "cell_type": "code",
   "execution_count": 14,
   "id": "4318947a",
   "metadata": {},
   "outputs": [
    {
     "name": "stdout",
     "output_type": "stream",
     "text": [
      "hello world\n",
      "None\n"
     ]
    }
   ],
   "source": [
    "print(my_hello())"
   ]
  },
  {
   "cell_type": "code",
   "execution_count": 16,
   "id": "73f14b01",
   "metadata": {},
   "outputs": [],
   "source": [
    "def fibonacci(n):\n",
    "    a, b = 0, 1\n",
    "    while a < n:\n",
    "        print(a, end='   ')\n",
    "        a, b = b, a + b\n",
    "    print()\n"
   ]
  },
  {
   "cell_type": "code",
   "execution_count": 18,
   "id": "282688b2",
   "metadata": {},
   "outputs": [
    {
     "name": "stdout",
     "output_type": "stream",
     "text": [
      "0   1   1   2   3   5   8   13   21   34   \n",
      "None\n"
     ]
    }
   ],
   "source": [
    "print(fibonacci(50))"
   ]
  },
  {
   "cell_type": "code",
   "execution_count": 20,
   "id": "74683eba",
   "metadata": {},
   "outputs": [
    {
     "name": "stdout",
     "output_type": "stream",
     "text": [
      "함수안 : 100\n",
      "함수밖 : 100\n"
     ]
    }
   ],
   "source": [
    "global_var = 100\n",
    "def func1():\n",
    "    print('함수안 :', global_var)\n",
    "func1()\n",
    "print('함수밖 :', global_var)"
   ]
  },
  {
   "cell_type": "code",
   "execution_count": 21,
   "id": "62ab4851",
   "metadata": {},
   "outputs": [
    {
     "name": "stdout",
     "output_type": "stream",
     "text": [
      "함수안: 20\n"
     ]
    },
    {
     "ename": "NameError",
     "evalue": "name 'local_var' is not defined",
     "output_type": "error",
     "traceback": [
      "\u001b[1;31m---------------------------------------------------------------------------\u001b[0m",
      "\u001b[1;31mNameError\u001b[0m                                 Traceback (most recent call last)",
      "Cell \u001b[1;32mIn[21], line 5\u001b[0m\n\u001b[0;32m      3\u001b[0m     \u001b[38;5;28mprint\u001b[39m(\u001b[38;5;124m'\u001b[39m\u001b[38;5;124m함수안:\u001b[39m\u001b[38;5;124m'\u001b[39m, local_var)\n\u001b[0;32m      4\u001b[0m func2()\n\u001b[1;32m----> 5\u001b[0m \u001b[38;5;28mprint\u001b[39m(\u001b[38;5;124m'\u001b[39m\u001b[38;5;124m함수밖:\u001b[39m\u001b[38;5;124m'\u001b[39m, \u001b[43mlocal_var\u001b[49m)\n",
      "\u001b[1;31mNameError\u001b[0m: name 'local_var' is not defined"
     ]
    }
   ],
   "source": [
    "g_var = 100\n",
    "def func2():\n",
    "    local_var = 20\n",
    "    print('함수안:', local_var)\n",
    "func2()\n",
    "print('함수밖:', local_var)"
   ]
  },
  {
   "cell_type": "code",
   "execution_count": 22,
   "id": "cbf6cd07",
   "metadata": {},
   "outputs": [],
   "source": [
    "def tot(x,y):\n",
    "    return x + y"
   ]
  },
  {
   "cell_type": "code",
   "execution_count": 24,
   "id": "b6270096",
   "metadata": {},
   "outputs": [
    {
     "name": "stdout",
     "output_type": "stream",
     "text": [
      "7\n"
     ]
    }
   ],
   "source": [
    "print(tot(3,4))"
   ]
  },
  {
   "cell_type": "code",
   "execution_count": 27,
   "id": "7b6a396a",
   "metadata": {},
   "outputs": [],
   "source": [
    "def add():\n",
    "    return False"
   ]
  },
  {
   "cell_type": "code",
   "execution_count": 28,
   "id": "2e8e02c9",
   "metadata": {},
   "outputs": [
    {
     "name": "stdout",
     "output_type": "stream",
     "text": [
      "False\n"
     ]
    }
   ],
   "source": [
    "print(add())"
   ]
  },
  {
   "cell_type": "code",
   "execution_count": 31,
   "id": "cc90550b",
   "metadata": {},
   "outputs": [],
   "source": [
    "def add(*args):\n",
    "    result_tot = 0\n",
    "    for data in args:\n",
    "        result_tot += data\n",
    "    return result_tot"
   ]
  },
  {
   "cell_type": "code",
   "execution_count": 32,
   "id": "e61d6c1d",
   "metadata": {},
   "outputs": [
    {
     "name": "stdout",
     "output_type": "stream",
     "text": [
      "94\n"
     ]
    }
   ],
   "source": [
    "print(add(1,2,3,43,45,))"
   ]
  },
  {
   "cell_type": "code",
   "execution_count": 35,
   "id": "7fb6dc7f",
   "metadata": {},
   "outputs": [],
   "source": [
    "subject = 'a', 'b', 'd', 'd'\n",
    "def concat(*subject, sep):\n",
    "    return sep.join(subject)\n"
   ]
  },
  {
   "cell_type": "code",
   "execution_count": 43,
   "id": "e3252836",
   "metadata": {},
   "outputs": [],
   "source": [
    "def add(a,b):\n",
    "    return a+b"
   ]
  },
  {
   "cell_type": "code",
   "execution_count": 44,
   "id": "80fee880",
   "metadata": {},
   "outputs": [
    {
     "name": "stdout",
     "output_type": "stream",
     "text": [
      "7\n"
     ]
    }
   ],
   "source": [
    "print(add(3,4))"
   ]
  },
  {
   "cell_type": "code",
   "execution_count": 47,
   "id": "5d4efd54",
   "metadata": {},
   "outputs": [
    {
     "name": "stdout",
     "output_type": "stream",
     "text": [
      "20\n"
     ]
    }
   ],
   "source": [
    "add2 = lambda a,b : a+b\n",
    "add3 = lambda c,d : c *d\n",
    "print(add3(4,5))"
   ]
  },
  {
   "cell_type": "code",
   "execution_count": 49,
   "id": "c419aa44",
   "metadata": {},
   "outputs": [],
   "source": [
    "def diff(a):\n",
    "    return \"홀수\" if a%2 else \"짝수\"\n",
    "    "
   ]
  },
  {
   "cell_type": "code",
   "execution_count": 51,
   "id": "9504f6f9",
   "metadata": {},
   "outputs": [
    {
     "name": "stdout",
     "output_type": "stream",
     "text": [
      "홀수\n"
     ]
    }
   ],
   "source": [
    "print(diff(3))"
   ]
  },
  {
   "cell_type": "code",
   "execution_count": 52,
   "id": "66d4ae98",
   "metadata": {},
   "outputs": [],
   "source": [
    "def diff2(a,b):\n",
    "    return a-b if a>b else b-a\n",
    "    return result"
   ]
  },
  {
   "cell_type": "code",
   "execution_count": 53,
   "id": "9ab77d6c",
   "metadata": {},
   "outputs": [
    {
     "name": "stdout",
     "output_type": "stream",
     "text": [
      "4\n"
     ]
    }
   ],
   "source": [
    "print(diff2(3,7))"
   ]
  },
  {
   "cell_type": "code",
   "execution_count": 54,
   "id": "f043a574",
   "metadata": {},
   "outputs": [],
   "source": [
    "ex2 = lambda a, b : a-b  if a>b else b-a"
   ]
  },
  {
   "cell_type": "code",
   "execution_count": 57,
   "id": "4b180119",
   "metadata": {},
   "outputs": [
    {
     "name": "stdout",
     "output_type": "stream",
     "text": [
      "4500\n"
     ]
    }
   ],
   "source": [
    "print(ex2(4000,-500))"
   ]
  },
  {
   "cell_type": "code",
   "execution_count": 58,
   "id": "ff879763",
   "metadata": {},
   "outputs": [],
   "source": [
    "ex3 = lambda a : a if a>=0 else 'negative'"
   ]
  },
  {
   "cell_type": "code",
   "execution_count": 59,
   "id": "ce2ef90c",
   "metadata": {},
   "outputs": [
    {
     "name": "stdout",
     "output_type": "stream",
     "text": [
      "4000\n"
     ]
    }
   ],
   "source": [
    "print(ex3(4000))"
   ]
  },
  {
   "cell_type": "code",
   "execution_count": 60,
   "id": "c7122edb",
   "metadata": {},
   "outputs": [],
   "source": [
    "ex4 = lambda score : 'a team' if 80<=score<=100 else \\\n",
    "                    'b team' if 60<=score<=80 else \\\n",
    "                    're exam' if 0<=score<60 else \\\n",
    "                    'ding'"
   ]
  },
  {
   "cell_type": "code",
   "execution_count": 64,
   "id": "60c2557f",
   "metadata": {},
   "outputs": [
    {
     "name": "stdout",
     "output_type": "stream",
     "text": [
      "b team\n"
     ]
    }
   ],
   "source": [
    "print(ex4(60))"
   ]
  },
  {
   "cell_type": "code",
   "execution_count": null,
   "id": "498a44eb",
   "metadata": {},
   "outputs": [],
   "source": []
  },
  {
   "cell_type": "code",
   "execution_count": null,
   "id": "55dbd103",
   "metadata": {},
   "outputs": [],
   "source": []
  },
  {
   "cell_type": "code",
   "execution_count": null,
   "id": "9185b371",
   "metadata": {},
   "outputs": [],
   "source": []
  }
 ],
 "metadata": {
  "kernelspec": {
   "display_name": "Python 3 (ipykernel)",
   "language": "python",
   "name": "python3"
  },
  "language_info": {
   "codemirror_mode": {
    "name": "ipython",
    "version": 3
   },
   "file_extension": ".py",
   "mimetype": "text/x-python",
   "name": "python",
   "nbconvert_exporter": "python",
   "pygments_lexer": "ipython3",
   "version": "3.10.9"
  }
 },
 "nbformat": 4,
 "nbformat_minor": 5
}
