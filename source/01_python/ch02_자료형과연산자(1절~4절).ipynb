{
 "cells": [
  {
   "cell_type": "code",
   "execution_count": 1,
   "id": "1c69afa8",
   "metadata": {},
   "outputs": [
    {
     "data": {
      "text/html": [
       "\n",
       "<style>\n",
       "div.container{width:86% !important;}\n",
       "div.cell.code_cell.rendered{width:100%;}\n",
       "div.CodeMirror {font-family:Consolas; font-size:15pt;}\n",
       "div.output {font-size:15pt; font-weight:bold;}\n",
       "div.input {font-family:Consolas; font-size:15pt;}\n",
       "div.prompt {min-width:70px;}\n",
       "div#toc-wrapper{padding-top:120px;}\n",
       "div.text_cell_render ul li{font-size:12pt;padding:5px;}\n",
       "table.dataframe{font-size:15px;}\n",
       "</style>\n"
      ],
      "text/plain": [
       "<IPython.core.display.HTML object>"
      ]
     },
     "metadata": {},
     "output_type": "display_data"
    }
   ],
   "source": [
    "# 매 강의 시작시마다 동일하게 처리해야 함\n",
    "from IPython.display import display, HTML\n",
    "display(HTML(\"\"\"\n",
    "<style>\n",
    "div.container{width:86% !important;}\n",
    "div.cell.code_cell.rendered{width:100%;}\n",
    "div.CodeMirror {font-family:Consolas; font-size:15pt;}\n",
    "div.output {font-size:15pt; font-weight:bold;}\n",
    "div.input {font-family:Consolas; font-size:15pt;}\n",
    "div.prompt {min-width:70px;}\n",
    "div#toc-wrapper{padding-top:120px;}\n",
    "div.text_cell_render ul li{font-size:12pt;padding:5px;}\n",
    "table.dataframe{font-size:15px;}\n",
    "</style>\n",
    "\"\"\"))"
   ]
  },
  {
   "cell_type": "markdown",
   "id": "827110d0",
   "metadata": {},
   "source": [
    "<font size=\"5\" color=\"red\">ch02 자료형과 연산자</font>\n",
    "# 1절 변수\n",
    "- 파이썬 변수선언을 위한 과정이 없음. 할당과 동시에 타입이 지정되고 값이 할당됨\n",
    "\n",
    "## 1.1 변수할당\n",
    "- 할당연산자(=)를 이용해서 값을 할당하면 타입이 셋팅\n",
    "- 파이썬에서의 모든 변수는 객체로 저장"
   ]
  },
  {
   "cell_type": "code",
   "execution_count": 3,
   "id": "643330b1",
   "metadata": {},
   "outputs": [
    {
     "name": "stdout",
     "output_type": "stream",
     "text": [
      "계산된 넓이는 78.5\n"
     ]
    }
   ],
   "source": [
    "# 소수점이 있으면 정수 없으면 실수\n",
    "# r = 5.0\n",
    "r = 5\n",
    "area = 3.14 * r * r\n",
    "print(\"계산된 넓이는\", area)"
   ]
  },
  {
   "cell_type": "code",
   "execution_count": 5,
   "id": "3230c800",
   "metadata": {},
   "outputs": [
    {
     "name": "stdout",
     "output_type": "stream",
     "text": [
      "area =  78.53981633974483\n"
     ]
    }
   ],
   "source": [
    "# 파이를 입력하고 싶다..\n",
    "# 임포트 활용, numpy 라이브러리를 활용해서 입력\n",
    "import numpy as np\n",
    "area = np.pi * r * r\n",
    "print('area = ', area)\n"
   ]
  },
  {
   "cell_type": "code",
   "execution_count": 6,
   "id": "eac33fbf",
   "metadata": {},
   "outputs": [
    {
     "data": {
      "text/plain": [
       "False"
      ]
     },
     "execution_count": 6,
     "metadata": {},
     "output_type": "execute_result"
    }
   ],
   "source": [
    "# 맨 마지막 줄에서는 프린트를 하지 않아도 된다.\n",
    "area.is_integer() # area가 integer인지 여부를 반환"
   ]
  },
  {
   "cell_type": "code",
   "execution_count": 7,
   "id": "1e02c560",
   "metadata": {},
   "outputs": [
    {
     "name": "stdout",
     "output_type": "stream",
     "text": [
      "area의 주소 : 2491505287280\n",
      "area의 타입 : <class 'float'>\n"
     ]
    }
   ],
   "source": [
    "print('area의 주소 :', id(area)) #id(area) : area변수의 주소값\n",
    "print('area의 타입 :', type(area))"
   ]
  },
  {
   "cell_type": "code",
   "execution_count": 8,
   "id": "7c44b48d",
   "metadata": {},
   "outputs": [
    {
     "name": "stdout",
     "output_type": "stream",
     "text": [
      "area의 주소 : 2491549240560\n",
      "area의 타입 : <class 'float'>\n"
     ]
    }
   ],
   "source": [
    "area = 5.5\n",
    "print('area의 주소 :', id(area)) \n",
    "print('area의 타입 :', type(area))"
   ]
  },
  {
   "cell_type": "code",
   "execution_count": 9,
   "id": "52598032",
   "metadata": {},
   "outputs": [
    {
     "name": "stdout",
     "output_type": "stream",
     "text": [
      "area의 주소 : 2491419460112\n",
      "area의 타입 : <class 'int'>\n"
     ]
    }
   ],
   "source": [
    "area = 10\n",
    "print('area의 주소 :', id(area)) \n",
    "print('area의 타입 :', type(area))"
   ]
  },
  {
   "cell_type": "code",
   "execution_count": 12,
   "id": "78415ce8",
   "metadata": {},
   "outputs": [
    {
     "name": "stdout",
     "output_type": "stream",
     "text": [
      "area의 주소 : 2491551745296\n",
      "area의 타입 : <class 'str'>\n"
     ]
    }
   ],
   "source": [
    "area = \"파이썬\"\n",
    "print('area의 주소 :', id(area)) \n",
    "print('area의 타입 :', type(area))"
   ]
  },
  {
   "cell_type": "code",
   "execution_count": null,
   "id": "dc34eb4b",
   "metadata": {},
   "outputs": [],
   "source": [
    "# 변수는 항상 길게 하는 버릇을 들이도록 한다."
   ]
  },
  {
   "cell_type": "markdown",
   "id": "3f09f0f0",
   "metadata": {},
   "source": [
    "## 1.2 변수 이름 규칙\n",
    "- 문자로 시작(숫자로 시작 불가)\n",
    "- 문자, 숫자, _(언더바)로 변수명 작성\n",
    "- 함수명(예, print)은 변수 이름으로 가능하나 피한다. 써야한다면 \"int_\"식으로 언더바를 이용한다.\n",
    "- 파이썬 예약어(for, ..)는 변수이름 사용불가\n",
    "- 한글 변수는 꼭 필요시에만 사용"
   ]
  },
  {
   "cell_type": "code",
   "execution_count": 13,
   "id": "28ef3b8e",
   "metadata": {},
   "outputs": [
    {
     "name": "stdout",
     "output_type": "stream",
     "text": [
      "홍길동\n"
     ]
    }
   ],
   "source": [
    "이름 = \"홍길동\" #변수 이름은 한글은 비추\n",
    "print(이름)"
   ]
  },
  {
   "cell_type": "code",
   "execution_count": 14,
   "id": "e2eb5c49",
   "metadata": {},
   "outputs": [
    {
     "data": {
      "text/plain": [
       "'홍길동'"
      ]
     },
     "execution_count": 14,
     "metadata": {},
     "output_type": "execute_result"
    }
   ],
   "source": [
    "이름"
   ]
  },
  {
   "cell_type": "code",
   "execution_count": 15,
   "id": "2ff4fcb9",
   "metadata": {},
   "outputs": [
    {
     "ename": "SyntaxError",
     "evalue": "invalid syntax (3039934606.py, line 1)",
     "output_type": "error",
     "traceback": [
      "\u001b[1;36m  Cell \u001b[1;32mIn[15], line 1\u001b[1;36m\u001b[0m\n\u001b[1;33m    for = 5\u001b[0m\n\u001b[1;37m        ^\u001b[0m\n\u001b[1;31mSyntaxError\u001b[0m\u001b[1;31m:\u001b[0m invalid syntax\n"
     ]
    }
   ],
   "source": [
    "for = 5"
   ]
  },
  {
   "cell_type": "code",
   "execution_count": 20,
   "id": "547850b6",
   "metadata": {},
   "outputs": [],
   "source": [
    "# member.name = \"홍길동\"\n",
    "member_name = \"홍길동\"\n",
    "memberName = \"홍길동\""
   ]
  },
  {
   "cell_type": "code",
   "execution_count": 21,
   "id": "dc3a1b86",
   "metadata": {},
   "outputs": [
    {
     "name": "stdout",
     "output_type": "stream",
     "text": [
      "10\n"
     ]
    }
   ],
   "source": [
    "Print = 10 #대문자로 시작하는 변수는 강력 비추 정도가 아니라 절대 쓰지 말자\n",
    "print(Print)"
   ]
  },
  {
   "cell_type": "code",
   "execution_count": 22,
   "id": "70205f0d",
   "metadata": {},
   "outputs": [
    {
     "data": {
      "text/plain": [
       "complex"
      ]
     },
     "execution_count": 22,
     "metadata": {},
     "output_type": "execute_result"
    }
   ],
   "source": [
    "# 파이썬에서의 숫자 : 정수, 실수, 복소수\n",
    "i = 3 + 3j # 복소수\n",
    "type(i)"
   ]
  },
  {
   "cell_type": "code",
   "execution_count": 23,
   "id": "e2fb8c00",
   "metadata": {},
   "outputs": [
    {
     "data": {
      "text/plain": [
       "True"
      ]
     },
     "execution_count": 23,
     "metadata": {},
     "output_type": "execute_result"
    }
   ],
   "source": [
    "isinstance(i, complex) # i 변수(객체)가 complex인지 여부 확인"
   ]
  },
  {
   "cell_type": "markdown",
   "id": "aa60dbbc",
   "metadata": {},
   "source": [
    "## 1.3 도움말"
   ]
  },
  {
   "cell_type": "code",
   "execution_count": 24,
   "id": "09971f25",
   "metadata": {},
   "outputs": [
    {
     "name": "stdout",
     "output_type": "stream",
     "text": [
      "Help on built-in function print in module builtins:\n",
      "\n",
      "print(...)\n",
      "    print(value, ..., sep=' ', end='\\n', file=sys.stdout, flush=False)\n",
      "    \n",
      "    Prints the values to a stream, or to sys.stdout by default.\n",
      "    Optional keyword arguments:\n",
      "    file:  a file-like object (stream); defaults to the current sys.stdout.\n",
      "    sep:   string inserted between values, default a space.\n",
      "    end:   string appended after the last value, default a newline.\n",
      "    flush: whether to forcibly flush the stream.\n",
      "\n"
     ]
    }
   ],
   "source": [
    "help(print)"
   ]
  },
  {
   "cell_type": "code",
   "execution_count": 25,
   "id": "6758ac78",
   "metadata": {},
   "outputs": [
    {
     "name": "stdout",
     "output_type": "stream",
     "text": [
      "\n",
      "Welcome to Python 3.10's help utility!\n",
      "\n",
      "If this is your first time using Python, you should definitely check out\n",
      "the tutorial on the internet at https://docs.python.org/3.10/tutorial/.\n",
      "\n",
      "Enter the name of any module, keyword, or topic to get help on writing\n",
      "Python programs and using Python modules.  To quit this help utility and\n",
      "return to the interpreter, just type \"quit\".\n",
      "\n",
      "To get a list of available modules, keywords, symbols, or topics, type\n",
      "\"modules\", \"keywords\", \"symbols\", or \"topics\".  Each module also comes\n",
      "with a one-line summary of what it does; to list the modules whose name\n",
      "or summary contain a given string such as \"spam\", type \"modules spam\".\n",
      "\n",
      "help> print \n",
      "Help on built-in function print in module builtins:\n",
      "\n",
      "print(...)\n",
      "    print(value, ..., sep=' ', end='\\n', file=sys.stdout, flush=False)\n",
      "    \n",
      "    Prints the values to a stream, or to sys.stdout by default.\n",
      "    Optional keyword arguments:\n",
      "    file:  a file-like object (stream); defaults to the current sys.stdout.\n",
      "    sep:   string inserted between values, default a space.\n",
      "    end:   string appended after the last value, default a newline.\n",
      "    flush: whether to forcibly flush the stream.\n",
      "\n",
      "help> isinstance\n",
      "Help on built-in function isinstance in module builtins:\n",
      "\n",
      "isinstance(obj, class_or_tuple, /)\n",
      "    Return whether an object is an instance of a class or of a subclass thereof.\n",
      "    \n",
      "    A tuple, as in ``isinstance(x, (A, B, ...))``, may be given as the target to\n",
      "    check against. This is equivalent to ``isinstance(x, A) or isinstance(x, B)\n",
      "    or ...`` etc.\n",
      "\n",
      "help> q\n",
      "\n",
      "You are now leaving help and returning to the Python interpreter.\n",
      "If you want to ask for help on a particular object directly from the\n",
      "interpreter, you can type \"help(object)\".  Executing \"help('string')\"\n",
      "has the same effect as typing a particular string at the help> prompt.\n"
     ]
    }
   ],
   "source": [
    "help() # help를 빠져 나오려면 q 입력, 접고 싶을 떄 esc누르고 \"o\" 접기/펴기 기능임"
   ]
  },
  {
   "cell_type": "code",
   "execution_count": 26,
   "id": "ee97d653",
   "metadata": {},
   "outputs": [
    {
     "name": "stdout",
     "output_type": "stream",
     "text": [
      "\n"
     ]
    }
   ],
   "source": [
    "# 도움말 기능 : shift+tab키 or shift+tab,tab은 더 많은 정보 표현\n",
    "print()"
   ]
  },
  {
   "cell_type": "code",
   "execution_count": 29,
   "id": "32548928",
   "metadata": {},
   "outputs": [],
   "source": [
    "def add(x, y):\n",
    "    '''\n",
    "    매게변수 2개를 받아 두자리 숫자로 만들어요\n",
    "    x = 10의 자리수가 됨\n",
    "    y = 1의 자리수가 됨\n",
    "    사용법 : add(2, 3) => 23\n",
    "    '''\n",
    "    return x * 10 + y"
   ]
  },
  {
   "cell_type": "code",
   "execution_count": 28,
   "id": "541ff6f5",
   "metadata": {},
   "outputs": [
    {
     "data": {
      "text/plain": [
       "21"
      ]
     },
     "execution_count": 28,
     "metadata": {},
     "output_type": "execute_result"
    }
   ],
   "source": [
    "add(2, 1)"
   ]
  },
  {
   "cell_type": "code",
   "execution_count": 30,
   "id": "5a10087f",
   "metadata": {},
   "outputs": [
    {
     "ename": "TypeError",
     "evalue": "add() missing 2 required positional arguments: 'x' and 'y'",
     "output_type": "error",
     "traceback": [
      "\u001b[1;31m---------------------------------------------------------------------------\u001b[0m",
      "\u001b[1;31mTypeError\u001b[0m                                 Traceback (most recent call last)",
      "Cell \u001b[1;32mIn[30], line 2\u001b[0m\n\u001b[0;32m      1\u001b[0m \u001b[38;5;66;03m#  '''로 묶으면 위와 같이 함수에 대한 설명을 추가할 수 있음\u001b[39;00m\n\u001b[1;32m----> 2\u001b[0m \u001b[43madd\u001b[49m\u001b[43m(\u001b[49m\u001b[43m)\u001b[49m\n",
      "\u001b[1;31mTypeError\u001b[0m: add() missing 2 required positional arguments: 'x' and 'y'"
     ]
    }
   ],
   "source": [
    "#  '''로 묶으면 위와 같이 함수에 대한 설명을 추가할 수 있음\n",
    "add()"
   ]
  },
  {
   "cell_type": "code",
   "execution_count": 31,
   "id": "52d9878d",
   "metadata": {},
   "outputs": [
    {
     "data": {
      "text/plain": [
       "65"
      ]
     },
     "execution_count": 31,
     "metadata": {},
     "output_type": "execute_result"
    }
   ],
   "source": [
    "add(5, 15)"
   ]
  },
  {
   "cell_type": "code",
   "execution_count": 32,
   "id": "058ae7e2",
   "metadata": {},
   "outputs": [],
   "source": [
    "# y값을 0으로 두면 변수 1개를 넣지 않아도 됨\n",
    "def add(x, y=0):\n",
    "    return x * 10 + y"
   ]
  },
  {
   "cell_type": "code",
   "execution_count": 33,
   "id": "1c228e02",
   "metadata": {},
   "outputs": [
    {
     "data": {
      "text/plain": [
       "40"
      ]
     },
     "execution_count": 33,
     "metadata": {},
     "output_type": "execute_result"
    }
   ],
   "source": [
    "add(4)"
   ]
  },
  {
   "cell_type": "code",
   "execution_count": 35,
   "id": "0c0b32ae",
   "metadata": {},
   "outputs": [
    {
     "data": {
      "text/plain": [
       "23"
      ]
     },
     "execution_count": 35,
     "metadata": {},
     "output_type": "execute_result"
    }
   ],
   "source": [
    "# a라는 변수에 add라는 함수를 넣는 것이 가능함\n",
    "# 자바나 c에서는 변수에 함수를 넣는 것이 불가능함\n",
    "a = add\n",
    "a(2, 3)"
   ]
  },
  {
   "cell_type": "markdown",
   "id": "8619b858",
   "metadata": {},
   "source": [
    "## 1.4 다중 변수 할당"
   ]
  },
  {
   "cell_type": "code",
   "execution_count": 36,
   "id": "49002884",
   "metadata": {},
   "outputs": [],
   "source": [
    "a = 10\n",
    "b = 20"
   ]
  },
  {
   "cell_type": "code",
   "execution_count": 37,
   "id": "d91e17f7",
   "metadata": {},
   "outputs": [
    {
     "name": "stdout",
     "output_type": "stream",
     "text": [
      "10 20\n"
     ]
    }
   ],
   "source": [
    "a, b = 10, 20\n",
    "print(a, b)"
   ]
  },
  {
   "cell_type": "code",
   "execution_count": 38,
   "id": "a2bd1333",
   "metadata": {},
   "outputs": [
    {
     "name": "stdout",
     "output_type": "stream",
     "text": [
      "20 30\n"
     ]
    }
   ],
   "source": [
    "# 다중 변수 할당시 순차적 할당이 아니고, 일괄 동시 할당되어 적용됨\n",
    "a, b = b, a+b\n",
    "print(a, b)"
   ]
  },
  {
   "cell_type": "code",
   "execution_count": 40,
   "id": "e03aece7",
   "metadata": {},
   "outputs": [
    {
     "name": "stdout",
     "output_type": "stream",
     "text": [
      "80 30\n"
     ]
    }
   ],
   "source": [
    "a, b = a+b, b\n",
    "print(a, b)"
   ]
  },
  {
   "cell_type": "markdown",
   "id": "5fcc1998",
   "metadata": {},
   "source": [
    "# 2절. 화면 입출력(i/o)"
   ]
  },
  {
   "cell_type": "code",
   "execution_count": 42,
   "id": "4e243e79",
   "metadata": {},
   "outputs": [
    {
     "name": "stdout",
     "output_type": "stream",
     "text": [
      "my first input\n"
     ]
    },
    {
     "data": {
      "text/plain": [
       "'my first input'"
      ]
     },
     "execution_count": 42,
     "metadata": {},
     "output_type": "execute_result"
    }
   ],
   "source": [
    "# input() : 사용자로부터 값을 입력받기 위한 함수. 반드시 문자열로 입력\n",
    "first = input()\n",
    "first"
   ]
  },
  {
   "cell_type": "code",
   "execution_count": 43,
   "id": "acbe4c2e",
   "metadata": {},
   "outputs": [
    {
     "name": "stdout",
     "output_type": "stream",
     "text": [
      "첫번째 숫자는?5555555\n"
     ]
    },
    {
     "data": {
      "text/plain": [
       "'5555555'"
      ]
     },
     "execution_count": 43,
     "metadata": {},
     "output_type": "execute_result"
    }
   ],
   "source": [
    "first = input(\"첫번째 숫자는?\")\n",
    "first"
   ]
  },
  {
   "cell_type": "code",
   "execution_count": 45,
   "id": "75e8c4b9",
   "metadata": {},
   "outputs": [
    {
     "name": "stdout",
     "output_type": "stream",
     "text": [
      "첫번째 숫자는?3\n",
      "두번째 숫자는?3\n",
      "3 3\n"
     ]
    }
   ],
   "source": [
    "first = input(\"첫번째 숫자는?\")\n",
    "second = input(\"두번째 숫자는?\")\n",
    "print(first, second)"
   ]
  },
  {
   "cell_type": "code",
   "execution_count": 46,
   "id": "e7c0dc1b",
   "metadata": {},
   "outputs": [
    {
     "name": "stdout",
     "output_type": "stream",
     "text": [
      "첫번째 숫자는?1\n",
      "두번째 숫자는?2\n",
      "합: 3\n"
     ]
    }
   ],
   "source": [
    "first = input(\"첫번째 숫자는?\")\n",
    "second = input(\"두번째 숫자는?\")\n",
    "sum = int(first) + int(second)\n",
    "print('합:', sum)"
   ]
  },
  {
   "cell_type": "code",
   "execution_count": 48,
   "id": "01ecd938",
   "metadata": {},
   "outputs": [
    {
     "name": "stdout",
     "output_type": "stream",
     "text": [
      "첫번째 숫자는?4\n",
      "두번쨰 숫자는?4\n",
      "합 : 8\n"
     ]
    }
   ],
   "source": [
    "first = int(input('첫번째 숫자는?'))\n",
    "second = int(input('두번쨰 숫자는?'))\n",
    "sum = first + second\n",
    "print('합 :', sum)"
   ]
  },
  {
   "cell_type": "code",
   "execution_count": 49,
   "id": "b507179d",
   "metadata": {},
   "outputs": [
    {
     "name": "stdout",
     "output_type": "stream",
     "text": [
      "첫번째 숫자는?5\n",
      "두번쨰 숫자는?20\n",
      "합 25\n"
     ]
    }
   ],
   "source": [
    "first = int(input('첫번째 숫자는?'))\n",
    "second = int(input('두번쨰 숫자는?'))\n",
    "sum = first + second\n",
    "print('합', sum)"
   ]
  },
  {
   "cell_type": "code",
   "execution_count": 50,
   "id": "e5b7a8d7",
   "metadata": {},
   "outputs": [
    {
     "name": "stdout",
     "output_type": "stream",
     "text": [
      "합=25\n"
     ]
    }
   ],
   "source": [
    "print('합', sum, sep='=')"
   ]
  },
  {
   "cell_type": "code",
   "execution_count": 51,
   "id": "cae75bf6",
   "metadata": {},
   "outputs": [
    {
     "name": "stdout",
     "output_type": "stream",
     "text": [
      "합=25\n",
      "합~25\n",
      "합은 25\n",
      "합이 어찌되느냐면 25\n"
     ]
    }
   ],
   "source": [
    "print('합', sum, sep='=')\n",
    "print('합', sum, sep='~')\n",
    "print('합', sum, sep='은 ')\n",
    "print('합', sum, sep='이 어찌되느냐면 ')"
   ]
  },
  {
   "cell_type": "code",
   "execution_count": 54,
   "id": "c312badb",
   "metadata": {},
   "outputs": [
    {
     "name": "stdout",
     "output_type": "stream",
     "text": [
      "합=25 합~25 합은 25 합이 어찌되느냐면 25 "
     ]
    }
   ],
   "source": [
    "print('합', sum, sep='=', end=' ')\n",
    "print('합', sum, sep='~', end=' ')\n",
    "print('합', sum, sep='은 ', end=' ')\n",
    "print('합', sum, sep='이 어찌되느냐면 ', end=' ')"
   ]
  },
  {
   "cell_type": "code",
   "execution_count": 55,
   "id": "26e64379",
   "metadata": {},
   "outputs": [
    {
     "name": "stdout",
     "output_type": "stream",
     "text": [
      "합=25/ 합~25/ 합은 25/ 합이 어찌되느냐면 25/ "
     ]
    }
   ],
   "source": [
    "print('합', sum, sep='=', end='/ ')\n",
    "print('합', sum, sep='~', end='/ ')\n",
    "print('합', sum, sep='은 ', end='/ ')\n",
    "print('합', sum, sep='이 어찌되느냐면 ', end='/ ')"
   ]
  },
  {
   "cell_type": "code",
   "execution_count": 57,
   "id": "90f88808",
   "metadata": {},
   "outputs": [
    {
     "name": "stdout",
     "output_type": "stream",
     "text": [
      "합=25, 합~25, 합은 25, 합이 어찌되느냐면 25 "
     ]
    }
   ],
   "source": [
    "print('합', sum, sep='=', end=', ')\n",
    "print('합', sum, sep='~', end=', ')\n",
    "print('합', sum, sep='은 ', end=', ')\n",
    "print('합', sum, sep='이 어찌되느냐면 ', end=' ')"
   ]
  },
  {
   "cell_type": "code",
   "execution_count": 58,
   "id": "41d2d96f",
   "metadata": {},
   "outputs": [
    {
     "name": "stdout",
     "output_type": "stream",
     "text": [
      "Hello,World\n"
     ]
    }
   ],
   "source": [
    "# 실제로는 화면상에 import sys와 file=sys.stdout가 생략되어 있는 것임\n",
    "import sys\n",
    "print('Hello', 'World', sep=\",\", file=sys.stdout)"
   ]
  },
  {
   "cell_type": "markdown",
   "id": "ced8d8a7",
   "metadata": {},
   "source": [
    "# 3절. 기본 자료형\n",
    "- 자료형에 따라 값의 크기와 저장 방식이 달라짐\n",
    "    - 숫자 : int, float, complex\n",
    "    - 문자 : str\n",
    "    - 논리 : bool(True/False)\n",
    "## 3.1 숫자형\n"
   ]
  },
  {
   "cell_type": "code",
   "execution_count": 59,
   "id": "0ae612cd",
   "metadata": {},
   "outputs": [],
   "source": [
    "# 변수 = 값(2장)이 아닌 변수=값들(데이터구조 3장)이 될 수 있음\n",
    "# 변수 = 값을 \"스칼라 데이터\"라고 함\n",
    "# 값들을 넣을 경우는 3장에서 다룸"
   ]
  },
  {
   "cell_type": "code",
   "execution_count": 61,
   "id": "6d4f6b8f",
   "metadata": {},
   "outputs": [
    {
     "data": {
      "text/plain": [
       "9223372036854775807"
      ]
     },
     "execution_count": 61,
     "metadata": {},
     "output_type": "execute_result"
    }
   ],
   "source": [
    "import sys\n",
    "sys.maxsize # 정수의 최대값 2의 63승 - 1 (2**63-1)"
   ]
  },
  {
   "cell_type": "code",
   "execution_count": 64,
   "id": "6aca1141",
   "metadata": {},
   "outputs": [
    {
     "name": "stdout",
     "output_type": "stream",
     "text": [
      "9223372046854775807\n",
      "<class 'int'>\n"
     ]
    }
   ],
   "source": [
    "i = sys.maxsize + 10000000000\n",
    "print(i)\n",
    "print(type(i))"
   ]
  },
  {
   "cell_type": "code",
   "execution_count": 67,
   "id": "2895b406",
   "metadata": {},
   "outputs": [
    {
     "data": {
      "text/plain": [
       "2.0"
      ]
     },
     "execution_count": 67,
     "metadata": {},
     "output_type": "execute_result"
    }
   ],
   "source": [
    "f = 4/2 # 파이썬에서는 정수/정수는 무조건 실수로 결과값 전달\n",
    "f"
   ]
  },
  {
   "cell_type": "code",
   "execution_count": 69,
   "id": "54585829",
   "metadata": {},
   "outputs": [
    {
     "data": {
      "text/plain": [
       "2"
      ]
     },
     "execution_count": 69,
     "metadata": {},
     "output_type": "execute_result"
    }
   ],
   "source": [
    "# 자바처럼 정수/정수의 결과를 정수로 표기하고자 할 경우\n",
    "f = 4//2 # 몫연산자\n",
    "f"
   ]
  },
  {
   "cell_type": "code",
   "execution_count": 70,
   "id": "0c3143a1",
   "metadata": {},
   "outputs": [
    {
     "name": "stdout",
     "output_type": "stream",
     "text": [
      "2\n",
      "2\n"
     ]
    }
   ],
   "source": [
    "f = 4//2\n",
    "print(f)\n",
    "f = int(4/2)\n",
    "print(f)"
   ]
  },
  {
   "cell_type": "code",
   "execution_count": 71,
   "id": "af01614d",
   "metadata": {},
   "outputs": [
    {
     "name": "stdout",
     "output_type": "stream",
     "text": [
      "2\n",
      "2.0\n"
     ]
    }
   ],
   "source": [
    "f = 4//2\n",
    "print(f)\n",
    "f = float(4/2)\n",
    "print(f)"
   ]
  },
  {
   "cell_type": "code",
   "execution_count": 73,
   "id": "5fd2d4b6",
   "metadata": {},
   "outputs": [
    {
     "name": "stdout",
     "output_type": "stream",
     "text": [
      "(-1+0j)\n"
     ]
    }
   ],
   "source": [
    "c = 1j # 수학시간의 0+1i\n",
    "print(c**2) # 승연산자"
   ]
  },
  {
   "cell_type": "code",
   "execution_count": 75,
   "id": "6cfc1658",
   "metadata": {},
   "outputs": [
    {
     "name": "stdout",
     "output_type": "stream",
     "text": [
      "지수형 표현할 당시 실수형으로 저장 :  1120000000000.0\n"
     ]
    }
   ],
   "source": [
    "f = 1.12e12 # 1.12의 10의 12승, 11200000000000, 지수형 표현이라고 함\n",
    "print('지수형 표현할 당시 실수형으로 저장 : ', f)"
   ]
  },
  {
   "cell_type": "code",
   "execution_count": 78,
   "id": "ae6af5bf",
   "metadata": {},
   "outputs": [
    {
     "name": "stdout",
     "output_type": "stream",
     "text": [
      "지수형 표현할 당시 실수형으로 저장 :  1120000000000.0\n",
      "지수형 표현할 당시 실수형으로 저장 :  1.12e-12\n"
     ]
    }
   ],
   "source": [
    "f = 1.12e12 \n",
    "print('지수형 표현할 당시 실수형으로 저장 : ', f)\n",
    "f = 1.12e-12 #0.000000000112\n",
    "print('지수형 표현할 당시 실수형으로 저장 : ', f)"
   ]
  },
  {
   "cell_type": "markdown",
   "id": "c8d9b21b",
   "metadata": {},
   "source": [
    "## 3.2 문자형\n",
    "쌍따옴표(\"_\")나 홀따옴표('_') 사용가능"
   ]
  },
  {
   "cell_type": "code",
   "execution_count": 87,
   "id": "e13d0404",
   "metadata": {},
   "outputs": [
    {
     "name": "stdout",
     "output_type": "stream",
     "text": [
      "홍길동\"짱\" 서울시 관악구 '신림동'\n"
     ]
    }
   ],
   "source": [
    "name = \"홍길동\\\"짱\\\"\" # 홍길동\"짱\"\n",
    "name = '홍길동\"짱\"'\n",
    "address = '서울시 관악구 \\신림동\\'' # 서울시 관악구 '신길동'\n",
    "address = \"서울시 관악구 '신림동'\"\n",
    "print(name, address)"
   ]
  },
  {
   "cell_type": "code",
   "execution_count": 88,
   "id": "57b7570c",
   "metadata": {},
   "outputs": [
    {
     "name": "stdout",
     "output_type": "stream",
     "text": [
      "홍길동\"짱\",서울시 관악구 '신림동'\n"
     ]
    }
   ],
   "source": [
    "name = \"홍길동\\\"짱\\\"\" # 홍길동\"짱\"\n",
    "name = '홍길동\"짱\"'\n",
    "address = '서울시 관악구 \\신림동\\'' # 서울시 관악구 '신길동'\n",
    "address = \"서울시 관악구 '신림동'\"\n",
    "print(name, address, sep=',')"
   ]
  },
  {
   "cell_type": "code",
   "execution_count": 89,
   "id": "96df23a7",
   "metadata": {},
   "outputs": [
    {
     "name": "stdout",
     "output_type": "stream",
     "text": [
      "홍길동\"짱\"/서울시 관악구 '신림동'\n"
     ]
    }
   ],
   "source": [
    "name = \"홍길동\\\"짱\\\"\" # 홍길동\"짱\"\n",
    "name = '홍길동\"짱\"'\n",
    "address = '서울시 관악구 \\신림동\\'' # 서울시 관악구 '신길동'\n",
    "address = \"서울시 관악구 '신림동'\"\n",
    "print(name, address, sep='/')"
   ]
  },
  {
   "cell_type": "code",
   "execution_count": 90,
   "id": "539be128",
   "metadata": {},
   "outputs": [
    {
     "name": "stdout",
     "output_type": "stream",
     "text": [
      "홍길동\"짱\", 주소 :서울시 관악구 '신림동'\n"
     ]
    }
   ],
   "source": [
    "name = \"홍길동\\\"짱\\\"\" # 홍길동\"짱\"\n",
    "name = '홍길동\"짱\"'\n",
    "address = '서울시 관악구 \\신림동\\'' # 서울시 관악구 '신길동'\n",
    "address = \"서울시 관악구 '신림동'\"\n",
    "print(name, address, sep=', 주소 :')"
   ]
  },
  {
   "cell_type": "code",
   "execution_count": 92,
   "id": "cdb238ed",
   "metadata": {},
   "outputs": [
    {
     "name": "stdout",
     "output_type": "stream",
     "text": [
      "여러 줄 짜리 내용\n",
      "줄바꿈문자를 쓰지 않고 따옴표 3개로 처리한다.\n",
      "이처럼 쓰는 경우가 많아요\n"
     ]
    }
   ],
   "source": [
    "# 문자형 변수에 여러 줄을 입력하고자 할 때\n",
    "text = '''여러 줄 짜리 내용\n",
    "줄바꿈문자를 쓰지 않고 따옴표 3개로 처리한다.\n",
    "이처럼 쓰는 경우가 많아요'''\n",
    "print(text)"
   ]
  },
  {
   "cell_type": "code",
   "execution_count": 93,
   "id": "445fc527",
   "metadata": {},
   "outputs": [],
   "source": [
    "text = '''여러 줄 짜리 내용\n",
    "줄바꿈문자를 쓰지 않고 따옴표 3개로 처리한다.\n",
    "이처럼 쓰는 경우가 많아요 ㅋㅋ, 개인정보 등등'''\n",
    "# 문자열에서 빼야 하는 경우 걸러야 하는 경우가 많을 수 있을 떄 사용하는 것이 바로 문자열 연산임\n"
   ]
  },
  {
   "cell_type": "markdown",
   "id": "c3951671",
   "metadata": {},
   "source": [
    "### ※ 문자열 연산\n"
   ]
  },
  {
   "cell_type": "code",
   "execution_count": null,
   "id": "35ecd23b",
   "metadata": {},
   "outputs": [],
   "source": []
  },
  {
   "cell_type": "code",
   "execution_count": 94,
   "id": "03394376",
   "metadata": {},
   "outputs": [
    {
     "data": {
      "text/plain": [
       "'\\n    여러 줄 주석 용도\\n    2025.04.08 문자열 연산 소스 by 홍길동\\n'"
      ]
     },
     "execution_count": 94,
     "metadata": {},
     "output_type": "execute_result"
    }
   ],
   "source": [
    "'''\n",
    "    여러 줄 주석 용도\n",
    "    2025.04.08 문자열 연산 소스 by 홍길동\n",
    "'''"
   ]
  },
  {
   "cell_type": "code",
   "execution_count": 95,
   "id": "deb8d7dc",
   "metadata": {},
   "outputs": [
    {
     "name": "stdout",
     "output_type": "stream",
     "text": [
      "홍길동동해 번쩍 서해 번쩍\n"
     ]
    }
   ],
   "source": [
    "'''\n",
    "    여러 줄 주석 용도\n",
    "    2025.04.08 문자열 연산 소스 by 홍길동\n",
    "'''\n",
    "name1 = \"홍길동\"\n",
    "name2 = \"동해 번쩍 서해 번쩍\"\n",
    "print(name1+name2)"
   ]
  },
  {
   "cell_type": "code",
   "execution_count": 96,
   "id": "8512f172",
   "metadata": {},
   "outputs": [
    {
     "name": "stdout",
     "output_type": "stream",
     "text": [
      "홍길동홍길동홍길동\n"
     ]
    }
   ],
   "source": [
    "print(name1*3) # 문자열을 곱하면 반복"
   ]
  },
  {
   "cell_type": "markdown",
   "id": "333bf292",
   "metadata": {},
   "source": [
    "## ※ raw 데이터\n",
    "- 용도 : 정규표현식 이용, 디렉토리 경로 표현시 이용"
   ]
  },
  {
   "cell_type": "code",
   "execution_count": 97,
   "id": "6b6ad23e",
   "metadata": {
    "scrolled": true
   },
   "outputs": [
    {
     "name": "stdout",
     "output_type": "stream",
     "text": [
      "Hello\n",
      "World\n"
     ]
    }
   ],
   "source": [
    "print('Hello\\nWorld') # \\n은 다음줄로 보내라"
   ]
  },
  {
   "cell_type": "code",
   "execution_count": 99,
   "id": "f55cb953",
   "metadata": {},
   "outputs": [
    {
     "name": "stdout",
     "output_type": "stream",
     "text": [
      "Hello\\nWorld\n"
     ]
    }
   ],
   "source": [
    "print(r'Hello\\nWorld') # r을 앞에 붙이면 RAW데이터로 그대로 인식하도록 지시, \\n도 raw데이터로 인식해서 출력함"
   ]
  },
  {
   "cell_type": "code",
   "execution_count": 100,
   "id": "e7d2f538",
   "metadata": {},
   "outputs": [
    {
     "name": "stdout",
     "output_type": "stream",
     "text": [
      "Hello\\nWorld\n"
     ]
    }
   ],
   "source": [
    "print('Hello\\\\nWorld') # 역슬래시를 두번써서 치환이 가능하나 보기가 싫어서 r을 많이 사용함"
   ]
  },
  {
   "cell_type": "markdown",
   "id": "306dadf6",
   "metadata": {},
   "source": [
    "정규표현식\n",
    "``` (마크업 셀에서 백틱은 블록을 만들 떄 사용)\n",
    "1. 참조 : 위키백과\n",
    "2. 간략한 문법 : \n",
    "    \\d (숫자와 매치, [0-9]와 동일\n",
    "    \\D (숫자가 아닌 것)\n",
    "    \\w (영문자나 숫자,[a-zA-Z0-9]\n",
    "    \\W (영문자나 숫자가 아닌 문자)\n",
    "    .  (문자)\n",
    "    \\. (.의미)\n",
    "    \\- (-의미)\n",
    "    {2,4} (2~4 반복)\n",
    "    {4} (4회 반복)\n",
    "    {2,} (2번 이상 반복)\n",
    "    {1,] (1번 이상 반복)\n",
    "    +    (1번 이상 반복)\n",
    "    *    (0번 이상 반복)\n",
    "    ? (0번이나 1번 반복)\n",
    "3. 정규 표현식 연습장(https://regexr.com/)\n",
    "    ex1. 전화번호 : 010-9999-9999 02-7777-8888 01099997777 0277778888\n",
    "                    02)714-5656 010 1234 1234 010.1234.1234 \n",
    "                    \"tel_pattern = r\"[0-9]{2,3}[\\-) .]?[0-9]{3,4}[\\- .]?[0-9]{4}\"\n",
    "    ex2. 이메일 : abc12@naver.com / abc123@0to7.co.kr\n",
    "                    \"\\w{3,}@[a-zA-Z0-9가-힣]{1,}.(\\.[a-zA-Z]+){1,2}\"\n",
    "\n",
    "``` "
   ]
  },
  {
   "cell_type": "code",
   "execution_count": 24,
   "id": "2e5ca13e",
   "metadata": {},
   "outputs": [],
   "source": [
    "import re\n",
    "data = \"홍길동이네 전번이 041-888-8888, 010 9999 9999 동해번쩍 서해번쩍 ㅋㅋ ㅠㅠ \\\n",
    "오늘 날씨는 엄청 좋아요\""
   ]
  },
  {
   "cell_type": "code",
   "execution_count": 8,
   "id": "b430b530",
   "metadata": {},
   "outputs": [],
   "source": [
    "# 전화번호 정규 표현식 (예시)\n",
    "tel_pattern = r\"[0-9]{2,3}[\\-) .]?[0-9]{3,4}[\\- .]?[0-9]{4}\""
   ]
  },
  {
   "cell_type": "code",
   "execution_count": null,
   "id": "3be4632a",
   "metadata": {},
   "outputs": [],
   "source": [
    "# 이메일 정규표현식 (예시)\n",
    "email_pattern = r\"\\w{3,}@[a-zA-Z0-9가-힣]{1,}.[a-zA-Z]+(\\.[a-zA-Z]+)?\"\n",
    "# email_pattern2 = r\"\\w{3,}@[a-zA-Z0-9가-힣]{1,}.(\\.[a-zA-Z]+){1,2} \n",
    "# 요것이 더 효율적일 수 있음"
   ]
  },
  {
   "cell_type": "code",
   "execution_count": 17,
   "id": "6f316979",
   "metadata": {},
   "outputs": [
    {
     "data": {
      "text/plain": [
       "['041-888-8888', '010 9999 9999']"
      ]
     },
     "execution_count": 17,
     "metadata": {},
     "output_type": "execute_result"
    }
   ],
   "source": [
    "# find.all은 해당 패턴을 다 찾아줌 없으면 []반환\n",
    "\n",
    "tels = re.findall(tel_pattern, data) \n",
    "tels"
   ]
  },
  {
   "cell_type": "code",
   "execution_count": 27,
   "id": "95debe72",
   "metadata": {},
   "outputs": [
    {
     "data": {
      "text/plain": [
       "<re.Match object; span=(10, 22), match='041-888-8888'>"
      ]
     },
     "execution_count": 27,
     "metadata": {},
     "output_type": "execute_result"
    }
   ],
   "source": [
    "# search() : 정규표현식 패턴과 일치하는 처음 단어만 찾음\n",
    "import re\n",
    "data = \"홍길동이네 전번이 041-888-8888, 010 9999 9999 동해번쩍 서해번쩍 ㅋㅋ ㅠㅠ \\\n",
    "오늘 날씨는 엄청 좋아요\"\n",
    "pattern =r\"(\\d{2,3})-(\\d{3,4})-(\\d{4})\"\n",
    "firstTel = re.search(pattern, data)\n",
    "firstTel"
   ]
  },
  {
   "cell_type": "code",
   "execution_count": 28,
   "id": "56385e57",
   "metadata": {},
   "outputs": [
    {
     "data": {
      "text/plain": [
       "'041-888-8888'"
      ]
     },
     "execution_count": 28,
     "metadata": {},
     "output_type": "execute_result"
    }
   ],
   "source": [
    "data[10:22] # 문자 슬라이싱"
   ]
  },
  {
   "cell_type": "code",
   "execution_count": 29,
   "id": "2a2f406b",
   "metadata": {},
   "outputs": [
    {
     "name": "stdout",
     "output_type": "stream",
     "text": [
      "전화번호 전체 : 041-888-8888\n",
      "국번 : 041\n",
      "중간번호 : 888\n",
      "끝번호 : 8888\n"
     ]
    }
   ],
   "source": [
    "print('전화번호 전체 :', firstTel.group(0))\n",
    "print('국번 :', firstTel.group(1))\n",
    "print('중간번호 :', firstTel.group(2))\n",
    "print('끝번호 :', firstTel.group(3))"
   ]
  },
  {
   "cell_type": "code",
   "execution_count": 13,
   "id": "a6cff77a",
   "metadata": {},
   "outputs": [
    {
     "data": {
      "text/plain": [
       "'홍길동이네 전번이 0418888888 010 9999 9999 동해번쩍 서해번쩍   오늘 날씨는 엄청 좋아요'"
      ]
     },
     "execution_count": 13,
     "metadata": {},
     "output_type": "execute_result"
    }
   ],
   "source": [
    "re.sub(r'[^a-zA-Z가-힣0-9\\s]+', '',data) # 특수문자, 자음, 모음 없애기 \\s는 스페이스 표현임"
   ]
  },
  {
   "cell_type": "code",
   "execution_count": 16,
   "id": "c0ac1e5b",
   "metadata": {},
   "outputs": [],
   "source": [
    "# 파일 경로에는 반드시 r, \\\\, / 중 하나를 사용\n",
    "# file_path = r\"C:\\ai_x\\source\\01_python\\text.txt\" # r 사용\n",
    "# file_path = \"C:\\\\ai_x\\\\source\\\\01_python\\\\text.txt\" # \\\\ 사용\n",
    "file_path = \"C:/ai_x/source/01_python/text.txt\" # \\ 대신 / 사용"
   ]
  },
  {
   "cell_type": "code",
   "execution_count": 14,
   "id": "9d3b80f0",
   "metadata": {},
   "outputs": [],
   "source": [
    "# 지금까지는 콘솔에 출력을 해왔음\n",
    "# 파일에 출력하고자 함\n",
    "# 빨대를 파일에 꽂아서 출력을 한 후 끝내면 다른 애가 빨대를 못 꼽지\n",
    "# 그러므로 꼭 빨대를 꽂은 후에는 빨대를 빼주는 작업이 필요함\n",
    "# 키보드, 파일, 네트워크 등 입력시에도 동일함\n",
    "# 빨대는 입력용과 출력용이 별도이므로 항상 지정을 해줘야 함\n",
    "# 여기서 빨대라는 표현을 \"스트림\"이라는 용어로 사용함\n"
   ]
  },
  {
   "cell_type": "code",
   "execution_count": 19,
   "id": "2c18ff18",
   "metadata": {},
   "outputs": [
    {
     "name": "stdout",
     "output_type": "stream",
     "text": [
      "Hello ~ world\n"
     ]
    }
   ],
   "source": [
    "file_stream = open(file_path, 'w')\n",
    "print(\"Hello\", \"world\", sep=\" ~ \") # 콘솔출력\n",
    "print(\"Hello\", \"world\", sep=\" ~ \", file=file_stream) # 파일출력"
   ]
  },
  {
   "cell_type": "code",
   "execution_count": null,
   "id": "62f1e0a6",
   "metadata": {},
   "outputs": [],
   "source": [
    "#text파일이 생성이 되었으나 내용은 음슴 왜냐, 빨대를 안빼서 그럼"
   ]
  },
  {
   "cell_type": "code",
   "execution_count": 20,
   "id": "dbd6fa38",
   "metadata": {},
   "outputs": [
    {
     "name": "stdout",
     "output_type": "stream",
     "text": [
      "Hello ~ world\n"
     ]
    }
   ],
   "source": [
    "file_stream = open(file_path, 'w') # 'w' 출력 write, 'r'은 입력 read\n",
    "print(\"Hello\", \"world\", sep=\" ~ \") # 콘솔출력\n",
    "print(\"Hello\", \"world\", sep=\" ~ \", file=file_stream) # 파일출력\n",
    "file_stream.close() # close를 하지 않으면 파일저장이 안됨\n"
   ]
  },
  {
   "cell_type": "code",
   "execution_count": 21,
   "id": "0ce8f747",
   "metadata": {},
   "outputs": [],
   "source": [
    "#연습\n",
    "\n",
    "file_path2 = \"C:/ai_x/source/01_python/text2.txt\"\n",
    "file_stream = open(file_path2, 'w')\n",
    "print(\"연습연습을\", \"열심히 하자\", sep=\" ~ \", file=file_stream)\n",
    "file_stream.close() # 파일로만 출력 연습"
   ]
  },
  {
   "cell_type": "markdown",
   "id": "1b322d76",
   "metadata": {},
   "source": [
    "### ※ 문자열 슬라이싱"
   ]
  },
  {
   "cell_type": "code",
   "execution_count": 62,
   "id": "9990856b",
   "metadata": {},
   "outputs": [
    {
     "data": {
      "text/plain": [
       "'0123456789'"
      ]
     },
     "execution_count": 62,
     "metadata": {},
     "output_type": "execute_result"
    }
   ],
   "source": [
    "str_ = '0123456789'\n",
    "str_"
   ]
  },
  {
   "cell_type": "code",
   "execution_count": 34,
   "id": "a76cfbd7",
   "metadata": {},
   "outputs": [
    {
     "data": {
      "text/plain": [
       "('0', '2', '9', '7')"
      ]
     },
     "execution_count": 34,
     "metadata": {},
     "output_type": "execute_result"
    }
   ],
   "source": [
    "# 문자 인덱싱\n",
    "str_[0], str_[2], str_[-1], str_[-3]"
   ]
  },
  {
   "cell_type": "code",
   "execution_count": 35,
   "id": "f25b76be",
   "metadata": {},
   "outputs": [
    {
     "ename": "IndexError",
     "evalue": "string index out of range",
     "output_type": "error",
     "traceback": [
      "\u001b[1;31m---------------------------------------------------------------------------\u001b[0m",
      "\u001b[1;31mIndexError\u001b[0m                                Traceback (most recent call last)",
      "Cell \u001b[1;32mIn[35], line 1\u001b[0m\n\u001b[1;32m----> 1\u001b[0m \u001b[43mstr_\u001b[49m\u001b[43m[\u001b[49m\u001b[38;5;241;43m10\u001b[39;49m\u001b[43m]\u001b[49m\n",
      "\u001b[1;31mIndexError\u001b[0m: string index out of range"
     ]
    }
   ],
   "source": [
    "str_[20] # 없는 인덱싱은 에러 메시지 출력"
   ]
  },
  {
   "cell_type": "code",
   "execution_count": null,
   "id": "c912d302",
   "metadata": {},
   "outputs": [],
   "source": [
    "'''\n",
    "문자변수[from:stop] : from 부터 stop 앞 까지 추출\n",
    "문자변수[from:stop:step] : from 부터 stop 앞까지 step씩 전진하면서 추출\n",
    "    step 생략시 1\n",
    "    from 생략시 처음부터\n",
    "    stop 생략시 끝까지\n",
    "'''\n",
    "\n"
   ]
  },
  {
   "cell_type": "code",
   "execution_count": 47,
   "id": "b1688b0d",
   "metadata": {},
   "outputs": [
    {
     "data": {
      "text/plain": [
       "'01234'"
      ]
     },
     "execution_count": 47,
     "metadata": {},
     "output_type": "execute_result"
    }
   ],
   "source": [
    "str_[0:5] # 0번째부터 5번쨰 앞까지"
   ]
  },
  {
   "cell_type": "code",
   "execution_count": 50,
   "id": "c561d3f3",
   "metadata": {},
   "outputs": [
    {
     "data": {
      "text/plain": [
       "'5678'"
      ]
     },
     "execution_count": 50,
     "metadata": {},
     "output_type": "execute_result"
    }
   ],
   "source": [
    "str_[-5:-1]"
   ]
  },
  {
   "cell_type": "code",
   "execution_count": 52,
   "id": "7860f3bc",
   "metadata": {},
   "outputs": [
    {
     "data": {
      "text/plain": [
       "'6789'"
      ]
     },
     "execution_count": 52,
     "metadata": {},
     "output_type": "execute_result"
    }
   ],
   "source": [
    "str_[-4:] # -4번쨰부터 끝까지"
   ]
  },
  {
   "cell_type": "code",
   "execution_count": 54,
   "id": "2234de9a",
   "metadata": {},
   "outputs": [
    {
     "data": {
      "text/plain": [
       "'6789'"
      ]
     },
     "execution_count": 54,
     "metadata": {},
     "output_type": "execute_result"
    }
   ],
   "source": [
    "str_[-4:2000] # 슬라이싱 인덱스 밤위를 벗어나면 끝까지를 의미"
   ]
  },
  {
   "cell_type": "code",
   "execution_count": 49,
   "id": "8203b796",
   "metadata": {},
   "outputs": [
    {
     "data": {
      "text/plain": [
       "'0246'"
      ]
     },
     "execution_count": 49,
     "metadata": {},
     "output_type": "execute_result"
    }
   ],
   "source": [
    "str_[0:8:2] "
   ]
  },
  {
   "cell_type": "code",
   "execution_count": null,
   "id": "d3f8c4c1",
   "metadata": {},
   "outputs": [],
   "source": []
  },
  {
   "cell_type": "code",
   "execution_count": 40,
   "id": "67480b89",
   "metadata": {
    "scrolled": true
   },
   "outputs": [
    {
     "data": {
      "text/plain": [
       "'01'"
      ]
     },
     "execution_count": 40,
     "metadata": {},
     "output_type": "execute_result"
    }
   ],
   "source": [
    "str_[0:2:1]"
   ]
  },
  {
   "cell_type": "code",
   "execution_count": 46,
   "id": "7bc1c496",
   "metadata": {},
   "outputs": [
    {
     "data": {
      "text/plain": [
       "'0123456789'"
      ]
     },
     "execution_count": 46,
     "metadata": {},
     "output_type": "execute_result"
    }
   ],
   "source": [
    "str_[:10:] # 생략시 예시 from, step 생략됨"
   ]
  },
  {
   "cell_type": "code",
   "execution_count": 55,
   "id": "56cbee3a",
   "metadata": {},
   "outputs": [
    {
     "data": {
      "text/plain": [
       "'987654321'"
      ]
     },
     "execution_count": 55,
     "metadata": {},
     "output_type": "execute_result"
    }
   ],
   "source": [
    "str_[9:0:-1] # 스트링을 거꾸로 출력"
   ]
  },
  {
   "cell_type": "code",
   "execution_count": 73,
   "id": "75ad0060",
   "metadata": {},
   "outputs": [
    {
     "name": "stdout",
     "output_type": "stream",
     "text": [
      "0123456\n"
     ]
    }
   ],
   "source": [
    "# 6번째 인덱스까지 추출\n",
    "\n",
    "print(str_[0:7])"
   ]
  },
  {
   "cell_type": "code",
   "execution_count": 70,
   "id": "b9eb653f",
   "metadata": {},
   "outputs": [
    {
     "name": "stdout",
     "output_type": "stream",
     "text": [
      "56789\n",
      "9876543210\n"
     ]
    }
   ],
   "source": [
    "# 5번째부터 끝까지 추출\n",
    "print(str_[5:])\n",
    "# srt_를 거꾸로 출력\n",
    "print(str_[::-1])"
   ]
  },
  {
   "cell_type": "markdown",
   "id": "f84ca204",
   "metadata": {},
   "source": [
    "## 3.3 논리형(True/False)"
   ]
  },
  {
   "cell_type": "code",
   "execution_count": 86,
   "id": "037e10f3",
   "metadata": {},
   "outputs": [
    {
     "name": "stdout",
     "output_type": "stream",
     "text": [
      "True\n",
      "<class 'bool'>\n",
      "True\n",
      "140729077352656\n",
      "b 주소 140729077352656\n",
      "b 주소 140729077352688\n"
     ]
    }
   ],
   "source": [
    "a = True\n",
    "print(a) # a : 매개변수=인자=argument\n",
    "print(type(a)) # a 변수의 타입\n",
    "print(isinstance(a, bool)) # isinstance(변수,타입) : 변수가 해당 타입인지 여부\n",
    "print(id(a))\n",
    "b = True\n",
    "print('b 주소', id(b))\n",
    "b = False\n",
    "print('b 주소', id(b))"
   ]
  },
  {
   "cell_type": "code",
   "execution_count": 76,
   "id": "fa8e17ac",
   "metadata": {},
   "outputs": [
    {
     "data": {
      "text/plain": [
       "(1, 0)"
      ]
     },
     "execution_count": 76,
     "metadata": {},
     "output_type": "execute_result"
    }
   ],
   "source": [
    "int(True), int(False)"
   ]
  },
  {
   "cell_type": "code",
   "execution_count": null,
   "id": "96e6c556",
   "metadata": {},
   "outputs": [],
   "source": [
    "# False로 간주되는 것 : 0, ''(빈스트링), None, [], (), {} \n",
    "# False 외의 값은 다 True  \" \""
   ]
  },
  {
   "cell_type": "code",
   "execution_count": 81,
   "id": "38636f8d",
   "metadata": {},
   "outputs": [
    {
     "name": "stdout",
     "output_type": "stream",
     "text": [
      "i가 부족하네\n"
     ]
    }
   ],
   "source": [
    "i = 4\n",
    "if i>5:\n",
    "    print('i가 크네')\n",
    "else:\n",
    "    print('i가 부족하네')\n"
   ]
  },
  {
   "cell_type": "code",
   "execution_count": 83,
   "id": "f8a387c3",
   "metadata": {},
   "outputs": [
    {
     "name": "stdout",
     "output_type": "stream",
     "text": [
      "false다\n"
     ]
    }
   ],
   "source": [
    "if []:\n",
    "    print('True다')\n",
    "else:\n",
    "    print('false다')\n"
   ]
  },
  {
   "cell_type": "markdown",
   "id": "c86744e7",
   "metadata": {},
   "source": [
    "## 3.4 자료형 확인 및 형변환 함수\n",
    "- type(변수)\n",
    "- isinstance(변수, 타입)\n",
    "\n",
    "- int() : 정수형으로 변환 # 예, int(\"10.5\") 에러남\n",
    "- float() : 실수형으로 변환\n",
    "- str() : 문자형으로 변환\n",
    "- bool() : 논리형으로 변환"
   ]
  },
  {
   "cell_type": "code",
   "execution_count": 90,
   "id": "572a6284",
   "metadata": {},
   "outputs": [
    {
     "data": {
      "text/plain": [
       "(123, 123, 1)"
      ]
     },
     "execution_count": 90,
     "metadata": {},
     "output_type": "execute_result"
    }
   ],
   "source": [
    "int(\"123\"), int(123.9), int(True) int(\"10    \") # round(123.8)"
   ]
  },
  {
   "cell_type": "code",
   "execution_count": 100,
   "id": "77ef5190",
   "metadata": {},
   "outputs": [
    {
     "data": {
      "text/plain": [
       "(123.5, 123.0, 1.0, 123.0, 123.5)"
      ]
     },
     "execution_count": 100,
     "metadata": {},
     "output_type": "execute_result"
    }
   ],
   "source": [
    "float(\"123.5\"), float(123), float(True),float(\"123\"), float(\"  123.5  \")\n"
   ]
  },
  {
   "cell_type": "code",
   "execution_count": 97,
   "id": "0f23958f",
   "metadata": {},
   "outputs": [
    {
     "data": {
      "text/plain": [
       "1000"
      ]
     },
     "execution_count": 97,
     "metadata": {},
     "output_type": "execute_result"
    }
   ],
   "source": [
    "# int()에러나는 것들\n",
    "# int(\"123.5\")\n",
    "# int(' ')\n",
    "# int('')\n",
    "#int(\"1,000\")"
   ]
  },
  {
   "cell_type": "code",
   "execution_count": 101,
   "id": "5ad14e18",
   "metadata": {},
   "outputs": [],
   "source": [
    "# float() 에러나는 것들\n",
    "# float(\"1,000.0\")\n",
    "# float(\"\")\n",
    "# float(\" \")"
   ]
  },
  {
   "cell_type": "code",
   "execution_count": 104,
   "id": "f5c48096",
   "metadata": {},
   "outputs": [
    {
     "data": {
      "text/plain": [
       "('10', '1.5', 'True', '1120000000000.0')"
      ]
     },
     "execution_count": 104,
     "metadata": {},
     "output_type": "execute_result"
    }
   ],
   "source": [
    "str(10), str(1.5), str(True), str(1.12e12)"
   ]
  },
  {
   "cell_type": "code",
   "execution_count": 109,
   "id": "1a9e3e8e",
   "metadata": {},
   "outputs": [
    {
     "data": {
      "text/plain": [
       "(False, False, False, False, False, False, False)"
      ]
     },
     "execution_count": 109,
     "metadata": {},
     "output_type": "execute_result"
    }
   ],
   "source": [
    "# bool(\"\"), bool(0), bool(0.0), bool([]), bool(()), bool({}), bool(None)"
   ]
  },
  {
   "cell_type": "code",
   "execution_count": 110,
   "id": "f0ad882c",
   "metadata": {},
   "outputs": [
    {
     "data": {
      "text/plain": [
       "True"
      ]
     },
     "execution_count": 110,
     "metadata": {},
     "output_type": "execute_result"
    }
   ],
   "source": [
    "bool(\"  \")"
   ]
  },
  {
   "cell_type": "markdown",
   "id": "462691da",
   "metadata": {},
   "source": [
    "파이썬 기본 자료형(정리)\n",
    "1. 숫자 - int, float, complex\n",
    "2. 문자 - str, 문자슬라싱, raw(데이터정규표현식, 파일경로)\n",
    "3. 논리 - False로 판별되는 경우"
   ]
  },
  {
   "cell_type": "markdown",
   "id": "b2a37b5a",
   "metadata": {},
   "source": [
    "# 4절. 포맷팅\n",
    "- 포맷팅이란, 출력할 문자, 숫자, 날짜 데이터 형식을 지정하는 것\n",
    "- 변수와 텍스트를 결합해서 보기 좋은 형식의 새로운 텍스트를 만들 수 있음\n",
    "\n",
    "## 4.1문자열에 출력형식 지정"
   ]
  },
  {
   "cell_type": "code",
   "execution_count": 113,
   "id": "4dd3b7ab",
   "metadata": {},
   "outputs": [
    {
     "name": "stdout",
     "output_type": "stream",
     "text": [
      "홍길동님의 나이는 30살입니다.\n"
     ]
    }
   ],
   "source": [
    "name = \"홍길동\"\n",
    "age = 30\n",
    "print(name, '님의 나이는 ', age, '살입니다.', sep='') # 콤마도 많이 쓰고 sep도 써야하고 뭔가 불폄함"
   ]
  },
  {
   "cell_type": "code",
   "execution_count": 124,
   "id": "ef5d6c55",
   "metadata": {},
   "outputs": [
    {
     "name": "stdout",
     "output_type": "stream",
     "text": [
      "홍길동님의 나이는  30살입니다.\n",
      "홍길동님의 나이는 30살입니다.\n",
      "홍길동님의 나이는  30살입니다.\n"
     ]
    }
   ],
   "source": [
    "print(\"%s님의 나이는 %3d살입니다.\"%(name, age))\n",
    "    # %s : 문자, %d : 정수 %f : 실수 ==> 이건 옛날에 쓰던 방식임\n",
    "print(f\"{name}님의 나이는 {age}살입니다.\") # 오히려 추천 그러나 치명적인 단점 존재\n",
    "\n",
    "print(\"{}님의 나이는 {:3d}살입니다.\".format(name, age)) # 제일 많이 사용하는 방식임, 중괄호 안에 다양한 변수 삽입 가능 예, 3d"
   ]
  },
  {
   "cell_type": "markdown",
   "id": "d4aee5ff",
   "metadata": {},
   "source": [
    "## 4.2 format() 문법"
   ]
  },
  {
   "cell_type": "code",
   "execution_count": null,
   "id": "bc4e83c8",
   "metadata": {},
   "outputs": [],
   "source": [
    "\"{[인덱스]:[공백대체문자][정렬방식][자릿수][타입]}\".format(변수)\n",
    "    # 인덱스 : format 함수 안의 매개변수의 순서\n",
    "    # 정렬방식 : <(왼쪽정렬), >(오른쪽정렬), ^(중앙정렬)\n",
    "    # 정수자릿수 : 출력될 자릿수d, 변수 내용보다 작은 자릿수가 지정되면 자릿수 무시\n",
    "    # 실수자릿수 : 출력될 자릿수.소수점자릿수f\n",
    "    # 문자자릿수 : 전체 확보될 자릿수[.변수중출력할자릿수]s\n",
    "    # 타입 : d(10진수 정수), b(2진수), x(16진수), f(실수), s(문자)\n",
    "    # 공백대체문자를 쓸 경우 정렬방식을 반드시 기입해야 함"
   ]
  },
  {
   "cell_type": "code",
   "execution_count": 128,
   "id": "955fb1d1",
   "metadata": {},
   "outputs": [
    {
     "name": "stdout",
     "output_type": "stream",
     "text": [
      "이름은?홍길동\n",
      "나이는?40\n",
      "40살 홍길동님 반갑습니다.\n",
      "40살 홍길동님 반갑습니다.\n",
      "*40*살 _______홍길동님 반가버요\n"
     ]
    }
   ],
   "source": [
    "name = input('이름은?')\n",
    "age = int(input('나이는?'))\n",
    "print(\"{}살 {}님 반갑습니다.\".format(age,name))\n",
    "print(\"{1}살 {0}님 반갑습니다.\".format(name, age))\n",
    "print(\"{1:*^4d}살 {0:_>10}님 반가버요\".format(name, age))"
   ]
  },
  {
   "cell_type": "code",
   "execution_count": 137,
   "id": "40514085",
   "metadata": {},
   "outputs": [
    {
     "name": "stdout",
     "output_type": "stream",
     "text": [
      "[12345], [     12345], [12345]\n",
      "[Hello], [Hello     ], [Hello]\n"
     ]
    }
   ],
   "source": [
    "# 숫자의 경우 : 오른쪽정렬(기본값)\n",
    "# 문자의 경우 : 왼쪽정렬(기본값)\n",
    "# 변수보다 작은 자리수를 지정하면 자릿수가 무시되고 다 출력(정수 자리수)\n",
    "i = 12345\n",
    "s = \"Hello\"\n",
    "print(\"[{0}], [{0:10}], [{0:3}]\".format(i))\n",
    "print(\"[{0}], [{0:10}], [{0:3}]\".format(s))"
   ]
  },
  {
   "cell_type": "code",
   "execution_count": 147,
   "id": "6bb299f6",
   "metadata": {},
   "outputs": [
    {
     "name": "stdout",
     "output_type": "stream",
     "text": [
      "f = [ 2.76]\n",
      "f = [$2.76]\n",
      "s = [He   ]\n",
      "s = [He___]\n"
     ]
    }
   ],
   "source": [
    "# 문자 : 전체자리수.표현될자리수\n",
    "# 실수 : 전체자리수.소수점이하 표현될 자리수\n",
    "s = \"Hello\"\n",
    "f = 2.758\n",
    "print(\"f = [{:5.2f}]\".format(f))\n",
    "print(\"f = [{:$>5.2f}]\".format(f))\n",
    "print(\"s = [{:5.2}]\".format(s))\n",
    "print(\"s = [{:_<5.2}]\".format(s))"
   ]
  },
  {
   "cell_type": "code",
   "execution_count": 155,
   "id": "fcee0198",
   "metadata": {},
   "outputs": [
    {
     "name": "stdout",
     "output_type": "stream",
     "text": [
      "[  123], [ -123]\n",
      "[ +123], [ -123]\n",
      "[+ 123], [ -123]\n",
      "[++123], [ -123]\n"
     ]
    }
   ],
   "source": [
    "# + : 부호를 출력\n",
    "# - : 부호를 맨 앞에 출력\n",
    "a, b = 123, -123\n",
    "print(\"[{:5}], [{:5}]\".format(a,b))\n",
    "print(\"[{:+5}], [{:5}]\".format(a,b))\n",
    "print(\"[{:=+5}], [{:5}]\".format(a,b)) # 실제로 많이 쓰이지는 않음\n",
    "print(\"[{:+=5}], [{:5}]\".format(a,b)) # 실제로 많이 쓰이지는 않음"
   ]
  },
  {
   "cell_type": "code",
   "execution_count": 157,
   "id": "b2a90ffa",
   "metadata": {},
   "outputs": [
    {
     "name": "stdout",
     "output_type": "stream",
     "text": [
      "[     +2.79]\n"
     ]
    }
   ],
   "source": [
    "#\n",
    "f = 2.785\n",
    "print(\"[{:+10.2f}]\".format(f))"
   ]
  },
  {
   "cell_type": "code",
   "execution_count": 165,
   "id": "ec107c97",
   "metadata": {},
   "outputs": [
    {
     "name": "stdout",
     "output_type": "stream",
     "text": [
      "[     +2.79]\n"
     ]
    }
   ],
   "source": [
    "sign = '+'\n",
    "width = 10\n",
    "precision = 2\n",
    "print(\"[{:{}{}.{}f}]\".format(f,\n",
    "                             sign,\n",
    "                             width,\n",
    "                             precision))"
   ]
  },
  {
   "cell_type": "code",
   "execution_count": 166,
   "id": "55db058c",
   "metadata": {},
   "outputs": [
    {
     "name": "stdout",
     "output_type": "stream",
     "text": [
      "[    +2.785]\n"
     ]
    }
   ],
   "source": [
    "sign = '+'\n",
    "width = 10\n",
    "precision = 3\n",
    "print(\"[{:{}{}.{}f}]\".format(f,\n",
    "                             sign,\n",
    "                             width,\n",
    "                             precision))"
   ]
  },
  {
   "cell_type": "code",
   "execution_count": 182,
   "id": "cd29fbd7",
   "metadata": {},
   "outputs": [
    {
     "name": "stdout",
     "output_type": "stream",
     "text": [
      "[    +2.785]\n"
     ]
    }
   ],
   "source": [
    "print(\"[{:{sign}{width}.{precision}f}]\".format(f, \n",
    "                            sign=sign,\n",
    "                            width=width,\n",
    "                            precision=precision))"
   ]
  },
  {
   "cell_type": "code",
   "execution_count": 184,
   "id": "1e88909c",
   "metadata": {},
   "outputs": [
    {
     "name": "stdout",
     "output_type": "stream",
     "text": [
      "10진수 a = [   15]\n",
      "16진수 a = [    f]\n",
      " 2진수 a = [ 1111]\n"
     ]
    }
   ],
   "source": [
    "a = 15\n",
    "print(\"10진수 a = [{:5d}]\".format(a))\n",
    "print(\"16진수 a = [{:5x}]\".format(a))\n",
    "print(\" 2진수 a = [{:5b}]\".format(a))"
   ]
  },
  {
   "cell_type": "markdown",
   "id": "60e63155",
   "metadata": {},
   "source": [
    "## 4.3 날짜출력"
   ]
  },
  {
   "cell_type": "code",
   "execution_count": 174,
   "id": "dc22a1ef",
   "metadata": {},
   "outputs": [
    {
     "data": {
      "text/plain": [
       "datetime.datetime(2025, 4, 9, 17, 45, 15, 671773)"
      ]
     },
     "execution_count": 174,
     "metadata": {},
     "output_type": "execute_result"
    }
   ],
   "source": [
    "import re\n",
    "from datetime import datetime\n",
    "now = datetime.now()\n",
    "now"
   ]
  },
  {
   "cell_type": "code",
   "execution_count": 175,
   "id": "67e15364",
   "metadata": {},
   "outputs": [
    {
     "name": "stdout",
     "output_type": "stream",
     "text": [
      "2025-04-09 17:45:15.671773\n"
     ]
    }
   ],
   "source": [
    "print(\"{}\".format(now))"
   ]
  },
  {
   "cell_type": "code",
   "execution_count": 176,
   "id": "1bd727e1",
   "metadata": {},
   "outputs": [
    {
     "name": "stdout",
     "output_type": "stream",
     "text": [
      "25년04월09일 PM 05시 45분 15초\n"
     ]
    }
   ],
   "source": [
    "print(\"{:%y년%m월%d일 %p %I시 %M분 %S초}\".format(now))"
   ]
  },
  {
   "cell_type": "code",
   "execution_count": 178,
   "id": "d356be90",
   "metadata": {},
   "outputs": [
    {
     "name": "stdout",
     "output_type": "stream",
     "text": [
      "25년 04월 09일 PM 05시 45분 15초\n"
     ]
    }
   ],
   "source": [
    "print(\"{:%y년 %m월 %d일 %p %I시 %M분 %S초}\".format(now))"
   ]
  },
  {
   "cell_type": "code",
   "execution_count": 180,
   "id": "f6e8591a",
   "metadata": {},
   "outputs": [
    {
     "name": "stdout",
     "output_type": "stream",
     "text": [
      "2025년 04월 09일 PM 05시 45분 15초\n"
     ]
    }
   ],
   "source": [
    "print(now.strftime(\"%Y년 %m월 %d일 %p %I시 %M분 %S초\"))"
   ]
  },
  {
   "cell_type": "code",
   "execution_count": null,
   "id": "d12bafe4",
   "metadata": {},
   "outputs": [],
   "source": []
  },
  {
   "cell_type": "code",
   "execution_count": null,
   "id": "c3d9e8cc",
   "metadata": {},
   "outputs": [],
   "source": []
  },
  {
   "cell_type": "code",
   "execution_count": null,
   "id": "b1d96c65",
   "metadata": {},
   "outputs": [],
   "source": []
  },
  {
   "cell_type": "code",
   "execution_count": null,
   "id": "17c5cba8",
   "metadata": {},
   "outputs": [],
   "source": []
  }
 ],
 "metadata": {
  "kernelspec": {
   "display_name": "Python 3 (ipykernel)",
   "language": "python",
   "name": "python3"
  },
  "language_info": {
   "codemirror_mode": {
    "name": "ipython",
    "version": 3
   },
   "file_extension": ".py",
   "mimetype": "text/x-python",
   "name": "python",
   "nbconvert_exporter": "python",
   "pygments_lexer": "ipython3",
   "version": "3.10.9"
  },
  "toc": {
   "base_numbering": 1,
   "nav_menu": {},
   "number_sections": false,
   "sideBar": true,
   "skip_h1_title": false,
   "title_cell": "Table of Contents",
   "title_sidebar": "Contents",
   "toc_cell": false,
   "toc_position": {
    "height": "calc(100% - 180px)",
    "left": "10px",
    "top": "150px",
    "width": "256.391px"
   },
   "toc_section_display": true,
   "toc_window_display": true
  }
 },
 "nbformat": 4,
 "nbformat_minor": 5
}
