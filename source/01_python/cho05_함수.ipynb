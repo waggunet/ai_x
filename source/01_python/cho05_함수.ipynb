{
 "cells": [
  {
   "cell_type": "code",
   "execution_count": 114,
   "id": "50d9c1e2",
   "metadata": {},
   "outputs": [
    {
     "data": {
      "text/html": [
       "\n",
       "<style>\n",
       "div.container{width:86% !important;}\n",
       "div.cell.code_cell.rendered{width:100%;}\n",
       "div.CodeMirror {font-family:Consolas; font-size:10pt;}\n",
       "div.output {font-size:12pt; font-weight:bold;}\n",
       "div.input {font-family:Consolas; font-size:10pt;}\n",
       "div.prompt {min-width:70px;}\n",
       "div#toc-wrapper{padding-top:120px;}\n",
       "div.text_cell_render ul li{font-size:10pt;padding:5px;}\n",
       "table.dataframe{font-size:15px;\n",
       "</style>\n"
      ],
      "text/plain": [
       "<IPython.core.display.HTML object>"
      ]
     },
     "metadata": {},
     "output_type": "display_data"
    }
   ],
   "source": [
    "# 매 강의 시작시마다 동일하게 처리해야 함\n",
    "from IPython.display import display, HTML\n",
    "display(HTML(\"\"\"\n",
    "<style>\n",
    "div.container{width:86% !important;}\n",
    "div.cell.code_cell.rendered{width:100%;}\n",
    "div.CodeMirror {font-family:Consolas; font-size:10pt;}\n",
    "div.output {font-size:12pt; font-weight:bold;}\n",
    "div.input {font-family:Consolas; font-size:10pt;}\n",
    "div.prompt {min-width:70px;}\n",
    "div#toc-wrapper{padding-top:120px;}\n",
    "div.text_cell_render ul li{font-size:10pt;padding:5px;}\n",
    "table.dataframe{font-size:15px;\n",
    "</style>\n",
    "\"\"\"))"
   ]
  },
  {
   "cell_type": "markdown",
   "id": "3c655908",
   "metadata": {},
   "source": [
    "<b><font size=\"5\" color=\"red\">ch05. 함수</font></b>\n",
    "- 사용하는 코드를 묶어 놓고 그것에 이름을 붙인 것\n",
    "- 오버로딩(함수 이름이 같고, 매개변수의 갯수로 다른 함수를 허용하는 것) 불가\n",
    "- 함수 정의\n",
    "```\n",
    "def 함수명([매개변수1, .. 매개변수n]):\n",
    "    명령어1\n",
    "    명령어2\n",
    "    명령어n\n",
    "\n",
    "```\n",
    "# 1절. 함수의 정의 및 사용\n",
    "## 1.1 함수 정의"
   ]
  },
  {
   "cell_type": "code",
   "execution_count": null,
   "id": "8e10dee5",
   "metadata": {},
   "outputs": [],
   "source": [
    "# 오버로딩의 예시, 그러나 파이썬에서는 불가능 위에 것이 사라짐\n",
    "def add(a, b): # 이 부분이 사라짐 in 파이썬\n",
    "    print(1)\n",
    "def add(a):\n",
    "    print(2)"
   ]
  },
  {
   "cell_type": "code",
   "execution_count": 3,
   "id": "9108c6b3",
   "metadata": {},
   "outputs": [],
   "source": [
    "# 함수를 정의 함\n",
    "def hello():\n",
    "    for i in range(5):\n",
    "        print('hello')"
   ]
  },
  {
   "cell_type": "code",
   "execution_count": 4,
   "id": "188bde5d",
   "metadata": {},
   "outputs": [
    {
     "name": "stdout",
     "output_type": "stream",
     "text": [
      "hello\n",
      "hello\n",
      "hello\n",
      "hello\n",
      "hello\n"
     ]
    }
   ],
   "source": [
    "# 함수 사용\n",
    "hello() # 매개 변수가 정의되지 않았으므로 매개변수 사용시 에러 발생"
   ]
  },
  {
   "cell_type": "code",
   "execution_count": 23,
   "id": "d6201b39",
   "metadata": {},
   "outputs": [],
   "source": [
    "def my_message(x, msg): # msg를 x번 출력하는 함수\n",
    "    for i in range(x):\n",
    "        print(msg)"
   ]
  },
  {
   "cell_type": "code",
   "execution_count": 13,
   "id": "d1f6f12b",
   "metadata": {},
   "outputs": [
    {
     "name": "stdout",
     "output_type": "stream",
     "text": [
      "hello\n",
      "hello\n",
      "hello\n",
      "hello\n",
      "hello\n"
     ]
    }
   ],
   "source": [
    "my_message(5, 'hello')"
   ]
  },
  {
   "cell_type": "code",
   "execution_count": 14,
   "id": "6d6ae713",
   "metadata": {},
   "outputs": [
    {
     "name": "stdout",
     "output_type": "stream",
     "text": [
      "hello\n",
      "hello\n",
      "hello\n",
      "hello\n",
      "hello\n",
      "hello\n"
     ]
    }
   ],
   "source": [
    "my_msg = my_message\n",
    "my_msg(6, 'hello')\n"
   ]
  },
  {
   "cell_type": "code",
   "execution_count": 15,
   "id": "4391f799",
   "metadata": {},
   "outputs": [
    {
     "data": {
      "text/plain": [
       "(function, function)"
      ]
     },
     "execution_count": 15,
     "metadata": {},
     "output_type": "execute_result"
    }
   ],
   "source": [
    "type(my_msg), type(my_message)"
   ]
  },
  {
   "cell_type": "code",
   "execution_count": 22,
   "id": "72e4ef9c",
   "metadata": {},
   "outputs": [
    {
     "name": "stdout",
     "output_type": "stream",
     "text": [
      "HELLO\n",
      "Hello\n"
     ]
    }
   ],
   "source": [
    "print('HELLO') # 파이썬 내장함수(import 하지 않고 사용할 수 있는 함수)\n",
    "print = 5\n",
    "# print('hello')\n",
    "del print\n",
    "print('Hello')"
   ]
  },
  {
   "cell_type": "code",
   "execution_count": 24,
   "id": "95ec79e5",
   "metadata": {},
   "outputs": [
    {
     "name": "stdout",
     "output_type": "stream",
     "text": [
      "hello\n",
      "hello\n"
     ]
    }
   ],
   "source": [
    "my_message(2, 'hello')"
   ]
  },
  {
   "cell_type": "code",
   "execution_count": 27,
   "id": "42711976",
   "metadata": {},
   "outputs": [],
   "source": [
    "my_message = 5"
   ]
  },
  {
   "cell_type": "code",
   "execution_count": 26,
   "id": "e6296a18",
   "metadata": {},
   "outputs": [],
   "source": [
    "def my_message(a, b):\n",
    "    pass"
   ]
  },
  {
   "cell_type": "code",
   "execution_count": 28,
   "id": "404c3ec0",
   "metadata": {},
   "outputs": [
    {
     "ename": "TypeError",
     "evalue": "'int' object is not callable",
     "output_type": "error",
     "traceback": [
      "\u001b[1;31m---------------------------------------------------------------------------\u001b[0m",
      "\u001b[1;31mTypeError\u001b[0m                                 Traceback (most recent call last)",
      "Cell \u001b[1;32mIn[28], line 1\u001b[0m\n\u001b[1;32m----> 1\u001b[0m \u001b[43mmy_message\u001b[49m\u001b[43m(\u001b[49m\u001b[38;5;241;43m2\u001b[39;49m\u001b[43m,\u001b[49m\u001b[43m \u001b[49m\u001b[38;5;124;43m'\u001b[39;49m\u001b[38;5;124;43mhello\u001b[39;49m\u001b[38;5;124;43m'\u001b[39;49m\u001b[43m)\u001b[49m\n",
      "\u001b[1;31mTypeError\u001b[0m: 'int' object is not callable"
     ]
    }
   ],
   "source": [
    "my_message(2, 'hello')"
   ]
  },
  {
   "cell_type": "code",
   "execution_count": 29,
   "id": "7d9a3fbc",
   "metadata": {},
   "outputs": [],
   "source": [
    "del my_message # 내장 함수를 제외하고는 변수를 삭제해도 함수 사용 불가(내장 함수가 아니므로)"
   ]
  },
  {
   "cell_type": "code",
   "execution_count": 30,
   "id": "ac61c53d",
   "metadata": {
    "scrolled": true
   },
   "outputs": [
    {
     "ename": "NameError",
     "evalue": "name 'my_message' is not defined",
     "output_type": "error",
     "traceback": [
      "\u001b[1;31m---------------------------------------------------------------------------\u001b[0m",
      "\u001b[1;31mNameError\u001b[0m                                 Traceback (most recent call last)",
      "Cell \u001b[1;32mIn[30], line 1\u001b[0m\n\u001b[1;32m----> 1\u001b[0m \u001b[43mmy_message\u001b[49m(\u001b[38;5;241m2\u001b[39m, \u001b[38;5;124m'\u001b[39m\u001b[38;5;124mhello\u001b[39m\u001b[38;5;124m'\u001b[39m)\n",
      "\u001b[1;31mNameError\u001b[0m: name 'my_message' is not defined"
     ]
    }
   ],
   "source": [
    "my_message(2, 'hello') "
   ]
  },
  {
   "cell_type": "code",
   "execution_count": 7,
   "id": "0175d77f",
   "metadata": {},
   "outputs": [],
   "source": [
    "# 함수 정의 : 4/16(수) 강의 이어서 진행\n",
    "def my_hello():\n",
    "    print('hello, Python')\n",
    "    print('hello, world')\n",
    "def my_hello(cnt):\n",
    "    print('hello, Python')\n",
    "    print('hello, world')"
   ]
  },
  {
   "cell_type": "code",
   "execution_count": 2,
   "id": "09616e83",
   "metadata": {},
   "outputs": [
    {
     "name": "stdout",
     "output_type": "stream",
     "text": [
      "hello, Python\n",
      "hello, world\n"
     ]
    }
   ],
   "source": [
    "# 함수사용=함수호출\n",
    "my_hello()"
   ]
  },
  {
   "cell_type": "code",
   "execution_count": 6,
   "id": "2eb18984",
   "metadata": {},
   "outputs": [
    {
     "name": "stdout",
     "output_type": "stream",
     "text": [
      "hello, Python\n",
      "hello, world\n"
     ]
    }
   ],
   "source": [
    "my_hello()"
   ]
  },
  {
   "cell_type": "code",
   "execution_count": null,
   "id": "2452d3d6",
   "metadata": {},
   "outputs": [],
   "source": [
    "def my_hello():\n",
    "    print('hello, Python')\n",
    "    print('hello, world')\n",
    "def my_hello(cnt):\n",
    "    print('hello, Python')\n",
    "    print('hello, world')"
   ]
  },
  {
   "cell_type": "code",
   "execution_count": 13,
   "id": "acb8966e",
   "metadata": {},
   "outputs": [
    {
     "name": "stdout",
     "output_type": "stream",
     "text": [
      "hello, Python\n",
      "hello, world\n"
     ]
    }
   ],
   "source": [
    "if __name__=='__main__':\n",
    "    my_hello(2)"
   ]
  },
  {
   "cell_type": "code",
   "execution_count": 20,
   "id": "5f9ce1aa",
   "metadata": {},
   "outputs": [],
   "source": [
    "import ch05 # ch-5모듈을 load"
   ]
  },
  {
   "cell_type": "code",
   "execution_count": 21,
   "id": "00ff71fe",
   "metadata": {},
   "outputs": [
    {
     "name": "stdout",
     "output_type": "stream",
     "text": [
      "Hello, Python\n",
      "Hello, World\n",
      "Hello, Python\n",
      "Hello, World\n"
     ]
    }
   ],
   "source": [
    "ch05.my_hello(2)"
   ]
  },
  {
   "cell_type": "code",
   "execution_count": 22,
   "id": "d13639cd",
   "metadata": {},
   "outputs": [],
   "source": [
    "from ch05 import my_hello # ch05 모듈 안의 my_hello 만 load"
   ]
  },
  {
   "cell_type": "code",
   "execution_count": 24,
   "id": "f052d4f1",
   "metadata": {},
   "outputs": [
    {
     "name": "stdout",
     "output_type": "stream",
     "text": [
      "Hello, Python\n",
      "Hello, World\n",
      "Hello, Python\n",
      "Hello, World\n",
      "Hello, Python\n",
      "Hello, World\n"
     ]
    }
   ],
   "source": [
    "my_hello(3)"
   ]
  },
  {
   "cell_type": "code",
   "execution_count": 25,
   "id": "2a055e7e",
   "metadata": {},
   "outputs": [
    {
     "name": "stdout",
     "output_type": "stream",
     "text": [
      "Hello, Python\n",
      "Hello, World\n",
      "Hello, Python\n",
      "Hello, World\n",
      "Hello, Python\n",
      "Hello, World\n",
      "Hello, Python\n",
      "Hello, World\n",
      "Hello, Python\n",
      "Hello, World\n"
     ]
    }
   ],
   "source": [
    "my_hello(5)"
   ]
  },
  {
   "cell_type": "markdown",
   "id": "3d539407",
   "metadata": {},
   "source": [
    "## 1.2 Docstring"
   ]
  },
  {
   "cell_type": "code",
   "execution_count": 33,
   "id": "df099de5",
   "metadata": {},
   "outputs": [],
   "source": [
    "def my_function():\n",
    "    '''\n",
    "    함수의 첫 라인에 독스트링을 포함할 수 있습니다\n",
    "    독스트링은 함수의 설명서를 달아주는 역할\n",
    "    주석보다 많은 기능(shift+tab으로 독스트링을 볼 수 있음)\n",
    "    '''\n",
    "    pass"
   ]
  },
  {
   "cell_type": "code",
   "execution_count": 35,
   "id": "bcb33daa",
   "metadata": {},
   "outputs": [
    {
     "name": "stdout",
     "output_type": "stream",
     "text": [
      "\n",
      "    함수의 첫 라인에 독스트링을 포함할 수 있습니다\n",
      "    독스트링은 함수의 설명서를 달아주는 역할\n",
      "    주석보다 많은 기능(shift+tab으로 독스트링을 볼 수 있음)\n",
      "    \n"
     ]
    }
   ],
   "source": [
    "print(my_function.__doc__)"
   ]
  },
  {
   "cell_type": "code",
   "execution_count": 40,
   "id": "9539d688",
   "metadata": {},
   "outputs": [],
   "source": [
    "def fibonacci(n):\n",
    "    a, b = 0, 1\n",
    "    while a < n:\n",
    "        print(a, end=' ')\n",
    "        a, b = b, a + b\n",
    "    print() # 개행"
   ]
  },
  {
   "cell_type": "code",
   "execution_count": 42,
   "id": "1856d44a",
   "metadata": {},
   "outputs": [
    {
     "name": "stdout",
     "output_type": "stream",
     "text": [
      "0 1 1 2 3 5 8 \n"
     ]
    }
   ],
   "source": [
    "fibonacci(10)"
   ]
  },
  {
   "cell_type": "code",
   "execution_count": 43,
   "id": "9ff176fb",
   "metadata": {},
   "outputs": [
    {
     "name": "stdout",
     "output_type": "stream",
     "text": [
      "0 1 1 2 3 5 8 13 21 34 \n",
      "None\n"
     ]
    }
   ],
   "source": [
    "print(fibonacci(49))"
   ]
  },
  {
   "cell_type": "code",
   "execution_count": 44,
   "id": "5a0484f4",
   "metadata": {},
   "outputs": [
    {
     "ename": "NameError",
     "evalue": "name 'a' is not defined",
     "output_type": "error",
     "traceback": [
      "\u001b[1;31m---------------------------------------------------------------------------\u001b[0m",
      "\u001b[1;31mNameError\u001b[0m                                 Traceback (most recent call last)",
      "Cell \u001b[1;32mIn[44], line 1\u001b[0m\n\u001b[1;32m----> 1\u001b[0m \u001b[43ma\u001b[49m, b\n",
      "\u001b[1;31mNameError\u001b[0m: name 'a' is not defined"
     ]
    }
   ],
   "source": [
    "a, b # 함수 안의 변수들은 실행 후 사라지므로 값의 전환이 불가능함"
   ]
  },
  {
   "cell_type": "markdown",
   "id": "6d1888f0",
   "metadata": {},
   "source": [
    "## 1.3 지역변수(local var)와 전역변수(global var)"
   ]
  },
  {
   "cell_type": "code",
   "execution_count": 49,
   "id": "8573be22",
   "metadata": {},
   "outputs": [
    {
     "name": "stdout",
     "output_type": "stream",
     "text": [
      "함수 안 :  100\n",
      "함수 밖 ; 100\n"
     ]
    }
   ],
   "source": [
    "global_var = 100 # 전역변수\n",
    "def func1():\n",
    "    print('함수 안 : ', global_var)\n",
    "func1()\n",
    "print('함수 밖 ;', global_var)"
   ]
  },
  {
   "cell_type": "code",
   "execution_count": 50,
   "id": "ab8df319",
   "metadata": {},
   "outputs": [
    {
     "name": "stdout",
     "output_type": "stream",
     "text": [
      "함수 안 : 200\n"
     ]
    },
    {
     "ename": "NameError",
     "evalue": "name 'local_var' is not defined",
     "output_type": "error",
     "traceback": [
      "\u001b[1;31m---------------------------------------------------------------------------\u001b[0m",
      "\u001b[1;31mNameError\u001b[0m                                 Traceback (most recent call last)",
      "Cell \u001b[1;32mIn[50], line 5\u001b[0m\n\u001b[0;32m      3\u001b[0m     \u001b[38;5;28mprint\u001b[39m(\u001b[38;5;124m'\u001b[39m\u001b[38;5;124m함수 안 :\u001b[39m\u001b[38;5;124m'\u001b[39m, local_var)\n\u001b[0;32m      4\u001b[0m func2()\n\u001b[1;32m----> 5\u001b[0m \u001b[38;5;28mprint\u001b[39m(\u001b[38;5;124m'\u001b[39m\u001b[38;5;124m함수 밖 :\u001b[39m\u001b[38;5;124m'\u001b[39m, \u001b[43mlocal_var\u001b[49m)\n",
      "\u001b[1;31mNameError\u001b[0m: name 'local_var' is not defined"
     ]
    }
   ],
   "source": [
    "def func2():\n",
    "    local_var = 200 # 지역변수\n",
    "    print('함수 안 :', local_var)\n",
    "func2()\n",
    "print('함수 밖 :', local_var)"
   ]
  },
  {
   "cell_type": "code",
   "execution_count": 55,
   "id": "d8643618",
   "metadata": {},
   "outputs": [
    {
     "name": "stdout",
     "output_type": "stream",
     "text": [
      "함수 안(지역변수 g_var) : 200\n",
      "함수 밖(전역변수 g_var) : 100\n"
     ]
    }
   ],
   "source": [
    "g_var = 100 # 전역변수\n",
    "\n",
    "def func3():\n",
    "    g_var = 200 # 지역변수 (변수 선언)\n",
    "    print('함수 안(지역변수 g_var) :', g_var)\n",
    "func3()\n",
    "print('함수 밖(전역변수 g_var) :', g_var)"
   ]
  },
  {
   "cell_type": "code",
   "execution_count": 58,
   "id": "268bf66c",
   "metadata": {},
   "outputs": [
    {
     "ename": "UnboundLocalError",
     "evalue": "local variable 'g_var' referenced before assignment",
     "output_type": "error",
     "traceback": [
      "\u001b[1;31m---------------------------------------------------------------------------\u001b[0m",
      "\u001b[1;31mUnboundLocalError\u001b[0m                         Traceback (most recent call last)",
      "Cell \u001b[1;32mIn[58], line 5\u001b[0m\n\u001b[0;32m      3\u001b[0m     \u001b[38;5;28mprint\u001b[39m(\u001b[38;5;124m'\u001b[39m\u001b[38;5;124m함수 안 g_var :\u001b[39m\u001b[38;5;124m'\u001b[39m, g_var)\n\u001b[0;32m      4\u001b[0m     g_var \u001b[38;5;241m=\u001b[39m \u001b[38;5;241m200\u001b[39m \u001b[38;5;66;03m# 지역변수\u001b[39;00m\n\u001b[1;32m----> 5\u001b[0m \u001b[43mfunc4\u001b[49m\u001b[43m(\u001b[49m\u001b[43m)\u001b[49m\n",
      "Cell \u001b[1;32mIn[58], line 3\u001b[0m, in \u001b[0;36mfunc4\u001b[1;34m()\u001b[0m\n\u001b[0;32m      2\u001b[0m \u001b[38;5;28;01mdef\u001b[39;00m \u001b[38;5;21mfunc4\u001b[39m():\n\u001b[1;32m----> 3\u001b[0m     \u001b[38;5;28mprint\u001b[39m(\u001b[38;5;124m'\u001b[39m\u001b[38;5;124m함수 안 g_var :\u001b[39m\u001b[38;5;124m'\u001b[39m, \u001b[43mg_var\u001b[49m)\n\u001b[0;32m      4\u001b[0m     g_var \u001b[38;5;241m=\u001b[39m \u001b[38;5;241m200\u001b[39m\n",
      "\u001b[1;31mUnboundLocalError\u001b[0m: local variable 'g_var' referenced before assignment"
     ]
    }
   ],
   "source": [
    "# 렉시컬 특성\n",
    "\n",
    "g_var = 100 # 전역변수\n",
    "def func4():\n",
    "    print('함수 안 g_var :', g_var)\n",
    "    g_var = 200 # 지역변수\n",
    "#func4()"
   ]
  },
  {
   "cell_type": "code",
   "execution_count": 66,
   "id": "6fdedc72",
   "metadata": {},
   "outputs": [
    {
     "name": "stdout",
     "output_type": "stream",
     "text": [
      "함수 안 g_var : 100\n"
     ]
    }
   ],
   "source": [
    "g_var = 100 # 전역변수\n",
    "def func4():\n",
    "    print('함수 안 g_var :', g_var)\n",
    "   # g_var = 200 # 지역변수\n",
    "func4()"
   ]
  },
  {
   "cell_type": "code",
   "execution_count": null,
   "id": "28311e8b",
   "metadata": {},
   "outputs": [],
   "source": [
    "# __name__ : 내장된 이름 테이블\n",
    "# 로컬심볼테이블을 우선 할당, 전역심볼 테이블, 내장된 이름 테이블"
   ]
  },
  {
   "cell_type": "code",
   "execution_count": 65,
   "id": "7db43b84",
   "metadata": {},
   "outputs": [
    {
     "name": "stdout",
     "output_type": "stream",
     "text": [
      "함수 안 g_var : 100\n",
      "함수 밖 g_var : 200\n"
     ]
    }
   ],
   "source": [
    "# 렉시컬 특성\n",
    "\n",
    "g_var = 100 # 전역변수\n",
    "def func4():\n",
    "    global g_var # func4 함수 내의 g_var는 전역변수를 쓴다.\n",
    "# g_var = 300 \n",
    "    print('함수 안 g_var :', g_var)\n",
    "    g_var = 200 # 전역변수\n",
    "func4()\n",
    "print('함수 밖 g_var :', g_var)"
   ]
  },
  {
   "cell_type": "markdown",
   "id": "72081bd8",
   "metadata": {},
   "source": [
    "## 1.4 값에 의한 호출\n",
    "- 함수의 매개변수(인수 또는 인자)로 전달되는 변수가 스칼라 변수(문자,숫자,논리형)일 때"
   ]
  },
  {
   "cell_type": "code",
   "execution_count": 67,
   "id": "e03b9855",
   "metadata": {},
   "outputs": [
    {
     "data": {
      "text/plain": [
       "2855330277168"
      ]
     },
     "execution_count": 67,
     "metadata": {},
     "output_type": "execute_result"
    }
   ],
   "source": [
    "foo = 'a' # 전역변수\n",
    "id(foo)"
   ]
  },
  {
   "cell_type": "code",
   "execution_count": 68,
   "id": "6777f700",
   "metadata": {},
   "outputs": [
    {
     "name": "stdout",
     "output_type": "stream",
     "text": [
      "Before : a\n",
      "After : aaa\n"
     ]
    }
   ],
   "source": [
    "def func1(f): # 매개변수는 f는 지역변수\n",
    "    print('Before :', f)\n",
    "    f = f * 3\n",
    "    print('After :', f)\n",
    "func1(foo)"
   ]
  },
  {
   "cell_type": "code",
   "execution_count": 90,
   "id": "dafd649f",
   "metadata": {
    "scrolled": false
   },
   "outputs": [
    {
     "name": "stdout",
     "output_type": "stream",
     "text": [
      "a\n"
     ]
    }
   ],
   "source": [
    "print(foo)"
   ]
  },
  {
   "cell_type": "code",
   "execution_count": 95,
   "id": "eb73c385",
   "metadata": {
    "scrolled": true
   },
   "outputs": [
    {
     "name": "stdout",
     "output_type": "stream",
     "text": [
      "Before : a  id(f) : 2855330277168\n",
      "After : aaa  id(f) : 2855441479984\n"
     ]
    }
   ],
   "source": [
    "def func1(f): # 매개변수는 f는 지역변수\n",
    "    print('Before :', f , ' id(f) :', id(f))\n",
    "    f = f * 3\n",
    "    print('After :', f, ' id(f) :', id(f))\n",
    "func1(foo)"
   ]
  },
  {
   "cell_type": "code",
   "execution_count": 93,
   "id": "1cbbda15",
   "metadata": {},
   "outputs": [
    {
     "data": {
      "text/plain": [
       "2855330277168"
      ]
     },
     "execution_count": 93,
     "metadata": {},
     "output_type": "execute_result"
    }
   ],
   "source": [
    "id(foo)"
   ]
  },
  {
   "cell_type": "markdown",
   "id": "a06d95a5",
   "metadata": {},
   "source": [
    "## 1.5 참조에 의한 호출\n",
    "- 함수의 매개변수로 전달되는 변수가 스칼라 변수가 아닌 리스트, 튜플, 셋, 딕셔너리, 객체일  경우"
   ]
  },
  {
   "cell_type": "code",
   "execution_count": 87,
   "id": "905fb977",
   "metadata": {},
   "outputs": [
    {
     "data": {
      "text/plain": [
       "2855439639360"
      ]
     },
     "execution_count": 87,
     "metadata": {},
     "output_type": "execute_result"
    }
   ],
   "source": [
    "L = [1, 2, 3] # 리스트 데이터\n",
    "id(L)"
   ]
  },
  {
   "cell_type": "code",
   "execution_count": 88,
   "id": "639a1e43",
   "metadata": {},
   "outputs": [
    {
     "name": "stdout",
     "output_type": "stream",
     "text": [
      "Before : [1, 2, 3]\n",
      "After : [1, 2, 3, 5]\n"
     ]
    }
   ],
   "source": [
    "def func2(f): # 매개변수는 지역변수\n",
    "    print('Before :', f)\n",
    "    f.append(5)\n",
    "    print('After :', f)\n",
    "func2(L)"
   ]
  },
  {
   "cell_type": "code",
   "execution_count": 89,
   "id": "c20b476c",
   "metadata": {},
   "outputs": [
    {
     "name": "stdout",
     "output_type": "stream",
     "text": [
      "L= [1, 2, 3, 5]\n"
     ]
    }
   ],
   "source": [
    "print('L=', L)"
   ]
  },
  {
   "cell_type": "code",
   "execution_count": 97,
   "id": "2f06ad15",
   "metadata": {},
   "outputs": [
    {
     "name": "stdout",
     "output_type": "stream",
     "text": [
      "Before : [1, 2, 3, 5, 5] 2855439639360\n",
      "After : [1, 2, 3, 5, 5, 4] 2855439639360\n"
     ]
    }
   ],
   "source": [
    "def func2(f): # 매개변수는 지역변수\n",
    "    print('Before :', f, id(f))\n",
    "    f.append(4)\n",
    "    print('After :', f, id(f))\n",
    "func2(L)"
   ]
  },
  {
   "cell_type": "code",
   "execution_count": 105,
   "id": "b1c02ff4",
   "metadata": {},
   "outputs": [
    {
     "name": "stdout",
     "output_type": "stream",
     "text": [
      "L= [1, 2, 3, 5, 5, 4] 2855439639360\n"
     ]
    }
   ],
   "source": [
    "print('L=', L, id(L))"
   ]
  },
  {
   "cell_type": "markdown",
   "id": "3c7236bc",
   "metadata": {},
   "source": [
    "# 2절. 함수의 실행결과를 반환하는 return"
   ]
  },
  {
   "cell_type": "code",
   "execution_count": 106,
   "id": "088a5175",
   "metadata": {},
   "outputs": [],
   "source": [
    "def add(x, y):\n",
    "    return x + y\n",
    "    # print() 수행하지 않음 return 이후 이므로 개무시 함"
   ]
  },
  {
   "cell_type": "code",
   "execution_count": 107,
   "id": "d37f5eb8",
   "metadata": {},
   "outputs": [
    {
     "data": {
      "text/plain": [
       "5"
      ]
     },
     "execution_count": 107,
     "metadata": {},
     "output_type": "execute_result"
    }
   ],
   "source": [
    "i = 2; j=3\n",
    "add(i, j)"
   ]
  },
  {
   "cell_type": "code",
   "execution_count": 108,
   "id": "a89ce20e",
   "metadata": {},
   "outputs": [],
   "source": [
    "def add():\n",
    "    return True"
   ]
  },
  {
   "cell_type": "code",
   "execution_count": 109,
   "id": "809b5a22",
   "metadata": {},
   "outputs": [
    {
     "data": {
      "text/plain": [
       "True"
      ]
     },
     "execution_count": 109,
     "metadata": {},
     "output_type": "execute_result"
    }
   ],
   "source": [
    "add()"
   ]
  },
  {
   "cell_type": "code",
   "execution_count": 110,
   "id": "d0d0377b",
   "metadata": {},
   "outputs": [],
   "source": [
    "def add(a):\n",
    "    pass"
   ]
  },
  {
   "cell_type": "code",
   "execution_count": 113,
   "id": "2c9d900d",
   "metadata": {},
   "outputs": [
    {
     "name": "stdout",
     "output_type": "stream",
     "text": [
      "None\n"
     ]
    }
   ],
   "source": [
    "print(add(10)) # 아무것도 없는 것은 none이라고 나옴"
   ]
  },
  {
   "cell_type": "code",
   "execution_count": 9,
   "id": "75818b4e",
   "metadata": {},
   "outputs": [],
   "source": [
    "def fibonacci_print(n):\n",
    "    '''\n",
    "    매개변수로 들오온 n값 미만의 피보나치 수열을 출력\n",
    "    ex. m=10이면 0 1 1 2 3 5 8 을 출력\n",
    "    '''\n",
    "    a, b = 0, 1\n",
    "    while a < n:\n",
    "        print(a, end=' ')\n",
    "        a, b = b, a + b\n",
    "    print() # 개행\n",
    "def fibonacci_return(n):\n",
    "    '''\n",
    "    매개변수로 들어온 n값 미만의 피보나치 수열을 리스트로 return\n",
    "    ex. n=10이면 [0 1 1 2 3 5 8]을 rerturn\n",
    "    '''\n",
    "    result = []\n",
    "    a, b = 0, 1\n",
    "    while a < n:\n",
    "        result.append(a)\n",
    "        a, b = b, a + b\n",
    "    return result\n",
    "    "
   ]
  },
  {
   "cell_type": "code",
   "execution_count": 7,
   "id": "d62d4c1b",
   "metadata": {},
   "outputs": [
    {
     "name": "stdout",
     "output_type": "stream",
     "text": [
      "0 1 1 2 3 5 8 13 21 34 55 89 \n",
      "None\n"
     ]
    }
   ],
   "source": [
    "x = fibonacci_print(100)\n",
    "print(x)"
   ]
  },
  {
   "cell_type": "code",
   "execution_count": 10,
   "id": "cd70308e",
   "metadata": {},
   "outputs": [
    {
     "name": "stdout",
     "output_type": "stream",
     "text": [
      "[0, 1, 1, 2, 3, 5, 8, 13, 21, 34, 55, 89]\n",
      "<class 'list'>\n"
     ]
    }
   ],
   "source": [
    "x = fibonacci_return(100)\n",
    "print(x)\n",
    "print(type(x))"
   ]
  },
  {
   "cell_type": "markdown",
   "id": "e1fe2908",
   "metadata": {},
   "source": [
    "## 여러개 값 return"
   ]
  },
  {
   "cell_type": "code",
   "execution_count": 15,
   "id": "081fc7f9",
   "metadata": {},
   "outputs": [],
   "source": [
    "def swap(a, b):\n",
    "    '매개변수의 순서를 바꿔서 return'\n",
    "    return b, a"
   ]
  },
  {
   "cell_type": "code",
   "execution_count": 17,
   "id": "16b66c82",
   "metadata": {},
   "outputs": [
    {
     "name": "stdout",
     "output_type": "stream",
     "text": [
      "함수 실행 전 x=5, y=10\n",
      "함수 실행 후 x=10, y=5\n"
     ]
    }
   ],
   "source": [
    "x, y = 5, 10\n",
    "print(f'함수 실행 전 x={x}, y={y}')\n",
    "x, y = swap(x, y) # 10, 5 로 변경, 결국 순서가 바뀜\n",
    "print(f'함수 실행 후 x={x}, y={y}')"
   ]
  },
  {
   "cell_type": "markdown",
   "id": "e7cb568f",
   "metadata": {},
   "source": [
    "# 3절. 함수의 매개변수 ★\n",
    "## 3.1 기본값을 갖는 매개변수"
   ]
  },
  {
   "cell_type": "code",
   "execution_count": 6,
   "id": "c143ebd7",
   "metadata": {},
   "outputs": [],
   "source": [
    "def make_url(ip, port=80):  # 순서인수 > 기본값을 갖는 매개변수\n",
    "    return \"http://{}:{}\".format(ip, port)"
   ]
  },
  {
   "cell_type": "code",
   "execution_count": 7,
   "id": "39a488b6",
   "metadata": {},
   "outputs": [
    {
     "name": "stdout",
     "output_type": "stream",
     "text": [
      "http://www.naver.com:80\n",
      "http://localhost:8090\n",
      "http://localhost:8090\n"
     ]
    }
   ],
   "source": [
    "print(make_url('www.naver.com'))\n",
    "print(make_url('localhost', 8090))\n",
    "print(make_url(port=8090, ip='localhost'))"
   ]
  },
  {
   "cell_type": "markdown",
   "id": "8bbf92e2",
   "metadata": {},
   "source": [
    "## 3.2 기본 변수를 갖는 매개변수\n",
    "- 기본변수가 스칼라 변수일 때\n",
    "- 기본변수가 리스트, 셋, 딕셔너리 등의 객체일 때"
   ]
  },
  {
   "cell_type": "code",
   "execution_count": 1,
   "id": "5f19bf32",
   "metadata": {},
   "outputs": [],
   "source": [
    "i = 5\n",
    "# 기본값을 갖는 변수가 스칼라 변수일 때 : arg의 기본값은 함수가 정의되는 시점의 값으로 셋팅됨\n",
    "def func2(arg=i):\n",
    "    print('arg = ', arg)"
   ]
  },
  {
   "cell_type": "code",
   "execution_count": 18,
   "id": "cf5b48ec",
   "metadata": {},
   "outputs": [
    {
     "name": "stdout",
     "output_type": "stream",
     "text": [
      "arg =  5\n"
     ]
    }
   ],
   "source": [
    "i = 50\n",
    "func2()"
   ]
  },
  {
   "cell_type": "code",
   "execution_count": 2,
   "id": "e8405480",
   "metadata": {},
   "outputs": [],
   "source": [
    "list_ = []\n",
    "# 기본값을 갖는 변수가 스칼라 변수일 때 : arg의 기본값은 호출되는 시점의 값\n",
    "def func3(data, L = list_):\n",
    "    'data를 L에 append'\n",
    "    L.append(data)\n",
    "    return L"
   ]
  },
  {
   "cell_type": "code",
   "execution_count": 3,
   "id": "550007ce",
   "metadata": {},
   "outputs": [
    {
     "name": "stdout",
     "output_type": "stream",
     "text": [
      "[10]\n"
     ]
    }
   ],
   "source": [
    "print(func3(10)) # list_가 수정 : [10]"
   ]
  },
  {
   "cell_type": "code",
   "execution_count": 4,
   "id": "e7ce02e7",
   "metadata": {},
   "outputs": [
    {
     "name": "stdout",
     "output_type": "stream",
     "text": [
      "[10, 20]\n"
     ]
    }
   ],
   "source": [
    "print(func3(20))"
   ]
  },
  {
   "cell_type": "code",
   "execution_count": 6,
   "id": "eca471a6",
   "metadata": {
    "scrolled": true
   },
   "outputs": [
    {
     "data": {
      "text/plain": [
       "[10, 20]"
      ]
     },
     "execution_count": 6,
     "metadata": {},
     "output_type": "execute_result"
    }
   ],
   "source": [
    "list_"
   ]
  },
  {
   "cell_type": "code",
   "execution_count": 7,
   "id": "f67ea056",
   "metadata": {},
   "outputs": [],
   "source": [
    "def func4(data, L = None):\n",
    "    if L==None:\n",
    "        L = []        \n",
    "    L.append(data)\n",
    "    return L"
   ]
  },
  {
   "cell_type": "code",
   "execution_count": 8,
   "id": "8cf2dd86",
   "metadata": {},
   "outputs": [
    {
     "name": "stdout",
     "output_type": "stream",
     "text": [
      "[10]\n",
      "[10, 20, 10]\n"
     ]
    }
   ],
   "source": [
    "print(func4(10))\n",
    "print(func4(10, list_))"
   ]
  },
  {
   "cell_type": "markdown",
   "id": "490e7986",
   "metadata": {},
   "source": [
    "## 3.3 튜플 매개변수를 이용한 가변인수 설정"
   ]
  },
  {
   "cell_type": "code",
   "execution_count": null,
   "id": "a3b50602",
   "metadata": {},
   "outputs": [],
   "source": [
    "# 파이썬은 오버로딩(함수의 중복)을 지원하지 않음\n",
    "\n",
    "def add(a, b):"
   ]
  },
  {
   "cell_type": "code",
   "execution_count": 17,
   "id": "08e5a37c",
   "metadata": {},
   "outputs": [],
   "source": [
    "# *args : 매개변수들을 하나의 튜플 변수 args로 전달받음 (* 만 붇이면 됨)\n",
    "\n",
    "def add(*args):\n",
    "    '전달받은 매개변수들의 합을 return'\n",
    "    # print('args = ', args)\n",
    "    result_tot = 0 # 누적변수\n",
    "    for data in args:\n",
    "        result_tot += data\n",
    "    return result_tot"
   ]
  },
  {
   "cell_type": "code",
   "execution_count": 22,
   "id": "5413aaa1",
   "metadata": {},
   "outputs": [
    {
     "name": "stdout",
     "output_type": "stream",
     "text": [
      "1\n",
      "3\n",
      "196\n"
     ]
    }
   ],
   "source": [
    "print(add(1))\n",
    "print(add(1,2))\n",
    "print(add(1, 3, 5, 6, 12, 15, 154))"
   ]
  },
  {
   "cell_type": "code",
   "execution_count": 27,
   "id": "2454af97",
   "metadata": {},
   "outputs": [
    {
     "data": {
      "text/plain": [
       "'Python/Oracle/DL/ML'"
      ]
     },
     "execution_count": 27,
     "metadata": {},
     "output_type": "execute_result"
    }
   ],
   "source": [
    "subject = ('Python', 'Oracle', 'DL', 'ML')\n",
    "'/'.join(subject)"
   ]
  },
  {
   "cell_type": "code",
   "execution_count": 29,
   "id": "dfb01268",
   "metadata": {},
   "outputs": [],
   "source": [
    "def concat(*subject, sep):\n",
    "    return sep.join(subject)"
   ]
  },
  {
   "cell_type": "code",
   "execution_count": 30,
   "id": "b59840d0",
   "metadata": {},
   "outputs": [
    {
     "ename": "SyntaxError",
     "evalue": "unterminated string literal (detected at line 1) (1001857835.py, line 1)",
     "output_type": "error",
     "traceback": [
      "\u001b[1;36m  Cell \u001b[1;32mIn[30], line 1\u001b[1;36m\u001b[0m\n\u001b[1;33m    concat('Python', 'Oracle', 'DL', 'ML', '\\')\u001b[0m\n\u001b[1;37m                                           ^\u001b[0m\n\u001b[1;31mSyntaxError\u001b[0m\u001b[1;31m:\u001b[0m unterminated string literal (detected at line 1)\n"
     ]
    }
   ],
   "source": [
    "concat('Python', 'Oracle', 'DL', 'ML', '/')"
   ]
  },
  {
   "cell_type": "code",
   "execution_count": 33,
   "id": "c3ca28b9",
   "metadata": {},
   "outputs": [
    {
     "data": {
      "text/plain": [
       "'Python / Oracle / DL / ML'"
      ]
     },
     "execution_count": 33,
     "metadata": {},
     "output_type": "execute_result"
    }
   ],
   "source": [
    "# 해결책1 : 매개변수 이름을 지정해서 호출\n",
    "concat('Python', 'Oracle', 'DL', 'ML', sep=' / ')"
   ]
  },
  {
   "cell_type": "code",
   "execution_count": 34,
   "id": "6e5e981a",
   "metadata": {},
   "outputs": [],
   "source": [
    "# 해결책2 : 기본값을 반드시 갖는 키워드 인수 사용\n",
    "def concat(*subject, sep='  '):\n",
    "    return sep.join(subject)"
   ]
  },
  {
   "cell_type": "code",
   "execution_count": 35,
   "id": "2a507f7f",
   "metadata": {},
   "outputs": [
    {
     "data": {
      "text/plain": [
       "'Python / Oracle / DL / ML'"
      ]
     },
     "execution_count": 35,
     "metadata": {},
     "output_type": "execute_result"
    }
   ],
   "source": [
    "concat('Python', 'Oracle', 'DL', 'ML', sep=' / ')"
   ]
  },
  {
   "cell_type": "code",
   "execution_count": 48,
   "id": "814f9239",
   "metadata": {},
   "outputs": [],
   "source": [
    "# 해결책3 : sep을 순서 인수로 앞에 선언\n",
    "def concat(sep, *subject):\n",
    "    return sep.join(subject)"
   ]
  },
  {
   "cell_type": "code",
   "execution_count": 49,
   "id": "2e768705",
   "metadata": {},
   "outputs": [
    {
     "data": {
      "text/plain": [
       "'OraclePythonDL'"
      ]
     },
     "execution_count": 49,
     "metadata": {},
     "output_type": "execute_result"
    }
   ],
   "source": [
    "concat('Python', 'Oracle', 'DL')"
   ]
  },
  {
   "cell_type": "markdown",
   "id": "1c19f2db",
   "metadata": {},
   "source": [
    "## 3.4 딕셔너리 매개변수\n",
    "- 여러 개의 키워드 인수를 딕셔너리 형태로 받아서 가변 키워드 인수로 처리"
   ]
  },
  {
   "cell_type": "code",
   "execution_count": 58,
   "id": "fa10374a",
   "metadata": {},
   "outputs": [],
   "source": [
    "def func5(**kwargs):\n",
    "#     print(kwargs)\n",
    "    print(type(kwargs))\n",
    "    print('이름 : ', kwargs.get('name', '대마왕'))\n",
    "    print('나이 : ', kwargs.get('age', 30))\n",
    "    print('주소 : ', kwargs.get('address', '서울'))"
   ]
  },
  {
   "cell_type": "code",
   "execution_count": 59,
   "id": "2bb5ad02",
   "metadata": {},
   "outputs": [
    {
     "name": "stdout",
     "output_type": "stream",
     "text": [
      "<class 'dict'>\n",
      "이름 :  홍길동\n",
      "나이 :  30\n",
      "주소 :  신림동\n"
     ]
    }
   ],
   "source": [
    "func5(name='홍길동', age = 30, address = '신림동')"
   ]
  },
  {
   "cell_type": "code",
   "execution_count": 60,
   "id": "cbb5f714",
   "metadata": {},
   "outputs": [
    {
     "name": "stdout",
     "output_type": "stream",
     "text": [
      "<class 'dict'>\n",
      "이름 :  김길동\n",
      "나이 :  30\n",
      "주소 :  서울\n"
     ]
    }
   ],
   "source": [
    "func5(name='김길동')"
   ]
  },
  {
   "cell_type": "markdown",
   "id": "be04b0e1",
   "metadata": {},
   "source": [
    "## 3.5 함수 정의시 매개변수 순서\n",
    "- 순서인수 > 튜플 매개변수(*) > 키워드 인수(<b>매개변수 이름 반드시 명시</b>) > 딕셔너리 매개변수(**)"
   ]
  },
  {
   "cell_type": "code",
   "execution_count": 61,
   "id": "15117af6",
   "metadata": {},
   "outputs": [],
   "source": [
    "def func6(a, b, *c, **d):\n",
    "    print('순서인수 :', a)\n",
    "    print('순서인수 :', b)\n",
    "    print('튜플인수 :', c)\n",
    "    print('딕셔너리 인수 :', d)"
   ]
  },
  {
   "cell_type": "code",
   "execution_count": 62,
   "id": "512305bb",
   "metadata": {},
   "outputs": [
    {
     "name": "stdout",
     "output_type": "stream",
     "text": [
      "순서인수 : 10\n",
      "순서인수 : 20\n",
      "튜플인수 : (1, 2, 3, 4, 5, 6, 7, 8, 9, 10)\n",
      "딕셔너리 인수 : {'name': '홍길동', 'age': 30, 'address': '서울'}\n"
     ]
    }
   ],
   "source": [
    "func6(10, 20, 1,2,3,4,5,6,7,8,9,10, name='홍길동', age=30, address='서울')"
   ]
  },
  {
   "cell_type": "code",
   "execution_count": 65,
   "id": "7c605fc6",
   "metadata": {},
   "outputs": [],
   "source": [
    "def func7(a, b, *c, d='기본값', **e):\n",
    "    print('순서인수 a :', a)\n",
    "    print('순서인수 b :', b)\n",
    "    print('튜플인수 c :', c)\n",
    "    print('키워드인수(기본값을 갖는 인수, 호출시 매개변수명 반드시 명시) d :', d)\n",
    "    print('딕셔너리인수 d :', e)"
   ]
  },
  {
   "cell_type": "code",
   "execution_count": 66,
   "id": "4a598b66",
   "metadata": {},
   "outputs": [
    {
     "name": "stdout",
     "output_type": "stream",
     "text": [
      "순서인수 a : 10\n",
      "순서인수 b : 20\n",
      "튜플인수 c : (1, 2, 3)\n",
      "키워드인수(기본값을 갖는 인수, 호출시 매개변수명 반드시 명시) d : 딴거\n",
      "딕셔너리인수 d : {'fontsize': 12, 'fontfamily': 'consola'}\n"
     ]
    }
   ],
   "source": [
    "func7(10, 20, 1, 2, 3, d='딴거', fontsize=12, fontfamily='consola')"
   ]
  },
  {
   "cell_type": "code",
   "execution_count": 67,
   "id": "d9af25cf",
   "metadata": {},
   "outputs": [
    {
     "name": "stdout",
     "output_type": "stream",
     "text": [
      "순서인수 a : 10\n",
      "순서인수 b : 20\n",
      "튜플인수 c : (1, 2, 3)\n",
      "키워드인수(기본값을 갖는 인수, 호출시 매개변수명 반드시 명시) d : 기본값\n",
      "딕셔너리인수 d : {'fontsize': 12, 'fontfamily': 'consola'}\n"
     ]
    }
   ],
   "source": [
    "func7(10, 20, 1, 2, 3, fontsize=12, fontfamily='consola')"
   ]
  },
  {
   "cell_type": "markdown",
   "id": "57c4c9f6",
   "metadata": {},
   "source": [
    "## 3.6 매개변수(인수)의 언패킹\n",
    "### 튜플인수 언패킹\n",
    "- 언패킹 : 함수 호출시 매개변수 앞에 * 붙임\n",
    "- 패킹 : 함수 정의시 매개변수 앞에 * 붙임(튜플매개변수)"
   ]
  },
  {
   "cell_type": "code",
   "execution_count": 74,
   "id": "096afa66",
   "metadata": {},
   "outputs": [],
   "source": [
    "def add(*args):\n",
    "    print(args)\n",
    "    tot = 0\n",
    "    for num in args:\n",
    "        tot += num\n",
    "    return tot"
   ]
  },
  {
   "cell_type": "code",
   "execution_count": 69,
   "id": "4ec3e54a",
   "metadata": {},
   "outputs": [
    {
     "data": {
      "text/plain": [
       "10"
      ]
     },
     "execution_count": 69,
     "metadata": {},
     "output_type": "execute_result"
    }
   ],
   "source": [
    "add(1,2,3,4)"
   ]
  },
  {
   "cell_type": "code",
   "execution_count": 85,
   "id": "2ba119b6",
   "metadata": {},
   "outputs": [
    {
     "name": "stdout",
     "output_type": "stream",
     "text": [
      "(1, 2, 3, 4)\n"
     ]
    },
    {
     "data": {
      "text/plain": [
       "10"
      ]
     },
     "execution_count": 85,
     "metadata": {},
     "output_type": "execute_result"
    }
   ],
   "source": [
    "numbers = [1, 2, 3, 4]\n",
    "add(*numbers) # 언패킹"
   ]
  },
  {
   "cell_type": "markdown",
   "id": "e3d9d020",
   "metadata": {},
   "source": [
    "### 딕셔너리 인수 언패킹\n",
    "- 딕셔너리 언패킹 : 함수 호출시 매개변수 앞에 ** 붙이면 딕셔너리를 언패킹\n",
    "- 딕셔너리 패킹 : 함수 정의시 매개변수 앞에 ** 붙이면 딕셔너리를 패킹"
   ]
  },
  {
   "cell_type": "code",
   "execution_count": 7,
   "id": "dd460dd3",
   "metadata": {},
   "outputs": [],
   "source": [
    "def func5(**data):\n",
    "    print(type(data))\n",
    "    for key, item in data.items():\n",
    "        print(f'{key}:{item}')"
   ]
  },
  {
   "cell_type": "code",
   "execution_count": 10,
   "id": "08974bcc",
   "metadata": {},
   "outputs": [
    {
     "ename": "SyntaxError",
     "evalue": "unterminated string literal (detected at line 1) (2787678281.py, line 1)",
     "output_type": "error",
     "traceback": [
      "\u001b[1;36m  Cell \u001b[1;32mIn[10], line 1\u001b[1;36m\u001b[0m\n\u001b[1;33m    func5(name='홍길동', age=30, 'address='신림')\u001b[0m\n\u001b[1;37m                                          ^\u001b[0m\n\u001b[1;31mSyntaxError\u001b[0m\u001b[1;31m:\u001b[0m unterminated string literal (detected at line 1)\n"
     ]
    }
   ],
   "source": [
    "func5(name='홍길동', age=30, 'address='신림')"
   ]
  },
  {
   "cell_type": "code",
   "execution_count": 3,
   "id": "49916f8f",
   "metadata": {},
   "outputs": [
    {
     "name": "stdout",
     "output_type": "stream",
     "text": [
      "<class 'dict'>\n",
      "custom:{'name': '홍길동', 'age': 10, 'address': '서울시 강남구', 'score': 900}\n"
     ]
    }
   ],
   "source": [
    "customInfo = {'name':'홍길동', 'age':10, 'address':'서울시 강남구', 'score':900}\n",
    "func5(custom=customInfo)"
   ]
  },
  {
   "cell_type": "code",
   "execution_count": 4,
   "id": "658ddb69",
   "metadata": {},
   "outputs": [
    {
     "name": "stdout",
     "output_type": "stream",
     "text": [
      "<class 'dict'>\n",
      "name:홍길동\n",
      "age:10\n",
      "address:서울시 강남구\n",
      "score:900\n"
     ]
    }
   ],
   "source": [
    "customInfo = {'name':'홍길동', 'age':10, 'address':'서울시 강남구', 'score':900}\n",
    "func5(**customInfo)"
   ]
  },
  {
   "cell_type": "markdown",
   "id": "3679fece",
   "metadata": {},
   "source": [
    "# 4절. 람다식\n",
    "- return 한 줄 짜리 작은 익명 함수\n",
    "## 4.1 람다식 연습"
   ]
  },
  {
   "cell_type": "code",
   "execution_count": 11,
   "id": "efd9109e",
   "metadata": {},
   "outputs": [
    {
     "data": {
      "text/plain": [
       "7"
      ]
     },
     "execution_count": 11,
     "metadata": {},
     "output_type": "execute_result"
    }
   ],
   "source": [
    "def add(a, b):\n",
    "    return a+b\n",
    "add(3, 4)"
   ]
  },
  {
   "cell_type": "code",
   "execution_count": 12,
   "id": "bde2b697",
   "metadata": {},
   "outputs": [
    {
     "data": {
      "text/plain": [
       "7"
      ]
     },
     "execution_count": 12,
     "metadata": {},
     "output_type": "execute_result"
    }
   ],
   "source": [
    "add2 = lambda a, b : a + b\n",
    "add2(3, 4)"
   ]
  },
  {
   "cell_type": "code",
   "execution_count": 14,
   "id": "f3f8007d",
   "metadata": {},
   "outputs": [
    {
     "data": {
      "text/plain": [
       "(function, function)"
      ]
     },
     "execution_count": 14,
     "metadata": {},
     "output_type": "execute_result"
    }
   ],
   "source": [
    "type(add), type(add2)\n"
   ]
  },
  {
   "cell_type": "code",
   "execution_count": 15,
   "id": "10327d35",
   "metadata": {},
   "outputs": [
    {
     "data": {
      "text/plain": [
       "7"
      ]
     },
     "execution_count": 15,
     "metadata": {},
     "output_type": "execute_result"
    }
   ],
   "source": [
    "(lambda a, b : a + b)(3, 4)"
   ]
  },
  {
   "cell_type": "code",
   "execution_count": 16,
   "id": "328c1e8d",
   "metadata": {},
   "outputs": [
    {
     "data": {
      "text/plain": [
       "('짝수', '홀수')"
      ]
     },
     "execution_count": 16,
     "metadata": {},
     "output_type": "execute_result"
    }
   ],
   "source": [
    "# ex1. 매개변수로 들어온 값이 짝수인지 홀수인지 return\n",
    "\n",
    "# def ex1(num):\n",
    "#     if num%2:\n",
    "#         result = \"홀수\"\n",
    "#     else:\n",
    "#         result = \"짝수\"\n",
    "#     return result\n",
    "\n",
    "def ex1(num):\n",
    "    return \"홀수\" if num%2 else \"짝수\"\n",
    "ex1 = lambda num : \"홀수\" if num%2 else \"짝수\"\n",
    "ex1(10), ex1(-9)"
   ]
  },
  {
   "cell_type": "code",
   "execution_count": 21,
   "id": "067e997d",
   "metadata": {},
   "outputs": [
    {
     "data": {
      "text/plain": [
       "(1, 12)"
      ]
     },
     "execution_count": 21,
     "metadata": {},
     "output_type": "execute_result"
    }
   ],
   "source": [
    "# ex2. 두 매개변수의 차이를 return(큰 수에서 작은 수를 빼면 됨)\n",
    "\n",
    "def diff(a, b):\n",
    "#     if a>b:\n",
    "#         result = a - b\n",
    "#     else:\n",
    "#         result = b - a\n",
    "    return a - b if a>b else b - a\n",
    "    return result\n",
    "diff(2,1), diff(9, 21)"
   ]
  },
  {
   "cell_type": "code",
   "execution_count": 26,
   "id": "86eb654e",
   "metadata": {},
   "outputs": [
    {
     "name": "stdout",
     "output_type": "stream",
     "text": [
      "1 10\n",
      "<class 'function'> <class 'function'>\n"
     ]
    }
   ],
   "source": [
    "ex2 = lambda a, b : a-b if a>b else b-a\n",
    "print(ex2(2,1), ex2(10,20))\n",
    "print(type(diff), type(ex2))"
   ]
  },
  {
   "cell_type": "code",
   "execution_count": 28,
   "id": "49fcd984",
   "metadata": {},
   "outputs": [
    {
     "data": {
      "text/plain": [
       "(1000, 'negative')"
      ]
     },
     "execution_count": 28,
     "metadata": {},
     "output_type": "execute_result"
    }
   ],
   "source": [
    "# ex3. 매개변수로 잔액을 받아 양수면 잔액을 return, 음수면 'negative'를 return\n",
    "ex3 = lambda money : money if money>=0 else 'negative'\n",
    "ex3(1000), ex3(-100)\n",
    "\n"
   ]
  },
  {
   "cell_type": "code",
   "execution_count": 31,
   "id": "2de9a98d",
   "metadata": {},
   "outputs": [
    {
     "name": "stdout",
     "output_type": "stream",
     "text": [
      "100 negative\n"
     ]
    }
   ],
   "source": [
    "print(ex3(100), ex3(-1003))"
   ]
  },
  {
   "cell_type": "code",
   "execution_count": 35,
   "id": "38a759e7",
   "metadata": {},
   "outputs": [
    {
     "data": {
      "text/plain": [
       "('유효하지 않음', 'A팀', '재시험', 'B팀', 'A팀')"
      ]
     },
     "execution_count": 35,
     "metadata": {},
     "output_type": "execute_result"
    }
   ],
   "source": [
    "# ex4. 점수를 입력받아 점수가 80점 이상은 A팀, 60점 이상은 B팀, 60점 미만은 재시험. \n",
    "# 그 외는 유효하지 않음\n",
    "ex4 = lambda score : \"A팀\" if 80<=score<=100 else \\\n",
    "                    \"B팀\" if 60<=score<80 else \\\n",
    "                    \"재시험\" if 0<=score<60 else \\\n",
    "                    \"유효하지 않음\"\n",
    "ex4(120), ex4(80), ex4(20), ex4(70), ex4(90)"
   ]
  },
  {
   "cell_type": "code",
   "execution_count": null,
   "id": "626ea2cb",
   "metadata": {},
   "outputs": [],
   "source": [
    "# ex5. safe_index를 람다식으로\n",
    "def safe_index(vector, data):\n",
    "    if data in vector: # list 안에 data가 있는지 여부\n",
    "        return lst.index(data)\n",
    "    else:\n",
    "        return -1    "
   ]
  },
  {
   "cell_type": "code",
   "execution_count": 36,
   "id": "eae28b16",
   "metadata": {},
   "outputs": [
    {
     "data": {
      "text/plain": [
       "(-1, 1)"
      ]
     },
     "execution_count": 36,
     "metadata": {},
     "output_type": "execute_result"
    }
   ],
   "source": [
    "ex5 = lambda vector, data : vector.index(data) if data in vector else -1\n",
    "tup = (1, 2, 3)\n",
    "ex5(tup, 4), ex5(tup, 2)"
   ]
  },
  {
   "cell_type": "code",
   "execution_count": null,
   "id": "60e84412",
   "metadata": {},
   "outputs": [],
   "source": []
  },
  {
   "cell_type": "code",
   "execution_count": null,
   "id": "4af9954d",
   "metadata": {},
   "outputs": [],
   "source": []
  },
  {
   "cell_type": "code",
   "execution_count": null,
   "id": "f4edd4f8",
   "metadata": {},
   "outputs": [],
   "source": []
  },
  {
   "cell_type": "code",
   "execution_count": null,
   "id": "e9b1a155",
   "metadata": {},
   "outputs": [],
   "source": []
  }
 ],
 "metadata": {
  "kernelspec": {
   "display_name": "Python 3 (ipykernel)",
   "language": "python",
   "name": "python3"
  },
  "language_info": {
   "codemirror_mode": {
    "name": "ipython",
    "version": 3
   },
   "file_extension": ".py",
   "mimetype": "text/x-python",
   "name": "python",
   "nbconvert_exporter": "python",
   "pygments_lexer": "ipython3",
   "version": "3.10.9"
  },
  "toc": {
   "base_numbering": 1,
   "nav_menu": {},
   "number_sections": false,
   "sideBar": true,
   "skip_h1_title": false,
   "title_cell": "Table of Contents",
   "title_sidebar": "Contents",
   "toc_cell": false,
   "toc_position": {
    "height": "calc(100% - 180px)",
    "left": "10px",
    "top": "150px",
    "width": "237.188px"
   },
   "toc_section_display": true,
   "toc_window_display": true
  }
 },
 "nbformat": 4,
 "nbformat_minor": 5
}
