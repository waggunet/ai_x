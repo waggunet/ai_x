{
 "cells": [
  {
   "cell_type": "code",
   "execution_count": 1,
   "id": "2a6e2ba8",
   "metadata": {},
   "outputs": [
    {
     "data": {
      "text/html": [
       "\n",
       "<style>\n",
       "div.container{width:86% !important;}\n",
       "div.cell.code_cell.rendered{width:100%;}\n",
       "div.CodeMirror {font-family:Consolas; font-size:13pt;\n",
       "div.output {font-size:12pt; font-weight:bold;}\n",
       "div.input {font-family:Consolas; font-size:10pt;}\n",
       "div.prompt {min-width:70px;}\n",
       "div#toc-wrapper{padding-top:120px;}\n",
       "div.text_cell_render ul li{font-size:10pt;padding:5px;}\n",
       "table.dataframe{font-size:15px;\n",
       "</style>\n"
      ],
      "text/plain": [
       "<IPython.core.display.HTML object>"
      ]
     },
     "metadata": {},
     "output_type": "display_data"
    }
   ],
   "source": [
    "# 매 강의 시작시마다 동일하게 처리해야 함\n",
    "from IPython.display import display, HTML\n",
    "display(HTML(\"\"\"\n",
    "<style>\n",
    "div.container{width:86% !important;}\n",
    "div.cell.code_cell.rendered{width:100%;}\n",
    "div.CodeMirror {font-family:Consolas; font-size:13pt;\n",
    "div.output {font-size:12pt; font-weight:bold;}\n",
    "div.input {font-family:Consolas; font-size:10pt;}\n",
    "div.prompt {min-width:70px;}\n",
    "div#toc-wrapper{padding-top:120px;}\n",
    "div.text_cell_render ul li{font-size:10pt;padding:5px;}\n",
    "table.dataframe{font-size:15px;\n",
    "</style>\n",
    "\"\"\"))"
   ]
  },
  {
   "cell_type": "markdown",
   "id": "b1153270",
   "metadata": {},
   "source": [
    "<b><font size=\"5\" color=\"red\">ch10. N차원 배열 다루기</font></b>\n",
    "\n",
    "- [numpy](https://pypi.org/project/numpy/)\n",
    "- [numpy_API](https://numpy.org/doc/stable/reference/index.html)\n",
    "- [myWebsite](http://alan.waggu.net)\n",
    "- N차원 배열 객체\n",
    "- 2차원 배열은 행렬 개념\n",
    "- numpy 패키지는 c언어로 구현되어 고성능 수치 계산 패키지\n",
    "\n",
    "# 1절. 넘파이 패키지"
   ]
  },
  {
   "cell_type": "code",
   "execution_count": 7,
   "id": "0fe0fb9a",
   "metadata": {},
   "outputs": [
    {
     "data": {
      "text/plain": [
       "'1.23.5'"
      ]
     },
     "execution_count": 7,
     "metadata": {},
     "output_type": "execute_result"
    }
   ],
   "source": [
    "import numpy as np\n",
    "\n",
    "np.__version__"
   ]
  },
  {
   "cell_type": "code",
   "execution_count": 8,
   "id": "92033af7",
   "metadata": {},
   "outputs": [
    {
     "data": {
      "text/plain": [
       "array([ 0,  1,  2,  3,  4,  5,  6,  7,  8,  9, 10, 11, 12, 13, 14])"
      ]
     },
     "execution_count": 8,
     "metadata": {},
     "output_type": "execute_result"
    }
   ],
   "source": [
    "# np.arrange(from, stop, step) : fron부터 stop까지 step씩 증감한 정수값을 배열로 생성\n",
    "a = np.arange(15)\n",
    "a"
   ]
  },
  {
   "cell_type": "markdown",
   "id": "3883caac",
   "metadata": {},
   "source": [
    "## 1.1 배열속성"
   ]
  },
  {
   "cell_type": "code",
   "execution_count": 17,
   "id": "062d8180",
   "metadata": {},
   "outputs": [
    {
     "data": {
      "text/plain": [
       "array([[ 0,  1,  2,  3,  4],\n",
       "       [ 5,  6,  7,  8,  9],\n",
       "       [10, 11, 12, 13, 14]])"
      ]
     },
     "execution_count": 17,
     "metadata": {},
     "output_type": "execute_result"
    }
   ],
   "source": [
    "from numpy import arange\n",
    "a = arange(15).reshape(3, 5) # 3행 5열짜리 2차원 배열로 return\n",
    "a"
   ]
  },
  {
   "cell_type": "code",
   "execution_count": 18,
   "id": "86bb8485",
   "metadata": {},
   "outputs": [
    {
     "data": {
      "text/plain": [
       "numpy.ndarray"
      ]
     },
     "execution_count": 18,
     "metadata": {},
     "output_type": "execute_result"
    }
   ],
   "source": [
    "type(a) # a 변수의 타입"
   ]
  },
  {
   "cell_type": "code",
   "execution_count": 19,
   "id": "67421461",
   "metadata": {},
   "outputs": [
    {
     "data": {
      "text/plain": [
       "dtype('int32')"
      ]
     },
     "execution_count": 19,
     "metadata": {},
     "output_type": "execute_result"
    }
   ],
   "source": [
    "a.dtype # a배열 요소의 type"
   ]
  },
  {
   "cell_type": "code",
   "execution_count": 20,
   "id": "8064c0b2",
   "metadata": {},
   "outputs": [
    {
     "data": {
      "text/plain": [
       "4"
      ]
     },
     "execution_count": 20,
     "metadata": {},
     "output_type": "execute_result"
    }
   ],
   "source": [
    "a.itemsize # 한 요소의 byte사이즈\n"
   ]
  },
  {
   "cell_type": "code",
   "execution_count": 22,
   "id": "b8824746",
   "metadata": {},
   "outputs": [
    {
     "data": {
      "text/plain": [
       "2"
      ]
     },
     "execution_count": 22,
     "metadata": {},
     "output_type": "execute_result"
    }
   ],
   "source": [
    "a.ndim #차원수(축수)"
   ]
  },
  {
   "cell_type": "code",
   "execution_count": 23,
   "id": "083d6abb",
   "metadata": {},
   "outputs": [
    {
     "data": {
      "text/plain": [
       "15"
      ]
     },
     "execution_count": 23,
     "metadata": {},
     "output_type": "execute_result"
    }
   ],
   "source": [
    "a.size # 배열 요소의 갯수\n"
   ]
  },
  {
   "cell_type": "code",
   "execution_count": 24,
   "id": "2273654a",
   "metadata": {},
   "outputs": [
    {
     "data": {
      "text/plain": [
       "(3, 5)"
      ]
     },
     "execution_count": 24,
     "metadata": {},
     "output_type": "execute_result"
    }
   ],
   "source": [
    "a.shape #배열의 구조 (튜플)"
   ]
  },
  {
   "cell_type": "markdown",
   "id": "7e2aa563",
   "metadata": {},
   "source": [
    "## 1.2 배열 변경(구조, 타입)"
   ]
  },
  {
   "cell_type": "code",
   "execution_count": 26,
   "id": "318a3e1f",
   "metadata": {},
   "outputs": [
    {
     "name": "stdout",
     "output_type": "stream",
     "text": [
      "구조변경 전\n",
      "[[ 0  1  2  3  4]\n",
      " [ 5  6  7  8  9]\n",
      " [10 11 12 13 14]]\n",
      "구조변경 후\n",
      "[[ 0  1  2]\n",
      " [ 3  4  5]\n",
      " [ 6  7  8]\n",
      " [ 9 10 11]\n",
      " [12 13 14]]\n"
     ]
    }
   ],
   "source": [
    "# 구조 변경\n",
    "\n",
    "print('구조변경 전', a, sep='\\n')\n",
    "a.shape  = (5, 3)\n",
    "print('구조변경 후', a, sep='\\n')"
   ]
  },
  {
   "cell_type": "code",
   "execution_count": 28,
   "id": "8f4d4326",
   "metadata": {},
   "outputs": [
    {
     "data": {
      "text/plain": [
       "array([[ 0,  1,  2,  3],\n",
       "       [ 4,  5,  6,  7],\n",
       "       [ 8,  9, 10, 11]])"
      ]
     },
     "execution_count": 28,
     "metadata": {},
     "output_type": "execute_result"
    }
   ],
   "source": [
    "# 타입변경\n",
    "a = arange(12).reshape(3, 4)\n",
    "a"
   ]
  },
  {
   "cell_type": "code",
   "execution_count": 30,
   "id": "f1a6b8a9",
   "metadata": {},
   "outputs": [
    {
     "data": {
      "text/plain": [
       "dtype('int32')"
      ]
     },
     "execution_count": 30,
     "metadata": {},
     "output_type": "execute_result"
    }
   ],
   "source": [
    "a.dtype"
   ]
  },
  {
   "cell_type": "code",
   "execution_count": 32,
   "id": "841f5e83",
   "metadata": {},
   "outputs": [
    {
     "data": {
      "text/plain": [
       "4"
      ]
     },
     "execution_count": 32,
     "metadata": {},
     "output_type": "execute_result"
    }
   ],
   "source": [
    "a.itemsize"
   ]
  },
  {
   "cell_type": "code",
   "execution_count": 34,
   "id": "f14450b7",
   "metadata": {},
   "outputs": [
    {
     "data": {
      "text/plain": [
       "dtype('int64')"
      ]
     },
     "execution_count": 34,
     "metadata": {},
     "output_type": "execute_result"
    }
   ],
   "source": [
    "a.dtype = np.int64 # a배열을 읽을 때 64bit씩 읽는다.\n",
    "a.dtype"
   ]
  },
  {
   "cell_type": "code",
   "execution_count": 35,
   "id": "4cfc9b87",
   "metadata": {},
   "outputs": [
    {
     "data": {
      "text/plain": [
       "8"
      ]
     },
     "execution_count": 35,
     "metadata": {},
     "output_type": "execute_result"
    }
   ],
   "source": [
    "a.itemsize"
   ]
  },
  {
   "cell_type": "code",
   "execution_count": 37,
   "id": "b821bd2c",
   "metadata": {},
   "outputs": [
    {
     "data": {
      "text/plain": [
       "(6, (3, 2))"
      ]
     },
     "execution_count": 37,
     "metadata": {},
     "output_type": "execute_result"
    }
   ],
   "source": [
    "a.size, a.shape # 12개 요소 3행 4열"
   ]
  },
  {
   "cell_type": "code",
   "execution_count": 38,
   "id": "eed240e4",
   "metadata": {},
   "outputs": [
    {
     "data": {
      "text/plain": [
       "array([[ 4294967296, 12884901890],\n",
       "       [21474836484, 30064771078],\n",
       "       [38654705672, 47244640266]], dtype=int64)"
      ]
     },
     "execution_count": 38,
     "metadata": {},
     "output_type": "execute_result"
    }
   ],
   "source": [
    "a"
   ]
  },
  {
   "cell_type": "code",
   "execution_count": 50,
   "id": "cd369cef",
   "metadata": {},
   "outputs": [
    {
     "data": {
      "text/plain": [
       "array([[ 0,  1,  2,  3],\n",
       "       [ 4,  5,  6,  7],\n",
       "       [ 8,  9, 10, 11]])"
      ]
     },
     "execution_count": 50,
     "metadata": {},
     "output_type": "execute_result"
    }
   ],
   "source": [
    "# 타입변경(O)\n",
    "a = arange(12).reshape(3, 4)\n",
    "a"
   ]
  },
  {
   "cell_type": "code",
   "execution_count": 42,
   "id": "cecbb5a9",
   "metadata": {
    "scrolled": true
   },
   "outputs": [
    {
     "ename": "NameError",
     "evalue": "name 'astype' is not defined",
     "output_type": "error",
     "traceback": [
      "\u001b[1;31m---------------------------------------------------------------------------\u001b[0m",
      "\u001b[1;31mNameError\u001b[0m                                 Traceback (most recent call last)",
      "Cell \u001b[1;32mIn[42], line 1\u001b[0m\n\u001b[1;32m----> 1\u001b[0m a \u001b[38;5;241m=\u001b[39m \u001b[43mastype\u001b[49m(np\u001b[38;5;241m.\u001b[39mint64)\n\u001b[0;32m      2\u001b[0m a\n",
      "\u001b[1;31mNameError\u001b[0m: name 'astype' is not defined"
     ]
    }
   ],
   "source": [
    "a = astype(np.int64)\n",
    "a"
   ]
  },
  {
   "cell_type": "code",
   "execution_count": 51,
   "id": "c31587a6",
   "metadata": {},
   "outputs": [
    {
     "data": {
      "text/plain": [
       "array([[ 0,  1,  2,  3],\n",
       "       [ 4,  5,  6,  7],\n",
       "       [ 8,  9, 10, 11]], dtype=int64)"
      ]
     },
     "execution_count": 51,
     "metadata": {},
     "output_type": "execute_result"
    }
   ],
   "source": [
    "a = a.astype(np.int64) # a.astype('int64')\n",
    "a"
   ]
  },
  {
   "cell_type": "code",
   "execution_count": 52,
   "id": "5b4ca8a0",
   "metadata": {},
   "outputs": [
    {
     "data": {
      "text/plain": [
       "dtype('int64')"
      ]
     },
     "execution_count": 52,
     "metadata": {},
     "output_type": "execute_result"
    }
   ],
   "source": [
    "a.dtype"
   ]
  },
  {
   "cell_type": "code",
   "execution_count": 53,
   "id": "7b959021",
   "metadata": {},
   "outputs": [
    {
     "data": {
      "text/plain": [
       "array([ 0,  1,  2,  3,  4,  5,  6,  7,  8,  9, 10, 11], dtype=int64)"
      ]
     },
     "execution_count": 53,
     "metadata": {},
     "output_type": "execute_result"
    }
   ],
   "source": [
    "a.flatten()"
   ]
  },
  {
   "cell_type": "code",
   "execution_count": 54,
   "id": "5af41697",
   "metadata": {},
   "outputs": [
    {
     "data": {
      "text/plain": [
       "array([ 0,  1,  2,  3,  4,  5,  6,  7,  8,  9, 10, 11], dtype=int64)"
      ]
     },
     "execution_count": 54,
     "metadata": {},
     "output_type": "execute_result"
    }
   ],
   "source": [
    "a.ravel()"
   ]
  },
  {
   "cell_type": "markdown",
   "id": "53ba0cfb",
   "metadata": {},
   "source": [
    "## 1.3 배열 저장"
   ]
  },
  {
   "cell_type": "code",
   "execution_count": null,
   "id": "c1c19b1f",
   "metadata": {},
   "outputs": [],
   "source": [
    "# 배열저장 pkl npy\n",
    "# 딥러닝모델 저장 h5 keras\n",
    "# 머신러닝 모델 저장 pkl joblib"
   ]
  },
  {
   "cell_type": "code",
   "execution_count": 49,
   "id": "0da0fbfe",
   "metadata": {},
   "outputs": [
    {
     "data": {
      "text/plain": [
       "array([[ 0,  1,  2,  3],\n",
       "       [ 4,  5,  6,  7],\n",
       "       [ 8,  9, 10, 11]])"
      ]
     },
     "execution_count": 49,
     "metadata": {},
     "output_type": "execute_result"
    }
   ],
   "source": [
    "a"
   ]
  },
  {
   "cell_type": "code",
   "execution_count": 56,
   "id": "59d46259",
   "metadata": {},
   "outputs": [],
   "source": [
    "import pickle\n",
    "with open('data/ch10_a.pkl', 'wb') as f:\n",
    "    pickle.dump(a,f)\n",
    "with open('data/ch10_a.pkl', 'rb') as f:\n",
    "    load_a = pickle.load(f)"
   ]
  },
  {
   "cell_type": "code",
   "execution_count": 57,
   "id": "02b5fe37",
   "metadata": {},
   "outputs": [
    {
     "data": {
      "text/plain": [
       "array([[ 0,  1,  2,  3],\n",
       "       [ 4,  5,  6,  7],\n",
       "       [ 8,  9, 10, 11]], dtype=int64)"
      ]
     },
     "execution_count": 57,
     "metadata": {},
     "output_type": "execute_result"
    }
   ],
   "source": [
    "load_a"
   ]
  },
  {
   "cell_type": "code",
   "execution_count": 58,
   "id": "f93092fb",
   "metadata": {},
   "outputs": [
    {
     "data": {
      "text/plain": [
       "True"
      ]
     },
     "execution_count": 58,
     "metadata": {},
     "output_type": "execute_result"
    }
   ],
   "source": [
    "np.all(a == load_a) # a넘파이 배열과 load_a 넘파이 배열이 같은지"
   ]
  },
  {
   "cell_type": "code",
   "execution_count": 59,
   "id": "3c1b6e3c",
   "metadata": {},
   "outputs": [],
   "source": [
    "np.save('data/ch10_a.npy', a)"
   ]
  },
  {
   "cell_type": "code",
   "execution_count": 61,
   "id": "f18fdb4d",
   "metadata": {},
   "outputs": [
    {
     "data": {
      "text/plain": [
       "True"
      ]
     },
     "execution_count": 61,
     "metadata": {},
     "output_type": "execute_result"
    }
   ],
   "source": [
    "load_a2 = np.load('data/ch10_a.npy')\n",
    "np.all(load_a2==a)"
   ]
  },
  {
   "cell_type": "markdown",
   "id": "8a127654",
   "metadata": {},
   "source": [
    "# 2절. 넘파이 배열\n",
    "- array()함수를 : 다른 파이썬 데이터 구조를 배열로 변환\n",
    "- arange(), ones(), zeros(), empty()\n",
    "- random값을 갖는 함수들...\n",
    "## 2.1 array() 함수로 넘파이 배열 만들기\n",
    "array(list나 tuple, dtype=np.xxxx, copy=T/F)"
   ]
  },
  {
   "cell_type": "code",
   "execution_count": 66,
   "id": "741e24e2",
   "metadata": {},
   "outputs": [
    {
     "data": {
      "text/plain": [
       "array([2., 4., 6.])"
      ]
     },
     "execution_count": 66,
     "metadata": {},
     "output_type": "execute_result"
    }
   ],
   "source": [
    "a = np.array([2., 4, 6]) # 정수의 기본 타입은 int32 / 실수의 기본 타입은 float64\n",
    "a"
   ]
  },
  {
   "cell_type": "code",
   "execution_count": 67,
   "id": "f1b8ab1a",
   "metadata": {},
   "outputs": [
    {
     "data": {
      "text/plain": [
       "array(['2', '4', '6'], dtype='<U11')"
      ]
     },
     "execution_count": 67,
     "metadata": {},
     "output_type": "execute_result"
    }
   ],
   "source": [
    "a = np.array(['2', 4, 6]) # 문자가 들어가면 전부 문자로 바뀜\n",
    "a"
   ]
  },
  {
   "cell_type": "code",
   "execution_count": 74,
   "id": "b5209ed3",
   "metadata": {},
   "outputs": [
    {
     "data": {
      "text/plain": [
       "array([2, 4, 6])"
      ]
     },
     "execution_count": 74,
     "metadata": {},
     "output_type": "execute_result"
    }
   ],
   "source": [
    "a = np.array([2, 4, 6])\n",
    "a"
   ]
  },
  {
   "cell_type": "code",
   "execution_count": 75,
   "id": "8f71933f",
   "metadata": {},
   "outputs": [
    {
     "data": {
      "text/plain": [
       "(2, 4, 6)"
      ]
     },
     "execution_count": 75,
     "metadata": {},
     "output_type": "execute_result"
    }
   ],
   "source": [
    "a[0], a[1], a[2]"
   ]
  },
  {
   "cell_type": "code",
   "execution_count": 82,
   "id": "715f1fad",
   "metadata": {},
   "outputs": [
    {
     "data": {
      "text/plain": [
       "dtype('int32')"
      ]
     },
     "execution_count": 82,
     "metadata": {},
     "output_type": "execute_result"
    }
   ],
   "source": [
    "a.dtype"
   ]
  },
  {
   "cell_type": "code",
   "execution_count": 86,
   "id": "7e70e2b7",
   "metadata": {},
   "outputs": [
    {
     "data": {
      "text/plain": [
       "array([[1.3, 2.4, 4. , 5. ]], dtype=float32)"
      ]
     },
     "execution_count": 86,
     "metadata": {},
     "output_type": "execute_result"
    }
   ],
   "source": [
    "b = np.array([[1.3, 2.4],[4,5]], dtype=np.float32).reshape(1,4)\n",
    "b"
   ]
  },
  {
   "cell_type": "code",
   "execution_count": 87,
   "id": "c6dac697",
   "metadata": {},
   "outputs": [
    {
     "data": {
      "text/plain": [
       "4"
      ]
     },
     "execution_count": 87,
     "metadata": {},
     "output_type": "execute_result"
    }
   ],
   "source": [
    "b.itemsize"
   ]
  },
  {
   "cell_type": "code",
   "execution_count": 88,
   "id": "14ca6311",
   "metadata": {},
   "outputs": [
    {
     "data": {
      "text/plain": [
       "array([[1.29999995, 2.4000001 , 4.        , 5.        ]])"
      ]
     },
     "execution_count": 88,
     "metadata": {},
     "output_type": "execute_result"
    }
   ],
   "source": [
    "b.astype(np.float64)"
   ]
  },
  {
   "cell_type": "code",
   "execution_count": 92,
   "id": "45df616b",
   "metadata": {},
   "outputs": [
    {
     "name": "stdout",
     "output_type": "stream",
     "text": [
      "1\t2\t\n",
      "3.4\t4.5\t\n"
     ]
    }
   ],
   "source": [
    "l = [[1,2], [3.4, 4.5]]\n",
    "for row in l:\n",
    "    for data in row:\n",
    "        print(data, end='\\t')\n",
    "    print()\n",
    "        "
   ]
  },
  {
   "cell_type": "code",
   "execution_count": 98,
   "id": "b000cd59",
   "metadata": {},
   "outputs": [
    {
     "name": "stdout",
     "output_type": "stream",
     "text": [
      "0행0duf:1.0\t0행1duf:2.0\t\n",
      "1행0duf:3.400390625\t1행1duf:4.5\t\n"
     ]
    }
   ],
   "source": [
    "c = np.array([[1,2], [3.4,4.5]], dtype=np.float16)\n",
    "for i, row in enumerate(c):\n",
    "    for j, item in enumerate(row):\n",
    "        print(\"{}행{}duf:{}\".format(i,j,item), end='\\t')\n",
    "    print()"
   ]
  },
  {
   "cell_type": "code",
   "execution_count": 103,
   "id": "638f1ab7",
   "metadata": {},
   "outputs": [
    {
     "data": {
      "text/plain": [
       "array([[ 1,  2,  3,  4,  5],\n",
       "       [ 6,  7,  8,  9, 10]], dtype=int16)"
      ]
     },
     "execution_count": 103,
     "metadata": {},
     "output_type": "execute_result"
    }
   ],
   "source": [
    "c = np.array([[1,2,3,4,5],[6,7,8,9,10]], dtype=np.int16)\n",
    "c"
   ]
  },
  {
   "cell_type": "code",
   "execution_count": 104,
   "id": "50d65079",
   "metadata": {},
   "outputs": [
    {
     "data": {
      "text/plain": [
       "4"
      ]
     },
     "execution_count": 104,
     "metadata": {},
     "output_type": "execute_result"
    }
   ],
   "source": [
    "c[0,3]"
   ]
  },
  {
   "cell_type": "code",
   "execution_count": 105,
   "id": "c7584376",
   "metadata": {},
   "outputs": [
    {
     "data": {
      "text/plain": [
       "array([[2, 3],\n",
       "       [7, 8]], dtype=int16)"
      ]
     },
     "execution_count": 105,
     "metadata": {},
     "output_type": "execute_result"
    }
   ],
   "source": [
    "c[:,1:3]"
   ]
  },
  {
   "cell_type": "code",
   "execution_count": 111,
   "id": "8f682032",
   "metadata": {},
   "outputs": [
    {
     "data": {
      "text/plain": [
       "array([3, 4, 5], dtype=int16)"
      ]
     },
     "execution_count": 111,
     "metadata": {},
     "output_type": "execute_result"
    }
   ],
   "source": [
    "c[0, 2:]\n",
    "c[0, 2:5]\n"
   ]
  },
  {
   "cell_type": "code",
   "execution_count": 115,
   "id": "c10f776c",
   "metadata": {},
   "outputs": [
    {
     "data": {
      "text/plain": [
       "array([[1, 2, 3, 4],\n",
       "       [6, 7, 8, 9]], dtype=int16)"
      ]
     },
     "execution_count": 115,
     "metadata": {},
     "output_type": "execute_result"
    }
   ],
   "source": [
    "# 모든 행의 맨 마지막 열만 추출\n",
    "\n",
    "c[:,-1]\n",
    "\n",
    "# 모든 행의 맨 마지막 열을 제외한 추출\n",
    "\n",
    "c[:,:-1]"
   ]
  },
  {
   "cell_type": "code",
   "execution_count": 119,
   "id": "9fe1a449",
   "metadata": {},
   "outputs": [
    {
     "name": "stdout",
     "output_type": "stream",
     "text": [
      "c=\n",
      "[[1 2]\n",
      " [3 4]]\n",
      "d=\n",
      "[[1 2]\n",
      " [3 4]]\n",
      "c=\n",
      "[[   1    2]\n",
      " [3333    4]]\n",
      "d=\n",
      "[[   1    2]\n",
      " [3333    4]]\n",
      "c주소=1915739374672, d주소=1915739374672\n"
     ]
    }
   ],
   "source": [
    "c = np.array([[1, 2],[3, 4]])\n",
    "d = np.array(c, copy=False) # d=c 얕은 복사\n",
    "print('c=', c, sep='\\n')\n",
    "print('d=', d, sep='\\n')\n",
    "d[1, 0] = 3333\n",
    "print('c=', c, sep='\\n')\n",
    "print('d=', d, sep='\\n')\n",
    "print('c주소={}, d주소={}'.format(id(c), id(d)))"
   ]
  },
  {
   "cell_type": "code",
   "execution_count": 120,
   "id": "4258739c",
   "metadata": {},
   "outputs": [
    {
     "name": "stdout",
     "output_type": "stream",
     "text": [
      "c=\n",
      "[[1 2]\n",
      " [3 4]]\n",
      "d=\n",
      "[[1 2]\n",
      " [3 4]]\n",
      "c=\n",
      "[[1 2]\n",
      " [3 4]]\n",
      "d=\n",
      "[[   1    2]\n",
      " [3333    4]]\n",
      "c주소=1915658145296, d주소=1915658151248\n"
     ]
    }
   ],
   "source": [
    "c = np.array([[1, 2],[3, 4]])\n",
    "d = np.array(c, copy=True) # d=c.copy() 얕은 복사\n",
    "print('c=', c, sep='\\n')\n",
    "print('d=', d, sep='\\n')\n",
    "d[1, 0] = 3333\n",
    "print('c=', c, sep='\\n')\n",
    "print('d=', d, sep='\\n')\n",
    "print('c주소={}, d주소={}'.format(id(c), id(d)))"
   ]
  },
  {
   "cell_type": "markdown",
   "id": "c22adb05",
   "metadata": {},
   "source": [
    "## 2.2 기본값이 있는 배열 만들기\n",
    "- np.zeros( tup ) : 요소들이 다 0\n",
    "- np.zeros( tup ) : 요소들이 다 1\n",
    "- np.full(  tup, 기본값) : 요소들이 다 기본값\n",
    "- np.empty( tup ) : 요소들이 임의의 값(메모리 상태에 따라 달라짐)\n",
    "    ※ 위의 함수를 이용해서 생성된 배열은 dtype이 aloat64. dtype 속성 따라 지정 가능"
   ]
  },
  {
   "cell_type": "code",
   "execution_count": 125,
   "id": "eaf46eef",
   "metadata": {},
   "outputs": [
    {
     "data": {
      "text/plain": [
       "array([[0, 0, 0, 0, 0],\n",
       "       [0, 0, 0, 0, 0],\n",
       "       [0, 0, 0, 0, 0]], dtype=int8)"
      ]
     },
     "execution_count": 125,
     "metadata": {},
     "output_type": "execute_result"
    }
   ],
   "source": [
    "np.zeros( (3, 5), dtype=np.int8)"
   ]
  },
  {
   "cell_type": "code",
   "execution_count": 126,
   "id": "498cd0d2",
   "metadata": {},
   "outputs": [
    {
     "data": {
      "text/plain": [
       "(dtype('float64'),\n",
       " array([[1., 1., 1., 1., 1.],\n",
       "        [1., 1., 1., 1., 1.],\n",
       "        [1., 1., 1., 1., 1.]]))"
      ]
     },
     "execution_count": 126,
     "metadata": {},
     "output_type": "execute_result"
    }
   ],
   "source": [
    "x = np.ones((3,5))\n",
    "x.dtype, x"
   ]
  },
  {
   "cell_type": "code",
   "execution_count": 129,
   "id": "36591111",
   "metadata": {},
   "outputs": [
    {
     "data": {
      "text/plain": [
       "array([[-256, -256, -256, -256, -256],\n",
       "       [-256, -256, -256, -256, -256]])"
      ]
     },
     "execution_count": 129,
     "metadata": {},
     "output_type": "execute_result"
    }
   ],
   "source": [
    "np.full((2, 5), -256)"
   ]
  },
  {
   "cell_type": "code",
   "execution_count": 136,
   "id": "fff0aac9",
   "metadata": {},
   "outputs": [
    {
     "data": {
      "text/plain": [
       "array([[6.23042070e-307, 4.67296746e-307, 1.69121096e-306,\n",
       "        1.29061074e-306, 1.89146896e-307],\n",
       "       [7.56571288e-307, 3.11525958e-307, 1.24610723e-306,\n",
       "        1.29061142e-306, 5.53353523e-322]])"
      ]
     },
     "execution_count": 136,
     "metadata": {},
     "output_type": "execute_result"
    }
   ],
   "source": [
    "np.empty((2, 5))"
   ]
  },
  {
   "cell_type": "markdown",
   "id": "3a94a351",
   "metadata": {},
   "source": [
    "## 2.3 랜덤값을 갖는 배열 만들기\n",
    "- np.random.random(tup) : 0부터 1 미만의 균등분포를 갖는 랜덤값\n",
    "- np.random.uniform(low=0, hight=1.0, size=tup): low부터 hight미만의 균등분포를 갖는 랜덤값\n",
    "- np.random.normal(loc=0, scale=1.0, size=tup): 평균 loc과 표준편차 scale을 갖는 정규 분포 랜담값\n",
    "- np.random.rand(n) : 균등본포의 1차원 난수 배열 발생(난수 n개)\n",
    "- np.random.rand(n) : 표준정규분포(평균 0,표준편차 1인 정규분포)의 1차원 난수 배열 발생(난수 n개)\n",
    "\n",
    "cf. np.random.randint(n) : 0부터 n미만의 정수 난수 1개 발생"
   ]
  },
  {
   "cell_type": "code",
   "execution_count": 141,
   "id": "01c911c6",
   "metadata": {},
   "outputs": [
    {
     "data": {
      "image/png": "[encoded data removed]",
      "text/plain": [
       "<Figure size 1500x200 with 1 Axes>"
      ]
     },
     "metadata": {},
     "output_type": "display_data"
    }
   ],
   "source": [
    "import matplotlib.pyplot as plt\n",
    "x = np.random.rand(10000)\n",
    "np.random.rand(100)\n",
    "plt.figure(figsize=(15,2)) # 그래프 크기 figsize=(가로, 세로)\n",
    "plt.hist(x, bins=50)\n",
    "plt.show()"
   ]
  },
  {
   "cell_type": "code",
   "execution_count": 143,
   "id": "21eb8210",
   "metadata": {},
   "outputs": [
    {
     "data": {
      "image/png": "[encoded data removed]",
      "text/plain": [
       "<Figure size 1500x200 with 1 Axes>"
      ]
     },
     "metadata": {},
     "output_type": "display_data"
    }
   ],
   "source": [
    "x = np.random.randn(10000)\n",
    "plt.figure(figsize=(15,2)) # 그래프 크기 figsize=(가로, 세로)\n",
    "plt.hist(x, bins=100)\n",
    "plt.show()"
   ]
  },
  {
   "cell_type": "code",
   "execution_count": 148,
   "id": "4b0e86b8",
   "metadata": {},
   "outputs": [
    {
     "data": {
      "text/plain": [
       "array([[0.15416284, 0.7400497 , 0.26331502, 0.53373939, 0.01457496],\n",
       "       [0.91874701, 0.90071485, 0.03342143, 0.95694934, 0.13720932]])"
      ]
     },
     "execution_count": 148,
     "metadata": {},
     "output_type": "execute_result"
    }
   ],
   "source": [
    "# 2차원 난수 배열\n",
    "np.random.seed(12) # seed값을 맞추면 발새되는 난수 순서가 동일\n",
    "np.random.random( (2,5)) # 0 부터 1미만 균등분포 난수 배열"
   ]
  },
  {
   "cell_type": "code",
   "execution_count": 149,
   "id": "c8345dce",
   "metadata": {},
   "outputs": [
    {
     "data": {
      "text/plain": [
       "array([[ 2.12211188,  5.66691503,  9.3864765 ,  8.38009095, -0.97514843],\n",
       "       [ 4.7334863 ,  5.07241397,  4.33915155,  7.44947569,  0.76788428]])"
      ]
     },
     "execution_count": 149,
     "metadata": {},
     "output_type": "execute_result"
    }
   ],
   "source": [
    "np.random.uniform(-1, 10, (2, 5)) # -1 ~ 10미만의 균등분포 난수 배열"
   ]
  },
  {
   "cell_type": "code",
   "execution_count": 152,
   "id": "e56cf0f6",
   "metadata": {},
   "outputs": [
    {
     "data": {
      "text/plain": [
       "array([[ 7.5696624 , 12.68471274,  9.75570042, 12.02503095,  8.17226171],\n",
       "       [ 7.94093959, 12.4195929 , 11.00374461, 10.27769235, 11.28152223]])"
      ]
     },
     "execution_count": 152,
     "metadata": {},
     "output_type": "execute_result"
    }
   ],
   "source": [
    "np.random.normal(10, 2, (2, 5)) # 평균 10, 표준편자 2인 정규뷴포 난수 배열"
   ]
  },
  {
   "cell_type": "markdown",
   "id": "27145d5c",
   "metadata": {},
   "source": [
    "## 2.4 연속된 값을 갖는 배열 만들기\n",
    "- np.arange(from,stop, by, dtype) : from부터 stop 앞까지 by씩 증감하는 정수 배열\n",
    "- np.linspace(from, to, count) : from부터 to까지(to포함) count개 숫자를 1차원 배열"
   ]
  },
  {
   "cell_type": "code",
   "execution_count": 154,
   "id": "c9b0b210",
   "metadata": {},
   "outputs": [
    {
     "data": {
      "text/plain": [
       "array([0.        , 0.10526316, 0.21052632, 0.31578947, 0.42105263,\n",
       "       0.52631579, 0.63157895, 0.73684211, 0.84210526, 0.94736842,\n",
       "       1.05263158, 1.15789474, 1.26315789, 1.36842105, 1.47368421,\n",
       "       1.57894737, 1.68421053, 1.78947368, 1.89473684, 2.        ])"
      ]
     },
     "execution_count": 154,
     "metadata": {},
     "output_type": "execute_result"
    }
   ],
   "source": [
    "np.linspace(0, 2, 20)"
   ]
  },
  {
   "cell_type": "code",
   "execution_count": 155,
   "id": "836e3c32",
   "metadata": {},
   "outputs": [
    {
     "data": {
      "text/plain": [
       "0.10526316"
      ]
     },
     "execution_count": 155,
     "metadata": {},
     "output_type": "execute_result"
    }
   ],
   "source": [
    "0.21052632-0.10526316"
   ]
  },
  {
   "cell_type": "code",
   "execution_count": 157,
   "id": "9598d074",
   "metadata": {
    "collapsed": true
   },
   "outputs": [
    {
     "data": {
      "text/plain": [
       "array([0.        , 0.00628947, 0.01257895, 0.01886842, 0.0251579 ,\n",
       "       0.03144737, 0.03773685, 0.04402632, 0.0503158 , 0.05660527,\n",
       "       0.06289475, 0.06918422, 0.0754737 , 0.08176317, 0.08805265,\n",
       "       0.09434212, 0.1006316 , 0.10692107, 0.11321055, 0.11950002,\n",
       "       0.1257895 , 0.13207897, 0.13836845, 0.14465792, 0.15094739,\n",
       "       0.15723687, 0.16352634, 0.16981582, 0.17610529, 0.18239477,\n",
       "       0.18868424, 0.19497372, 0.20126319, 0.20755267, 0.21384214,\n",
       "       0.22013162, 0.22642109, 0.23271057, 0.23900004, 0.24528952,\n",
       "       0.25157899, 0.25786847, 0.26415794, 0.27044742, 0.27673689,\n",
       "       0.28302637, 0.28931584, 0.29560531, 0.30189479, 0.30818426,\n",
       "       0.31447374, 0.32076321, 0.32705269, 0.33334216, 0.33963164,\n",
       "       0.34592111, 0.35221059, 0.35850006, 0.36478954, 0.37107901,\n",
       "       0.37736849, 0.38365796, 0.38994744, 0.39623691, 0.40252639,\n",
       "       0.40881586, 0.41510534, 0.42139481, 0.42768429, 0.43397376,\n",
       "       0.44026323, 0.44655271, 0.45284218, 0.45913166, 0.46542113,\n",
       "       0.47171061, 0.47800008, 0.48428956, 0.49057903, 0.49686851,\n",
       "       0.50315798, 0.50944746, 0.51573693, 0.52202641, 0.52831588,\n",
       "       0.53460536, 0.54089483, 0.54718431, 0.55347378, 0.55976326,\n",
       "       0.56605273, 0.57234221, 0.57863168, 0.58492115, 0.59121063,\n",
       "       0.5975001 , 0.60378958, 0.61007905, 0.61636853, 0.622658  ,\n",
       "       0.62894748, 0.63523695, 0.64152643, 0.6478159 , 0.65410538,\n",
       "       0.66039485, 0.66668433, 0.6729738 , 0.67926328, 0.68555275,\n",
       "       0.69184223, 0.6981317 , 0.70442118, 0.71071065, 0.71700013,\n",
       "       0.7232896 , 0.72957907, 0.73586855, 0.74215802, 0.7484475 ,\n",
       "       0.75473697, 0.76102645, 0.76731592, 0.7736054 , 0.77989487,\n",
       "       0.78618435, 0.79247382, 0.7987633 , 0.80505277, 0.81134225,\n",
       "       0.81763172, 0.8239212 , 0.83021067, 0.83650015, 0.84278962,\n",
       "       0.8490791 , 0.85536857, 0.86165805, 0.86794752, 0.87423699,\n",
       "       0.88052647, 0.88681594, 0.89310542, 0.89939489, 0.90568437,\n",
       "       0.91197384, 0.91826332, 0.92455279, 0.93084227, 0.93713174,\n",
       "       0.94342122, 0.94971069, 0.95600017, 0.96228964, 0.96857912,\n",
       "       0.97486859, 0.98115807, 0.98744754, 0.99373702, 1.00002649,\n",
       "       1.00631597, 1.01260544, 1.01889491, 1.02518439, 1.03147386,\n",
       "       1.03776334, 1.04405281, 1.05034229, 1.05663176, 1.06292124,\n",
       "       1.06921071, 1.07550019, 1.08178966, 1.08807914, 1.09436861,\n",
       "       1.10065809, 1.10694756, 1.11323704, 1.11952651, 1.12581599,\n",
       "       1.13210546, 1.13839494, 1.14468441, 1.15097389, 1.15726336,\n",
       "       1.16355283, 1.16984231, 1.17613178, 1.18242126, 1.18871073,\n",
       "       1.19500021, 1.20128968, 1.20757916, 1.21386863, 1.22015811,\n",
       "       1.22644758, 1.23273706, 1.23902653, 1.24531601, 1.25160548,\n",
       "       1.25789496, 1.26418443, 1.27047391, 1.27676338, 1.28305286,\n",
       "       1.28934233, 1.29563181, 1.30192128, 1.30821075, 1.31450023,\n",
       "       1.3207897 , 1.32707918, 1.33336865, 1.33965813, 1.3459476 ,\n",
       "       1.35223708, 1.35852655, 1.36481603, 1.3711055 , 1.37739498,\n",
       "       1.38368445, 1.38997393, 1.3962634 , 1.40255288, 1.40884235,\n",
       "       1.41513183, 1.4214213 , 1.42771078, 1.43400025, 1.44028973,\n",
       "       1.4465792 , 1.45286867, 1.45915815, 1.46544762, 1.4717371 ,\n",
       "       1.47802657, 1.48431605, 1.49060552, 1.496895  , 1.50318447,\n",
       "       1.50947395, 1.51576342, 1.5220529 , 1.52834237, 1.53463185,\n",
       "       1.54092132, 1.5472108 , 1.55350027, 1.55978975, 1.56607922,\n",
       "       1.5723687 , 1.57865817, 1.58494765, 1.59123712, 1.59752659,\n",
       "       1.60381607, 1.61010554, 1.61639502, 1.62268449, 1.62897397,\n",
       "       1.63526344, 1.64155292, 1.64784239, 1.65413187, 1.66042134,\n",
       "       1.66671082, 1.67300029, 1.67928977, 1.68557924, 1.69186872,\n",
       "       1.69815819, 1.70444767, 1.71073714, 1.71702662, 1.72331609,\n",
       "       1.72960557, 1.73589504, 1.74218451, 1.74847399, 1.75476346,\n",
       "       1.76105294, 1.76734241, 1.77363189, 1.77992136, 1.78621084,\n",
       "       1.79250031, 1.79878979, 1.80507926, 1.81136874, 1.81765821,\n",
       "       1.82394769, 1.83023716, 1.83652664, 1.84281611, 1.84910559,\n",
       "       1.85539506, 1.86168454, 1.86797401, 1.87426349, 1.88055296,\n",
       "       1.88684243, 1.89313191, 1.89942138, 1.90571086, 1.91200033,\n",
       "       1.91828981, 1.92457928, 1.93086876, 1.93715823, 1.94344771,\n",
       "       1.94973718, 1.95602666, 1.96231613, 1.96860561, 1.97489508,\n",
       "       1.98118456, 1.98747403, 1.99376351, 2.00005298, 2.00634246,\n",
       "       2.01263193, 2.01892141, 2.02521088, 2.03150035, 2.03778983,\n",
       "       2.0440793 , 2.05036878, 2.05665825, 2.06294773, 2.0692372 ,\n",
       "       2.07552668, 2.08181615, 2.08810563, 2.0943951 , 2.10068458,\n",
       "       2.10697405, 2.11326353, 2.119553  , 2.12584248, 2.13213195,\n",
       "       2.13842143, 2.1447109 , 2.15100038, 2.15728985, 2.16357932,\n",
       "       2.1698688 , 2.17615827, 2.18244775, 2.18873722, 2.1950267 ,\n",
       "       2.20131617, 2.20760565, 2.21389512, 2.2201846 , 2.22647407,\n",
       "       2.23276355, 2.23905302, 2.2453425 , 2.25163197, 2.25792145,\n",
       "       2.26421092, 2.2705004 , 2.27678987, 2.28307935, 2.28936882,\n",
       "       2.2956583 , 2.30194777, 2.30823724, 2.31452672, 2.32081619,\n",
       "       2.32710567, 2.33339514, 2.33968462, 2.34597409, 2.35226357,\n",
       "       2.35855304, 2.36484252, 2.37113199, 2.37742147, 2.38371094,\n",
       "       2.39000042, 2.39628989, 2.40257937, 2.40886884, 2.41515832,\n",
       "       2.42144779, 2.42773727, 2.43402674, 2.44031622, 2.44660569,\n",
       "       2.45289516, 2.45918464, 2.46547411, 2.47176359, 2.47805306,\n",
       "       2.48434254, 2.49063201, 2.49692149, 2.50321096, 2.50950044,\n",
       "       2.51578991, 2.52207939, 2.52836886, 2.53465834, 2.54094781,\n",
       "       2.54723729, 2.55352676, 2.55981624, 2.56610571, 2.57239519,\n",
       "       2.57868466, 2.58497414, 2.59126361, 2.59755308, 2.60384256,\n",
       "       2.61013203, 2.61642151, 2.62271098, 2.62900046, 2.63528993,\n",
       "       2.64157941, 2.64786888, 2.65415836, 2.66044783, 2.66673731,\n",
       "       2.67302678, 2.67931626, 2.68560573, 2.69189521, 2.69818468,\n",
       "       2.70447416, 2.71076363, 2.71705311, 2.72334258, 2.72963206,\n",
       "       2.73592153, 2.742211  , 2.74850048, 2.75478995, 2.76107943,\n",
       "       2.7673689 , 2.77365838, 2.77994785, 2.78623733, 2.7925268 ,\n",
       "       2.79881628, 2.80510575, 2.81139523, 2.8176847 , 2.82397418,\n",
       "       2.83026365, 2.83655313, 2.8428426 , 2.84913208, 2.85542155,\n",
       "       2.86171103, 2.8680005 , 2.87428998, 2.88057945, 2.88686892,\n",
       "       2.8931584 , 2.89944787, 2.90573735, 2.91202682, 2.9183163 ,\n",
       "       2.92460577, 2.93089525, 2.93718472, 2.9434742 , 2.94976367,\n",
       "       2.95605315, 2.96234262, 2.9686321 , 2.97492157, 2.98121105,\n",
       "       2.98750052, 2.99379   , 3.00007947, 3.00636895, 3.01265842,\n",
       "       3.0189479 , 3.02523737, 3.03152684, 3.03781632, 3.04410579,\n",
       "       3.05039527, 3.05668474, 3.06297422, 3.06926369, 3.07555317,\n",
       "       3.08184264, 3.08813212, 3.09442159, 3.10071107, 3.10700054,\n",
       "       3.11329002, 3.11957949, 3.12586897, 3.13215844, 3.13844792,\n",
       "       3.14473739, 3.15102687, 3.15731634, 3.16360582, 3.16989529,\n",
       "       3.17618476, 3.18247424, 3.18876371, 3.19505319, 3.20134266,\n",
       "       3.20763214, 3.21392161, 3.22021109, 3.22650056, 3.23279004,\n",
       "       3.23907951, 3.24536899, 3.25165846, 3.25794794, 3.26423741,\n",
       "       3.27052689, 3.27681636, 3.28310584, 3.28939531, 3.29568479,\n",
       "       3.30197426, 3.30826374, 3.31455321, 3.32084268, 3.32713216,\n",
       "       3.33342163, 3.33971111, 3.34600058, 3.35229006, 3.35857953,\n",
       "       3.36486901, 3.37115848, 3.37744796, 3.38373743, 3.39002691,\n",
       "       3.39631638, 3.40260586, 3.40889533, 3.41518481, 3.42147428,\n",
       "       3.42776376, 3.43405323, 3.44034271, 3.44663218, 3.45292166,\n",
       "       3.45921113, 3.4655006 , 3.47179008, 3.47807955, 3.48436903,\n",
       "       3.4906585 , 3.49694798, 3.50323745, 3.50952693, 3.5158164 ,\n",
       "       3.52210588, 3.52839535, 3.53468483, 3.5409743 , 3.54726378,\n",
       "       3.55355325, 3.55984273, 3.5661322 , 3.57242168, 3.57871115,\n",
       "       3.58500063, 3.5912901 , 3.59757958, 3.60386905, 3.61015852,\n",
       "       3.616448  , 3.62273747, 3.62902695, 3.63531642, 3.6416059 ,\n",
       "       3.64789537, 3.65418485, 3.66047432, 3.6667638 , 3.67305327,\n",
       "       3.67934275, 3.68563222, 3.6919217 , 3.69821117, 3.70450065,\n",
       "       3.71079012, 3.7170796 , 3.72336907, 3.72965855, 3.73594802,\n",
       "       3.7422375 , 3.74852697, 3.75481644, 3.76110592, 3.76739539,\n",
       "       3.77368487, 3.77997434, 3.78626382, 3.79255329, 3.79884277,\n",
       "       3.80513224, 3.81142172, 3.81771119, 3.82400067, 3.83029014,\n",
       "       3.83657962, 3.84286909, 3.84915857, 3.85544804, 3.86173752,\n",
       "       3.86802699, 3.87431647, 3.88060594, 3.88689542, 3.89318489,\n",
       "       3.89947436, 3.90576384, 3.91205331, 3.91834279, 3.92463226,\n",
       "       3.93092174, 3.93721121, 3.94350069, 3.94979016, 3.95607964,\n",
       "       3.96236911, 3.96865859, 3.97494806, 3.98123754, 3.98752701,\n",
       "       3.99381649, 4.00010596, 4.00639544, 4.01268491, 4.01897439,\n",
       "       4.02526386, 4.03155334, 4.03784281, 4.04413228, 4.05042176,\n",
       "       4.05671123, 4.06300071, 4.06929018, 4.07557966, 4.08186913,\n",
       "       4.08815861, 4.09444808, 4.10073756, 4.10702703, 4.11331651,\n",
       "       4.11960598, 4.12589546, 4.13218493, 4.13847441, 4.14476388,\n",
       "       4.15105336, 4.15734283, 4.16363231, 4.16992178, 4.17621126,\n",
       "       4.18250073, 4.1887902 , 4.19507968, 4.20136915, 4.20765863,\n",
       "       4.2139481 , 4.22023758, 4.22652705, 4.23281653, 4.239106  ,\n",
       "       4.24539548, 4.25168495, 4.25797443, 4.2642639 , 4.27055338,\n",
       "       4.27684285, 4.28313233, 4.2894218 , 4.29571128, 4.30200075,\n",
       "       4.30829023, 4.3145797 , 4.32086918, 4.32715865, 4.33344812,\n",
       "       4.3397376 , 4.34602707, 4.35231655, 4.35860602, 4.3648955 ,\n",
       "       4.37118497, 4.37747445, 4.38376392, 4.3900534 , 4.39634287,\n",
       "       4.40263235, 4.40892182, 4.4152113 , 4.42150077, 4.42779025,\n",
       "       4.43407972, 4.4403692 , 4.44665867, 4.45294815, 4.45923762,\n",
       "       4.4655271 , 4.47181657, 4.47810604, 4.48439552, 4.49068499,\n",
       "       4.49697447, 4.50326394, 4.50955342, 4.51584289, 4.52213237,\n",
       "       4.52842184, 4.53471132, 4.54100079, 4.54729027, 4.55357974,\n",
       "       4.55986922, 4.56615869, 4.57244817, 4.57873764, 4.58502712,\n",
       "       4.59131659, 4.59760607, 4.60389554, 4.61018502, 4.61647449,\n",
       "       4.62276396, 4.62905344, 4.63534291, 4.64163239, 4.64792186,\n",
       "       4.65421134, 4.66050081, 4.66679029, 4.67307976, 4.67936924,\n",
       "       4.68565871, 4.69194819, 4.69823766, 4.70452714, 4.71081661,\n",
       "       4.71710609, 4.72339556, 4.72968504, 4.73597451, 4.74226399,\n",
       "       4.74855346, 4.75484294, 4.76113241, 4.76742188, 4.77371136,\n",
       "       4.78000083, 4.78629031, 4.79257978, 4.79886926, 4.80515873,\n",
       "       4.81144821, 4.81773768, 4.82402716, 4.83031663, 4.83660611,\n",
       "       4.84289558, 4.84918506, 4.85547453, 4.86176401, 4.86805348,\n",
       "       4.87434296, 4.88063243, 4.88692191, 4.89321138, 4.89950086,\n",
       "       4.90579033, 4.9120798 , 4.91836928, 4.92465875, 4.93094823,\n",
       "       4.9372377 , 4.94352718, 4.94981665, 4.95610613, 4.9623956 ,\n",
       "       4.96868508, 4.97497455, 4.98126403, 4.9875535 , 4.99384298,\n",
       "       5.00013245, 5.00642193, 5.0127114 , 5.01900088, 5.02529035,\n",
       "       5.03157983, 5.0378693 , 5.04415878, 5.05044825, 5.05673772,\n",
       "       5.0630272 , 5.06931667, 5.07560615, 5.08189562, 5.0881851 ,\n",
       "       5.09447457, 5.10076405, 5.10705352, 5.113343  , 5.11963247,\n",
       "       5.12592195, 5.13221142, 5.1385009 , 5.14479037, 5.15107985,\n",
       "       5.15736932, 5.1636588 , 5.16994827, 5.17623775, 5.18252722,\n",
       "       5.1888167 , 5.19510617, 5.20139564, 5.20768512, 5.21397459,\n",
       "       5.22026407, 5.22655354, 5.23284302, 5.23913249, 5.24542197,\n",
       "       5.25171144, 5.25800092, 5.26429039, 5.27057987, 5.27686934,\n",
       "       5.28315882, 5.28944829, 5.29573777, 5.30202724, 5.30831672,\n",
       "       5.31460619, 5.32089567, 5.32718514, 5.33347462, 5.33976409,\n",
       "       5.34605356, 5.35234304, 5.35863251, 5.36492199, 5.37121146,\n",
       "       5.37750094, 5.38379041, 5.39007989, 5.39636936, 5.40265884,\n",
       "       5.40894831, 5.41523779, 5.42152726, 5.42781674, 5.43410621,\n",
       "       5.44039569, 5.44668516, 5.45297464, 5.45926411, 5.46555359,\n",
       "       5.47184306, 5.47813254, 5.48442201, 5.49071148, 5.49700096,\n",
       "       5.50329043, 5.50957991, 5.51586938, 5.52215886, 5.52844833,\n",
       "       5.53473781, 5.54102728, 5.54731676, 5.55360623, 5.55989571,\n",
       "       5.56618518, 5.57247466, 5.57876413, 5.58505361, 5.59134308,\n",
       "       5.59763256, 5.60392203, 5.61021151, 5.61650098, 5.62279046,\n",
       "       5.62907993, 5.6353694 , 5.64165888, 5.64794835, 5.65423783,\n",
       "       5.6605273 , 5.66681678, 5.67310625, 5.67939573, 5.6856852 ,\n",
       "       5.69197468, 5.69826415, 5.70455363, 5.7108431 , 5.71713258,\n",
       "       5.72342205, 5.72971153, 5.736001  , 5.74229048, 5.74857995,\n",
       "       5.75486943, 5.7611589 , 5.76744838, 5.77373785, 5.78002732,\n",
       "       5.7863168 , 5.79260627, 5.79889575, 5.80518522, 5.8114747 ,\n",
       "       5.81776417, 5.82405365, 5.83034312, 5.8366326 , 5.84292207,\n",
       "       5.84921155, 5.85550102, 5.8617905 , 5.86807997, 5.87436945,\n",
       "       5.88065892, 5.8869484 , 5.89323787, 5.89952735, 5.90581682,\n",
       "       5.9121063 , 5.91839577, 5.92468524, 5.93097472, 5.93726419,\n",
       "       5.94355367, 5.94984314, 5.95613262, 5.96242209, 5.96871157,\n",
       "       5.97500104, 5.98129052, 5.98757999, 5.99386947, 6.00015894,\n",
       "       6.00644842, 6.01273789, 6.01902737, 6.02531684, 6.03160632,\n",
       "       6.03789579, 6.04418527, 6.05047474, 6.05676422, 6.06305369,\n",
       "       6.06934316, 6.07563264, 6.08192211, 6.08821159, 6.09450106,\n",
       "       6.10079054, 6.10708001, 6.11336949, 6.11965896, 6.12594844,\n",
       "       6.13223791, 6.13852739, 6.14481686, 6.15110634, 6.15739581,\n",
       "       6.16368529, 6.16997476, 6.17626424, 6.18255371, 6.18884319,\n",
       "       6.19513266, 6.20142214, 6.20771161, 6.21400108, 6.22029056,\n",
       "       6.22658003, 6.23286951, 6.23915898, 6.24544846, 6.25173793,\n",
       "       6.25802741, 6.26431688, 6.27060636, 6.27689583, 6.28318531])"
      ]
     },
     "execution_count": 157,
     "metadata": {},
     "output_type": "execute_result"
    }
   ],
   "source": [
    "# linspace 는 많은 수의 점들을 생성\n",
    "x = np.linspace(0, 2*np.pi, 1000)\n",
    "y = np.sin(x)\n"
   ]
  },
  {
   "cell_type": "code",
   "execution_count": 161,
   "id": "7820fff9",
   "metadata": {},
   "outputs": [
    {
     "data": {
      "image/png": "[encoded data removed]",
      "text/plain": [
       "<Figure size 500x400 with 1 Axes>"
      ]
     },
     "metadata": {},
     "output_type": "display_data"
    }
   ],
   "source": [
    "import matplotlib.pyplot as plt\n",
    "plt.figure(figsize=(5,4))\n",
    "plt.plot(x, y)\n",
    "plt.show()\n"
   ]
  },
  {
   "cell_type": "code",
   "execution_count": 162,
   "id": "d3271e5c",
   "metadata": {},
   "outputs": [
    {
     "data": {
      "text/plain": [
       "array([[0.        , 0.10526316, 0.21052632, 0.31578947, 0.42105263,\n",
       "        0.52631579, 0.63157895, 0.73684211, 0.84210526, 0.94736842],\n",
       "       [1.05263158, 1.15789474, 1.26315789, 1.36842105, 1.47368421,\n",
       "        1.57894737, 1.68421053, 1.78947368, 1.89473684, 2.        ]])"
      ]
     },
     "execution_count": 162,
     "metadata": {},
     "output_type": "execute_result"
    }
   ],
   "source": [
    "np.linspace(0, 2, 20).reshape(2, 10)"
   ]
  },
  {
   "cell_type": "code",
   "execution_count": 164,
   "id": "2df1974e",
   "metadata": {},
   "outputs": [
    {
     "data": {
      "text/plain": [
       "array([10, 13, 16, 19, 22, 25, 28], dtype=int8)"
      ]
     },
     "execution_count": 164,
     "metadata": {},
     "output_type": "execute_result"
    }
   ],
   "source": [
    "np.arange(10, 30, 3, dtype=np.int8)"
   ]
  },
  {
   "cell_type": "code",
   "execution_count": 84,
   "id": "192db86d",
   "metadata": {},
   "outputs": [],
   "source": [
    "# 250425"
   ]
  },
  {
   "cell_type": "markdown",
   "id": "075f6ea4",
   "metadata": {},
   "source": [
    "## 2.5 배열의 차원 변경하기\n",
    "- reshape([면수,] 행수, 열수) : -1이 올 수도\n",
    "- resize([면수,] 행수, 열수) : -1 불가\n",
    "- T : 전치행렬로 변환\n",
    "- transpose() : 전치행렬로 변환\n",
    "※ 실행결과가 출력되면 배열이 수정되지 않고, 실행결과가 없으면 배열 수정됨"
   ]
  },
  {
   "cell_type": "code",
   "execution_count": 20,
   "id": "f383488f",
   "metadata": {},
   "outputs": [
    {
     "data": {
      "text/plain": [
       "array([[0.58959298, 0.19120009, 0.36300023],\n",
       "       [0.99915596, 0.56337649, 0.34759104]])"
      ]
     },
     "execution_count": 20,
     "metadata": {},
     "output_type": "execute_result"
    }
   ],
   "source": [
    "a = np.random.random( (2, 3))\n",
    "a"
   ]
  },
  {
   "cell_type": "code",
   "execution_count": 21,
   "id": "cdf69c5d",
   "metadata": {},
   "outputs": [
    {
     "data": {
      "text/plain": [
       "array([[ 6.,  2.,  4.],\n",
       "       [10.,  6.,  3.]])"
      ]
     },
     "execution_count": 21,
     "metadata": {},
     "output_type": "execute_result"
    }
   ],
   "source": [
    "a = np.round(a * 10)  # round : 반오림 / floor : 내림 / ceil : 올림\n",
    "a "
   ]
  },
  {
   "cell_type": "code",
   "execution_count": 22,
   "id": "c5f00f9f",
   "metadata": {},
   "outputs": [
    {
     "data": {
      "text/plain": [
       "array([[ 6.,  2.],\n",
       "       [ 4., 10.],\n",
       "       [ 6.,  3.]])"
      ]
     },
     "execution_count": 22,
     "metadata": {},
     "output_type": "execute_result"
    }
   ],
   "source": [
    "a.reshape(3, 2)"
   ]
  },
  {
   "cell_type": "code",
   "execution_count": 24,
   "id": "d5b3b1d9",
   "metadata": {},
   "outputs": [
    {
     "data": {
      "text/plain": [
       "array([[ 6.,  2.,  4.],\n",
       "       [10.,  6.,  3.]])"
      ]
     },
     "execution_count": 24,
     "metadata": {},
     "output_type": "execute_result"
    }
   ],
   "source": [
    "a.reshape(2, -1) # -1이 주어지면 해당 차원의 크기가 자동 계산 "
   ]
  },
  {
   "cell_type": "code",
   "execution_count": 25,
   "id": "bf1d164b",
   "metadata": {},
   "outputs": [
    {
     "data": {
      "text/plain": [
       "array([[ 6.],\n",
       "       [ 2.],\n",
       "       [ 4.],\n",
       "       [10.],\n",
       "       [ 6.],\n",
       "       [ 3.]])"
      ]
     },
     "execution_count": 25,
     "metadata": {},
     "output_type": "execute_result"
    }
   ],
   "source": [
    "a.reshape(-11, 1)"
   ]
  },
  {
   "cell_type": "code",
   "execution_count": 26,
   "id": "213c2d62",
   "metadata": {},
   "outputs": [
    {
     "data": {
      "text/plain": [
       "array([[ 6.,  2.,  4.],\n",
       "       [10.,  6.,  3.]])"
      ]
     },
     "execution_count": 26,
     "metadata": {},
     "output_type": "execute_result"
    }
   ],
   "source": [
    "a.resize( (2,3)) # 결과를 출력하지 않는 함수는 배열을 바꿈 -1불가\n",
    "a"
   ]
  },
  {
   "cell_type": "code",
   "execution_count": null,
   "id": "779c8794",
   "metadata": {},
   "outputs": [],
   "source": [
    "# 복습"
   ]
  },
  {
   "cell_type": "code",
   "execution_count": 5,
   "id": "87c51aef",
   "metadata": {},
   "outputs": [
    {
     "name": "stdout",
     "output_type": "stream",
     "text": [
      "int32 (2, 3) 2 6 4\n"
     ]
    },
    {
     "data": {
      "text/plain": [
       "array([[1, 2, 3],\n",
       "       [4, 5, 6]])"
      ]
     },
     "execution_count": 5,
     "metadata": {},
     "output_type": "execute_result"
    }
   ],
   "source": [
    "import numpy as np\n",
    "arr = np.array([[1, 2, 3], [4, 5, 6]])\n",
    "print(arr.dtype, arr.shape, arr.ndim, arr.size, arr.itemsize)\n",
    "arr"
   ]
  },
  {
   "cell_type": "code",
   "execution_count": 4,
   "id": "e1c1d085",
   "metadata": {},
   "outputs": [
    {
     "data": {
      "text/plain": [
       "(array([1, 2, 3]),\n",
       " array([[1, 2],\n",
       "        [3, 4],\n",
       "        [5, 6]]))"
      ]
     },
     "execution_count": 4,
     "metadata": {},
     "output_type": "execute_result"
    }
   ],
   "source": [
    "a = np.array([1, 2, 3])\n",
    "b = np.array([[1,2,3],[4,5,6]]).reshape(3, 2)\n",
    "a,b"
   ]
  },
  {
   "cell_type": "code",
   "execution_count": 6,
   "id": "c828c8d7",
   "metadata": {},
   "outputs": [
    {
     "data": {
      "text/plain": [
       "array([[0., 0., 0.],\n",
       "       [0., 0., 0.]])"
      ]
     },
     "execution_count": 6,
     "metadata": {},
     "output_type": "execute_result"
    }
   ],
   "source": [
    "np.ones((2, 3))  # [[1. 1. 1.], [1. 1. 1.]]\n",
    "np.zeros((2, 3)) # [[0. 0. 0.], [0. 0. 0.]]"
   ]
  },
  {
   "cell_type": "code",
   "execution_count": 7,
   "id": "97d7d85e",
   "metadata": {},
   "outputs": [
    {
     "data": {
      "text/plain": [
       "array([[7, 7],\n",
       "       [7, 7]])"
      ]
     },
     "execution_count": 7,
     "metadata": {},
     "output_type": "execute_result"
    }
   ],
   "source": [
    "np.full((2, 2), 7)  # [[7 7], [7 7]]"
   ]
  },
  {
   "cell_type": "code",
   "execution_count": 8,
   "id": "2e42da4a",
   "metadata": {},
   "outputs": [
    {
     "data": {
      "text/plain": [
       "array([[0.00000000e+000, 8.96365528e-312],\n",
       "       [8.96365527e-312, 8.96365528e-312]])"
      ]
     },
     "execution_count": 8,
     "metadata": {},
     "output_type": "execute_result"
    }
   ],
   "source": [
    "np.empty((2, 2))  # [[~, ~], [~, ~]]"
   ]
  },
  {
   "cell_type": "code",
   "execution_count": 9,
   "id": "29b391b8",
   "metadata": {},
   "outputs": [
    {
     "data": {
      "text/plain": [
       "array([[0.87717549, 0.58031619],\n",
       "       [0.77122038, 0.60774706]])"
      ]
     },
     "execution_count": 9,
     "metadata": {},
     "output_type": "execute_result"
    }
   ],
   "source": [
    "np.random.random((2, 2))"
   ]
  },
  {
   "cell_type": "code",
   "execution_count": 10,
   "id": "bcd70ca8",
   "metadata": {},
   "outputs": [
    {
     "data": {
      "text/plain": [
       "array([[18.78870217, 14.11783505],\n",
       "       [13.33530422, 18.39505759]])"
      ]
     },
     "execution_count": 10,
     "metadata": {},
     "output_type": "execute_result"
    }
   ],
   "source": [
    "np.random.uniform(10, 20, (2, 2))"
   ]
  },
  {
   "cell_type": "code",
   "execution_count": 11,
   "id": "55de8151",
   "metadata": {},
   "outputs": [
    {
     "data": {
      "text/plain": [
       "array([[-0.19271943, -0.91002422,  1.53786326],\n",
       "       [-0.07906897, -1.4172166 ,  0.09867659]])"
      ]
     },
     "execution_count": 11,
     "metadata": {},
     "output_type": "execute_result"
    }
   ],
   "source": [
    "np.random.normal(0, 1, (2, 3)) "
   ]
  },
  {
   "cell_type": "code",
   "execution_count": 12,
   "id": "c0ae3f18",
   "metadata": {},
   "outputs": [
    {
     "data": {
      "text/plain": [
       "array([ 1.89379887, -0.35097286, -0.52824494, -0.34498666,  0.49146515])"
      ]
     },
     "execution_count": 12,
     "metadata": {},
     "output_type": "execute_result"
    }
   ],
   "source": [
    "np.random.rand(5)    # [0.2 0.6 0.9 ...]\n",
    "np.random.randn(5)   # [-1.1  0.3  0.9 ...]"
   ]
  },
  {
   "cell_type": "code",
   "execution_count": 13,
   "id": "4927a7a5",
   "metadata": {},
   "outputs": [
    {
     "data": {
      "text/plain": [
       "array([0.  , 0.25, 0.5 , 0.75, 1.  ])"
      ]
     },
     "execution_count": 13,
     "metadata": {},
     "output_type": "execute_result"
    }
   ],
   "source": [
    "np.linspace(0, 1, 5)  # [0.   0.25 0.5  0.75 1.  ]"
   ]
  },
  {
   "cell_type": "code",
   "execution_count": 14,
   "id": "d60b186f",
   "metadata": {},
   "outputs": [
    {
     "data": {
      "text/plain": [
       "array([1, 3, 5, 7, 9])"
      ]
     },
     "execution_count": 14,
     "metadata": {},
     "output_type": "execute_result"
    }
   ],
   "source": [
    "np.arange(1, 10, 2)  # [1 3 5 7 9]"
   ]
  },
  {
   "cell_type": "code",
   "execution_count": 15,
   "id": "03cd10ae",
   "metadata": {},
   "outputs": [
    {
     "data": {
      "text/plain": [
       "array([1, 2, 3, 4])"
      ]
     },
     "execution_count": 15,
     "metadata": {},
     "output_type": "execute_result"
    }
   ],
   "source": [
    "a = np.array([[1, 2], [3, 4]])\n",
    "a.reshape(4,)       # [1 2 3 4]\n",
    "a.ravel()           # [1 2 3 4]\n",
    "a.flatten()         # [1 2 3 4]"
   ]
  },
  {
   "cell_type": "code",
   "execution_count": null,
   "id": "ed9ac36a",
   "metadata": {},
   "outputs": [],
   "source": [
    "# == 복습 요까지 =="
   ]
  },
  {
   "cell_type": "code",
   "execution_count": 17,
   "id": "655976ad",
   "metadata": {
    "scrolled": true
   },
   "outputs": [
    {
     "data": {
      "text/html": [
       "<div>\n",
       "<style scoped>\n",
       "    .dataframe tbody tr th:only-of-type {\n",
       "        vertical-align: middle;\n",
       "    }\n",
       "\n",
       "    .dataframe tbody tr th {\n",
       "        vertical-align: top;\n",
       "    }\n",
       "\n",
       "    .dataframe thead th {\n",
       "        text-align: right;\n",
       "    }\n",
       "</style>\n",
       "<table border=\"1\" class=\"dataframe\">\n",
       "  <thead>\n",
       "    <tr style=\"text-align: right;\">\n",
       "      <th></th>\n",
       "      <th>sepal_length</th>\n",
       "      <th>sepal_width</th>\n",
       "      <th>petal_length</th>\n",
       "      <th>petal_width</th>\n",
       "      <th>species</th>\n",
       "    </tr>\n",
       "  </thead>\n",
       "  <tbody>\n",
       "    <tr>\n",
       "      <th>0</th>\n",
       "      <td>5.1</td>\n",
       "      <td>3.5</td>\n",
       "      <td>1.4</td>\n",
       "      <td>0.2</td>\n",
       "      <td>setosa</td>\n",
       "    </tr>\n",
       "    <tr>\n",
       "      <th>25</th>\n",
       "      <td>5.0</td>\n",
       "      <td>3.0</td>\n",
       "      <td>1.6</td>\n",
       "      <td>0.2</td>\n",
       "      <td>setosa</td>\n",
       "    </tr>\n",
       "    <tr>\n",
       "      <th>50</th>\n",
       "      <td>7.0</td>\n",
       "      <td>3.2</td>\n",
       "      <td>4.7</td>\n",
       "      <td>1.4</td>\n",
       "      <td>versicolor</td>\n",
       "    </tr>\n",
       "    <tr>\n",
       "      <th>75</th>\n",
       "      <td>6.6</td>\n",
       "      <td>3.0</td>\n",
       "      <td>4.4</td>\n",
       "      <td>1.4</td>\n",
       "      <td>versicolor</td>\n",
       "    </tr>\n",
       "    <tr>\n",
       "      <th>100</th>\n",
       "      <td>6.3</td>\n",
       "      <td>3.3</td>\n",
       "      <td>6.0</td>\n",
       "      <td>2.5</td>\n",
       "      <td>virginica</td>\n",
       "    </tr>\n",
       "    <tr>\n",
       "      <th>125</th>\n",
       "      <td>7.2</td>\n",
       "      <td>3.2</td>\n",
       "      <td>6.0</td>\n",
       "      <td>1.8</td>\n",
       "      <td>virginica</td>\n",
       "    </tr>\n",
       "  </tbody>\n",
       "</table>\n",
       "</div>"
      ],
      "text/plain": [
       "     sepal_length  sepal_width  petal_length  petal_width     species\n",
       "0             5.1          3.5           1.4          0.2      setosa\n",
       "25            5.0          3.0           1.6          0.2      setosa\n",
       "50            7.0          3.2           4.7          1.4  versicolor\n",
       "75            6.6          3.0           4.4          1.4  versicolor\n",
       "100           6.3          3.3           6.0          2.5   virginica\n",
       "125           7.2          3.2           6.0          1.8   virginica"
      ]
     },
     "execution_count": 17,
     "metadata": {},
     "output_type": "execute_result"
    }
   ],
   "source": [
    "import seaborn as sns\n",
    "sns.load_dataset('iris')[::25]"
   ]
  },
  {
   "cell_type": "code",
   "execution_count": 2,
   "id": "31598c02",
   "metadata": {},
   "outputs": [],
   "source": [
    "import numpy as np"
   ]
  },
  {
   "cell_type": "code",
   "execution_count": 27,
   "id": "544b9615",
   "metadata": {},
   "outputs": [
    {
     "data": {
      "text/plain": [
       "array([[ 6., 10.],\n",
       "       [ 2.,  6.],\n",
       "       [ 4.,  3.]])"
      ]
     },
     "execution_count": 27,
     "metadata": {},
     "output_type": "execute_result"
    }
   ],
   "source": [
    "a.T # 전치행렬(행과 열이 뒤바뀐 행렬)"
   ]
  },
  {
   "cell_type": "code",
   "execution_count": 29,
   "id": "068c319e",
   "metadata": {},
   "outputs": [
    {
     "data": {
      "text/plain": [
       "array([[ 6., 10.],\n",
       "       [ 2.,  6.],\n",
       "       [ 4.,  3.]])"
      ]
     },
     "execution_count": 29,
     "metadata": {},
     "output_type": "execute_result"
    }
   ],
   "source": [
    "a.transpose() # 전치행렬 a.T 와  동일함"
   ]
  },
  {
   "cell_type": "markdown",
   "id": "d8d3ff48",
   "metadata": {},
   "source": [
    "## 2.6 배열 인쇄"
   ]
  },
  {
   "cell_type": "code",
   "execution_count": 33,
   "id": "1f24bd6c",
   "metadata": {},
   "outputs": [
    {
     "data": {
      "text/plain": [
       "array([   0,    1,    2, ...,  998,  999, 1000])"
      ]
     },
     "execution_count": 33,
     "metadata": {},
     "output_type": "execute_result"
    }
   ],
   "source": [
    "np.arange(1001)"
   ]
  },
  {
   "cell_type": "code",
   "execution_count": 34,
   "id": "45891b28",
   "metadata": {},
   "outputs": [
    {
     "name": "stdout",
     "output_type": "stream",
     "text": [
      "[   0    1    2 ...  998  999 1000]\n"
     ]
    }
   ],
   "source": [
    "## 배열이 커서 출력이 안될 경우\n",
    "print(np.arange(1001))"
   ]
  },
  {
   "cell_type": "code",
   "execution_count": 35,
   "id": "af1aaa34",
   "metadata": {},
   "outputs": [
    {
     "data": {
      "text/plain": [
       "array([[   0,    1,    2, ...,   97,   98,   99],\n",
       "       [ 100,  101,  102, ...,  197,  198,  199],\n",
       "       [ 200,  201,  202, ...,  297,  298,  299],\n",
       "       ...,\n",
       "       [9700, 9701, 9702, ..., 9797, 9798, 9799],\n",
       "       [9800, 9801, 9802, ..., 9897, 9898, 9899],\n",
       "       [9900, 9901, 9902, ..., 9997, 9998, 9999]])"
      ]
     },
     "execution_count": 35,
     "metadata": {},
     "output_type": "execute_result"
    }
   ],
   "source": [
    "# np.arange(10000).reshape(100,100)"
   ]
  },
  {
   "cell_type": "code",
   "execution_count": 43,
   "id": "c7338689",
   "metadata": {},
   "outputs": [],
   "source": [
    "# 배열 출력 옵션 변경(인쇄할 사이즈를 10000, 최대치, 무한대 변경)\n",
    "import sys # 최대치 : sys.maxsize\n",
    "np.set_printoptions(threshold=sys.maxsize)\n",
    "np.set_printoptions(threshold=np.inf) # 무한대 그러나 잘 사용하지 않고 위에 maxsize를 많이 씀\n",
    "# 커널 재시작시 thershold값 복귀"
   ]
  },
  {
   "cell_type": "code",
   "execution_count": 42,
   "id": "ddf64150",
   "metadata": {},
   "outputs": [
    {
     "data": {
      "text/plain": [
       "9223372036854775807"
      ]
     },
     "execution_count": 42,
     "metadata": {},
     "output_type": "execute_result"
    }
   ],
   "source": [
    "sys.maxsize"
   ]
  },
  {
   "cell_type": "markdown",
   "id": "9b4b254c",
   "metadata": {},
   "source": [
    "## 2.7 기본 연산 동작\n",
    "### 1) 배열"
   ]
  },
  {
   "cell_type": "code",
   "execution_count": 48,
   "id": "ecf0baae",
   "metadata": {},
   "outputs": [
    {
     "data": {
      "text/plain": [
       "[1, 2, 3, 1, 2, 3, 1, 2, 3]"
      ]
     },
     "execution_count": 48,
     "metadata": {},
     "output_type": "execute_result"
    }
   ],
   "source": [
    "l = [1,2,3]\n",
    "l * 3"
   ]
  },
  {
   "cell_type": "code",
   "execution_count": 52,
   "id": "2ad0660d",
   "metadata": {},
   "outputs": [
    {
     "data": {
      "text/plain": [
       "array([3, 6, 9])"
      ]
     },
     "execution_count": 52,
     "metadata": {},
     "output_type": "execute_result"
    }
   ],
   "source": [
    "l = np.array([1,2,3])\n",
    "n = 3\n",
    "l*3"
   ]
  },
  {
   "cell_type": "code",
   "execution_count": 3,
   "id": "9860b2d9",
   "metadata": {},
   "outputs": [
    {
     "name": "stdout",
     "output_type": "stream",
     "text": [
      "[10 20 30 40] int8\n",
      "[0 1 2 3] int32\n"
     ]
    }
   ],
   "source": [
    "a = np.array([10, 20, 30, 40], dtype=np.int8)\n",
    "b = np.arange(4)\n",
    "print(a, a.dtype)\n",
    "print(b, b.dtype)"
   ]
  },
  {
   "cell_type": "code",
   "execution_count": 4,
   "id": "c06d49bd",
   "metadata": {},
   "outputs": [
    {
     "data": {
      "text/plain": [
       "(array([10, 21, 32, 43]), dtype('int32'))"
      ]
     },
     "execution_count": 4,
     "metadata": {},
     "output_type": "execute_result"
    }
   ],
   "source": [
    "c = a + b\n",
    "c, c.dtype"
   ]
  },
  {
   "cell_type": "code",
   "execution_count": 5,
   "id": "e4e7157f",
   "metadata": {},
   "outputs": [
    {
     "data": {
      "text/plain": [
       "array([10, 21, 32, 43], dtype=int8)"
      ]
     },
     "execution_count": 5,
     "metadata": {},
     "output_type": "execute_result"
    }
   ],
   "source": [
    "a += b  # a = a + b\n",
    "a"
   ]
  },
  {
   "cell_type": "code",
   "execution_count": 8,
   "id": "d1a84437",
   "metadata": {},
   "outputs": [
    {
     "data": {
      "text/plain": [
       "(array([10, 24, 38, 52]), dtype('int32'))"
      ]
     },
     "execution_count": 8,
     "metadata": {},
     "output_type": "execute_result"
    }
   ],
   "source": [
    "a = a + b\n",
    "a, a.dtype"
   ]
  },
  {
   "cell_type": "code",
   "execution_count": 9,
   "id": "70b76de6",
   "metadata": {},
   "outputs": [
    {
     "name": "stdout",
     "output_type": "stream",
     "text": [
      "[10 20 30 40] int8\n",
      "[0 1 2 3] int32\n"
     ]
    }
   ],
   "source": [
    "a = np.array([10, 20, 30, 40], dtype=np.int8)\n",
    "b = np.arange(4)\n",
    "print(a, a.dtype)\n",
    "print(b, b.dtype)"
   ]
  },
  {
   "cell_type": "code",
   "execution_count": 10,
   "id": "144740ea",
   "metadata": {},
   "outputs": [
    {
     "data": {
      "text/plain": [
       "array([    1,    20,   900, 64000], dtype=int32)"
      ]
     },
     "execution_count": 10,
     "metadata": {},
     "output_type": "execute_result"
    }
   ],
   "source": [
    "a ** b # ** 승연산자로 a의 b승"
   ]
  },
  {
   "cell_type": "code",
   "execution_count": 13,
   "id": "b4f2a6b5",
   "metadata": {},
   "outputs": [
    {
     "data": {
      "text/plain": [
       "array([ True,  True, False, False])"
      ]
     },
     "execution_count": 13,
     "metadata": {},
     "output_type": "execute_result"
    }
   ],
   "source": [
    "a < 30"
   ]
  },
  {
   "cell_type": "code",
   "execution_count": 15,
   "id": "a9bfe55c",
   "metadata": {},
   "outputs": [
    {
     "name": "stdout",
     "output_type": "stream",
     "text": [
      "[10 20]\n",
      "[10 20]\n"
     ]
    }
   ],
   "source": [
    "print(a[ [True, True, False, False] ])\n",
    "print(a[a<30])"
   ]
  },
  {
   "cell_type": "code",
   "execution_count": 17,
   "id": "a86711e8",
   "metadata": {},
   "outputs": [
    {
     "name": "stdout",
     "output_type": "stream",
     "text": [
      "[10 20 30 40]\n",
      "[0 1 2 3]\n"
     ]
    },
    {
     "data": {
      "text/plain": [
       "array([  0,  20,  60, 120])"
      ]
     },
     "execution_count": 17,
     "metadata": {},
     "output_type": "execute_result"
    }
   ],
   "source": [
    "print(a)\n",
    "print(b)\n",
    "a * b"
   ]
  },
  {
   "cell_type": "markdown",
   "id": "4f07323d",
   "metadata": {},
   "source": [
    "### 2) 행렬(2차원 배열)의 곱(@, dot함수)\n",
    "cf *(요소별 곱)"
   ]
  },
  {
   "cell_type": "code",
   "execution_count": 25,
   "id": "06517af3",
   "metadata": {},
   "outputs": [
    {
     "data": {
      "text/plain": [
       "((array([[1, 2],\n",
       "         [0, 1]]),),\n",
       " array([[2, 0],\n",
       "        [3, 4]]))"
      ]
     },
     "execution_count": 25,
     "metadata": {},
     "output_type": "execute_result"
    }
   ],
   "source": [
    "a = np.array([[1, 2],\n",
    "             [0, 1]]),\n",
    "b = np.array([[2, 0],\n",
    "             [3, 4]])\n",
    "a, b"
   ]
  },
  {
   "cell_type": "code",
   "execution_count": 19,
   "id": "f8337fd9",
   "metadata": {},
   "outputs": [
    {
     "data": {
      "text/plain": [
       "array([[[2, 0],\n",
       "        [0, 4]]])"
      ]
     },
     "execution_count": 19,
     "metadata": {},
     "output_type": "execute_result"
    }
   ],
   "source": [
    "a * b"
   ]
  },
  {
   "cell_type": "code",
   "execution_count": 20,
   "id": "e6711bc3",
   "metadata": {},
   "outputs": [
    {
     "data": {
      "text/plain": [
       "array([[[8, 8],\n",
       "        [3, 4]]])"
      ]
     },
     "execution_count": 20,
     "metadata": {},
     "output_type": "execute_result"
    }
   ],
   "source": [
    "a @ b"
   ]
  },
  {
   "cell_type": "code",
   "execution_count": 23,
   "id": "9d00da08",
   "metadata": {},
   "outputs": [
    {
     "data": {
      "text/plain": [
       "array([[1., 0., 0.],\n",
       "       [0., 1., 0.],\n",
       "       [0., 0., 1.]])"
      ]
     },
     "execution_count": 23,
     "metadata": {},
     "output_type": "execute_result"
    }
   ],
   "source": [
    "np.eye(3) # 단위행렬"
   ]
  },
  {
   "cell_type": "code",
   "execution_count": 29,
   "id": "d6716cc9",
   "metadata": {},
   "outputs": [
    {
     "name": "stdout",
     "output_type": "stream",
     "text": [
      "요소별 곱 a*b= \n",
      "[[[2 0]\n",
      "  [0 4]]]\n",
      "행렬곱 a @ b = \n",
      "[[[8 8]\n",
      "  [3 4]]]\n"
     ]
    },
    {
     "ename": "AttributeError",
     "evalue": "'tuple' object has no attribute 'dot'",
     "output_type": "error",
     "traceback": [
      "\u001b[1;31m---------------------------------------------------------------------------\u001b[0m",
      "\u001b[1;31mAttributeError\u001b[0m                            Traceback (most recent call last)",
      "Cell \u001b[1;32mIn[29], line 3\u001b[0m\n\u001b[0;32m      1\u001b[0m \u001b[38;5;28mprint\u001b[39m(\u001b[38;5;124m'\u001b[39m\u001b[38;5;124m요소별 곱 a*b= \u001b[39m\u001b[38;5;124m'\u001b[39m, a\u001b[38;5;241m*\u001b[39mb, sep\u001b[38;5;241m=\u001b[39m\u001b[38;5;124m'\u001b[39m\u001b[38;5;130;01m\\n\u001b[39;00m\u001b[38;5;124m'\u001b[39m)\n\u001b[0;32m      2\u001b[0m \u001b[38;5;28mprint\u001b[39m(\u001b[38;5;124m'\u001b[39m\u001b[38;5;124m행렬곱 a @ b = \u001b[39m\u001b[38;5;124m'\u001b[39m, a \u001b[38;5;241m@\u001b[39m b, sep\u001b[38;5;241m=\u001b[39m\u001b[38;5;124m'\u001b[39m\u001b[38;5;130;01m\\n\u001b[39;00m\u001b[38;5;124m'\u001b[39m)\n\u001b[1;32m----> 3\u001b[0m \u001b[38;5;28mprint\u001b[39m(\u001b[38;5;124m'\u001b[39m\u001b[38;5;124m행렬곱 a.dot(b) = \u001b[39m\u001b[38;5;124m'\u001b[39m, \u001b[43ma\u001b[49m\u001b[38;5;241;43m.\u001b[39;49m\u001b[43mdot\u001b[49m(b), sep\u001b[38;5;241m=\u001b[39m\u001b[38;5;124m'\u001b[39m\u001b[38;5;130;01m\\n\u001b[39;00m\u001b[38;5;124m'\u001b[39m)\n",
      "\u001b[1;31mAttributeError\u001b[0m: 'tuple' object has no attribute 'dot'"
     ]
    }
   ],
   "source": [
    "print('요소별 곱 a*b= ', a*b, sep='\\n')\n",
    "print('행렬곱 a @ b = ', a @ b, sep='\\n')\n",
    "print('행렬곱 a.dot(b) = ', a.dot(b), sep='\\n')"
   ]
  },
  {
   "cell_type": "code",
   "execution_count": 28,
   "id": "c844441b",
   "metadata": {},
   "outputs": [
    {
     "data": {
      "text/plain": [
       "array([[1., 0., 0.],\n",
       "       [0., 1., 0.],\n",
       "       [0., 0., 1.]])"
      ]
     },
     "execution_count": 28,
     "metadata": {},
     "output_type": "execute_result"
    }
   ],
   "source": [
    "# 2횅 2열의 단위행렬 : np.eye(n) : A@단위행렬=A\n",
    "np.eye(3)"
   ]
  },
  {
   "cell_type": "markdown",
   "id": "637ad054",
   "metadata": {},
   "source": [
    "### 3) 복합 대입연산자 사용\n",
    "- 배열에서는 a=a+b와 a+=b 다소 다르게 작동"
   ]
  },
  {
   "cell_type": "code",
   "execution_count": 34,
   "id": "44e277c1",
   "metadata": {},
   "outputs": [
    {
     "data": {
      "text/plain": [
       "array([[1, 1, 1],\n",
       "       [1, 1, 1]])"
      ]
     },
     "execution_count": 34,
     "metadata": {},
     "output_type": "execute_result"
    }
   ],
   "source": [
    "a = np.ones( (2, 3), dtype=int ) # 2행 3열 int32배열\n",
    "a"
   ]
  },
  {
   "cell_type": "code",
   "execution_count": 38,
   "id": "1a447968",
   "metadata": {},
   "outputs": [
    {
     "data": {
      "text/plain": [
       "array([[0.1775084 , 0.25306044, 0.82077202],\n",
       "       [0.79447788, 0.33193193, 0.59720726]])"
      ]
     },
     "execution_count": 38,
     "metadata": {},
     "output_type": "execute_result"
    }
   ],
   "source": [
    "b = np.random.random( (2, 3)) # 2행 3열짜리 float64 배열\n",
    "b"
   ]
  },
  {
   "cell_type": "code",
   "execution_count": 39,
   "id": "a5f9bd41",
   "metadata": {},
   "outputs": [
    {
     "ename": "UFuncTypeError",
     "evalue": "Cannot cast ufunc 'add' output from dtype('float64') to dtype('int32') with casting rule 'same_kind'",
     "output_type": "error",
     "traceback": [
      "\u001b[1;31m---------------------------------------------------------------------------\u001b[0m",
      "\u001b[1;31mUFuncTypeError\u001b[0m                            Traceback (most recent call last)",
      "Cell \u001b[1;32mIn[39], line 1\u001b[0m\n\u001b[1;32m----> 1\u001b[0m a \u001b[38;5;241m+\u001b[39m\u001b[38;5;241m=\u001b[39m b\n",
      "\u001b[1;31mUFuncTypeError\u001b[0m: Cannot cast ufunc 'add' output from dtype('float64') to dtype('int32') with casting rule 'same_kind'"
     ]
    }
   ],
   "source": [
    "a += b "
   ]
  },
  {
   "cell_type": "code",
   "execution_count": 40,
   "id": "1271ed88",
   "metadata": {},
   "outputs": [],
   "source": [
    "b += a"
   ]
  },
  {
   "cell_type": "code",
   "execution_count": 41,
   "id": "7b62c6b0",
   "metadata": {},
   "outputs": [
    {
     "data": {
      "text/plain": [
       "array([[2.1775084 , 2.25306044, 2.82077202],\n",
       "       [2.79447788, 2.33193193, 2.59720726]])"
      ]
     },
     "execution_count": 41,
     "metadata": {},
     "output_type": "execute_result"
    }
   ],
   "source": [
    "a = a + b # a + b를 새로운 변수 a 할당\n",
    "a"
   ]
  },
  {
   "cell_type": "markdown",
   "id": "c4f9b114",
   "metadata": {},
   "source": [
    "### 4) 배열 요소별 집계\n",
    "- sum, min, max, mean, var(분산), std(표준편자)"
   ]
  },
  {
   "cell_type": "code",
   "execution_count": 46,
   "id": "00ceac52",
   "metadata": {},
   "outputs": [
    {
     "data": {
      "text/plain": [
       "array([[2, 2, 2, 3],\n",
       "       [4, 3, 2, 1]])"
      ]
     },
     "execution_count": 46,
     "metadata": {},
     "output_type": "execute_result"
    }
   ],
   "source": [
    "a = np.array([[2, 2, 2, 3],\n",
    "             [4, 3, 2, 1]])\n",
    "a\n",
    "             "
   ]
  },
  {
   "cell_type": "code",
   "execution_count": 48,
   "id": "c43b0300",
   "metadata": {},
   "outputs": [
    {
     "name": "stdout",
     "output_type": "stream",
     "text": [
      "전체합:  19 19\n",
      "전체최소:  1 1\n",
      "전체최대:  4 4\n",
      "전체평균:  2.375 2.375\n",
      "전체분산:  0.734375 0.734375\n",
      "전체표준편차:  0.8569568250501305 0.8569568250501305\n"
     ]
    }
   ],
   "source": [
    "print('전체합: ', np.sum(a), a.sum())\n",
    "print('전체최소: ', np.min(a), a.min())\n",
    "print('전체최대: ', np.max(a), a.max())\n",
    "print('전체평균: ', np.mean(a), a.mean())\n",
    "print('전체분산: ', np.var(a), a.var())\n",
    "print('전체표준편차: ', np.std(a), a.std())\n"
   ]
  },
  {
   "cell_type": "markdown",
   "id": "b97ab313",
   "metadata": {},
   "source": [
    "### 5) 배열 축별 집계\n",
    "- sum, min, max, mean, var(분산), std(표준편자), argmax(최대값의 인덱스)"
   ]
  },
  {
   "cell_type": "code",
   "execution_count": 49,
   "id": "0cccae61",
   "metadata": {},
   "outputs": [
    {
     "data": {
      "text/plain": [
       "array([[2, 2, 2, 3],\n",
       "       [4, 3, 2, 1]])"
      ]
     },
     "execution_count": 49,
     "metadata": {},
     "output_type": "execute_result"
    }
   ],
   "source": [
    "a"
   ]
  },
  {
   "cell_type": "code",
   "execution_count": 54,
   "id": "3f5b6431",
   "metadata": {},
   "outputs": [
    {
     "name": "stdout",
     "output_type": "stream",
     "text": [
      "a의 행별 합 :  [ 9 10] [ 9 10]\n"
     ]
    }
   ],
   "source": [
    "# axis =1 : 0축을 고정으로 1축(열)들의 합\n",
    "print('a의 행별 합 : ', a.sum(axis=1), np.sum(a, axis=1))"
   ]
  },
  {
   "cell_type": "code",
   "execution_count": 56,
   "id": "61d59b3a",
   "metadata": {},
   "outputs": [
    {
     "name": "stdout",
     "output_type": "stream",
     "text": [
      "a의 열별 합 [6 5 4 4] [6 5 4 4]\n"
     ]
    }
   ],
   "source": [
    "# axis = 0 : 1축을 고정으로 09축(행)들의 합\n",
    "print('a의 열별 합:', a.sum(axis=0), np.sum(a, axis=0))"
   ]
  },
  {
   "cell_type": "code",
   "execution_count": 59,
   "id": "f2d7f64a",
   "metadata": {},
   "outputs": [
    {
     "name": "stdout",
     "output_type": "stream",
     "text": [
      "a 의 행별 최대값 위치 : [3 0] [3 0]\n"
     ]
    }
   ],
   "source": [
    "print('a 의 행별 최대값 위치 :', a.argmax(axis=1), np.argmax(a, axis=1))"
   ]
  },
  {
   "cell_type": "code",
   "execution_count": 62,
   "id": "2363dc2e",
   "metadata": {},
   "outputs": [
    {
     "data": {
      "text/plain": [
       "(array([[[ 0,  1,  2,  3],\n",
       "         [ 4,  5,  6,  7],\n",
       "         [ 8,  9, 10, 11]],\n",
       " \n",
       "        [[12, 13, 14, 15],\n",
       "         [16, 17, 18, 19],\n",
       "         [20, 21, 22, 23]]]),\n",
       " 3)"
      ]
     },
     "execution_count": 62,
     "metadata": {},
     "output_type": "execute_result"
    }
   ],
   "source": [
    "# 3차원 배열의 축별 집계\n",
    "b = np.arange(24).reshape(2,3,4) # 2면 3행 4열\n",
    "b, b.ndim"
   ]
  },
  {
   "cell_type": "code",
   "execution_count": 67,
   "id": "257320f6",
   "metadata": {},
   "outputs": [
    {
     "data": {
      "text/plain": [
       "(array([[12, 14, 16, 18],\n",
       "        [20, 22, 24, 26],\n",
       "        [28, 30, 32, 34]]),\n",
       " array([[12, 14, 16, 18],\n",
       "        [20, 22, 24, 26],\n",
       "        [28, 30, 32, 34]]))"
      ]
     },
     "execution_count": 67,
     "metadata": {},
     "output_type": "execute_result"
    }
   ],
   "source": [
    "# axis = 0 : 1축과 2축 고정ㅎ고 0축(0면, 1면)들의 합\n",
    "b.sum(axis=0),np.sum(b, axis=0)"
   ]
  },
  {
   "cell_type": "code",
   "execution_count": 68,
   "id": "91e65a59",
   "metadata": {},
   "outputs": [
    {
     "data": {
      "text/plain": [
       "array([[12, 15, 18, 21],\n",
       "       [48, 51, 54, 57]])"
      ]
     },
     "execution_count": 68,
     "metadata": {},
     "output_type": "execute_result"
    }
   ],
   "source": [
    "# axis = 1 : 0축, 2축은 고정하고 1축(0행, 1행, 2행)들의 합\n",
    "b.sum(axis=1)"
   ]
  },
  {
   "cell_type": "code",
   "execution_count": 69,
   "id": "22bcb864",
   "metadata": {},
   "outputs": [
    {
     "data": {
      "text/plain": [
       "array([[ 6, 22, 38],\n",
       "       [54, 70, 86]])"
      ]
     },
     "execution_count": 69,
     "metadata": {},
     "output_type": "execute_result"
    }
   ],
   "source": [
    "b.sum(axis=2)"
   ]
  },
  {
   "cell_type": "markdown",
   "id": "30b7fe53",
   "metadata": {},
   "source": [
    "## 2.8 그외 요소별 계산하는 범용 함수들\n",
    "- 메모리나 시간을 효율적으로 사용할 수 있음\n",
    "- np.add(A, B, C) : C = np.add(A, B) C = A + B\n",
    "- np.subtract(A, B, C) : C = np.subtract(A, B) C = A - B\n",
    "- np.multiply(A, B, C) : C = np.multiply(A, B) C = A * B\n",
    "- np.sqrt(배열) ; 요소별 제곱근 cf. math.sqrt(스칼라값)"
   ]
  },
  {
   "cell_type": "code",
   "execution_count": 78,
   "id": "a75bdf57",
   "metadata": {},
   "outputs": [
    {
     "name": "stdout",
     "output_type": "stream",
     "text": [
      "CPU times: total: 0 ns\n",
      "Wall time: 0 ns\n"
     ]
    },
    {
     "data": {
      "text/plain": [
       "array([4, 6])"
      ]
     },
     "execution_count": 78,
     "metadata": {},
     "output_type": "execute_result"
    }
   ],
   "source": [
    "%time\n",
    "a = np.array([1,2])\n",
    "b = np.array([3, 4])\n",
    "c = a + b\n",
    "c"
   ]
  },
  {
   "cell_type": "code",
   "execution_count": 79,
   "id": "8d2f522b",
   "metadata": {},
   "outputs": [
    {
     "data": {
      "text/plain": [
       "array([4, 6])"
      ]
     },
     "execution_count": 79,
     "metadata": {},
     "output_type": "execute_result"
    }
   ],
   "source": [
    "np.add(a, b, c)"
   ]
  },
  {
   "cell_type": "code",
   "execution_count": 81,
   "id": "6dd62eb4",
   "metadata": {},
   "outputs": [
    {
     "data": {
      "text/plain": [
       "array([4, 6])"
      ]
     },
     "execution_count": 81,
     "metadata": {},
     "output_type": "execute_result"
    }
   ],
   "source": [
    "c = np.add(a, b)\n",
    "c"
   ]
  },
  {
   "cell_type": "code",
   "execution_count": 83,
   "id": "cbdbeac0",
   "metadata": {},
   "outputs": [
    {
     "data": {
      "text/plain": [
       "(array([1, 2]), array([1.        , 1.41421356]), 2.0)"
      ]
     },
     "execution_count": 83,
     "metadata": {},
     "output_type": "execute_result"
    }
   ],
   "source": [
    "# np.sqrt(배열 또는 스칼라값) math.sqrt(스칼라)\n",
    "a, np.sqrt(a), np.sqrt(4)"
   ]
  },
  {
   "cell_type": "code",
   "execution_count": 87,
   "id": "0fdc69cb",
   "metadata": {},
   "outputs": [
    {
     "ename": "TypeError",
     "evalue": "only size-1 arrays can be converted to Python scalars",
     "output_type": "error",
     "traceback": [
      "\u001b[1;31m---------------------------------------------------------------------------\u001b[0m",
      "\u001b[1;31mTypeError\u001b[0m                                 Traceback (most recent call last)",
      "Cell \u001b[1;32mIn[87], line 3\u001b[0m\n\u001b[0;32m      1\u001b[0m \u001b[38;5;28;01mimport\u001b[39;00m \u001b[38;5;21;01mmath\u001b[39;00m\n\u001b[0;32m      2\u001b[0m math\u001b[38;5;241m.\u001b[39msqrt(\u001b[38;5;241m4\u001b[39m)\n\u001b[1;32m----> 3\u001b[0m \u001b[43mmath\u001b[49m\u001b[38;5;241;43m.\u001b[39;49m\u001b[43msqrt\u001b[49m\u001b[43m(\u001b[49m\u001b[43ma\u001b[49m\u001b[43m)\u001b[49m\n",
      "\u001b[1;31mTypeError\u001b[0m: only size-1 arrays can be converted to Python scalars"
     ]
    }
   ],
   "source": [
    "import math\n",
    "math.sqrt(4)\n",
    "math.sqrt(a)"
   ]
  },
  {
   "cell_type": "markdown",
   "id": "2f5aefa9",
   "metadata": {},
   "source": [
    "## 2.9 브로드 케이스팅\n",
    "- 서로 다른 크기의 배열간 연산을 수행할 수 있도록 해주는 강력한 기능\n"
   ]
  },
  {
   "cell_type": "code",
   "execution_count": 90,
   "id": "b19945e5",
   "metadata": {},
   "outputs": [
    {
     "name": "stdout",
     "output_type": "stream",
     "text": [
      "[11 12 13]\n",
      "[11 12 13]\n"
     ]
    }
   ],
   "source": [
    "# 1 차원 배열\n",
    "a = np.array([1,2,3])\n",
    "b = 10\n",
    "print(a + b)\n",
    "print(np.add(a, b))"
   ]
  },
  {
   "cell_type": "code",
   "execution_count": 94,
   "id": "74dd11cb",
   "metadata": {},
   "outputs": [
    {
     "name": "stdout",
     "output_type": "stream",
     "text": [
      "[11 12 13]\n",
      "[11 12 13]\n"
     ]
    }
   ],
   "source": [
    "# 1차원 배열의 브로드캐스팅\n",
    "a = np.array([1,2,3])\n",
    "b = np.array([10])\n",
    "print(a + b)\n",
    "print(np.add(a, b))"
   ]
  },
  {
   "cell_type": "code",
   "execution_count": 4,
   "id": "3d91ee5c",
   "metadata": {},
   "outputs": [
    {
     "data": {
      "text/plain": [
       "array([[ 1,  2,  3],\n",
       "       [11, 12, 13],\n",
       "       [21, 22, 23],\n",
       "       [31, 32, 33]])"
      ]
     },
     "execution_count": 4,
     "metadata": {},
     "output_type": "execute_result"
    }
   ],
   "source": [
    "# 2차원 배열의 브로드캐스팅\n",
    "import numpy as np\n",
    "a = np.array([[0,0,0],\n",
    "             [10,10,10],\n",
    "             [20,20,20],\n",
    "             [30,30,30]]) # 4행 3열\n",
    "b = np.array([1,2,3]) # 3열\n",
    "a + b"
   ]
  },
  {
   "cell_type": "code",
   "execution_count": 12,
   "id": "0f0acfbc",
   "metadata": {},
   "outputs": [
    {
     "data": {
      "text/plain": [
       "array([[ 1,  1,  1],\n",
       "       [12, 12, 12],\n",
       "       [23, 23, 23],\n",
       "       [34, 34, 34]])"
      ]
     },
     "execution_count": 12,
     "metadata": {},
     "output_type": "execute_result"
    }
   ],
   "source": [
    "# 2차원 배열의 브로드캐스팅\n",
    "import numpy as np\n",
    "a = np.array([[0,0,0],\n",
    "             [10,10,10],\n",
    "             [20,20,20],\n",
    "             [30,30,30]]) # 4행 3열\n",
    "b = np.array([[1],\n",
    "             [2],\n",
    "             [3],\n",
    "             [4]]) # 4행 1열\n",
    "a + b"
   ]
  },
  {
   "cell_type": "code",
   "execution_count": 7,
   "id": "d12a8a98",
   "metadata": {},
   "outputs": [
    {
     "ename": "ValueError",
     "evalue": "operands could not be broadcast together with shapes (4,3) (4,) ",
     "output_type": "error",
     "traceback": [
      "\u001b[1;31m---------------------------------------------------------------------------\u001b[0m",
      "\u001b[1;31mValueError\u001b[0m                                Traceback (most recent call last)",
      "Cell \u001b[1;32mIn[7], line 6\u001b[0m\n\u001b[0;32m      1\u001b[0m a \u001b[38;5;241m=\u001b[39m np\u001b[38;5;241m.\u001b[39marray([[\u001b[38;5;241m0\u001b[39m,\u001b[38;5;241m0\u001b[39m,\u001b[38;5;241m0\u001b[39m],\n\u001b[0;32m      2\u001b[0m              [\u001b[38;5;241m10\u001b[39m,\u001b[38;5;241m10\u001b[39m,\u001b[38;5;241m10\u001b[39m],\n\u001b[0;32m      3\u001b[0m              [\u001b[38;5;241m20\u001b[39m,\u001b[38;5;241m20\u001b[39m,\u001b[38;5;241m20\u001b[39m],\n\u001b[0;32m      4\u001b[0m              [\u001b[38;5;241m30\u001b[39m,\u001b[38;5;241m30\u001b[39m,\u001b[38;5;241m30\u001b[39m]]) \u001b[38;5;66;03m# 4행 3열\u001b[39;00m\n\u001b[0;32m      5\u001b[0m b \u001b[38;5;241m=\u001b[39m np\u001b[38;5;241m.\u001b[39marray([\u001b[38;5;241m1\u001b[39m,\u001b[38;5;241m2\u001b[39m,\u001b[38;5;241m3\u001b[39m,\u001b[38;5;241m4\u001b[39m]) \u001b[38;5;66;03m# 4열\u001b[39;00m\n\u001b[1;32m----> 6\u001b[0m \u001b[43ma\u001b[49m\u001b[43m \u001b[49m\u001b[38;5;241;43m+\u001b[39;49m\u001b[43m \u001b[49m\u001b[43mb\u001b[49m\n",
      "\u001b[1;31mValueError\u001b[0m: operands could not be broadcast together with shapes (4,3) (4,) "
     ]
    }
   ],
   "source": [
    "a = np.array([[0,0,0],\n",
    "             [10,10,10],\n",
    "             [20,20,20],\n",
    "             [30,30,30]]) # 4행 3열\n",
    "b = np.array([1,2,3,4]) # 4열\n",
    "a + b"
   ]
  },
  {
   "cell_type": "code",
   "execution_count": 19,
   "id": "2a065142",
   "metadata": {},
   "outputs": [
    {
     "data": {
      "text/plain": [
       "array([[1],\n",
       "       [2],\n",
       "       [3],\n",
       "       [4]])"
      ]
     },
     "execution_count": 19,
     "metadata": {},
     "output_type": "execute_result"
    }
   ],
   "source": [
    "b = np.array([1,2,3,4]) # 4열 => 축증가 -> 4행 1열\n",
    "# b_1 = b.reshape(3,1) # 방법 1\n",
    "# b_1 = b[:, np.newaxis] # 방법 2\n",
    "b_1 = np.expand_dims(b, axis=1) # 방법 3\n",
    "b_1"
   ]
  },
  {
   "cell_type": "code",
   "execution_count": 20,
   "id": "3777f74b",
   "metadata": {},
   "outputs": [
    {
     "data": {
      "text/plain": [
       "array([[ 1,  1,  1],\n",
       "       [12, 12, 12],\n",
       "       [23, 23, 23],\n",
       "       [34, 34, 34]])"
      ]
     },
     "execution_count": 20,
     "metadata": {},
     "output_type": "execute_result"
    }
   ],
   "source": [
    "a + b[:, np.newaxis]"
   ]
  },
  {
   "cell_type": "code",
   "execution_count": 21,
   "id": "6ef4cc26",
   "metadata": {},
   "outputs": [
    {
     "data": {
      "text/plain": [
       "array([[12, 13, 14, 15],\n",
       "       [22, 23, 24, 25],\n",
       "       [32, 33, 34, 35],\n",
       "       [42, 43, 44, 45]])"
      ]
     },
     "execution_count": 21,
     "metadata": {},
     "output_type": "execute_result"
    }
   ],
   "source": [
    "# a와 b의 모든 쌍의 조합에 대해 계신하고 싶을 때\n",
    "a = np.array([2,3,4,5])\n",
    "b = np.array([10,20,30,40])    \n",
    "a + b[:, np.newaxis]"
   ]
  },
  {
   "cell_type": "code",
   "execution_count": 22,
   "id": "a2b8aa88",
   "metadata": {},
   "outputs": [
    {
     "data": {
      "text/plain": [
       "array([[2],\n",
       "       [3],\n",
       "       [4],\n",
       "       [5]])"
      ]
     },
     "execution_count": 22,
     "metadata": {},
     "output_type": "execute_result"
    }
   ],
   "source": [
    "a[:, np.newaxis]"
   ]
  },
  {
   "cell_type": "code",
   "execution_count": 24,
   "id": "6f444457",
   "metadata": {},
   "outputs": [
    {
     "data": {
      "text/plain": [
       "array([[12, 22, 32, 42],\n",
       "       [13, 23, 33, 43],\n",
       "       [14, 24, 34, 44],\n",
       "       [15, 25, 35, 45]])"
      ]
     },
     "execution_count": 24,
     "metadata": {},
     "output_type": "execute_result"
    }
   ],
   "source": [
    "ax, bx = np.ix_(a, b)\n",
    "ax + bx"
   ]
  },
  {
   "cell_type": "markdown",
   "id": "1a68770c",
   "metadata": {},
   "source": [
    "# 3절. 배열 합치기/분리하기\n",
    "- 슬라이싱\n",
    "- 두 배열을 합치는 함수\n",
    "- r_, c_ \n",
    "- 두 배열을 분리하는 함수\n",
    "## 3.1 인덱싱과 슬라이싱\n",
    "- 인덱싱에는 없는 인덱스 사용시 에러\n",
    "- 슬라이싱에는 없는 인덱스 사용시 끝까지\n",
    "- 음수 인덱스는 끝에서부터"
   ]
  },
  {
   "cell_type": "code",
   "execution_count": 25,
   "id": "1c6c408a",
   "metadata": {},
   "outputs": [
    {
     "data": {
      "text/plain": [
       "array([ 0,  3,  6,  9, 12, 15, 18, 21, 24, 27])"
      ]
     },
     "execution_count": 25,
     "metadata": {},
     "output_type": "execute_result"
    }
   ],
   "source": [
    "a = np.arange(10)*3\n",
    "a"
   ]
  },
  {
   "cell_type": "code",
   "execution_count": 26,
   "id": "2ebc15e2",
   "metadata": {},
   "outputs": [
    {
     "ename": "IndexError",
     "evalue": "index 20 is out of bounds for axis 0 with size 10",
     "output_type": "error",
     "traceback": [
      "\u001b[1;31m---------------------------------------------------------------------------\u001b[0m",
      "\u001b[1;31mIndexError\u001b[0m                                Traceback (most recent call last)",
      "Cell \u001b[1;32mIn[26], line 1\u001b[0m\n\u001b[1;32m----> 1\u001b[0m \u001b[43ma\u001b[49m\u001b[43m[\u001b[49m\u001b[38;5;241;43m20\u001b[39;49m\u001b[43m]\u001b[49m\n",
      "\u001b[1;31mIndexError\u001b[0m: index 20 is out of bounds for axis 0 with size 10"
     ]
    }
   ],
   "source": [
    "a[20]"
   ]
  },
  {
   "cell_type": "code",
   "execution_count": 27,
   "id": "7b533245",
   "metadata": {},
   "outputs": [
    {
     "data": {
      "text/plain": [
       "array([[ 0,  1,  2,  3],\n",
       "       [ 4,  5,  6,  7],\n",
       "       [ 8,  9, 10, 11],\n",
       "       [12, 13, 14, 15],\n",
       "       [16, 17, 18, 19]])"
      ]
     },
     "execution_count": 27,
     "metadata": {},
     "output_type": "execute_result"
    }
   ],
   "source": [
    "a = np.arange(20).reshape(5, 4)\n",
    "a"
   ]
  },
  {
   "cell_type": "code",
   "execution_count": 29,
   "id": "c125cdad",
   "metadata": {},
   "outputs": [
    {
     "data": {
      "text/plain": [
       "array([[ 5,  6],\n",
       "       [ 9, 10]])"
      ]
     },
     "execution_count": 29,
     "metadata": {},
     "output_type": "execute_result"
    }
   ],
   "source": [
    "a[1:3, 1:3]"
   ]
  },
  {
   "cell_type": "code",
   "execution_count": 31,
   "id": "809d7c56",
   "metadata": {},
   "outputs": [
    {
     "data": {
      "text/plain": [
       "(array([[ 0,  1,  2],\n",
       "        [ 4,  5,  6],\n",
       "        [ 8,  9, 10],\n",
       "        [12, 13, 14],\n",
       "        [16, 17, 18]]),\n",
       " array([[ 0,  1,  2],\n",
       "        [ 4,  5,  6],\n",
       "        [ 8,  9, 10],\n",
       "        [12, 13, 14],\n",
       "        [16, 17, 18]]))"
      ]
     },
     "execution_count": 31,
     "metadata": {},
     "output_type": "execute_result"
    }
   ],
   "source": [
    "# 모든 행의 마지막 열 앞까지 모든 행=모든 0축의 경우 ':'나 '...'를 반드시 명시)\n",
    "a[:, :-1], a[..., :-1]"
   ]
  },
  {
   "cell_type": "code",
   "execution_count": 34,
   "id": "2d8f946f",
   "metadata": {},
   "outputs": [
    {
     "data": {
      "text/plain": [
       "(array([[0, 1, 2, 3],\n",
       "        [4, 5, 6, 7]]),\n",
       " array([[0, 1, 2, 3],\n",
       "        [4, 5, 6, 7]]),\n",
       " array([[0, 1, 2, 3],\n",
       "        [4, 5, 6, 7]]))"
      ]
     },
     "execution_count": 34,
     "metadata": {},
     "output_type": "execute_result"
    }
   ],
   "source": [
    "# 0~1행까지 모든 열 추출(모든 열(1출)의 경우 생략 가능: :, .. 사용가능)\n",
    "\n",
    "a[0:2,:], a[:2, ...], a[:2]"
   ]
  },
  {
   "cell_type": "code",
   "execution_count": 35,
   "id": "8ae307c9",
   "metadata": {},
   "outputs": [
    {
     "data": {
      "text/plain": [
       "array([[ 0,  1,  2,  3],\n",
       "       [ 4,  5,  6,  7],\n",
       "       [ 8,  9, 10, 11],\n",
       "       [12, 13, 14, 15],\n",
       "       [16, 17, 18, 19]])"
      ]
     },
     "execution_count": 35,
     "metadata": {},
     "output_type": "execute_result"
    }
   ],
   "source": [
    "a"
   ]
  },
  {
   "cell_type": "code",
   "execution_count": 37,
   "id": "c2183f1b",
   "metadata": {},
   "outputs": [
    {
     "data": {
      "text/plain": [
       "(array([[16],\n",
       "        [17],\n",
       "        [18],\n",
       "        [19]]),\n",
       " array([[16],\n",
       "        [17],\n",
       "        [18],\n",
       "        [19]]),\n",
       " array([[16],\n",
       "        [17],\n",
       "        [18],\n",
       "        [19]]))"
      ]
     },
     "execution_count": 37,
     "metadata": {},
     "output_type": "execute_result"
    }
   ],
   "source": [
    "# 마지막행의 데이터를 2차원으로 변경 -> 4행 1열\n",
    "a[-1][:, np.newaxis], a[-1].reshape(4, -1), np.expand_dims(a[-1], axis=1)"
   ]
  },
  {
   "cell_type": "markdown",
   "id": "3f6bdb46",
   "metadata": {},
   "source": [
    "## 3.2 두 배열을 합치는 함수\n",
    "\n",
    "- **vstack(tup) : 아래로 추가하는 방식**\n",
    "- **hstack(tup) : 옆으로 추가하는 방식**\n",
    "- **dstack(tup) : 마지막 줄(열)을 쌓아 합침(차원증가)**"
   ]
  },
  {
   "cell_type": "code",
   "execution_count": 50,
   "id": "db0543b5",
   "metadata": {},
   "outputs": [
    {
     "name": "stdout",
     "output_type": "stream",
     "text": [
      "vstack 아래로 합치기\n",
      "[[1 2 3]\n",
      " [4 5 6]]\n",
      "(2, 3)\n",
      "hstack 옆으로 합치기\n",
      "[1 2 3 4 5 6]\n",
      "(6,)\n",
      "dstack 축을 depth로 합치기\n",
      "[[[1 4]\n",
      "  [2 5]\n",
      "  [3 6]]]\n",
      "(1, 3, 2)\n"
     ]
    }
   ],
   "source": [
    "a = np.array([1,2,3])\n",
    "b = np.array([4,5,6])\n",
    "v = np.vstack( (a, b) )\n",
    "print('vstack 아래로 합치기', v, v.shape, sep='\\n')\n",
    "h = np.hstack( (a,b) )\n",
    "print('hstack 옆으로 합치기', h, h.shape, sep='\\n')\n",
    "d = np.dstack( (a,b) )\n",
    "print('dstack 축을 depth로 합치기', d, d.shape, sep='\\n')"
   ]
  },
  {
   "cell_type": "code",
   "execution_count": 52,
   "id": "5e1ae5c9",
   "metadata": {},
   "outputs": [
    {
     "data": {
      "text/plain": [
       "(array([[ 0,  1,  2,  3],\n",
       "        [ 4,  5,  6,  7],\n",
       "        [ 8,  9, 10, 11]]),\n",
       " array([[12, 13, 14, 15],\n",
       "        [16, 17, 18, 19],\n",
       "        [20, 21, 22, 23]]))"
      ]
     },
     "execution_count": 52,
     "metadata": {},
     "output_type": "execute_result"
    }
   ],
   "source": [
    "c = np.arange(24).reshape(2,3,4)\n",
    "a, b = c[0], c[1] \n",
    "a, b"
   ]
  },
  {
   "cell_type": "code",
   "execution_count": 53,
   "id": "d6b29e0e",
   "metadata": {},
   "outputs": [
    {
     "name": "stdout",
     "output_type": "stream",
     "text": [
      "vstack 아래로 합치기\n",
      "[[ 0  1  2  3]\n",
      " [ 4  5  6  7]\n",
      " [ 8  9 10 11]\n",
      " [12 13 14 15]\n",
      " [16 17 18 19]\n",
      " [20 21 22 23]]\n",
      "(6, 4)\n",
      "hstack 옆으로 합치기\n",
      "[[ 0  1  2  3 12 13 14 15]\n",
      " [ 4  5  6  7 16 17 18 19]\n",
      " [ 8  9 10 11 20 21 22 23]]\n",
      "(3, 8)\n",
      "dstack 축을 depth로 합치기\n",
      "[[[ 0 12]\n",
      "  [ 1 13]\n",
      "  [ 2 14]\n",
      "  [ 3 15]]\n",
      "\n",
      " [[ 4 16]\n",
      "  [ 5 17]\n",
      "  [ 6 18]\n",
      "  [ 7 19]]\n",
      "\n",
      " [[ 8 20]\n",
      "  [ 9 21]\n",
      "  [10 22]\n",
      "  [11 23]]]\n",
      "(3, 4, 2)\n"
     ]
    }
   ],
   "source": [
    "v = np.vstack( (a, b) )\n",
    "print('vstack 아래로 합치기', v, v.shape, sep='\\n')\n",
    "h = np.hstack( (a,b) )\n",
    "print('hstack 옆으로 합치기', h, h.shape, sep='\\n')\n",
    "d = np.dstack( (a,b) )\n",
    "print('dstack 축을 depth로 합치기', d, d.shape, sep='\\n')"
   ]
  },
  {
   "cell_type": "code",
   "execution_count": 54,
   "id": "e8fb9613",
   "metadata": {},
   "outputs": [
    {
     "data": {
      "text/plain": [
       "array([[ 0,  1,  2,  3],\n",
       "       [ 4,  5,  6,  7],\n",
       "       [ 8,  9, 10, 11],\n",
       "       [12, 13, 14, 15],\n",
       "       [16, 17, 18, 19],\n",
       "       [20, 21, 22, 23]])"
      ]
     },
     "execution_count": 54,
     "metadata": {},
     "output_type": "execute_result"
    }
   ],
   "source": [
    "np.concatenate( (a, b) ) # vstack ( (a, b) )"
   ]
  },
  {
   "cell_type": "code",
   "execution_count": 55,
   "id": "a79fe2b7",
   "metadata": {},
   "outputs": [
    {
     "data": {
      "text/plain": [
       "array([[ 0,  1,  2,  3, 12, 13, 14, 15],\n",
       "       [ 4,  5,  6,  7, 16, 17, 18, 19],\n",
       "       [ 8,  9, 10, 11, 20, 21, 22, 23]])"
      ]
     },
     "execution_count": 55,
     "metadata": {},
     "output_type": "execute_result"
    }
   ],
   "source": [
    "np.concatenate( (a, b), axis=1 ) # hstack( a, b) )"
   ]
  },
  {
   "cell_type": "markdown",
   "id": "0449956c",
   "metadata": {},
   "source": [
    "- **colum_stack(tup) : 열단위로 합침 == 2차 hstack**\n",
    "- **row_stack(tup) : 행단위로 합침 == vstack(tup)**\n",
    "- **stack(tuip, axis) : axis 속성에 따라 배열합침 axis 음수차원 가능**"
   ]
  },
  {
   "cell_type": "code",
   "execution_count": 56,
   "id": "bc5f5ae1",
   "metadata": {},
   "outputs": [
    {
     "data": {
      "text/plain": [
       "array([[1, 4, 7],\n",
       "       [2, 5, 8],\n",
       "       [3, 6, 9]])"
      ]
     },
     "execution_count": 56,
     "metadata": {},
     "output_type": "execute_result"
    }
   ],
   "source": [
    "a = np.array([1,2,3])\n",
    "b = np.array([4,5,6])\n",
    "c = np.array([7,8,9])\n",
    "np.column_stack( (a,b,c) )"
   ]
  },
  {
   "cell_type": "code",
   "execution_count": 57,
   "id": "44a5e847",
   "metadata": {},
   "outputs": [
    {
     "data": {
      "text/plain": [
       "array([[1, 2, 3],\n",
       "       [4, 5, 6],\n",
       "       [4, 5, 6]])"
      ]
     },
     "execution_count": 57,
     "metadata": {},
     "output_type": "execute_result"
    }
   ],
   "source": [
    "np.row_stack( (a,b,b))"
   ]
  },
  {
   "cell_type": "code",
   "execution_count": 58,
   "id": "1a717f59",
   "metadata": {},
   "outputs": [
    {
     "data": {
      "text/plain": [
       "(array([[ 0,  1,  2,  3],\n",
       "        [ 4,  5,  6,  7],\n",
       "        [ 8,  9, 10, 11]]),\n",
       " array([[12, 13, 14, 15],\n",
       "        [16, 17, 18, 19],\n",
       "        [20, 21, 22, 23]]))"
      ]
     },
     "execution_count": 58,
     "metadata": {},
     "output_type": "execute_result"
    }
   ],
   "source": [
    "c = np.arange(24).reshape(2,3,4)\n",
    "a, b = c[0], c[1] \n",
    "a, b"
   ]
  },
  {
   "cell_type": "code",
   "execution_count": 59,
   "id": "97b7d4cf",
   "metadata": {},
   "outputs": [
    {
     "data": {
      "text/plain": [
       "array([[[ 0,  1,  2,  3],\n",
       "        [ 4,  5,  6,  7],\n",
       "        [ 8,  9, 10, 11]],\n",
       "\n",
       "       [[12, 13, 14, 15],\n",
       "        [16, 17, 18, 19],\n",
       "        [20, 21, 22, 23]]])"
      ]
     },
     "execution_count": 59,
     "metadata": {},
     "output_type": "execute_result"
    }
   ],
   "source": [
    "np.stack( (a,b), axis=0 ) # 0면 a, 1면 b"
   ]
  },
  {
   "cell_type": "code",
   "execution_count": 60,
   "id": "1b4e0e46",
   "metadata": {},
   "outputs": [
    {
     "data": {
      "text/plain": [
       "array([[[ 0,  1,  2,  3],\n",
       "        [12, 13, 14, 15]],\n",
       "\n",
       "       [[ 4,  5,  6,  7],\n",
       "        [16, 17, 18, 19]],\n",
       "\n",
       "       [[ 8,  9, 10, 11],\n",
       "        [20, 21, 22, 23]]])"
      ]
     },
     "execution_count": 60,
     "metadata": {},
     "output_type": "execute_result"
    }
   ],
   "source": [
    "np.stack( (a, b), axis=1) # 행 (1축)끼리 합쳐서 면을 이룸"
   ]
  },
  {
   "cell_type": "code",
   "execution_count": 61,
   "id": "86160474",
   "metadata": {},
   "outputs": [
    {
     "data": {
      "text/plain": [
       "array([[[ 0, 12],\n",
       "        [ 1, 13],\n",
       "        [ 2, 14],\n",
       "        [ 3, 15]],\n",
       "\n",
       "       [[ 4, 16],\n",
       "        [ 5, 17],\n",
       "        [ 6, 18],\n",
       "        [ 7, 19]],\n",
       "\n",
       "       [[ 8, 20],\n",
       "        [ 9, 21],\n",
       "        [10, 22],\n",
       "        [11, 23]]])"
      ]
     },
     "execution_count": 61,
     "metadata": {},
     "output_type": "execute_result"
    }
   ],
   "source": [
    "np.stack( (a,b), axis=-1 ) # a 의 행과 b의 행을 열로 합쳐서 면을 이룸"
   ]
  },
  {
   "cell_type": "markdown",
   "id": "7d1e4c58",
   "metadata": {},
   "source": [
    "## 3.3 r_, c_"
   ]
  },
  {
   "cell_type": "code",
   "execution_count": 62,
   "id": "600915cd",
   "metadata": {},
   "outputs": [
    {
     "data": {
      "text/plain": [
       "array([1, 2, 3, 4, 5, 5, 5, 5, 6, 6, 6, 6])"
      ]
     },
     "execution_count": 62,
     "metadata": {},
     "output_type": "execute_result"
    }
   ],
   "source": [
    "a = np.array([1,2,3,4])\n",
    "b = np.array([5,5,5,5])\n",
    "c = np.array([6,6,6,6])\n",
    "np.r_[a,b,c] # 행 합치지"
   ]
  },
  {
   "cell_type": "code",
   "execution_count": 63,
   "id": "4c255577",
   "metadata": {},
   "outputs": [
    {
     "data": {
      "text/plain": [
       "array([[1, 2, 3, 4],\n",
       "       [5, 5, 5, 5],\n",
       "       [6, 6, 6, 6]])"
      ]
     },
     "execution_count": 63,
     "metadata": {},
     "output_type": "execute_result"
    }
   ],
   "source": [
    "np.r_[ [a],[b],[c] ]"
   ]
  },
  {
   "cell_type": "code",
   "execution_count": 64,
   "id": "6c4b29b4",
   "metadata": {},
   "outputs": [
    {
     "data": {
      "text/plain": [
       "array([[1, 5, 6],\n",
       "       [2, 5, 6],\n",
       "       [3, 5, 6],\n",
       "       [4, 5, 6]])"
      ]
     },
     "execution_count": 64,
     "metadata": {},
     "output_type": "execute_result"
    }
   ],
   "source": [
    "np.c_[a,b,c] # 컬럼 쌓기"
   ]
  },
  {
   "cell_type": "markdown",
   "id": "b3e08077",
   "metadata": {},
   "source": [
    "## 3.4 배열 분리하는 함수\n",
    "- **vsplit(ary, 정수나 벡터) : 첫번째 축을 따라 분할**\n",
    "- **hsplit(ary, 정수나 벡터) : 두번째 축을 따라 분할**\n",
    "- **dsplit(ary, 정수나 벡터) : depth를 따라 나눔(3차원 이상에서만 동작)**\n",
    "    - 정수 n : n 개 분리\n",
    "    - [n] : n번째 인덱스를 기점으로 분리\n",
    "    - [m, n] : m번째, n번째 인덱스를 기점으로 분리"
   ]
  },
  {
   "cell_type": "code",
   "execution_count": 67,
   "id": "016ecddb",
   "metadata": {},
   "outputs": [
    {
     "data": {
      "text/plain": [
       "array([[ 0,  1,  2,  3],\n",
       "       [ 4,  5,  6,  7],\n",
       "       [ 8,  9, 10, 11]])"
      ]
     },
     "execution_count": 67,
     "metadata": {},
     "output_type": "execute_result"
    }
   ],
   "source": [
    "a = np.arange(12).reshape(3,4)\n",
    "a"
   ]
  },
  {
   "cell_type": "code",
   "execution_count": 69,
   "id": "c080610c",
   "metadata": {},
   "outputs": [
    {
     "data": {
      "text/plain": [
       "[array([[0, 1, 2, 3]]), array([[4, 5, 6, 7]]), array([[ 8,  9, 10, 11]])]"
      ]
     },
     "execution_count": 69,
     "metadata": {},
     "output_type": "execute_result"
    }
   ],
   "source": [
    "\n",
    "a_vsplit = np.vsplit(a, 3) # 2개로 분리는 에러\n",
    "a_vsplit"
   ]
  },
  {
   "cell_type": "code",
   "execution_count": 71,
   "id": "00bffac3",
   "metadata": {},
   "outputs": [
    {
     "data": {
      "text/plain": [
       "[array([[0, 1, 2, 3],\n",
       "        [4, 5, 6, 7]]),\n",
       " array([[ 8,  9, 10, 11]])]"
      ]
     },
     "execution_count": 71,
     "metadata": {},
     "output_type": "execute_result"
    }
   ],
   "source": [
    "np.vsplit(a,[2]) # [2] ; 2번 인덱스를 기점으로 분리"
   ]
  },
  {
   "cell_type": "code",
   "execution_count": 72,
   "id": "dfc9b947",
   "metadata": {},
   "outputs": [
    {
     "data": {
      "text/plain": [
       "[array([[0, 1],\n",
       "        [4, 5],\n",
       "        [8, 9]]),\n",
       " array([[ 2,  3],\n",
       "        [ 6,  7],\n",
       "        [10, 11]])]"
      ]
     },
     "execution_count": 72,
     "metadata": {},
     "output_type": "execute_result"
    }
   ],
   "source": [
    "np.hsplit(a, 2) # 3개로 나눌 때 에러"
   ]
  },
  {
   "cell_type": "code",
   "execution_count": 73,
   "id": "94494c54",
   "metadata": {},
   "outputs": [
    {
     "data": {
      "text/plain": [
       "[array([[0, 1],\n",
       "        [4, 5],\n",
       "        [8, 9]]),\n",
       " array([[ 2],\n",
       "        [ 6],\n",
       "        [10]]),\n",
       " array([[ 3],\n",
       "        [ 7],\n",
       "        [11]])]"
      ]
     },
     "execution_count": 73,
     "metadata": {},
     "output_type": "execute_result"
    }
   ],
   "source": [
    "np.hsplit(a, [2,3]) # [2,3] : 분리될 기준 인덱스"
   ]
  },
  {
   "cell_type": "markdown",
   "id": "46b1005a",
   "metadata": {},
   "source": [
    "- **split(ary, 갯수나 인덱스벡터, axis)**\n",
    "    - axis = 0 : vspit() 동일\n",
    "    - axis = 1 : hspit() 동일\n",
    "    - axis = 2 : 3차원 이상에만 동작 dsplit() 동일\n",
    "- **array_split(ary, 갯수나 인덱스벡터, axis)**\n",
    "    - split과 차이점은 나눠지지 않은 정수로도 사용 가능"
   ]
  },
  {
   "cell_type": "code",
   "execution_count": 76,
   "id": "5ec50d5d",
   "metadata": {},
   "outputs": [
    {
     "data": {
      "text/plain": [
       "array([[ 0,  1,  2,  3,  4,  5,  6,  7,  8,  9],\n",
       "       [10, 11, 12, 13, 14, 15, 16, 17, 18, 19]])"
      ]
     },
     "execution_count": 76,
     "metadata": {},
     "output_type": "execute_result"
    }
   ],
   "source": [
    "a = np.arange(20).reshape(2, 10)\n",
    "a"
   ]
  },
  {
   "cell_type": "code",
   "execution_count": 77,
   "id": "47b97a04",
   "metadata": {},
   "outputs": [
    {
     "data": {
      "text/plain": [
       "[array([[0, 1, 2, 3, 4, 5, 6, 7, 8, 9]]),\n",
       " array([[10, 11, 12, 13, 14, 15, 16, 17, 18, 19]])]"
      ]
     },
     "execution_count": 77,
     "metadata": {},
     "output_type": "execute_result"
    }
   ],
   "source": [
    "np.split(a, 2, axis=0) # 행분리 = vsplit"
   ]
  },
  {
   "cell_type": "code",
   "execution_count": 79,
   "id": "d4ea104b",
   "metadata": {},
   "outputs": [],
   "source": [
    " # np.split(a,2, axis=1) # 열분리"
   ]
  },
  {
   "cell_type": "code",
   "execution_count": 80,
   "id": "fda12601",
   "metadata": {},
   "outputs": [
    {
     "data": {
      "text/plain": [
       "[array([[ 0,  1,  2,  3,  4],\n",
       "        [10, 11, 12, 13, 14]]),\n",
       " array([[ 5,  6,  7,  8,  9],\n",
       "        [15, 16, 17, 18, 19]])]"
      ]
     },
     "execution_count": 80,
     "metadata": {},
     "output_type": "execute_result"
    }
   ],
   "source": [
    "np.split(a,2, axis=1)"
   ]
  },
  {
   "cell_type": "code",
   "execution_count": 81,
   "id": "ce8db97e",
   "metadata": {},
   "outputs": [
    {
     "ename": "ValueError",
     "evalue": "array split does not result in an equal division",
     "output_type": "error",
     "traceback": [
      "\u001b[1;31m---------------------------------------------------------------------------\u001b[0m",
      "\u001b[1;31mValueError\u001b[0m                                Traceback (most recent call last)",
      "Cell \u001b[1;32mIn[81], line 1\u001b[0m\n\u001b[1;32m----> 1\u001b[0m \u001b[43mnp\u001b[49m\u001b[38;5;241;43m.\u001b[39;49m\u001b[43msplit\u001b[49m\u001b[43m(\u001b[49m\u001b[43ma\u001b[49m\u001b[43m,\u001b[49m\u001b[38;5;241;43m3\u001b[39;49m\u001b[43m,\u001b[49m\u001b[43m \u001b[49m\u001b[43maxis\u001b[49m\u001b[38;5;241;43m=\u001b[39;49m\u001b[38;5;241;43m1\u001b[39;49m\u001b[43m)\u001b[49m\n",
      "File \u001b[1;32m<__array_function__ internals>:180\u001b[0m, in \u001b[0;36msplit\u001b[1;34m(*args, **kwargs)\u001b[0m\n",
      "File \u001b[1;32m~\\anaconda3\\lib\\site-packages\\numpy\\lib\\shape_base.py:872\u001b[0m, in \u001b[0;36msplit\u001b[1;34m(ary, indices_or_sections, axis)\u001b[0m\n\u001b[0;32m    870\u001b[0m     N \u001b[38;5;241m=\u001b[39m ary\u001b[38;5;241m.\u001b[39mshape[axis]\n\u001b[0;32m    871\u001b[0m     \u001b[38;5;28;01mif\u001b[39;00m N \u001b[38;5;241m%\u001b[39m sections:\n\u001b[1;32m--> 872\u001b[0m         \u001b[38;5;28;01mraise\u001b[39;00m \u001b[38;5;167;01mValueError\u001b[39;00m(\n\u001b[0;32m    873\u001b[0m             \u001b[38;5;124m'\u001b[39m\u001b[38;5;124marray split does not result in an equal division\u001b[39m\u001b[38;5;124m'\u001b[39m) \u001b[38;5;28;01mfrom\u001b[39;00m \u001b[38;5;28mNone\u001b[39m\n\u001b[0;32m    874\u001b[0m \u001b[38;5;28;01mreturn\u001b[39;00m array_split(ary, indices_or_sections, axis)\n",
      "\u001b[1;31mValueError\u001b[0m: array split does not result in an equal division"
     ]
    }
   ],
   "source": [
    "np.split(a,3, axis=1) # 에러발생"
   ]
  },
  {
   "cell_type": "code",
   "execution_count": 83,
   "id": "1440cea3",
   "metadata": {},
   "outputs": [
    {
     "data": {
      "text/plain": [
       "[array([[ 0,  1,  2,  3],\n",
       "        [10, 11, 12, 13]]),\n",
       " array([[ 4,  5,  6],\n",
       "        [14, 15, 16]]),\n",
       " array([[ 7,  8,  9],\n",
       "        [17, 18, 19]])]"
      ]
     },
     "execution_count": 83,
     "metadata": {},
     "output_type": "execute_result"
    }
   ],
   "source": [
    "np.array_split(a,3, axis=1)"
   ]
  },
  {
   "cell_type": "code",
   "execution_count": null,
   "id": "7603e890",
   "metadata": {},
   "outputs": [],
   "source": []
  }
 ],
 "metadata": {
  "kernelspec": {
   "display_name": "Python 3 (ipykernel)",
   "language": "python",
   "name": "python3"
  },
  "language_info": {
   "codemirror_mode": {
    "name": "ipython",
    "version": 3
   },
   "file_extension": ".py",
   "mimetype": "text/x-python",
   "name": "python",
   "nbconvert_exporter": "python",
   "pygments_lexer": "ipython3",
   "version": "3.10.9"
  },
  "toc": {
   "base_numbering": 1,
   "nav_menu": {},
   "number_sections": false,
   "sideBar": true,
   "skip_h1_title": false,
   "title_cell": "Table of Contents",
   "title_sidebar": "Contents",
   "toc_cell": false,
   "toc_position": {
    "height": "calc(100% - 180px)",
    "left": "10px",
    "top": "150px",
    "width": "256px"
   },
   "toc_section_display": true,
   "toc_window_display": true
  }
 },
 "nbformat": 4,
 "nbformat_minor": 5
}
