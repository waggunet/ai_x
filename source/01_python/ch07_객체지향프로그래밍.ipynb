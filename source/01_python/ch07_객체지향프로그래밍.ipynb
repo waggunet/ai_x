{
 "cells": [
  {
   "cell_type": "code",
   "execution_count": 2,
   "id": "19b46141",
   "metadata": {},
   "outputs": [
    {
     "data": {
      "text/html": [
       "\n",
       "<style>\n",
       "div.container{width:86% !important;}\n",
       "div.cell.code_cell.rendered{width:100%;}\n",
       "div.CodeMirror {font-family:Consolas; font-size:10pt;}\n",
       "div.output {font-size:12pt; font-weight:bold;}\n",
       "div.input {font-family:Consolas; font-size:10pt;}\n",
       "div.prompt {min-width:70px;}\n",
       "div#toc-wrapper{padding-top:120px;}\n",
       "div.text_cell_render ul li{font-size:10pt;padding:5px;}\n",
       "table.dataframe{font-size:15px;\n",
       "</style>\n"
      ],
      "text/plain": [
       "<IPython.core.display.HTML object>"
      ]
     },
     "metadata": {},
     "output_type": "display_data"
    }
   ],
   "source": [
    "# 매 강의 시작시마다 동일하게 처리해야 함\n",
    "from IPython.display import display, HTML\n",
    "display(HTML(\"\"\"\n",
    "<style>\n",
    "div.container{width:86% !important;}\n",
    "div.cell.code_cell.rendered{width:100%;}\n",
    "div.CodeMirror {font-family:Consolas; font-size:10pt;}\n",
    "div.output {font-size:12pt; font-weight:bold;}\n",
    "div.input {font-family:Consolas; font-size:10pt;}\n",
    "div.prompt {min-width:70px;}\n",
    "div#toc-wrapper{padding-top:120px;}\n",
    "div.text_cell_render ul li{font-size:10pt;padding:5px;}\n",
    "table.dataframe{font-size:15px;\n",
    "</style>\n",
    "\"\"\"))"
   ]
  },
  {
   "cell_type": "markdown",
   "id": "fc9e47c3",
   "metadata": {},
   "source": [
    "<b><font size=\"5\" color=\"red\">ch07. 객체 지향 프로그래밍</font></b>\n",
    "# 1절 객체지향"
   ]
  },
  {
   "cell_type": "code",
   "execution_count": 10,
   "id": "70b2ef14",
   "metadata": {},
   "outputs": [
    {
     "name": "stdout",
     "output_type": "stream",
     "text": [
      "홍길동 남자 MBC\n",
      "홍낄숙 None MBC\n",
      "{'name': '홍낄숙', 'sender': '여자', 'accademy': 'MBC'}\n"
     ]
    }
   ],
   "source": [
    "person1 = {'name':'홍길동', 'gender':'남자','accademy':'MBC'}\n",
    "person2 = {'name':'홍길숙', 'sender':'여자','accademy':'MBC'}\n",
    "print(person1['name'], person1['gender'], person1['accademy'])\n",
    "person2['name'] = \"홍낄숙\"\n",
    "print(person2['name'], person2.get('gender'), person2['accademy'])      \n",
    "print(person2)"
   ]
  },
  {
   "cell_type": "code",
   "execution_count": 26,
   "id": "0a94114c",
   "metadata": {},
   "outputs": [],
   "source": [
    "class Person:\n",
    "    accademy = 'MBC' # 클래스 변수\n",
    "    def __init__(self, name, gender): # 생성자 함수\n",
    "        self.name = name # 객체 안의 변수(인스턴스 변수)\n",
    "        self.gender = gender \n",
    "    def print_info(self):\n",
    "        print(\"{}는 {}입니다. {}를 다닙니다.\".format(self.name,\n",
    "                                           self.gender,\n",
    "                                           self.accademy))\n",
    "    def __str__(self):\n",
    "        return \"{}는 {}입니다. {}를 다닙니다.\".format(self.name,\n",
    "                                           self.gender,\n",
    "                                           self.accademy)"
   ]
  },
  {
   "cell_type": "code",
   "execution_count": 28,
   "id": "07e8b36c",
   "metadata": {},
   "outputs": [
    {
     "name": "stdout",
     "output_type": "stream",
     "text": [
      "홍길동는 남자입니다. MBC를 다닙니다.\n",
      "홍길숙는 여자입니다. MBC를 다닙니다.\n",
      "마길동는 남자입니다. CBC를 다닙니다.\n",
      "홍길숙는 여자입니다. MBC를 다닙니다.\n"
     ]
    }
   ],
   "source": [
    "p1 = Person('홍길동','남자')\n",
    "p2 = Person('홍길숙','여자')\n",
    "p1.print_info()\n",
    "p2.print_info()\n",
    "p1.name = '마길동'\n",
    "p1.accademy = 'CBC'\n",
    "print(p1)\n",
    "print(p2)"
   ]
  },
  {
   "cell_type": "code",
   "execution_count": 3,
   "id": "d0aeacd9",
   "metadata": {},
   "outputs": [
    {
     "name": "stdout",
     "output_type": "stream",
     "text": [
      "홍길동 남자 MBC\n",
      "홍낄숙 None MBC\n",
      "{'name': '홍낄숙', 'sender': '여자', 'accademy': 'MBC'}\n"
     ]
    }
   ],
   "source": [
    "# 4/18 복습\n",
    "\n",
    "person1 = {'name':'홍길동', 'gender':'남자','accademy':'MBC'}\n",
    "person2 = {'name':'홍길숙', 'sender':'여자','accademy':'MBC'}\n",
    "print(person1['name'], person1['gender'], person1['accademy'])\n",
    "person2['name'] = \"홍낄숙\"\n",
    "print(person2['name'], person2.get('gender'), person2['accademy'])      \n",
    "print(person2)\n",
    "                                                  "
   ]
  },
  {
   "cell_type": "code",
   "execution_count": 5,
   "id": "1e424271",
   "metadata": {},
   "outputs": [],
   "source": [
    "class Person:\n",
    "    accademy = 'MBC' # 클래스 변수\n",
    "    def __init__(self, name, gender): # 생성자 함수\n",
    "        self.name = name # 객체 안의 변수(인스턴스 변수)\n",
    "        self.gender = gender \n",
    "    def print_info(self):\n",
    "        print(\"{}는 {}입니다. {}를 다닙니다.\".format(self.name,\n",
    "                                           self.gender,\n",
    "                                           self.accademy))\n",
    "    def __str__(self):\n",
    "        return \"{}는 {}입니다. {}를 다닙니다.\".format(self.name,\n",
    "                                           self.gender,\n",
    "                                           self.accademy)"
   ]
  },
  {
   "cell_type": "code",
   "execution_count": 6,
   "id": "e7d575e1",
   "metadata": {},
   "outputs": [
    {
     "name": "stdout",
     "output_type": "stream",
     "text": [
      "홍길동는 남자입니다. MBC를 다닙니다.\n",
      "홍길숙는 여자입니다. MBC를 다닙니다.\n",
      "마길동는 남자입니다. CBC를 다닙니다.\n",
      "홍길숙는 여자입니다. MBC를 다닙니다.\n"
     ]
    }
   ],
   "source": [
    "p1 = Person('홍길동','남자')\n",
    "p2 = Person('홍길숙','여자')\n",
    "p1.print_info()\n",
    "p2.print_info()\n",
    "p1.name = '마길동'\n",
    "p1.accademy = 'CBC'\n",
    "print(p1)\n",
    "print(p2)"
   ]
  },
  {
   "cell_type": "markdown",
   "id": "082f5c9b",
   "metadata": {},
   "source": [
    "# 1절. 객체와 클래스\n",
    "class 클래스명(상속받을 클래스명):\n",
    "    변수나 함수들 선언"
   ]
  },
  {
   "cell_type": "code",
   "execution_count": 30,
   "id": "f178592b",
   "metadata": {},
   "outputs": [
    {
     "name": "stdout",
     "output_type": "stream",
     "text": [
      "<__main__.Person object at 0x000002AA3BC51450>\n",
      "<class '__main__.Person'>\n"
     ]
    }
   ],
   "source": [
    "class Person:\n",
    "    '''\n",
    "    Person 클래스는 어쩌구 저쩌구 설명하는 독스트링\n",
    "    생성자 함수가 없을 경우, 디폴트 생성자 함수가 자동 생성\n",
    "    '''\n",
    "    pass\n",
    "p1 = Person()\n",
    "print(p1.__str__())\n",
    "print(type(p1))"
   ]
  },
  {
   "cell_type": "code",
   "execution_count": 31,
   "id": "172f836b",
   "metadata": {},
   "outputs": [
    {
     "data": {
      "text/plain": [
       "True"
      ]
     },
     "execution_count": 31,
     "metadata": {},
     "output_type": "execute_result"
    }
   ],
   "source": [
    "isinstance(p1, Person)"
   ]
  },
  {
   "cell_type": "code",
   "execution_count": 32,
   "id": "2d624de2",
   "metadata": {},
   "outputs": [
    {
     "data": {
      "text/plain": [
       "'\\n    Person 클래스는 어쩌구 저쩌구 설명하는 독스트링\\n    생성자 함수가 없을 경우, 디폴트 생성자 함수가 자동 생성\\n    '"
      ]
     },
     "execution_count": 32,
     "metadata": {},
     "output_type": "execute_result"
    }
   ],
   "source": [
    "p1.__doc__"
   ]
  },
  {
   "cell_type": "code",
   "execution_count": null,
   "id": "bbd5b30d",
   "metadata": {},
   "outputs": [],
   "source": [
    "# 4/18 복습"
   ]
  },
  {
   "cell_type": "code",
   "execution_count": 7,
   "id": "3d6766b1",
   "metadata": {
    "scrolled": true
   },
   "outputs": [
    {
     "name": "stdout",
     "output_type": "stream",
     "text": [
      "<__main__.Person object at 0x000001E007527340>\n",
      "<class '__main__.Person'>\n"
     ]
    }
   ],
   "source": [
    "class Person:\n",
    "    '''\n",
    "    Person 클래스는 어쩌구 저쩌구 설명하는 독스트링\n",
    "    생성자 함수가 없을 경우, 디폴트 생성자 함수가 자동 생성\n",
    "    '''\n",
    "    pass\n",
    "p1 = Person()\n",
    "print(p1.__str__())\n",
    "print(type(p1))"
   ]
  },
  {
   "cell_type": "code",
   "execution_count": 8,
   "id": "df9b49f9",
   "metadata": {},
   "outputs": [
    {
     "data": {
      "text/plain": [
       "True"
      ]
     },
     "execution_count": 8,
     "metadata": {},
     "output_type": "execute_result"
    }
   ],
   "source": [
    "isinstance(p1, Person)"
   ]
  },
  {
   "cell_type": "code",
   "execution_count": 9,
   "id": "6a25ef9b",
   "metadata": {},
   "outputs": [
    {
     "data": {
      "text/plain": [
       "'\\n    Person 클래스는 어쩌구 저쩌구 설명하는 독스트링\\n    생성자 함수가 없을 경우, 디폴트 생성자 함수가 자동 생성\\n    '"
      ]
     },
     "execution_count": 9,
     "metadata": {},
     "output_type": "execute_result"
    }
   ],
   "source": [
    "p1.__doc__"
   ]
  },
  {
   "cell_type": "markdown",
   "id": "c9609dee",
   "metadata": {},
   "source": [
    "# 2절. 생성자와 소멸자\n",
    "'''\n",
    "생성자 : __init__(self, 매개변수, ...) - 객체가 생성될 때 자동 실행\n",
    "        객체 생성시 필요한 인스턴스 변수 초기화를 포함\n",
    "소멸자 : _del_(self) - 객체가 소멸될 때 자동 실행\n",
    "        인스턴스 객체의 레퍼런스 카운트가 0이 될 때 실행\n",
    "'''"
   ]
  },
  {
   "cell_type": "code",
   "execution_count": 16,
   "id": "48f4e62a",
   "metadata": {},
   "outputs": [],
   "source": [
    "class Person:\n",
    "    def __init__(self, name, gender='남자'): # 파이썬은 함수 오버로딩(함수 중복 정의) 지원 안됨\n",
    "        self.name = name # 인스턴스 변수\n",
    "        self.gender = gender\n",
    "        print('Person 객체 생성합니다.', name)\n",
    "    def __del__(self):\n",
    "        print('Person 객체를 소멸시킵니다.', self.name)\n",
    "    def print_info(self):\n",
    "        print(\"{}는 {}입니다.\".format(self.name, self.gender))\n",
    "    def __str__(self): # 오버라이딩(함수 재정의)\n",
    "        return f\"{self.name}는 {self.gender}입니다.\""
   ]
  },
  {
   "cell_type": "code",
   "execution_count": 10,
   "id": "6cfbc741",
   "metadata": {},
   "outputs": [
    {
     "name": "stdout",
     "output_type": "stream",
     "text": [
      "Person 객체 생성합니다. 신사임당\n"
     ]
    }
   ],
   "source": [
    "p1 = Person(\"신사임당\", \"여자\")"
   ]
  },
  {
   "cell_type": "code",
   "execution_count": 11,
   "id": "d2d4908d",
   "metadata": {},
   "outputs": [
    {
     "name": "stdout",
     "output_type": "stream",
     "text": [
      "Person 객체 생성합니다. 홍길동\n",
      "홍길동는 남자입니다.\n"
     ]
    }
   ],
   "source": [
    "p2 = Person(\"홍길동\")\n",
    "print(p2)"
   ]
  },
  {
   "cell_type": "code",
   "execution_count": 12,
   "id": "b16c225c",
   "metadata": {},
   "outputs": [
    {
     "name": "stdout",
     "output_type": "stream",
     "text": [
      "Person 객체를 소멸시킵니다. 홍길동\n"
     ]
    }
   ],
   "source": [
    "p3 = p2"
   ]
  },
  {
   "cell_type": "code",
   "execution_count": 13,
   "id": "1339a80d",
   "metadata": {},
   "outputs": [
    {
     "name": "stdout",
     "output_type": "stream",
     "text": [
      "Person 객체를 소멸시킵니다. 신사임당\n"
     ]
    }
   ],
   "source": [
    "del p1"
   ]
  },
  {
   "cell_type": "code",
   "execution_count": 14,
   "id": "a7ec0d1c",
   "metadata": {},
   "outputs": [],
   "source": [
    "del p2"
   ]
  },
  {
   "cell_type": "code",
   "execution_count": 15,
   "id": "6b4d562c",
   "metadata": {},
   "outputs": [
    {
     "name": "stdout",
     "output_type": "stream",
     "text": [
      "Person 객체를 소멸시킵니다. 홍길동\n"
     ]
    }
   ],
   "source": [
    "del p3"
   ]
  },
  {
   "cell_type": "code",
   "execution_count": null,
   "id": "3ca6cbc3",
   "metadata": {},
   "outputs": [],
   "source": [
    "# 4/18 복습"
   ]
  },
  {
   "cell_type": "code",
   "execution_count": 15,
   "id": "452c5e34",
   "metadata": {},
   "outputs": [],
   "source": [
    "class Person:\n",
    "    def __init__(self, name, gender='남자'): # 파이썬은 함수 오버로딩(함수 중복 정의) 지원 안됨\n",
    "        self.name = name # 인스턴스 변수\n",
    "        self.gender = gender\n",
    "        print('Person 객체 생성합니다.', name)\n",
    "    def __del__(self):\n",
    "        print('Person 객체를 소멸시킵니다.', self.name)\n",
    "    def print_info(self):\n",
    "        print(\"{}는 {}입니다.\".format(self.name, self.gender))\n",
    "    def __str__(self): # 오버라이딩(함수 재정의)\n",
    "        return f\"{self.name}는 {self.gender}입니다.\""
   ]
  },
  {
   "cell_type": "code",
   "execution_count": 11,
   "id": "43b2c37a",
   "metadata": {},
   "outputs": [
    {
     "name": "stdout",
     "output_type": "stream",
     "text": [
      "Person 객체 생성합니다. 신사임당\n"
     ]
    }
   ],
   "source": [
    "p1 = Person(\"신사임당\", \"여자\")"
   ]
  },
  {
   "cell_type": "code",
   "execution_count": 12,
   "id": "86bbc52d",
   "metadata": {},
   "outputs": [
    {
     "name": "stdout",
     "output_type": "stream",
     "text": [
      "Person 객체 생성합니다. 홍길동\n",
      "홍길동는 남자입니다.\n"
     ]
    }
   ],
   "source": [
    "p2 = Person(\"홍길동\")\n",
    "print(p2)"
   ]
  },
  {
   "cell_type": "code",
   "execution_count": 14,
   "id": "46b8df46",
   "metadata": {},
   "outputs": [],
   "source": [
    "p3 = p2"
   ]
  },
  {
   "cell_type": "code",
   "execution_count": 16,
   "id": "165be74f",
   "metadata": {},
   "outputs": [
    {
     "name": "stdout",
     "output_type": "stream",
     "text": [
      "Person 객체를 소멸시킵니다. 신사임당\n"
     ]
    }
   ],
   "source": [
    "del p1"
   ]
  },
  {
   "cell_type": "code",
   "execution_count": 17,
   "id": "f205a5de",
   "metadata": {},
   "outputs": [],
   "source": [
    "del p2"
   ]
  },
  {
   "cell_type": "code",
   "execution_count": 18,
   "id": "1920eda7",
   "metadata": {},
   "outputs": [
    {
     "name": "stdout",
     "output_type": "stream",
     "text": [
      "Person 객체를 소멸시킵니다. 홍길동\n"
     ]
    }
   ],
   "source": [
    "del p3"
   ]
  },
  {
   "cell_type": "markdown",
   "id": "c1f47703",
   "metadata": {},
   "source": [
    "# 3절. 변수와 메소드(함수)\n",
    "- 인스턴스 변수 vs 클래스 변수 \n",
    "- 인스턴스 메소드(self) vs 클래스메소드(clz) vs static 메소드()"
   ]
  },
  {
   "cell_type": "code",
   "execution_count": 19,
   "id": "5264b460",
   "metadata": {},
   "outputs": [
    {
     "name": "stdout",
     "output_type": "stream",
     "text": [
      "홍길동 남자\n"
     ]
    }
   ],
   "source": [
    "class Person:\n",
    "    name = \"홍길동\" # 클래스 변수\n",
    "    gender = \"남자\"\n",
    "print(Person.name, Person.gender)"
   ]
  },
  {
   "cell_type": "code",
   "execution_count": 22,
   "id": "f096ddea",
   "metadata": {},
   "outputs": [
    {
     "name": "stdout",
     "output_type": "stream",
     "text": [
      "홍길동 남자\n",
      "홍길동 남자\n",
      "홍길동 남자\n"
     ]
    }
   ],
   "source": [
    "p1 = Person()\n",
    "p2 = Person()\n",
    "print(Person.name, Person.gender)\n",
    "print(p2.name, p2.gender)\n",
    "print(p1.name, p2.gender)"
   ]
  },
  {
   "cell_type": "code",
   "execution_count": 26,
   "id": "5bd2d321",
   "metadata": {},
   "outputs": [
    {
     "name": "stdout",
     "output_type": "stream",
     "text": [
      "홍길동 남자\n",
      "홍길동 남자\n",
      "이순신 남자\n"
     ]
    }
   ],
   "source": [
    "p2.name = \"이순신\"\n",
    "print(Person.name, Person.gender)\n",
    "print(p1.name, p1.gender)\n",
    "print(p2.name, p2.gender)"
   ]
  },
  {
   "cell_type": "code",
   "execution_count": 28,
   "id": "5d5b3b44",
   "metadata": {},
   "outputs": [
    {
     "name": "stdout",
     "output_type": "stream",
     "text": [
      "리사 여자\n",
      "리사 여자\n",
      "이순신 여자\n"
     ]
    }
   ],
   "source": [
    "Person.name = \"리사\"\n",
    "Person.gender = \"여자\"\n",
    "print(Person.name, Person.gender)\n",
    "print(p1.name, p1.gender)\n",
    "print(p2.name, p2.gender)"
   ]
  },
  {
   "cell_type": "code",
   "execution_count": 19,
   "id": "7b3668c4",
   "metadata": {},
   "outputs": [],
   "source": [
    "# 4/18 복습"
   ]
  },
  {
   "cell_type": "code",
   "execution_count": 20,
   "id": "a2b21c4e",
   "metadata": {},
   "outputs": [
    {
     "name": "stdout",
     "output_type": "stream",
     "text": [
      "홍길동 남자\n"
     ]
    }
   ],
   "source": [
    "class Person:\n",
    "    name = \"홍길동\" # 클래스 변수\n",
    "    gender = \"남자\"\n",
    "print(Person.name, Person.gender)"
   ]
  },
  {
   "cell_type": "code",
   "execution_count": 21,
   "id": "99900ba5",
   "metadata": {},
   "outputs": [
    {
     "name": "stdout",
     "output_type": "stream",
     "text": [
      "홍길동 남자\n",
      "홍길동 남자\n",
      "홍길동 남자\n"
     ]
    }
   ],
   "source": [
    "p1 = Person()\n",
    "p2 = Person()\n",
    "print(Person.name, Person.gender)\n",
    "print(p2.name, p2.gender)\n",
    "print(p1.name, p2.gender)"
   ]
  },
  {
   "cell_type": "code",
   "execution_count": 22,
   "id": "445f9cc3",
   "metadata": {},
   "outputs": [
    {
     "name": "stdout",
     "output_type": "stream",
     "text": [
      "홍길동 남자\n",
      "홍길동 남자\n",
      "이순신 남자\n"
     ]
    }
   ],
   "source": [
    "p2.name = \"이순신\"\n",
    "print(Person.name, Person.gender)\n",
    "print(p1.name, p1.gender)\n",
    "print(p2.name, p2.gender)"
   ]
  },
  {
   "cell_type": "code",
   "execution_count": 23,
   "id": "fb1a9b5e",
   "metadata": {},
   "outputs": [
    {
     "name": "stdout",
     "output_type": "stream",
     "text": [
      "리사 여자\n",
      "리사 여자\n",
      "이순신 여자\n"
     ]
    }
   ],
   "source": [
    "Person.name = \"리사\"\n",
    "Person.gender = \"여자\"\n",
    "print(Person.name, Person.gender)\n",
    "print(p1.name, p1.gender)\n",
    "print(p2.name, p2.gender)"
   ]
  },
  {
   "cell_type": "markdown",
   "id": "3db30717",
   "metadata": {},
   "source": [
    "※ 인스턴스 메소드(self) vs 클래스메소드(clz) vs static 메소드()\n",
    "- 인스턴스 메소드 : 첫번째 인자에 self를 꼭 명시. 객체를 통해서만 호출할 수 있는 메소드\n",
    "- 클래스(class) 메소드 : 메소드 위에 @classmethod를 선언한 메소드. 첫번째 인자에 cls(clz) 꼭 명시\n",
    "- 스태틱(static) 메소드 : 메소드 위에 @staticmethod를 선언한 메소드. 인지를 넣지 않음"
   ]
  },
  {
   "cell_type": "code",
   "execution_count": 38,
   "id": "7020c5cc",
   "metadata": {},
   "outputs": [],
   "source": [
    "class Person:\n",
    "    name = \"홍길동\"\n",
    "    gender = \"남자\"\n",
    "    def print_info(self) : # 객체변수명.print_info()로 호출\n",
    "        print(f\"인스턴스(일반)메소드 - {self.name}는 {self.gender}입니다.\")\n",
    "    def changer_info(self, name, gender=\"남자\"): # 객체변수.change_info(\"김\",\"여자\")\n",
    "        self.name = name\n",
    "        self.gender = gender\n",
    "        print(f\"인스턴스(일반)메소드 - {self.name}/{self.gender}로 변경 완료\")\n",
    "    @classmethod\n",
    "    def do_(clz) : # clz==Person. 클래스 변수를 이용한 로직. Person.do_() 호출\n",
    "        clz.name = \"신사임당\"\n",
    "        clz.gender = \"여자\"\n",
    "        print(f\"클래스 메소드 - {clz.name}/{clz.gender} 변경완료\")\n",
    "    @staticmethod\n",
    "    def that_(): # 클래스 변수를 이용하기 보다는 로직이 우선일 경우. Person.that_()\n",
    "        Person.name = \"신길동\"\n",
    "        Person.name = \"남자\"\n",
    "        print(f\"클래스 메소드 - {Person.name}/{Person.gender} 변경완료\")\n",
    "        "
   ]
  },
  {
   "cell_type": "code",
   "execution_count": 39,
   "id": "459a5d92",
   "metadata": {},
   "outputs": [
    {
     "name": "stdout",
     "output_type": "stream",
     "text": [
      "인스턴스(일반)메소드 - 홍길동는 남자입니다.\n"
     ]
    }
   ],
   "source": [
    "p1 = Person()\n",
    "p1.print_info()"
   ]
  },
  {
   "cell_type": "code",
   "execution_count": null,
   "id": "a39be742",
   "metadata": {},
   "outputs": [],
   "source": [
    "# 4/18 복습"
   ]
  },
  {
   "cell_type": "code",
   "execution_count": 24,
   "id": "3110e022",
   "metadata": {},
   "outputs": [],
   "source": [
    "class Person:\n",
    "    name = \"홍길동\"\n",
    "    gender = \"남자\"\n",
    "    def print_info(self) : # 객체변수명.print_info()로 호출\n",
    "        print(f\"인스턴스(일반)메소드 - {self.name}는 {self.gender}입니다.\")\n",
    "    def changer_info(self, name, gender=\"남자\"): # 객체변수.change_info(\"김\",\"여자\")\n",
    "        self.name = name\n",
    "        self.gender = gender\n",
    "        print(f\"인스턴스(일반)메소드 - {self.name}/{self.gender}로 변경 완료\")\n",
    "    @classmethod\n",
    "    def do_(clz) : # clz==Person. 클래스 변수를 이용한 로직. Person.do_() 호출\n",
    "        clz.name = \"신사임당\"\n",
    "        clz.gender = \"여자\"\n",
    "        print(f\"클래스 메소드 - {clz.name}/{clz.gender} 변경완료\")\n",
    "    @staticmethod\n",
    "    def that_(): # 클래스 변수를 이용하기 보다는 로직이 우선일 경우. Person.that_()\n",
    "        Person.name = \"신길동\"\n",
    "        Person.name = \"남자\"\n",
    "        print(f\"클래스 메소드 - {Person.name}/{Person.gender} 변경완료\")"
   ]
  },
  {
   "cell_type": "code",
   "execution_count": 25,
   "id": "553e7ed5",
   "metadata": {},
   "outputs": [
    {
     "name": "stdout",
     "output_type": "stream",
     "text": [
      "인스턴스(일반)메소드 - 홍길동는 남자입니다.\n"
     ]
    }
   ],
   "source": [
    "p1 = Person()\n",
    "p1.print_info()"
   ]
  },
  {
   "cell_type": "markdown",
   "id": "99c7faf7",
   "metadata": {},
   "source": [
    "## 요약\n",
    "**객체를 이용하면 객체에 정보를 저장하고, 그 정보를 이용해서 어떤 기능을 수행할 수 있다.**\n",
    "**객체 = 데이터(변수:객체마다 고유의 값 + 기능(메소드, 함수)**\n",
    "\n",
    "**그 객체를 만들기 위한 틀 => 클래스**\n",
    "\n",
    "\n",
    "    class 클래스명:\n",
    "      '독스트링'\n",
    "      클래스변수명 = 값\n",
    "      def __init__(self, [객체 멤버를 초기화할 변수=값,...]):\n",
    "          self.인스턴스(일반)변수=값\n",
    "          객체를 생성할 때 객체 멤버 변수의 초기화\n",
    "      def method(self):\n",
    "          인스턴스 메소드(일반함수)의 매개변수는 self를 반드시 포함\n",
    "      @classmethod\n",
    "      def classmethod(cls):\n",
    "          코드\n",
    "      @staticmethod():\n",
    "      def staticmethod():\n",
    "          코드\n",
    "    객체변수 = 클래스명()\n",
    "    객체변수.method()\n",
    "    클래스명.classmethod()\n",
    "    클래스명.stacticmethod()\n",
    "  \n"
   ]
  },
  {
   "cell_type": "code",
   "execution_count": 7,
   "id": "8dc813dd",
   "metadata": {},
   "outputs": [
    {
     "name": "stdout",
     "output_type": "stream",
     "text": [
      "홍길동입니다\n",
      "홍길동입니다\n"
     ]
    },
    {
     "data": {
      "text/plain": [
       "(True, True)"
      ]
     },
     "execution_count": 7,
     "metadata": {},
     "output_type": "execute_result"
    }
   ],
   "source": [
    "class Person:\n",
    "    def __init__(self, name):\n",
    "        self.name = name\n",
    "    def __str__(self):\n",
    "        return f'{self.name}입니다'\n",
    "    def print_info(self):\n",
    "#         print(f'{self.name}입니다.)\n",
    "        print(self)\n",
    "p = Person('홍길동')\n",
    "p.print_info()\n",
    "print(p)\n",
    "\n",
    "# 파이썬은 동적으로 인스턴스 멤버 추가가 가능하다.(파이썬과 자바만 가능하다고 함)\n",
    "\n",
    "p.nickname = \"홍별명\"\n",
    "p1 = Person(\"홍길숙\")\n",
    "isinstance(p, Person), isinstance(p1, Person)"
   ]
  },
  {
   "cell_type": "code",
   "execution_count": 27,
   "id": "97378ff6",
   "metadata": {},
   "outputs": [],
   "source": [
    "# 4/18 복습"
   ]
  },
  {
   "cell_type": "code",
   "execution_count": 26,
   "id": "fbb6e3b3",
   "metadata": {},
   "outputs": [
    {
     "name": "stdout",
     "output_type": "stream",
     "text": [
      "홍길동입니다\n",
      "홍길동입니다\n"
     ]
    },
    {
     "data": {
      "text/plain": [
       "(True, True)"
      ]
     },
     "execution_count": 26,
     "metadata": {},
     "output_type": "execute_result"
    }
   ],
   "source": [
    "class Person:\n",
    "    def __init__(self, name):\n",
    "        self.name = name\n",
    "    def __str__(self):\n",
    "        return f'{self.name}입니다'\n",
    "    def print_info(self):\n",
    "#         print(f'{self.name}입니다.)\n",
    "        print(self)\n",
    "p = Person('홍길동')\n",
    "p.print_info()\n",
    "print(p)\n",
    "\n",
    "# 파이썬은 동적으로 인스턴스 멤버 추가가 가능하다.(파이썬과 자바만 가능하다고 함)\n",
    "\n",
    "p.nickname = \"홍별명\"\n",
    "p1 = Person(\"홍길숙\")\n",
    "isinstance(p, Person), isinstance(p1, Person)"
   ]
  },
  {
   "cell_type": "markdown",
   "id": "cda8d034",
   "metadata": {},
   "source": [
    "# 4절. 상속과 재정의\n",
    "- 클래스를 재사용\n",
    "- 상속을 이용하면 부모클래스의 모든 속성을 잣힉 클래스로 물려줄 수 있음\n",
    "- 문법 : class 자식클래스명(부모클래스명):"
   ]
  },
  {
   "cell_type": "code",
   "execution_count": 11,
   "id": "a35e8f4c",
   "metadata": {},
   "outputs": [
    {
     "name": "stdout",
     "output_type": "stream",
     "text": [
      "두 수 초기화\n",
      "4\n",
      "4\n"
     ]
    }
   ],
   "source": [
    "class Cal:\n",
    "    def __init__(self, num1=1, num2=2):\n",
    "        print('두 수 초기화')\n",
    "        self.num1 = num1\n",
    "        self.num2 = num2\n",
    "    def add(self):\n",
    "        return self.num1+self.num2\n",
    "    def sub(self):\n",
    "        return self.num1-self.num2\n",
    "    def div(self):\n",
    "        return self.num1/self.num2 if self.num2 != 0 else '0으로 나눌 수 없어요'\n",
    "    def __str__(self):\n",
    "        return 'num1={}, num2={}'.format(self.num1, self.num2)\n",
    "\n",
    "class Cal_inherit(Cal):\n",
    "    def mul(self):\n",
    "        return self.num1*self.num2\n",
    "\n",
    "obj1 = Cal_inherit(2, 2)\n",
    "print(obj1.add())\n",
    "print(obj1.mul())"
   ]
  },
  {
   "cell_type": "code",
   "execution_count": 12,
   "id": "09899fb3",
   "metadata": {},
   "outputs": [
    {
     "data": {
      "text/plain": [
       "(type, type)"
      ]
     },
     "execution_count": 12,
     "metadata": {},
     "output_type": "execute_result"
    }
   ],
   "source": [
    "type(Cal), type(Cal_inherit)"
   ]
  },
  {
   "cell_type": "code",
   "execution_count": 15,
   "id": "2e4d5270",
   "metadata": {},
   "outputs": [
    {
     "data": {
      "text/plain": [
       "(__main__.Cal_inherit, True, True)"
      ]
     },
     "execution_count": 15,
     "metadata": {},
     "output_type": "execute_result"
    }
   ],
   "source": [
    "type(obj1), isinstance(obj1, Cal_inherit), isinstance(obj1, Cal)\n",
    "# Cal_inherit is a Cal (상속은 is a 관계)"
   ]
  },
  {
   "cell_type": "code",
   "execution_count": 2,
   "id": "cf4960e9",
   "metadata": {},
   "outputs": [
    {
     "name": "stdout",
     "output_type": "stream",
     "text": [
      "이름과 성별 초기화\n",
      "홍길동님은 남자\n"
     ]
    }
   ],
   "source": [
    "class Person:\n",
    "    'Peron은 이름과 성별을 매개변수로 갖고, 출력 기능'\n",
    "    def __init__(self, name, gender):\n",
    "        print('이름과 성별 초기화')\n",
    "        self.name = name\n",
    "        self.gender = gender\n",
    "    def __str__(self):\n",
    "        return \"{}님은 {}\".format(self.name, self.gender)\n",
    "    def print_info(self):\n",
    "        print(self)\n",
    "p = Person(\"홍길동\", \"남자\")\n",
    "p.print_info()\n",
    "# Person.print_info(p) 쓸수는 있지만 잘 사용하지는 않음\n"
   ]
  },
  {
   "cell_type": "code",
   "execution_count": 22,
   "id": "667ce370",
   "metadata": {},
   "outputs": [],
   "source": [
    "# override : 함수로의 재정의(부모클래스의 함수를 자식 클래스에서 다시 정의) \n",
    "#            부모클래스의 함수명과 매개변수 갯수가 동일\n",
    "# overload : 함수의 중복 정의(같은 이름의 함수를 매개변수 갯수를 달리해서 정의) - 파이썬에서는 불가능(C++, 자바는 가능)\n",
    "class Student(Person):\n",
    "    def __init__(self, name, gender, major):\n",
    "# 이미 상속을 받은 상황이므로 굳이 재 정의를 할 필요없음\n",
    "#         self.name = name\n",
    "#         self.gender = gender\n",
    "        super().__init__(name, gender) # super() : \"부모클래스의\"를 의미\n",
    "#   Person.__init__(self, name, gender) 역시 안쓴다. \n",
    "        self.major = major\n",
    "    def __str__(self): # override\n",
    "        return super().__str__() + \"이고 전공은 {}\".format(self.major)\n",
    "        "
   ]
  },
  {
   "cell_type": "code",
   "execution_count": 24,
   "id": "9d80719a",
   "metadata": {},
   "outputs": [
    {
     "name": "stdout",
     "output_type": "stream",
     "text": [
      "이름과 성별 초기화\n",
      "홍길숙님은 여자이고 전공은 AI\n",
      "홍길숙님은 여자이고 전공은 AI\n"
     ]
    }
   ],
   "source": [
    "s = Student('홍길숙','여자','AI')\n",
    "print(s)\n",
    "s.print_info()"
   ]
  },
  {
   "cell_type": "code",
   "execution_count": 25,
   "id": "9edbb965",
   "metadata": {},
   "outputs": [
    {
     "data": {
      "text/plain": [
       "(True, True)"
      ]
     },
     "execution_count": 25,
     "metadata": {},
     "output_type": "execute_result"
    }
   ],
   "source": [
    "isinstance(s, Student), isinstance(s, Person)"
   ]
  },
  {
   "cell_type": "markdown",
   "id": "ef75c8e0",
   "metadata": {},
   "source": [
    "## 정적변수(static 변수) : 여러 객체들 사이에 데이터를 공유하고 싶을 때 사용\n",
    "- static 변수 앞에 under score 2개(__)를 붙이면 클래스명.__클래스명__static변수명으로 참조\n",
    "- 클래스 변수는 외부에서 바로 접근 가능.\n",
    "- static 변수는 외부에서 바로 접근하는 것을 방지\n",
    "- static 변수는 클래스 내부에서만 접근하도록 하려는 의도"
   ]
  },
  {
   "cell_type": "code",
   "execution_count": 9,
   "id": "606434e2",
   "metadata": {},
   "outputs": [],
   "source": [
    "class Person:\n",
    "    __count = 0 # static 변수\n",
    "    def __init__(self, name, gender):\n",
    "        self.name = name\n",
    "        self.gender = gender\n",
    "    def print_info(self): # 추상메소드\n",
    "        raise Exception(\"이 메소드는 호출하면 예외가 납니다\") # 강제 예회 발생\n",
    "    def __str__(self):\n",
    "        return f'{self.name}은 {self.gender}'\n",
    "\n",
    "class Student(Person):\n",
    "    __count = 0  # static 변수(객체의 갯수)\n",
    "    # 클래스명.__클래스명__count 로 사용, 클래스명.__count는 외부에서 접근 불가\n",
    "    def __init__(self, name, gender, major):\n",
    "        super().__init__(name, gender)\n",
    "        self.major = major\n",
    "        Student._Student__count += 1 # 객체가 생성될 때마다 __count 1 증가\n",
    "    def __del__(self):\n",
    "        Student._Student__count -= 1 # 객체가 소멸될 때마다 __count 1 감소\n",
    "    def print_info(self):\n",
    "        print(\"{}는 {}이고, 전공은 {}({}번째 객체)\".format(self.name,\n",
    "                                       self.gender,\n",
    "                                       self.major,\n",
    "                                       Student._Student__count))\n",
    "    def __str__(self):\n",
    "        return super().__str__() + \"이고, 전공은 {}\".format(self.major)\n",
    "    @classmethod\n",
    "    def get_count(cls):\n",
    "        return cls.__count\n",
    "#         return Student._Student__count\n",
    "\n"
   ]
  },
  {
   "cell_type": "code",
   "execution_count": 10,
   "id": "50ab8106",
   "metadata": {},
   "outputs": [
    {
     "name": "stdout",
     "output_type": "stream",
     "text": [
      "홍길동는 남자이고, 전공은 AI(1번째 객체)\n"
     ]
    }
   ],
   "source": [
    "# p = Person(\"홍\", \"남자\")\n",
    "# p.print_info() # 추상메소드\n",
    "s1 = Student(\"홍길동\", \"남자\", \"AI\")\n",
    "s2 = Student(\"길쑥\",\"여자\", \"데이터통계\")\n",
    "s1.print_info()"
   ]
  },
  {
   "cell_type": "code",
   "execution_count": 11,
   "id": "eabdd969",
   "metadata": {},
   "outputs": [
    {
     "name": "stdout",
     "output_type": "stream",
     "text": [
      "김길숙는 여자이고, 전공은 데이터(1번째 객체)\n"
     ]
    }
   ],
   "source": [
    "s2 = Student(\"김길숙\", \"여자\", \"데이터\")\n",
    "s2.print_info()"
   ]
  },
  {
   "cell_type": "code",
   "execution_count": 12,
   "id": "2da14c87",
   "metadata": {},
   "outputs": [
    {
     "name": "stdout",
     "output_type": "stream",
     "text": [
      "신길동는 남자이고, 전공은 컴공(2번째 객체)\n"
     ]
    }
   ],
   "source": [
    "s3 = Student(\"신길동\", \"남자\", \"컴공\")\n",
    "s3.print_info()"
   ]
  },
  {
   "cell_type": "code",
   "execution_count": 7,
   "id": "f92e4cd5",
   "metadata": {},
   "outputs": [],
   "source": [
    "del s3, s2"
   ]
  },
  {
   "cell_type": "code",
   "execution_count": 8,
   "id": "e3a9198a",
   "metadata": {},
   "outputs": [
    {
     "data": {
      "text/plain": [
       "1"
      ]
     },
     "execution_count": 8,
     "metadata": {},
     "output_type": "execute_result"
    }
   ],
   "source": [
    "Student.get_count()"
   ]
  },
  {
   "cell_type": "markdown",
   "id": "5e2c2b7f",
   "metadata": {},
   "source": [
    "# 5절. 연습문제\n",
    "## 실습형"
   ]
  },
  {
   "cell_type": "code",
   "execution_count": null,
   "id": "f55b3989",
   "metadata": {},
   "outputs": [],
   "source": [
    "# 도형클래스와 삼각형클래스\n",
    "'''\n",
    "\n",
    "1. 다음 조건을 만족하는 클래스를 작성하세요\n",
    "도형(Shape) 클래스와 삼각형(Triangle) 클래스를 만들어야 합니다.\n",
    "\n",
    "✓ 도형(Shape) 클래스\n",
    "생성자를 통해 x, y 좌표를 초기화할 수 있습니다. x, y 좌표의 기본값은 0, 0입니다.\n",
    "x, y 좌표를 이동시킬 수 있는 move 함수가 있습니다.\n",
    "x, y 좌표값 정보를 문자열로 리턴하는 __str__ 함수가 있습니다.\n",
    "도형의 면적을 구하는 함수(calc_area)가 있습니다. 다만 도형 클래스의 calc_area()는 구현되어 있지 않아 호출하면 오류가 발생합니다 (파이썬은 추상메소드 없음. 추상메소드 역할을 구현).\n",
    "정적메소드(staticmethod)를 하나 이상 구현합니다.\n",
    "\n",
    "✓ ‘삼각형(Triangle)’ 클래스는 도형(Shape) 클래스이다 관계가 성립해야 합니다\n",
    "생성자를 통해 width, height, x, y 좌표를 초기화하고 x, y 좌표의 기본값은 0, 0입니다.\n",
    "삼각형의 면적을 구하는 메소드 calc_area를 재정의합니다.\n",
    "삼각형의 정보를 문자열로 반환하는 __str__() 함수가 있습니다.\n",
    "삼각형 객체가 몇 개가 만들어져 있는지 정보를 저장하는 클래스 변수를 추가하고 생성자에서 객체를 만들 때마다 증가시키고 소멸자에서 객체를 소멸시킬 때마다 감소합니다.\n",
    "\n",
    "'''"
   ]
  },
  {
   "cell_type": "code",
   "execution_count": 14,
   "id": "1c7611f1",
   "metadata": {},
   "outputs": [],
   "source": [
    "# 1차\n",
    "class Shape:\n",
    "    def __init__(self, x=0, y=0):\n",
    "        self.x = x\n",
    "        self.y = y\n",
    "\n",
    "    def move(self, dx, dy):\n",
    "        self.x += dx\n",
    "        self.y += dy\n",
    "\n",
    "    def __str__(self):\n",
    "        return f\"Shape at ({self.x}, {self.y})\"\n",
    "\n",
    "    def calc_area(self):\n",
    "        raise NotImplementedError(\"Subclass must implement this method\")\n",
    "\n",
    "    @staticmethod\n",
    "    def intro():\n",
    "        print(\"This is a shape\")\n",
    "\n",
    "class Triangle(Shape):\n",
    "    count = 0  # 클래스 변수: 생성된 삼각형 객체 수\n",
    "\n",
    "    def __init__(self, width, height, x=0, y=0):\n",
    "        super().__init__(x, y)\n",
    "        self.width = width\n",
    "        self.height = height\n",
    "        Triangle.count += 1\n",
    "\n",
    "    def calc_area(self):\n",
    "        return (self.width * self.height) / 2\n",
    "\n",
    "    def __str__(self):\n",
    "        return f\"Triangle(width={self.width}, height={self.height}, x={self.x}, y={self.y})\"\n",
    "\n",
    "    def __del__(self):\n",
    "        Triangle.count -= 1\n"
   ]
  },
  {
   "cell_type": "code",
   "execution_count": 15,
   "id": "a438ab76",
   "metadata": {},
   "outputs": [],
   "source": [
    "# 선생님 형식 참고해서 정리\n",
    "\n",
    "class Shape:\n",
    "    def __init__(self, x=0, y=0):\n",
    "        self.x = x\n",
    "        self.y = y\n",
    "    def move(self, x, y):\n",
    "        'x, y좌표 이동'\n",
    "        self.x += x\n",
    "        self.y += y\n",
    "    def __str__(self):\n",
    "        return 'x좌표 : {}, y좌표 : {}'.format(self.x, self.y)\n",
    "    def calc_area(self):\n",
    "        raise Exception('강제 예외 발생(이 메소드는 상속받는 곳에서 재정의 강요) \\\n",
    "                    : 추상메소드')\n",
    "    @staticmethod\n",
    "    def staticmethod_():\n",
    "        print(\"도형 클래스 staticmethod 호출\")\n",
    "        "
   ]
  },
  {
   "cell_type": "code",
   "execution_count": 16,
   "id": "5508f215",
   "metadata": {},
   "outputs": [
    {
     "name": "stdout",
     "output_type": "stream",
     "text": [
      "x좌표 : 2, y좌표 : 2\n",
      "x좌표 : 12, y좌표 : 7\n",
      "도형 클래스 staticmethod 호출\n"
     ]
    }
   ],
   "source": [
    "s = Shape(2,2)\n",
    "print(s)\n",
    "s.move(10,5)\n",
    "print(s)\n",
    "Shape.staticmethod_()\n",
    "# s.staticmethod_()\n",
    "# s.calc_area()"
   ]
  },
  {
   "cell_type": "code",
   "execution_count": 17,
   "id": "dc9f489d",
   "metadata": {},
   "outputs": [],
   "source": [
    "class Triangle(Shape):\n",
    "    __count = 0\n",
    "    def __init__(self, width, height, x=0, y=0):\n",
    "        Triangle._Triangle__count += 1\n",
    "        self.width = width\n",
    "        self.height = height   \n",
    "        super().__init__(x, y)\n",
    "    def __del__(self):\n",
    "        Triangle._Triangle__count -= 1        \n",
    "    def __str__(self):\n",
    "        return super().__str__() + \", width:{}, height:{}, area:{}\".\\\n",
    "                            format(self.width, self.height, self.calc_area())    \n",
    "    def calc_area(self):\n",
    "        return (self.width*self.height)/2    \n",
    "    @classmethod\n",
    "    def get_count(cls):\n",
    "        #return Triangle._Triangle__count\n",
    "        return cls.__count"
   ]
  },
  {
   "cell_type": "code",
   "execution_count": 18,
   "id": "55a91f91",
   "metadata": {},
   "outputs": [
    {
     "name": "stdout",
     "output_type": "stream",
     "text": [
      "x좌표 : 0, y좌표 : 10, width:4, height:3, area:6.0\n",
      "x좌표 : 0, y좌표 : 0, width:10, height:20, area:100.0\n",
      "x좌표 : 5, y좌표 : 5, width:3, height:4, area:6.0\n",
      "Triangle 객체 갯수 : 3\n",
      "도형 클래스 staticmethod 호출\n"
     ]
    }
   ],
   "source": [
    "t = Triangle(4,3, 0,10)\n",
    "t1 = Triangle(10, 20)\n",
    "t2 = Triangle(3, 4, 5, 5)\n",
    "print(t)\n",
    "print(t1)\n",
    "print(t2)\n",
    "print('Triangle 객체 갯수 :', Triangle.get_count())\n",
    "Triangle.staticmethod_()"
   ]
  },
  {
   "cell_type": "code",
   "execution_count": 19,
   "id": "d7372fa4",
   "metadata": {},
   "outputs": [
    {
     "name": "stdout",
     "output_type": "stream",
     "text": [
      "x좌표 : 50, y좌표 : 50, width:10, height:20, area:100.0\n"
     ]
    }
   ],
   "source": [
    "t1.move(50,50)\n",
    "print(t1)"
   ]
  },
  {
   "cell_type": "code",
   "execution_count": 20,
   "id": "96ebbbfa",
   "metadata": {},
   "outputs": [
    {
     "name": "stdout",
     "output_type": "stream",
     "text": [
      "Triangle 객체 갯수 : 1\n"
     ]
    }
   ],
   "source": [
    "del t, t1\n",
    "print('Triangle 객체 갯수 :', Triangle.get_count())"
   ]
  },
  {
   "cell_type": "markdown",
   "id": "7b9450a5",
   "metadata": {},
   "source": [
    "## 서술형"
   ]
  },
  {
   "cell_type": "code",
   "execution_count": null,
   "id": "29f4353b",
   "metadata": {},
   "outputs": [],
   "source": [
    "# 1.\n",
    "\n",
    "(1)\n",
    "class Person:\n",
    "    "
   ]
  },
  {
   "cell_type": "code",
   "execution_count": null,
   "id": "051aac90",
   "metadata": {},
   "outputs": [],
   "source": [
    "# 2.\n",
    "\n",
    "(2)\n",
    "p1 = Person()"
   ]
  },
  {
   "cell_type": "code",
   "execution_count": null,
   "id": "36e5e87e",
   "metadata": {},
   "outputs": [],
   "source": [
    "# 3.\n",
    "\n",
    "(4)\n",
    "def print_info(self):\n",
    "    "
   ]
  },
  {
   "cell_type": "code",
   "execution_count": null,
   "id": "72b1a29a",
   "metadata": {},
   "outputs": [],
   "source": [
    "# 4.\n",
    "\n",
    "(1)\n",
    "생성자는 중복(Overloading) 정의해서 사용할 수 없다.\n"
   ]
  },
  {
   "cell_type": "code",
   "execution_count": null,
   "id": "4a066149",
   "metadata": {},
   "outputs": [],
   "source": [
    "# 5.\n",
    "\n",
    "(2)\n",
    "class Student(Person)\n"
   ]
  },
  {
   "cell_type": "code",
   "execution_count": null,
   "id": "8e3e2c5e",
   "metadata": {},
   "outputs": [],
   "source": [
    "# 6.\n",
    "(3)\n",
    "재정의는 메소드의 이름은 같고, 매개변수의 수는 동일하게 정의해야 한다."
   ]
  },
  {
   "cell_type": "code",
   "execution_count": null,
   "id": "36e87378",
   "metadata": {},
   "outputs": [],
   "source": [
    "# 7.\n",
    "(3)\n",
    "에러발생"
   ]
  },
  {
   "cell_type": "code",
   "execution_count": 21,
   "id": "176737d2",
   "metadata": {},
   "outputs": [],
   "source": [
    "# 8.\n",
    "(3)\n",
    "# super는 class가 아닌 함수\n",
    "\n",
    "class Super:\n",
    "    def do_(self, a):\n",
    "        print(\"super.do_\")\n",
    "class Sub(Super):\n",
    "    def do_(self, a):\n",
    "        #Super.do_(self, a)\n",
    "        super().do_(a)\n",
    "        print(\"sub.do_\")"
   ]
  },
  {
   "cell_type": "code",
   "execution_count": 23,
   "id": "ffaa6afa",
   "metadata": {
    "scrolled": true
   },
   "outputs": [
    {
     "name": "stdout",
     "output_type": "stream",
     "text": [
      "홍길동은 남자\n",
      "독스트링은 클래스의 대한 설명서\n"
     ]
    }
   ],
   "source": [
    "# 9.\n",
    "(2)\n",
    "# __str__() 메소드는 매개변수를 가질 수 있다.\n",
    "class Person:\n",
    "    '독스트링은 클래스의 대한 설명서'\n",
    "    def __init__(self, name, gender):\n",
    "        self.name = name\n",
    "        self.gender = gender\n",
    "    def __str__(self):\n",
    "        return f'{self.name}은 {self.gender}'\n",
    "p = Person(\"홍길동\",\"남자\")\n",
    "p.__dict__ #(1)객체.__dict__속성을 이용하면 객체를 딕셔너리화할 수 있다(클래스 멤버를 확인)\n",
    "print(p) # (2)\n",
    "print(p.__doc__) # (3) 독스트링\n"
   ]
  },
  {
   "cell_type": "code",
   "execution_count": null,
   "id": "d9f677a9",
   "metadata": {},
   "outputs": [],
   "source": [
    "# 선생님 풀이 내용 확인\n"
   ]
  },
  {
   "cell_type": "code",
   "execution_count": null,
   "id": "fd625872",
   "metadata": {},
   "outputs": [],
   "source": [
    "# 어렵다.. 이해가 가지 않는 부분들이 점점 늘어가고 있다.."
   ]
  },
  {
   "cell_type": "markdown",
   "id": "58dd7484",
   "metadata": {},
   "source": [
    "## 예외처리"
   ]
  },
  {
   "cell_type": "code",
   "execution_count": null,
   "id": "bfa2af1c",
   "metadata": {},
   "outputs": [],
   "source": []
  },
  {
   "cell_type": "code",
   "execution_count": null,
   "id": "debc919c",
   "metadata": {},
   "outputs": [],
   "source": []
  },
  {
   "cell_type": "code",
   "execution_count": null,
   "id": "395b09f2",
   "metadata": {},
   "outputs": [],
   "source": []
  },
  {
   "cell_type": "code",
   "execution_count": null,
   "id": "5d77fa10",
   "metadata": {},
   "outputs": [],
   "source": []
  },
  {
   "cell_type": "code",
   "execution_count": null,
   "id": "f81a9c15",
   "metadata": {},
   "outputs": [],
   "source": []
  },
  {
   "cell_type": "code",
   "execution_count": null,
   "id": "f632dd02",
   "metadata": {},
   "outputs": [],
   "source": []
  }
 ],
 "metadata": {
  "kernelspec": {
   "display_name": "Python 3 (ipykernel)",
   "language": "python",
   "name": "python3"
  },
  "language_info": {
   "codemirror_mode": {
    "name": "ipython",
    "version": 3
   },
   "file_extension": ".py",
   "mimetype": "text/x-python",
   "name": "python",
   "nbconvert_exporter": "python",
   "pygments_lexer": "ipython3",
   "version": "3.10.9"
  },
  "toc": {
   "base_numbering": 1,
   "nav_menu": {},
   "number_sections": false,
   "sideBar": true,
   "skip_h1_title": false,
   "title_cell": "Table of Contents",
   "title_sidebar": "Contents",
   "toc_cell": false,
   "toc_position": {
    "height": "calc(100% - 180px)",
    "left": "10px",
    "top": "150px",
    "width": "236.078px"
   },
   "toc_section_display": true,
   "toc_window_display": true
  }
 },
 "nbformat": 4,
 "nbformat_minor": 5
}
