{
 "cells": [
  {
   "cell_type": "code",
   "execution_count": 26,
   "id": "bc3ba8e7",
   "metadata": {},
   "outputs": [
    {
     "data": {
      "text/html": [
       "\n",
       "<style>\n",
       "div.container{width:86% !important;}\n",
       "div.cell.code_cell.rendered{width:100%;}\n",
       "div.CodeMirror {font-family:Consolas; font-size:10pt;}\n",
       "div.output {font-size:15pt; font-weight:bold;}\n",
       "div.input {font-family:Consolas; font-size:10pt;}\n",
       "div.prompt {min-width:70px;}\n",
       "div#toc-wrapper{padding-top:120px;}\n",
       "div.text_cell_render ul li{font-size:12pt;padding:5px;}\n",
       "table.dataframe{font-size:15px;\n",
       "</style>\n"
      ],
      "text/plain": [
       "<IPython.core.display.HTML object>"
      ]
     },
     "metadata": {},
     "output_type": "display_data"
    }
   ],
   "source": [
    "# 매 강의 시작시마다 동일하게 처리해야 함\n",
    "from IPython.display import display, HTML\n",
    "display(HTML(\"\"\"\n",
    "<style>\n",
    "div.container{width:86% !important;}\n",
    "div.cell.code_cell.rendered{width:100%;}\n",
    "div.CodeMirror {font-family:Consolas; font-size:10pt;}\n",
    "div.output {font-size:15pt; font-weight:bold;}\n",
    "div.input {font-family:Consolas; font-size:10pt;}\n",
    "div.prompt {min-width:70px;}\n",
    "div#toc-wrapper{padding-top:120px;}\n",
    "div.text_cell_render ul li{font-size:12pt;padding:5px;}\n",
    "table.dataframe{font-size:15px;\n",
    "</style>\n",
    "\"\"\"))"
   ]
  },
  {
   "cell_type": "markdown",
   "id": "be959b93",
   "metadata": {},
   "source": [
    "<font size=\"5\" color=\"red\">ch02 자료형과 연산자</font>\n",
    "# 5절. 연산자\n",
    "## 5.1 산술연산자 : +, -, *, /, //(몫연산자), %(나머지), **(제곱)"
   ]
  },
  {
   "cell_type": "code",
   "execution_count": 16,
   "id": "930dd2d4",
   "metadata": {},
   "outputs": [
    {
     "name": "stdout",
     "output_type": "stream",
     "text": [
      "10의 5승 : 100000\n",
      "4/2(결과 실수) : 2.0\n",
      "4//2(몫): 2\n",
      "4%2(나머지) : 0\n"
     ]
    }
   ],
   "source": [
    "print('10의 5승 :', 10**5)\n",
    "print('4/2(결과 실수) :', 4/2)\n",
    "print('4//2(몫):', 4//2)\n",
    "print('4%2(나머지) :', 4%2)"
   ]
  },
  {
   "cell_type": "code",
   "execution_count": 2,
   "id": "83c367cb",
   "metadata": {},
   "outputs": [
    {
     "name": "stdout",
     "output_type": "stream",
     "text": [
      "정수를 입력하세요: 6\n",
      "입력하신 수는 6, 2로 나눈 나머지는 0, 그래서 짝수를 입력하셨군요.\n"
     ]
    }
   ],
   "source": [
    "num = int(input('정수를 입력하세요: '))\n",
    "result = num%2\n",
    "if result :\n",
    "    temp = \"홀수\"\n",
    "else :\n",
    "    temp = \"짝수\"\n",
    "    print(f\"입력하신 수는 {num}, 2로 나눈 나머지는 {result}, 그래서 {temp}를 입력하셨군요.\")"
   ]
  },
  {
   "cell_type": "code",
   "execution_count": null,
   "id": "dea5b886",
   "metadata": {},
   "outputs": [],
   "source": [
    "num = int(input('정수를 입력하세요: '))\n",
    "result = num%5\n",
    "if result : \n",
    "    print('5의 배수입니다.')\n",
    "else :\n",
    "    print('5의 배수가 아닙니다.')"
   ]
  },
  {
   "cell_type": "code",
   "execution_count": null,
   "id": "e5fa90aa",
   "metadata": {},
   "outputs": [],
   "source": [
    "num = int(input('정수를 입력하세요: '))\n",
    "result = num%5\n",
    "if result :\n",
    "    temp = \"5의 배수가 아님\"\n",
    "else :\n",
    "    temp = \"5의 배수\"\n",
    "    print(f\"입력하신 수는 {num}, 그래서 {temp}를 입력하셨군요.\")"
   ]
  },
  {
   "cell_type": "code",
   "execution_count": null,
   "id": "91177c67",
   "metadata": {},
   "outputs": [],
   "source": [
    "num1 = int(input('국어점수를 입력하세요: '))\n",
    "num2 = int(input('영어점수를 입력하세요: '))\n",
    "num3 = int(input('수학점수를 입력하세요: '))\n",
    "num4 = int(num1 + num2 + num3)\n",
    "print(f\"국어:{num1} 영어:{num2} 수학:{num3}\")\n",
    "print(f\"총점:{num4} 평균:{num4/3}\")"
   ]
  },
  {
   "cell_type": "code",
   "execution_count": null,
   "id": "98d8669f",
   "metadata": {},
   "outputs": [],
   "source": [
    "# quiz 3. 국영수 점수를 받아 다음 셀에서 다음과 가팅 출력하도록 구현하시오"
   ]
  },
  {
   "cell_type": "code",
   "execution_count": 2,
   "id": "fac78bdf",
   "metadata": {},
   "outputs": [
    {
     "name": "stdout",
     "output_type": "stream",
     "text": [
      "국어?30\n",
      "영어?20\n",
      "수학?30\n",
      "국어: 30\t영어: 20\t수학: 30\n",
      "총점: 80\t평균: 26.7\n"
     ]
    }
   ],
   "source": [
    "kor = int(input('국어?'))\n",
    "eng = int(input('영어?'))\n",
    "mat = int(input('수학?'))\n",
    "sum = kor + eng + mat\n",
    "avg = sum/3\n",
    "print(\"국어:{:3d}\\t영어:{:3d}\\t수학:{:3d}\".format(kor, eng, mat))\n",
    "print(\"총점:{:3d}\\t평균:{:5.1f}\".format(sum, avg))"
   ]
  },
  {
   "cell_type": "markdown",
   "id": "2dc2d79f",
   "metadata": {},
   "source": [
    "## 5.2 할당연산자 : =, +=, -=, *=,/=, //=, %="
   ]
  },
  {
   "cell_type": "code",
   "execution_count": 4,
   "id": "dea11dc5",
   "metadata": {},
   "outputs": [
    {
     "name": "stdout",
     "output_type": "stream",
     "text": [
      "5더하기 : 15\n"
     ]
    }
   ],
   "source": [
    "a = 10\n",
    "a += 5 # a = a+5\n",
    "print('5더하기 :', a)"
   ]
  },
  {
   "cell_type": "code",
   "execution_count": 6,
   "id": "cd631a66",
   "metadata": {},
   "outputs": [
    {
     "name": "stdout",
     "output_type": "stream",
     "text": [
      "5빼기 : 10\n"
     ]
    }
   ],
   "source": [
    "a -= 5\n",
    "print('5빼기 :', a)"
   ]
  },
  {
   "cell_type": "code",
   "execution_count": 7,
   "id": "ac32ad71",
   "metadata": {},
   "outputs": [
    {
     "name": "stdout",
     "output_type": "stream",
     "text": [
      "5곱 : 40\n"
     ]
    }
   ],
   "source": [
    "a *= 4\n",
    "print('5곱 :', a)"
   ]
  },
  {
   "cell_type": "markdown",
   "id": "2d2f4574",
   "metadata": {},
   "source": [
    "## 5.3 논리연산자 : &, and, |, or, not"
   ]
  },
  {
   "cell_type": "code",
   "execution_count": 11,
   "id": "0b88e973",
   "metadata": {},
   "outputs": [
    {
     "name": "stdout",
     "output_type": "stream",
     "text": [
      "True\n",
      "0\n"
     ]
    }
   ],
   "source": [
    "# & 논리연산, 비트연산자\n",
    "print((10>3) & (10>5)) # 논리연산 True & True\n",
    "print(12 & 1) # 비트연산 12 : 0000 1100\n",
    "              #         1 : 0000 0001\n",
    "              #    12 & 1 : 0000 0000"
   ]
  },
  {
   "cell_type": "code",
   "execution_count": 13,
   "id": "82c9ddd4",
   "metadata": {},
   "outputs": [
    {
     "name": "stdout",
     "output_type": "stream",
     "text": [
      "True\n"
     ]
    }
   ],
   "source": [
    "# and : False로 판별되는 첫번쨰 항 반환\n",
    "# 모든 항이 참이면 마지막 항을 반환\n",
    "print(True and True and True)"
   ]
  },
  {
   "cell_type": "code",
   "execution_count": 14,
   "id": "4f8d5fc3",
   "metadata": {},
   "outputs": [
    {
     "name": "stdout",
     "output_type": "stream",
     "text": [
      "False\n"
     ]
    }
   ],
   "source": [
    "print(False and True and True)"
   ]
  },
  {
   "cell_type": "code",
   "execution_count": 17,
   "id": "67e2b171",
   "metadata": {},
   "outputs": [
    {
     "name": "stdout",
     "output_type": "stream",
     "text": [
      "3\n"
     ]
    }
   ],
   "source": [
    "print(True and 1 and 3)"
   ]
  },
  {
   "cell_type": "code",
   "execution_count": 18,
   "id": "064ef452",
   "metadata": {},
   "outputs": [
    {
     "name": "stdout",
     "output_type": "stream",
     "text": [
      "abc\n"
     ]
    }
   ],
   "source": [
    "print(True and 'abc')"
   ]
  },
  {
   "cell_type": "code",
   "execution_count": 23,
   "id": "ee91b8b4",
   "metadata": {},
   "outputs": [
    {
     "name": "stdout",
     "output_type": "stream",
     "text": [
      "논리연산(연산자 앞뒤에 논리형일 때) : True\n",
      "비트연산(연산자 앞이나 뒤에 숫자일 떄) : 3\n"
     ]
    }
   ],
   "source": [
    "# | : 논리연산, 비트연산\n",
    "result = False | True\n",
    "print('논리연산(연산자 앞뒤에 논리형일 때) :', result)\n",
    "result = False | 3 # 0000 0000 (False)\n",
    "                   # 0000 0011 (3)\n",
    "print('비트연산(연산자 앞이나 뒤에 숫자일 떄) :', result)"
   ]
  },
  {
   "cell_type": "code",
   "execution_count": 27,
   "id": "01ecd75c",
   "metadata": {},
   "outputs": [
    {
     "name": "stdout",
     "output_type": "stream",
     "text": [
      " \n",
      "Hong\n"
     ]
    }
   ],
   "source": [
    "# OR : 논리연산, 참으로 판별되는 첫번쨰 항을 반환\n",
    "#    모든 항이 거짓이면, 마지막 항을 반환\n",
    "print(False or False or ' ')\n",
    "print('Hong' or '  ' or False)"
   ]
  },
  {
   "cell_type": "markdown",
   "id": "64ff4bef",
   "metadata": {},
   "source": [
    "## 5.4 비교연산자 : >, >= <, <=, ==(같다), !=(다르다)"
   ]
  },
  {
   "cell_type": "code",
   "execution_count": 29,
   "id": "c6a8b378",
   "metadata": {},
   "outputs": [
    {
     "name": "stdout",
     "output_type": "stream",
     "text": [
      "True\n",
      "True\n"
     ]
    }
   ],
   "source": [
    "# 비교연산자는 이항, 삼항, 사항... 다항연산자\n",
    "x = 5\n",
    "print((4<x) & (x<10))\n",
    "print(4 < x < 10)"
   ]
  },
  {
   "cell_type": "code",
   "execution_count": 38,
   "id": "4b8d8e66",
   "metadata": {},
   "outputs": [
    {
     "name": "stdout",
     "output_type": "stream",
     "text": [
      "True\n",
      "False\n",
      "False\n",
      "True\n"
     ]
    }
   ],
   "source": [
    "# 비교연산자의 우선 순위가 논리연산(&)의 우선순위보다 낮다\n",
    "print((10>5) & (10>7))\n",
    "print(10>5 & 10>7) # 0101\n",
    "                    # 1010\n",
    "print(10 > 0 > 7)\n",
    "print( 10>5 and 10 >7)"
   ]
  },
  {
   "cell_type": "code",
   "execution_count": 141,
   "id": "3d9ff2d2",
   "metadata": {},
   "outputs": [
    {
     "ename": "TypeError",
     "evalue": "unsupported operand type(s) for &: 'str' and 'int'",
     "output_type": "error",
     "traceback": [
      "\u001b[1;31m---------------------------------------------------------------------------\u001b[0m",
      "\u001b[1;31mTypeError\u001b[0m                                 Traceback (most recent call last)",
      "Cell \u001b[1;32mIn[141], line 3\u001b[0m\n\u001b[0;32m      1\u001b[0m address \u001b[38;5;241m=\u001b[39m \u001b[38;5;124m'\u001b[39m\u001b[38;5;124mSeoul\u001b[39m\u001b[38;5;124m'\u001b[39m\n\u001b[0;32m      2\u001b[0m age \u001b[38;5;241m=\u001b[39m \u001b[38;5;241m29\u001b[39m\n\u001b[1;32m----> 3\u001b[0m \u001b[38;5;28mprint\u001b[39m(address\u001b[38;5;241m==\u001b[39m\u001b[38;5;124;43m'\u001b[39;49m\u001b[38;5;124;43mSeoul\u001b[39;49m\u001b[38;5;124;43m'\u001b[39;49m\u001b[43m \u001b[49m\u001b[38;5;241;43m&\u001b[39;49m\u001b[43m \u001b[49m\u001b[43mage\u001b[49m\u001b[38;5;241m>\u001b[39m\u001b[38;5;241m=\u001b[39m \u001b[38;5;241m30\u001b[39m)\n",
      "\u001b[1;31mTypeError\u001b[0m: unsupported operand type(s) for &: 'str' and 'int'"
     ]
    }
   ],
   "source": [
    "address = 'Seoul'\n",
    "age = 29\n",
    "print(address=='Seoul' & age>= 30)"
   ]
  },
  {
   "cell_type": "code",
   "execution_count": 44,
   "id": "a99a80a8",
   "metadata": {},
   "outputs": [
    {
     "name": "stdout",
     "output_type": "stream",
     "text": [
      "False\n",
      "False\n"
     ]
    }
   ],
   "source": [
    "address = 'seoul'\n",
    "age = 29\n",
    "print((address=='seoul') & (age >= 30)) # 위와 같은 에러가 발생할 수 있음, 그러므로 묶어 줘야 한다.\n",
    "print((address!='seoul') & (age >=30))"
   ]
  },
  {
   "cell_type": "code",
   "execution_count": 45,
   "id": "60d34ab4",
   "metadata": {},
   "outputs": [
    {
     "data": {
      "text/plain": [
       "True"
      ]
     },
     "execution_count": 45,
     "metadata": {},
     "output_type": "execute_result"
    }
   ],
   "source": [
    "# 문자 비교 : ASCII 코드 순으로 비교 가능 : 특수문자 < 숫자 < 대문자 < 소문자 \n",
    "\n",
    "'scott' < 'tiger'"
   ]
  },
  {
   "cell_type": "code",
   "execution_count": 47,
   "id": "7ba88d77",
   "metadata": {},
   "outputs": [
    {
     "data": {
      "text/plain": [
       "False"
      ]
     },
     "execution_count": 47,
     "metadata": {},
     "output_type": "execute_result"
    }
   ],
   "source": [
    "'scott' < 'scotg'"
   ]
  },
  {
   "cell_type": "code",
   "execution_count": 48,
   "id": "3ee3710c",
   "metadata": {},
   "outputs": [
    {
     "data": {
      "text/plain": [
       "True"
      ]
     },
     "execution_count": 48,
     "metadata": {},
     "output_type": "execute_result"
    }
   ],
   "source": [
    " '9'> '10' # 문자도 비교가 가능 ASCII 코드 순으로 판단"
   ]
  },
  {
   "cell_type": "code",
   "execution_count": 50,
   "id": "06aee2bd",
   "metadata": {},
   "outputs": [
    {
     "data": {
      "text/plain": [
       "True"
      ]
     },
     "execution_count": 50,
     "metadata": {},
     "output_type": "execute_result"
    }
   ],
   "source": [
    "\"김길동\" < \"김길수\""
   ]
  },
  {
   "cell_type": "markdown",
   "id": "06afc16d",
   "metadata": {},
   "source": [
    "## 5.5 비트연산자 : &, |, ^(XOR), ~"
   ]
  },
  {
   "cell_type": "code",
   "execution_count": null,
   "id": "e8ea7ade",
   "metadata": {},
   "outputs": [],
   "source": [
    "x  y x&y x^y\n",
    "0  0  0   0 \n",
    "0  1  0   1\n",
    "1  0  0   1\n",
    "1  1  1   0"
   ]
  },
  {
   "cell_type": "code",
   "execution_count": 52,
   "id": "28fb1716",
   "metadata": {},
   "outputs": [
    {
     "name": "stdout",
     "output_type": "stream",
     "text": [
      "a = 15 : 1111\n",
      "b = 15 : 1111\n",
      "a^b = 15 : 1111\n"
     ]
    }
   ],
   "source": [
    "a = 15 #1111\n",
    "b = 2 #0010\n",
    "print(\"a = {0:2} : {0:04b}\".format(a))\n",
    "print(\"b = {0:2} : {0:04b}\".format(a))\n",
    "print(\"a^b = {0:2} : {0:04b}\".format(a))"
   ]
  },
  {
   "cell_type": "markdown",
   "id": "9267c781",
   "metadata": {},
   "source": [
    "- 연산자\n",
    "    - 산술연산 : + - * / // % **\n",
    "    - 산술연산 : = += -= *= /= //= %=\n",
    "    - 논리연산 : & 뭉 | ㅐㄱ ㅜㅐㅅ\n",
    "    - 비교연산 : > >= < <= == !=\n",
    "    - 비트연산 : & | ^ \n",
    "    - &와 |은 비교 연산자보다 우선순위가 높다."
   ]
  },
  {
   "cell_type": "markdown",
   "id": "9a40a117",
   "metadata": {},
   "source": [
    "# 6절. 문자열 다루기\n",
    "- 문자열 슬라이싱 변수[from:stop:step]\n",
    "- len(문자열변수) : 문자 갯수\n",
    "\n",
    "- upper() : 대문자로\n",
    "- lower() : 소문자로\n",
    "- title() : 각 어절의 첫 글자만 대문자로\n",
    "- capitalize : 첫 문자만 대문자로\n",
    "- count('찾을 문자열') : 찾을 문자열이 몇개 들어있는지 갯수 반환\n",
    "- find('찾을 문자열') : 찾을 문자열이 왼쪽부터 시작하여 몇 번째 인덱스에 있는지 인덱스를 반환\n",
    "- rfind('찾을 문자열\") : 찾을 문자열이 오른쪽부터 시작하여 몇 번째 인덱스에 있는지 인덱스를 반환 \n",
    "        **찾을 문자열이 없으면 -1을 반환**\n",
    "    cf) index('찾을 문자열') : 찾을 문자열의 인덱스를 반환, 찾을 문자열이 없으면 오류 발생\n",
    "- startswith('특정 문자열') : 특정 문자열로 시작하는지 여부를 확인하여 true or false 반환\n",
    "- endswith('특정 문자열') : 특정 문자열로 끝나는지 여부를 확인하여 true or false 반환\n",
    "- strip() : 좌우 공백 제거\n",
    "- rstrip() : 오른쪽 공백만 제거\n",
    "- lstrip() : 왼쪽 공백만 제거\n",
    "- isdigit() : 문자열이 숫자 문자열인지 여부 반환 \"10\" true \"10점\" false\n",
    "- islower() : 소문자 문자열인지 여부 반환\n",
    "- isupper() : 대문자 문자열인지 여부 반환\n",
    "- replace(oldstr, newstr) :oldstr을 newstr로 변경\n"
   ]
  },
  {
   "cell_type": "code",
   "execution_count": 66,
   "id": "932cc205",
   "metadata": {},
   "outputs": [
    {
     "data": {
      "text/plain": [
       "('python is easy. pYTHON is smart. python', 39)"
      ]
     },
     "execution_count": 66,
     "metadata": {},
     "output_type": "execute_result"
    }
   ],
   "source": [
    "temp = \"python is easy. pYTHON is smart. python\"\n",
    "#       12345678901234567890123456789012345678\n",
    "temp, len(temp)\n"
   ]
  },
  {
   "cell_type": "code",
   "execution_count": 94,
   "id": "af1f04aa",
   "metadata": {},
   "outputs": [
    {
     "name": "stdout",
     "output_type": "stream",
     "text": [
      "1. 글자수 39\n",
      "2. 대문자로 PYTHON IS EASY. PYTHON IS SMART. PYTHON\n",
      "3. 소문자로 python is easy. python is smart. python\n",
      "4. title Python Is Easy. Python Is Smart. Python\n",
      "5. capitalize Python is easy. python is smart. python\n",
      "6. python이 몇번 나오는지 : 2\n",
      "7. 대소문자 구분없이 python이 몇번 나오는지 :  3\n",
      "7. 대소문자 구분없이 python이 몇번 나오는지 :  3\n",
      "7. 대소문자 구분없이 python이 몇번 나오는지 :  3\n",
      "8. python이 나오는 첫 index 위치 :  0\n",
      "8. python이 나오는 마지막 index 위치 :  33\n",
      "8. python이 나오는 마지막 index 위치 :  -1\n",
      "9. pyton으로 시작하는지 여부 : True\n",
      "10. pyton으로 끝나는지 여부 : True\n"
     ]
    }
   ],
   "source": [
    "print('1. 글자수', len(temp))\n",
    "print('2. 대문자로', temp.upper())\n",
    "print('3. 소문자로', temp.lower())\n",
    "print('4. title', temp.title())\n",
    "print('5. capitalize', temp.capitalize())\n",
    "print('6. python이 몇번 나오는지 :', temp.count('python'))\n",
    "print('7. 대소문자 구분없이 python이 몇번 나오는지 : ', temp.lower().count('python'))\n",
    "print('7. 대소문자 구분없이 python이 몇번 나오는지 : ', temp.upper().count('PYTHON'))\n",
    "print('7. 대소문자 구분없이 python이 몇번 나오는지 : ', temp.title().count('Python'))\n",
    "print('8. python이 나오는 첫 index 위치 : ', temp.find('python'))\n",
    "print('8. python이 나오는 마지막 index 위치 : ', temp.rfind('python'))\n",
    "print('8. python이 나오는 마지막 index 위치 : ', temp.rfind('java'))\n",
    "print('9. pyton으로 시작하는지 여부 :', temp.startswith('python'))\n",
    "print('10. pyton으로 끝나는지 여부 :', temp.endswith('python'))\n",
    "print('10. python으로 시작하는지 여부 :', temp.startswith('python'))"
   ]
  },
  {
   "cell_type": "code",
   "execution_count": 117,
   "id": "c3c6b9c9",
   "metadata": {},
   "outputs": [
    {
     "name": "stdout",
     "output_type": "stream",
     "text": [
      "11. 좌우공백 제거 : pyhton is easy.\n",
      "11. 좌우공백 제거 : [pyhton is easy.]\n",
      "11. 좌측공백 제거 : [pyhton is easy.      ]\n",
      "11. 우측공백 제거 : [      pyhton is easy.]\n",
      "12. 숫자문자열인지 : [False]\n",
      "13. 소문자 문자열인지 : [False]\n",
      "13. 대문자 문자열인지 : [False]\n",
      "13. 대문자 문자열인지 : [False]\n",
      "14. , 제거 : 1000\n",
      "14. , 제거 : 1000\n"
     ]
    }
   ],
   "source": [
    "temp = '      pyhton is easy.      '\n",
    "notdisit = '1,000'\n",
    "num_str = '1000'\n",
    "print('11. 좌우공백 제거 :', temp.strip())\n",
    "print('11. 좌우공백 제거 : [{}]'.format(temp.strip()))\n",
    "print('11. 좌측공백 제거 : [{}]'.format(temp.lstrip()))\n",
    "print('11. 우측공백 제거 : [{}]'.format(temp.rstrip()))\n",
    "print('12. 숫자문자열인지 : [{}]'.format(notdisit.isdigit()))\n",
    "print('13. 소문자 문자열인지 : [{}]'.format(notdisit.islower()))\n",
    "print('13. 대문자 문자열인지 : [{}]'.format(notdisit.isupper()))\n",
    "print('13. 대문자 문자열인지 : [{}]'.format(notdisit.isupper()))\n",
    "print('14. , 제거 :', notdisit.replace(',', ''))\n",
    "print('14. , 제거 :', num_str.replace(',',''))"
   ]
  },
  {
   "cell_type": "code",
   "execution_count": 120,
   "id": "1c3ef0d0",
   "metadata": {},
   "outputs": [
    {
     "name": "stdout",
     "output_type": "stream",
     "text": [
      "space 단위로 temp를 분리 : ['홍길동', '김길동', '실길똥', '유길동']\n"
     ]
    }
   ],
   "source": [
    "temp = \" 홍길동   김길동 실길똥 유길동\"\n",
    "print('space 단위로 temp를 분리 :', temp.split()) # 기본이 space 단위로 분리"
   ]
  },
  {
   "cell_type": "code",
   "execution_count": 129,
   "id": "5b17669e",
   "metadata": {},
   "outputs": [
    {
     "name": "stdout",
     "output_type": "stream",
     "text": [
      " - 단위로 data를 분리 (결과 : list)\n",
      "['2025', '04', '10']\n",
      "년 : 2025\n",
      "월 : 04\n",
      "일 : 10\n"
     ]
    }
   ],
   "source": [
    "data = \"2025-04-10\"\n",
    "data_list = data.split('-')\n",
    "print(' - 단위로 data를 분리 (결과 : list)')\n",
    "print(data_list)\n",
    "print(\"년 :\", data_list[0])\n",
    "print(\"월 :\", data_list[1])\n",
    "print(\"일 :\", data_list[2])"
   ]
  },
  {
   "cell_type": "code",
   "execution_count": 132,
   "id": "07e5eb50",
   "metadata": {},
   "outputs": [
    {
     "name": "stdout",
     "output_type": "stream",
     "text": [
      "원 데이터 : Python - HTML/CSS - JavaSCript - DBMS\n",
      "분리된 대이터: ['Python ', ' HTML/CSS ', ' JavaSCript ', ' DBMS']\n",
      "Join된 데이터 : Python / HTML/CSS / JavaSCript / DBMS\n"
     ]
    }
   ],
   "source": [
    "# ' - ' 을 '/'로 바꾸기\n",
    "temp = \"Python - HTML/CSS - JavaSCript - DBMS\"\n",
    "# temp.replace('-','/')\n",
    "print('원 데이터 :', temp)\n",
    "splited_temp = temp.split('-')\n",
    "print('분리된 대이터:', splited_temp)\n",
    "joined_temp = '/'.join(splited_temp)\n",
    "print('Join된 데이터 :', joined_temp)"
   ]
  },
  {
   "cell_type": "code",
   "execution_count": null,
   "id": "78d4e74e",
   "metadata": {},
   "outputs": [],
   "source": [
    "str_ = 'ABC'\n",
    "# str_ = ['A', 'B','C']"
   ]
  },
  {
   "cell_type": "code",
   "execution_count": 134,
   "id": "e758a9b2",
   "metadata": {
    "collapsed": true
   },
   "outputs": [
    {
     "data": {
      "text/plain": [
       "['__add__',\n",
       " '__class__',\n",
       " '__contains__',\n",
       " '__delattr__',\n",
       " '__dir__',\n",
       " '__doc__',\n",
       " '__eq__',\n",
       " '__format__',\n",
       " '__ge__',\n",
       " '__getattribute__',\n",
       " '__getitem__',\n",
       " '__getnewargs__',\n",
       " '__gt__',\n",
       " '__hash__',\n",
       " '__init__',\n",
       " '__init_subclass__',\n",
       " '__iter__',\n",
       " '__le__',\n",
       " '__len__',\n",
       " '__lt__',\n",
       " '__mod__',\n",
       " '__mul__',\n",
       " '__ne__',\n",
       " '__new__',\n",
       " '__reduce__',\n",
       " '__reduce_ex__',\n",
       " '__repr__',\n",
       " '__rmod__',\n",
       " '__rmul__',\n",
       " '__setattr__',\n",
       " '__sizeof__',\n",
       " '__str__',\n",
       " '__subclasshook__',\n",
       " 'capitalize',\n",
       " 'casefold',\n",
       " 'center',\n",
       " 'count',\n",
       " 'encode',\n",
       " 'endswith',\n",
       " 'expandtabs',\n",
       " 'find',\n",
       " 'format',\n",
       " 'format_map',\n",
       " 'index',\n",
       " 'isalnum',\n",
       " 'isalpha',\n",
       " 'isascii',\n",
       " 'isdecimal',\n",
       " 'isdigit',\n",
       " 'isidentifier',\n",
       " 'islower',\n",
       " 'isnumeric',\n",
       " 'isprintable',\n",
       " 'isspace',\n",
       " 'istitle',\n",
       " 'isupper',\n",
       " 'join',\n",
       " 'ljust',\n",
       " 'lower',\n",
       " 'lstrip',\n",
       " 'maketrans',\n",
       " 'partition',\n",
       " 'removeprefix',\n",
       " 'removesuffix',\n",
       " 'replace',\n",
       " 'rfind',\n",
       " 'rindex',\n",
       " 'rjust',\n",
       " 'rpartition',\n",
       " 'rsplit',\n",
       " 'rstrip',\n",
       " 'split',\n",
       " 'splitlines',\n",
       " 'startswith',\n",
       " 'strip',\n",
       " 'swapcase',\n",
       " 'title',\n",
       " 'translate',\n",
       " 'upper',\n",
       " 'zfill']"
      ]
     },
     "execution_count": 134,
     "metadata": {},
     "output_type": "execute_result"
    }
   ],
   "source": [
    "# 문자열이 다를 수 있는 함수들과 변수들 목록\n",
    "dir(str) # 요거로 아래 처럼 내용을 확인할 수 있음. 실제로는 잘 사용하지 않음. 수업시간에는 자주 사용하는 것들 위주로 강의할 것임\n"
   ]
  },
  {
   "cell_type": "markdown",
   "id": "cfab031f",
   "metadata": {},
   "source": [
    "# 7절. 시간, 날짜, 날짜시간 다루기"
   ]
  },
  {
   "cell_type": "code",
   "execution_count": null,
   "id": "690c623d",
   "metadata": {},
   "outputs": [],
   "source": [
    "# 예습"
   ]
  },
  {
   "cell_type": "code",
   "execution_count": 3,
   "id": "13682a28",
   "metadata": {},
   "outputs": [
    {
     "name": "stdout",
     "output_type": "stream",
     "text": [
      "현재 :  2025-04-11 09:19:55.702454\n",
      "오늘 :  2025-04-11\n"
     ]
    }
   ],
   "source": [
    "import datetime # 함수\n",
    "\n",
    "now = datetime.datetime.now() # 지금 시간을 변수로 지정\n",
    "today = datetime.date.today() # 오늘 날짜를 변수로 지정\n",
    "print(\"현재 : \",now)\n",
    "print(\"오늘 : \", today)"
   ]
  },
  {
   "cell_type": "code",
   "execution_count": 11,
   "id": "2963cc26",
   "metadata": {},
   "outputs": [
    {
     "name": "stdout",
     "output_type": "stream",
     "text": [
      "내일 : 2025-04-12\n",
      "어제 : 2025-04-10\n"
     ]
    }
   ],
   "source": [
    "from datetime import timedelta # timedelta 날짜의 연산형식  추가 또는 삭제\n",
    "today = datetime.date.today()\n",
    "tomorrow = today + timedelta(days=1) # 날자를 1일씩 추가\n",
    "yesterday = today - timedelta(days=1) # 날자를 1일씩 빼기\n",
    "print(\"내일 :\", tomorrow)\n",
    "print(\"어제 :\", yesterday)"
   ]
  },
  {
   "cell_type": "code",
   "execution_count": 25,
   "id": "ac8c6c3e",
   "metadata": {},
   "outputs": [],
   "source": [
    "# 4/11 강의"
   ]
  },
  {
   "cell_type": "code",
   "execution_count": 27,
   "id": "64d2d59c",
   "metadata": {},
   "outputs": [],
   "source": [
    "# 주말을 활용해서 연습문제도 풀어보고 백문이 불여일타 실천!!!\n",
    "# GIT 요약내용 정리\n",
    "# 간단 간단한 문제들을 꾸준히 풀어 보는 것이 실제 구현하는 능력을 키울 수 있는 방법임"
   ]
  },
  {
   "cell_type": "code",
   "execution_count": 29,
   "id": "562df86c",
   "metadata": {},
   "outputs": [
    {
     "data": {
      "text/plain": [
       "'C:\\\\Users\\\\Admin\\\\anaconda3\\\\lib\\\\datetime.py'"
      ]
     },
     "execution_count": 29,
     "metadata": {},
     "output_type": "execute_result"
    }
   ],
   "source": [
    "import datetime\n",
    "\n",
    "datetime.__file__ # 시스템 상에 어떤 위치에 해당 기능이 있는지 위치 확인하는 시스템 명령어"
   ]
  },
  {
   "cell_type": "code",
   "execution_count": 30,
   "id": "b269224b",
   "metadata": {},
   "outputs": [],
   "source": [
    "# datetime 모듈(datetime.py) 안의 datetime, date, time을 import\n",
    "from datetime import datetime, date, time\n"
   ]
  },
  {
   "cell_type": "markdown",
   "id": "3a627e7a",
   "metadata": {},
   "source": [
    "## 7.1 시간과 날짜"
   ]
  },
  {
   "cell_type": "code",
   "execution_count": 12,
   "id": "3cdf9c6c",
   "metadata": {},
   "outputs": [],
   "source": [
    "# 특정한 시점을 갖는 datetiem 객체 생성"
   ]
  },
  {
   "cell_type": "code",
   "execution_count": 41,
   "id": "45156ce3",
   "metadata": {},
   "outputs": [
    {
     "name": "stdout",
     "output_type": "stream",
     "text": [
      "2025-04-07 09:30:00\n",
      "Mon Apr  7 09:30:00 2025\n",
      "2025년04월07일(월요일) 오전 09시30분00초\n",
      "202504월07일(월요일) 오전 09시30분00초\n"
     ]
    }
   ],
   "source": [
    "from datetime import datetime, date, time\n",
    "thatday = datetime(2025, 4, 7, 9, 30, 0)\n",
    "print(thatday)\n",
    "print(thatday.ctime()) # ctime() : 사람이 읽기 쉬운 형태로 반환 (미쿡사람용)\n",
    "print(\"{:%Y년%m월%d일(%A) %p %H시%M분%S초}\".format(thatday))\n",
    "print(thatday.strftime(\"%Y%m월%d일(%A) %p %H시%M분%S초\"))"
   ]
  },
  {
   "cell_type": "code",
   "execution_count": 27,
   "id": "4e6f3886",
   "metadata": {},
   "outputs": [
    {
     "data": {
      "text/plain": [
       "'ko_KR'"
      ]
     },
     "execution_count": 27,
     "metadata": {},
     "output_type": "execute_result"
    }
   ],
   "source": [
    "import locale\n",
    "locale.setlocale(locale.LC_TIME, 'ko_KR')"
   ]
  },
  {
   "cell_type": "code",
   "execution_count": 47,
   "id": "f9fe7f50",
   "metadata": {},
   "outputs": [
    {
     "name": "stdout",
     "output_type": "stream",
     "text": [
      "2025-0411(금요일) 10:59:28\n"
     ]
    }
   ],
   "source": [
    "# 오늘\n",
    "now = datetime.now()\n",
    "print(now.strftime(\"%Y-%m%d(%A) %H:%M:%S\"))"
   ]
  },
  {
   "cell_type": "code",
   "execution_count": 48,
   "id": "ffca8def",
   "metadata": {},
   "outputs": [
    {
     "name": "stdout",
     "output_type": "stream",
     "text": [
      "날짜차지: 4 일\n"
     ]
    }
   ],
   "source": [
    "from datetime import datetime, date, time\n",
    "diff = now-thatday\n",
    "print(\"날짜차지:\", diff.days, \"일\")"
   ]
  },
  {
   "cell_type": "code",
   "execution_count": 49,
   "id": "e4a4b9d2",
   "metadata": {},
   "outputs": [
    {
     "name": "stdout",
     "output_type": "stream",
     "text": [
      "날짜 차이: 10 일\n"
     ]
    }
   ],
   "source": [
    "from datetime import datetime, date\n",
    "\n",
    "now = date.today()\n",
    "thatday = date(2025, 4, 1)\n",
    "\n",
    "diff = now - thatday\n",
    "print(\"날짜 차이:\", diff.days, \"일\")"
   ]
  },
  {
   "cell_type": "markdown",
   "id": "2cc39f2f",
   "metadata": {},
   "source": [
    "## 7.2 날짜"
   ]
  },
  {
   "cell_type": "code",
   "execution_count": 15,
   "id": "3ffafeea",
   "metadata": {},
   "outputs": [],
   "source": [
    "someday = date(2025, 9, 3)"
   ]
  },
  {
   "cell_type": "code",
   "execution_count": 63,
   "id": "948f24a3",
   "metadata": {},
   "outputs": [
    {
     "data": {
      "text/plain": [
       "True"
      ]
     },
     "execution_count": 63,
     "metadata": {},
     "output_type": "execute_result"
    }
   ],
   "source": [
    "from datetime import datetime, date\n",
    "someday = date(2025, 9, 7)\n",
    "# 오늘\n",
    "today1 = datetime.now().date()\n",
    "today2 = date.today()\n",
    "today1 == today2"
   ]
  },
  {
   "cell_type": "code",
   "execution_count": 64,
   "id": "de3995c6",
   "metadata": {},
   "outputs": [
    {
     "name": "stdout",
     "output_type": "stream",
     "text": [
      "25년 04월 11일\n"
     ]
    }
   ],
   "source": [
    "print(today1.strftime(\"%y년 %m월 %d일\"))"
   ]
  },
  {
   "cell_type": "code",
   "execution_count": 65,
   "id": "b6487bb5",
   "metadata": {},
   "outputs": [
    {
     "data": {
      "text/plain": [
       "datetime.timedelta(days=149)"
      ]
     },
     "execution_count": 65,
     "metadata": {},
     "output_type": "execute_result"
    }
   ],
   "source": [
    "diff = someday- today1\n",
    "diff"
   ]
  },
  {
   "cell_type": "code",
   "execution_count": 67,
   "id": "12687282",
   "metadata": {},
   "outputs": [
    {
     "name": "stdout",
     "output_type": "stream",
     "text": [
      "13:10:00\n",
      "오후 01시 10분\n"
     ]
    }
   ],
   "source": [
    "# 특정시간\n",
    "from datetime import datetime, date, time\n",
    "t = time(13,10)\n",
    "print(t)\n",
    "print(t.strftime(\"%p %I시 %M분\"))"
   ]
  },
  {
   "cell_type": "code",
   "execution_count": 68,
   "id": "5684275c",
   "metadata": {},
   "outputs": [
    {
     "data": {
      "text/plain": [
       "datetime.time(11, 1, 44, 571196)"
      ]
     },
     "execution_count": 68,
     "metadata": {},
     "output_type": "execute_result"
    }
   ],
   "source": [
    "# 지금 시간\n",
    "now_time = datetime.now().time()\n",
    "now_time"
   ]
  },
  {
   "cell_type": "code",
   "execution_count": 69,
   "id": "8281160b",
   "metadata": {},
   "outputs": [
    {
     "data": {
      "text/plain": [
       "'11시 01분 44초'"
      ]
     },
     "execution_count": 69,
     "metadata": {},
     "output_type": "execute_result"
    }
   ],
   "source": [
    "now_time.strftime(\"%H시 %M분 %S초\")"
   ]
  },
  {
   "cell_type": "markdown",
   "id": "04aace63",
   "metadata": {},
   "source": [
    "**datetime, date, time 형들을 원하는 포맷의 문자형으로 반환 : strftime()**\n",
    "- %Y, %y, %m, %d, %A(요일) %p(오전/오후) %H(24시) %I(12시) %M(분) %S(초)"
   ]
  },
  {
   "cell_type": "code",
   "execution_count": null,
   "id": "7d613dc2",
   "metadata": {},
   "outputs": [],
   "source": []
  },
  {
   "cell_type": "code",
   "execution_count": null,
   "id": "740b0096",
   "metadata": {},
   "outputs": [],
   "source": []
  },
  {
   "cell_type": "code",
   "execution_count": null,
   "id": "e1c40913",
   "metadata": {},
   "outputs": [],
   "source": []
  },
  {
   "cell_type": "code",
   "execution_count": null,
   "id": "09804377",
   "metadata": {},
   "outputs": [],
   "source": []
  },
  {
   "cell_type": "code",
   "execution_count": null,
   "id": "eba2469f",
   "metadata": {},
   "outputs": [],
   "source": []
  },
  {
   "cell_type": "code",
   "execution_count": null,
   "id": "3d5ba331",
   "metadata": {},
   "outputs": [],
   "source": []
  },
  {
   "cell_type": "markdown",
   "id": "b8a5b2a6",
   "metadata": {},
   "source": [
    "# 8절. 연습문제"
   ]
  },
  {
   "cell_type": "code",
   "execution_count": 24,
   "id": "7df63924",
   "metadata": {},
   "outputs": [],
   "source": [
    "# 4/10 수업을 연습문제 풀고 날짜 시간은 4/11일 이어갈 예정 쉬우므로.."
   ]
  },
  {
   "cell_type": "markdown",
   "id": "516a1fa3",
   "metadata": {},
   "source": [
    "1. 이름과 나이 변수를 다음 형식으로 출력하도록 format() 함수를 이용해 형식화하세요\n",
    "[출력형식 : 홍길동님의 나이는 23 살입니다]"
   ]
  },
  {
   "cell_type": "code",
   "execution_count": 135,
   "id": "b1521871",
   "metadata": {},
   "outputs": [
    {
     "name": "stdout",
     "output_type": "stream",
     "text": [
      "홍길동님의 나이는 23살입니다.\n"
     ]
    }
   ],
   "source": [
    "name = \"홍길동\"\n",
    "age = 23\n",
    "print(\"{}님의 나이는 {}살입니다.\".format(name, age))"
   ]
  },
  {
   "cell_type": "markdown",
   "id": "4a7fb056",
   "metadata": {},
   "source": [
    "2. 두 정수를 입력받아 두 수의 덧셈 , 뺄셈 , 곱셈 , 나눗셈 , 몫 , 나머지를 출력하세요"
   ]
  },
  {
   "cell_type": "code",
   "execution_count": 136,
   "id": "70ea79c4",
   "metadata": {},
   "outputs": [
    {
     "name": "stdout",
     "output_type": "stream",
     "text": [
      "첫번쨰 정수를 입력해주세요 :10\n",
      "두번째 정수를 입력해주세요 :20\n",
      "덧셈 : 10 +20 = 30\n",
      "뺄셈 : 10 - 20 = -10\n",
      "곱셈 : 10 * 20 = 200\n",
      "나눗셈 : 10/20 = 0.5\n",
      "몫 : 10 // 20 = 0\n",
      "나머지 : 10 % 20 = 10\n"
     ]
    }
   ],
   "source": [
    "num1 = int(input(\"첫번쨰 정수를 입력해주세요 :\"))\n",
    "num2 = int(input(\"두번째 정수를 입력해주세요 :\"))\n",
    "print(\"덧셈 : {} +{} = {}\".format(num1, num2, num1+num2))\n",
    "print(\"뺄셈 : {} - {} = {}\".format(num1, num2, num1-num2))\n",
    "print(\"곱셈 : {} * {} = {}\".format(num1, num2, num1*num2))\n",
    "print(\"나눗셈 : {}/{} = {}\".format(num1, num2, num1/num2))\n",
    "print(\"몫 : {} // {} = {}\".format(num1, num2, num1//num2))\n",
    "print(\"나머지 : {} % {} = {}\".format(num1, num2, num1%num2))"
   ]
  },
  {
   "cell_type": "markdown",
   "id": "cdbf929c",
   "metadata": {},
   "source": [
    "3. 문자열의 분리하기와 합치기 기능을 이용하여 ‘Hello 가 할당된 변수를 이용하여 ‘World 로 출력하세요"
   ]
  },
  {
   "cell_type": "code",
   "execution_count": 143,
   "id": "611402a0",
   "metadata": {},
   "outputs": [
    {
     "name": "stdout",
     "output_type": "stream",
     "text": [
      "World\n"
     ]
    }
   ],
   "source": [
    "origin = \"Hello\"\n",
    "str_ = list(origin)\n",
    "str_[0] = 'W'\n",
    "str_[1] = 'o'\n",
    "str_[2] = 'r'\n",
    "str_[3] = 'l'\n",
    "str_[4] = 'd'\n",
    "result = ''.join(str_)\n",
    "print(result)"
   ]
  },
  {
   "cell_type": "markdown",
   "id": "62a50971",
   "metadata": {},
   "source": [
    "4. x = ' abcdef ＇를 이용하여 bcdefa 로 출력하세요 문자 슬라이싱이용"
   ]
  },
  {
   "cell_type": "code",
   "execution_count": 150,
   "id": "16d9e4f1",
   "metadata": {},
   "outputs": [
    {
     "name": "stdout",
     "output_type": "stream",
     "text": [
      "공백제거 : abcdef\n",
      "문자슬라이싱이용 : bcdefa\n"
     ]
    }
   ],
   "source": [
    "x = '   abcdef   ' \n",
    "y = x.strip()\n",
    "print('공백제거 :', x.strip())\n",
    "print('문자슬라이싱이용 :', y[1:6]+y[0])"
   ]
  },
  {
   "cell_type": "markdown",
   "id": "8490eb39",
   "metadata": {},
   "source": [
    "5. x = ‘ abcdef 를 이용하여 fedcba 로 출력하세요"
   ]
  },
  {
   "cell_type": "code",
   "execution_count": 161,
   "id": "ddd8d150",
   "metadata": {},
   "outputs": [
    {
     "name": "stdout",
     "output_type": "stream",
     "text": [
      "공백제거 : abcdef\n",
      "문자슬라이싱이용 거꾸로 : fedcba\n"
     ]
    }
   ],
   "source": [
    "x = '   abcdef   ' \n",
    "y = x.strip()\n",
    "print('공백제거 :', x.strip())\n",
    "print('문자슬라이싱이용 거꾸로 :', y[::-1])\n",
    "\n",
    "# str_[9:0:-1] # 스트링을 거꾸로 출력"
   ]
  },
  {
   "cell_type": "markdown",
   "id": "37c50fe2",
   "metadata": {},
   "source": [
    "6. 오늘의 온도를 섭씨온도로 입력받아 화씨 온도로 변환하는 프로그램을 작성하세요 . \n",
    "화씨 온도는 소수점이 있을 경우만 두번째 자리까지 출력되고 , \n",
    "소수점이하 값이 없는 경우 소수점을 출력하지 않도록 합니다 다음은 섭씨와 화씨의 변환 공식입니다 . \n",
    "C 는 섭씨 ,F 는 화씨 \n",
    "C = (F32) / 1.8 \n",
    "F = (C1.8) + 32"
   ]
  },
  {
   "cell_type": "code",
   "execution_count": 173,
   "id": "a696acc6",
   "metadata": {},
   "outputs": [
    {
     "name": "stdout",
     "output_type": "stream",
     "text": [
      "오늘의 섭씨온도를 입력해주세요12\n",
      "화씨온도는 53.6도입니다요.\n"
     ]
    }
   ],
   "source": [
    "c_temp = float(input('오늘의 섭씨온도를 입력해주세요'))\n",
    "f_temp = (c_temp*1.8) + 32\n",
    "print(f\"화씨온도는 {f_temp}도입니다요.\")"
   ]
  },
  {
   "cell_type": "code",
   "execution_count": null,
   "id": "dd342186",
   "metadata": {},
   "outputs": [],
   "source": []
  },
  {
   "cell_type": "code",
   "execution_count": null,
   "id": "d4352314",
   "metadata": {},
   "outputs": [],
   "source": []
  },
  {
   "cell_type": "code",
   "execution_count": null,
   "id": "d8a97b06",
   "metadata": {},
   "outputs": [],
   "source": []
  },
  {
   "cell_type": "code",
   "execution_count": null,
   "id": "faed0a08",
   "metadata": {},
   "outputs": [],
   "source": []
  }
 ],
 "metadata": {
  "kernelspec": {
   "display_name": "Python 3 (ipykernel)",
   "language": "python",
   "name": "python3"
  },
  "language_info": {
   "codemirror_mode": {
    "name": "ipython",
    "version": 3
   },
   "file_extension": ".py",
   "mimetype": "text/x-python",
   "name": "python",
   "nbconvert_exporter": "python",
   "pygments_lexer": "ipython3",
   "version": "3.10.9"
  },
  "toc": {
   "base_numbering": 1,
   "nav_menu": {},
   "number_sections": false,
   "sideBar": true,
   "skip_h1_title": false,
   "title_cell": "Table of Contents",
   "title_sidebar": "Contents",
   "toc_cell": false,
   "toc_position": {
    "height": "calc(100% - 180px)",
    "left": "10px",
    "top": "150px",
    "width": "221.188px"
   },
   "toc_section_display": true,
   "toc_window_display": true
  }
 },
 "nbformat": 4,
 "nbformat_minor": 5
}
