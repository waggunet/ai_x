{
 "cells": [
  {
   "cell_type": "code",
   "execution_count": 1,
   "id": "7ba81869",
   "metadata": {},
   "outputs": [
    {
     "data": {
      "text/html": [
       "\n",
       "<style>\n",
       "div.container{width:86% !important;}\n",
       "div.cell.code_cell.rendered{width:100%;}\n",
       "div.CodeMirror {font-family:Consolas; font-size:13pt;\n",
       "div.output {font-size:12pt; font-weight:bold;}\n",
       "div.input {font-family:Consolas; font-size:10pt;}\n",
       "div.prompt {min-width:70px;}\n",
       "div#toc-wrapper{padding-top:120px;}\n",
       "div.text_cell_render ul li{font-size:10pt;padding:5px;}\n",
       "table.dataframe{font-size:15px;\n",
       "</style>\n"
      ],
      "text/plain": [
       "<IPython.core.display.HTML object>"
      ]
     },
     "metadata": {},
     "output_type": "display_data"
    }
   ],
   "source": [
    "# 매 강의 시작시마다 동일하게 처리해야 함\n",
    "from IPython.display import display, HTML\n",
    "display(HTML(\"\"\"\n",
    "<style>\n",
    "div.container{width:86% !important;}\n",
    "div.cell.code_cell.rendered{width:100%;}\n",
    "div.CodeMirror {font-family:Consolas; font-size:13pt;\n",
    "div.output {font-size:12pt; font-weight:bold;}\n",
    "div.input {font-family:Consolas; font-size:10pt;}\n",
    "div.prompt {min-width:70px;}\n",
    "div#toc-wrapper{padding-top:120px;}\n",
    "div.text_cell_render ul li{font-size:10pt;padding:5px;}\n",
    "table.dataframe{font-size:15px;\n",
    "</style>\n",
    "\"\"\"))"
   ]
  },
  {
   "cell_type": "markdown",
   "id": "4bd10a06",
   "metadata": {},
   "source": [
    "<b><font size=\"5\" color=\"red\">ch11. 데이터프레임과 시리즈</font></b>\n",
    "\n",
    "# 9절 데이터 그룹화 및 집계"
   ]
  },
  {
   "cell_type": "code",
   "execution_count": 2,
   "id": "12d59325",
   "metadata": {},
   "outputs": [
    {
     "data": {
      "text/html": [
       "<div>\n",
       "<style scoped>\n",
       "    .dataframe tbody tr th:only-of-type {\n",
       "        vertical-align: middle;\n",
       "    }\n",
       "\n",
       "    .dataframe tbody tr th {\n",
       "        vertical-align: top;\n",
       "    }\n",
       "\n",
       "    .dataframe thead th {\n",
       "        text-align: right;\n",
       "    }\n",
       "</style>\n",
       "<table border=\"1\" class=\"dataframe\">\n",
       "  <thead>\n",
       "    <tr style=\"text-align: right;\">\n",
       "      <th></th>\n",
       "      <th>Sepal.Length</th>\n",
       "      <th>Sepal.Width</th>\n",
       "      <th>Petal.Length</th>\n",
       "      <th>Petal.Width</th>\n",
       "      <th>Species</th>\n",
       "    </tr>\n",
       "  </thead>\n",
       "  <tbody>\n",
       "    <tr>\n",
       "      <th>0</th>\n",
       "      <td>5.1</td>\n",
       "      <td>3.5</td>\n",
       "      <td>1.4</td>\n",
       "      <td>0.2</td>\n",
       "      <td>setosa</td>\n",
       "    </tr>\n",
       "    <tr>\n",
       "      <th>25</th>\n",
       "      <td>5.0</td>\n",
       "      <td>3.0</td>\n",
       "      <td>1.6</td>\n",
       "      <td>0.2</td>\n",
       "      <td>setosa</td>\n",
       "    </tr>\n",
       "    <tr>\n",
       "      <th>50</th>\n",
       "      <td>7.0</td>\n",
       "      <td>3.2</td>\n",
       "      <td>4.7</td>\n",
       "      <td>1.4</td>\n",
       "      <td>versicolor</td>\n",
       "    </tr>\n",
       "    <tr>\n",
       "      <th>75</th>\n",
       "      <td>6.6</td>\n",
       "      <td>3.0</td>\n",
       "      <td>4.4</td>\n",
       "      <td>1.4</td>\n",
       "      <td>versicolor</td>\n",
       "    </tr>\n",
       "    <tr>\n",
       "      <th>100</th>\n",
       "      <td>6.3</td>\n",
       "      <td>3.3</td>\n",
       "      <td>6.0</td>\n",
       "      <td>2.5</td>\n",
       "      <td>virginica</td>\n",
       "    </tr>\n",
       "    <tr>\n",
       "      <th>125</th>\n",
       "      <td>7.2</td>\n",
       "      <td>3.2</td>\n",
       "      <td>6.0</td>\n",
       "      <td>1.8</td>\n",
       "      <td>virginica</td>\n",
       "    </tr>\n",
       "  </tbody>\n",
       "</table>\n",
       "</div>"
      ],
      "text/plain": [
       "     Sepal.Length  Sepal.Width  Petal.Length  Petal.Width     Species\n",
       "0             5.1          3.5           1.4          0.2      setosa\n",
       "25            5.0          3.0           1.6          0.2      setosa\n",
       "50            7.0          3.2           4.7          1.4  versicolor\n",
       "75            6.6          3.0           4.4          1.4  versicolor\n",
       "100           6.3          3.3           6.0          2.5   virginica\n",
       "125           7.2          3.2           6.0          1.8   virginica"
      ]
     },
     "execution_count": 2,
     "metadata": {},
     "output_type": "execute_result"
    }
   ],
   "source": [
    "from statsmodels.api import datasets\n",
    "iris = datasets.get_rdataset('iris').data\n",
    "iris.iloc[::25]"
   ]
  },
  {
   "cell_type": "markdown",
   "id": "e505c795",
   "metadata": {},
   "source": [
    "## 9.1 Groupby\n",
    "cf.pivot_table"
   ]
  },
  {
   "cell_type": "code",
   "execution_count": 3,
   "id": "dc1073db",
   "metadata": {},
   "outputs": [
    {
     "name": "stdout",
     "output_type": "stream",
     "text": [
      "setosa\n"
     ]
    },
    {
     "data": {
      "text/html": [
       "<div>\n",
       "<style scoped>\n",
       "    .dataframe tbody tr th:only-of-type {\n",
       "        vertical-align: middle;\n",
       "    }\n",
       "\n",
       "    .dataframe tbody tr th {\n",
       "        vertical-align: top;\n",
       "    }\n",
       "\n",
       "    .dataframe thead th {\n",
       "        text-align: right;\n",
       "    }\n",
       "</style>\n",
       "<table border=\"1\" class=\"dataframe\">\n",
       "  <thead>\n",
       "    <tr style=\"text-align: right;\">\n",
       "      <th></th>\n",
       "      <th>Sepal.Length</th>\n",
       "      <th>Sepal.Width</th>\n",
       "      <th>Petal.Length</th>\n",
       "      <th>Petal.Width</th>\n",
       "      <th>Species</th>\n",
       "    </tr>\n",
       "  </thead>\n",
       "  <tbody>\n",
       "    <tr>\n",
       "      <th>7</th>\n",
       "      <td>5.0</td>\n",
       "      <td>3.4</td>\n",
       "      <td>1.5</td>\n",
       "      <td>0.2</td>\n",
       "      <td>setosa</td>\n",
       "    </tr>\n",
       "    <tr>\n",
       "      <th>49</th>\n",
       "      <td>5.0</td>\n",
       "      <td>3.3</td>\n",
       "      <td>1.4</td>\n",
       "      <td>0.2</td>\n",
       "      <td>setosa</td>\n",
       "    </tr>\n",
       "  </tbody>\n",
       "</table>\n",
       "</div>"
      ],
      "text/plain": [
       "    Sepal.Length  Sepal.Width  Petal.Length  Petal.Width Species\n",
       "7            5.0          3.4           1.5          0.2  setosa\n",
       "49           5.0          3.3           1.4          0.2  setosa"
      ]
     },
     "metadata": {},
     "output_type": "display_data"
    },
    {
     "name": "stdout",
     "output_type": "stream",
     "text": [
      "versicolor\n"
     ]
    },
    {
     "data": {
      "text/html": [
       "<div>\n",
       "<style scoped>\n",
       "    .dataframe tbody tr th:only-of-type {\n",
       "        vertical-align: middle;\n",
       "    }\n",
       "\n",
       "    .dataframe tbody tr th {\n",
       "        vertical-align: top;\n",
       "    }\n",
       "\n",
       "    .dataframe thead th {\n",
       "        text-align: right;\n",
       "    }\n",
       "</style>\n",
       "<table border=\"1\" class=\"dataframe\">\n",
       "  <thead>\n",
       "    <tr style=\"text-align: right;\">\n",
       "      <th></th>\n",
       "      <th>Sepal.Length</th>\n",
       "      <th>Sepal.Width</th>\n",
       "      <th>Petal.Length</th>\n",
       "      <th>Petal.Width</th>\n",
       "      <th>Species</th>\n",
       "    </tr>\n",
       "  </thead>\n",
       "  <tbody>\n",
       "    <tr>\n",
       "      <th>52</th>\n",
       "      <td>6.9</td>\n",
       "      <td>3.1</td>\n",
       "      <td>4.9</td>\n",
       "      <td>1.5</td>\n",
       "      <td>versicolor</td>\n",
       "    </tr>\n",
       "    <tr>\n",
       "      <th>57</th>\n",
       "      <td>4.9</td>\n",
       "      <td>2.4</td>\n",
       "      <td>3.3</td>\n",
       "      <td>1.0</td>\n",
       "      <td>versicolor</td>\n",
       "    </tr>\n",
       "  </tbody>\n",
       "</table>\n",
       "</div>"
      ],
      "text/plain": [
       "    Sepal.Length  Sepal.Width  Petal.Length  Petal.Width     Species\n",
       "52           6.9          3.1           4.9          1.5  versicolor\n",
       "57           4.9          2.4           3.3          1.0  versicolor"
      ]
     },
     "metadata": {},
     "output_type": "display_data"
    },
    {
     "name": "stdout",
     "output_type": "stream",
     "text": [
      "virginica\n"
     ]
    },
    {
     "data": {
      "text/html": [
       "<div>\n",
       "<style scoped>\n",
       "    .dataframe tbody tr th:only-of-type {\n",
       "        vertical-align: middle;\n",
       "    }\n",
       "\n",
       "    .dataframe tbody tr th {\n",
       "        vertical-align: top;\n",
       "    }\n",
       "\n",
       "    .dataframe thead th {\n",
       "        text-align: right;\n",
       "    }\n",
       "</style>\n",
       "<table border=\"1\" class=\"dataframe\">\n",
       "  <thead>\n",
       "    <tr style=\"text-align: right;\">\n",
       "      <th></th>\n",
       "      <th>Sepal.Length</th>\n",
       "      <th>Sepal.Width</th>\n",
       "      <th>Petal.Length</th>\n",
       "      <th>Petal.Width</th>\n",
       "      <th>Species</th>\n",
       "    </tr>\n",
       "  </thead>\n",
       "  <tbody>\n",
       "    <tr>\n",
       "      <th>110</th>\n",
       "      <td>6.5</td>\n",
       "      <td>3.2</td>\n",
       "      <td>5.1</td>\n",
       "      <td>2.0</td>\n",
       "      <td>virginica</td>\n",
       "    </tr>\n",
       "    <tr>\n",
       "      <th>127</th>\n",
       "      <td>6.1</td>\n",
       "      <td>3.0</td>\n",
       "      <td>4.9</td>\n",
       "      <td>1.8</td>\n",
       "      <td>virginica</td>\n",
       "    </tr>\n",
       "  </tbody>\n",
       "</table>\n",
       "</div>"
      ],
      "text/plain": [
       "     Sepal.Length  Sepal.Width  Petal.Length  Petal.Width    Species\n",
       "110           6.5          3.2           5.1          2.0  virginica\n",
       "127           6.1          3.0           4.9          1.8  virginica"
      ]
     },
     "metadata": {},
     "output_type": "display_data"
    }
   ],
   "source": [
    "# 1) 그룹화 방법 1.\n",
    "#      df.groupby(by=[그룹핑할 열]). 기초통계함수()[함수적용해서 출력할 열들].기초통계함수()\n",
    "#                [함수적용해서 출력할 열들] 생략시 그룹핑할 열을 제외한 모든 열 적용\n",
    "iris_grouped = iris.groupby(iris.Species)\n",
    "iris_grouped = iris.groupby(['Species'])\n",
    "iris_grouped = iris.groupby('Species')\n",
    "for group, data in iris_grouped:\n",
    "    print(group)\n",
    "    display(data.sample(2).sort_index())"
   ]
  },
  {
   "cell_type": "code",
   "execution_count": 4,
   "id": "befd56da",
   "metadata": {},
   "outputs": [
    {
     "data": {
      "text/html": [
       "<div>\n",
       "<style scoped>\n",
       "    .dataframe tbody tr th:only-of-type {\n",
       "        vertical-align: middle;\n",
       "    }\n",
       "\n",
       "    .dataframe tbody tr th {\n",
       "        vertical-align: top;\n",
       "    }\n",
       "\n",
       "    .dataframe thead th {\n",
       "        text-align: right;\n",
       "    }\n",
       "</style>\n",
       "<table border=\"1\" class=\"dataframe\">\n",
       "  <thead>\n",
       "    <tr style=\"text-align: right;\">\n",
       "      <th></th>\n",
       "      <th>Petal.Length</th>\n",
       "      <th>Petal.Width</th>\n",
       "    </tr>\n",
       "    <tr>\n",
       "      <th>Species</th>\n",
       "      <th></th>\n",
       "      <th></th>\n",
       "    </tr>\n",
       "  </thead>\n",
       "  <tbody>\n",
       "    <tr>\n",
       "      <th>setosa</th>\n",
       "      <td>1.462</td>\n",
       "      <td>0.246</td>\n",
       "    </tr>\n",
       "    <tr>\n",
       "      <th>versicolor</th>\n",
       "      <td>4.260</td>\n",
       "      <td>1.326</td>\n",
       "    </tr>\n",
       "    <tr>\n",
       "      <th>virginica</th>\n",
       "      <td>5.552</td>\n",
       "      <td>2.026</td>\n",
       "    </tr>\n",
       "  </tbody>\n",
       "</table>\n",
       "</div>"
      ],
      "text/plain": [
       "            Petal.Length  Petal.Width\n",
       "Species                              \n",
       "setosa             1.462        0.246\n",
       "versicolor         4.260        1.326\n",
       "virginica          5.552        2.026"
      ]
     },
     "execution_count": 4,
     "metadata": {},
     "output_type": "execute_result"
    }
   ],
   "source": [
    "# 잘 모르겠다~ 싶으면 요 부분만 잘 알고 있어도 됨\n",
    "\n",
    "iris.groupby(by='Species').mean()[['Petal.Length','Petal.Width']]\n",
    "iris.groupby(by='Species')[['Petal.Length','Petal.Width']].mean()"
   ]
  },
  {
   "cell_type": "code",
   "execution_count": 5,
   "id": "7d64dcd1",
   "metadata": {},
   "outputs": [
    {
     "data": {
      "text/html": [
       "<div>\n",
       "<style scoped>\n",
       "    .dataframe tbody tr th:only-of-type {\n",
       "        vertical-align: middle;\n",
       "    }\n",
       "\n",
       "    .dataframe tbody tr th {\n",
       "        vertical-align: top;\n",
       "    }\n",
       "\n",
       "    .dataframe thead th {\n",
       "        text-align: right;\n",
       "    }\n",
       "</style>\n",
       "<table border=\"1\" class=\"dataframe\">\n",
       "  <thead>\n",
       "    <tr style=\"text-align: right;\">\n",
       "      <th></th>\n",
       "      <th>Sepal.Length</th>\n",
       "      <th>Sepal.Width</th>\n",
       "      <th>Petal.Length</th>\n",
       "      <th>Petal.Width</th>\n",
       "    </tr>\n",
       "    <tr>\n",
       "      <th>Species</th>\n",
       "      <th></th>\n",
       "      <th></th>\n",
       "      <th></th>\n",
       "      <th></th>\n",
       "    </tr>\n",
       "  </thead>\n",
       "  <tbody>\n",
       "    <tr>\n",
       "      <th>setosa</th>\n",
       "      <td>5.0</td>\n",
       "      <td>3.4</td>\n",
       "      <td>1.50</td>\n",
       "      <td>0.2</td>\n",
       "    </tr>\n",
       "    <tr>\n",
       "      <th>versicolor</th>\n",
       "      <td>5.9</td>\n",
       "      <td>2.8</td>\n",
       "      <td>4.35</td>\n",
       "      <td>1.3</td>\n",
       "    </tr>\n",
       "    <tr>\n",
       "      <th>virginica</th>\n",
       "      <td>6.5</td>\n",
       "      <td>3.0</td>\n",
       "      <td>5.55</td>\n",
       "      <td>2.0</td>\n",
       "    </tr>\n",
       "  </tbody>\n",
       "</table>\n",
       "</div>"
      ],
      "text/plain": [
       "            Sepal.Length  Sepal.Width  Petal.Length  Petal.Width\n",
       "Species                                                         \n",
       "setosa               5.0          3.4          1.50          0.2\n",
       "versicolor           5.9          2.8          4.35          1.3\n",
       "virginica            6.5          3.0          5.55          2.0"
      ]
     },
     "execution_count": 5,
     "metadata": {},
     "output_type": "execute_result"
    }
   ],
   "source": [
    "iris_grouped_sum = iris.groupby('Species').median()\n",
    "# iris_grouped_sum.reset_index()\n",
    "iris_grouped_sum"
   ]
  },
  {
   "cell_type": "code",
   "execution_count": 6,
   "id": "d7bdc66b",
   "metadata": {},
   "outputs": [
    {
     "data": {
      "text/html": [
       "<div>\n",
       "<style scoped>\n",
       "    .dataframe tbody tr th:only-of-type {\n",
       "        vertical-align: middle;\n",
       "    }\n",
       "\n",
       "    .dataframe tbody tr th {\n",
       "        vertical-align: top;\n",
       "    }\n",
       "\n",
       "    .dataframe thead th {\n",
       "        text-align: right;\n",
       "    }\n",
       "</style>\n",
       "<table border=\"1\" class=\"dataframe\">\n",
       "  <thead>\n",
       "    <tr style=\"text-align: right;\">\n",
       "      <th></th>\n",
       "      <th>Sepal.Length</th>\n",
       "      <th>Sepal.Width</th>\n",
       "      <th>Petal.Length</th>\n",
       "      <th>Petal.Width</th>\n",
       "    </tr>\n",
       "    <tr>\n",
       "      <th>Species</th>\n",
       "      <th></th>\n",
       "      <th></th>\n",
       "      <th></th>\n",
       "      <th></th>\n",
       "    </tr>\n",
       "  </thead>\n",
       "  <tbody>\n",
       "    <tr>\n",
       "      <th>setosa</th>\n",
       "      <td>5.0</td>\n",
       "      <td>3.4</td>\n",
       "      <td>1.50</td>\n",
       "      <td>0.2</td>\n",
       "    </tr>\n",
       "    <tr>\n",
       "      <th>versicolor</th>\n",
       "      <td>5.9</td>\n",
       "      <td>2.8</td>\n",
       "      <td>4.35</td>\n",
       "      <td>1.3</td>\n",
       "    </tr>\n",
       "  </tbody>\n",
       "</table>\n",
       "</div>"
      ],
      "text/plain": [
       "            Sepal.Length  Sepal.Width  Petal.Length  Petal.Width\n",
       "Species                                                         \n",
       "setosa               5.0          3.4          1.50          0.2\n",
       "versicolor           5.9          2.8          4.35          1.3"
      ]
     },
     "execution_count": 6,
     "metadata": {},
     "output_type": "execute_result"
    }
   ],
   "source": [
    "iris_grouped_sum.loc[['setosa','versicolor']]\n"
   ]
  },
  {
   "cell_type": "code",
   "execution_count": 7,
   "id": "29c6bb36",
   "metadata": {},
   "outputs": [
    {
     "data": {
      "text/html": [
       "<div>\n",
       "<style scoped>\n",
       "    .dataframe tbody tr th:only-of-type {\n",
       "        vertical-align: middle;\n",
       "    }\n",
       "\n",
       "    .dataframe tbody tr th {\n",
       "        vertical-align: top;\n",
       "    }\n",
       "\n",
       "    .dataframe thead th {\n",
       "        text-align: right;\n",
       "    }\n",
       "</style>\n",
       "<table border=\"1\" class=\"dataframe\">\n",
       "  <thead>\n",
       "    <tr style=\"text-align: right;\">\n",
       "      <th></th>\n",
       "      <th>Species</th>\n",
       "      <th>Sepal.Length</th>\n",
       "      <th>Sepal.Width</th>\n",
       "      <th>Petal.Length</th>\n",
       "      <th>Petal.Width</th>\n",
       "    </tr>\n",
       "  </thead>\n",
       "  <tbody>\n",
       "    <tr>\n",
       "      <th>0</th>\n",
       "      <td>setosa</td>\n",
       "      <td>250.3</td>\n",
       "      <td>171.4</td>\n",
       "      <td>73.1</td>\n",
       "      <td>12.3</td>\n",
       "    </tr>\n",
       "    <tr>\n",
       "      <th>1</th>\n",
       "      <td>versicolor</td>\n",
       "      <td>296.8</td>\n",
       "      <td>138.5</td>\n",
       "      <td>213.0</td>\n",
       "      <td>66.3</td>\n",
       "    </tr>\n",
       "    <tr>\n",
       "      <th>2</th>\n",
       "      <td>virginica</td>\n",
       "      <td>329.4</td>\n",
       "      <td>148.7</td>\n",
       "      <td>277.6</td>\n",
       "      <td>101.3</td>\n",
       "    </tr>\n",
       "  </tbody>\n",
       "</table>\n",
       "</div>"
      ],
      "text/plain": [
       "      Species  Sepal.Length  Sepal.Width  Petal.Length  Petal.Width\n",
       "0      setosa         250.3        171.4          73.1         12.3\n",
       "1  versicolor         296.8        138.5         213.0         66.3\n",
       "2   virginica         329.4        148.7         277.6        101.3"
      ]
     },
     "execution_count": 7,
     "metadata": {},
     "output_type": "execute_result"
    }
   ],
   "source": [
    "\n",
    "iris_grouped_sum2 = iris.groupby('Species', as_index=False).sum()\n",
    "iris_grouped_sum2"
   ]
  },
  {
   "cell_type": "code",
   "execution_count": 8,
   "id": "644edbd9",
   "metadata": {},
   "outputs": [
    {
     "data": {
      "text/html": [
       "<div>\n",
       "<style scoped>\n",
       "    .dataframe tbody tr th:only-of-type {\n",
       "        vertical-align: middle;\n",
       "    }\n",
       "\n",
       "    .dataframe tbody tr th {\n",
       "        vertical-align: top;\n",
       "    }\n",
       "\n",
       "    .dataframe thead th {\n",
       "        text-align: right;\n",
       "    }\n",
       "</style>\n",
       "<table border=\"1\" class=\"dataframe\">\n",
       "  <thead>\n",
       "    <tr style=\"text-align: right;\">\n",
       "      <th></th>\n",
       "      <th>Species</th>\n",
       "      <th>Sepal.Length</th>\n",
       "      <th>Sepal.Width</th>\n",
       "      <th>Petal.Length</th>\n",
       "      <th>Petal.Width</th>\n",
       "    </tr>\n",
       "  </thead>\n",
       "  <tbody>\n",
       "    <tr>\n",
       "      <th>0</th>\n",
       "      <td>setosa</td>\n",
       "      <td>250.3</td>\n",
       "      <td>171.4</td>\n",
       "      <td>73.1</td>\n",
       "      <td>12.3</td>\n",
       "    </tr>\n",
       "    <tr>\n",
       "      <th>1</th>\n",
       "      <td>versicolor</td>\n",
       "      <td>296.8</td>\n",
       "      <td>138.5</td>\n",
       "      <td>213.0</td>\n",
       "      <td>66.3</td>\n",
       "    </tr>\n",
       "  </tbody>\n",
       "</table>\n",
       "</div>"
      ],
      "text/plain": [
       "      Species  Sepal.Length  Sepal.Width  Petal.Length  Petal.Width\n",
       "0      setosa         250.3        171.4          73.1         12.3\n",
       "1  versicolor         296.8        138.5         213.0         66.3"
      ]
     },
     "execution_count": 8,
     "metadata": {},
     "output_type": "execute_result"
    }
   ],
   "source": [
    "iris_grouped_sum2[(iris_grouped_sum2.Species=='setosa') | \n",
    "                  (iris_grouped_sum2.Species=='versicolor')]"
   ]
  },
  {
   "cell_type": "code",
   "execution_count": 9,
   "id": "88429147",
   "metadata": {},
   "outputs": [],
   "source": [
    "#     df.groupby(by=[그룹핑할 열])[함수적용해서 출력할 열들].함수()\n",
    "# 2) 그룹화 방법 2\n",
    "#     df.pivot_table(index=[그룹핑할열],\n",
    "#                    values=[함수적용해서 출력할 일들],\n",
    "#                    aggfunc=함수(기본값:mean))"
   ]
  },
  {
   "cell_type": "code",
   "execution_count": 10,
   "id": "6ff465a0",
   "metadata": {},
   "outputs": [
    {
     "name": "stderr",
     "output_type": "stream",
     "text": [
      "C:\\Users\\Admin\\AppData\\Local\\Temp\\ipykernel_5928\\2945899299.py:1: FutureWarning: Indexing with multiple keys (implicitly converted to a tuple of keys) will be deprecated, use a list instead.\n",
      "  iris.groupby('Species')['Petal.Length', 'Petal.Width'].mean()\n"
     ]
    },
    {
     "data": {
      "text/html": [
       "<div>\n",
       "<style scoped>\n",
       "    .dataframe tbody tr th:only-of-type {\n",
       "        vertical-align: middle;\n",
       "    }\n",
       "\n",
       "    .dataframe tbody tr th {\n",
       "        vertical-align: top;\n",
       "    }\n",
       "\n",
       "    .dataframe thead th {\n",
       "        text-align: right;\n",
       "    }\n",
       "</style>\n",
       "<table border=\"1\" class=\"dataframe\">\n",
       "  <thead>\n",
       "    <tr style=\"text-align: right;\">\n",
       "      <th></th>\n",
       "      <th>Petal.Length</th>\n",
       "      <th>Petal.Width</th>\n",
       "    </tr>\n",
       "    <tr>\n",
       "      <th>Species</th>\n",
       "      <th></th>\n",
       "      <th></th>\n",
       "    </tr>\n",
       "  </thead>\n",
       "  <tbody>\n",
       "    <tr>\n",
       "      <th>setosa</th>\n",
       "      <td>1.462</td>\n",
       "      <td>0.246</td>\n",
       "    </tr>\n",
       "    <tr>\n",
       "      <th>versicolor</th>\n",
       "      <td>4.260</td>\n",
       "      <td>1.326</td>\n",
       "    </tr>\n",
       "    <tr>\n",
       "      <th>virginica</th>\n",
       "      <td>5.552</td>\n",
       "      <td>2.026</td>\n",
       "    </tr>\n",
       "  </tbody>\n",
       "</table>\n",
       "</div>"
      ],
      "text/plain": [
       "            Petal.Length  Petal.Width\n",
       "Species                              \n",
       "setosa             1.462        0.246\n",
       "versicolor         4.260        1.326\n",
       "virginica          5.552        2.026"
      ]
     },
     "execution_count": 10,
     "metadata": {},
     "output_type": "execute_result"
    }
   ],
   "source": [
    "\n",
    "iris.groupby('Species')['Petal.Length', 'Petal.Width'].mean()\n",
    "iris.pivot_table(index='Species',\n",
    "                values=['Petal.Length', 'Petal.Width'],\n",
    "                aggfunc='mean')"
   ]
  },
  {
   "cell_type": "code",
   "execution_count": 11,
   "id": "1c7b0219",
   "metadata": {},
   "outputs": [
    {
     "data": {
      "text/html": [
       "<div>\n",
       "<style scoped>\n",
       "    .dataframe tbody tr th:only-of-type {\n",
       "        vertical-align: middle;\n",
       "    }\n",
       "\n",
       "    .dataframe tbody tr th {\n",
       "        vertical-align: top;\n",
       "    }\n",
       "\n",
       "    .dataframe thead th {\n",
       "        text-align: right;\n",
       "    }\n",
       "</style>\n",
       "<table border=\"1\" class=\"dataframe\">\n",
       "  <thead>\n",
       "    <tr style=\"text-align: right;\">\n",
       "      <th></th>\n",
       "      <th>Petal.Length</th>\n",
       "      <th>Petal.Width</th>\n",
       "      <th>Sepal.Length</th>\n",
       "      <th>Sepal.Width</th>\n",
       "    </tr>\n",
       "    <tr>\n",
       "      <th>Species</th>\n",
       "      <th></th>\n",
       "      <th></th>\n",
       "      <th></th>\n",
       "      <th></th>\n",
       "    </tr>\n",
       "  </thead>\n",
       "  <tbody>\n",
       "    <tr>\n",
       "      <th>setosa</th>\n",
       "      <td>50</td>\n",
       "      <td>50</td>\n",
       "      <td>50</td>\n",
       "      <td>50</td>\n",
       "    </tr>\n",
       "    <tr>\n",
       "      <th>versicolor</th>\n",
       "      <td>50</td>\n",
       "      <td>50</td>\n",
       "      <td>50</td>\n",
       "      <td>50</td>\n",
       "    </tr>\n",
       "    <tr>\n",
       "      <th>virginica</th>\n",
       "      <td>50</td>\n",
       "      <td>50</td>\n",
       "      <td>50</td>\n",
       "      <td>50</td>\n",
       "    </tr>\n",
       "  </tbody>\n",
       "</table>\n",
       "</div>"
      ],
      "text/plain": [
       "            Petal.Length  Petal.Width  Sepal.Length  Sepal.Width\n",
       "Species                                                         \n",
       "setosa                50           50            50           50\n",
       "versicolor            50           50            50           50\n",
       "virginica             50           50            50           50"
      ]
     },
     "execution_count": 11,
     "metadata": {},
     "output_type": "execute_result"
    }
   ],
   "source": [
    "iris.groupby('Species').count() # 결측치를 제외한 값의 갯수\n",
    "iris.pivot_table(index='Species',\n",
    "                #values=['Sepal.Length','Sepal.Width','Petal.Length','Petal.Width'],\n",
    "                 aggfunc='count')"
   ]
  },
  {
   "cell_type": "code",
   "execution_count": 12,
   "id": "7897cb44",
   "metadata": {},
   "outputs": [
    {
     "data": {
      "text/html": [
       "<div>\n",
       "<style scoped>\n",
       "    .dataframe tbody tr th:only-of-type {\n",
       "        vertical-align: middle;\n",
       "    }\n",
       "\n",
       "    .dataframe tbody tr th {\n",
       "        vertical-align: top;\n",
       "    }\n",
       "\n",
       "    .dataframe thead th {\n",
       "        text-align: right;\n",
       "    }\n",
       "</style>\n",
       "<table border=\"1\" class=\"dataframe\">\n",
       "  <thead>\n",
       "    <tr style=\"text-align: right;\">\n",
       "      <th></th>\n",
       "      <th>Sepal.Length</th>\n",
       "      <th>Sepal.Width</th>\n",
       "      <th>Petal.Length</th>\n",
       "      <th>Petal.Width</th>\n",
       "      <th>Species</th>\n",
       "    </tr>\n",
       "  </thead>\n",
       "  <tbody>\n",
       "    <tr>\n",
       "      <th>0</th>\n",
       "      <td>5.1</td>\n",
       "      <td>3.5</td>\n",
       "      <td>1.4</td>\n",
       "      <td>0.2</td>\n",
       "      <td>setosa</td>\n",
       "    </tr>\n",
       "    <tr>\n",
       "      <th>1</th>\n",
       "      <td>4.9</td>\n",
       "      <td>3.0</td>\n",
       "      <td>1.4</td>\n",
       "      <td>0.2</td>\n",
       "      <td>setosa</td>\n",
       "    </tr>\n",
       "    <tr>\n",
       "      <th>2</th>\n",
       "      <td>4.7</td>\n",
       "      <td>3.2</td>\n",
       "      <td>1.3</td>\n",
       "      <td>0.2</td>\n",
       "      <td>setosa</td>\n",
       "    </tr>\n",
       "    <tr>\n",
       "      <th>3</th>\n",
       "      <td>4.6</td>\n",
       "      <td>3.1</td>\n",
       "      <td>1.5</td>\n",
       "      <td>0.2</td>\n",
       "      <td>setosa</td>\n",
       "    </tr>\n",
       "    <tr>\n",
       "      <th>4</th>\n",
       "      <td>5.0</td>\n",
       "      <td>3.6</td>\n",
       "      <td>1.4</td>\n",
       "      <td>0.2</td>\n",
       "      <td>setosa</td>\n",
       "    </tr>\n",
       "  </tbody>\n",
       "</table>\n",
       "</div>"
      ],
      "text/plain": [
       "   Sepal.Length  Sepal.Width  Petal.Length  Petal.Width Species\n",
       "0           5.1          3.5           1.4          0.2  setosa\n",
       "1           4.9          3.0           1.4          0.2  setosa\n",
       "2           4.7          3.2           1.3          0.2  setosa\n",
       "3           4.6          3.1           1.5          0.2  setosa\n",
       "4           5.0          3.6           1.4          0.2  setosa"
      ]
     },
     "execution_count": 12,
     "metadata": {},
     "output_type": "execute_result"
    }
   ],
   "source": [
    "iris.head()"
   ]
  },
  {
   "cell_type": "markdown",
   "id": "f7d7315f",
   "metadata": {},
   "source": [
    "## 다중열로 구룹화"
   ]
  },
  {
   "cell_type": "code",
   "execution_count": 13,
   "id": "9478e316",
   "metadata": {},
   "outputs": [
    {
     "data": {
      "text/plain": [
       "(150, 5)"
      ]
     },
     "execution_count": 13,
     "metadata": {},
     "output_type": "execute_result"
    }
   ],
   "source": [
    "# iris로 다중열로 그룹화하기 위해 데이터 컬럼 추가(num 필드)\n",
    "iris.shape"
   ]
  },
  {
   "cell_type": "code",
   "execution_count": 14,
   "id": "bbc95134",
   "metadata": {},
   "outputs": [
    {
     "data": {
      "text/plain": [
       "array([0, 0, 0, 0, 0, 0, 0, 0, 0, 0, 0, 0, 0, 0, 0, 0, 0, 0, 0, 0, 0, 0,\n",
       "       0, 0, 0, 1, 1, 1, 1, 1, 1, 1, 1, 1, 1, 1, 1, 1, 1, 1, 1, 1, 1, 1,\n",
       "       1, 1, 1, 1, 1, 1, 2, 2, 2, 2, 2, 2, 2, 2, 2, 2, 2, 2, 2, 2, 2, 2,\n",
       "       2, 2, 2, 2, 2, 2, 2, 2, 2, 3, 3, 3, 3, 3, 3, 3, 3, 3, 3, 3, 3, 3,\n",
       "       3, 3, 3, 3, 3, 3, 3, 3, 3, 3, 3, 3, 4, 4, 4, 4, 4, 4, 4, 4, 4, 4,\n",
       "       4, 4, 4, 4, 4, 4, 4, 4, 4, 4, 4, 4, 4, 4, 4, 5, 5, 5, 5, 5, 5, 5,\n",
       "       5, 5, 5, 5, 5, 5, 5, 5, 5, 5, 5, 5, 5, 5, 5, 5, 5, 5])"
      ]
     },
     "execution_count": 14,
     "metadata": {},
     "output_type": "execute_result"
    }
   ],
   "source": [
    "import numpy as np\n",
    "np.ravel([[i]*25 for i in range(6)])"
   ]
  },
  {
   "cell_type": "code",
   "execution_count": 15,
   "id": "0eafe03e",
   "metadata": {},
   "outputs": [
    {
     "data": {
      "text/html": [
       "<div>\n",
       "<style scoped>\n",
       "    .dataframe tbody tr th:only-of-type {\n",
       "        vertical-align: middle;\n",
       "    }\n",
       "\n",
       "    .dataframe tbody tr th {\n",
       "        vertical-align: top;\n",
       "    }\n",
       "\n",
       "    .dataframe thead th {\n",
       "        text-align: right;\n",
       "    }\n",
       "</style>\n",
       "<table border=\"1\" class=\"dataframe\">\n",
       "  <thead>\n",
       "    <tr style=\"text-align: right;\">\n",
       "      <th></th>\n",
       "      <th>Sepal.Length</th>\n",
       "      <th>Sepal.Width</th>\n",
       "      <th>Petal.Length</th>\n",
       "      <th>Petal.Width</th>\n",
       "      <th>Species</th>\n",
       "      <th>num</th>\n",
       "    </tr>\n",
       "  </thead>\n",
       "  <tbody>\n",
       "    <tr>\n",
       "      <th>0</th>\n",
       "      <td>5.1</td>\n",
       "      <td>3.5</td>\n",
       "      <td>1.4</td>\n",
       "      <td>0.2</td>\n",
       "      <td>setosa</td>\n",
       "      <td>0</td>\n",
       "    </tr>\n",
       "    <tr>\n",
       "      <th>25</th>\n",
       "      <td>5.0</td>\n",
       "      <td>3.0</td>\n",
       "      <td>1.6</td>\n",
       "      <td>0.2</td>\n",
       "      <td>setosa</td>\n",
       "      <td>1</td>\n",
       "    </tr>\n",
       "    <tr>\n",
       "      <th>50</th>\n",
       "      <td>7.0</td>\n",
       "      <td>3.2</td>\n",
       "      <td>4.7</td>\n",
       "      <td>1.4</td>\n",
       "      <td>versicolor</td>\n",
       "      <td>2</td>\n",
       "    </tr>\n",
       "    <tr>\n",
       "      <th>75</th>\n",
       "      <td>6.6</td>\n",
       "      <td>3.0</td>\n",
       "      <td>4.4</td>\n",
       "      <td>1.4</td>\n",
       "      <td>versicolor</td>\n",
       "      <td>3</td>\n",
       "    </tr>\n",
       "    <tr>\n",
       "      <th>100</th>\n",
       "      <td>6.3</td>\n",
       "      <td>3.3</td>\n",
       "      <td>6.0</td>\n",
       "      <td>2.5</td>\n",
       "      <td>virginica</td>\n",
       "      <td>4</td>\n",
       "    </tr>\n",
       "    <tr>\n",
       "      <th>125</th>\n",
       "      <td>7.2</td>\n",
       "      <td>3.2</td>\n",
       "      <td>6.0</td>\n",
       "      <td>1.8</td>\n",
       "      <td>virginica</td>\n",
       "      <td>5</td>\n",
       "    </tr>\n",
       "  </tbody>\n",
       "</table>\n",
       "</div>"
      ],
      "text/plain": [
       "     Sepal.Length  Sepal.Width  Petal.Length  Petal.Width     Species  num\n",
       "0             5.1          3.5           1.4          0.2      setosa    0\n",
       "25            5.0          3.0           1.6          0.2      setosa    1\n",
       "50            7.0          3.2           4.7          1.4  versicolor    2\n",
       "75            6.6          3.0           4.4          1.4  versicolor    3\n",
       "100           6.3          3.3           6.0          2.5   virginica    4\n",
       "125           7.2          3.2           6.0          1.8   virginica    5"
      ]
     },
     "execution_count": 15,
     "metadata": {},
     "output_type": "execute_result"
    }
   ],
   "source": [
    "iris['num'] = np.ravel([[i]*25 for i in range(6)])\n",
    "iris.iloc[::25]"
   ]
  },
  {
   "cell_type": "code",
   "execution_count": 16,
   "id": "744ab8f4",
   "metadata": {},
   "outputs": [],
   "source": [
    "# 각열의 임의의 데이터에 결측치를 할당\n",
    "# iris.iloc[0, 0] = np.nan"
   ]
  },
  {
   "cell_type": "code",
   "execution_count": 17,
   "id": "faef93ec",
   "metadata": {},
   "outputs": [
    {
     "name": "stdout",
     "output_type": "stream",
     "text": [
      "[49, 79, 16]\n"
     ]
    },
    {
     "data": {
      "text/plain": [
       "11    4.8\n",
       "63    6.1\n",
       "0     5.1\n",
       "Name: Sepal.Length, dtype: float64"
      ]
     },
     "execution_count": 17,
     "metadata": {},
     "output_type": "execute_result"
    }
   ],
   "source": [
    "import random\n",
    "print(random.sample(range(149), 3))\n",
    "iris.iloc[random.sample(range(149), 3), 0]"
   ]
  },
  {
   "cell_type": "code",
   "execution_count": 18,
   "id": "1a30fa22",
   "metadata": {},
   "outputs": [
    {
     "name": "stdout",
     "output_type": "stream",
     "text": [
      "<class 'pandas.core.frame.DataFrame'>\n",
      "RangeIndex: 150 entries, 0 to 149\n",
      "Data columns (total 6 columns):\n",
      " #   Column        Non-Null Count  Dtype  \n",
      "---  ------        --------------  -----  \n",
      " 0   Sepal.Length  150 non-null    float64\n",
      " 1   Sepal.Width   150 non-null    float64\n",
      " 2   Petal.Length  150 non-null    float64\n",
      " 3   Petal.Width   150 non-null    float64\n",
      " 4   Species       150 non-null    object \n",
      " 5   num           150 non-null    int32  \n",
      "dtypes: float64(4), int32(1), object(1)\n",
      "memory usage: 6.6+ KB\n"
     ]
    }
   ],
   "source": [
    "iris.info()"
   ]
  },
  {
   "cell_type": "code",
   "execution_count": 19,
   "id": "82b6677a",
   "metadata": {},
   "outputs": [
    {
     "data": {
      "text/html": [
       "<div>\n",
       "<style scoped>\n",
       "    .dataframe tbody tr th:only-of-type {\n",
       "        vertical-align: middle;\n",
       "    }\n",
       "\n",
       "    .dataframe tbody tr th {\n",
       "        vertical-align: top;\n",
       "    }\n",
       "\n",
       "    .dataframe thead th {\n",
       "        text-align: right;\n",
       "    }\n",
       "</style>\n",
       "<table border=\"1\" class=\"dataframe\">\n",
       "  <thead>\n",
       "    <tr style=\"text-align: right;\">\n",
       "      <th></th>\n",
       "      <th></th>\n",
       "      <th>Petal.Length</th>\n",
       "      <th>Petal.Width</th>\n",
       "    </tr>\n",
       "    <tr>\n",
       "      <th>Species</th>\n",
       "      <th>num</th>\n",
       "      <th></th>\n",
       "      <th></th>\n",
       "    </tr>\n",
       "  </thead>\n",
       "  <tbody>\n",
       "    <tr>\n",
       "      <th rowspan=\"2\" valign=\"top\">setosa</th>\n",
       "      <th>0</th>\n",
       "      <td>25</td>\n",
       "      <td>25</td>\n",
       "    </tr>\n",
       "    <tr>\n",
       "      <th>1</th>\n",
       "      <td>25</td>\n",
       "      <td>25</td>\n",
       "    </tr>\n",
       "    <tr>\n",
       "      <th rowspan=\"2\" valign=\"top\">versicolor</th>\n",
       "      <th>2</th>\n",
       "      <td>25</td>\n",
       "      <td>25</td>\n",
       "    </tr>\n",
       "    <tr>\n",
       "      <th>3</th>\n",
       "      <td>25</td>\n",
       "      <td>25</td>\n",
       "    </tr>\n",
       "    <tr>\n",
       "      <th rowspan=\"2\" valign=\"top\">virginica</th>\n",
       "      <th>4</th>\n",
       "      <td>25</td>\n",
       "      <td>25</td>\n",
       "    </tr>\n",
       "    <tr>\n",
       "      <th>5</th>\n",
       "      <td>25</td>\n",
       "      <td>25</td>\n",
       "    </tr>\n",
       "  </tbody>\n",
       "</table>\n",
       "</div>"
      ],
      "text/plain": [
       "                Petal.Length  Petal.Width\n",
       "Species    num                           \n",
       "setosa     0              25           25\n",
       "           1              25           25\n",
       "versicolor 2              25           25\n",
       "           3              25           25\n",
       "virginica  4              25           25\n",
       "           5              25           25"
      ]
     },
     "execution_count": 19,
     "metadata": {},
     "output_type": "execute_result"
    }
   ],
   "source": [
    "iris.groupby(by=['Species','num'], \n",
    "            # as_index=False\n",
    "            )[['Petal.Length','Petal.Width']].count()"
   ]
  },
  {
   "cell_type": "code",
   "execution_count": 20,
   "id": "eff07308",
   "metadata": {},
   "outputs": [
    {
     "data": {
      "text/html": [
       "<div>\n",
       "<style scoped>\n",
       "    .dataframe tbody tr th:only-of-type {\n",
       "        vertical-align: middle;\n",
       "    }\n",
       "\n",
       "    .dataframe tbody tr th {\n",
       "        vertical-align: top;\n",
       "    }\n",
       "\n",
       "    .dataframe thead th {\n",
       "        text-align: right;\n",
       "    }\n",
       "</style>\n",
       "<table border=\"1\" class=\"dataframe\">\n",
       "  <thead>\n",
       "    <tr style=\"text-align: right;\">\n",
       "      <th></th>\n",
       "      <th></th>\n",
       "      <th>Petal.Length</th>\n",
       "      <th>Petal.Width</th>\n",
       "    </tr>\n",
       "    <tr>\n",
       "      <th>Species</th>\n",
       "      <th>num</th>\n",
       "      <th></th>\n",
       "      <th></th>\n",
       "    </tr>\n",
       "  </thead>\n",
       "  <tbody>\n",
       "    <tr>\n",
       "      <th rowspan=\"2\" valign=\"top\">setosa</th>\n",
       "      <th>0</th>\n",
       "      <td>25</td>\n",
       "      <td>25</td>\n",
       "    </tr>\n",
       "    <tr>\n",
       "      <th>1</th>\n",
       "      <td>25</td>\n",
       "      <td>25</td>\n",
       "    </tr>\n",
       "    <tr>\n",
       "      <th rowspan=\"2\" valign=\"top\">versicolor</th>\n",
       "      <th>2</th>\n",
       "      <td>25</td>\n",
       "      <td>25</td>\n",
       "    </tr>\n",
       "    <tr>\n",
       "      <th>3</th>\n",
       "      <td>25</td>\n",
       "      <td>25</td>\n",
       "    </tr>\n",
       "    <tr>\n",
       "      <th rowspan=\"2\" valign=\"top\">virginica</th>\n",
       "      <th>4</th>\n",
       "      <td>25</td>\n",
       "      <td>25</td>\n",
       "    </tr>\n",
       "    <tr>\n",
       "      <th>5</th>\n",
       "      <td>25</td>\n",
       "      <td>25</td>\n",
       "    </tr>\n",
       "  </tbody>\n",
       "</table>\n",
       "</div>"
      ],
      "text/plain": [
       "                Petal.Length  Petal.Width\n",
       "Species    num                           \n",
       "setosa     0              25           25\n",
       "           1              25           25\n",
       "versicolor 2              25           25\n",
       "           3              25           25\n",
       "virginica  4              25           25\n",
       "           5              25           25"
      ]
     },
     "execution_count": 20,
     "metadata": {},
     "output_type": "execute_result"
    }
   ],
   "source": [
    "\n",
    "iris.pivot_table(index=['Species', 'num'],\n",
    "                values = ['Petal.Length', 'Petal.Width'],\n",
    "                aggfunc='count')"
   ]
  },
  {
   "cell_type": "code",
   "execution_count": 21,
   "id": "526fbc3e",
   "metadata": {},
   "outputs": [
    {
     "data": {
      "text/html": [
       "<div>\n",
       "<style scoped>\n",
       "    .dataframe tbody tr th:only-of-type {\n",
       "        vertical-align: middle;\n",
       "    }\n",
       "\n",
       "    .dataframe tbody tr th {\n",
       "        vertical-align: top;\n",
       "    }\n",
       "\n",
       "    .dataframe thead th {\n",
       "        text-align: right;\n",
       "    }\n",
       "</style>\n",
       "<table border=\"1\" class=\"dataframe\">\n",
       "  <thead>\n",
       "    <tr style=\"text-align: right;\">\n",
       "      <th></th>\n",
       "      <th>Species</th>\n",
       "      <th>setosa</th>\n",
       "      <th>versicolor</th>\n",
       "      <th>virginica</th>\n",
       "    </tr>\n",
       "  </thead>\n",
       "  <tbody>\n",
       "    <tr>\n",
       "      <th rowspan=\"8\" valign=\"top\">Sepal.Length</th>\n",
       "      <th>count</th>\n",
       "      <td>50.000000</td>\n",
       "      <td>50.000000</td>\n",
       "      <td>50.000000</td>\n",
       "    </tr>\n",
       "    <tr>\n",
       "      <th>mean</th>\n",
       "      <td>5.006000</td>\n",
       "      <td>5.936000</td>\n",
       "      <td>6.588000</td>\n",
       "    </tr>\n",
       "    <tr>\n",
       "      <th>std</th>\n",
       "      <td>0.352490</td>\n",
       "      <td>0.516171</td>\n",
       "      <td>0.635880</td>\n",
       "    </tr>\n",
       "    <tr>\n",
       "      <th>min</th>\n",
       "      <td>4.300000</td>\n",
       "      <td>4.900000</td>\n",
       "      <td>4.900000</td>\n",
       "    </tr>\n",
       "    <tr>\n",
       "      <th>25%</th>\n",
       "      <td>4.800000</td>\n",
       "      <td>5.600000</td>\n",
       "      <td>6.225000</td>\n",
       "    </tr>\n",
       "    <tr>\n",
       "      <th>50%</th>\n",
       "      <td>5.000000</td>\n",
       "      <td>5.900000</td>\n",
       "      <td>6.500000</td>\n",
       "    </tr>\n",
       "    <tr>\n",
       "      <th>75%</th>\n",
       "      <td>5.200000</td>\n",
       "      <td>6.300000</td>\n",
       "      <td>6.900000</td>\n",
       "    </tr>\n",
       "    <tr>\n",
       "      <th>max</th>\n",
       "      <td>5.800000</td>\n",
       "      <td>7.000000</td>\n",
       "      <td>7.900000</td>\n",
       "    </tr>\n",
       "    <tr>\n",
       "      <th rowspan=\"8\" valign=\"top\">Sepal.Width</th>\n",
       "      <th>count</th>\n",
       "      <td>50.000000</td>\n",
       "      <td>50.000000</td>\n",
       "      <td>50.000000</td>\n",
       "    </tr>\n",
       "    <tr>\n",
       "      <th>mean</th>\n",
       "      <td>3.428000</td>\n",
       "      <td>2.770000</td>\n",
       "      <td>2.974000</td>\n",
       "    </tr>\n",
       "    <tr>\n",
       "      <th>std</th>\n",
       "      <td>0.379064</td>\n",
       "      <td>0.313798</td>\n",
       "      <td>0.322497</td>\n",
       "    </tr>\n",
       "    <tr>\n",
       "      <th>min</th>\n",
       "      <td>2.300000</td>\n",
       "      <td>2.000000</td>\n",
       "      <td>2.200000</td>\n",
       "    </tr>\n",
       "    <tr>\n",
       "      <th>25%</th>\n",
       "      <td>3.200000</td>\n",
       "      <td>2.525000</td>\n",
       "      <td>2.800000</td>\n",
       "    </tr>\n",
       "    <tr>\n",
       "      <th>50%</th>\n",
       "      <td>3.400000</td>\n",
       "      <td>2.800000</td>\n",
       "      <td>3.000000</td>\n",
       "    </tr>\n",
       "    <tr>\n",
       "      <th>75%</th>\n",
       "      <td>3.675000</td>\n",
       "      <td>3.000000</td>\n",
       "      <td>3.175000</td>\n",
       "    </tr>\n",
       "    <tr>\n",
       "      <th>max</th>\n",
       "      <td>4.400000</td>\n",
       "      <td>3.400000</td>\n",
       "      <td>3.800000</td>\n",
       "    </tr>\n",
       "    <tr>\n",
       "      <th rowspan=\"8\" valign=\"top\">Petal.Length</th>\n",
       "      <th>count</th>\n",
       "      <td>50.000000</td>\n",
       "      <td>50.000000</td>\n",
       "      <td>50.000000</td>\n",
       "    </tr>\n",
       "    <tr>\n",
       "      <th>mean</th>\n",
       "      <td>1.462000</td>\n",
       "      <td>4.260000</td>\n",
       "      <td>5.552000</td>\n",
       "    </tr>\n",
       "    <tr>\n",
       "      <th>std</th>\n",
       "      <td>0.173664</td>\n",
       "      <td>0.469911</td>\n",
       "      <td>0.551895</td>\n",
       "    </tr>\n",
       "    <tr>\n",
       "      <th>min</th>\n",
       "      <td>1.000000</td>\n",
       "      <td>3.000000</td>\n",
       "      <td>4.500000</td>\n",
       "    </tr>\n",
       "    <tr>\n",
       "      <th>25%</th>\n",
       "      <td>1.400000</td>\n",
       "      <td>4.000000</td>\n",
       "      <td>5.100000</td>\n",
       "    </tr>\n",
       "    <tr>\n",
       "      <th>50%</th>\n",
       "      <td>1.500000</td>\n",
       "      <td>4.350000</td>\n",
       "      <td>5.550000</td>\n",
       "    </tr>\n",
       "    <tr>\n",
       "      <th>75%</th>\n",
       "      <td>1.575000</td>\n",
       "      <td>4.600000</td>\n",
       "      <td>5.875000</td>\n",
       "    </tr>\n",
       "    <tr>\n",
       "      <th>max</th>\n",
       "      <td>1.900000</td>\n",
       "      <td>5.100000</td>\n",
       "      <td>6.900000</td>\n",
       "    </tr>\n",
       "    <tr>\n",
       "      <th rowspan=\"8\" valign=\"top\">Petal.Width</th>\n",
       "      <th>count</th>\n",
       "      <td>50.000000</td>\n",
       "      <td>50.000000</td>\n",
       "      <td>50.000000</td>\n",
       "    </tr>\n",
       "    <tr>\n",
       "      <th>mean</th>\n",
       "      <td>0.246000</td>\n",
       "      <td>1.326000</td>\n",
       "      <td>2.026000</td>\n",
       "    </tr>\n",
       "    <tr>\n",
       "      <th>std</th>\n",
       "      <td>0.105386</td>\n",
       "      <td>0.197753</td>\n",
       "      <td>0.274650</td>\n",
       "    </tr>\n",
       "    <tr>\n",
       "      <th>min</th>\n",
       "      <td>0.100000</td>\n",
       "      <td>1.000000</td>\n",
       "      <td>1.400000</td>\n",
       "    </tr>\n",
       "    <tr>\n",
       "      <th>25%</th>\n",
       "      <td>0.200000</td>\n",
       "      <td>1.200000</td>\n",
       "      <td>1.800000</td>\n",
       "    </tr>\n",
       "    <tr>\n",
       "      <th>50%</th>\n",
       "      <td>0.200000</td>\n",
       "      <td>1.300000</td>\n",
       "      <td>2.000000</td>\n",
       "    </tr>\n",
       "    <tr>\n",
       "      <th>75%</th>\n",
       "      <td>0.300000</td>\n",
       "      <td>1.500000</td>\n",
       "      <td>2.300000</td>\n",
       "    </tr>\n",
       "    <tr>\n",
       "      <th>max</th>\n",
       "      <td>0.600000</td>\n",
       "      <td>1.800000</td>\n",
       "      <td>2.500000</td>\n",
       "    </tr>\n",
       "    <tr>\n",
       "      <th rowspan=\"8\" valign=\"top\">num</th>\n",
       "      <th>count</th>\n",
       "      <td>50.000000</td>\n",
       "      <td>50.000000</td>\n",
       "      <td>50.000000</td>\n",
       "    </tr>\n",
       "    <tr>\n",
       "      <th>mean</th>\n",
       "      <td>0.500000</td>\n",
       "      <td>2.500000</td>\n",
       "      <td>4.500000</td>\n",
       "    </tr>\n",
       "    <tr>\n",
       "      <th>std</th>\n",
       "      <td>0.505076</td>\n",
       "      <td>0.505076</td>\n",
       "      <td>0.505076</td>\n",
       "    </tr>\n",
       "    <tr>\n",
       "      <th>min</th>\n",
       "      <td>0.000000</td>\n",
       "      <td>2.000000</td>\n",
       "      <td>4.000000</td>\n",
       "    </tr>\n",
       "    <tr>\n",
       "      <th>25%</th>\n",
       "      <td>0.000000</td>\n",
       "      <td>2.000000</td>\n",
       "      <td>4.000000</td>\n",
       "    </tr>\n",
       "    <tr>\n",
       "      <th>50%</th>\n",
       "      <td>0.500000</td>\n",
       "      <td>2.500000</td>\n",
       "      <td>4.500000</td>\n",
       "    </tr>\n",
       "    <tr>\n",
       "      <th>75%</th>\n",
       "      <td>1.000000</td>\n",
       "      <td>3.000000</td>\n",
       "      <td>5.000000</td>\n",
       "    </tr>\n",
       "    <tr>\n",
       "      <th>max</th>\n",
       "      <td>1.000000</td>\n",
       "      <td>3.000000</td>\n",
       "      <td>5.000000</td>\n",
       "    </tr>\n",
       "  </tbody>\n",
       "</table>\n",
       "</div>"
      ],
      "text/plain": [
       "Species                setosa  versicolor  virginica\n",
       "Sepal.Length count  50.000000   50.000000  50.000000\n",
       "             mean    5.006000    5.936000   6.588000\n",
       "             std     0.352490    0.516171   0.635880\n",
       "             min     4.300000    4.900000   4.900000\n",
       "             25%     4.800000    5.600000   6.225000\n",
       "             50%     5.000000    5.900000   6.500000\n",
       "             75%     5.200000    6.300000   6.900000\n",
       "             max     5.800000    7.000000   7.900000\n",
       "Sepal.Width  count  50.000000   50.000000  50.000000\n",
       "             mean    3.428000    2.770000   2.974000\n",
       "             std     0.379064    0.313798   0.322497\n",
       "             min     2.300000    2.000000   2.200000\n",
       "             25%     3.200000    2.525000   2.800000\n",
       "             50%     3.400000    2.800000   3.000000\n",
       "             75%     3.675000    3.000000   3.175000\n",
       "             max     4.400000    3.400000   3.800000\n",
       "Petal.Length count  50.000000   50.000000  50.000000\n",
       "             mean    1.462000    4.260000   5.552000\n",
       "             std     0.173664    0.469911   0.551895\n",
       "             min     1.000000    3.000000   4.500000\n",
       "             25%     1.400000    4.000000   5.100000\n",
       "             50%     1.500000    4.350000   5.550000\n",
       "             75%     1.575000    4.600000   5.875000\n",
       "             max     1.900000    5.100000   6.900000\n",
       "Petal.Width  count  50.000000   50.000000  50.000000\n",
       "             mean    0.246000    1.326000   2.026000\n",
       "             std     0.105386    0.197753   0.274650\n",
       "             min     0.100000    1.000000   1.400000\n",
       "             25%     0.200000    1.200000   1.800000\n",
       "             50%     0.200000    1.300000   2.000000\n",
       "             75%     0.300000    1.500000   2.300000\n",
       "             max     0.600000    1.800000   2.500000\n",
       "num          count  50.000000   50.000000  50.000000\n",
       "             mean    0.500000    2.500000   4.500000\n",
       "             std     0.505076    0.505076   0.505076\n",
       "             min     0.000000    2.000000   4.000000\n",
       "             25%     0.000000    2.000000   4.000000\n",
       "             50%     0.500000    2.500000   4.500000\n",
       "             75%     1.000000    3.000000   5.000000\n",
       "             max     1.000000    3.000000   5.000000"
      ]
     },
     "execution_count": 21,
     "metadata": {},
     "output_type": "execute_result"
    }
   ],
   "source": [
    "iris.groupby('Species').describe().T"
   ]
  },
  {
   "cell_type": "markdown",
   "id": "5590813e",
   "metadata": {},
   "source": [
    "## 9.2 레이블 인코딩"
   ]
  },
  {
   "cell_type": "code",
   "execution_count": 22,
   "id": "9cd9a6bb",
   "metadata": {},
   "outputs": [],
   "source": [
    "iris.drop('num', axis=1, inplace=True)"
   ]
  },
  {
   "cell_type": "code",
   "execution_count": 23,
   "id": "84838615",
   "metadata": {},
   "outputs": [
    {
     "data": {
      "text/html": [
       "<div>\n",
       "<style scoped>\n",
       "    .dataframe tbody tr th:only-of-type {\n",
       "        vertical-align: middle;\n",
       "    }\n",
       "\n",
       "    .dataframe tbody tr th {\n",
       "        vertical-align: top;\n",
       "    }\n",
       "\n",
       "    .dataframe thead th {\n",
       "        text-align: right;\n",
       "    }\n",
       "</style>\n",
       "<table border=\"1\" class=\"dataframe\">\n",
       "  <thead>\n",
       "    <tr style=\"text-align: right;\">\n",
       "      <th></th>\n",
       "      <th>Sepal.Length</th>\n",
       "      <th>Sepal.Width</th>\n",
       "      <th>Petal.Length</th>\n",
       "      <th>Petal.Width</th>\n",
       "      <th>Species</th>\n",
       "      <th>target</th>\n",
       "    </tr>\n",
       "  </thead>\n",
       "  <tbody>\n",
       "    <tr>\n",
       "      <th>0</th>\n",
       "      <td>5.1</td>\n",
       "      <td>3.5</td>\n",
       "      <td>1.4</td>\n",
       "      <td>0.2</td>\n",
       "      <td>setosa</td>\n",
       "      <td>0</td>\n",
       "    </tr>\n",
       "    <tr>\n",
       "      <th>25</th>\n",
       "      <td>5.0</td>\n",
       "      <td>3.0</td>\n",
       "      <td>1.6</td>\n",
       "      <td>0.2</td>\n",
       "      <td>setosa</td>\n",
       "      <td>0</td>\n",
       "    </tr>\n",
       "    <tr>\n",
       "      <th>50</th>\n",
       "      <td>7.0</td>\n",
       "      <td>3.2</td>\n",
       "      <td>4.7</td>\n",
       "      <td>1.4</td>\n",
       "      <td>versicolor</td>\n",
       "      <td>1</td>\n",
       "    </tr>\n",
       "    <tr>\n",
       "      <th>75</th>\n",
       "      <td>6.6</td>\n",
       "      <td>3.0</td>\n",
       "      <td>4.4</td>\n",
       "      <td>1.4</td>\n",
       "      <td>versicolor</td>\n",
       "      <td>1</td>\n",
       "    </tr>\n",
       "    <tr>\n",
       "      <th>100</th>\n",
       "      <td>6.3</td>\n",
       "      <td>3.3</td>\n",
       "      <td>6.0</td>\n",
       "      <td>2.5</td>\n",
       "      <td>virginica</td>\n",
       "      <td>2</td>\n",
       "    </tr>\n",
       "    <tr>\n",
       "      <th>125</th>\n",
       "      <td>7.2</td>\n",
       "      <td>3.2</td>\n",
       "      <td>6.0</td>\n",
       "      <td>1.8</td>\n",
       "      <td>virginica</td>\n",
       "      <td>2</td>\n",
       "    </tr>\n",
       "  </tbody>\n",
       "</table>\n",
       "</div>"
      ],
      "text/plain": [
       "     Sepal.Length  Sepal.Width  Petal.Length  Petal.Width     Species  target\n",
       "0             5.1          3.5           1.4          0.2      setosa       0\n",
       "25            5.0          3.0           1.6          0.2      setosa       0\n",
       "50            7.0          3.2           4.7          1.4  versicolor       1\n",
       "75            6.6          3.0           4.4          1.4  versicolor       1\n",
       "100           6.3          3.3           6.0          2.5   virginica       2\n",
       "125           7.2          3.2           6.0          1.8   virginica       2"
      ]
     },
     "execution_count": 23,
     "metadata": {},
     "output_type": "execute_result"
    }
   ],
   "source": [
    "# 레이블을 인코딩을 지원하는 클래스 import\n",
    "from sklearn.preprocessing import LabelEncoder\n",
    "le = LabelEncoder() # 객체\n",
    "iris['target'] = le.fit_transform(iris.Species)\n",
    "iris.iloc[::25]"
   ]
  },
  {
   "cell_type": "markdown",
   "id": "373978d4",
   "metadata": {},
   "source": [
    "# 10절. 데이터 구조 변경\n",
    "- 와이드 포맷 <-> 롱포맷\n",
    "- 판다스 공식 문서의 melt : https://pandas.pydata.org/docs/user_guide/reshaping.html#reshaping-by-melt\n",
    "- Tidy Data(7p) : https://vita.had.co.nz/papers/tidy-data.pdf  "
   ]
  },
  {
   "cell_type": "code",
   "execution_count": 24,
   "id": "1fccb2ca",
   "metadata": {},
   "outputs": [
    {
     "data": {
      "text/html": [
       "<div>\n",
       "<style scoped>\n",
       "    .dataframe tbody tr th:only-of-type {\n",
       "        vertical-align: middle;\n",
       "    }\n",
       "\n",
       "    .dataframe tbody tr th {\n",
       "        vertical-align: top;\n",
       "    }\n",
       "\n",
       "    .dataframe thead th {\n",
       "        text-align: right;\n",
       "    }\n",
       "</style>\n",
       "<table border=\"1\" class=\"dataframe\">\n",
       "  <thead>\n",
       "    <tr style=\"text-align: right;\">\n",
       "      <th></th>\n",
       "      <th>Ozone</th>\n",
       "      <th>Solar.R</th>\n",
       "      <th>Wind</th>\n",
       "      <th>Temp</th>\n",
       "      <th>Month</th>\n",
       "      <th>Day</th>\n",
       "    </tr>\n",
       "  </thead>\n",
       "  <tbody>\n",
       "    <tr>\n",
       "      <th>0</th>\n",
       "      <td>41.0</td>\n",
       "      <td>190.0</td>\n",
       "      <td>7.4</td>\n",
       "      <td>67</td>\n",
       "      <td>5</td>\n",
       "      <td>1</td>\n",
       "    </tr>\n",
       "    <tr>\n",
       "      <th>1</th>\n",
       "      <td>36.0</td>\n",
       "      <td>118.0</td>\n",
       "      <td>8.0</td>\n",
       "      <td>72</td>\n",
       "      <td>5</td>\n",
       "      <td>2</td>\n",
       "    </tr>\n",
       "  </tbody>\n",
       "</table>\n",
       "</div>"
      ],
      "text/plain": [
       "   Ozone  Solar.R  Wind  Temp  Month  Day\n",
       "0   41.0    190.0   7.4    67      5    1\n",
       "1   36.0    118.0   8.0    72      5    2"
      ]
     },
     "execution_count": 24,
     "metadata": {},
     "output_type": "execute_result"
    }
   ],
   "source": [
    "from statsmodels.api import datasets\n",
    "airquality = datasets.get_rdataset('airquality',\n",
    "                                   package='datasets').data\n",
    "airquality.head(2)"
   ]
  },
  {
   "cell_type": "markdown",
   "id": "cdf4c636",
   "metadata": {},
   "source": [
    "## 10.1 melt를 이용한 언피벗팅(와이드포맷 -> 롱포맷)"
   ]
  },
  {
   "cell_type": "code",
   "execution_count": 25,
   "id": "a3ccc971",
   "metadata": {},
   "outputs": [
    {
     "data": {
      "text/html": [
       "<div>\n",
       "<style scoped>\n",
       "    .dataframe tbody tr th:only-of-type {\n",
       "        vertical-align: middle;\n",
       "    }\n",
       "\n",
       "    .dataframe tbody tr th {\n",
       "        vertical-align: top;\n",
       "    }\n",
       "\n",
       "    .dataframe thead th {\n",
       "        text-align: right;\n",
       "    }\n",
       "</style>\n",
       "<table border=\"1\" class=\"dataframe\">\n",
       "  <thead>\n",
       "    <tr style=\"text-align: right;\">\n",
       "      <th></th>\n",
       "      <th>Month</th>\n",
       "      <th>Day</th>\n",
       "      <th>변수명</th>\n",
       "      <th>값</th>\n",
       "    </tr>\n",
       "  </thead>\n",
       "  <tbody>\n",
       "    <tr>\n",
       "      <th>0</th>\n",
       "      <td>5</td>\n",
       "      <td>1</td>\n",
       "      <td>Ozone</td>\n",
       "      <td>41.0</td>\n",
       "    </tr>\n",
       "    <tr>\n",
       "      <th>153</th>\n",
       "      <td>5</td>\n",
       "      <td>1</td>\n",
       "      <td>Solar.R</td>\n",
       "      <td>190.0</td>\n",
       "    </tr>\n",
       "    <tr>\n",
       "      <th>306</th>\n",
       "      <td>5</td>\n",
       "      <td>1</td>\n",
       "      <td>Wind</td>\n",
       "      <td>7.4</td>\n",
       "    </tr>\n",
       "    <tr>\n",
       "      <th>459</th>\n",
       "      <td>5</td>\n",
       "      <td>1</td>\n",
       "      <td>Temp</td>\n",
       "      <td>67.0</td>\n",
       "    </tr>\n",
       "    <tr>\n",
       "      <th>1</th>\n",
       "      <td>5</td>\n",
       "      <td>2</td>\n",
       "      <td>Ozone</td>\n",
       "      <td>36.0</td>\n",
       "    </tr>\n",
       "    <tr>\n",
       "      <th>...</th>\n",
       "      <td>...</td>\n",
       "      <td>...</td>\n",
       "      <td>...</td>\n",
       "      <td>...</td>\n",
       "    </tr>\n",
       "    <tr>\n",
       "      <th>610</th>\n",
       "      <td>9</td>\n",
       "      <td>29</td>\n",
       "      <td>Temp</td>\n",
       "      <td>76.0</td>\n",
       "    </tr>\n",
       "    <tr>\n",
       "      <th>152</th>\n",
       "      <td>9</td>\n",
       "      <td>30</td>\n",
       "      <td>Ozone</td>\n",
       "      <td>20.0</td>\n",
       "    </tr>\n",
       "    <tr>\n",
       "      <th>305</th>\n",
       "      <td>9</td>\n",
       "      <td>30</td>\n",
       "      <td>Solar.R</td>\n",
       "      <td>223.0</td>\n",
       "    </tr>\n",
       "    <tr>\n",
       "      <th>458</th>\n",
       "      <td>9</td>\n",
       "      <td>30</td>\n",
       "      <td>Wind</td>\n",
       "      <td>11.5</td>\n",
       "    </tr>\n",
       "    <tr>\n",
       "      <th>611</th>\n",
       "      <td>9</td>\n",
       "      <td>30</td>\n",
       "      <td>Temp</td>\n",
       "      <td>68.0</td>\n",
       "    </tr>\n",
       "  </tbody>\n",
       "</table>\n",
       "<p>612 rows × 4 columns</p>\n",
       "</div>"
      ],
      "text/plain": [
       "     Month  Day      변수명      값\n",
       "0        5    1    Ozone   41.0\n",
       "153      5    1  Solar.R  190.0\n",
       "306      5    1     Wind    7.4\n",
       "459      5    1     Temp   67.0\n",
       "1        5    2    Ozone   36.0\n",
       "..     ...  ...      ...    ...\n",
       "610      9   29     Temp   76.0\n",
       "152      9   30    Ozone   20.0\n",
       "305      9   30  Solar.R  223.0\n",
       "458      9   30     Wind   11.5\n",
       "611      9   30     Temp   68.0\n",
       "\n",
       "[612 rows x 4 columns]"
      ]
     },
     "execution_count": 25,
     "metadata": {},
     "output_type": "execute_result"
    }
   ],
   "source": [
    "air_melted =  airquality.melt(id_vars=['Month','Day'],\n",
    "               var_name='변수명', # 기본값:variable\n",
    "               value_name='값') # 기본값 : value\n",
    "air_melted.iloc[::20]\n",
    "air_melted.sort_values(by=['Month','Day'], inplace=True)\n",
    "air_melted"
   ]
  },
  {
   "cell_type": "code",
   "execution_count": 26,
   "id": "8fdf959f",
   "metadata": {},
   "outputs": [
    {
     "name": "stdout",
     "output_type": "stream",
     "text": [
      " C 드라이브의 볼륨에는 이름이 없습니다.\n",
      " 볼륨 일련 번호: 3664-591E\n",
      "\n",
      " c:\\ai_x\\download\\shareData\\부동산_250213 디렉터리\n",
      "\n",
      "2025-04-30  오후 02:52    <DIR>          .\n",
      "2025-04-30  오후 02:52    <DIR>          ..\n",
      "2021-01-02  오후 03:44             2,163 전국 평균 평당 분양가격(2013년 9월부터 2015년 8월까지).csv\n",
      "2025-04-30  오후 02:04           419,340 주택도시보증공사_전국 신규 민간아파트 분양가격 동향_20241231.csv\n",
      "               2개 파일             421,503 바이트\n",
      "               2개 디렉터리  146,107,633,664 바이트 남음\n"
     ]
    }
   ],
   "source": [
    "# melt 연습하기 (부동산 와이드포맷 데이터를 롱포맷)\n",
    "%ls c:\\ai_x\\download\\shareData\\부동산_250213\\"
   ]
  },
  {
   "cell_type": "code",
   "execution_count": null,
   "id": "530c95cd",
   "metadata": {},
   "outputs": [],
   "source": []
  },
  {
   "cell_type": "code",
   "execution_count": 27,
   "id": "4cf79d04",
   "metadata": {
    "scrolled": true
   },
   "outputs": [
    {
     "ename": "NameError",
     "evalue": "name 'ᅢ' is not defined",
     "output_type": "error",
     "traceback": [
      "\u001b[1;31m---------------------------------------------------------------------------\u001b[0m",
      "\u001b[1;31mNameError\u001b[0m                                 Traceback (most recent call last)",
      "Cell \u001b[1;32mIn[27], line 3\u001b[0m\n\u001b[0;32m      1\u001b[0m \u001b[38;5;28;01mimport\u001b[39;00m \u001b[38;5;21;01mpandas\u001b[39;00m \u001b[38;5;28;01mas\u001b[39;00m \u001b[38;5;21;01mpd\u001b[39;00m\n\u001b[0;32m      2\u001b[0m df \u001b[38;5;241m=\u001b[39m pd\u001b[38;5;241m.\u001b[39mread_csv(\u001b[38;5;124mr\u001b[39m\u001b[38;5;124m'\u001b[39m\u001b[38;5;124mc:\u001b[39m\u001b[38;5;124m\\\u001b[39m\u001b[38;5;124mai_x\u001b[39m\u001b[38;5;124m\\\u001b[39m\u001b[38;5;124mdownload\u001b[39m\u001b[38;5;124m\\\u001b[39m\u001b[38;5;124mshareData\u001b[39m\u001b[38;5;124m\\\u001b[39m\u001b[38;5;124m부동산_250213\u001b[39m\u001b[38;5;124m\\\u001b[39m\u001b[38;5;124m전국 평균 평당 분양가격(2013년 9월부터 2015년 8월까지).csv\u001b[39m\u001b[38;5;124m'\u001b[39m, encoding\u001b[38;5;241m=\u001b[39m\u001b[38;5;124m'\u001b[39m\u001b[38;5;124mcp949\u001b[39m\u001b[38;5;124m'\u001b[39m)\n\u001b[1;32m----> 3\u001b[0m \u001b[43mㅐ\u001b[49m\n",
      "\u001b[1;31mNameError\u001b[0m: name 'ᅢ' is not defined"
     ]
    }
   ],
   "source": [
    "import pandas as pd\n",
    "df = pd.read_csv(r'c:\\ai_x\\download\\shareData\\부동산_250213\\전국 평균 평당 분양가격(2013년 9월부터 2015년 8월까지).csv', encoding='cp949')\n",
    "ㅐ\n"
   ]
  },
  {
   "cell_type": "code",
   "execution_count": null,
   "id": "d164f3a4",
   "metadata": {},
   "outputs": [],
   "source": [
    "\n",
    "new_df = df.melt(id_vars='지역',\n",
    "           var_name='연도월',\n",
    "           value_name='평당분양가')\n",
    "new_df.head()"
   ]
  },
  {
   "cell_type": "markdown",
   "id": "edac3c2e",
   "metadata": {},
   "source": [
    "## 10.2 pivot_table을 이용한 피벗팅(롱포맷->와이드포맷) "
   ]
  },
  {
   "cell_type": "code",
   "execution_count": null,
   "id": "fbcb689f",
   "metadata": {},
   "outputs": [],
   "source": [
    "# air_meltied를 와이드 포맷으로\n",
    "air_melted.head()"
   ]
  },
  {
   "cell_type": "code",
   "execution_count": null,
   "id": "913c8259",
   "metadata": {},
   "outputs": [],
   "source": [
    "airquality2 = air_melted.pivot_table(index=['Month','Day'],\n",
    "                      columns='변수명',\n",
    "                      values='값')\n",
    "airquality2.reset_index(inplace=True)\n",
    "airquality2.columns.name = None\n"
   ]
  },
  {
   "cell_type": "code",
   "execution_count": null,
   "id": "0f9b76f6",
   "metadata": {},
   "outputs": [],
   "source": [
    "airquality2.head()"
   ]
  },
  {
   "cell_type": "markdown",
   "id": "103d13ee",
   "metadata": {},
   "source": [
    "# 11절. 데이터프레임(시리즈)에 함수 적용시키기\n",
    "- apply(func, axis) : 축요소별(요소별) 함수 적용(데이터 프레임이나 시리즈에서 가능)\n",
    "- applymap(func) : 각 요소별ㄹ 함수 적용(데이터 프레임에서만 가능)\n",
    "- map(func) : 각 요소별 함수 적용(1차원 리스트, 시리즈에서만 가능)"
   ]
  },
  {
   "cell_type": "code",
   "execution_count": null,
   "id": "44749ef8",
   "metadata": {},
   "outputs": [],
   "source": [
    "new_df.head()"
   ]
  },
  {
   "cell_type": "markdown",
   "id": "e65bbfcb",
   "metadata": {},
   "source": [
    "## 11.1 apply"
   ]
  },
  {
   "cell_type": "code",
   "execution_count": null,
   "id": "9458d0e3",
   "metadata": {},
   "outputs": [],
   "source": [
    "member = pd.read_csv('data/ch11_member.csv', comment='#')\n",
    "member"
   ]
  },
  {
   "cell_type": "code",
   "execution_count": null,
   "id": "863d01d1",
   "metadata": {},
   "outputs": [],
   "source": [
    "def get_year(datestr):\n",
    "    return int(datestr.split('-')[0])"
   ]
  },
  {
   "cell_type": "code",
   "execution_count": null,
   "id": "1a538cab",
   "metadata": {},
   "outputs": [],
   "source": [
    "get_year = lambda datestr : int(datestr.split('-')[0])"
   ]
  },
  {
   "cell_type": "code",
   "execution_count": null,
   "id": "617ecd95",
   "metadata": {},
   "outputs": [],
   "source": [
    "get_year('1999-05-01')"
   ]
  },
  {
   "cell_type": "code",
   "execution_count": null,
   "id": "b9e9c6b4",
   "metadata": {},
   "outputs": [],
   "source": [
    "get_month = lambda datestr : int(datestr.split('-')[1])"
   ]
  },
  {
   "cell_type": "code",
   "execution_count": null,
   "id": "7ec9c79d",
   "metadata": {},
   "outputs": [],
   "source": [
    "get_month('1999-05-01')"
   ]
  },
  {
   "cell_type": "code",
   "execution_count": null,
   "id": "c389fb4c",
   "metadata": {},
   "outputs": [],
   "source": [
    "member['year'] = member['Birth'].apply(lambda datestr : int(datestr.split('-')[0]))\n",
    "member.head()"
   ]
  },
  {
   "cell_type": "code",
   "execution_count": null,
   "id": "4a5fcbae",
   "metadata": {},
   "outputs": [],
   "source": [
    "X = iris.iloc[:, :-2]\n",
    "# X의 열별 평균\n",
    "avg = X.mean(axis=0)\n",
    "avg"
   ]
  },
  {
   "cell_type": "code",
   "execution_count": null,
   "id": "63ae27db",
   "metadata": {
    "scrolled": true
   },
   "outputs": [],
   "source": [
    "X.iloc[0] -avg"
   ]
  },
  {
   "cell_type": "code",
   "execution_count": null,
   "id": "85b2b4a1",
   "metadata": {},
   "outputs": [],
   "source": [
    "# X의 모든행에 대하여 열별 평균과의 거리를 소수점 2자리까지 출력\n",
    "X.apply(lambda x : round(x-avg, 2), axis=1)\n",
    "# X.apply(lambda x: (x - avg).round(2), axis=1)"
   ]
  },
  {
   "cell_type": "markdown",
   "id": "e431a4a8",
   "metadata": {},
   "source": [
    "## 11.2 applymap"
   ]
  },
  {
   "cell_type": "code",
   "execution_count": null,
   "id": "235dd9b0",
   "metadata": {},
   "outputs": [],
   "source": [
    "X = iris.iloc[:, :-2]"
   ]
  },
  {
   "cell_type": "code",
   "execution_count": null,
   "id": "2911861c",
   "metadata": {},
   "outputs": [],
   "source": [
    "X.applymap(np.round)"
   ]
  },
  {
   "cell_type": "markdown",
   "id": "eee78c0f",
   "metadata": {},
   "source": [
    "## 11.3 map\n",
    "- 1차원"
   ]
  },
  {
   "cell_type": "code",
   "execution_count": null,
   "id": "2b6d7c35",
   "metadata": {
    "scrolled": true
   },
   "outputs": [],
   "source": [
    "member['month'] = member['Birth'].map(lambda datestr : int(datestr.split('-')[1]))\n",
    "member"
   ]
  },
  {
   "cell_type": "code",
   "execution_count": null,
   "id": "e493d658",
   "metadata": {},
   "outputs": [],
   "source": [
    "# 연습하기(appy, map)\n",
    "# new_df의 연도월 데이터를 연도와월을 int로 분리하여 컬럼을 추가하세요\n",
    "new_df.sample()"
   ]
  },
  {
   "cell_type": "code",
   "execution_count": null,
   "id": "3b75bd81",
   "metadata": {},
   "outputs": [],
   "source": [
    "new_df['연도'] = new_df['연도월'].apply(lambda str:int(str.split('년')[0]))\n",
    "new_df['월'] = new_df['연도월'].map(lambda str:int(str.split('년')[1][:-1]))\n",
    "new_df.info()"
   ]
  },
  {
   "cell_type": "code",
   "execution_count": null,
   "id": "a805a936",
   "metadata": {},
   "outputs": [],
   "source": [
    "new_df.sample()"
   ]
  },
  {
   "cell_type": "code",
   "execution_count": null,
   "id": "6e9a963f",
   "metadata": {},
   "outputs": [],
   "source": [
    "new_df.drop(['연도','월'], axis=1, inplace=True)"
   ]
  },
  {
   "cell_type": "code",
   "execution_count": null,
   "id": "0ed274ff",
   "metadata": {},
   "outputs": [],
   "source": [
    "# ★ 2차원 데이터 프레임의 apply 이용하는 방법"
   ]
  },
  {
   "cell_type": "code",
   "execution_count": null,
   "id": "9243b3f5",
   "metadata": {},
   "outputs": [],
   "source": [
    "new_df.head(2)"
   ]
  },
  {
   "cell_type": "code",
   "execution_count": null,
   "id": "14a90023",
   "metadata": {},
   "outputs": [],
   "source": [
    "def year_month_append(df):\n",
    "    'df를 받아 연도와 월 추가후 reutrn'\n",
    "    df = df.copy() # 깊은 복사\n",
    "    df['연도'] = int(df['연도월'].split('년')[0])\n",
    "    df['월'] = int(df['연도월'].split('년')[1].replace('월',''))\n",
    "    return df"
   ]
  },
  {
   "cell_type": "code",
   "execution_count": null,
   "id": "99f8009a",
   "metadata": {},
   "outputs": [],
   "source": [
    "year_month_append(new_df.iloc[0])"
   ]
  },
  {
   "cell_type": "code",
   "execution_count": null,
   "id": "bbf59b31",
   "metadata": {},
   "outputs": [],
   "source": [
    "new_df = new_df.apply(year_month_append, axis=1)\n",
    "new_df.head()"
   ]
  },
  {
   "cell_type": "markdown",
   "id": "d0b96f26",
   "metadata": {},
   "source": [
    "# 12절. 일괄변경하기(결측치, 특정값)\n",
    "## 12.1 fillna\n",
    "- 대부분 결측치는 drop하거나, 평균값대체, 중위수대체, 그룹별 중위수, 이전값, 이후값 등으로 대체"
   ]
  },
  {
   "cell_type": "code",
   "execution_count": null,
   "id": "0b325b9c",
   "metadata": {},
   "outputs": [],
   "source": [
    "df = pd.DataFrame([[np.nan, 2, np.nan, 0],\n",
    "                   [3,      4, np.nan, 1],\n",
    "                   [np.nan, 3, np.nan, 5],\n",
    "                   [np.nan, 3, np.nan, 4]],\n",
    "                 columns=[list('ABCD')])\n",
    "df"
   ]
  },
  {
   "cell_type": "code",
   "execution_count": null,
   "id": "b54fe200",
   "metadata": {},
   "outputs": [],
   "source": [
    "# 모든 결측치를 0 대체\n",
    "df.fillna(0)"
   ]
  },
  {
   "cell_type": "code",
   "execution_count": null,
   "id": "1193f150",
   "metadata": {},
   "outputs": [],
   "source": [
    "# 결측치를 이전행의 값으로 대체\n",
    "df.fillna(method='ffill')"
   ]
  },
  {
   "cell_type": "code",
   "execution_count": null,
   "id": "90811d52",
   "metadata": {},
   "outputs": [],
   "source": [
    "# 결측치를 다음행의 값으로 대체\n",
    "df.fillna(method='bfill')"
   ]
  },
  {
   "cell_type": "code",
   "execution_count": null,
   "id": "2d25923b",
   "metadata": {},
   "outputs": [],
   "source": [
    "# 결측치를 열마다 특정값으로 대체\n",
    "values = {'A':85, 'B':80, 'C':75, 'D':90}\n",
    "df.fillna(value=values)"
   ]
  },
  {
   "cell_type": "code",
   "execution_count": null,
   "id": "b3b7995d",
   "metadata": {},
   "outputs": [],
   "source": [
    "# 결측치를 열별 평균값으로 대체\n",
    "df.mean(axis=0)\n",
    "df.fillna(value=df.mean(axis=0))"
   ]
  },
  {
   "cell_type": "code",
   "execution_count": null,
   "id": "d4f65293",
   "metadata": {},
   "outputs": [],
   "source": [
    "# 결측치 대체를 2번째 결측치까지만 대체\n",
    "print(values)\n",
    "df.fillna(value=values, limit=2)"
   ]
  },
  {
   "cell_type": "code",
   "execution_count": null,
   "id": "67521be4",
   "metadata": {},
   "outputs": [],
   "source": [
    "# ★ ★ ★ 총괄 QUIZ ★ ★ ★\n",
    "# (1단계) iris 각 열마다 20개씩 인위적으로 결측치를 할당한다\n",
    "        # 결측치가 각 열마다 20개씩인지 확인\n",
    "# (2-1단계) 결측치는 각 열의 평균으로 대체한다 : fillna사용\n",
    "# (2-2단계) 결측치는 종별 열별 평균(groupby, pivot_table)로 대체한다 : fillna사용X"
   ]
  },
  {
   "cell_type": "code",
   "execution_count": 30,
   "id": "659c5483",
   "metadata": {},
   "outputs": [
    {
     "ename": "NameError",
     "evalue": "name 'collen' is not defined",
     "output_type": "error",
     "traceback": [
      "\u001b[1;31m---------------------------------------------------------------------------\u001b[0m",
      "\u001b[1;31mNameError\u001b[0m                                 Traceback (most recent call last)",
      "Cell \u001b[1;32mIn[30], line 3\u001b[0m\n\u001b[0;32m      1\u001b[0m \u001b[38;5;66;03m# (1단계) iris 각 열마다 20개씩 인위적으로 결측치를 할당한다.\u001b[39;00m\n\u001b[0;32m      2\u001b[0m \u001b[38;5;66;03m#        결측치는 각 열마다 20개씩 확인\u001b[39;00m\n\u001b[1;32m----> 3\u001b[0m \u001b[38;5;28;01mfor\u001b[39;00m col \u001b[38;5;129;01min\u001b[39;00m \u001b[38;5;28mrange\u001b[39m(\u001b[43mcollen\u001b[49m\u001b[38;5;241m-\u001b[39m\u001b[38;5;241m1\u001b[39m):\n\u001b[0;32m      4\u001b[0m     iris\u001b[38;5;241m.\u001b[39miloc[random\u001b[38;5;241m.\u001b[39msample(\u001b[38;5;28mrange\u001b[39m(rowlen), \u001b[38;5;241m20\u001b[39m), col] \u001b[38;5;241m=\u001b[39m np\u001b[38;5;241m.\u001b[39mnan\n",
      "\u001b[1;31mNameError\u001b[0m: name 'collen' is not defined"
     ]
    }
   ],
   "source": [
    "# (1단계) iris 각 열마다 20개씩 인위적으로 결측치를 할당한다.\n",
    "#        결측치는 각 열마다 20개씩 확인\n"
   ]
  },
  {
   "cell_type": "code",
   "execution_count": null,
   "id": "7ab76b9e",
   "metadata": {},
   "outputs": [],
   "source": [
    "import random\n",
    "import numpy as np\n",
    "import pandas as pd\n",
    "import seaborn as sns\n",
    "iris = sns.load_dataset('iris')\n",
    "rowlen, collen = iris.shape\n",
    "rowlen, collen\n"
   ]
  },
  {
   "cell_type": "code",
   "execution_count": null,
   "id": "33ad9768",
   "metadata": {},
   "outputs": [],
   "source": [
    "# (1단계) iris 각 열마다 20개씩 인위적으로 결측치를 할당후 확인\n",
    "print('임의의 20개 index 추출 :',random.sample(range(rowlen), 20))"
   ]
  },
  {
   "cell_type": "code",
   "execution_count": 31,
   "id": "b9e15ff0",
   "metadata": {},
   "outputs": [
    {
     "data": {
      "text/plain": [
       "Sepal.Length    0\n",
       "Sepal.Width     0\n",
       "Petal.Length    0\n",
       "Petal.Width     0\n",
       "Species         0\n",
       "target          0\n",
       "dtype: int64"
      ]
     },
     "execution_count": 31,
     "metadata": {},
     "output_type": "execute_result"
    }
   ],
   "source": [
    "# 결측치 할당\n",
    "for col in range(collen-1):\n",
    "    iris.iloc[random.sample(range(rowlen), 20), col] = np.nan\n"
   ]
  },
  {
   "cell_type": "code",
   "execution_count": null,
   "id": "c3bad0fe",
   "metadata": {},
   "outputs": [],
   "source": [
    "# 결측치 확인 - iris.isna(), iris.isnull():결측치인지 여부\n",
    "# iris.isna().sum()\n",
    "print(iris.isnull().sum())\n",
    "iris.tail()\n"
   ]
  },
  {
   "cell_type": "code",
   "execution_count": null,
   "id": "980a86be",
   "metadata": {},
   "outputs": [],
   "source": [
    "# 결측치가 하나라도 있는 행 출력\n",
    "iris[iris['sepal_length'].isna() | iris['sepal_width'].isna() | \n",
    "     iris['petal_length'].isna() | iris['petal_width'].isna()]\n"
   ]
  },
  {
   "cell_type": "code",
   "execution_count": null,
   "id": "5c55e8b5",
   "metadata": {},
   "outputs": [],
   "source": [
    "# (2-1단계) 결측치는 각 열의 평균으로 대체한다 : fillna사용\n",
    "#iris.mean(numeric_only=True)\n",
    "#iris.iloc[:, :-1].mean()\n",
    "iris.fillna(iris.iloc[:, :-1].mean())"
   ]
  },
  {
   "cell_type": "code",
   "execution_count": null,
   "id": "468e5aa0",
   "metadata": {},
   "outputs": [],
   "source": [
    "iris.isna().sum()"
   ]
  },
  {
   "cell_type": "code",
   "execution_count": null,
   "id": "eace1547",
   "metadata": {},
   "outputs": [],
   "source": [
    "# (2-2단계) 결측치는 종별 열별 중위수(groupby, pivot_table)로 대체한다. : fillna 사용 안댐"
   ]
  },
  {
   "cell_type": "code",
   "execution_count": null,
   "id": "3952074a",
   "metadata": {},
   "outputs": [],
   "source": [
    "# (2-2단계) 결측치는 종별 열별 평균(groupby, pivot_table)로 대체한다 : fillna사용X\n",
    "# 종별 열별 중위수\n",
    "iris_mean = iris.groupby('species').mean()\n",
    "iris_mean"
   ]
  },
  {
   "cell_type": "code",
   "execution_count": null,
   "id": "d2c9fc0e",
   "metadata": {},
   "outputs": [],
   "source": [
    "# fillna사용X 확인\n",
    "iris.fillna(iris_mean)"
   ]
  },
  {
   "cell_type": "code",
   "execution_count": null,
   "id": "2d3c0f49",
   "metadata": {},
   "outputs": [],
   "source": [
    "iris.iloc[2]"
   ]
  },
  {
   "cell_type": "code",
   "execution_count": null,
   "id": "cf71959c",
   "metadata": {},
   "outputs": [],
   "source": [
    "iris_mean # iris_mean.loc['setosa','sepal_length']"
   ]
  },
  {
   "cell_type": "code",
   "execution_count": null,
   "id": "59438f49",
   "metadata": {},
   "outputs": [],
   "source": [
    "# iris 한행을 매개변수로 받아 결측치가 있는 경우 종별 열별 중위수로 대체하는 함수\n",
    "def iris_fillna(irisrow):\n",
    "    irisrow = irisrow.copy()\n",
    "    for col, value in irisrow.items():\n",
    "        if isinstance(value, (int, float, np.number)) and np.isnan(value):\n",
    "            # print(irisrow[col], '이 결측치')\n",
    "            irisrow[col] = iris_mean.loc[irisrow.species, col]\n",
    "    return irisrow\n"
   ]
  },
  {
   "cell_type": "code",
   "execution_count": null,
   "id": "3627df6d",
   "metadata": {},
   "outputs": [],
   "source": [
    "iris_fillna(iris.iloc[2])"
   ]
  },
  {
   "cell_type": "code",
   "execution_count": null,
   "id": "5c53227d",
   "metadata": {},
   "outputs": [],
   "source": [
    "# apply 적용\n",
    "iris = iris.apply(iris_fillna, axis=1)"
   ]
  },
  {
   "cell_type": "markdown",
   "id": "e8ce3046-870c-42ec-96b0-65a968623daa",
   "metadata": {},
   "source": [
    "## 12.2 replace(to_value, new_value, inplace=T/F)\n",
    "- to_value를 new_value\n",
    "- to_value에 정규표현식 이용\n",
    "- 데이터 프레임, 시리즈 적용"
   ]
  },
  {
   "cell_type": "code",
   "execution_count": null,
   "id": "1a537f59",
   "metadata": {},
   "outputs": [],
   "source": [
    "s = pd.Series([0,1,2,3,np.nan])\n",
    "s.replace(np.nan, 0)\n",
    "s.replace([0,1], 99) # 0이나 1을 99로 변경\n",
    "s.replace([0,1], [100, 101]) # 0은 100으로, 1은 101로 변경\n"
   ]
  },
  {
   "cell_type": "code",
   "execution_count": 37,
   "id": "97d411e1",
   "metadata": {},
   "outputs": [
    {
     "data": {
      "text/html": [
       "<div>\n",
       "<style scoped>\n",
       "    .dataframe tbody tr th:only-of-type {\n",
       "        vertical-align: middle;\n",
       "    }\n",
       "\n",
       "    .dataframe tbody tr th {\n",
       "        vertical-align: top;\n",
       "    }\n",
       "\n",
       "    .dataframe thead th {\n",
       "        text-align: right;\n",
       "    }\n",
       "</style>\n",
       "<table border=\"1\" class=\"dataframe\">\n",
       "  <thead>\n",
       "    <tr style=\"text-align: right;\">\n",
       "      <th></th>\n",
       "      <th>A</th>\n",
       "      <th>B</th>\n",
       "    </tr>\n",
       "  </thead>\n",
       "  <tbody>\n",
       "    <tr>\n",
       "      <th>0</th>\n",
       "      <td>XX</td>\n",
       "      <td>abc</td>\n",
       "    </tr>\n",
       "    <tr>\n",
       "      <th>1</th>\n",
       "      <td>foo</td>\n",
       "      <td>XX</td>\n",
       "    </tr>\n",
       "    <tr>\n",
       "      <th>2</th>\n",
       "      <td>XX</td>\n",
       "      <td>xyz</td>\n",
       "    </tr>\n",
       "  </tbody>\n",
       "</table>\n",
       "</div>"
      ],
      "text/plain": [
       "     A    B\n",
       "0   XX  abc\n",
       "1  foo   XX\n",
       "2   XX  xyz"
      ]
     },
     "execution_count": 37,
     "metadata": {},
     "output_type": "execute_result"
    }
   ],
   "source": [
    "df = pd.DataFrame({'A': ['bat', 'foo', 'bait'],\n",
    "                   'B': ['abc', 'bar', 'xyz']})\n",
    "df.replace(r'ba.+', 'XX', regex=True)\n"
   ]
  },
  {
   "cell_type": "markdown",
   "id": "661edfb4",
   "metadata": {},
   "source": [
    "## 12.3 mask(조건), where(조건)\n",
    "- where(조건) : 조건이 True인 요소만 출력하고, 그 외 요소는 결측치로 출력\n",
    "- mask(조건) : 조건이 False인 요소만 출력하고, 그 외 요소는 결측치로 출력"
   ]
  },
  {
   "cell_type": "code",
   "execution_count": 38,
   "id": "124c3453",
   "metadata": {},
   "outputs": [
    {
     "data": {
      "text/plain": [
       "0    10\n",
       "1    11\n",
       "2    12\n",
       "3    13\n",
       "4    14\n",
       "5    15\n",
       "6    16\n",
       "7    17\n",
       "8    18\n",
       "9    19\n",
       "dtype: int64"
      ]
     },
     "execution_count": 38,
     "metadata": {},
     "output_type": "execute_result"
    }
   ],
   "source": [
    "s = pd.Series(range(10,20))\n",
    "s\n"
   ]
  },
  {
   "cell_type": "code",
   "execution_count": 39,
   "id": "30b4fb03",
   "metadata": {},
   "outputs": [
    {
     "data": {
      "text/plain": [
       "0     NaN\n",
       "1     NaN\n",
       "2     NaN\n",
       "3     NaN\n",
       "4     NaN\n",
       "5     NaN\n",
       "6    16.0\n",
       "7    17.0\n",
       "8    18.0\n",
       "9    19.0\n",
       "dtype: float64"
      ]
     },
     "execution_count": 39,
     "metadata": {},
     "output_type": "execute_result"
    }
   ],
   "source": [
    "s.where(s>15)\n"
   ]
  },
  {
   "cell_type": "code",
   "execution_count": 40,
   "id": "f66d408a",
   "metadata": {},
   "outputs": [
    {
     "data": {
      "text/plain": [
       "0    10.0\n",
       "1    11.0\n",
       "2    12.0\n",
       "3    13.0\n",
       "4    14.0\n",
       "5    15.0\n",
       "6     NaN\n",
       "7     NaN\n",
       "8     NaN\n",
       "9     NaN\n",
       "dtype: float64"
      ]
     },
     "execution_count": 40,
     "metadata": {},
     "output_type": "execute_result"
    }
   ],
   "source": [
    "s.mask(s>15)\n"
   ]
  },
  {
   "cell_type": "markdown",
   "id": "c7905c97",
   "metadata": {},
   "source": [
    "## 12.4 dropna\n",
    "- 결측치가 있는 데이터 누락(행, 열)"
   ]
  },
  {
   "cell_type": "code",
   "execution_count": 41,
   "id": "2572a5fc",
   "metadata": {},
   "outputs": [
    {
     "data": {
      "text/html": [
       "<div>\n",
       "<style scoped>\n",
       "    .dataframe tbody tr th:only-of-type {\n",
       "        vertical-align: middle;\n",
       "    }\n",
       "\n",
       "    .dataframe tbody tr th {\n",
       "        vertical-align: top;\n",
       "    }\n",
       "\n",
       "    .dataframe thead th {\n",
       "        text-align: right;\n",
       "    }\n",
       "</style>\n",
       "<table border=\"1\" class=\"dataframe\">\n",
       "  <thead>\n",
       "    <tr style=\"text-align: right;\">\n",
       "      <th></th>\n",
       "      <th>name</th>\n",
       "      <th>age</th>\n",
       "      <th>born</th>\n",
       "    </tr>\n",
       "  </thead>\n",
       "  <tbody>\n",
       "    <tr>\n",
       "      <th>0</th>\n",
       "      <td>홍</td>\n",
       "      <td>NaN</td>\n",
       "      <td>서울</td>\n",
       "    </tr>\n",
       "    <tr>\n",
       "      <th>1</th>\n",
       "      <td>김</td>\n",
       "      <td>20.0</td>\n",
       "      <td>부산</td>\n",
       "    </tr>\n",
       "    <tr>\n",
       "      <th>2</th>\n",
       "      <td>이</td>\n",
       "      <td>30.0</td>\n",
       "      <td>NaN</td>\n",
       "    </tr>\n",
       "    <tr>\n",
       "      <th>3</th>\n",
       "      <td>NaN</td>\n",
       "      <td>NaN</td>\n",
       "      <td>NaN</td>\n",
       "    </tr>\n",
       "  </tbody>\n",
       "</table>\n",
       "</div>"
      ],
      "text/plain": [
       "  name   age born\n",
       "0    홍   NaN   서울\n",
       "1    김  20.0   부산\n",
       "2    이  30.0  NaN\n",
       "3  NaN   NaN  NaN"
      ]
     },
     "execution_count": 41,
     "metadata": {},
     "output_type": "execute_result"
    }
   ],
   "source": [
    "df = pd.DataFrame({'name':['홍','김','이', np.nan],\n",
    "                   'age': [np.nan, 20, 30, np.nan],\n",
    "                   'born':['서울','부산',np.nan,np.nan]})\n",
    "df\n"
   ]
  },
  {
   "cell_type": "code",
   "execution_count": 42,
   "id": "8e9b6e7e",
   "metadata": {},
   "outputs": [
    {
     "data": {
      "text/html": [
       "<div>\n",
       "<style scoped>\n",
       "    .dataframe tbody tr th:only-of-type {\n",
       "        vertical-align: middle;\n",
       "    }\n",
       "\n",
       "    .dataframe tbody tr th {\n",
       "        vertical-align: top;\n",
       "    }\n",
       "\n",
       "    .dataframe thead th {\n",
       "        text-align: right;\n",
       "    }\n",
       "</style>\n",
       "<table border=\"1\" class=\"dataframe\">\n",
       "  <thead>\n",
       "    <tr style=\"text-align: right;\">\n",
       "      <th></th>\n",
       "      <th>name</th>\n",
       "      <th>age</th>\n",
       "      <th>born</th>\n",
       "    </tr>\n",
       "  </thead>\n",
       "  <tbody>\n",
       "    <tr>\n",
       "      <th>0</th>\n",
       "      <td>홍</td>\n",
       "      <td>NaN</td>\n",
       "      <td>서울</td>\n",
       "    </tr>\n",
       "    <tr>\n",
       "      <th>1</th>\n",
       "      <td>김</td>\n",
       "      <td>20.0</td>\n",
       "      <td>부산</td>\n",
       "    </tr>\n",
       "    <tr>\n",
       "      <th>2</th>\n",
       "      <td>이</td>\n",
       "      <td>30.0</td>\n",
       "      <td>NaN</td>\n",
       "    </tr>\n",
       "  </tbody>\n",
       "</table>\n",
       "</div>"
      ],
      "text/plain": [
       "  name   age born\n",
       "0    홍   NaN   서울\n",
       "1    김  20.0   부산\n",
       "2    이  30.0  NaN"
      ]
     },
     "execution_count": 42,
     "metadata": {},
     "output_type": "execute_result"
    }
   ],
   "source": [
    "df.dropna(how='all') # 모두 결측치인 행만 삭제 (axis=0기본값)"
   ]
  },
  {
   "cell_type": "code",
   "execution_count": 43,
   "id": "2013dc22",
   "metadata": {},
   "outputs": [
    {
     "data": {
      "text/html": [
       "<div>\n",
       "<style scoped>\n",
       "    .dataframe tbody tr th:only-of-type {\n",
       "        vertical-align: middle;\n",
       "    }\n",
       "\n",
       "    .dataframe tbody tr th {\n",
       "        vertical-align: top;\n",
       "    }\n",
       "\n",
       "    .dataframe thead th {\n",
       "        text-align: right;\n",
       "    }\n",
       "</style>\n",
       "<table border=\"1\" class=\"dataframe\">\n",
       "  <thead>\n",
       "    <tr style=\"text-align: right;\">\n",
       "      <th></th>\n",
       "      <th>name</th>\n",
       "      <th>age</th>\n",
       "      <th>born</th>\n",
       "    </tr>\n",
       "  </thead>\n",
       "  <tbody>\n",
       "    <tr>\n",
       "      <th>1</th>\n",
       "      <td>김</td>\n",
       "      <td>20.0</td>\n",
       "      <td>부산</td>\n",
       "    </tr>\n",
       "  </tbody>\n",
       "</table>\n",
       "</div>"
      ],
      "text/plain": [
       "  name   age born\n",
       "1    김  20.0   부산"
      ]
     },
     "execution_count": 43,
     "metadata": {},
     "output_type": "execute_result"
    }
   ],
   "source": [
    "df.dropna() # 결측치가 하나라도 있는 행 삭제\n"
   ]
  },
  {
   "cell_type": "code",
   "execution_count": 44,
   "id": "79de277b",
   "metadata": {},
   "outputs": [
    {
     "data": {
      "text/html": [
       "<div>\n",
       "<style scoped>\n",
       "    .dataframe tbody tr th:only-of-type {\n",
       "        vertical-align: middle;\n",
       "    }\n",
       "\n",
       "    .dataframe tbody tr th {\n",
       "        vertical-align: top;\n",
       "    }\n",
       "\n",
       "    .dataframe thead th {\n",
       "        text-align: right;\n",
       "    }\n",
       "</style>\n",
       "<table border=\"1\" class=\"dataframe\">\n",
       "  <thead>\n",
       "    <tr style=\"text-align: right;\">\n",
       "      <th></th>\n",
       "    </tr>\n",
       "  </thead>\n",
       "  <tbody>\n",
       "    <tr>\n",
       "      <th>0</th>\n",
       "    </tr>\n",
       "    <tr>\n",
       "      <th>1</th>\n",
       "    </tr>\n",
       "    <tr>\n",
       "      <th>2</th>\n",
       "    </tr>\n",
       "    <tr>\n",
       "      <th>3</th>\n",
       "    </tr>\n",
       "  </tbody>\n",
       "</table>\n",
       "</div>"
      ],
      "text/plain": [
       "Empty DataFrame\n",
       "Columns: []\n",
       "Index: [0, 1, 2, 3]"
      ]
     },
     "execution_count": 44,
     "metadata": {},
     "output_type": "execute_result"
    }
   ],
   "source": [
    "df.dropna(axis=1) # 결측치가 하나라도 있는 열 삭제"
   ]
  },
  {
   "cell_type": "code",
   "execution_count": 45,
   "id": "2a2b55fa",
   "metadata": {},
   "outputs": [
    {
     "data": {
      "text/html": [
       "<div>\n",
       "<style scoped>\n",
       "    .dataframe tbody tr th:only-of-type {\n",
       "        vertical-align: middle;\n",
       "    }\n",
       "\n",
       "    .dataframe tbody tr th {\n",
       "        vertical-align: top;\n",
       "    }\n",
       "\n",
       "    .dataframe thead th {\n",
       "        text-align: right;\n",
       "    }\n",
       "</style>\n",
       "<table border=\"1\" class=\"dataframe\">\n",
       "  <thead>\n",
       "    <tr style=\"text-align: right;\">\n",
       "      <th></th>\n",
       "      <th>name</th>\n",
       "      <th>age</th>\n",
       "      <th>born</th>\n",
       "    </tr>\n",
       "  </thead>\n",
       "  <tbody>\n",
       "    <tr>\n",
       "      <th>1</th>\n",
       "      <td>김</td>\n",
       "      <td>20.0</td>\n",
       "      <td>부산</td>\n",
       "    </tr>\n",
       "    <tr>\n",
       "      <th>2</th>\n",
       "      <td>이</td>\n",
       "      <td>30.0</td>\n",
       "      <td>NaN</td>\n",
       "    </tr>\n",
       "  </tbody>\n",
       "</table>\n",
       "</div>"
      ],
      "text/plain": [
       "  name   age born\n",
       "1    김  20.0   부산\n",
       "2    이  30.0  NaN"
      ]
     },
     "execution_count": 45,
     "metadata": {},
     "output_type": "execute_result"
    }
   ],
   "source": [
    "df.dropna(subset=['name','age'])\n"
   ]
  },
  {
   "cell_type": "markdown",
   "id": "5ca3d6f2",
   "metadata": {},
   "source": [
    "# 13절 시리즈\n",
    "- 1차원 데이터"
   ]
  },
  {
   "cell_type": "code",
   "execution_count": 46,
   "id": "bb340696",
   "metadata": {},
   "outputs": [
    {
     "data": {
      "text/plain": [
       "mango     1000\n",
       "apple     7000\n",
       "banana    5000\n",
       "dtype: int64"
      ]
     },
     "execution_count": 46,
     "metadata": {},
     "output_type": "execute_result"
    }
   ],
   "source": [
    "s = pd.Series([1000, 7000, 5000],\n",
    "             index=['mango','apple','banana'])\n",
    "s\n"
   ]
  },
  {
   "cell_type": "code",
   "execution_count": 47,
   "id": "5bbcba6e",
   "metadata": {},
   "outputs": [
    {
     "data": {
      "text/plain": [
       "(1000, 1000)"
      ]
     },
     "execution_count": 47,
     "metadata": {},
     "output_type": "execute_result"
    }
   ],
   "source": [
    "s['mango'], s.mango"
   ]
  },
  {
   "cell_type": "code",
   "execution_count": 48,
   "id": "c8557f92",
   "metadata": {},
   "outputs": [],
   "source": [
    "s['mango'] = 2800  # 수정\n"
   ]
  },
  {
   "cell_type": "code",
   "execution_count": 49,
   "id": "8907712c",
   "metadata": {},
   "outputs": [
    {
     "data": {
      "text/plain": [
       "mango     2800\n",
       "apple     7000\n",
       "banana    5000\n",
       "orange    4000\n",
       "dtype: int64"
      ]
     },
     "execution_count": 49,
     "metadata": {},
     "output_type": "execute_result"
    }
   ],
   "source": [
    "s['mango'] = 2800  # 수정\n",
    "s['orange'] = 4000 # 추가\n",
    "s"
   ]
  },
  {
   "cell_type": "code",
   "execution_count": 50,
   "id": "20215ba0",
   "metadata": {},
   "outputs": [
    {
     "data": {
      "text/plain": [
       "mango     2800\n",
       "apple     7000\n",
       "banana    5000\n",
       "dtype: int64"
      ]
     },
     "execution_count": 50,
     "metadata": {},
     "output_type": "execute_result"
    }
   ],
   "source": [
    "s['mango':'banana'] # 슬라이싱 [from:to] from부터 to까지(to포함)"
   ]
  },
  {
   "cell_type": "code",
   "execution_count": 51,
   "id": "c7fe6502",
   "metadata": {},
   "outputs": [
    {
     "data": {
      "text/plain": [
       "mango     2800\n",
       "banana    5000\n",
       "dtype: int64"
      ]
     },
     "execution_count": 51,
     "metadata": {},
     "output_type": "execute_result"
    }
   ],
   "source": [
    "s[ ['mango','banana'] ]"
   ]
  },
  {
   "cell_type": "code",
   "execution_count": 52,
   "id": "2bfc0f60",
   "metadata": {},
   "outputs": [
    {
     "data": {
      "text/plain": [
       "mango     2800\n",
       "apple     7000\n",
       "orange    4000\n",
       "dtype: int64"
      ]
     },
     "execution_count": 52,
     "metadata": {},
     "output_type": "execute_result"
    }
   ],
   "source": [
    "s.drop('banana')"
   ]
  },
  {
   "cell_type": "code",
   "execution_count": 53,
   "id": "cf21748d",
   "metadata": {},
   "outputs": [
    {
     "data": {
      "text/plain": [
       "apple     7000\n",
       "banana    5000\n",
       "mango     2800\n",
       "orange    4000\n",
       "dtype: int64"
      ]
     },
     "execution_count": 53,
     "metadata": {},
     "output_type": "execute_result"
    }
   ],
   "source": [
    "s.sort_index()"
   ]
  },
  {
   "cell_type": "code",
   "execution_count": 62,
   "id": "1c998b64",
   "metadata": {},
   "outputs": [
    {
     "data": {
      "text/plain": [
       "mango     2800\n",
       "orange    4000\n",
       "banana    5000\n",
       "apple     7000\n",
       "dtype: int64"
      ]
     },
     "execution_count": 62,
     "metadata": {},
     "output_type": "execute_result"
    }
   ],
   "source": [
    "s.sort_values() # 오름차순정렬"
   ]
  },
  {
   "cell_type": "code",
   "execution_count": 63,
   "id": "2d4ebaae",
   "metadata": {},
   "outputs": [
    {
     "data": {
      "text/plain": [
       "apple     7000\n",
       "banana    5000\n",
       "orange    4000\n",
       "mango     2800\n",
       "dtype: int64"
      ]
     },
     "execution_count": 63,
     "metadata": {},
     "output_type": "execute_result"
    }
   ],
   "source": [
    "s.sort_values(ascending=False) # 내림차순"
   ]
  },
  {
   "cell_type": "code",
   "execution_count": 64,
   "id": "b86df2bb",
   "metadata": {},
   "outputs": [
    {
     "data": {
      "text/html": [
       "<div>\n",
       "<style scoped>\n",
       "    .dataframe tbody tr th:only-of-type {\n",
       "        vertical-align: middle;\n",
       "    }\n",
       "\n",
       "    .dataframe tbody tr th {\n",
       "        vertical-align: top;\n",
       "    }\n",
       "\n",
       "    .dataframe thead th {\n",
       "        text-align: right;\n",
       "    }\n",
       "</style>\n",
       "<table border=\"1\" class=\"dataframe\">\n",
       "  <thead>\n",
       "    <tr style=\"text-align: right;\">\n",
       "      <th></th>\n",
       "      <th>mango</th>\n",
       "      <th>apple</th>\n",
       "      <th>banana</th>\n",
       "      <th>orange</th>\n",
       "    </tr>\n",
       "  </thead>\n",
       "  <tbody>\n",
       "    <tr>\n",
       "      <th>0</th>\n",
       "      <td>2800</td>\n",
       "      <td>7000</td>\n",
       "      <td>5000</td>\n",
       "      <td>4000</td>\n",
       "    </tr>\n",
       "  </tbody>\n",
       "</table>\n",
       "</div>"
      ],
      "text/plain": [
       "   mango  apple  banana  orange\n",
       "0   2800   7000    5000    4000"
      ]
     },
     "execution_count": 64,
     "metadata": {},
     "output_type": "execute_result"
    }
   ],
   "source": [
    "s.to_frame().T # s시리즈를 데이터프레임으로 변환하여 전치시킴"
   ]
  },
  {
   "cell_type": "markdown",
   "id": "1f74600e",
   "metadata": {},
   "source": [
    "# 14절 연습문제 - 실습형"
   ]
  },
  {
   "cell_type": "code",
   "execution_count": 54,
   "id": "d7ec8ec3",
   "metadata": {},
   "outputs": [
    {
     "data": {
      "text/plain": [
       "pandas.core.frame.DataFrame"
      ]
     },
     "execution_count": 54,
     "metadata": {},
     "output_type": "execute_result"
    }
   ],
   "source": [
    "from seaborn import load_dataset\n",
    "iris = load_dataset('iris')\n",
    "type(iris)"
   ]
  },
  {
   "cell_type": "code",
   "execution_count": 55,
   "id": "f730696f",
   "metadata": {},
   "outputs": [],
   "source": [
    "# 1. 처음 다섯개 행만 출력\n"
   ]
  },
  {
   "cell_type": "code",
   "execution_count": null,
   "id": "7991b7fa",
   "metadata": {},
   "outputs": [],
   "source": [
    "# 2. iris데이터를 독립변수 x와 종속변수 y로. 종속변수는 species. x, y 모두 데이터프레임"
   ]
  },
  {
   "cell_type": "code",
   "execution_count": null,
   "id": "26f0f97e",
   "metadata": {},
   "outputs": [],
   "source": [
    "# 3. iris 데이터에서 처음 50개 행을 빼내서 temp 변수에 저장하세요"
   ]
  },
  {
   "cell_type": "code",
   "execution_count": 56,
   "id": "3361d079",
   "metadata": {},
   "outputs": [],
   "source": [
    "# 4. 3번에서 서택한 데이터프레임의 요약정보를 출력하세요. 모든 열에 대한 요약정보가 출력"
   ]
  },
  {
   "cell_type": "code",
   "execution_count": 57,
   "id": "00e6bc6a",
   "metadata": {},
   "outputs": [],
   "source": [
    "# 5. versicolor종의 데이터만 iris_versicolor 변수에 저장하세요"
   ]
  },
  {
   "cell_type": "code",
   "execution_count": 58,
   "id": "bcc40707",
   "metadata": {},
   "outputs": [],
   "source": [
    "# 6. 2번의 x와 y 변수를 합해서 iris_df 데이터 프레임으로 만드세요"
   ]
  },
  {
   "cell_type": "code",
   "execution_count": 59,
   "id": "9f72c7c3",
   "metadata": {},
   "outputs": [],
   "source": [
    "# 7. iris 열평균"
   ]
  },
  {
   "cell_type": "code",
   "execution_count": 60,
   "id": "495492a7",
   "metadata": {},
   "outputs": [],
   "source": [
    "# 8. iris열들 사이의 상관계수"
   ]
  },
  {
   "cell_type": "code",
   "execution_count": 61,
   "id": "b5a4bb52",
   "metadata": {},
   "outputs": [],
   "source": [
    "# 9. 변수별 평균 차이를 출력"
   ]
  },
  {
   "cell_type": "code",
   "execution_count": null,
   "id": "88abd5d4",
   "metadata": {},
   "outputs": [],
   "source": [
    "# 10. 종별 평균"
   ]
  },
  {
   "cell_type": "code",
   "execution_count": null,
   "id": "12fd4366",
   "metadata": {},
   "outputs": [],
   "source": [
    "# 11. 각 요소들과 종별 변수의 평균과의 차이를 각 종별로 3개씩 출력"
   ]
  },
  {
   "cell_type": "code",
   "execution_count": null,
   "id": "cfddf571",
   "metadata": {},
   "outputs": [],
   "source": []
  },
  {
   "cell_type": "code",
   "execution_count": null,
   "id": "f50bb05e",
   "metadata": {},
   "outputs": [],
   "source": []
  },
  {
   "cell_type": "code",
   "execution_count": null,
   "id": "30d01315",
   "metadata": {},
   "outputs": [],
   "source": []
  },
  {
   "cell_type": "code",
   "execution_count": null,
   "id": "8f6c647c",
   "metadata": {},
   "outputs": [],
   "source": []
  },
  {
   "cell_type": "code",
   "execution_count": null,
   "id": "30a365ac",
   "metadata": {},
   "outputs": [],
   "source": []
  }
 ],
 "metadata": {
  "kernelspec": {
   "display_name": "Python 3 (ipykernel)",
   "language": "python",
   "name": "python3"
  },
  "language_info": {
   "codemirror_mode": {
    "name": "ipython",
    "version": 3
   },
   "file_extension": ".py",
   "mimetype": "text/x-python",
   "name": "python",
   "nbconvert_exporter": "python",
   "pygments_lexer": "ipython3",
   "version": "3.10.9"
  },
  "toc": {
   "base_numbering": 1,
   "nav_menu": {},
   "number_sections": false,
   "sideBar": true,
   "skip_h1_title": false,
   "title_cell": "Table of Contents",
   "title_sidebar": "Contents",
   "toc_cell": false,
   "toc_position": {
    "height": "calc(100% - 180px)",
    "left": "10px",
    "top": "150px",
    "width": "302.105px"
   },
   "toc_section_display": true,
   "toc_window_display": false
  }
 },
 "nbformat": 4,
 "nbformat_minor": 5
}
