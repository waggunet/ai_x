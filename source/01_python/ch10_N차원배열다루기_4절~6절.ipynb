{
 "cells": [
  {
   "cell_type": "code",
   "execution_count": 1,
   "id": "0a0e7e00",
   "metadata": {},
   "outputs": [
    {
     "data": {
      "text/html": [
       "\n",
       "<style>\n",
       "div.container{width:86% !important;}\n",
       "div.cell.code_cell.rendered{width:100%;}\n",
       "div.CodeMirror {font-family:Consolas; font-size:13pt;\n",
       "div.output {font-size:12pt; font-weight:bold;}\n",
       "div.input {font-family:Consolas; font-size:10pt;}\n",
       "div.prompt {min-width:70px;}\n",
       "div#toc-wrapper{padding-top:120px;}\n",
       "div.text_cell_render ul li{font-size:10pt;padding:5px;}\n",
       "table.dataframe{font-size:15px;\n",
       "</style>\n"
      ],
      "text/plain": [
       "<IPython.core.display.HTML object>"
      ]
     },
     "metadata": {},
     "output_type": "display_data"
    }
   ],
   "source": [
    "# 매 강의 시작시마다 동일하게 처리해야 함\n",
    "from IPython.display import display, HTML\n",
    "display(HTML(\"\"\"\n",
    "<style>\n",
    "div.container{width:86% !important;}\n",
    "div.cell.code_cell.rendered{width:100%;}\n",
    "div.CodeMirror {font-family:Consolas; font-size:13pt;\n",
    "div.output {font-size:12pt; font-weight:bold;}\n",
    "div.input {font-family:Consolas; font-size:10pt;}\n",
    "div.prompt {min-width:70px;}\n",
    "div#toc-wrapper{padding-top:120px;}\n",
    "div.text_cell_render ul li{font-size:10pt;padding:5px;}\n",
    "table.dataframe{font-size:15px;\n",
    "</style>\n",
    "\"\"\"))"
   ]
  },
  {
   "cell_type": "markdown",
   "id": "ab6dec1c",
   "metadata": {},
   "source": [
    "<b><font size=\"5\" color=\"red\">ch10. N차원 배열 다루기</font></b>\n",
    "# 4절. 복사와 뷰\n",
    "## 4.1 할당"
   ]
  },
  {
   "cell_type": "code",
   "execution_count": 2,
   "id": "695848a4",
   "metadata": {},
   "outputs": [],
   "source": [
    "import numpy as np"
   ]
  },
  {
   "cell_type": "code",
   "execution_count": 5,
   "id": "f416a494",
   "metadata": {},
   "outputs": [
    {
     "data": {
      "text/plain": [
       "array([0, 1, 2, 3, 4, 5])"
      ]
     },
     "execution_count": 5,
     "metadata": {},
     "output_type": "execute_result"
    }
   ],
   "source": [
    "# a = np.array([0,1,2,3,4,5])\n",
    "a = np.arange(6)\n",
    "a"
   ]
  },
  {
   "cell_type": "code",
   "execution_count": 7,
   "id": "9bb1d20b",
   "metadata": {},
   "outputs": [],
   "source": [
    "b = a"
   ]
  },
  {
   "cell_type": "code",
   "execution_count": 8,
   "id": "7c1e403b",
   "metadata": {},
   "outputs": [
    {
     "data": {
      "text/plain": [
       "True"
      ]
     },
     "execution_count": 8,
     "metadata": {},
     "output_type": "execute_result"
    }
   ],
   "source": [
    "# a와 b가 같은 객체냐?\n",
    "a is b"
   ]
  },
  {
   "cell_type": "code",
   "execution_count": 9,
   "id": "9f182012",
   "metadata": {},
   "outputs": [
    {
     "data": {
      "text/plain": [
       "array([[0, 1, 2],\n",
       "       [3, 4, 5]])"
      ]
     },
     "execution_count": 9,
     "metadata": {},
     "output_type": "execute_result"
    }
   ],
   "source": [
    "b.shape = (2,3)\n",
    "b"
   ]
  },
  {
   "cell_type": "code",
   "execution_count": 10,
   "id": "d23a1b32",
   "metadata": {},
   "outputs": [
    {
     "data": {
      "text/plain": [
       "array([[0, 1, 2],\n",
       "       [3, 4, 5]])"
      ]
     },
     "execution_count": 10,
     "metadata": {},
     "output_type": "execute_result"
    }
   ],
   "source": [
    "a"
   ]
  },
  {
   "cell_type": "markdown",
   "id": "06a271a5",
   "metadata": {},
   "source": [
    "## 4.2 뷰(View)\n",
    "- 슬라이싱할 경우 자동 view가 생성"
   ]
  },
  {
   "cell_type": "code",
   "execution_count": 12,
   "id": "0c23684f",
   "metadata": {},
   "outputs": [
    {
     "data": {
      "text/plain": [
       "array([[ 0,  1,  2,  3,  4,  5],\n",
       "       [ 6,  7,  8,  9, 10, 11]])"
      ]
     },
     "execution_count": 12,
     "metadata": {},
     "output_type": "execute_result"
    }
   ],
   "source": [
    "c = np.arange(12).reshape(2, -1)\n",
    "c"
   ]
  },
  {
   "cell_type": "code",
   "execution_count": 13,
   "id": "f03b17a8",
   "metadata": {},
   "outputs": [
    {
     "data": {
      "text/plain": [
       "False"
      ]
     },
     "execution_count": 13,
     "metadata": {},
     "output_type": "execute_result"
    }
   ],
   "source": [
    "d = c.view() # c의 뷰를 생성 : 얕은 복사\n",
    "d is c # C객체와 d객체가 같냐?"
   ]
  },
  {
   "cell_type": "code",
   "execution_count": 14,
   "id": "f56397c6",
   "metadata": {},
   "outputs": [
    {
     "data": {
      "text/plain": [
       "(2475032098736, 2475032098832)"
      ]
     },
     "execution_count": 14,
     "metadata": {},
     "output_type": "execute_result"
    }
   ],
   "source": [
    "id(c), id(d)"
   ]
  },
  {
   "cell_type": "code",
   "execution_count": 15,
   "id": "ade4286e",
   "metadata": {},
   "outputs": [
    {
     "data": {
      "text/plain": [
       "array([[ True,  True,  True,  True,  True,  True],\n",
       "       [ True,  True,  True,  True,  True,  True]])"
      ]
     },
     "execution_count": 15,
     "metadata": {},
     "output_type": "execute_result"
    }
   ],
   "source": [
    "c == d # c와 d의 내용이 모두 같음"
   ]
  },
  {
   "cell_type": "code",
   "execution_count": 16,
   "id": "db334a26",
   "metadata": {},
   "outputs": [
    {
     "data": {
      "text/plain": [
       "True"
      ]
     },
     "execution_count": 16,
     "metadata": {},
     "output_type": "execute_result"
    }
   ],
   "source": [
    "np.all(c == d)"
   ]
  },
  {
   "cell_type": "code",
   "execution_count": 22,
   "id": "fae53897",
   "metadata": {},
   "outputs": [
    {
     "data": {
      "text/plain": [
       "array([[ 0,  1,  2,  3],\n",
       "       [ 4,  5,  6,  7],\n",
       "       [ 8,  9, 10, 11]])"
      ]
     },
     "execution_count": 22,
     "metadata": {},
     "output_type": "execute_result"
    }
   ],
   "source": [
    "d.shape = (3, 4)\n",
    "d"
   ]
  },
  {
   "cell_type": "code",
   "execution_count": 23,
   "id": "a5fedbc1",
   "metadata": {},
   "outputs": [
    {
     "data": {
      "text/plain": [
       "array([[ 0,  1,  2,  3,  4,  5],\n",
       "       [ 6,  7,  8,  9, 10, 11]])"
      ]
     },
     "execution_count": 23,
     "metadata": {},
     "output_type": "execute_result"
    }
   ],
   "source": [
    "c"
   ]
  },
  {
   "cell_type": "code",
   "execution_count": 25,
   "id": "67273059",
   "metadata": {},
   "outputs": [
    {
     "data": {
      "text/plain": [
       "array([[-99,   1, -99,   3],\n",
       "       [  4,   5,   6,   7],\n",
       "       [  8,   9,  10,  11]])"
      ]
     },
     "execution_count": 25,
     "metadata": {},
     "output_type": "execute_result"
    }
   ],
   "source": [
    "d[0, 0::2] = -99\n",
    "d"
   ]
  },
  {
   "cell_type": "code",
   "execution_count": 26,
   "id": "04364153",
   "metadata": {},
   "outputs": [
    {
     "data": {
      "text/plain": [
       "array([[-99,   1, -99,   3,   4,   5],\n",
       "       [  6,   7,   8,   9,  10,  11]])"
      ]
     },
     "execution_count": 26,
     "metadata": {},
     "output_type": "execute_result"
    }
   ],
   "source": [
    "c"
   ]
  },
  {
   "cell_type": "code",
   "execution_count": 27,
   "id": "d1ce2d64",
   "metadata": {},
   "outputs": [
    {
     "data": {
      "text/plain": [
       "array([[ 0,  1,  2,  3,  4,  5],\n",
       "       [ 6,  7,  8,  9, 10, 11]])"
      ]
     },
     "execution_count": 27,
     "metadata": {},
     "output_type": "execute_result"
    }
   ],
   "source": [
    "# 슬라이싱이 될 때 자동 뷰가 반환됨\n",
    "\n",
    "c = np.arange(12).reshape(2, 6)\n",
    "c"
   ]
  },
  {
   "cell_type": "code",
   "execution_count": 28,
   "id": "116c7d33",
   "metadata": {},
   "outputs": [
    {
     "data": {
      "text/plain": [
       "array([[ 0,  1,  2,  3,  4],\n",
       "       [ 6,  7,  8,  9, 10]])"
      ]
     },
     "execution_count": 28,
     "metadata": {},
     "output_type": "execute_result"
    }
   ],
   "source": [
    "d = c[:,:-1]\n",
    "d"
   ]
  },
  {
   "cell_type": "code",
   "execution_count": 30,
   "id": "1c96eb46",
   "metadata": {},
   "outputs": [
    {
     "data": {
      "text/plain": [
       "array([[ 0,  1,  2,  3,  4,  5],\n",
       "       [ 6,  7,  8,  9, 10, 11]])"
      ]
     },
     "execution_count": 30,
     "metadata": {},
     "output_type": "execute_result"
    }
   ],
   "source": [
    "c"
   ]
  },
  {
   "cell_type": "markdown",
   "id": "6e54c67b",
   "metadata": {},
   "source": [
    "## 4.3 깊은 복사"
   ]
  },
  {
   "cell_type": "code",
   "execution_count": 31,
   "id": "bd540771",
   "metadata": {},
   "outputs": [
    {
     "data": {
      "text/plain": [
       "array([[ 0,  1,  2,  3,  4,  5],\n",
       "       [ 6,  7,  8,  9, 10, 11]])"
      ]
     },
     "execution_count": 31,
     "metadata": {},
     "output_type": "execute_result"
    }
   ],
   "source": [
    "c = np.arange(12).reshape(2,6)\n",
    "c"
   ]
  },
  {
   "cell_type": "code",
   "execution_count": 33,
   "id": "268c8211",
   "metadata": {},
   "outputs": [
    {
     "data": {
      "text/plain": [
       "array([[ 0,  1,  2, 99,  4],\n",
       "       [ 6,  7,  8, 99, 10]])"
      ]
     },
     "execution_count": 33,
     "metadata": {},
     "output_type": "execute_result"
    }
   ],
   "source": [
    "d = c[:, :-1].copy() # 깊은 복사\n",
    "d[..., -2] = 99\n",
    "d"
   ]
  },
  {
   "cell_type": "code",
   "execution_count": 34,
   "id": "3565ef3c",
   "metadata": {},
   "outputs": [
    {
     "data": {
      "text/plain": [
       "array([[ 0,  1,  2,  3,  4,  5],\n",
       "       [ 6,  7,  8,  9, 10, 11]])"
      ]
     },
     "execution_count": 34,
     "metadata": {},
     "output_type": "execute_result"
    }
   ],
   "source": [
    "c"
   ]
  },
  {
   "cell_type": "markdown",
   "id": "fb5f34d1",
   "metadata": {},
   "source": [
    "# 5절. 고급인덱싱\n",
    "## 5.1 인덱스 배열로 인덱싱"
   ]
  },
  {
   "cell_type": "code",
   "execution_count": 36,
   "id": "8a007e42",
   "metadata": {},
   "outputs": [
    {
     "data": {
      "text/plain": [
       "array([  0,   1,   4,   9,  16,  25,  36,  49,  64,  81, 100, 121])"
      ]
     },
     "execution_count": 36,
     "metadata": {},
     "output_type": "execute_result"
    }
   ],
   "source": [
    "a = np.arange(12)**2\n",
    "a"
   ]
  },
  {
   "cell_type": "code",
   "execution_count": 51,
   "id": "3c1a75dd",
   "metadata": {},
   "outputs": [
    {
     "data": {
      "text/plain": [
       "array([ 0,  0,  1, 25])"
      ]
     },
     "execution_count": 51,
     "metadata": {},
     "output_type": "execute_result"
    }
   ],
   "source": [
    "a[ [0, 0, 1, 5] ]"
   ]
  },
  {
   "cell_type": "code",
   "execution_count": 40,
   "id": "f0d6d2ad",
   "metadata": {},
   "outputs": [
    {
     "data": {
      "text/plain": [
       "array([ 0,  0,  1, 25])"
      ]
     },
     "execution_count": 40,
     "metadata": {},
     "output_type": "execute_result"
    }
   ],
   "source": [
    "# 인덱싱하기 위한 값을 배열로 만듦\n",
    "i = np.array([0,0,1,5])\n",
    "a[i]"
   ]
  },
  {
   "cell_type": "code",
   "execution_count": 41,
   "id": "a3cd4120",
   "metadata": {},
   "outputs": [
    {
     "data": {
      "text/plain": [
       "array([[ 0,  0],\n",
       "       [ 1, 25]])"
      ]
     },
     "execution_count": 41,
     "metadata": {},
     "output_type": "execute_result"
    }
   ],
   "source": [
    "# 인덱싱하기 위한 값을 배열로 반듬\n",
    "j = np.array([[0,0],\n",
    "            [1,5]])\n",
    "a[j]"
   ]
  },
  {
   "cell_type": "code",
   "execution_count": null,
   "id": "2e2c53a3",
   "metadata": {},
   "outputs": [],
   "source": [
    "# image_data = [[[255,255,255],\n",
    "#                [255,255,255],\n",
    "#                [255,255,255],\n",
    "#                [0,0,0],\n",
    "#               ],\n",
    "#              ]"
   ]
  },
  {
   "cell_type": "code",
   "execution_count": 58,
   "id": "fe2d0fa8",
   "metadata": {},
   "outputs": [],
   "source": [
    "                   # R G B\n",
    "palette = np.array([[0,0,0], # black\n",
    "                   [255,0,0], # red\n",
    "                   [0,255,0], # greeen\n",
    "                   [0,0,255], # blue\n",
    "                   [255,255,255]]) # white"
   ]
  },
  {
   "cell_type": "code",
   "execution_count": 62,
   "id": "dc5991f7",
   "metadata": {},
   "outputs": [],
   "source": [
    "image_index = np.array([[4,4,4,0,0,0,0,4,4,4],\n",
    "                        [4,0,0,4,4,4,4,0,0,4],\n",
    "                        [0,0,4,4,4,4,4,4,0,0],\n",
    "                        [0,4,4,1,4,4,3,4,4,0],\n",
    "                        [0,4,4,1,4,4,3,4,4,0],\n",
    "                        [0,4,4,4,4,4,4,4,4,0],\n",
    "                        [0,4,4,2,4,4,2,4,4,0],\n",
    "                        [4,0,4,4,2,2,4,4,0,4],\n",
    "                        [4,4,0,4,4,4,4,0,4,4],\n",
    "                        [4,4,4,0,0,0,0,4,4,4]])\n",
    "image_data = palette[[image_index]]"
   ]
  },
  {
   "cell_type": "code",
   "execution_count": 63,
   "id": "cf674ab7",
   "metadata": {},
   "outputs": [
    {
     "data": {
      "text/plain": [
       "(1, 10, 10, 3)"
      ]
     },
     "execution_count": 63,
     "metadata": {},
     "output_type": "execute_result"
    }
   ],
   "source": [
    "image_data.shape"
   ]
  },
  {
   "cell_type": "code",
   "execution_count": 64,
   "id": "32fc07b8",
   "metadata": {},
   "outputs": [
    {
     "ename": "TypeError",
     "evalue": "Invalid shape (1, 10, 10, 3) for image data",
     "output_type": "error",
     "traceback": [
      "\u001b[1;31m---------------------------------------------------------------------------\u001b[0m",
      "\u001b[1;31mTypeError\u001b[0m                                 Traceback (most recent call last)",
      "Cell \u001b[1;32mIn[64], line 3\u001b[0m\n\u001b[0;32m      1\u001b[0m \u001b[38;5;28;01mfrom\u001b[39;00m \u001b[38;5;21;01mmatplotlib\u001b[39;00m \u001b[38;5;28;01mimport\u001b[39;00m pyplot \u001b[38;5;28;01mas\u001b[39;00m plt\n\u001b[0;32m      2\u001b[0m plt\u001b[38;5;241m.\u001b[39mfigure(figsize\u001b[38;5;241m=\u001b[39m(\u001b[38;5;241m2\u001b[39m,\u001b[38;5;241m2\u001b[39m))\n\u001b[1;32m----> 3\u001b[0m \u001b[43mplt\u001b[49m\u001b[38;5;241;43m.\u001b[39;49m\u001b[43mimshow\u001b[49m\u001b[43m(\u001b[49m\u001b[43mimage_data\u001b[49m\u001b[43m)\u001b[49m\n\u001b[0;32m      4\u001b[0m plt\u001b[38;5;241m.\u001b[39mshow()\n",
      "File \u001b[1;32m~\\anaconda3\\lib\\site-packages\\matplotlib\\pyplot.py:2668\u001b[0m, in \u001b[0;36mimshow\u001b[1;34m(X, cmap, norm, aspect, interpolation, alpha, vmin, vmax, origin, extent, interpolation_stage, filternorm, filterrad, resample, url, data, **kwargs)\u001b[0m\n\u001b[0;32m   2662\u001b[0m \u001b[38;5;129m@_copy_docstring_and_deprecators\u001b[39m(Axes\u001b[38;5;241m.\u001b[39mimshow)\n\u001b[0;32m   2663\u001b[0m \u001b[38;5;28;01mdef\u001b[39;00m \u001b[38;5;21mimshow\u001b[39m(\n\u001b[0;32m   2664\u001b[0m         X, cmap\u001b[38;5;241m=\u001b[39m\u001b[38;5;28;01mNone\u001b[39;00m, norm\u001b[38;5;241m=\u001b[39m\u001b[38;5;28;01mNone\u001b[39;00m, \u001b[38;5;241m*\u001b[39m, aspect\u001b[38;5;241m=\u001b[39m\u001b[38;5;28;01mNone\u001b[39;00m, interpolation\u001b[38;5;241m=\u001b[39m\u001b[38;5;28;01mNone\u001b[39;00m,\n\u001b[0;32m   2665\u001b[0m         alpha\u001b[38;5;241m=\u001b[39m\u001b[38;5;28;01mNone\u001b[39;00m, vmin\u001b[38;5;241m=\u001b[39m\u001b[38;5;28;01mNone\u001b[39;00m, vmax\u001b[38;5;241m=\u001b[39m\u001b[38;5;28;01mNone\u001b[39;00m, origin\u001b[38;5;241m=\u001b[39m\u001b[38;5;28;01mNone\u001b[39;00m, extent\u001b[38;5;241m=\u001b[39m\u001b[38;5;28;01mNone\u001b[39;00m,\n\u001b[0;32m   2666\u001b[0m         interpolation_stage\u001b[38;5;241m=\u001b[39m\u001b[38;5;28;01mNone\u001b[39;00m, filternorm\u001b[38;5;241m=\u001b[39m\u001b[38;5;28;01mTrue\u001b[39;00m, filterrad\u001b[38;5;241m=\u001b[39m\u001b[38;5;241m4.0\u001b[39m,\n\u001b[0;32m   2667\u001b[0m         resample\u001b[38;5;241m=\u001b[39m\u001b[38;5;28;01mNone\u001b[39;00m, url\u001b[38;5;241m=\u001b[39m\u001b[38;5;28;01mNone\u001b[39;00m, data\u001b[38;5;241m=\u001b[39m\u001b[38;5;28;01mNone\u001b[39;00m, \u001b[38;5;241m*\u001b[39m\u001b[38;5;241m*\u001b[39mkwargs):\n\u001b[1;32m-> 2668\u001b[0m     __ret \u001b[38;5;241m=\u001b[39m gca()\u001b[38;5;241m.\u001b[39mimshow(\n\u001b[0;32m   2669\u001b[0m         X, cmap\u001b[38;5;241m=\u001b[39mcmap, norm\u001b[38;5;241m=\u001b[39mnorm, aspect\u001b[38;5;241m=\u001b[39maspect,\n\u001b[0;32m   2670\u001b[0m         interpolation\u001b[38;5;241m=\u001b[39minterpolation, alpha\u001b[38;5;241m=\u001b[39malpha, vmin\u001b[38;5;241m=\u001b[39mvmin,\n\u001b[0;32m   2671\u001b[0m         vmax\u001b[38;5;241m=\u001b[39mvmax, origin\u001b[38;5;241m=\u001b[39morigin, extent\u001b[38;5;241m=\u001b[39mextent,\n\u001b[0;32m   2672\u001b[0m         interpolation_stage\u001b[38;5;241m=\u001b[39minterpolation_stage,\n\u001b[0;32m   2673\u001b[0m         filternorm\u001b[38;5;241m=\u001b[39mfilternorm, filterrad\u001b[38;5;241m=\u001b[39mfilterrad, resample\u001b[38;5;241m=\u001b[39mresample,\n\u001b[0;32m   2674\u001b[0m         url\u001b[38;5;241m=\u001b[39murl, \u001b[38;5;241m*\u001b[39m\u001b[38;5;241m*\u001b[39m({\u001b[38;5;124m\"\u001b[39m\u001b[38;5;124mdata\u001b[39m\u001b[38;5;124m\"\u001b[39m: data} \u001b[38;5;28;01mif\u001b[39;00m data \u001b[38;5;129;01mis\u001b[39;00m \u001b[38;5;129;01mnot\u001b[39;00m \u001b[38;5;28;01mNone\u001b[39;00m \u001b[38;5;28;01melse\u001b[39;00m {}),\n\u001b[0;32m   2675\u001b[0m         \u001b[38;5;241m*\u001b[39m\u001b[38;5;241m*\u001b[39mkwargs)\n\u001b[0;32m   2676\u001b[0m     sci(__ret)\n\u001b[0;32m   2677\u001b[0m     \u001b[38;5;28;01mreturn\u001b[39;00m __ret\n",
      "File \u001b[1;32m~\\anaconda3\\lib\\site-packages\\matplotlib\\__init__.py:1442\u001b[0m, in \u001b[0;36m_preprocess_data.<locals>.inner\u001b[1;34m(ax, data, *args, **kwargs)\u001b[0m\n\u001b[0;32m   1439\u001b[0m \u001b[38;5;129m@functools\u001b[39m\u001b[38;5;241m.\u001b[39mwraps(func)\n\u001b[0;32m   1440\u001b[0m \u001b[38;5;28;01mdef\u001b[39;00m \u001b[38;5;21minner\u001b[39m(ax, \u001b[38;5;241m*\u001b[39margs, data\u001b[38;5;241m=\u001b[39m\u001b[38;5;28;01mNone\u001b[39;00m, \u001b[38;5;241m*\u001b[39m\u001b[38;5;241m*\u001b[39mkwargs):\n\u001b[0;32m   1441\u001b[0m     \u001b[38;5;28;01mif\u001b[39;00m data \u001b[38;5;129;01mis\u001b[39;00m \u001b[38;5;28;01mNone\u001b[39;00m:\n\u001b[1;32m-> 1442\u001b[0m         \u001b[38;5;28;01mreturn\u001b[39;00m func(ax, \u001b[38;5;241m*\u001b[39m\u001b[38;5;28mmap\u001b[39m(sanitize_sequence, args), \u001b[38;5;241m*\u001b[39m\u001b[38;5;241m*\u001b[39mkwargs)\n\u001b[0;32m   1444\u001b[0m     bound \u001b[38;5;241m=\u001b[39m new_sig\u001b[38;5;241m.\u001b[39mbind(ax, \u001b[38;5;241m*\u001b[39margs, \u001b[38;5;241m*\u001b[39m\u001b[38;5;241m*\u001b[39mkwargs)\n\u001b[0;32m   1445\u001b[0m     auto_label \u001b[38;5;241m=\u001b[39m (bound\u001b[38;5;241m.\u001b[39marguments\u001b[38;5;241m.\u001b[39mget(label_namer)\n\u001b[0;32m   1446\u001b[0m                   \u001b[38;5;129;01mor\u001b[39;00m bound\u001b[38;5;241m.\u001b[39mkwargs\u001b[38;5;241m.\u001b[39mget(label_namer))\n",
      "File \u001b[1;32m~\\anaconda3\\lib\\site-packages\\matplotlib\\axes\\_axes.py:5665\u001b[0m, in \u001b[0;36mAxes.imshow\u001b[1;34m(self, X, cmap, norm, aspect, interpolation, alpha, vmin, vmax, origin, extent, interpolation_stage, filternorm, filterrad, resample, url, **kwargs)\u001b[0m\n\u001b[0;32m   5657\u001b[0m \u001b[38;5;28mself\u001b[39m\u001b[38;5;241m.\u001b[39mset_aspect(aspect)\n\u001b[0;32m   5658\u001b[0m im \u001b[38;5;241m=\u001b[39m mimage\u001b[38;5;241m.\u001b[39mAxesImage(\u001b[38;5;28mself\u001b[39m, cmap\u001b[38;5;241m=\u001b[39mcmap, norm\u001b[38;5;241m=\u001b[39mnorm,\n\u001b[0;32m   5659\u001b[0m                       interpolation\u001b[38;5;241m=\u001b[39minterpolation, origin\u001b[38;5;241m=\u001b[39morigin,\n\u001b[0;32m   5660\u001b[0m                       extent\u001b[38;5;241m=\u001b[39mextent, filternorm\u001b[38;5;241m=\u001b[39mfilternorm,\n\u001b[0;32m   5661\u001b[0m                       filterrad\u001b[38;5;241m=\u001b[39mfilterrad, resample\u001b[38;5;241m=\u001b[39mresample,\n\u001b[0;32m   5662\u001b[0m                       interpolation_stage\u001b[38;5;241m=\u001b[39minterpolation_stage,\n\u001b[0;32m   5663\u001b[0m                       \u001b[38;5;241m*\u001b[39m\u001b[38;5;241m*\u001b[39mkwargs)\n\u001b[1;32m-> 5665\u001b[0m \u001b[43mim\u001b[49m\u001b[38;5;241;43m.\u001b[39;49m\u001b[43mset_data\u001b[49m\u001b[43m(\u001b[49m\u001b[43mX\u001b[49m\u001b[43m)\u001b[49m\n\u001b[0;32m   5666\u001b[0m im\u001b[38;5;241m.\u001b[39mset_alpha(alpha)\n\u001b[0;32m   5667\u001b[0m \u001b[38;5;28;01mif\u001b[39;00m im\u001b[38;5;241m.\u001b[39mget_clip_path() \u001b[38;5;129;01mis\u001b[39;00m \u001b[38;5;28;01mNone\u001b[39;00m:\n\u001b[0;32m   5668\u001b[0m     \u001b[38;5;66;03m# image does not already have clipping set, clip to axes patch\u001b[39;00m\n",
      "File \u001b[1;32m~\\anaconda3\\lib\\site-packages\\matplotlib\\image.py:710\u001b[0m, in \u001b[0;36m_ImageBase.set_data\u001b[1;34m(self, A)\u001b[0m\n\u001b[0;32m    706\u001b[0m     \u001b[38;5;28mself\u001b[39m\u001b[38;5;241m.\u001b[39m_A \u001b[38;5;241m=\u001b[39m \u001b[38;5;28mself\u001b[39m\u001b[38;5;241m.\u001b[39m_A[:, :, \u001b[38;5;241m0\u001b[39m]\n\u001b[0;32m    708\u001b[0m \u001b[38;5;28;01mif\u001b[39;00m \u001b[38;5;129;01mnot\u001b[39;00m (\u001b[38;5;28mself\u001b[39m\u001b[38;5;241m.\u001b[39m_A\u001b[38;5;241m.\u001b[39mndim \u001b[38;5;241m==\u001b[39m \u001b[38;5;241m2\u001b[39m\n\u001b[0;32m    709\u001b[0m         \u001b[38;5;129;01mor\u001b[39;00m \u001b[38;5;28mself\u001b[39m\u001b[38;5;241m.\u001b[39m_A\u001b[38;5;241m.\u001b[39mndim \u001b[38;5;241m==\u001b[39m \u001b[38;5;241m3\u001b[39m \u001b[38;5;129;01mand\u001b[39;00m \u001b[38;5;28mself\u001b[39m\u001b[38;5;241m.\u001b[39m_A\u001b[38;5;241m.\u001b[39mshape[\u001b[38;5;241m-\u001b[39m\u001b[38;5;241m1\u001b[39m] \u001b[38;5;129;01min\u001b[39;00m [\u001b[38;5;241m3\u001b[39m, \u001b[38;5;241m4\u001b[39m]):\n\u001b[1;32m--> 710\u001b[0m     \u001b[38;5;28;01mraise\u001b[39;00m \u001b[38;5;167;01mTypeError\u001b[39;00m(\u001b[38;5;124m\"\u001b[39m\u001b[38;5;124mInvalid shape \u001b[39m\u001b[38;5;132;01m{}\u001b[39;00m\u001b[38;5;124m for image data\u001b[39m\u001b[38;5;124m\"\u001b[39m\n\u001b[0;32m    711\u001b[0m                     \u001b[38;5;241m.\u001b[39mformat(\u001b[38;5;28mself\u001b[39m\u001b[38;5;241m.\u001b[39m_A\u001b[38;5;241m.\u001b[39mshape))\n\u001b[0;32m    713\u001b[0m \u001b[38;5;28;01mif\u001b[39;00m \u001b[38;5;28mself\u001b[39m\u001b[38;5;241m.\u001b[39m_A\u001b[38;5;241m.\u001b[39mndim \u001b[38;5;241m==\u001b[39m \u001b[38;5;241m3\u001b[39m:\n\u001b[0;32m    714\u001b[0m     \u001b[38;5;66;03m# If the input data has values outside the valid range (after\u001b[39;00m\n\u001b[0;32m    715\u001b[0m     \u001b[38;5;66;03m# normalisation), we issue a warning and then clip X to the bounds\u001b[39;00m\n\u001b[0;32m    716\u001b[0m     \u001b[38;5;66;03m# - otherwise casting wraps extreme values, hiding outliers and\u001b[39;00m\n\u001b[0;32m    717\u001b[0m     \u001b[38;5;66;03m# making reliable interpretation impossible.\u001b[39;00m\n\u001b[0;32m    718\u001b[0m     high \u001b[38;5;241m=\u001b[39m \u001b[38;5;241m255\u001b[39m \u001b[38;5;28;01mif\u001b[39;00m np\u001b[38;5;241m.\u001b[39missubdtype(\u001b[38;5;28mself\u001b[39m\u001b[38;5;241m.\u001b[39m_A\u001b[38;5;241m.\u001b[39mdtype, np\u001b[38;5;241m.\u001b[39minteger) \u001b[38;5;28;01melse\u001b[39;00m \u001b[38;5;241m1\u001b[39m\n",
      "\u001b[1;31mTypeError\u001b[0m: Invalid shape (1, 10, 10, 3) for image data"
     ]
    },
    {
     "data": {
      "image/png": "[encoded data removed]",
      "text/plain": [
       "<Figure size 200x200 with 1 Axes>"
      ]
     },
     "metadata": {},
     "output_type": "display_data"
    }
   ],
   "source": [
    "from matplotlib import pyplot as plt\n",
    "plt.figure(figsize=(2,2))\n",
    "plt.imshow(image_data)\n",
    "plt.show()"
   ]
  },
  {
   "cell_type": "markdown",
   "id": "0df56bf2",
   "metadata": {},
   "source": [
    "## 5.2 논리 배열을 이용한 인덱싱"
   ]
  },
  {
   "cell_type": "code",
   "execution_count": 68,
   "id": "2f9ae02f",
   "metadata": {},
   "outputs": [
    {
     "data": {
      "text/plain": [
       "array([ 0,  1, 10, 11, 12, 13, 14, 15, 99])"
      ]
     },
     "execution_count": 68,
     "metadata": {},
     "output_type": "execute_result"
    }
   ],
   "source": [
    "a = np.array([0,1,10,11,12,13,14,15,99])\n",
    "a"
   ]
  },
  {
   "cell_type": "code",
   "execution_count": 69,
   "id": "95487bb6",
   "metadata": {},
   "outputs": [
    {
     "data": {
      "text/plain": [
       "array([ True, False,  True, False,  True, False,  True, False, False])"
      ]
     },
     "execution_count": 69,
     "metadata": {},
     "output_type": "execute_result"
    }
   ],
   "source": [
    "a%2==0"
   ]
  },
  {
   "cell_type": "code",
   "execution_count": 71,
   "id": "94f52629",
   "metadata": {},
   "outputs": [
    {
     "data": {
      "text/plain": [
       "array([ 0, 10, 12, 14])"
      ]
     },
     "execution_count": 71,
     "metadata": {},
     "output_type": "execute_result"
    }
   ],
   "source": [
    "a[a%2==0] #논리 배열을 이용한 인덱싱 시 True요소만 추출"
   ]
  },
  {
   "cell_type": "code",
   "execution_count": 72,
   "id": "09b4f51d",
   "metadata": {},
   "outputs": [
    {
     "data": {
      "text/plain": [
       "array([13, 14, 15, 99])"
      ]
     },
     "execution_count": 72,
     "metadata": {},
     "output_type": "execute_result"
    }
   ],
   "source": [
    "# a배열에서 12보다 큰 값만 추출\n",
    "a[a>12]"
   ]
  },
  {
   "cell_type": "markdown",
   "id": "1473bb3e",
   "metadata": {},
   "source": [
    "# 6절. 선형대수\n",
    "- 2차원 넘파이 배열을 행령\n",
    "    * 행렬 곱 : @, dot(), 단위행렬\n",
    "    * 역행렬 : np.linalg.inv(행렬) : 역행렬@행렬 = 단위\n",
    "    * 전치행렬 : 행렬.T / 행렬.transpose()"
   ]
  },
  {
   "cell_type": "code",
   "execution_count": 73,
   "id": "5a0030e3",
   "metadata": {},
   "outputs": [
    {
     "data": {
      "text/plain": [
       "array([[1, 2],\n",
       "       [3, 4]])"
      ]
     },
     "execution_count": 73,
     "metadata": {},
     "output_type": "execute_result"
    }
   ],
   "source": [
    "a = np.array([[1,2],\n",
    "            [3,4]])\n",
    "a # 정방행렬"
   ]
  },
  {
   "cell_type": "code",
   "execution_count": 75,
   "id": "224158de",
   "metadata": {},
   "outputs": [
    {
     "data": {
      "text/plain": [
       "array([[1.0000000e+00, 4.4408921e-16],\n",
       "       [0.0000000e+00, 1.0000000e+00]])"
      ]
     },
     "execution_count": 75,
     "metadata": {},
     "output_type": "execute_result"
    }
   ],
   "source": [
    "# a의 역행렬 : a의 역행렬 @ a = a@a의 역행렬 => 단위행렬\n",
    "\n",
    "np.linalg.inv(a) @ a"
   ]
  },
  {
   "cell_type": "markdown",
   "id": "b32427c2",
   "metadata": {},
   "source": [
    "## 6.1 선형 연립 방정식 풀기(독립변수1, 데이터2)"
   ]
  },
  {
   "cell_type": "code",
   "execution_count": 11,
   "id": "285d2fc3",
   "metadata": {},
   "outputs": [
    {
     "data": {
      "text/plain": [
       "(array([[2., 1.],\n",
       "        [4., 1.]]),\n",
       " (2, 2))"
      ]
     },
     "execution_count": 11,
     "metadata": {},
     "output_type": "execute_result"
    }
   ],
   "source": [
    "import numpy as np\n",
    "x = np.array([2, 4]) # 독리변수\n",
    "Y = np.array([40, 60]) # 종속변수\n",
    "# X = np.dstack( (x, np.ones(len(x)))) # dstack : 차원증가\n",
    "X = np.column_stack((x, np.ones(len(x))))\n",
    "X, X.shape"
   ]
  },
  {
   "cell_type": "code",
   "execution_count": 17,
   "id": "19933760",
   "metadata": {},
   "outputs": [
    {
     "data": {
      "text/plain": [
       "array([[40],\n",
       "       [60]])"
      ]
     },
     "execution_count": 17,
     "metadata": {},
     "output_type": "execute_result"
    }
   ],
   "source": [
    "Y.reshape(-1,1) # 출력결과가 나오면 Y는 그대로, return값만 출력"
   ]
  },
  {
   "cell_type": "code",
   "execution_count": 16,
   "id": "7889c399",
   "metadata": {},
   "outputs": [
    {
     "data": {
      "text/plain": [
       "array([10., 20.])"
      ]
     },
     "execution_count": 16,
     "metadata": {},
     "output_type": "execute_result"
    }
   ],
   "source": [
    "# x @ wb = Y\n",
    "# X의 역행렬 @ X @ wb=X의 역행렬 @ Y\n",
    "# wb = X의 역행렬 @ ㅛ\n",
    "wb = np.linalg.inv(X) @ Y\n",
    "wb"
   ]
  },
  {
   "cell_type": "code",
   "execution_count": 20,
   "id": "3d8b04d0",
   "metadata": {},
   "outputs": [
    {
     "data": {
      "image/png": "[encoded data removed]",
      "text/plain": [
       "<Figure size 640x480 with 1 Axes>"
      ]
     },
     "metadata": {},
     "output_type": "display_data"
    }
   ],
   "source": [
    "import matplotlib.pyplot as plt\n",
    "plt.scatter(x,y)\n",
    "plt.plot(x, 10*x+20, 'r')\n",
    "plt.show()"
   ]
  },
  {
   "cell_type": "code",
   "execution_count": 23,
   "id": "dd7290a9",
   "metadata": {},
   "outputs": [
    {
     "data": {
      "text/plain": [
       "array([10., 20.])"
      ]
     },
     "execution_count": 23,
     "metadata": {},
     "output_type": "execute_result"
    }
   ],
   "source": [
    "np.linalg.solve(X, Y) # w(기울기, b(Y절편)을 구하는 함수"
   ]
  },
  {
   "cell_type": "markdown",
   "id": "769728dd",
   "metadata": {},
   "source": [
    "## 6.2 선형연립방정식 풀기(회귀분석) : 독립변수 1개, 데이터 n개"
   ]
  },
  {
   "cell_type": "code",
   "execution_count": 26,
   "id": "1dcdc6a3",
   "metadata": {},
   "outputs": [
    {
     "data": {
      "text/plain": [
       "array([[ 32.,   1.],\n",
       "       [ 64.,   1.],\n",
       "       [ 96.,   1.],\n",
       "       [118.,   1.]])"
      ]
     },
     "execution_count": 26,
     "metadata": {},
     "output_type": "execute_result"
    }
   ],
   "source": [
    "x = np.array([32,64,96,118])\n",
    "X = np.c_[x, np.ones(len(x))]\n",
    "X # 정방행렬이 아님"
   ]
  },
  {
   "cell_type": "code",
   "execution_count": null,
   "id": "fb20b951",
   "metadata": {},
   "outputs": [],
   "source": [
    "# np.linalg.inv(X) x가 정방행렬이 아니면 역행렬을 구할 수 없음"
   ]
  },
  {
   "cell_type": "code",
   "execution_count": 28,
   "id": "4a052902",
   "metadata": {
    "scrolled": false
   },
   "outputs": [
    {
     "data": {
      "text/plain": [
       "(array([[ 32.,  64.,  96., 118.],\n",
       "        [  1.,   1.,   1.,   1.]]),\n",
       " array([[ 32.,  64.,  96., 118.],\n",
       "        [  1.,   1.,   1.,   1.]]))"
      ]
     },
     "execution_count": 28,
     "metadata": {},
     "output_type": "execute_result"
    }
   ],
   "source": [
    "X.T, X.transpose() # 전치행렬"
   ]
  },
  {
   "cell_type": "code",
   "execution_count": 29,
   "id": "7f553e94",
   "metadata": {},
   "outputs": [
    {
     "data": {
      "text/plain": [
       "array([[2.826e+04, 3.100e+02],\n",
       "       [3.100e+02, 4.000e+00]])"
      ]
     },
     "execution_count": 29,
     "metadata": {},
     "output_type": "execute_result"
    }
   ],
   "source": [
    "X_ = X.T @ X\n",
    "X_"
   ]
  },
  {
   "cell_type": "code",
   "execution_count": 31,
   "id": "ce58bbbe",
   "metadata": {},
   "outputs": [
    {
     "data": {
      "text/plain": [
       "array([[1., 0.],\n",
       "       [0., 1.]])"
      ]
     },
     "execution_count": 31,
     "metadata": {},
     "output_type": "execute_result"
    }
   ],
   "source": [
    "# x가 정방행렬이 아니 경우, X.T @X로 정방행렬을 만든 후 역행렬을 곱\n",
    "np.linalg.inv(X_) @ X_"
   ]
  },
  {
   "cell_type": "code",
   "execution_count": 39,
   "id": "2bf781fa",
   "metadata": {},
   "outputs": [
    {
     "data": {
      "text/plain": [
       "(array([[ 32. ,   1. ],\n",
       "        [ 64. ,   1. ],\n",
       "        [ 96. ,   1. ],\n",
       "        [118. ,   1. ],\n",
       "        [126. ,   1. ],\n",
       "        [144. ,   1. ],\n",
       "        [152.5,   1. ],\n",
       "        [158. ,   1. ]]),\n",
       " array([[ 18. ],\n",
       "        [ 24. ],\n",
       "        [ 61.5],\n",
       "        [ 49. ],\n",
       "        [ 52. ],\n",
       "        [105. ],\n",
       "        [130.3],\n",
       "        [125. ]]))"
      ]
     },
     "execution_count": 39,
     "metadata": {},
     "output_type": "execute_result"
    }
   ],
   "source": [
    "x = np.array([32, 64, 96, 118, 126, 144, 152.5, 158])\n",
    "y = np.array([18, 24, 61.5, 49, 52, 105, 130.3, 125])\n",
    "# X = np.c_[x,np.ones(8)]\n",
    "X = np.c_[x,np.ones(x.shape)]\n",
    "Y = y.reshape(-1, 1)\n",
    "X, Y"
   ]
  },
  {
   "cell_type": "code",
   "execution_count": 41,
   "id": "167650f1",
   "metadata": {},
   "outputs": [
    {
     "data": {
      "text/plain": [
       "array([[  0.87493126],\n",
       "       [-26.79078617]])"
      ]
     },
     "execution_count": 41,
     "metadata": {},
     "output_type": "execute_result"
    }
   ],
   "source": [
    "#             X @ wb = Y \n",
    "#       X_(X.T @ X) @ wb = X.T @ Y\n",
    "# (X.T @ X)의 역행렬 @ X.T @ X @ wb = (X.T @ X)의 역행렬 @ X.T @ Y\n",
    "# # X_의 역행렬 @ X_ @ wb = X_의 역행렬 @ X.T @ Y\n",
    "\n",
    "wb = np.linalg.inv(X.T @ X) @ X.T @ Y\n",
    "wb"
   ]
  },
  {
   "cell_type": "code",
   "execution_count": 47,
   "id": "aafe5ea5",
   "metadata": {},
   "outputs": [
    {
     "name": "stdout",
     "output_type": "stream",
     "text": [
      "0.8749312625981291 -26.79078616795418\n",
      "독립변수 :  [ 32.   64.   96.  118.  126.  144.  152.5 158. ]\n",
      "종속변수 :  [ 18.   24.   61.5  49.   52.  105.  130.3 125. ]\n",
      "예측값 :  [  1.20701424  29.20481464  57.20261504  76.45110282  83.45055292\n",
      "  99.19931565 106.63623138 111.44835332]\n"
     ]
    }
   ],
   "source": [
    "print(wb[0,0], wb[1,0]) # 기울기와 Y절편\n",
    "y_hat = wb[0,0] * x + wb[1,0]\n",
    "print('독립변수 : ', x)\n",
    "print('종속변수 : ', y)\n",
    "print('예측값 : ', y_hat)"
   ]
  },
  {
   "cell_type": "code",
   "execution_count": 50,
   "id": "0dace795",
   "metadata": {},
   "outputs": [
    {
     "data": {
      "image/png": "[encoded data removed]",
      "text/plain": [
       "<Figure size 500x300 with 1 Axes>"
      ]
     },
     "metadata": {},
     "output_type": "display_data"
    }
   ],
   "source": [
    "import matplotlib.pyplot as plt\n",
    "plt.figure(figsize=(5,3))\n",
    "plt.scatter(x, y)\n",
    "plt.plot(x, y_hat, 'r')\n",
    "plt.show()"
   ]
  },
  {
   "cell_type": "markdown",
   "id": "485060e0",
   "metadata": {},
   "source": [
    "# 7절. 연습문제\n",
    "## 실습형"
   ]
  },
  {
   "cell_type": "code",
   "execution_count": 55,
   "id": "1e4cb061",
   "metadata": {},
   "outputs": [],
   "source": [
    "# 1.\n",
    "from sklearn import datasets\n",
    "iris = datasets.load_iris()\n",
    "iris_data = iris.data"
   ]
  },
  {
   "cell_type": "code",
   "execution_count": 58,
   "id": "4d278a94",
   "metadata": {},
   "outputs": [
    {
     "data": {
      "text/plain": [
       "(numpy.ndarray, dtype('float64'), (150, 4))"
      ]
     },
     "execution_count": 58,
     "metadata": {},
     "output_type": "execute_result"
    }
   ],
   "source": [
    "type(iris.data), iris_data.dtype, iris_data.shape # 150행 4열짜리 float 배열"
   ]
  },
  {
   "cell_type": "code",
   "execution_count": 60,
   "id": "a263243c",
   "metadata": {},
   "outputs": [],
   "source": [
    "# 실습형 1. 열별평균\n",
    "import numpy as np\n",
    "from sklearn import datasets\n",
    "iris = datasets.load_iris()\n",
    "iris_data = iris.data\n"
   ]
  },
  {
   "cell_type": "code",
   "execution_count": 62,
   "id": "6672d460",
   "metadata": {},
   "outputs": [
    {
     "name": "stdout",
     "output_type": "stream",
     "text": [
      "[5.84333333 3.05733333 3.758      1.19933333]\n"
     ]
    }
   ],
   "source": [
    "mean_values = np.mean(iris_data, axis=0)\n",
    "print(mean_values)"
   ]
  },
  {
   "cell_type": "code",
   "execution_count": 120,
   "id": "45898769",
   "metadata": {},
   "outputs": [
    {
     "data": {
      "text/plain": [
       "array([5.84333333, 3.05733333, 3.758     , 1.19933333])"
      ]
     },
     "execution_count": 120,
     "metadata": {},
     "output_type": "execute_result"
    }
   ],
   "source": [
    "# 문제풀이\n",
    "\n",
    "iris_data.mean()\n",
    "np.mean(iris_data, axis=0)\n",
    "np.average(iris_data, axis=0) # iris_data.average(axis=0)은 에러"
   ]
  },
  {
   "cell_type": "code",
   "execution_count": 63,
   "id": "abffe53b",
   "metadata": {},
   "outputs": [
    {
     "name": "stdout",
     "output_type": "stream",
     "text": [
      "[[5.1 3.5 1.4 0.2]\n",
      " [4.9 3.  1.4 0.2]\n",
      " [4.7 3.2 1.3 0.2]\n",
      " [4.6 3.1 1.5 0.2]\n",
      " [5.  3.6 1.4 0.2]]\n"
     ]
    }
   ],
   "source": [
    "# 실습형 2. 처음 다섯 개 행\n",
    "print(iris_data[:5])"
   ]
  },
  {
   "cell_type": "code",
   "execution_count": 124,
   "id": "0456adb8",
   "metadata": {},
   "outputs": [
    {
     "data": {
      "text/plain": [
       "array([[5.1, 3.5, 1.4, 0.2],\n",
       "       [4.9, 3. , 1.4, 0.2],\n",
       "       [4.6, 3.1, 1.5, 0.2],\n",
       "       [5. , 3.6, 1.4, 0.2]])"
      ]
     },
     "execution_count": 124,
     "metadata": {},
     "output_type": "execute_result"
    }
   ],
   "source": [
    "# 문제풀이\n",
    "iris_data[:5] #iris_data[:5,], iris_data[:5,:] iris_data[:5,...]\n",
    "# iris_data[[0, 1, 3, 4]] 가능하나 비추임"
   ]
  },
  {
   "cell_type": "code",
   "execution_count": 66,
   "id": "43e521b8",
   "metadata": {
    "collapsed": true
   },
   "outputs": [
    {
     "name": "stdout",
     "output_type": "stream",
     "text": [
      "[[5.1 3.5 1.4]\n",
      " [4.9 3.  1.4]\n",
      " [4.7 3.2 1.3]\n",
      " [4.6 3.1 1.5]\n",
      " [5.  3.6 1.4]\n",
      " [5.4 3.9 1.7]\n",
      " [4.6 3.4 1.4]\n",
      " [5.  3.4 1.5]\n",
      " [4.4 2.9 1.4]\n",
      " [4.9 3.1 1.5]\n",
      " [5.4 3.7 1.5]\n",
      " [4.8 3.4 1.6]\n",
      " [4.8 3.  1.4]\n",
      " [4.3 3.  1.1]\n",
      " [5.8 4.  1.2]\n",
      " [5.7 4.4 1.5]\n",
      " [5.4 3.9 1.3]\n",
      " [5.1 3.5 1.4]\n",
      " [5.7 3.8 1.7]\n",
      " [5.1 3.8 1.5]\n",
      " [5.4 3.4 1.7]\n",
      " [5.1 3.7 1.5]\n",
      " [4.6 3.6 1. ]\n",
      " [5.1 3.3 1.7]\n",
      " [4.8 3.4 1.9]\n",
      " [5.  3.  1.6]\n",
      " [5.  3.4 1.6]\n",
      " [5.2 3.5 1.5]\n",
      " [5.2 3.4 1.4]\n",
      " [4.7 3.2 1.6]\n",
      " [4.8 3.1 1.6]\n",
      " [5.4 3.4 1.5]\n",
      " [5.2 4.1 1.5]\n",
      " [5.5 4.2 1.4]\n",
      " [4.9 3.1 1.5]\n",
      " [5.  3.2 1.2]\n",
      " [5.5 3.5 1.3]\n",
      " [4.9 3.6 1.4]\n",
      " [4.4 3.  1.3]\n",
      " [5.1 3.4 1.5]\n",
      " [5.  3.5 1.3]\n",
      " [4.5 2.3 1.3]\n",
      " [4.4 3.2 1.3]\n",
      " [5.  3.5 1.6]\n",
      " [5.1 3.8 1.9]\n",
      " [4.8 3.  1.4]\n",
      " [5.1 3.8 1.6]\n",
      " [4.6 3.2 1.4]\n",
      " [5.3 3.7 1.5]\n",
      " [5.  3.3 1.4]\n",
      " [7.  3.2 4.7]\n",
      " [6.4 3.2 4.5]\n",
      " [6.9 3.1 4.9]\n",
      " [5.5 2.3 4. ]\n",
      " [6.5 2.8 4.6]\n",
      " [5.7 2.8 4.5]\n",
      " [6.3 3.3 4.7]\n",
      " [4.9 2.4 3.3]\n",
      " [6.6 2.9 4.6]\n",
      " [5.2 2.7 3.9]\n",
      " [5.  2.  3.5]\n",
      " [5.9 3.  4.2]\n",
      " [6.  2.2 4. ]\n",
      " [6.1 2.9 4.7]\n",
      " [5.6 2.9 3.6]\n",
      " [6.7 3.1 4.4]\n",
      " [5.6 3.  4.5]\n",
      " [5.8 2.7 4.1]\n",
      " [6.2 2.2 4.5]\n",
      " [5.6 2.5 3.9]\n",
      " [5.9 3.2 4.8]\n",
      " [6.1 2.8 4. ]\n",
      " [6.3 2.5 4.9]\n",
      " [6.1 2.8 4.7]\n",
      " [6.4 2.9 4.3]\n",
      " [6.6 3.  4.4]\n",
      " [6.8 2.8 4.8]\n",
      " [6.7 3.  5. ]\n",
      " [6.  2.9 4.5]\n",
      " [5.7 2.6 3.5]\n",
      " [5.5 2.4 3.8]\n",
      " [5.5 2.4 3.7]\n",
      " [5.8 2.7 3.9]\n",
      " [6.  2.7 5.1]\n",
      " [5.4 3.  4.5]\n",
      " [6.  3.4 4.5]\n",
      " [6.7 3.1 4.7]\n",
      " [6.3 2.3 4.4]\n",
      " [5.6 3.  4.1]\n",
      " [5.5 2.5 4. ]\n",
      " [5.5 2.6 4.4]\n",
      " [6.1 3.  4.6]\n",
      " [5.8 2.6 4. ]\n",
      " [5.  2.3 3.3]\n",
      " [5.6 2.7 4.2]\n",
      " [5.7 3.  4.2]\n",
      " [5.7 2.9 4.2]\n",
      " [6.2 2.9 4.3]\n",
      " [5.1 2.5 3. ]\n",
      " [5.7 2.8 4.1]\n",
      " [6.3 3.3 6. ]\n",
      " [5.8 2.7 5.1]\n",
      " [7.1 3.  5.9]\n",
      " [6.3 2.9 5.6]\n",
      " [6.5 3.  5.8]\n",
      " [7.6 3.  6.6]\n",
      " [4.9 2.5 4.5]\n",
      " [7.3 2.9 6.3]\n",
      " [6.7 2.5 5.8]\n",
      " [7.2 3.6 6.1]\n",
      " [6.5 3.2 5.1]\n",
      " [6.4 2.7 5.3]\n",
      " [6.8 3.  5.5]\n",
      " [5.7 2.5 5. ]\n",
      " [5.8 2.8 5.1]\n",
      " [6.4 3.2 5.3]\n",
      " [6.5 3.  5.5]\n",
      " [7.7 3.8 6.7]\n",
      " [7.7 2.6 6.9]\n",
      " [6.  2.2 5. ]\n",
      " [6.9 3.2 5.7]\n",
      " [5.6 2.8 4.9]\n",
      " [7.7 2.8 6.7]\n",
      " [6.3 2.7 4.9]\n",
      " [6.7 3.3 5.7]\n",
      " [7.2 3.2 6. ]\n",
      " [6.2 2.8 4.8]\n",
      " [6.1 3.  4.9]\n",
      " [6.4 2.8 5.6]\n",
      " [7.2 3.  5.8]\n",
      " [7.4 2.8 6.1]\n",
      " [7.9 3.8 6.4]\n",
      " [6.4 2.8 5.6]\n",
      " [6.3 2.8 5.1]\n",
      " [6.1 2.6 5.6]\n",
      " [7.7 3.  6.1]\n",
      " [6.3 3.4 5.6]\n",
      " [6.4 3.1 5.5]\n",
      " [6.  3.  4.8]\n",
      " [6.9 3.1 5.4]\n",
      " [6.7 3.1 5.6]\n",
      " [6.9 3.1 5.1]\n",
      " [5.8 2.7 5.1]\n",
      " [6.8 3.2 5.9]\n",
      " [6.7 3.3 5.7]\n",
      " [6.7 3.  5.2]\n",
      " [6.3 2.5 5. ]\n",
      " [6.5 3.  5.2]\n",
      " [6.2 3.4 5.4]\n",
      " [5.9 3.  5.1]]\n"
     ]
    }
   ],
   "source": [
    "# 실습형 3. 처음 다섯개 행에서 마지막 열을 제외한 나머지 열을 출력\n",
    "print(iris_data[:, :-1])"
   ]
  },
  {
   "cell_type": "code",
   "execution_count": 125,
   "id": "94b8c06f",
   "metadata": {},
   "outputs": [
    {
     "data": {
      "text/plain": [
       "array([[5.1, 3.5, 1.4],\n",
       "       [4.9, 3. , 1.4],\n",
       "       [4.7, 3.2, 1.3],\n",
       "       [4.6, 3.1, 1.5],\n",
       "       [5. , 3.6, 1.4]])"
      ]
     },
     "execution_count": 125,
     "metadata": {},
     "output_type": "execute_result"
    }
   ],
   "source": [
    "# 문제풀이\n",
    "ex3 = iris_data[:5, :-1]\n",
    "ex3\n"
   ]
  },
  {
   "cell_type": "code",
   "execution_count": 74,
   "id": "b69d4d15",
   "metadata": {},
   "outputs": [
    {
     "name": "stdout",
     "output_type": "stream",
     "text": [
      "[0.2 0.2 0.2 0.2 0.2]\n"
     ]
    }
   ],
   "source": [
    "# 실습형 4. 처음 다섯개 행에서 마지막 열만 출력\n",
    "print(iris_data[:5, -1])\n"
   ]
  },
  {
   "cell_type": "code",
   "execution_count": 126,
   "id": "d6510328",
   "metadata": {},
   "outputs": [
    {
     "data": {
      "text/plain": [
       "array([0.2, 0.2, 0.2, 0.2, 0.2])"
      ]
     },
     "execution_count": 126,
     "metadata": {},
     "output_type": "execute_result"
    }
   ],
   "source": [
    "# 문제풀이 \n",
    "ex4 = iris_data[:5,-1] #iris_data[:5,-1:]라고 하면 5행1열로 됨\n",
    "ex4\n"
   ]
  },
  {
   "cell_type": "code",
   "execution_count": 86,
   "id": "5b19eb2b",
   "metadata": {},
   "outputs": [
    {
     "name": "stdout",
     "output_type": "stream",
     "text": [
      "[[5.1 3.5 1.4 0.2]\n",
      " [4.9 3.  1.4 0.2]\n",
      " [4.7 3.2 1.3 0.2]\n",
      " [4.6 3.1 1.5 0.2]\n",
      " [5.  3.6 1.4 0.2]]\n"
     ]
    }
   ],
   "source": [
    "# 실습형 5. 3번 배열과 4번 배열을 원래 모양으로 합하기\n",
    "# 좀 헷갈림\n",
    "\n",
    "iris = datasets.load_iris()\n",
    "iris_data = iris.data\n",
    "x_part = iris_data[:5, :-1]\n",
    "y_part = iris_data[:5, -1]\n",
    "y_part = y_part.reshape(-1, 1)\n",
    "XY = np.concatenate((x_part, y_part), axis=1)\n",
    "print(XY)\n"
   ]
  },
  {
   "cell_type": "code",
   "execution_count": 134,
   "id": "050c720e",
   "metadata": {},
   "outputs": [
    {
     "name": "stdout",
     "output_type": "stream",
     "text": [
      "[[5.1 3.5 1.4 0.2]\n",
      " [4.9 3.  1.4 0.2]\n",
      " [4.7 3.2 1.3 0.2]\n",
      " [4.6 3.1 1.5 0.2]\n",
      " [5.  3.6 1.4 0.2]]\n"
     ]
    },
    {
     "data": {
      "text/plain": [
       "False"
      ]
     },
     "execution_count": 134,
     "metadata": {},
     "output_type": "execute_result"
    }
   ],
   "source": [
    "# 문제풀이\n",
    "answer1 = np.c_[ex3,ex4]\n",
    "answer2 = np.column_stack((ex3, ex4))\n",
    "answer3 = np.hstack((ex3, ex4[:, np.newaxis]))\n",
    "answer4 = np.hstack( (ex3, ex4.reshape(-1,1)))\n",
    "answer5 = np.concatenate( (ex3, ex4.reshape(-1, 1)), axis=1)\n",
    "print(answer1)\n",
    "# 위의 5개 답이 다 같은지 여부\n",
    "answer = [answer1, answer2, answer3, answer4, answer5]\n",
    "# all([np.all(answer1 == answer) for answer in answer1])\n",
    "all(np.all(answer1 == answer) for answer in answer1)"
   ]
  },
  {
   "cell_type": "code",
   "execution_count": 140,
   "id": "0f69c529",
   "metadata": {},
   "outputs": [],
   "source": [
    "def same_all(*answers):\n",
    "    if len(answers) > 0:\n",
    "        first = answers[0]\n",
    "        return all(np.all(first == answer) for answer in answer1)\n",
    "    else:\n",
    "        return false\n"
   ]
  },
  {
   "cell_type": "code",
   "execution_count": 136,
   "id": "482624f2",
   "metadata": {},
   "outputs": [
    {
     "data": {
      "text/plain": [
       "False"
      ]
     },
     "execution_count": 136,
     "metadata": {},
     "output_type": "execute_result"
    }
   ],
   "source": [
    "same_all(answer1, answer2, answer3, answer4, answer5) # 위 9번째 줄부 터를 대체"
   ]
  },
  {
   "cell_type": "code",
   "execution_count": 139,
   "id": "f8689df3",
   "metadata": {},
   "outputs": [
    {
     "name": "stdout",
     "output_type": "stream",
     "text": [
      "[[5.1 3.5 1.4 0.2]\n",
      " [4.9 3.  1.4 0.2]\n",
      " [4.7 3.2 1.3 0.2]\n",
      " [4.6 3.1 1.5 0.2]\n",
      " [5.  3.6 1.4 0.2]]\n"
     ]
    },
    {
     "data": {
      "text/plain": [
       "False"
      ]
     },
     "execution_count": 139,
     "metadata": {},
     "output_type": "execute_result"
    }
   ],
   "source": [
    "answer1 = np.c_[ex3,ex4]\n",
    "answer2 = np.column_stack((ex3, ex4))\n",
    "answer3 = np.hstack((ex3, ex4[:, np.newaxis]))\n",
    "answer4 = np.hstack( (ex3, ex4.reshape(-1,1)))\n",
    "answer5 = np.concatenate( (ex3, ex4.reshape(-1, 1)), axis=1)\n",
    "print(answer1)\n",
    "# 위의 5개 답이 다 같은지 여부\n",
    "answer = [answer1, answer2, answer3, answer4, answer5]\n",
    "# all([np.all(answer1 == answer) for answer in answer1])\n",
    "all(np.all(answer1 == answer) for answer in answer1)\n",
    "same_all(answer1, answer2, answer3, answer4, answer5) # 위 9번째 줄부 터를 대체"
   ]
  },
  {
   "cell_type": "code",
   "execution_count": 88,
   "id": "b430b3ea",
   "metadata": {},
   "outputs": [
    {
     "name": "stdout",
     "output_type": "stream",
     "text": [
      "각 열의 평균 :  [4.86 3.28 1.4  0.2 ]\n",
      "평균보다 큰 값들 : [5.1 3.5 4.9 1.5 5.  3.6]\n"
     ]
    }
   ],
   "source": [
    "# 실습형 6. 처음 다섯개 행을 이용해서 각 열 평균보다 큰 값만 출력\n",
    "# 많이 헷갈림\n",
    "\n",
    "iris = datasets.load_iris()\n",
    "iris_data = iris.data\n",
    "data_part = iris_data[:5]\n",
    "mean_values = np.mean(data_part, axis=0)\n",
    "mask = data_part > mean_values\n",
    "result = data_part[mask]\n",
    "\n",
    "print('각 열의 평균 : ', mean_values)\n",
    "print('평균보다 큰 값들 :', result)"
   ]
  },
  {
   "cell_type": "code",
   "execution_count": 128,
   "id": "6d41af0a",
   "metadata": {
    "scrolled": false
   },
   "outputs": [
    {
     "data": {
      "text/plain": [
       "array([5.1, 3.5, 4.9, 1.5, 5. , 3.6])"
      ]
     },
     "execution_count": 128,
     "metadata": {},
     "output_type": "execute_result"
    }
   ],
   "source": [
    "# 문제풀이\n",
    "sample = iris_data[:5]\n",
    "sample[sample > np.mean(sample, axis=0)]"
   ]
  },
  {
   "cell_type": "code",
   "execution_count": 143,
   "id": "bacf6615",
   "metadata": {},
   "outputs": [
    {
     "name": "stdout",
     "output_type": "stream",
     "text": [
      "[[5.1 3.5 1.4 0.2]\n",
      " [4.9 3.  1.4 0.2]\n",
      " [4.7 3.2 1.3 0.2]\n",
      " [4.6 3.1 1.5 0.2]\n",
      " [5.  3.6 1.4 0.2]]\n",
      "[4.86 3.28 1.4  0.2 ]\n"
     ]
    },
    {
     "data": {
      "text/plain": [
       "array([5.1, 3.5, 4.9, 1.5, 5. , 3.6])"
      ]
     },
     "execution_count": 143,
     "metadata": {},
     "output_type": "execute_result"
    }
   ],
   "source": [
    "sample = iris_data[:5].copy()\n",
    "print(sample)\n",
    "print(np.mean(sample, axis=0))\n",
    "sample[sample > np.mean(sample, axis=0)]"
   ]
  },
  {
   "cell_type": "code",
   "execution_count": 129,
   "id": "c0b63ff4",
   "metadata": {
    "scrolled": true
   },
   "outputs": [
    {
     "name": "stdout",
     "output_type": "stream",
     "text": [
      "[[5.1 3.5 1.4 0.2]\n",
      " [4.9 3.  1.4 0.2]\n",
      " [4.7 3.2 1.3 0.2]\n",
      " [4.6 3.1 1.5 0.2]\n",
      " [5.  3.6 1.4 0.2]]\n",
      "열별 평균 :  [4.86 3.28 1.4  0.2 ]\n"
     ]
    }
   ],
   "source": [
    "print(sample)\n",
    "print('열별 평균 : ', np.mean(sample, axis=0))"
   ]
  },
  {
   "cell_type": "code",
   "execution_count": 145,
   "id": "34d4f2ea",
   "metadata": {},
   "outputs": [],
   "source": [
    "sample[sample <= np.mean(sample, axis=0)] = None # 결측치(타입 :float)"
   ]
  },
  {
   "cell_type": "code",
   "execution_count": 148,
   "id": "eb8c5741",
   "metadata": {},
   "outputs": [
    {
     "name": "stdout",
     "output_type": "stream",
     "text": [
      "[[5.1 3.5 nan nan]\n",
      " [4.9 nan nan nan]\n",
      " [nan nan nan nan]\n",
      " [nan nan 1.5 nan]\n",
      " [5.  3.6 nan nan]]\n"
     ]
    }
   ],
   "source": [
    "x = sample.copy()\n",
    "x[x<=np.mean(x, axis=0)] = None\n",
    "print(sample)"
   ]
  },
  {
   "cell_type": "code",
   "execution_count": 155,
   "id": "63a15f65",
   "metadata": {},
   "outputs": [
    {
     "data": {
      "text/plain": [
       "array([[5.1, 3.5, None, None],\n",
       "       [4.9, None, None, None],\n",
       "       [None, None, None, None],\n",
       "       [None, None, 1.5, None],\n",
       "       [5.0, 3.6, None, None]], dtype=object)"
      ]
     },
     "execution_count": 155,
     "metadata": {},
     "output_type": "execute_result"
    }
   ],
   "source": [
    "sample = iris_data[:5].copy()\n",
    "# 위의 결과를 출력\n",
    "np.where(sample > np.mean(sample, axis=0), sample, None) # sample 배열은 안 바뀜"
   ]
  },
  {
   "cell_type": "markdown",
   "id": "a8378aa7",
   "metadata": {},
   "source": [
    "## 서술형"
   ]
  },
  {
   "cell_type": "code",
   "execution_count": 156,
   "id": "c0c6b6b9",
   "metadata": {},
   "outputs": [
    {
     "name": "stdout",
     "output_type": "stream",
     "text": [
      "[12 15 18 21]\n"
     ]
    }
   ],
   "source": [
    "# 문제풀이형 1.\n",
    "# (3)\n",
    "\n",
    "import numpy as np\n",
    "a = np.arange(12).reshape(3,4)\n",
    "a\n",
    "print(a.sum(0))"
   ]
  },
  {
   "cell_type": "code",
   "execution_count": 119,
   "id": "1905880a",
   "metadata": {},
   "outputs": [
    {
     "data": {
      "text/plain": [
       "array([[2., 1., 8.],\n",
       "       [5., 5., 4.],\n",
       "       [4., 2., 3.],\n",
       "       [1., 6., 7.]])"
      ]
     },
     "execution_count": 119,
     "metadata": {},
     "output_type": "execute_result"
    }
   ],
   "source": [
    "# 문제풀이형 2.\n",
    "# 차원변경 : a.reshape(6,2)\n",
    "# 차원변경 : a.T\n",
    "\n",
    "a = np.floor(10*np.random.random((3,4)))\n",
    "a.shape\n",
    "\n",
    "\n",
    "# a.ravel()\n",
    "a.reshape(6,2)\n",
    "# a.resize((2,6))\n",
    "a.T\n",
    "\n"
   ]
  },
  {
   "cell_type": "code",
   "execution_count": 103,
   "id": "d16f045d",
   "metadata": {},
   "outputs": [
    {
     "data": {
      "text/plain": [
       "array([[0, 1, 2, 3],\n",
       "       [4, 5, 6, 7]])"
      ]
     },
     "execution_count": 103,
     "metadata": {},
     "output_type": "execute_result"
    }
   ],
   "source": [
    "# 문제풀이형 3.\n",
    "# (1)\n",
    "a = np.arange(12).reshape(3,4)\n",
    "\n",
    "a[:2]\n",
    "# a[:,:2]\n",
    "# a[1,2]\n",
    "# a[1][2]"
   ]
  },
  {
   "cell_type": "code",
   "execution_count": 104,
   "id": "6443f0d7",
   "metadata": {},
   "outputs": [
    {
     "data": {
      "text/plain": [
       "array([1, 0, 3, 0, 0])"
      ]
     },
     "execution_count": 104,
     "metadata": {},
     "output_type": "execute_result"
    }
   ],
   "source": [
    "# 문제풀이형 4.\n",
    "# (2)\n",
    "\n",
    "a = np.array([1,2,3,4,5])\n",
    "a[[1,3,4]] = 0\n",
    "a\n"
   ]
  },
  {
   "cell_type": "code",
   "execution_count": 113,
   "id": "6f5300da",
   "metadata": {
    "scrolled": true
   },
   "outputs": [
    {
     "data": {
      "text/plain": [
       "array([[ 1,  6],\n",
       "       [ 2,  7],\n",
       "       [ 3,  8],\n",
       "       [ 4,  9],\n",
       "       [ 5, 10]])"
      ]
     },
     "execution_count": 113,
     "metadata": {},
     "output_type": "execute_result"
    }
   ],
   "source": [
    "# 문제풀이형 5.\n",
    "# (2)\n",
    "\n",
    "a = np.array([1,2,3,4,5])\n",
    "b = np.array([6,7,8,9,10])\n",
    "\n",
    "# np.r_[a,b]\n",
    "np.c_[a,b]\n",
    "# np.ix_(a,b)\n",
    "#  [[a],[b]]"
   ]
  },
  {
   "cell_type": "code",
   "execution_count": 157,
   "id": "8d2ace5e",
   "metadata": {},
   "outputs": [
    {
     "data": {
      "text/plain": [
       "False"
      ]
     },
     "execution_count": 157,
     "metadata": {},
     "output_type": "execute_result"
    }
   ],
   "source": [
    "# 문제풀이\n",
    "# 문제풀이형5. (2)\n",
    "a = np.array([1,2,3,4,5])\n",
    "b = np.array([6,7,8,9,10])\n",
    "answer1 = np.c_[a,b]\n",
    "answer2 = np.column_stack( [a,b] )\n",
    "answer3 = np.hstack((a[:, np.newaxis], b[:, np.newaxis]))\n",
    "answer4 = np.stack([a,b], axis=1)\n",
    "answer5 = np.stack([a,b], axis=-1)\n",
    "answers = [answer1, answer2, answer3, answer4, answer5]\n",
    "all(np.all(answer == answer1) for answer in answers)\n",
    "same_all(*answers)"
   ]
  },
  {
   "cell_type": "code",
   "execution_count": null,
   "id": "17a96780",
   "metadata": {},
   "outputs": [],
   "source": []
  },
  {
   "cell_type": "code",
   "execution_count": null,
   "id": "cb205ca7",
   "metadata": {},
   "outputs": [],
   "source": []
  },
  {
   "cell_type": "code",
   "execution_count": null,
   "id": "39fbb84b",
   "metadata": {},
   "outputs": [],
   "source": []
  },
  {
   "cell_type": "code",
   "execution_count": null,
   "id": "5e8d3c0b",
   "metadata": {},
   "outputs": [],
   "source": []
  }
 ],
 "metadata": {
  "kernelspec": {
   "display_name": "Python 3 (ipykernel)",
   "language": "python",
   "name": "python3"
  },
  "language_info": {
   "codemirror_mode": {
    "name": "ipython",
    "version": 3
   },
   "file_extension": ".py",
   "mimetype": "text/x-python",
   "name": "python",
   "nbconvert_exporter": "python",
   "pygments_lexer": "ipython3",
   "version": "3.10.9"
  },
  "toc": {
   "base_numbering": 1,
   "nav_menu": {},
   "number_sections": false,
   "sideBar": true,
   "skip_h1_title": false,
   "title_cell": "Table of Contents",
   "title_sidebar": "Contents",
   "toc_cell": false,
   "toc_position": {
    "height": "calc(100% - 180px)",
    "left": "10px",
    "top": "150px",
    "width": "335px"
   },
   "toc_section_display": true,
   "toc_window_display": true
  }
 },
 "nbformat": 4,
 "nbformat_minor": 5
}
