{
 "cells": [
  {
   "cell_type": "code",
   "execution_count": 1,
   "id": "19b46141",
   "metadata": {},
   "outputs": [
    {
     "data": {
      "text/html": [
       "\n",
       "<style>\n",
       "div.container{width:86% !important;}\n",
       "div.cell.code_cell.rendered{width:100%;}\n",
       "div.CodeMirror {font-family:Consolas; font-size:10pt;}\n",
       "div.output {font-size:12pt; font-weight:bold;}\n",
       "div.input {font-family:Consolas; font-size:10pt;}\n",
       "div.prompt {min-width:70px;}\n",
       "div#toc-wrapper{padding-top:120px;}\n",
       "div.text_cell_render ul li{font-size:10pt;padding:5px;}\n",
       "table.dataframe{font-size:15px;\n",
       "</style>\n"
      ],
      "text/plain": [
       "<IPython.core.display.HTML object>"
      ]
     },
     "metadata": {},
     "output_type": "display_data"
    }
   ],
   "source": [
    "# 매 강의 시작시마다 동일하게 처리해야 함\n",
    "from IPython.display import display, HTML\n",
    "display(HTML(\"\"\"\n",
    "<style>\n",
    "div.container{width:86% !important;}\n",
    "div.cell.code_cell.rendered{width:100%;}\n",
    "div.CodeMirror {font-family:Consolas; font-size:10pt;}\n",
    "div.output {font-size:12pt; font-weight:bold;}\n",
    "div.input {font-family:Consolas; font-size:10pt;}\n",
    "div.prompt {min-width:70px;}\n",
    "div#toc-wrapper{padding-top:120px;}\n",
    "div.text_cell_render ul li{font-size:10pt;padding:5px;}\n",
    "table.dataframe{font-size:15px;\n",
    "</style>\n",
    "\"\"\"))"
   ]
  },
  {
   "cell_type": "markdown",
   "id": "fc9e47c3",
   "metadata": {},
   "source": [
    "<b><font size=\"5\" color=\"red\">ch07. 객체 지향 프로그래밍</font></b>\n",
    "# 1절 객체지향"
   ]
  },
  {
   "cell_type": "code",
   "execution_count": 10,
   "id": "70b2ef14",
   "metadata": {},
   "outputs": [
    {
     "name": "stdout",
     "output_type": "stream",
     "text": [
      "홍길동 남자 MBC\n",
      "홍낄숙 None MBC\n",
      "{'name': '홍낄숙', 'sender': '여자', 'accademy': 'MBC'}\n"
     ]
    }
   ],
   "source": [
    "person1 = {'name':'홍길동', 'gender':'남자','accademy':'MBC'}\n",
    "person2 = {'name':'홍길숙', 'sender':'여자','accademy':'MBC'}\n",
    "print(person1['name'], person1['gender'], person1['accademy'])\n",
    "person2['name'] = \"홍낄숙\"\n",
    "print(person2['name'], person2.get('gender'), person2['accademy'])      \n",
    "print(person2)"
   ]
  },
  {
   "cell_type": "code",
   "execution_count": 26,
   "id": "0a94114c",
   "metadata": {},
   "outputs": [],
   "source": [
    "class Person:\n",
    "    accademy = 'MBC' # 클래스 변수\n",
    "    def __init__(self, name, gender): # 생성자 함수\n",
    "        self.name = name # 객체 안의 변수(인스턴스 변수)\n",
    "        self.gender = gender \n",
    "    def print_info(self):\n",
    "        print(\"{}는 {}입니다. {}를 다닙니다.\".format(self.name,\n",
    "                                           self.gender,\n",
    "                                           self.accademy))\n",
    "    def __str__(self):\n",
    "        return \"{}는 {}입니다. {}를 다닙니다.\".format(self.name,\n",
    "                                           self.gender,\n",
    "                                           self.accademy)"
   ]
  },
  {
   "cell_type": "code",
   "execution_count": 28,
   "id": "07e8b36c",
   "metadata": {},
   "outputs": [
    {
     "name": "stdout",
     "output_type": "stream",
     "text": [
      "홍길동는 남자입니다. MBC를 다닙니다.\n",
      "홍길숙는 여자입니다. MBC를 다닙니다.\n",
      "마길동는 남자입니다. CBC를 다닙니다.\n",
      "홍길숙는 여자입니다. MBC를 다닙니다.\n"
     ]
    }
   ],
   "source": [
    "p1 = Person('홍길동','남자')\n",
    "p2 = Person('홍길숙','여자')\n",
    "p1.print_info()\n",
    "p2.print_info()\n",
    "p1.name = '마길동'\n",
    "p1.accademy = 'CBC'\n",
    "print(p1)\n",
    "print(p2)"
   ]
  },
  {
   "cell_type": "markdown",
   "id": "082f5c9b",
   "metadata": {},
   "source": [
    "# 1절. 객체와 클래스\n",
    "class 클래스명(상속받을 클래스명):\n",
    "    변수나 함수들 선언"
   ]
  },
  {
   "cell_type": "code",
   "execution_count": 30,
   "id": "f178592b",
   "metadata": {},
   "outputs": [
    {
     "name": "stdout",
     "output_type": "stream",
     "text": [
      "<__main__.Person object at 0x000002AA3BC51450>\n",
      "<class '__main__.Person'>\n"
     ]
    }
   ],
   "source": [
    "class Person:\n",
    "    '''\n",
    "    Person 클래스는 어쩌구 저쩌구 설명하는 독스트링\n",
    "    생성자 함수가 없을 경우, 디폴트 생성자 함수가 자동 생성\n",
    "    '''\n",
    "    pass\n",
    "p1 = Person()\n",
    "print(p1.__str__())\n",
    "print(type(p1))"
   ]
  },
  {
   "cell_type": "code",
   "execution_count": 31,
   "id": "172f836b",
   "metadata": {},
   "outputs": [
    {
     "data": {
      "text/plain": [
       "True"
      ]
     },
     "execution_count": 31,
     "metadata": {},
     "output_type": "execute_result"
    }
   ],
   "source": [
    "isinstance(p1, Person)"
   ]
  },
  {
   "cell_type": "code",
   "execution_count": 32,
   "id": "2d624de2",
   "metadata": {},
   "outputs": [
    {
     "data": {
      "text/plain": [
       "'\\n    Person 클래스는 어쩌구 저쩌구 설명하는 독스트링\\n    생성자 함수가 없을 경우, 디폴트 생성자 함수가 자동 생성\\n    '"
      ]
     },
     "execution_count": 32,
     "metadata": {},
     "output_type": "execute_result"
    }
   ],
   "source": [
    "p1.__doc__"
   ]
  },
  {
   "cell_type": "markdown",
   "id": "c9609dee",
   "metadata": {},
   "source": [
    "# 2절. 생성자와 소멸자\n",
    "'''\n",
    "생성자 : __init__(self, 매개변수, ...) - 객체가 생성될 때 자동 실행\n",
    "        객체 생성시 필요한 인스턴스 변수 초기화를 포함\n",
    "소멸자 : _del_(self) - 객체가 소멸될 때 자동 실행\n",
    "        인스턴스 객체의 레퍼런스 카운트가 0이 될 때 실행\n",
    "'''"
   ]
  },
  {
   "cell_type": "code",
   "execution_count": 16,
   "id": "48f4e62a",
   "metadata": {},
   "outputs": [],
   "source": [
    "class Person:\n",
    "    def __init__(self, name, gender='남자'): # 파이썬은 함수 오버로딩(함수 중복 정의) 지원 안됨\n",
    "        self.name = name # 인스턴스 변수\n",
    "        self.gender = gender\n",
    "        print('Person 객체 생성합니다.', name)\n",
    "    def __del__(self):\n",
    "        print('Person 객체를 소멸시킵니다.', self.name)\n",
    "    def print_info(self):\n",
    "        print(\"{}는 {}입니다.\".format(self.name, self.gender))\n",
    "    def __str__(self): # 오버라이딩(함수 재정의)\n",
    "        return f\"{self.name}는 {self.gender}입니다.\""
   ]
  },
  {
   "cell_type": "code",
   "execution_count": 10,
   "id": "6cfbc741",
   "metadata": {},
   "outputs": [
    {
     "name": "stdout",
     "output_type": "stream",
     "text": [
      "Person 객체 생성합니다. 신사임당\n"
     ]
    }
   ],
   "source": [
    "p1 = Person(\"신사임당\", \"여자\")"
   ]
  },
  {
   "cell_type": "code",
   "execution_count": 11,
   "id": "d2d4908d",
   "metadata": {},
   "outputs": [
    {
     "name": "stdout",
     "output_type": "stream",
     "text": [
      "Person 객체 생성합니다. 홍길동\n",
      "홍길동는 남자입니다.\n"
     ]
    }
   ],
   "source": [
    "p2 = Person(\"홍길동\")\n",
    "print(p2)"
   ]
  },
  {
   "cell_type": "code",
   "execution_count": 12,
   "id": "b16c225c",
   "metadata": {},
   "outputs": [
    {
     "name": "stdout",
     "output_type": "stream",
     "text": [
      "Person 객체를 소멸시킵니다. 홍길동\n"
     ]
    }
   ],
   "source": [
    "p3 = p2"
   ]
  },
  {
   "cell_type": "code",
   "execution_count": 13,
   "id": "1339a80d",
   "metadata": {},
   "outputs": [
    {
     "name": "stdout",
     "output_type": "stream",
     "text": [
      "Person 객체를 소멸시킵니다. 신사임당\n"
     ]
    }
   ],
   "source": [
    "del p1"
   ]
  },
  {
   "cell_type": "code",
   "execution_count": 14,
   "id": "a7ec0d1c",
   "metadata": {},
   "outputs": [],
   "source": [
    "del p2"
   ]
  },
  {
   "cell_type": "code",
   "execution_count": 15,
   "id": "6b4d562c",
   "metadata": {},
   "outputs": [
    {
     "name": "stdout",
     "output_type": "stream",
     "text": [
      "Person 객체를 소멸시킵니다. 홍길동\n"
     ]
    }
   ],
   "source": [
    "del p3"
   ]
  },
  {
   "cell_type": "markdown",
   "id": "c1f47703",
   "metadata": {},
   "source": [
    "# 3절. 변수와 메소드(함수)\n",
    "- 인스턴스 변수 vs 클래스 변수 \n",
    "- 인스턴스 메소드(self) vs 클래스메소드(clz) vs static 메소드()"
   ]
  },
  {
   "cell_type": "code",
   "execution_count": 19,
   "id": "5264b460",
   "metadata": {},
   "outputs": [
    {
     "name": "stdout",
     "output_type": "stream",
     "text": [
      "홍길동 남자\n"
     ]
    }
   ],
   "source": [
    "class Person:\n",
    "    name = \"홍길동\" # 클래스 변수\n",
    "    gender = \"남자\"\n",
    "print(Person.name, Person.gender)"
   ]
  },
  {
   "cell_type": "code",
   "execution_count": 22,
   "id": "f096ddea",
   "metadata": {},
   "outputs": [
    {
     "name": "stdout",
     "output_type": "stream",
     "text": [
      "홍길동 남자\n",
      "홍길동 남자\n",
      "홍길동 남자\n"
     ]
    }
   ],
   "source": [
    "p1 = Person()\n",
    "p2 = Person()\n",
    "print(Person.name, Person.gender)\n",
    "print(p2.name, p2.gender)\n",
    "print(p1.name, p2.gender)"
   ]
  },
  {
   "cell_type": "code",
   "execution_count": 26,
   "id": "5bd2d321",
   "metadata": {},
   "outputs": [
    {
     "name": "stdout",
     "output_type": "stream",
     "text": [
      "홍길동 남자\n",
      "홍길동 남자\n",
      "이순신 남자\n"
     ]
    }
   ],
   "source": [
    "p2.name = \"이순신\"\n",
    "print(Person.name, Person.gender)\n",
    "print(p1.name, p1.gender)\n",
    "print(p2.name, p2.gender)"
   ]
  },
  {
   "cell_type": "code",
   "execution_count": 28,
   "id": "5d5b3b44",
   "metadata": {},
   "outputs": [
    {
     "name": "stdout",
     "output_type": "stream",
     "text": [
      "리사 여자\n",
      "리사 여자\n",
      "이순신 여자\n"
     ]
    }
   ],
   "source": [
    "Person.name = \"리사\"\n",
    "Person.gender = \"여자\"\n",
    "print(Person.name, Person.gender)\n",
    "print(p1.name, p1.gender)\n",
    "print(p2.name, p2.gender)"
   ]
  },
  {
   "cell_type": "markdown",
   "id": "3db30717",
   "metadata": {},
   "source": [
    "※ 인스턴스 메소드(self) vs 클래스메소드(clz) vs static 메소드()\n",
    "- 인스턴스 메소드 : 첫번째 인자에 self를 꼭 명시. 객체를 통해서만 호출할 수 있는 메소드\n",
    "- 클래스(class) 메소드 : 메소드 위에 @classmethod를 선언한 메소드. 첫번째 인자에 cls(clz) 꼭 명시\n",
    "- 스태틱(static) 메소드 : 메소드 위에 @staticmethod를 선언한 메소드. 인지를 넣지 않음"
   ]
  },
  {
   "cell_type": "code",
   "execution_count": 38,
   "id": "7020c5cc",
   "metadata": {},
   "outputs": [],
   "source": [
    "class Person:\n",
    "    name = \"홍길동\"\n",
    "    gender = \"남자\"\n",
    "    def print_info(self) : # 객체변수명.print_info()로 호출\n",
    "        print(f\"인스턴스(일반)메소드 - {self.name}는 {self.gender}입니다.\")\n",
    "    def changer_info(self, name, gender=\"남자\"): # 객체변수.change_info(\"김\",\"여자\")\n",
    "        self.name = name\n",
    "        self.gender = gender\n",
    "        print(f\"인스턴스(일반)메소드 - {self.name}/{self.gender}로 변경 완료\")\n",
    "    @classmethod\n",
    "    def do_(clz) : # clz==Person. 클래스 변수를 이용한 로직. Person.do_() 호출\n",
    "        clz.name = \"신사임당\"\n",
    "        clz.gender = \"여자\"\n",
    "        print(f\"클래스 메소드 - {clz.name}/{clz.gender} 변경완료\")\n",
    "    @staticmethod\n",
    "    def that_(): # 클래스 변수를 이용하기 보다는 로직이 우선일 경우. Person.that_()\n",
    "        Person.name = \"신길동\"\n",
    "        Person.name = \"남자\"\n",
    "        print(f\"클래스 메소드 - {Person.name}/{Person.gender} 변경완료\")\n",
    "        "
   ]
  },
  {
   "cell_type": "code",
   "execution_count": 39,
   "id": "459a5d92",
   "metadata": {},
   "outputs": [
    {
     "name": "stdout",
     "output_type": "stream",
     "text": [
      "인스턴스(일반)메소드 - 홍길동는 남자입니다.\n"
     ]
    }
   ],
   "source": [
    "p1 = Person()\n",
    "p1.print_info()"
   ]
  },
  {
   "cell_type": "markdown",
   "id": "cda8d034",
   "metadata": {},
   "source": [
    "# 4절. 상속과 재정의"
   ]
  },
  {
   "cell_type": "code",
   "execution_count": null,
   "id": "a35e8f4c",
   "metadata": {},
   "outputs": [],
   "source": []
  },
  {
   "cell_type": "code",
   "execution_count": null,
   "id": "09899fb3",
   "metadata": {},
   "outputs": [],
   "source": []
  },
  {
   "cell_type": "code",
   "execution_count": null,
   "id": "825f088d",
   "metadata": {},
   "outputs": [],
   "source": []
  }
 ],
 "metadata": {
  "kernelspec": {
   "display_name": "Python 3 (ipykernel)",
   "language": "python",
   "name": "python3"
  },
  "language_info": {
   "codemirror_mode": {
    "name": "ipython",
    "version": 3
   },
   "file_extension": ".py",
   "mimetype": "text/x-python",
   "name": "python",
   "nbconvert_exporter": "python",
   "pygments_lexer": "ipython3",
   "version": "3.10.9"
  },
  "toc": {
   "base_numbering": 1,
   "nav_menu": {},
   "number_sections": false,
   "sideBar": true,
   "skip_h1_title": false,
   "title_cell": "Table of Contents",
   "title_sidebar": "Contents",
   "toc_cell": false,
   "toc_position": {
    "height": "calc(100% - 180px)",
    "left": "10px",
    "top": "150px",
    "width": "164.988px"
   },
   "toc_section_display": true,
   "toc_window_display": true
  }
 },
 "nbformat": 4,
 "nbformat_minor": 5
}
