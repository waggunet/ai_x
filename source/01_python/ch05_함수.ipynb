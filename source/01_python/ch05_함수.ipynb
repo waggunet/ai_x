{
 "cells": [
  {
   "cell_type": "code",
   "execution_count": 11,
   "id": "50d9c1e2",
   "metadata": {},
   "outputs": [
    {
     "data": {
      "text/html": [
       "\n",
       "<style>\n",
       "div.container{width:86% !important;}\n",
       "div.cell.code_cell.rendered{width:100%;}\n",
       "div.CodeMirror {font-family:Consolas; font-size:10pt;}\n",
       "div.output {font-size:12pt; font-weight:bold;}\n",
       "div.input {font-family:Consolas; font-size:10pt;}\n",
       "div.prompt {min-width:70px;}\n",
       "div#toc-wrapper{padding-top:120px;}\n",
       "div.text_cell_render ul li{font-size:10pt;padding:5px;}\n",
       "table.dataframe{font-size:15px;\n",
       "</style>\n"
      ],
      "text/plain": [
       "<IPython.core.display.HTML object>"
      ]
     },
     "metadata": {},
     "output_type": "display_data"
    }
   ],
   "source": [
    "# 매 강의 시작시마다 동일하게 처리해야 함\n",
    "from IPython.display import display, HTML\n",
    "display(HTML(\"\"\"\n",
    "<style>\n",
    "div.container{width:86% !important;}\n",
    "div.cell.code_cell.rendered{width:100%;}\n",
    "div.CodeMirror {font-family:Consolas; font-size:10pt;}\n",
    "div.output {font-size:12pt; font-weight:bold;}\n",
    "div.input {font-family:Consolas; font-size:10pt;}\n",
    "div.prompt {min-width:70px;}\n",
    "div#toc-wrapper{padding-top:120px;}\n",
    "div.text_cell_render ul li{font-size:10pt;padding:5px;}\n",
    "table.dataframe{font-size:15px;\n",
    "</style>\n",
    "\"\"\"))"
   ]
  },
  {
   "cell_type": "markdown",
   "id": "3c655908",
   "metadata": {},
   "source": [
    "<b><font size=\"5\" color=\"red\">ch05. 함수</font></b>\n",
    "- 사용하는 코드를 묶어 놓고 그것에 이름을 붙인 것\n",
    "- 오버로딩(함수 이름이 같고, 매개변수의 갯수로 다른 함수를 허용하는 것) 불가\n",
    "- 함수 정의\n",
    "```\n",
    "def 함수명([매개변수1, .. 매개변수n]):\n",
    "    명령어1\n",
    "    명령어2\n",
    "    명령어n\n",
    "\n",
    "```\n",
    "# 1절. 함수의 정의 및 사용\n",
    "## 1.1 함수 정의"
   ]
  },
  {
   "cell_type": "code",
   "execution_count": null,
   "id": "8e10dee5",
   "metadata": {},
   "outputs": [],
   "source": [
    "# 오버로딩의 예시, 그러나 파이썬에서는 불가능 위에 것이 사라짐\n",
    "def add(a, b): # 이 부분이 사라짐 in 파이썬\n",
    "    print(1)\n",
    "def add(a):\n",
    "    print(2)"
   ]
  },
  {
   "cell_type": "code",
   "execution_count": 3,
   "id": "9108c6b3",
   "metadata": {},
   "outputs": [],
   "source": [
    "# 함수를 정의 함\n",
    "def hello():\n",
    "    for i in range(5):\n",
    "        print('hello')"
   ]
  },
  {
   "cell_type": "code",
   "execution_count": 4,
   "id": "188bde5d",
   "metadata": {},
   "outputs": [
    {
     "name": "stdout",
     "output_type": "stream",
     "text": [
      "hello\n",
      "hello\n",
      "hello\n",
      "hello\n",
      "hello\n"
     ]
    }
   ],
   "source": [
    "# 함수 사용\n",
    "hello() # 매개 변수가 정의되지 않았으므로 매개변수 사용시 에러 발생"
   ]
  },
  {
   "cell_type": "code",
   "execution_count": 23,
   "id": "d6201b39",
   "metadata": {},
   "outputs": [],
   "source": [
    "def my_message(x, msg): # msg를 x번 출력하는 함수\n",
    "    for i in range(x):\n",
    "        print(msg)"
   ]
  },
  {
   "cell_type": "code",
   "execution_count": 13,
   "id": "d1f6f12b",
   "metadata": {},
   "outputs": [
    {
     "name": "stdout",
     "output_type": "stream",
     "text": [
      "hello\n",
      "hello\n",
      "hello\n",
      "hello\n",
      "hello\n"
     ]
    }
   ],
   "source": [
    "my_message(5, 'hello')"
   ]
  },
  {
   "cell_type": "code",
   "execution_count": 14,
   "id": "6d6ae713",
   "metadata": {},
   "outputs": [
    {
     "name": "stdout",
     "output_type": "stream",
     "text": [
      "hello\n",
      "hello\n",
      "hello\n",
      "hello\n",
      "hello\n",
      "hello\n"
     ]
    }
   ],
   "source": [
    "my_msg = my_message\n",
    "my_msg(6, 'hello')\n"
   ]
  },
  {
   "cell_type": "code",
   "execution_count": 15,
   "id": "4391f799",
   "metadata": {},
   "outputs": [
    {
     "data": {
      "text/plain": [
       "(function, function)"
      ]
     },
     "execution_count": 15,
     "metadata": {},
     "output_type": "execute_result"
    }
   ],
   "source": [
    "type(my_msg), type(my_message)"
   ]
  },
  {
   "cell_type": "code",
   "execution_count": 22,
   "id": "72e4ef9c",
   "metadata": {},
   "outputs": [
    {
     "name": "stdout",
     "output_type": "stream",
     "text": [
      "HELLO\n",
      "Hello\n"
     ]
    }
   ],
   "source": [
    "print('HELLO') # 파이썬 내장함수(import 하지 않고 사용할 수 있는 함수)\n",
    "print = 5\n",
    "# print('hello')\n",
    "del print\n",
    "print('Hello')"
   ]
  },
  {
   "cell_type": "code",
   "execution_count": 24,
   "id": "95ec79e5",
   "metadata": {},
   "outputs": [
    {
     "name": "stdout",
     "output_type": "stream",
     "text": [
      "hello\n",
      "hello\n"
     ]
    }
   ],
   "source": [
    "my_message(2, 'hello')"
   ]
  },
  {
   "cell_type": "code",
   "execution_count": 27,
   "id": "42711976",
   "metadata": {},
   "outputs": [],
   "source": [
    "my_message = 5"
   ]
  },
  {
   "cell_type": "code",
   "execution_count": 26,
   "id": "e6296a18",
   "metadata": {},
   "outputs": [],
   "source": [
    "def my_message(a, b):\n",
    "    pass"
   ]
  },
  {
   "cell_type": "code",
   "execution_count": 28,
   "id": "404c3ec0",
   "metadata": {},
   "outputs": [
    {
     "ename": "TypeError",
     "evalue": "'int' object is not callable",
     "output_type": "error",
     "traceback": [
      "\u001b[1;31m---------------------------------------------------------------------------\u001b[0m",
      "\u001b[1;31mTypeError\u001b[0m                                 Traceback (most recent call last)",
      "Cell \u001b[1;32mIn[28], line 1\u001b[0m\n\u001b[1;32m----> 1\u001b[0m \u001b[43mmy_message\u001b[49m\u001b[43m(\u001b[49m\u001b[38;5;241;43m2\u001b[39;49m\u001b[43m,\u001b[49m\u001b[43m \u001b[49m\u001b[38;5;124;43m'\u001b[39;49m\u001b[38;5;124;43mhello\u001b[39;49m\u001b[38;5;124;43m'\u001b[39;49m\u001b[43m)\u001b[49m\n",
      "\u001b[1;31mTypeError\u001b[0m: 'int' object is not callable"
     ]
    }
   ],
   "source": [
    "my_message(2, 'hello')"
   ]
  },
  {
   "cell_type": "code",
   "execution_count": 29,
   "id": "7d9a3fbc",
   "metadata": {},
   "outputs": [],
   "source": [
    "del my_message # 내장 함수를 제외하고는 변수를 삭제해도 함수 사용 불가(내장 함수가 아니므로)"
   ]
  },
  {
   "cell_type": "code",
   "execution_count": 30,
   "id": "ac61c53d",
   "metadata": {
    "scrolled": true
   },
   "outputs": [
    {
     "ename": "NameError",
     "evalue": "name 'my_message' is not defined",
     "output_type": "error",
     "traceback": [
      "\u001b[1;31m---------------------------------------------------------------------------\u001b[0m",
      "\u001b[1;31mNameError\u001b[0m                                 Traceback (most recent call last)",
      "Cell \u001b[1;32mIn[30], line 1\u001b[0m\n\u001b[1;32m----> 1\u001b[0m \u001b[43mmy_message\u001b[49m(\u001b[38;5;241m2\u001b[39m, \u001b[38;5;124m'\u001b[39m\u001b[38;5;124mhello\u001b[39m\u001b[38;5;124m'\u001b[39m)\n",
      "\u001b[1;31mNameError\u001b[0m: name 'my_message' is not defined"
     ]
    }
   ],
   "source": [
    "my_message(2, 'hello') "
   ]
  },
  {
   "cell_type": "code",
   "execution_count": 7,
   "id": "0175d77f",
   "metadata": {},
   "outputs": [],
   "source": [
    "# 함수 정의 : 4/16(수) 강의 이어서 진행\n",
    "def my_hello():\n",
    "    print('hello, Python')\n",
    "    print('hello, world')\n",
    "def my_hello(cnt):\n",
    "    print('hello, Python')\n",
    "    print('hello, world')"
   ]
  },
  {
   "cell_type": "code",
   "execution_count": 2,
   "id": "09616e83",
   "metadata": {},
   "outputs": [
    {
     "name": "stdout",
     "output_type": "stream",
     "text": [
      "hello, Python\n",
      "hello, world\n"
     ]
    }
   ],
   "source": [
    "# 함수사용=함수호출\n",
    "my_hello()"
   ]
  },
  {
   "cell_type": "code",
   "execution_count": 6,
   "id": "2eb18984",
   "metadata": {},
   "outputs": [
    {
     "name": "stdout",
     "output_type": "stream",
     "text": [
      "hello, Python\n",
      "hello, world\n"
     ]
    }
   ],
   "source": [
    "my_hello()"
   ]
  },
  {
   "cell_type": "code",
   "execution_count": null,
   "id": "2452d3d6",
   "metadata": {},
   "outputs": [],
   "source": [
    "def my_hello():\n",
    "    print('hello, Python')\n",
    "    print('hello, world')\n",
    "def my_hello(cnt):\n",
    "    print('hello, Python')\n",
    "    print('hello, world')"
   ]
  },
  {
   "cell_type": "code",
   "execution_count": 13,
   "id": "acb8966e",
   "metadata": {},
   "outputs": [
    {
     "name": "stdout",
     "output_type": "stream",
     "text": [
      "hello, Python\n",
      "hello, world\n"
     ]
    }
   ],
   "source": [
    "if __name__=='__main__':\n",
    "    my_hello(2)"
   ]
  },
  {
   "cell_type": "code",
   "execution_count": 20,
   "id": "5f9ce1aa",
   "metadata": {},
   "outputs": [],
   "source": [
    "import ch05 # ch-5모듈을 load"
   ]
  },
  {
   "cell_type": "code",
   "execution_count": 21,
   "id": "00ff71fe",
   "metadata": {},
   "outputs": [
    {
     "name": "stdout",
     "output_type": "stream",
     "text": [
      "Hello, Python\n",
      "Hello, World\n",
      "Hello, Python\n",
      "Hello, World\n"
     ]
    }
   ],
   "source": [
    "ch05.my_hello(2)"
   ]
  },
  {
   "cell_type": "code",
   "execution_count": 22,
   "id": "d13639cd",
   "metadata": {},
   "outputs": [],
   "source": [
    "from ch05 import my_hello # ch05 모듈 안의 my_hello 만 load"
   ]
  },
  {
   "cell_type": "code",
   "execution_count": 24,
   "id": "f052d4f1",
   "metadata": {},
   "outputs": [
    {
     "name": "stdout",
     "output_type": "stream",
     "text": [
      "Hello, Python\n",
      "Hello, World\n",
      "Hello, Python\n",
      "Hello, World\n",
      "Hello, Python\n",
      "Hello, World\n"
     ]
    }
   ],
   "source": [
    "my_hello(3)"
   ]
  },
  {
   "cell_type": "code",
   "execution_count": 25,
   "id": "2a055e7e",
   "metadata": {},
   "outputs": [
    {
     "name": "stdout",
     "output_type": "stream",
     "text": [
      "Hello, Python\n",
      "Hello, World\n",
      "Hello, Python\n",
      "Hello, World\n",
      "Hello, Python\n",
      "Hello, World\n",
      "Hello, Python\n",
      "Hello, World\n",
      "Hello, Python\n",
      "Hello, World\n"
     ]
    }
   ],
   "source": [
    "my_hello(5)"
   ]
  },
  {
   "cell_type": "markdown",
   "id": "3d539407",
   "metadata": {},
   "source": [
    "## 1.2 Docstring"
   ]
  },
  {
   "cell_type": "code",
   "execution_count": 33,
   "id": "df099de5",
   "metadata": {},
   "outputs": [],
   "source": [
    "def my_function():\n",
    "    '''\n",
    "    함수의 첫 라인에 독스트링을 포함할 수 있습니다\n",
    "    독스트링은 함수의 설명서를 달아주는 역할\n",
    "    주석보다 많은 기능(shift+tab으로 독스트링을 볼 수 있음)\n",
    "    '''\n",
    "    pass"
   ]
  },
  {
   "cell_type": "code",
   "execution_count": 35,
   "id": "bcb33daa",
   "metadata": {},
   "outputs": [
    {
     "name": "stdout",
     "output_type": "stream",
     "text": [
      "\n",
      "    함수의 첫 라인에 독스트링을 포함할 수 있습니다\n",
      "    독스트링은 함수의 설명서를 달아주는 역할\n",
      "    주석보다 많은 기능(shift+tab으로 독스트링을 볼 수 있음)\n",
      "    \n"
     ]
    }
   ],
   "source": [
    "print(my_function.__doc__)"
   ]
  },
  {
   "cell_type": "code",
   "execution_count": 40,
   "id": "9539d688",
   "metadata": {},
   "outputs": [],
   "source": [
    "def fibonacci(n):\n",
    "    a, b = 0, 1\n",
    "    while a < n:\n",
    "        print(a, end=' ')\n",
    "        a, b = b, a + b\n",
    "    print() # 개행"
   ]
  },
  {
   "cell_type": "code",
   "execution_count": 42,
   "id": "1856d44a",
   "metadata": {},
   "outputs": [
    {
     "name": "stdout",
     "output_type": "stream",
     "text": [
      "0 1 1 2 3 5 8 \n"
     ]
    }
   ],
   "source": [
    "fibonacci(10)"
   ]
  },
  {
   "cell_type": "code",
   "execution_count": 43,
   "id": "9ff176fb",
   "metadata": {},
   "outputs": [
    {
     "name": "stdout",
     "output_type": "stream",
     "text": [
      "0 1 1 2 3 5 8 13 21 34 \n",
      "None\n"
     ]
    }
   ],
   "source": [
    "print(fibonacci(49))"
   ]
  },
  {
   "cell_type": "code",
   "execution_count": 44,
   "id": "5a0484f4",
   "metadata": {},
   "outputs": [
    {
     "ename": "NameError",
     "evalue": "name 'a' is not defined",
     "output_type": "error",
     "traceback": [
      "\u001b[1;31m---------------------------------------------------------------------------\u001b[0m",
      "\u001b[1;31mNameError\u001b[0m                                 Traceback (most recent call last)",
      "Cell \u001b[1;32mIn[44], line 1\u001b[0m\n\u001b[1;32m----> 1\u001b[0m \u001b[43ma\u001b[49m, b\n",
      "\u001b[1;31mNameError\u001b[0m: name 'a' is not defined"
     ]
    }
   ],
   "source": [
    "a, b # 함수 안의 변수들은 실행 후 사라지므로 값의 전환이 불가능함"
   ]
  },
  {
   "cell_type": "markdown",
   "id": "6d1888f0",
   "metadata": {},
   "source": [
    "## 1.3 지역변수(local var)와 전역변수(global var)"
   ]
  },
  {
   "cell_type": "code",
   "execution_count": 49,
   "id": "8573be22",
   "metadata": {},
   "outputs": [
    {
     "name": "stdout",
     "output_type": "stream",
     "text": [
      "함수 안 :  100\n",
      "함수 밖 ; 100\n"
     ]
    }
   ],
   "source": [
    "global_var = 100 # 전역변수\n",
    "def func1():\n",
    "    print('함수 안 : ', global_var)\n",
    "func1()\n",
    "print('함수 밖 ;', global_var)"
   ]
  },
  {
   "cell_type": "code",
   "execution_count": 50,
   "id": "ab8df319",
   "metadata": {},
   "outputs": [
    {
     "name": "stdout",
     "output_type": "stream",
     "text": [
      "함수 안 : 200\n"
     ]
    },
    {
     "ename": "NameError",
     "evalue": "name 'local_var' is not defined",
     "output_type": "error",
     "traceback": [
      "\u001b[1;31m---------------------------------------------------------------------------\u001b[0m",
      "\u001b[1;31mNameError\u001b[0m                                 Traceback (most recent call last)",
      "Cell \u001b[1;32mIn[50], line 5\u001b[0m\n\u001b[0;32m      3\u001b[0m     \u001b[38;5;28mprint\u001b[39m(\u001b[38;5;124m'\u001b[39m\u001b[38;5;124m함수 안 :\u001b[39m\u001b[38;5;124m'\u001b[39m, local_var)\n\u001b[0;32m      4\u001b[0m func2()\n\u001b[1;32m----> 5\u001b[0m \u001b[38;5;28mprint\u001b[39m(\u001b[38;5;124m'\u001b[39m\u001b[38;5;124m함수 밖 :\u001b[39m\u001b[38;5;124m'\u001b[39m, \u001b[43mlocal_var\u001b[49m)\n",
      "\u001b[1;31mNameError\u001b[0m: name 'local_var' is not defined"
     ]
    }
   ],
   "source": [
    "def func2():\n",
    "    local_var = 200 # 지역변수\n",
    "    print('함수 안 :', local_var)\n",
    "func2()\n",
    "print('함수 밖 :', local_var)"
   ]
  },
  {
   "cell_type": "code",
   "execution_count": 55,
   "id": "d8643618",
   "metadata": {},
   "outputs": [
    {
     "name": "stdout",
     "output_type": "stream",
     "text": [
      "함수 안(지역변수 g_var) : 200\n",
      "함수 밖(전역변수 g_var) : 100\n"
     ]
    }
   ],
   "source": [
    "g_var = 100 # 전역변수\n",
    "\n",
    "def func3():\n",
    "    g_var = 200 # 지역변수 (변수 선언)\n",
    "    print('함수 안(지역변수 g_var) :', g_var)\n",
    "func3()\n",
    "print('함수 밖(전역변수 g_var) :', g_var)"
   ]
  },
  {
   "cell_type": "code",
   "execution_count": 58,
   "id": "268bf66c",
   "metadata": {},
   "outputs": [
    {
     "ename": "UnboundLocalError",
     "evalue": "local variable 'g_var' referenced before assignment",
     "output_type": "error",
     "traceback": [
      "\u001b[1;31m---------------------------------------------------------------------------\u001b[0m",
      "\u001b[1;31mUnboundLocalError\u001b[0m                         Traceback (most recent call last)",
      "Cell \u001b[1;32mIn[58], line 5\u001b[0m\n\u001b[0;32m      3\u001b[0m     \u001b[38;5;28mprint\u001b[39m(\u001b[38;5;124m'\u001b[39m\u001b[38;5;124m함수 안 g_var :\u001b[39m\u001b[38;5;124m'\u001b[39m, g_var)\n\u001b[0;32m      4\u001b[0m     g_var \u001b[38;5;241m=\u001b[39m \u001b[38;5;241m200\u001b[39m \u001b[38;5;66;03m# 지역변수\u001b[39;00m\n\u001b[1;32m----> 5\u001b[0m \u001b[43mfunc4\u001b[49m\u001b[43m(\u001b[49m\u001b[43m)\u001b[49m\n",
      "Cell \u001b[1;32mIn[58], line 3\u001b[0m, in \u001b[0;36mfunc4\u001b[1;34m()\u001b[0m\n\u001b[0;32m      2\u001b[0m \u001b[38;5;28;01mdef\u001b[39;00m \u001b[38;5;21mfunc4\u001b[39m():\n\u001b[1;32m----> 3\u001b[0m     \u001b[38;5;28mprint\u001b[39m(\u001b[38;5;124m'\u001b[39m\u001b[38;5;124m함수 안 g_var :\u001b[39m\u001b[38;5;124m'\u001b[39m, \u001b[43mg_var\u001b[49m)\n\u001b[0;32m      4\u001b[0m     g_var \u001b[38;5;241m=\u001b[39m \u001b[38;5;241m200\u001b[39m\n",
      "\u001b[1;31mUnboundLocalError\u001b[0m: local variable 'g_var' referenced before assignment"
     ]
    }
   ],
   "source": [
    "# 렉시컬 특성\n",
    "\n",
    "g_var = 100 # 전역변수\n",
    "def func4():\n",
    "    print('함수 안 g_var :', g_var)\n",
    "    g_var = 200 # 지역변수\n",
    "#func4()"
   ]
  },
  {
   "cell_type": "code",
   "execution_count": 66,
   "id": "6fdedc72",
   "metadata": {},
   "outputs": [
    {
     "name": "stdout",
     "output_type": "stream",
     "text": [
      "함수 안 g_var : 100\n"
     ]
    }
   ],
   "source": [
    "g_var = 100 # 전역변수\n",
    "def func4():\n",
    "    print('함수 안 g_var :', g_var)\n",
    "   # g_var = 200 # 지역변수\n",
    "func4()"
   ]
  },
  {
   "cell_type": "code",
   "execution_count": null,
   "id": "28311e8b",
   "metadata": {},
   "outputs": [],
   "source": [
    "# __name__ : 내장된 이름 테이블\n",
    "# 로컬심볼테이블을 우선 할당, 전역심볼 테이블, 내장된 이름 테이블"
   ]
  },
  {
   "cell_type": "code",
   "execution_count": 65,
   "id": "7db43b84",
   "metadata": {},
   "outputs": [
    {
     "name": "stdout",
     "output_type": "stream",
     "text": [
      "함수 안 g_var : 100\n",
      "함수 밖 g_var : 200\n"
     ]
    }
   ],
   "source": [
    "# 렉시컬 특성\n",
    "\n",
    "g_var = 100 # 전역변수\n",
    "def func4():\n",
    "    global g_var # func4 함수 내의 g_var는 전역변수를 쓴다.\n",
    "# g_var = 300 \n",
    "    print('함수 안 g_var :', g_var)\n",
    "    g_var = 200 # 전역변수\n",
    "func4()\n",
    "print('함수 밖 g_var :', g_var)"
   ]
  },
  {
   "cell_type": "markdown",
   "id": "72081bd8",
   "metadata": {},
   "source": [
    "## 1.4 값에 의한 호출\n",
    "- 함수의 매개변수(인수 또는 인자)로 전달되는 변수가 스칼라 변수(문자,숫자,논리형)일 때"
   ]
  },
  {
   "cell_type": "code",
   "execution_count": 67,
   "id": "e03b9855",
   "metadata": {},
   "outputs": [
    {
     "data": {
      "text/plain": [
       "2855330277168"
      ]
     },
     "execution_count": 67,
     "metadata": {},
     "output_type": "execute_result"
    }
   ],
   "source": [
    "foo = 'a' # 전역변수\n",
    "id(foo)"
   ]
  },
  {
   "cell_type": "code",
   "execution_count": 68,
   "id": "6777f700",
   "metadata": {},
   "outputs": [
    {
     "name": "stdout",
     "output_type": "stream",
     "text": [
      "Before : a\n",
      "After : aaa\n"
     ]
    }
   ],
   "source": [
    "def func1(f): # 매개변수는 f는 지역변수\n",
    "    print('Before :', f)\n",
    "    f = f * 3\n",
    "    print('After :', f)\n",
    "func1(foo)"
   ]
  },
  {
   "cell_type": "code",
   "execution_count": 90,
   "id": "dafd649f",
   "metadata": {
    "scrolled": false
   },
   "outputs": [
    {
     "name": "stdout",
     "output_type": "stream",
     "text": [
      "a\n"
     ]
    }
   ],
   "source": [
    "print(foo)"
   ]
  },
  {
   "cell_type": "code",
   "execution_count": 95,
   "id": "eb73c385",
   "metadata": {
    "scrolled": true
   },
   "outputs": [
    {
     "name": "stdout",
     "output_type": "stream",
     "text": [
      "Before : a  id(f) : 2855330277168\n",
      "After : aaa  id(f) : 2855441479984\n"
     ]
    }
   ],
   "source": [
    "def func1(f): # 매개변수는 f는 지역변수\n",
    "    print('Before :', f , ' id(f) :', id(f))\n",
    "    f = f * 3\n",
    "    print('After :', f, ' id(f) :', id(f))\n",
    "func1(foo)"
   ]
  },
  {
   "cell_type": "code",
   "execution_count": 93,
   "id": "1cbbda15",
   "metadata": {},
   "outputs": [
    {
     "data": {
      "text/plain": [
       "2855330277168"
      ]
     },
     "execution_count": 93,
     "metadata": {},
     "output_type": "execute_result"
    }
   ],
   "source": [
    "id(foo)"
   ]
  },
  {
   "cell_type": "markdown",
   "id": "a06d95a5",
   "metadata": {},
   "source": [
    "## 1.5 참조에 의한 호출\n",
    "- 함수의 매개변수로 전달되는 변수가 스칼라 변수가 아닌 리스트, 튜플, 셋, 딕셔너리, 객체일  경우"
   ]
  },
  {
   "cell_type": "code",
   "execution_count": 87,
   "id": "905fb977",
   "metadata": {},
   "outputs": [
    {
     "data": {
      "text/plain": [
       "2855439639360"
      ]
     },
     "execution_count": 87,
     "metadata": {},
     "output_type": "execute_result"
    }
   ],
   "source": [
    "L = [1, 2, 3] # 리스트 데이터\n",
    "id(L)"
   ]
  },
  {
   "cell_type": "code",
   "execution_count": 88,
   "id": "639a1e43",
   "metadata": {},
   "outputs": [
    {
     "name": "stdout",
     "output_type": "stream",
     "text": [
      "Before : [1, 2, 3]\n",
      "After : [1, 2, 3, 5]\n"
     ]
    }
   ],
   "source": [
    "def func2(f): # 매개변수는 지역변수\n",
    "    print('Before :', f)\n",
    "    f.append(5)\n",
    "    print('After :', f)\n",
    "func2(L)"
   ]
  },
  {
   "cell_type": "code",
   "execution_count": 89,
   "id": "c20b476c",
   "metadata": {},
   "outputs": [
    {
     "name": "stdout",
     "output_type": "stream",
     "text": [
      "L= [1, 2, 3, 5]\n"
     ]
    }
   ],
   "source": [
    "print('L=', L)"
   ]
  },
  {
   "cell_type": "code",
   "execution_count": 97,
   "id": "2f06ad15",
   "metadata": {},
   "outputs": [
    {
     "name": "stdout",
     "output_type": "stream",
     "text": [
      "Before : [1, 2, 3, 5, 5] 2855439639360\n",
      "After : [1, 2, 3, 5, 5, 4] 2855439639360\n"
     ]
    }
   ],
   "source": [
    "def func2(f): # 매개변수는 지역변수\n",
    "    print('Before :', f, id(f))\n",
    "    f.append(4)\n",
    "    print('After :', f, id(f))\n",
    "func2(L)"
   ]
  },
  {
   "cell_type": "code",
   "execution_count": 105,
   "id": "b1c02ff4",
   "metadata": {},
   "outputs": [
    {
     "name": "stdout",
     "output_type": "stream",
     "text": [
      "L= [1, 2, 3, 5, 5, 4] 2855439639360\n"
     ]
    }
   ],
   "source": [
    "print('L=', L, id(L))"
   ]
  },
  {
   "cell_type": "markdown",
   "id": "3c7236bc",
   "metadata": {},
   "source": [
    "# 2절. 함수의 실행결과를 반환하는 return"
   ]
  },
  {
   "cell_type": "code",
   "execution_count": 106,
   "id": "088a5175",
   "metadata": {},
   "outputs": [],
   "source": [
    "def add(x, y):\n",
    "    return x + y\n",
    "    # print() 수행하지 않음 return 이후 이므로 개무시 함"
   ]
  },
  {
   "cell_type": "code",
   "execution_count": 107,
   "id": "d37f5eb8",
   "metadata": {},
   "outputs": [
    {
     "data": {
      "text/plain": [
       "5"
      ]
     },
     "execution_count": 107,
     "metadata": {},
     "output_type": "execute_result"
    }
   ],
   "source": [
    "i = 2; j=3\n",
    "add(i, j)"
   ]
  },
  {
   "cell_type": "code",
   "execution_count": 108,
   "id": "a89ce20e",
   "metadata": {},
   "outputs": [],
   "source": [
    "def add():\n",
    "    return True"
   ]
  },
  {
   "cell_type": "code",
   "execution_count": 109,
   "id": "809b5a22",
   "metadata": {},
   "outputs": [
    {
     "data": {
      "text/plain": [
       "True"
      ]
     },
     "execution_count": 109,
     "metadata": {},
     "output_type": "execute_result"
    }
   ],
   "source": [
    "add()"
   ]
  },
  {
   "cell_type": "code",
   "execution_count": 110,
   "id": "d0d0377b",
   "metadata": {},
   "outputs": [],
   "source": [
    "def add(a):\n",
    "    pass"
   ]
  },
  {
   "cell_type": "code",
   "execution_count": 113,
   "id": "2c9d900d",
   "metadata": {},
   "outputs": [
    {
     "name": "stdout",
     "output_type": "stream",
     "text": [
      "None\n"
     ]
    }
   ],
   "source": [
    "print(add(10)) # 아무것도 없는 것은 none이라고 나옴"
   ]
  },
  {
   "cell_type": "code",
   "execution_count": 9,
   "id": "75818b4e",
   "metadata": {},
   "outputs": [],
   "source": [
    "def fibonacci_print(n):\n",
    "    '''\n",
    "    매개변수로 들오온 n값 미만의 피보나치 수열을 출력\n",
    "    ex. m=10이면 0 1 1 2 3 5 8 을 출력\n",
    "    '''\n",
    "    a, b = 0, 1\n",
    "    while a < n:\n",
    "        print(a, end=' ')\n",
    "        a, b = b, a + b\n",
    "    print() # 개행\n",
    "def fibonacci_return(n):\n",
    "    '''\n",
    "    매개변수로 들어온 n값 미만의 피보나치 수열을 리스트로 return\n",
    "    ex. n=10이면 [0 1 1 2 3 5 8]을 rerturn\n",
    "    '''\n",
    "    result = []\n",
    "    a, b = 0, 1\n",
    "    while a < n:\n",
    "        result.append(a)\n",
    "        a, b = b, a + b\n",
    "    return result\n",
    "    "
   ]
  },
  {
   "cell_type": "code",
   "execution_count": 7,
   "id": "d62d4c1b",
   "metadata": {},
   "outputs": [
    {
     "name": "stdout",
     "output_type": "stream",
     "text": [
      "0 1 1 2 3 5 8 13 21 34 55 89 \n",
      "None\n"
     ]
    }
   ],
   "source": [
    "x = fibonacci_print(100)\n",
    "print(x)"
   ]
  },
  {
   "cell_type": "code",
   "execution_count": 10,
   "id": "cd70308e",
   "metadata": {},
   "outputs": [
    {
     "name": "stdout",
     "output_type": "stream",
     "text": [
      "[0, 1, 1, 2, 3, 5, 8, 13, 21, 34, 55, 89]\n",
      "<class 'list'>\n"
     ]
    }
   ],
   "source": [
    "x = fibonacci_return(100)\n",
    "print(x)\n",
    "print(type(x))"
   ]
  },
  {
   "cell_type": "markdown",
   "id": "e1fe2908",
   "metadata": {},
   "source": [
    "## 여러개 값 return"
   ]
  },
  {
   "cell_type": "code",
   "execution_count": 15,
   "id": "081fc7f9",
   "metadata": {},
   "outputs": [],
   "source": [
    "def swap(a, b):\n",
    "    '매개변수의 순서를 바꿔서 return'\n",
    "    return b, a"
   ]
  },
  {
   "cell_type": "code",
   "execution_count": 17,
   "id": "16b66c82",
   "metadata": {},
   "outputs": [
    {
     "name": "stdout",
     "output_type": "stream",
     "text": [
      "함수 실행 전 x=5, y=10\n",
      "함수 실행 후 x=10, y=5\n"
     ]
    }
   ],
   "source": [
    "x, y = 5, 10\n",
    "print(f'함수 실행 전 x={x}, y={y}')\n",
    "x, y = swap(x, y) # 10, 5 로 변경, 결국 순서가 바뀜\n",
    "print(f'함수 실행 후 x={x}, y={y}')"
   ]
  },
  {
   "cell_type": "markdown",
   "id": "e7cb568f",
   "metadata": {},
   "source": [
    "# 3절. 함수의 매개변수 ★\n",
    "## 3.1 기본값을 갖는 매개변수"
   ]
  },
  {
   "cell_type": "code",
   "execution_count": 6,
   "id": "c143ebd7",
   "metadata": {},
   "outputs": [],
   "source": [
    "def make_url(ip, port=80):  # 순서인수 > 기본값을 갖는 매개변수\n",
    "    return \"http://{}:{}\".format(ip, port)"
   ]
  },
  {
   "cell_type": "code",
   "execution_count": 7,
   "id": "39a488b6",
   "metadata": {},
   "outputs": [
    {
     "name": "stdout",
     "output_type": "stream",
     "text": [
      "http://www.naver.com:80\n",
      "http://localhost:8090\n",
      "http://localhost:8090\n"
     ]
    }
   ],
   "source": [
    "print(make_url('www.naver.com'))\n",
    "print(make_url('localhost', 8090))\n",
    "print(make_url(port=8090, ip='localhost'))"
   ]
  },
  {
   "cell_type": "markdown",
   "id": "8bbf92e2",
   "metadata": {},
   "source": [
    "## 3.2 기본 변수를 갖는 매개변수\n",
    "- 기본변수가 스칼라 변수일 때\n",
    "- 기본변수가 리스트, 셋, 딕셔너리 등의 객체일 때"
   ]
  },
  {
   "cell_type": "code",
   "execution_count": 1,
   "id": "5f19bf32",
   "metadata": {},
   "outputs": [],
   "source": [
    "i = 5\n",
    "# 기본값을 갖는 변수가 스칼라 변수일 때 : arg의 기본값은 함수가 정의되는 시점의 값으로 셋팅됨\n",
    "def func2(arg=i):\n",
    "    print('arg = ', arg)"
   ]
  },
  {
   "cell_type": "code",
   "execution_count": 18,
   "id": "cf5b48ec",
   "metadata": {},
   "outputs": [
    {
     "name": "stdout",
     "output_type": "stream",
     "text": [
      "arg =  5\n"
     ]
    }
   ],
   "source": [
    "i = 50\n",
    "func2()"
   ]
  },
  {
   "cell_type": "code",
   "execution_count": 2,
   "id": "e8405480",
   "metadata": {},
   "outputs": [],
   "source": [
    "list_ = []\n",
    "# 기본값을 갖는 변수가 스칼라 변수일 때 : arg의 기본값은 호출되는 시점의 값\n",
    "def func3(data, L = list_):\n",
    "    'data를 L에 append'\n",
    "    L.append(data)\n",
    "    return L"
   ]
  },
  {
   "cell_type": "code",
   "execution_count": 3,
   "id": "550007ce",
   "metadata": {},
   "outputs": [
    {
     "name": "stdout",
     "output_type": "stream",
     "text": [
      "[10]\n"
     ]
    }
   ],
   "source": [
    "print(func3(10)) # list_가 수정 : [10]"
   ]
  },
  {
   "cell_type": "code",
   "execution_count": 4,
   "id": "e7ce02e7",
   "metadata": {},
   "outputs": [
    {
     "name": "stdout",
     "output_type": "stream",
     "text": [
      "[10, 20]\n"
     ]
    }
   ],
   "source": [
    "print(func3(20))"
   ]
  },
  {
   "cell_type": "code",
   "execution_count": 6,
   "id": "eca471a6",
   "metadata": {
    "scrolled": true
   },
   "outputs": [
    {
     "data": {
      "text/plain": [
       "[10, 20]"
      ]
     },
     "execution_count": 6,
     "metadata": {},
     "output_type": "execute_result"
    }
   ],
   "source": [
    "list_"
   ]
  },
  {
   "cell_type": "code",
   "execution_count": 7,
   "id": "f67ea056",
   "metadata": {},
   "outputs": [],
   "source": [
    "def func4(data, L = None):\n",
    "    if L==None:\n",
    "        L = []        \n",
    "    L.append(data)\n",
    "    return L"
   ]
  },
  {
   "cell_type": "code",
   "execution_count": 8,
   "id": "8cf2dd86",
   "metadata": {},
   "outputs": [
    {
     "name": "stdout",
     "output_type": "stream",
     "text": [
      "[10]\n",
      "[10, 20, 10]\n"
     ]
    }
   ],
   "source": [
    "print(func4(10))\n",
    "print(func4(10, list_))"
   ]
  },
  {
   "cell_type": "markdown",
   "id": "490e7986",
   "metadata": {},
   "source": [
    "## 3.3 튜플 매개변수를 이용한 가변인수 설정"
   ]
  },
  {
   "cell_type": "code",
   "execution_count": null,
   "id": "a3b50602",
   "metadata": {},
   "outputs": [],
   "source": [
    "# 파이썬은 오버로딩(함수의 중복)을 지원하지 않음\n",
    "\n",
    "def add(a, b):"
   ]
  },
  {
   "cell_type": "code",
   "execution_count": 17,
   "id": "08e5a37c",
   "metadata": {},
   "outputs": [],
   "source": [
    "# *args : 매개변수들을 하나의 튜플 변수 args로 전달받음 (* 만 붇이면 됨)\n",
    "\n",
    "def add(*args):\n",
    "    '전달받은 매개변수들의 합을 return'\n",
    "    # print('args = ', args)\n",
    "    result_tot = 0 # 누적변수\n",
    "    for data in args:\n",
    "        result_tot += data\n",
    "    return result_tot"
   ]
  },
  {
   "cell_type": "code",
   "execution_count": 22,
   "id": "5413aaa1",
   "metadata": {},
   "outputs": [
    {
     "name": "stdout",
     "output_type": "stream",
     "text": [
      "1\n",
      "3\n",
      "196\n"
     ]
    }
   ],
   "source": [
    "print(add(1))\n",
    "print(add(1,2))\n",
    "print(add(1, 3, 5, 6, 12, 15, 154))"
   ]
  },
  {
   "cell_type": "code",
   "execution_count": 27,
   "id": "2454af97",
   "metadata": {},
   "outputs": [
    {
     "data": {
      "text/plain": [
       "'Python/Oracle/DL/ML'"
      ]
     },
     "execution_count": 27,
     "metadata": {},
     "output_type": "execute_result"
    }
   ],
   "source": [
    "subject = ('Python', 'Oracle', 'DL', 'ML')\n",
    "'/'.join(subject)"
   ]
  },
  {
   "cell_type": "code",
   "execution_count": 29,
   "id": "dfb01268",
   "metadata": {},
   "outputs": [],
   "source": [
    "def concat(*subject, sep):\n",
    "    return sep.join(subject)"
   ]
  },
  {
   "cell_type": "code",
   "execution_count": 30,
   "id": "b59840d0",
   "metadata": {},
   "outputs": [
    {
     "ename": "SyntaxError",
     "evalue": "unterminated string literal (detected at line 1) (1001857835.py, line 1)",
     "output_type": "error",
     "traceback": [
      "\u001b[1;36m  Cell \u001b[1;32mIn[30], line 1\u001b[1;36m\u001b[0m\n\u001b[1;33m    concat('Python', 'Oracle', 'DL', 'ML', '\\')\u001b[0m\n\u001b[1;37m                                           ^\u001b[0m\n\u001b[1;31mSyntaxError\u001b[0m\u001b[1;31m:\u001b[0m unterminated string literal (detected at line 1)\n"
     ]
    }
   ],
   "source": [
    "concat('Python', 'Oracle', 'DL', 'ML', '/')"
   ]
  },
  {
   "cell_type": "code",
   "execution_count": 33,
   "id": "c3ca28b9",
   "metadata": {},
   "outputs": [
    {
     "data": {
      "text/plain": [
       "'Python / Oracle / DL / ML'"
      ]
     },
     "execution_count": 33,
     "metadata": {},
     "output_type": "execute_result"
    }
   ],
   "source": [
    "# 해결책1 : 매개변수 이름을 지정해서 호출\n",
    "concat('Python', 'Oracle', 'DL', 'ML', sep=' / ')"
   ]
  },
  {
   "cell_type": "code",
   "execution_count": 34,
   "id": "6e5e981a",
   "metadata": {},
   "outputs": [],
   "source": [
    "# 해결책2 : 기본값을 반드시 갖는 키워드 인수 사용\n",
    "def concat(*subject, sep='  '):\n",
    "    return sep.join(subject)"
   ]
  },
  {
   "cell_type": "code",
   "execution_count": 35,
   "id": "2a507f7f",
   "metadata": {},
   "outputs": [
    {
     "data": {
      "text/plain": [
       "'Python / Oracle / DL / ML'"
      ]
     },
     "execution_count": 35,
     "metadata": {},
     "output_type": "execute_result"
    }
   ],
   "source": [
    "concat('Python', 'Oracle', 'DL', 'ML', sep=' / ')"
   ]
  },
  {
   "cell_type": "code",
   "execution_count": 48,
   "id": "814f9239",
   "metadata": {},
   "outputs": [],
   "source": [
    "# 해결책3 : sep을 순서 인수로 앞에 선언\n",
    "def concat(sep, *subject):\n",
    "    return sep.join(subject)"
   ]
  },
  {
   "cell_type": "code",
   "execution_count": 49,
   "id": "2e768705",
   "metadata": {},
   "outputs": [
    {
     "data": {
      "text/plain": [
       "'OraclePythonDL'"
      ]
     },
     "execution_count": 49,
     "metadata": {},
     "output_type": "execute_result"
    }
   ],
   "source": [
    "concat('Python', 'Oracle', 'DL')"
   ]
  },
  {
   "cell_type": "markdown",
   "id": "1c19f2db",
   "metadata": {},
   "source": [
    "## 3.4 딕셔너리 매개변수\n",
    "- 여러 개의 키워드 인수를 딕셔너리 형태로 받아서 가변 키워드 인수로 처리"
   ]
  },
  {
   "cell_type": "code",
   "execution_count": 58,
   "id": "fa10374a",
   "metadata": {},
   "outputs": [],
   "source": [
    "def func5(**kwargs):\n",
    "#     print(kwargs)\n",
    "    print(type(kwargs))\n",
    "    print('이름 : ', kwargs.get('name', '대마왕'))\n",
    "    print('나이 : ', kwargs.get('age', 30))\n",
    "    print('주소 : ', kwargs.get('address', '서울'))"
   ]
  },
  {
   "cell_type": "code",
   "execution_count": 59,
   "id": "2bb5ad02",
   "metadata": {},
   "outputs": [
    {
     "name": "stdout",
     "output_type": "stream",
     "text": [
      "<class 'dict'>\n",
      "이름 :  홍길동\n",
      "나이 :  30\n",
      "주소 :  신림동\n"
     ]
    }
   ],
   "source": [
    "func5(name='홍길동', age = 30, address = '신림동')"
   ]
  },
  {
   "cell_type": "code",
   "execution_count": 60,
   "id": "cbb5f714",
   "metadata": {},
   "outputs": [
    {
     "name": "stdout",
     "output_type": "stream",
     "text": [
      "<class 'dict'>\n",
      "이름 :  김길동\n",
      "나이 :  30\n",
      "주소 :  서울\n"
     ]
    }
   ],
   "source": [
    "func5(name='김길동')"
   ]
  },
  {
   "cell_type": "markdown",
   "id": "be04b0e1",
   "metadata": {},
   "source": [
    "## 3.5 함수 정의시 매개변수 순서\n",
    "- 순서인수 > 튜플 매개변수(*) > 키워드 인수(<b>매개변수 이름 반드시 명시</b>) > 딕셔너리 매개변수(**)"
   ]
  },
  {
   "cell_type": "code",
   "execution_count": 61,
   "id": "15117af6",
   "metadata": {},
   "outputs": [],
   "source": [
    "def func6(a, b, *c, **d):\n",
    "    print('순서인수 :', a)\n",
    "    print('순서인수 :', b)\n",
    "    print('튜플인수 :', c)\n",
    "    print('딕셔너리 인수 :', d)"
   ]
  },
  {
   "cell_type": "code",
   "execution_count": 62,
   "id": "512305bb",
   "metadata": {},
   "outputs": [
    {
     "name": "stdout",
     "output_type": "stream",
     "text": [
      "순서인수 : 10\n",
      "순서인수 : 20\n",
      "튜플인수 : (1, 2, 3, 4, 5, 6, 7, 8, 9, 10)\n",
      "딕셔너리 인수 : {'name': '홍길동', 'age': 30, 'address': '서울'}\n"
     ]
    }
   ],
   "source": [
    "func6(10, 20, 1,2,3,4,5,6,7,8,9,10, name='홍길동', age=30, address='서울')"
   ]
  },
  {
   "cell_type": "code",
   "execution_count": 65,
   "id": "7c605fc6",
   "metadata": {},
   "outputs": [],
   "source": [
    "def func7(a, b, *c, d='기본값', **e):\n",
    "    print('순서인수 a :', a)\n",
    "    print('순서인수 b :', b)\n",
    "    print('튜플인수 c :', c)\n",
    "    print('키워드인수(기본값을 갖는 인수, 호출시 매개변수명 반드시 명시) d :', d)\n",
    "    print('딕셔너리인수 d :', e)"
   ]
  },
  {
   "cell_type": "code",
   "execution_count": 66,
   "id": "4a598b66",
   "metadata": {},
   "outputs": [
    {
     "name": "stdout",
     "output_type": "stream",
     "text": [
      "순서인수 a : 10\n",
      "순서인수 b : 20\n",
      "튜플인수 c : (1, 2, 3)\n",
      "키워드인수(기본값을 갖는 인수, 호출시 매개변수명 반드시 명시) d : 딴거\n",
      "딕셔너리인수 d : {'fontsize': 12, 'fontfamily': 'consola'}\n"
     ]
    }
   ],
   "source": [
    "func7(10, 20, 1, 2, 3, d='딴거', fontsize=12, fontfamily='consola')"
   ]
  },
  {
   "cell_type": "code",
   "execution_count": 67,
   "id": "d9af25cf",
   "metadata": {},
   "outputs": [
    {
     "name": "stdout",
     "output_type": "stream",
     "text": [
      "순서인수 a : 10\n",
      "순서인수 b : 20\n",
      "튜플인수 c : (1, 2, 3)\n",
      "키워드인수(기본값을 갖는 인수, 호출시 매개변수명 반드시 명시) d : 기본값\n",
      "딕셔너리인수 d : {'fontsize': 12, 'fontfamily': 'consola'}\n"
     ]
    }
   ],
   "source": [
    "func7(10, 20, 1, 2, 3, fontsize=12, fontfamily='consola')"
   ]
  },
  {
   "cell_type": "markdown",
   "id": "57c4c9f6",
   "metadata": {},
   "source": [
    "## 3.6 매개변수(인수)의 언패킹\n",
    "### 튜플인수 언패킹\n",
    "- 언패킹 : 함수 호출시 매개변수 앞에 * 붙임\n",
    "- 패킹 : 함수 정의시 매개변수 앞에 * 붙임(튜플매개변수)"
   ]
  },
  {
   "cell_type": "code",
   "execution_count": 74,
   "id": "096afa66",
   "metadata": {},
   "outputs": [],
   "source": [
    "def add(*args):\n",
    "    print(args)\n",
    "    tot = 0\n",
    "    for num in args:\n",
    "        tot += num\n",
    "    return tot"
   ]
  },
  {
   "cell_type": "code",
   "execution_count": 69,
   "id": "4ec3e54a",
   "metadata": {},
   "outputs": [
    {
     "data": {
      "text/plain": [
       "10"
      ]
     },
     "execution_count": 69,
     "metadata": {},
     "output_type": "execute_result"
    }
   ],
   "source": [
    "add(1,2,3,4)"
   ]
  },
  {
   "cell_type": "code",
   "execution_count": 85,
   "id": "2ba119b6",
   "metadata": {},
   "outputs": [
    {
     "name": "stdout",
     "output_type": "stream",
     "text": [
      "(1, 2, 3, 4)\n"
     ]
    },
    {
     "data": {
      "text/plain": [
       "10"
      ]
     },
     "execution_count": 85,
     "metadata": {},
     "output_type": "execute_result"
    }
   ],
   "source": [
    "numbers = [1, 2, 3, 4]\n",
    "add(*numbers) # 언패킹"
   ]
  },
  {
   "cell_type": "markdown",
   "id": "e3d9d020",
   "metadata": {},
   "source": [
    "### 딕셔너리 인수 언패킹\n",
    "- 딕셔너리 언패킹 : 함수 호출시 매개변수 앞에 ** 붙이면 딕셔너리를 언패킹\n",
    "- 딕셔너리 패킹 : 함수 정의시 매개변수 앞에 ** 붙이면 딕셔너리를 패킹"
   ]
  },
  {
   "cell_type": "code",
   "execution_count": 3,
   "id": "dd460dd3",
   "metadata": {},
   "outputs": [],
   "source": [
    "def func5(**data):\n",
    "    print(type(data))\n",
    "    for key, item in data.items():\n",
    "        print(f'{key}:{item}')"
   ]
  },
  {
   "cell_type": "code",
   "execution_count": 5,
   "id": "08974bcc",
   "metadata": {},
   "outputs": [
    {
     "ename": "SyntaxError",
     "evalue": "unterminated string literal (detected at line 1) (2787678281.py, line 1)",
     "output_type": "error",
     "traceback": [
      "\u001b[1;36m  Cell \u001b[1;32mIn[5], line 1\u001b[1;36m\u001b[0m\n\u001b[1;33m    func5(name='홍길동', age=30, 'address='신림')\u001b[0m\n\u001b[1;37m                                          ^\u001b[0m\n\u001b[1;31mSyntaxError\u001b[0m\u001b[1;31m:\u001b[0m unterminated string literal (detected at line 1)\n"
     ]
    }
   ],
   "source": [
    "func5(name='홍길동', age=30, 'address='신림')"
   ]
  },
  {
   "cell_type": "code",
   "execution_count": 3,
   "id": "49916f8f",
   "metadata": {},
   "outputs": [
    {
     "name": "stdout",
     "output_type": "stream",
     "text": [
      "<class 'dict'>\n",
      "custom:{'name': '홍길동', 'age': 10, 'address': '서울시 강남구', 'score': 900}\n"
     ]
    }
   ],
   "source": [
    "customInfo = {'name':'홍길동', 'age':10, 'address':'서울시 강남구', 'score':900}\n",
    "func5(custom=customInfo)"
   ]
  },
  {
   "cell_type": "code",
   "execution_count": 4,
   "id": "658ddb69",
   "metadata": {},
   "outputs": [
    {
     "name": "stdout",
     "output_type": "stream",
     "text": [
      "<class 'dict'>\n",
      "name:홍길동\n",
      "age:10\n",
      "address:서울시 강남구\n",
      "score:900\n"
     ]
    }
   ],
   "source": [
    "customInfo = {'name':'홍길동', 'age':10, 'address':'서울시 강남구', 'score':900}\n",
    "func5(**customInfo)"
   ]
  },
  {
   "cell_type": "markdown",
   "id": "3679fece",
   "metadata": {},
   "source": [
    "# 4절. 람다식\n",
    "- return 한 줄 짜리 작은 익명 함수\n",
    "## 4.1 람다식 연습"
   ]
  },
  {
   "cell_type": "code",
   "execution_count": 11,
   "id": "efd9109e",
   "metadata": {},
   "outputs": [
    {
     "data": {
      "text/plain": [
       "7"
      ]
     },
     "execution_count": 11,
     "metadata": {},
     "output_type": "execute_result"
    }
   ],
   "source": [
    "def add(a, b):\n",
    "    return a+b\n",
    "add(3, 4)"
   ]
  },
  {
   "cell_type": "code",
   "execution_count": 12,
   "id": "bde2b697",
   "metadata": {},
   "outputs": [
    {
     "data": {
      "text/plain": [
       "7"
      ]
     },
     "execution_count": 12,
     "metadata": {},
     "output_type": "execute_result"
    }
   ],
   "source": [
    "add2 = lambda a, b : a + b\n",
    "add2(3, 4)"
   ]
  },
  {
   "cell_type": "code",
   "execution_count": 14,
   "id": "f3f8007d",
   "metadata": {},
   "outputs": [
    {
     "data": {
      "text/plain": [
       "(function, function)"
      ]
     },
     "execution_count": 14,
     "metadata": {},
     "output_type": "execute_result"
    }
   ],
   "source": [
    "type(add), type(add2)\n"
   ]
  },
  {
   "cell_type": "code",
   "execution_count": 15,
   "id": "10327d35",
   "metadata": {},
   "outputs": [
    {
     "data": {
      "text/plain": [
       "7"
      ]
     },
     "execution_count": 15,
     "metadata": {},
     "output_type": "execute_result"
    }
   ],
   "source": [
    "(lambda a, b : a + b)(3, 4)"
   ]
  },
  {
   "cell_type": "code",
   "execution_count": 16,
   "id": "328c1e8d",
   "metadata": {},
   "outputs": [
    {
     "data": {
      "text/plain": [
       "('짝수', '홀수')"
      ]
     },
     "execution_count": 16,
     "metadata": {},
     "output_type": "execute_result"
    }
   ],
   "source": [
    "# ex1. 매개변수로 들어온 값이 짝수인지 홀수인지 return\n",
    "\n",
    "# def ex1(num):\n",
    "#     if num%2:\n",
    "#         result = \"홀수\"\n",
    "#     else:\n",
    "#         result = \"짝수\"\n",
    "#     return result\n",
    "\n",
    "def ex1(num):\n",
    "    return \"홀수\" if num%2 else \"짝수\"\n",
    "ex1 = lambda num : \"홀수\" if num%2 else \"짝수\"\n",
    "ex1(10), ex1(-9)"
   ]
  },
  {
   "cell_type": "code",
   "execution_count": 21,
   "id": "067e997d",
   "metadata": {},
   "outputs": [
    {
     "data": {
      "text/plain": [
       "(1, 12)"
      ]
     },
     "execution_count": 21,
     "metadata": {},
     "output_type": "execute_result"
    }
   ],
   "source": [
    "# ex2. 두 매개변수의 차이를 return(큰 수에서 작은 수를 빼면 됨)\n",
    "\n",
    "def diff(a, b):\n",
    "#     if a>b:\n",
    "#         result = a - b\n",
    "#     else:\n",
    "#         result = b - a\n",
    "    return a - b if a>b else b - a\n",
    "    return result\n",
    "diff(2,1), diff(9, 21)"
   ]
  },
  {
   "cell_type": "code",
   "execution_count": 26,
   "id": "86eb654e",
   "metadata": {},
   "outputs": [
    {
     "name": "stdout",
     "output_type": "stream",
     "text": [
      "1 10\n",
      "<class 'function'> <class 'function'>\n"
     ]
    }
   ],
   "source": [
    "ex2 = lambda a, b : a-b if a>b else b-a\n",
    "print(ex2(2,1), ex2(10,20))\n",
    "print(type(diff), type(ex2))"
   ]
  },
  {
   "cell_type": "code",
   "execution_count": 28,
   "id": "49fcd984",
   "metadata": {},
   "outputs": [
    {
     "data": {
      "text/plain": [
       "(1000, 'negative')"
      ]
     },
     "execution_count": 28,
     "metadata": {},
     "output_type": "execute_result"
    }
   ],
   "source": [
    "# ex3. 매개변수로 잔액을 받아 양수면 잔액을 return, 음수면 'negative'를 return\n",
    "ex3 = lambda money : money if money>=0 else 'negative'\n",
    "ex3(1000), ex3(-100)\n",
    "\n"
   ]
  },
  {
   "cell_type": "code",
   "execution_count": 31,
   "id": "2de9a98d",
   "metadata": {},
   "outputs": [
    {
     "name": "stdout",
     "output_type": "stream",
     "text": [
      "100 negative\n"
     ]
    }
   ],
   "source": [
    "print(ex3(100), ex3(-1003))"
   ]
  },
  {
   "cell_type": "code",
   "execution_count": 35,
   "id": "38a759e7",
   "metadata": {},
   "outputs": [
    {
     "data": {
      "text/plain": [
       "('유효하지 않음', 'A팀', '재시험', 'B팀', 'A팀')"
      ]
     },
     "execution_count": 35,
     "metadata": {},
     "output_type": "execute_result"
    }
   ],
   "source": [
    "# ex4. 점수를 입력받아 점수가 80점 이상은 A팀, 60점 이상은 B팀, 60점 미만은 재시험. \n",
    "# 그 외는 유효하지 않음\n",
    "ex4 = lambda score : \"A팀\" if 80<=score<=100 else \\\n",
    "                    \"B팀\" if 60<=score<80 else \\\n",
    "                    \"재시험\" if 0<=score<60 else \\\n",
    "                    \"유효하지 않음\"\n",
    "ex4(120), ex4(80), ex4(20), ex4(70), ex4(90)"
   ]
  },
  {
   "cell_type": "code",
   "execution_count": null,
   "id": "626ea2cb",
   "metadata": {},
   "outputs": [],
   "source": [
    "# ex5. safe_index를 람다식으로\n",
    "def safe_index(vector, data):\n",
    "    if data in vector: # list 안에 data가 있는지 여부\n",
    "        return lst.index(data)\n",
    "    else:\n",
    "        return -1    "
   ]
  },
  {
   "cell_type": "code",
   "execution_count": 36,
   "id": "eae28b16",
   "metadata": {},
   "outputs": [
    {
     "data": {
      "text/plain": [
       "(-1, 1)"
      ]
     },
     "execution_count": 36,
     "metadata": {},
     "output_type": "execute_result"
    }
   ],
   "source": [
    "ex5 = lambda vector, data : vector.index(data) if data in vector else -1\n",
    "tup = (1, 2, 3)\n",
    "ex5(tup, 4), ex5(tup, 2)"
   ]
  },
  {
   "cell_type": "markdown",
   "id": "f19086d2",
   "metadata": {},
   "source": [
    "## 4.2 함수의 매개변수에 람다식 이용\n",
    "### (1) map"
   ]
  },
  {
   "cell_type": "code",
   "execution_count": 8,
   "id": "b8a34af4",
   "metadata": {},
   "outputs": [],
   "source": [
    "def map_template(func, L=[]):\n",
    "    '''\n",
    "    L의 모든 요소를 func()함수를 적용시켜  return\n",
    "    [func(1) for 1 in L]\n",
    "    '''\n",
    "    result = []\n",
    "    for l in L:\n",
    "        result.append(func(l))\n",
    "    return result\n",
    "#     result = [func(1) for  l in L]\n"
   ]
  },
  {
   "cell_type": "code",
   "execution_count": 9,
   "id": "9ba4c668",
   "metadata": {},
   "outputs": [
    {
     "data": {
      "text/plain": [
       "[2, 4, 6, 8, 10, 12, 14, 16, 18]"
      ]
     },
     "execution_count": 9,
     "metadata": {},
     "output_type": "execute_result"
    }
   ],
   "source": [
    "# 리스트 데이터를 가공하는 방법 1. map_template\n",
    "\n",
    "list_data = [1,2,3,4,5,6,7,8,9]\n",
    "map_template(lambda x: x*2, list_data)\n",
    "# def x_2(x):\n",
    "#     return x *3\n",
    "# map_template(x_2, list_data)"
   ]
  },
  {
   "cell_type": "code",
   "execution_count": 11,
   "id": "02f291fb",
   "metadata": {},
   "outputs": [
    {
     "data": {
      "text/plain": [
       "[2, 4, 6, 8, 10, 12, 14, 16, 18]"
      ]
     },
     "execution_count": 11,
     "metadata": {},
     "output_type": "execute_result"
    }
   ],
   "source": [
    "# 리스트 데이터를 가공 방법 2. 리스트 컴프리헨션\n",
    "[l*2 for l in list_data]"
   ]
  },
  {
   "cell_type": "code",
   "execution_count": 13,
   "id": "09bcb2bc",
   "metadata": {},
   "outputs": [
    {
     "data": {
      "text/plain": [
       "[2, 4, 6, 8, 10, 12, 14, 16, 18]"
      ]
     },
     "execution_count": 13,
     "metadata": {},
     "output_type": "execute_result"
    }
   ],
   "source": [
    "# 리스트 데이터를 가공 방법 3. map() : 파이썬 내장함수\n",
    "list(map(lambda x: x*2, list_data))"
   ]
  },
  {
   "cell_type": "code",
   "execution_count": 16,
   "id": "3cca7d6e",
   "metadata": {},
   "outputs": [
    {
     "name": "stdout",
     "output_type": "stream",
     "text": [
      "2 4 6 8 10 12 14 16 18 "
     ]
    }
   ],
   "source": [
    "for item in map(lambda x: x*2, list_data):\n",
    "    print(item, end=' ')\n"
   ]
  },
  {
   "cell_type": "code",
   "execution_count": 3,
   "id": "a2a6629a",
   "metadata": {},
   "outputs": [],
   "source": [
    "\n",
    "'''\n",
    "예1. [5000, 800,1000,6000]로 바꾸시오.\n",
    "\n",
    "prices = ['5,000', '800', '1000', '6000']\n",
    "'''\n",
    "prices = ['5,000', '800', '1000', '6000']\n",
    "price_int = list(map(lambda price: int(price.replace(',','')), prices))\n"
   ]
  },
  {
   "cell_type": "code",
   "execution_count": 5,
   "id": "a040378a",
   "metadata": {},
   "outputs": [
    {
     "data": {
      "text/plain": [
       "(5000, 1800)"
      ]
     },
     "execution_count": 5,
     "metadata": {},
     "output_type": "execute_result"
    }
   ],
   "source": [
    "# 함수로 만들어서 하기\n",
    "def func(x):\n",
    "    return int(x.replace(',', ''))\n",
    "func(\"5,000\"), func(\"1800\")"
   ]
  },
  {
   "cell_type": "code",
   "execution_count": 4,
   "id": "91e0476f",
   "metadata": {},
   "outputs": [
    {
     "name": "stdout",
     "output_type": "stream",
     "text": [
      "[5000, 800, 1000, 6000]\n"
     ]
    }
   ],
   "source": [
    "print(price_int)"
   ]
  },
  {
   "cell_type": "code",
   "execution_count": 17,
   "id": "2055ba44",
   "metadata": {
    "scrolled": true
   },
   "outputs": [
    {
     "data": {
      "text/plain": [
       "'\\n예2. [5000, 800,1000,6000]로 바꾸시오.\\n'"
      ]
     },
     "execution_count": 17,
     "metadata": {},
     "output_type": "execute_result"
    }
   ],
   "source": [
    "'''\n",
    "\n",
    "예2. member1 = [{'name' : '홍길동', 'birth':'2000-01-01'},\n",
    "               {'name' : '신길동', 'birth':'1998-12-31'}, 를\n",
    "    member1 = [{'name' : '홍길동', 'year':'2000, 'month':1, 'day':1},\n",
    "               {'name' : '신길동', 'year':'1998, 'month':12, 'day':31},]를 바꿉니다.\n",
    "'''\n"
   ]
  },
  {
   "cell_type": "code",
   "execution_count": 56,
   "id": "8b463512",
   "metadata": {},
   "outputs": [],
   "source": [
    "# '2000-01-01' => {'year':1998, 'month':12, 'day':31}\n",
    "def split_date(date):\n",
    "    split_data = date.split('-')\n",
    "#     print(split_data[0], split_data[1], split_data[2])\n",
    "    return {'year': int(split_data[0]),\n",
    "           'month': int(split_data[1]),\n",
    "           'day'  : int(split_data[2])\n",
    "           }"
   ]
  },
  {
   "cell_type": "code",
   "execution_count": 57,
   "id": "7c8853fe",
   "metadata": {},
   "outputs": [
    {
     "data": {
      "text/plain": [
       "{'year': 2000, 'month': 1, 'day': 1}"
      ]
     },
     "execution_count": 57,
     "metadata": {},
     "output_type": "execute_result"
    }
   ],
   "source": [
    "split_date(\"2000-01-01\")"
   ]
  },
  {
   "cell_type": "code",
   "execution_count": 61,
   "id": "13f53f00",
   "metadata": {
    "scrolled": false
   },
   "outputs": [
    {
     "name": "stdout",
     "output_type": "stream",
     "text": [
      "[{'name': '홍길동', 'birth': '2000-01-01'}, {'name': '신길동', 'birth': '1998-12-31'}]\n",
      "[{'name': '홍길동', 'year': '2000', 'month': 1, 'day': 1}, {'name': '신길동', 'year': '1998', 'month': 12, 'day': 31}]\n"
     ]
    }
   ],
   "source": [
    "member1 = [{'name': '홍길동', 'birth': '2000-01-01'},\n",
    "           {'name': '신길동', 'birth': '1998-12-31'}]\n",
    "\n",
    "member1_transformed = list(map(lambda member: {\n",
    "    'name': member['name'],\n",
    "    'year': member['birth'].split('-')[0],\n",
    "    'month': int(member['birth'].split('-')[1]),\n",
    "    'day': int(member['birth'].split('-')[2])\n",
    "}, member1))\n",
    "\n",
    "print(member1)\n",
    "print(member1_transformed)"
   ]
  },
  {
   "cell_type": "code",
   "execution_count": 59,
   "id": "968ca489",
   "metadata": {},
   "outputs": [
    {
     "data": {
      "text/plain": [
       "{'year': 2000, 'month': 1, 'day': 1}"
      ]
     },
     "execution_count": 59,
     "metadata": {},
     "output_type": "execute_result"
    }
   ],
   "source": [
    "# 함수로 만들어서 하기\n",
    "# '2000-01-01' => {'ㅛㄷㅁㄱ':1998, 'ㅡㅐㅜ소':12, '[day':31}\n",
    "def split_data(date):\n",
    "    split_data = date.split('-')\n",
    "#     print(split_data[0], split_data[1], split_data[2])\n",
    "    return {'year': int(split_data[0]),\n",
    "           'month': int(split_data[1]),\n",
    "           'day': int(split_data[2])\n",
    "           }\n",
    "\n",
    "split_data(\"2000-01-01\")\n"
   ]
  },
  {
   "cell_type": "code",
   "execution_count": 62,
   "id": "162b6c9c",
   "metadata": {
    "scrolled": true
   },
   "outputs": [
    {
     "data": {
      "text/plain": [
       "{'name': '홍길동', 'year': 2000, 'month': 1, 'day': 1}"
      ]
     },
     "execution_count": 62,
     "metadata": {},
     "output_type": "execute_result"
    }
   ],
   "source": [
    "# 함수를 생성해서 처리하기\n",
    "\n",
    "def member_func(member): # {'name':'홍길동', 'birth':'2000-01-01'}\n",
    "    \"{'name':'신길동', 'year':1998, 'month':12, 'day':31}식으로 return\"\n",
    "    return {\n",
    "        'name':member.get('name'),\n",
    "        'year':int(member['birth'].split('-')[0]),\n",
    "        'month':int(member['birth'].split('-')[1]),\n",
    "        'day':int(member['birth'].split('-')[2]),\n",
    "    }\n",
    "member_func(member1[0])"
   ]
  },
  {
   "cell_type": "code",
   "execution_count": 5,
   "id": "6ceeaca9",
   "metadata": {},
   "outputs": [
    {
     "name": "stdout",
     "output_type": "stream",
     "text": [
      "[{'name': '홍길동', 'birth': '2000-01-01'}, {'name': '신길동', 'birth': '1998-12-31'}]\n",
      "[{'name': '홍길동', 'year': '2000', 'month': 1, 'day': 1}, {'name': '신길동', 'year': '1998', 'month': 12, 'day': 31}]\n"
     ]
    }
   ],
   "source": [
    "member1 = [{'name': '홍길동', 'birth': '2000-01-01'},\n",
    "           {'name': '신길동', 'birth': '1998-12-31'}]\n",
    "\n",
    "member1_transformed = list(map(lambda member: {\n",
    "    'name': member['name'],\n",
    "    'year': member['birth'].split('-')[0],\n",
    "    'month': int(member['birth'].split('-')[1]),\n",
    "    'day': int(member['birth'].split('-')[2])\n",
    "}, member1))\n",
    "\n",
    "print(member1)\n",
    "print(member1_transformed)"
   ]
  },
  {
   "cell_type": "code",
   "execution_count": 17,
   "id": "3b2655c6",
   "metadata": {
    "scrolled": false
   },
   "outputs": [
    {
     "data": {
      "text/plain": [
       "'\\n예3. member2를 member1로 바꿉니다.\\n'"
      ]
     },
     "execution_count": 17,
     "metadata": {},
     "output_type": "execute_result"
    }
   ],
   "source": [
    "'''\n",
    "예3. member2를 member1로 바꿉니다.\n",
    "'''\n",
    "\n"
   ]
  },
  {
   "cell_type": "code",
   "execution_count": 46,
   "id": "e44cc035",
   "metadata": {},
   "outputs": [],
   "source": [
    "# {year' : 2000, 'momth': 1, 'day': 1} => \"2000-01-01\"를 return하는 함수\n",
    "def join_date(data):\n",
    "#     print([data.get('year'), data.get('month'), data.get('day')])\n",
    "    year = str(data.get('year'))\n",
    "    month = str(data.get('month'))\n",
    "    if month < 10:\n",
    "        month = '0'+str(month)\n",
    "    else:\n",
    "        month = str(month)\n",
    "    if day < 10:\n",
    "        day = '0'+str(day)\n",
    "    else:\n",
    "        day = str(day)        \n",
    "    return '-'.join(['year', 'month', 'day'])"
   ]
  },
  {
   "cell_type": "code",
   "execution_count": 50,
   "id": "fa9e52ca",
   "metadata": {},
   "outputs": [],
   "source": [
    "def join_date(data):\n",
    "    print(\"{}-{:02}-{:02}\".format(data.get('year'),\n",
    "                                  data.get('month'), \n",
    "                                  data.get('day')))"
   ]
  },
  {
   "cell_type": "code",
   "execution_count": null,
   "id": "94161d01",
   "metadata": {},
   "outputs": [],
   "source": [
    "def join_date(data):\n",
    "    print(\"{year}-{month:02}-{day:02}\".format(\n",
    "                                  year = data.get('year'), \n",
    "                                  month=data.get('month'), \n",
    "                                  day=data.get('day')))"
   ]
  },
  {
   "cell_type": "code",
   "execution_count": null,
   "id": "3e833d0d",
   "metadata": {},
   "outputs": [],
   "source": [
    "def join_date(data):\n",
    "    return \"{year}-{month:02}-{day:02}\".format(**data)"
   ]
  },
  {
   "cell_type": "code",
   "execution_count": 51,
   "id": "845bd274",
   "metadata": {
    "scrolled": true
   },
   "outputs": [
    {
     "name": "stdout",
     "output_type": "stream",
     "text": [
      "2000-01-01\n"
     ]
    }
   ],
   "source": [
    "join_date({'year': 2000, 'month': 1, 'day': 1})"
   ]
  },
  {
   "cell_type": "code",
   "execution_count": null,
   "id": "e506d07f",
   "metadata": {},
   "outputs": [],
   "source": [
    "member2"
   ]
  },
  {
   "cell_type": "code",
   "execution_count": 3,
   "id": "2b6cc086",
   "metadata": {},
   "outputs": [
    {
     "data": {
      "text/plain": [
       "[{'name': '홍길동', 'year': 2000, 'month': 1, 'day': 1},\n",
       " {'name': '신길동', 'year': 1998, 'month': 12, 'day': 31}]"
      ]
     },
     "execution_count": 3,
     "metadata": {},
     "output_type": "execute_result"
    }
   ],
   "source": [
    "[{'name': '홍길동', 'year': 2000, 'month': 1, 'day': 1},\n",
    " {'name': '신길동', 'year': 1998, 'month': 12, 'day': 31}]"
   ]
  },
  {
   "cell_type": "code",
   "execution_count": 6,
   "id": "68a00244",
   "metadata": {},
   "outputs": [
    {
     "ename": "NameError",
     "evalue": "name 'member2' is not defined",
     "output_type": "error",
     "traceback": [
      "\u001b[1;31m---------------------------------------------------------------------------\u001b[0m",
      "\u001b[1;31mNameError\u001b[0m                                 Traceback (most recent call last)",
      "Cell \u001b[1;32mIn[6], line 7\u001b[0m\n\u001b[0;32m      1\u001b[0m \u001b[38;5;66;03m# {'name':'홍길동', 'year':2000, 'month':1, 'day':1}(member2)를 \u001b[39;00m\n\u001b[0;32m      2\u001b[0m \u001b[38;5;66;03m# {'name':'홍길동', 'birth':'2000-01-01'}으로 가공\u001b[39;00m\n\u001b[0;32m      3\u001b[0m \u001b[38;5;28mlist\u001b[39m(\u001b[38;5;28mmap\u001b[39m(\u001b[38;5;28;01mlambda\u001b[39;00m member : {\n\u001b[0;32m      4\u001b[0m                         \u001b[38;5;124m'\u001b[39m\u001b[38;5;124mname\u001b[39m\u001b[38;5;124m'\u001b[39m : member\u001b[38;5;241m.\u001b[39mget(\u001b[38;5;124m'\u001b[39m\u001b[38;5;124mname\u001b[39m\u001b[38;5;124m'\u001b[39m),\n\u001b[0;32m      5\u001b[0m                         \u001b[38;5;124m'\u001b[39m\u001b[38;5;124mbirth\u001b[39m\u001b[38;5;124m'\u001b[39m: \u001b[38;5;124m\"\u001b[39m\u001b[38;5;132;01m{year}\u001b[39;00m\u001b[38;5;124m-\u001b[39m\u001b[38;5;132;01m{month:02}\u001b[39;00m\u001b[38;5;124m-\u001b[39m\u001b[38;5;132;01m{day:02}\u001b[39;00m\u001b[38;5;124m\"\u001b[39m\u001b[38;5;241m.\u001b[39mformat(\u001b[38;5;241m*\u001b[39m\u001b[38;5;241m*\u001b[39mmember)\n\u001b[0;32m      6\u001b[0m                         },\n\u001b[1;32m----> 7\u001b[0m     \u001b[43mmember2\u001b[49m\n\u001b[0;32m      8\u001b[0m ))\n",
      "\u001b[1;31mNameError\u001b[0m: name 'member2' is not defined"
     ]
    }
   ],
   "source": [
    "# {'name':'홍길동', 'year':2000, 'month':1, 'day':1}(member2)를 \n",
    "# {'name':'홍길동', 'birth':'2000-01-01'}으로 가공\n",
    "list(map(lambda member : {\n",
    "                        'name' : member.get('name'),\n",
    "                        'birth': \"{year}-{month:02}-{day:02}\".format(**member)\n",
    "                        },\n",
    "    member2\n",
    "))"
   ]
  },
  {
   "cell_type": "code",
   "execution_count": 55,
   "id": "4d2397ac",
   "metadata": {
    "scrolled": true
   },
   "outputs": [
    {
     "name": "stdout",
     "output_type": "stream",
     "text": [
      "[{'이름': '홍길동', '생일': '2000-01-01'}, {'이름': '신길동', '생일': '1998-12-31'}]\n"
     ]
    }
   ],
   "source": [
    "# 애미나이 답변임\n",
    "# 선생인 것 참고해서 적용\n",
    "\n",
    "member2 = [{'이름': '홍길동', '생일': '2000-01-01'},\n",
    "           {'이름': '신길동', '생일': '1998-12-31'}]\n",
    "\n",
    "member1 = list(map(lambda member: {\n",
    "    '이름': member['이름'],\n",
    "    '생일': member['생일'].split('-')[0],\n",
    "    '월': int(member['생일'].split('-')[1]),\n",
    "    '일': int(member['생일'].split('-')[2])\n",
    "}, member2))\n",
    "\n",
    "print(member2)"
   ]
  },
  {
   "cell_type": "code",
   "execution_count": 7,
   "id": "16c11e12",
   "metadata": {},
   "outputs": [],
   "source": [
    "# GIT 선생님 강의 내용 업데이트 필요"
   ]
  },
  {
   "cell_type": "markdown",
   "id": "cc8a57a9",
   "metadata": {},
   "source": [
    "## (2) 필터\n",
    "- map : [1,2,3,4,5] => [2,4,6,8,10] (벡터의 모든 데이터를 가공)\n",
    "- filter : [1,2,3,4,5] => [2,4] (원하는 정보를 추출)\n",
    "* cf. 리스트 컴프리헨션"
   ]
  },
  {
   "cell_type": "code",
   "execution_count": 9,
   "id": "67417033",
   "metadata": {},
   "outputs": [],
   "source": [
    "def filter_template(func, L=[]):\n",
    "    result = []\n",
    "    for l in L:\n",
    "        if func(l):\n",
    "            result.append(l)\n",
    "    return result"
   ]
  },
  {
   "cell_type": "code",
   "execution_count": 10,
   "id": "b2bd28a5",
   "metadata": {},
   "outputs": [
    {
     "data": {
      "text/plain": [
       "(True, False)"
      ]
     },
     "execution_count": 10,
     "metadata": {},
     "output_type": "execute_result"
    }
   ],
   "source": [
    "def evenChk(value):\n",
    "    return value%2==0\n",
    "evenChk(10), evenChk(-9)"
   ]
  },
  {
   "cell_type": "code",
   "execution_count": 11,
   "id": "4de124f1",
   "metadata": {},
   "outputs": [
    {
     "data": {
      "text/plain": [
       "[2, 4]"
      ]
     },
     "execution_count": 11,
     "metadata": {},
     "output_type": "execute_result"
    }
   ],
   "source": [
    "list_data = [1, 2, 3, 4, 5]\n",
    "filter_template(lambda value : value%2==0 ,  list_data)"
   ]
  },
  {
   "cell_type": "code",
   "execution_count": 12,
   "id": "313bd7f8",
   "metadata": {},
   "outputs": [
    {
     "data": {
      "text/plain": [
       "[2, 4]"
      ]
     },
     "execution_count": 12,
     "metadata": {},
     "output_type": "execute_result"
    }
   ],
   "source": [
    "list(filter(lambda value : value%2==0, list_data))"
   ]
  },
  {
   "cell_type": "code",
   "execution_count": 13,
   "id": "4e642667",
   "metadata": {},
   "outputs": [
    {
     "data": {
      "text/plain": [
       "[2, 4]"
      ]
     },
     "execution_count": 13,
     "metadata": {},
     "output_type": "execute_result"
    }
   ],
   "source": [
    "[data for data in list_data if data%2==0]"
   ]
  },
  {
   "cell_type": "markdown",
   "id": "77482e33",
   "metadata": {},
   "source": [
    "## (3) sort"
   ]
  },
  {
   "cell_type": "code",
   "execution_count": 17,
   "id": "1c8d2c73",
   "metadata": {},
   "outputs": [
    {
     "data": {
      "text/plain": [
       "[9, 7, 2]"
      ]
     },
     "execution_count": 17,
     "metadata": {},
     "output_type": "execute_result"
    }
   ],
   "source": [
    "p = [9, 2, 7]\n",
    "p.sort(reverse=True)\n",
    "p"
   ]
  },
  {
   "cell_type": "code",
   "execution_count": 20,
   "id": "2592a5f7",
   "metadata": {},
   "outputs": [
    {
     "data": {
      "text/plain": [
       "[(1, 'one'), (2, 'two'), (3, 'three'), (4, 'four')]"
      ]
     },
     "execution_count": 20,
     "metadata": {},
     "output_type": "execute_result"
    }
   ],
   "source": [
    "# 무조건 0번째 itme 기준으로 정렬\n",
    "\n",
    "pairs = [(2, 'two'), (1, 'one'),(4, 'four'), (3, 'three')]\n",
    "pairs.sort()\n",
    "pairs"
   ]
  },
  {
   "cell_type": "code",
   "execution_count": 21,
   "id": "e2facffc",
   "metadata": {},
   "outputs": [
    {
     "data": {
      "text/plain": [
       "[(4, 'four'), (1, 'one'), (3, 'three'), (2, 'two')]"
      ]
     },
     "execution_count": 21,
     "metadata": {},
     "output_type": "execute_result"
    }
   ],
   "source": [
    "# 1번째 item 기준으로 정렬(abc순)\n",
    "pairs.sort(key=lambda pair : pair[1])\n",
    "pairs\n"
   ]
  },
  {
   "cell_type": "code",
   "execution_count": 15,
   "id": "8a9ca7b8",
   "metadata": {},
   "outputs": [
    {
     "data": {
      "text/plain": [
       "[[10, 1], [9, 9, 9, 9, 9, 9], [1, 100]]"
      ]
     },
     "execution_count": 15,
     "metadata": {},
     "output_type": "execute_result"
    }
   ],
   "source": [
    "# 무조건 0번 item기준으로 정렬\n",
    "number2d = [[9, 9, 9, 9, 9, 9],\n",
    "            [1, 100],\n",
    "            [10, 1]]\n",
    "number2d.sort(reverse=True) # 기본(reverse=False):오름차순정렬/reverse=True:내림차순정렬\n",
    "number2d"
   ]
  },
  {
   "cell_type": "code",
   "execution_count": 25,
   "id": "82c0b0d4",
   "metadata": {},
   "outputs": [
    {
     "data": {
      "text/plain": [
       "6"
      ]
     },
     "execution_count": 25,
     "metadata": {},
     "output_type": "execute_result"
    }
   ],
   "source": [
    "# 리스트를 매개변수로 받아 합을 return\n",
    "(lambda item : sum(item))([1,2,3])"
   ]
  },
  {
   "cell_type": "code",
   "execution_count": 28,
   "id": "8dc31752",
   "metadata": {},
   "outputs": [
    {
     "data": {
      "text/plain": [
       "[[1, 100], [9, 9, 9, 9, 9, 9], [10, 1]]"
      ]
     },
     "execution_count": 28,
     "metadata": {},
     "output_type": "execute_result"
    }
   ],
   "source": [
    "# 합이 큰 순으로 정렬\n",
    "number2d.sort(key = lambda item : sum(item), reverse=True)\n",
    "number2d"
   ]
  },
  {
   "cell_type": "code",
   "execution_count": 1,
   "id": "41e0c1d7",
   "metadata": {},
   "outputs": [],
   "source": [
    "students = [\n",
    "    {'name' : '홍길동', 'score' : 90},\n",
    "    {'name' : '김길동', 'score' : 50},\n",
    "    {'name' : '윤길동', 'score' : 99},\n",
    "    {'score' : 100}\n",
    "]"
   ]
  },
  {
   "cell_type": "code",
   "execution_count": 36,
   "id": "23facfee",
   "metadata": {},
   "outputs": [
    {
     "name": "stdout",
     "output_type": "stream",
     "text": [
      "[{'name': '김길동', 'score': 50}, {'name': '윤길동', 'score': 99}, {'name': '홍길동', 'score': 90}]\n"
     ]
    }
   ],
   "source": [
    "# 이름순으로 정렬(ㄱ ㄴ ㄷ 순) by 애미나이\n",
    "\n",
    "sorted_students_by_name_lambda = sorted(students, key=lambda student: student['name'][0] if 'name' in student else chr(sys.maxunicode))\n",
    "print(sorted_students_by_first_name)"
   ]
  },
  {
   "cell_type": "code",
   "execution_count": 2,
   "id": "1f8bf459",
   "metadata": {},
   "outputs": [
    {
     "data": {
      "text/plain": [
       "[{'name': '김길동', 'score': 50},\n",
       " {'name': '윤길동', 'score': 99},\n",
       " {'name': '홍길동', 'score': 90},\n",
       " {'score': 100}]"
      ]
     },
     "execution_count": 2,
     "metadata": {},
     "output_type": "execute_result"
    }
   ],
   "source": [
    "# 이름순으로 정렬(ㄱ ㄴ ㄷ 순) by 선생님\n",
    "\n",
    "students.sort(key = lambda item : item.get('name','힝'))\n",
    "students\n"
   ]
  },
  {
   "cell_type": "code",
   "execution_count": 3,
   "id": "9a080c52",
   "metadata": {},
   "outputs": [
    {
     "data": {
      "text/plain": [
       "[{'score': 100},\n",
       " {'name': '윤길동', 'score': 99},\n",
       " {'name': '홍길동', 'score': 90},\n",
       " {'name': '김길동', 'score': 50}]"
      ]
     },
     "execution_count": 3,
     "metadata": {},
     "output_type": "execute_result"
    }
   ],
   "source": [
    "# sore 순으로 정렬(내림차순 정렬)\n",
    "students.sort(key = lambda item : item.get('score', 0), reverse=True)\n",
    "students\n"
   ]
  },
  {
   "cell_type": "code",
   "execution_count": 5,
   "id": "c7b17e87",
   "metadata": {},
   "outputs": [],
   "source": [
    "# 책 제목순 정렬(ㄱㄴㄷ순), 저자순 정렬(ㄱㄴㄷ순), 가격순 오름차순 정렬\n",
    "books =[\n",
    "    {'no':1, 'title':'강남 아파트 인사이트', 'writer':'오스틀', 'price':'25,200'},\n",
    "    {'no':2, 'title':'단 한 번의 삶', 'writer':'김영하', 'price':'18,100'},\n",
    "    {'no':3, 'title':'흔한남매 19', 'writer':'백난도', 'price':'14,220'},\n",
    "    {'no':4, 'title':'가격이잘못', 'writer':'홍길동', 'price':'-'},\n",
    "    {'no':5, 'title':'가격이숫자', 'writer':'신길동', 'price':900},\n",
    "    {'no':6, 'title':'가격이없음', 'writer':'김길동'},\n",
    "]"
   ]
  },
  {
   "cell_type": "code",
   "execution_count": 6,
   "id": "471ae181",
   "metadata": {},
   "outputs": [
    {
     "data": {
      "text/plain": [
       "[{'no': 5, 'title': '가격이숫자', 'writer': '신길동', 'price': 900},\n",
       " {'no': 6, 'title': '가격이없음', 'writer': '김길동'},\n",
       " {'no': 4, 'title': '가격이잘못', 'writer': '홍길동', 'price': '-'},\n",
       " {'no': 1, 'title': '강남 아파트 인사이트', 'writer': '오스틀', 'price': '25,200'},\n",
       " {'no': 2, 'title': '단 한 번의 삶', 'writer': '김영하', 'price': '18,100'},\n",
       " {'no': 3, 'title': '흔한남매 19', 'writer': '백난도', 'price': '14,220'}]"
      ]
     },
     "execution_count": 6,
     "metadata": {},
     "output_type": "execute_result"
    }
   ],
   "source": [
    "books.sort(key = lambda book : book.get('title'))\n",
    "books\n"
   ]
  },
  {
   "cell_type": "code",
   "execution_count": 19,
   "id": "e18ca166",
   "metadata": {},
   "outputs": [
    {
     "data": {
      "text/plain": [
       "[{'no': 6, 'title': '가격이없음', 'writer': '김길동'},\n",
       " {'no': 2, 'title': '단 한 번의 삶', 'writer': '김영하', 'price': '18,100'},\n",
       " {'no': 3, 'title': '흔한남매 19', 'writer': '백난도', 'price': '14,220'},\n",
       " {'no': 5, 'title': '가격이숫자', 'writer': '신길동', 'price': 900},\n",
       " {'no': 1, 'title': '강남 아파트 인사이트', 'writer': '오스틀', 'price': '25,200'},\n",
       " {'no': 4, 'title': '가격이잘못', 'writer': '홍길동', 'price': '-'}]"
      ]
     },
     "execution_count": 19,
     "metadata": {},
     "output_type": "execute_result"
    }
   ],
   "source": [
    "books.sort(key = lambda book : book.get('writer'))\n",
    "books"
   ]
  },
  {
   "cell_type": "code",
   "execution_count": 20,
   "id": "15156ae7",
   "metadata": {},
   "outputs": [
    {
     "ename": "TypeError",
     "evalue": "'<' not supported between instances of 'str' and 'int'",
     "output_type": "error",
     "traceback": [
      "\u001b[1;31m---------------------------------------------------------------------------\u001b[0m",
      "\u001b[1;31mTypeError\u001b[0m                                 Traceback (most recent call last)",
      "Cell \u001b[1;32mIn[20], line 1\u001b[0m\n\u001b[1;32m----> 1\u001b[0m \u001b[43mbooks\u001b[49m\u001b[38;5;241;43m.\u001b[39;49m\u001b[43msort\u001b[49m\u001b[43m(\u001b[49m\u001b[43mkey\u001b[49m\u001b[43m \u001b[49m\u001b[38;5;241;43m=\u001b[39;49m\u001b[43m \u001b[49m\u001b[38;5;28;43;01mlambda\u001b[39;49;00m\u001b[43m \u001b[49m\u001b[43mbook\u001b[49m\u001b[43m \u001b[49m\u001b[43m:\u001b[49m\u001b[43m \u001b[49m\u001b[43mbook\u001b[49m\u001b[38;5;241;43m.\u001b[39;49m\u001b[43mget\u001b[49m\u001b[43m(\u001b[49m\u001b[38;5;124;43m'\u001b[39;49m\u001b[38;5;124;43mprice\u001b[39;49m\u001b[38;5;124;43m'\u001b[39;49m\u001b[43m,\u001b[49m\u001b[43m \u001b[49m\u001b[38;5;241;43m0\u001b[39;49m\u001b[43m)\u001b[49m\u001b[43m)\u001b[49m\n\u001b[0;32m      2\u001b[0m books\n",
      "\u001b[1;31mTypeError\u001b[0m: '<' not supported between instances of 'str' and 'int'"
     ]
    }
   ],
   "source": [
    "\n",
    "books.sort(key = lambda book : book.get('price', 0))\n",
    "books"
   ]
  },
  {
   "cell_type": "code",
   "execution_count": 21,
   "id": "39fecc7d",
   "metadata": {},
   "outputs": [],
   "source": [
    "# '14,000' -> 14000 / \"2000\" -> 2000 / 800 -> 800 / '-' -> 0\n",
    "def parse_int(price):\n",
    "    #print(type(price))\n",
    "    if isinstance(price, str) and price.replace(',','').isdigit():\n",
    "        return int(price.replace(',', ''))\n",
    "    elif isinstance(price, int):\n",
    "        return price\n",
    "    else:\n",
    "        return 0"
   ]
  },
  {
   "cell_type": "code",
   "execution_count": 22,
   "id": "f52f58de",
   "metadata": {},
   "outputs": [
    {
     "data": {
      "text/plain": [
       "(8000, 8000, 800, 0)"
      ]
     },
     "execution_count": 22,
     "metadata": {},
     "output_type": "execute_result"
    }
   ],
   "source": [
    "parse_int(\"8,000\"), parse_int(\"8000\"), parse_int(800), parse_int('-')"
   ]
  },
  {
   "cell_type": "code",
   "execution_count": 23,
   "id": "07e63cbe",
   "metadata": {},
   "outputs": [
    {
     "data": {
      "text/plain": [
       "(0, 900, 14220, 0)"
      ]
     },
     "execution_count": 23,
     "metadata": {},
     "output_type": "execute_result"
    }
   ],
   "source": [
    "# {'no': 6, 'title': '가격이없음', 'writer': '김길동'} = > 0 return\n",
    "# {'no': 3, 'title': '흔한남매 19', 'writer': '백난도', 'price': '14,220'} => 14220\n",
    "# {'no': 5, 'title': '가격이숫자', 'writer': '신길동', 'price': 900} => 900\n",
    "def parse_int(book):\n",
    "    if isinstance(book.get('price'), str) and \\\n",
    "            book.get('price').replace(',','').isdigit():\n",
    "        return int( book.get('price').replace(',','') )\n",
    "    elif isinstance(book.get('price'), int):\n",
    "        return book.get('price')\n",
    "    else:\n",
    "        return 0\n",
    "parse_int(books[0]), parse_int(books[3]), parse_int(books[2]),  parse_int(books[5])"
   ]
  },
  {
   "cell_type": "code",
   "execution_count": 24,
   "id": "c7a8e422",
   "metadata": {},
   "outputs": [],
   "source": [
    "books =[\n",
    "    {'no':1, 'title':'강남 아파트 인사이트', 'writer':'오스틀', 'price':'25,200'},\n",
    "    {'no':2, 'title':'단 한 번의 삶', 'writer':'김영하', 'price':'18,100'},\n",
    "    {'no':3, 'title':'흔한남매 19', 'writer':'백난도', 'price':'14220'},\n",
    "    {'no':4, 'title':'가격이잘못', 'writer':'홍길동', 'price':'-'},\n",
    "    {'no':5, 'title':'가격이숫자', 'writer':'신길동', 'price':900},\n",
    "    {'no':6, 'title':'가격이없음', 'writer':'김길동'},\n",
    "]\n",
    "copy_books = books.copy() # 깊은 복사"
   ]
  },
  {
   "cell_type": "code",
   "execution_count": 27,
   "id": "7c184ce9",
   "metadata": {},
   "outputs": [],
   "source": [
    "copy_books.sort(key = lambda book : \n",
    "                int(book.get('price').replace(',','')) \\\n",
    "                    if isinstance(book.get('price'), str) and \\\n",
    "                        book.get('price').replace(',','').isdigit() else \\\n",
    "                book.get('price') if isinstance(book.get('price'), int) else \\\n",
    "                0                \n",
    "               )"
   ]
  },
  {
   "cell_type": "code",
   "execution_count": 28,
   "id": "d2d5f037",
   "metadata": {},
   "outputs": [
    {
     "data": {
      "text/plain": [
       "25200"
      ]
     },
     "execution_count": 28,
     "metadata": {},
     "output_type": "execute_result"
    }
   ],
   "source": [
    "# 람다식 테스트 확인\n",
    "(lambda book : \n",
    "                int(book.get('price').replace(',','')) \\\n",
    "                    if isinstance(book.get('price'), str) and \\\n",
    "                        book.get('price').replace(',','').isdigit() else \\\n",
    "                book.get('price') if isinstance(book.get('price'), int) else \\\n",
    "                0 )(books[0])"
   ]
  },
  {
   "cell_type": "code",
   "execution_count": 29,
   "id": "ed234425",
   "metadata": {},
   "outputs": [
    {
     "data": {
      "text/plain": [
       "[{'no': 1, 'title': '강남 아파트 인사이트', 'writer': '오스틀', 'price': '25,200'},\n",
       " {'no': 2, 'title': '단 한 번의 삶', 'writer': '김영하', 'price': '18,100'},\n",
       " {'no': 3, 'title': '흔한남매 19', 'writer': '백난도', 'price': '14220'},\n",
       " {'no': 4, 'title': '가격이잘못', 'writer': '홍길동', 'price': '-'},\n",
       " {'no': 5, 'title': '가격이숫자', 'writer': '신길동', 'price': 900},\n",
       " {'no': 6, 'title': '가격이없음', 'writer': '김길동'}]"
      ]
     },
     "execution_count": 29,
     "metadata": {},
     "output_type": "execute_result"
    }
   ],
   "source": [
    "[{'no': 4, 'title': '가격이잘못', 'writer': '홍길동', 'price': '-'},\n",
    " {'no': 6, 'title': '가격이없음', 'writer': '김길동'},\n",
    " {'no': 5, 'title': '가격이숫자', 'writer': '신길동', 'price': 900},\n",
    " {'no': 3, 'title': '흔한남매 19', 'writer': '백난도', 'price': '14220'},\n",
    " {'no': 2, 'title': '단 한 번의 삶', 'writer': '김영하', 'price': '18,100'},\n",
    " {'no': 1, 'title': '강남 아파트 인사이트', 'writer': '오스틀', 'price': '25,200'}]\n",
    "books"
   ]
  },
  {
   "cell_type": "code",
   "execution_count": 17,
   "id": "4371490b",
   "metadata": {},
   "outputs": [
    {
     "data": {
      "text/plain": [
       "(8000, 8000, 800, 0)"
      ]
     },
     "execution_count": 17,
     "metadata": {},
     "output_type": "execute_result"
    }
   ],
   "source": [
    "parse_int(\"8,000\"), parse_int(\"8000\"), parse_int(800), parse_int('-')"
   ]
  },
  {
   "cell_type": "markdown",
   "id": "795b318a",
   "metadata": {},
   "source": [
    "## 4.3 함수의 return값으로 람다식 이용"
   ]
  },
  {
   "cell_type": "code",
   "execution_count": 36,
   "id": "364ba8ab",
   "metadata": {},
   "outputs": [],
   "source": [
    "# 함수를 return\n",
    "def make_box(shape):   # shape : [L]=> len가 L인 list를 생성하는 함수 return,\n",
    "#                                [r,c] => r행 c열인 2차원 list를 생성하는 함수 return\n",
    "    def box(init_value):\n",
    "        if len(shape)==1:\n",
    "            return [init_value]*shape[0]\n",
    "        elif len(shape)==2:\n",
    "            return [[init_value]*shape[1]] * shape[0]\n",
    "    return box"
   ]
  },
  {
   "cell_type": "code",
   "execution_count": 37,
   "id": "ec34c168",
   "metadata": {
    "scrolled": true
   },
   "outputs": [
    {
     "ename": "SyntaxError",
     "evalue": "expected ':' (3859412374.py, line 5)",
     "output_type": "error",
     "traceback": [
      "\u001b[1;36m  Cell \u001b[1;32mIn[37], line 5\u001b[1;36m\u001b[0m\n\u001b[1;33m    else len(shape)==2:\u001b[0m\n\u001b[1;37m         ^\u001b[0m\n\u001b[1;31mSyntaxError\u001b[0m\u001b[1;31m:\u001b[0m expected ':'\n"
     ]
    }
   ],
   "source": [
    "# 람다식을 return\n",
    "def make_box(shape):\n",
    "    if len(shape)==1:\n",
    "        return lambda init_value : [init_value]*shape[0]\n",
    "    else len(shape)==2:\n",
    "        return lambda init_value : [ [init_value]*shape[1] * shape[0]"
   ]
  },
  {
   "cell_type": "code",
   "execution_count": 33,
   "id": "43afaf82",
   "metadata": {},
   "outputs": [
    {
     "data": {
      "text/plain": [
       "[[3, 3, 3], [3, 3, 3]]"
      ]
     },
     "execution_count": 33,
     "metadata": {},
     "output_type": "execute_result"
    }
   ],
   "source": [
    "line_func = make_box([2,3])\n",
    "line_func(3)"
   ]
  },
  {
   "cell_type": "code",
   "execution_count": 34,
   "id": "e9074adc",
   "metadata": {},
   "outputs": [
    {
     "data": {
      "text/plain": [
       "[3, 3, 3, 3, 3, 3, 3, 3, 3, 3]"
      ]
     },
     "execution_count": 34,
     "metadata": {},
     "output_type": "execute_result"
    }
   ],
   "source": [
    "line_func1 = make_box([10])\n",
    "line_func1(3)\n"
   ]
  },
  {
   "cell_type": "markdown",
   "id": "116127a3",
   "metadata": {},
   "source": [
    "# 5절. 파이썬 내장함수\n",
    "- import하지 않고 바로 사용 가능한 함수\n",
    "- 키워드처럼 간주되므로, 식별자(변수, 함수명, 클래스명)로 사용하는 것을 피한다."
   ]
  },
  {
   "cell_type": "code",
   "execution_count": 40,
   "id": "60e84412",
   "metadata": {},
   "outputs": [
    {
     "data": {
      "text/plain": [
       "{'__name__': '__main__',\n",
       " '__doc__': 'Automatically created module for IPython interactive environment',\n",
       " '__package__': None,\n",
       " '__loader__': None,\n",
       " '__spec__': None,\n",
       " '__builtin__': <module 'builtins' (built-in)>,\n",
       " '__builtins__': <module 'builtins' (built-in)>,\n",
       " '_ih': ['',\n",
       "  \"students = [\\n    {'name' : '홍길동', 'score' : 90},\\n    {'name' : '김길동', 'score' : 50},\\n    {'name' : '윤길동', 'score' : 99},\\n    {'score' : 100}\\n]\",\n",
       "  \"# 이름순으로 정렬(ㄱ ㄴ ㄷ 순) by 선생님\\n\\nstudents.sort(key = lambda item : item.get('name','힝'))\\nstudents\",\n",
       "  \"# sore 순으로 정렬(내림차순 정렬)\\nstudents.sort(key = lambda item : item.get('score', 0), reverse=True)\\nstudents\",\n",
       "  \"books.sort(key = lambda book : book.get('title'))\\nbooks\",\n",
       "  \"# 책 제목순 정렬(ㄱㄴㄷ순), 저자순 정렬(ㄱㄴㄷ순), 가격순 오름차순 정렬\\nbooks =[\\n    {'no':1, 'title':'강남 아파트 인사이트', 'writer':'오스틀', 'price':'25,200'},\\n    {'no':2, 'title':'단 한 번의 삶', 'writer':'김영하', 'price':'18,100'},\\n    {'no':3, 'title':'흔한남매 19', 'writer':'백난도', 'price':'14,220'},\\n    {'no':4, 'title':'가격이잘못', 'writer':'홍길동', 'price':'-'},\\n    {'no':5, 'title':'가격이숫자', 'writer':'신길동', 'price':900},\\n    {'no':6, 'title':'가격이없음', 'writer':'김길동'},\\n]\",\n",
       "  \"books.sort(key = lambda book : book.get('title'))\\nbooks\",\n",
       "  \"# '14,000' -> 14000 / 800 -> 800 / '-' -> 0\\n\\ndef parse_int(price):\\n    print(type(price))\",\n",
       "  'parse_int(800)',\n",
       "  'parse_int(\"800\")',\n",
       "  \"# '14,000' -> 14000 / 800 -> 800 / '-' -> 0\\n\\ndef parse_int(price):\\n#     print(type(price))\\n    if isinstance(price, int):\\n        return price\",\n",
       "  'parse_int(800)',\n",
       "  \"parse_int('800')\",\n",
       "  'parse_int(\"8,000\"), parse_int(\"8000\"), parse_int(800), parse_int(\\'-\\')',\n",
       "  \"# '14,000' -> 14000 / 800 -> 800 / '-' -> 0\\n\\ndef parse_int(price):\\n#     print(type(price))\\n    if isinstance(price, str) and price.replace(',','').isdigit():\\n        return int(price.replace(',',''))\\n    \\n    elif isinstance(price, int):\\n        return price\",\n",
       "  'parse_int(\"8,000\"), parse_int(\"8000\"), parse_int(800), parse_int(\\'-\\')',\n",
       "  \"# '14,000' -> 14000 / 800 -> 800 / '-' -> 0\\n\\ndef parse_int(price):\\n#     print(type(price))\\n    if isinstance(price, str) and price.replace(',','').isdigit():\\n        return int(price.replace(',',''))\\n    \\n    elif isinstance(price, int):\\n        return price\\n    else:\\n        return 0\",\n",
       "  'parse_int(\"8,000\"), parse_int(\"8000\"), parse_int(800), parse_int(\\'-\\')',\n",
       "  \"price.replace(',','').isdigit()\",\n",
       "  \"books.sort(key = lambda book : book.get('writer'))\\nbooks\",\n",
       "  \"books.sort(key = lambda book : book.get('price', 0))\\nbooks\",\n",
       "  '# \\'14,000\\' -> 14000 / \"2000\" -> 2000 / 800 -> 800 / \\'-\\' -> 0\\ndef parse_int(price):\\n    #print(type(price))\\n    if isinstance(price, str) and price.replace(\\',\\',\\'\\').isdigit():\\n        return int(price.replace(\\',\\', \\'\\'))\\n    elif isinstance(price, int):\\n        return price\\n    else:\\n        return 0',\n",
       "  'parse_int(\"8,000\"), parse_int(\"8000\"), parse_int(800), parse_int(\\'-\\')',\n",
       "  \"# {'no': 6, 'title': '가격이없음', 'writer': '김길동'} = > 0 return\\n# {'no': 3, 'title': '흔한남매 19', 'writer': '백난도', 'price': '14,220'} => 14220\\n# {'no': 5, 'title': '가격이숫자', 'writer': '신길동', 'price': 900} => 900\\ndef parse_int(book):\\n    if isinstance(book.get('price'), str) and \\\\\\n            book.get('price').replace(',','').isdigit():\\n        return int( book.get('price').replace(',','') )\\n    elif isinstance(book.get('price'), int):\\n        return book.get('price')\\n    else:\\n        return 0\\nparse_int(books[0]), parse_int(books[3]), parse_int(books[2]),  parse_int(books[5])\",\n",
       "  \"books =[\\n    {'no':1, 'title':'강남 아파트 인사이트', 'writer':'오스틀', 'price':'25,200'},\\n    {'no':2, 'title':'단 한 번의 삶', 'writer':'김영하', 'price':'18,100'},\\n    {'no':3, 'title':'흔한남매 19', 'writer':'백난도', 'price':'14220'},\\n    {'no':4, 'title':'가격이잘못', 'writer':'홍길동', 'price':'-'},\\n    {'no':5, 'title':'가격이숫자', 'writer':'신길동', 'price':900},\\n    {'no':6, 'title':'가격이없음', 'writer':'김길동'},\\n]\\ncopy_books = books.copy() # 깊은 복사\",\n",
       "  \"copy_books.sort(key = lambda book : \\n                int(book.get('price').replace(',','')) \\\\\\n                    if isinstance(book.get('price'), str) and \\\\\\n                        book.get('price').replace(',','').isdigit() else \\\\\\n                book.get('price') if isinstance(book.get('price'), int) else \\\\\\n                0                \\n               )\",\n",
       "  \"# 람다식 테스트 확인\\n(lambda book : \\n                int(book.get('price').replace(',','')) \\\\\\n                    if isinstance(book.get('price'), str) and \\\\\\n                        book.get('price').replace(',','').isdigit() else \\\\\\n                book.get('price') if isinstance(book.get('price'), int) else \\\\\\n                0 )(books[0])\",\n",
       "  \"copy_books.sort(key = lambda book : \\n                int(book.get('price').replace(',','')) \\\\\\n                    if isinstance(book.get('price'), str) and \\\\\\n                        book.get('price').replace(',','').isdigit() else \\\\\\n                book.get('price') if isinstance(book.get('price'), int) else \\\\\\n                0                \\n               )\",\n",
       "  \"# 람다식 테스트 확인\\n(lambda book : \\n                int(book.get('price').replace(',','')) \\\\\\n                    if isinstance(book.get('price'), str) and \\\\\\n                        book.get('price').replace(',','').isdigit() else \\\\\\n                book.get('price') if isinstance(book.get('price'), int) else \\\\\\n                0 )(books[0])\",\n",
       "  \"[{'no': 4, 'title': '가격이잘못', 'writer': '홍길동', 'price': '-'},\\n {'no': 6, 'title': '가격이없음', 'writer': '김길동'},\\n {'no': 5, 'title': '가격이숫자', 'writer': '신길동', 'price': 900},\\n {'no': 3, 'title': '흔한남매 19', 'writer': '백난도', 'price': '14220'},\\n {'no': 2, 'title': '단 한 번의 삶', 'writer': '김영하', 'price': '18,100'},\\n {'no': 1, 'title': '강남 아파트 인사이트', 'writer': '오스틀', 'price': '25,200'}]\\nbooks\",\n",
       "  '# 함수를 return\\ndef make_box(shape): # shape : [L]=> len가 L인 list를 생성하는 함수 return,',\n",
       "  '# 함수를 return\\ndef make_box(shape):   # shape : [L]=> len가 L인 list를 생성하는 함수 return,\\n#                                [r,c] => r행 c열인 2차원 list를 생성하는 함수 return\\n    def box(init_value):\\n        if len(shape)==1:\\n            return [init_value]*shape[0]\\n        elif len(shape)==2:\\n            return [[init_value]*shape[1]] * shape[0]\\n    return box',\n",
       "  'line_func = make_box([2,3])',\n",
       "  'line_func = make_box([2,3])\\nline_func(3)',\n",
       "  'line_func1 = make_box([10])\\nline_func1(3)',\n",
       "  '# 람다식을 return\\ndef make_box(shape):\\n    if len(shape)==1:\\n        return lambda init_value : [init_value]*shape[0]\\n    else len(shape)==2:\\n        return lambda init_value : [ [init_value]*shape[1] * shape[0]',\n",
       "  '# 함수를 return\\ndef make_box(shape):   # shape : [L]=> len가 L인 list를 생성하는 함수 return,\\n#                                [r,c] => r행 c열인 2차원 list를 생성하는 함수 return\\n    def box(init_value):\\n        if len(shape)==1:\\n            return [init_value]*shape[0]\\n        elif len(shape)==2:\\n            return [[init_value]*shape[1]] * shape[0]\\n    return box',\n",
       "  '# 람다식을 return\\ndef make_box(shape):\\n    if len(shape)==1:\\n        return lambda init_value : [init_value]*shape[0]\\n    else len(shape)==2:\\n        return lambda init_value : [ [init_value]*shape[1] * shape[0]',\n",
       "  'globals',\n",
       "  'globals()',\n",
       "  'globals() # 전역변수 리스트'],\n",
       " '_oh': {2: [{'score': 100},\n",
       "   {'name': '윤길동', 'score': 99},\n",
       "   {'name': '홍길동', 'score': 90},\n",
       "   {'name': '김길동', 'score': 50}],\n",
       "  3: [{'score': 100},\n",
       "   {'name': '윤길동', 'score': 99},\n",
       "   {'name': '홍길동', 'score': 90},\n",
       "   {'name': '김길동', 'score': 50}],\n",
       "  6: [{'no': 6, 'title': '가격이없음', 'writer': '김길동'},\n",
       "   {'no': 2, 'title': '단 한 번의 삶', 'writer': '김영하', 'price': '18,100'},\n",
       "   {'no': 3, 'title': '흔한남매 19', 'writer': '백난도', 'price': '14,220'},\n",
       "   {'no': 5, 'title': '가격이숫자', 'writer': '신길동', 'price': 900},\n",
       "   {'no': 1, 'title': '강남 아파트 인사이트', 'writer': '오스틀', 'price': '25,200'},\n",
       "   {'no': 4, 'title': '가격이잘못', 'writer': '홍길동', 'price': '-'}],\n",
       "  11: 800,\n",
       "  13: (None, None, 800, None),\n",
       "  15: (8000, 8000, 800, None),\n",
       "  17: (8000, 8000, 800, 0),\n",
       "  19: [{'no': 6, 'title': '가격이없음', 'writer': '김길동'},\n",
       "   {'no': 2, 'title': '단 한 번의 삶', 'writer': '김영하', 'price': '18,100'},\n",
       "   {'no': 3, 'title': '흔한남매 19', 'writer': '백난도', 'price': '14,220'},\n",
       "   {'no': 5, 'title': '가격이숫자', 'writer': '신길동', 'price': 900},\n",
       "   {'no': 1, 'title': '강남 아파트 인사이트', 'writer': '오스틀', 'price': '25,200'},\n",
       "   {'no': 4, 'title': '가격이잘못', 'writer': '홍길동', 'price': '-'}],\n",
       "  22: (8000, 8000, 800, 0),\n",
       "  23: (0, 900, 14220, 0),\n",
       "  26: 25200,\n",
       "  28: 25200,\n",
       "  29: [{'no': 1, 'title': '강남 아파트 인사이트', 'writer': '오스틀', 'price': '25,200'},\n",
       "   {'no': 2, 'title': '단 한 번의 삶', 'writer': '김영하', 'price': '18,100'},\n",
       "   {'no': 3, 'title': '흔한남매 19', 'writer': '백난도', 'price': '14220'},\n",
       "   {'no': 4, 'title': '가격이잘못', 'writer': '홍길동', 'price': '-'},\n",
       "   {'no': 5, 'title': '가격이숫자', 'writer': '신길동', 'price': 900},\n",
       "   {'no': 6, 'title': '가격이없음', 'writer': '김길동'}],\n",
       "  33: [[3, 3, 3], [3, 3, 3]],\n",
       "  34: [3, 3, 3, 3, 3, 3, 3, 3, 3, 3],\n",
       "  38: <function globals()>,\n",
       "  39: {...}},\n",
       " '_dh': [WindowsPath('C:/ai_x/source/01_Python')],\n",
       " 'In': ['',\n",
       "  \"students = [\\n    {'name' : '홍길동', 'score' : 90},\\n    {'name' : '김길동', 'score' : 50},\\n    {'name' : '윤길동', 'score' : 99},\\n    {'score' : 100}\\n]\",\n",
       "  \"# 이름순으로 정렬(ㄱ ㄴ ㄷ 순) by 선생님\\n\\nstudents.sort(key = lambda item : item.get('name','힝'))\\nstudents\",\n",
       "  \"# sore 순으로 정렬(내림차순 정렬)\\nstudents.sort(key = lambda item : item.get('score', 0), reverse=True)\\nstudents\",\n",
       "  \"books.sort(key = lambda book : book.get('title'))\\nbooks\",\n",
       "  \"# 책 제목순 정렬(ㄱㄴㄷ순), 저자순 정렬(ㄱㄴㄷ순), 가격순 오름차순 정렬\\nbooks =[\\n    {'no':1, 'title':'강남 아파트 인사이트', 'writer':'오스틀', 'price':'25,200'},\\n    {'no':2, 'title':'단 한 번의 삶', 'writer':'김영하', 'price':'18,100'},\\n    {'no':3, 'title':'흔한남매 19', 'writer':'백난도', 'price':'14,220'},\\n    {'no':4, 'title':'가격이잘못', 'writer':'홍길동', 'price':'-'},\\n    {'no':5, 'title':'가격이숫자', 'writer':'신길동', 'price':900},\\n    {'no':6, 'title':'가격이없음', 'writer':'김길동'},\\n]\",\n",
       "  \"books.sort(key = lambda book : book.get('title'))\\nbooks\",\n",
       "  \"# '14,000' -> 14000 / 800 -> 800 / '-' -> 0\\n\\ndef parse_int(price):\\n    print(type(price))\",\n",
       "  'parse_int(800)',\n",
       "  'parse_int(\"800\")',\n",
       "  \"# '14,000' -> 14000 / 800 -> 800 / '-' -> 0\\n\\ndef parse_int(price):\\n#     print(type(price))\\n    if isinstance(price, int):\\n        return price\",\n",
       "  'parse_int(800)',\n",
       "  \"parse_int('800')\",\n",
       "  'parse_int(\"8,000\"), parse_int(\"8000\"), parse_int(800), parse_int(\\'-\\')',\n",
       "  \"# '14,000' -> 14000 / 800 -> 800 / '-' -> 0\\n\\ndef parse_int(price):\\n#     print(type(price))\\n    if isinstance(price, str) and price.replace(',','').isdigit():\\n        return int(price.replace(',',''))\\n    \\n    elif isinstance(price, int):\\n        return price\",\n",
       "  'parse_int(\"8,000\"), parse_int(\"8000\"), parse_int(800), parse_int(\\'-\\')',\n",
       "  \"# '14,000' -> 14000 / 800 -> 800 / '-' -> 0\\n\\ndef parse_int(price):\\n#     print(type(price))\\n    if isinstance(price, str) and price.replace(',','').isdigit():\\n        return int(price.replace(',',''))\\n    \\n    elif isinstance(price, int):\\n        return price\\n    else:\\n        return 0\",\n",
       "  'parse_int(\"8,000\"), parse_int(\"8000\"), parse_int(800), parse_int(\\'-\\')',\n",
       "  \"price.replace(',','').isdigit()\",\n",
       "  \"books.sort(key = lambda book : book.get('writer'))\\nbooks\",\n",
       "  \"books.sort(key = lambda book : book.get('price', 0))\\nbooks\",\n",
       "  '# \\'14,000\\' -> 14000 / \"2000\" -> 2000 / 800 -> 800 / \\'-\\' -> 0\\ndef parse_int(price):\\n    #print(type(price))\\n    if isinstance(price, str) and price.replace(\\',\\',\\'\\').isdigit():\\n        return int(price.replace(\\',\\', \\'\\'))\\n    elif isinstance(price, int):\\n        return price\\n    else:\\n        return 0',\n",
       "  'parse_int(\"8,000\"), parse_int(\"8000\"), parse_int(800), parse_int(\\'-\\')',\n",
       "  \"# {'no': 6, 'title': '가격이없음', 'writer': '김길동'} = > 0 return\\n# {'no': 3, 'title': '흔한남매 19', 'writer': '백난도', 'price': '14,220'} => 14220\\n# {'no': 5, 'title': '가격이숫자', 'writer': '신길동', 'price': 900} => 900\\ndef parse_int(book):\\n    if isinstance(book.get('price'), str) and \\\\\\n            book.get('price').replace(',','').isdigit():\\n        return int( book.get('price').replace(',','') )\\n    elif isinstance(book.get('price'), int):\\n        return book.get('price')\\n    else:\\n        return 0\\nparse_int(books[0]), parse_int(books[3]), parse_int(books[2]),  parse_int(books[5])\",\n",
       "  \"books =[\\n    {'no':1, 'title':'강남 아파트 인사이트', 'writer':'오스틀', 'price':'25,200'},\\n    {'no':2, 'title':'단 한 번의 삶', 'writer':'김영하', 'price':'18,100'},\\n    {'no':3, 'title':'흔한남매 19', 'writer':'백난도', 'price':'14220'},\\n    {'no':4, 'title':'가격이잘못', 'writer':'홍길동', 'price':'-'},\\n    {'no':5, 'title':'가격이숫자', 'writer':'신길동', 'price':900},\\n    {'no':6, 'title':'가격이없음', 'writer':'김길동'},\\n]\\ncopy_books = books.copy() # 깊은 복사\",\n",
       "  \"copy_books.sort(key = lambda book : \\n                int(book.get('price').replace(',','')) \\\\\\n                    if isinstance(book.get('price'), str) and \\\\\\n                        book.get('price').replace(',','').isdigit() else \\\\\\n                book.get('price') if isinstance(book.get('price'), int) else \\\\\\n                0                \\n               )\",\n",
       "  \"# 람다식 테스트 확인\\n(lambda book : \\n                int(book.get('price').replace(',','')) \\\\\\n                    if isinstance(book.get('price'), str) and \\\\\\n                        book.get('price').replace(',','').isdigit() else \\\\\\n                book.get('price') if isinstance(book.get('price'), int) else \\\\\\n                0 )(books[0])\",\n",
       "  \"copy_books.sort(key = lambda book : \\n                int(book.get('price').replace(',','')) \\\\\\n                    if isinstance(book.get('price'), str) and \\\\\\n                        book.get('price').replace(',','').isdigit() else \\\\\\n                book.get('price') if isinstance(book.get('price'), int) else \\\\\\n                0                \\n               )\",\n",
       "  \"# 람다식 테스트 확인\\n(lambda book : \\n                int(book.get('price').replace(',','')) \\\\\\n                    if isinstance(book.get('price'), str) and \\\\\\n                        book.get('price').replace(',','').isdigit() else \\\\\\n                book.get('price') if isinstance(book.get('price'), int) else \\\\\\n                0 )(books[0])\",\n",
       "  \"[{'no': 4, 'title': '가격이잘못', 'writer': '홍길동', 'price': '-'},\\n {'no': 6, 'title': '가격이없음', 'writer': '김길동'},\\n {'no': 5, 'title': '가격이숫자', 'writer': '신길동', 'price': 900},\\n {'no': 3, 'title': '흔한남매 19', 'writer': '백난도', 'price': '14220'},\\n {'no': 2, 'title': '단 한 번의 삶', 'writer': '김영하', 'price': '18,100'},\\n {'no': 1, 'title': '강남 아파트 인사이트', 'writer': '오스틀', 'price': '25,200'}]\\nbooks\",\n",
       "  '# 함수를 return\\ndef make_box(shape): # shape : [L]=> len가 L인 list를 생성하는 함수 return,',\n",
       "  '# 함수를 return\\ndef make_box(shape):   # shape : [L]=> len가 L인 list를 생성하는 함수 return,\\n#                                [r,c] => r행 c열인 2차원 list를 생성하는 함수 return\\n    def box(init_value):\\n        if len(shape)==1:\\n            return [init_value]*shape[0]\\n        elif len(shape)==2:\\n            return [[init_value]*shape[1]] * shape[0]\\n    return box',\n",
       "  'line_func = make_box([2,3])',\n",
       "  'line_func = make_box([2,3])\\nline_func(3)',\n",
       "  'line_func1 = make_box([10])\\nline_func1(3)',\n",
       "  '# 람다식을 return\\ndef make_box(shape):\\n    if len(shape)==1:\\n        return lambda init_value : [init_value]*shape[0]\\n    else len(shape)==2:\\n        return lambda init_value : [ [init_value]*shape[1] * shape[0]',\n",
       "  '# 함수를 return\\ndef make_box(shape):   # shape : [L]=> len가 L인 list를 생성하는 함수 return,\\n#                                [r,c] => r행 c열인 2차원 list를 생성하는 함수 return\\n    def box(init_value):\\n        if len(shape)==1:\\n            return [init_value]*shape[0]\\n        elif len(shape)==2:\\n            return [[init_value]*shape[1]] * shape[0]\\n    return box',\n",
       "  '# 람다식을 return\\ndef make_box(shape):\\n    if len(shape)==1:\\n        return lambda init_value : [init_value]*shape[0]\\n    else len(shape)==2:\\n        return lambda init_value : [ [init_value]*shape[1] * shape[0]',\n",
       "  'globals',\n",
       "  'globals()',\n",
       "  'globals() # 전역변수 리스트'],\n",
       " 'Out': {2: [{'score': 100},\n",
       "   {'name': '윤길동', 'score': 99},\n",
       "   {'name': '홍길동', 'score': 90},\n",
       "   {'name': '김길동', 'score': 50}],\n",
       "  3: [{'score': 100},\n",
       "   {'name': '윤길동', 'score': 99},\n",
       "   {'name': '홍길동', 'score': 90},\n",
       "   {'name': '김길동', 'score': 50}],\n",
       "  6: [{'no': 6, 'title': '가격이없음', 'writer': '김길동'},\n",
       "   {'no': 2, 'title': '단 한 번의 삶', 'writer': '김영하', 'price': '18,100'},\n",
       "   {'no': 3, 'title': '흔한남매 19', 'writer': '백난도', 'price': '14,220'},\n",
       "   {'no': 5, 'title': '가격이숫자', 'writer': '신길동', 'price': 900},\n",
       "   {'no': 1, 'title': '강남 아파트 인사이트', 'writer': '오스틀', 'price': '25,200'},\n",
       "   {'no': 4, 'title': '가격이잘못', 'writer': '홍길동', 'price': '-'}],\n",
       "  11: 800,\n",
       "  13: (None, None, 800, None),\n",
       "  15: (8000, 8000, 800, None),\n",
       "  17: (8000, 8000, 800, 0),\n",
       "  19: [{'no': 6, 'title': '가격이없음', 'writer': '김길동'},\n",
       "   {'no': 2, 'title': '단 한 번의 삶', 'writer': '김영하', 'price': '18,100'},\n",
       "   {'no': 3, 'title': '흔한남매 19', 'writer': '백난도', 'price': '14,220'},\n",
       "   {'no': 5, 'title': '가격이숫자', 'writer': '신길동', 'price': 900},\n",
       "   {'no': 1, 'title': '강남 아파트 인사이트', 'writer': '오스틀', 'price': '25,200'},\n",
       "   {'no': 4, 'title': '가격이잘못', 'writer': '홍길동', 'price': '-'}],\n",
       "  22: (8000, 8000, 800, 0),\n",
       "  23: (0, 900, 14220, 0),\n",
       "  26: 25200,\n",
       "  28: 25200,\n",
       "  29: [{'no': 1, 'title': '강남 아파트 인사이트', 'writer': '오스틀', 'price': '25,200'},\n",
       "   {'no': 2, 'title': '단 한 번의 삶', 'writer': '김영하', 'price': '18,100'},\n",
       "   {'no': 3, 'title': '흔한남매 19', 'writer': '백난도', 'price': '14220'},\n",
       "   {'no': 4, 'title': '가격이잘못', 'writer': '홍길동', 'price': '-'},\n",
       "   {'no': 5, 'title': '가격이숫자', 'writer': '신길동', 'price': 900},\n",
       "   {'no': 6, 'title': '가격이없음', 'writer': '김길동'}],\n",
       "  33: [[3, 3, 3], [3, 3, 3]],\n",
       "  34: [3, 3, 3, 3, 3, 3, 3, 3, 3, 3],\n",
       "  38: <function globals()>,\n",
       "  39: {...}},\n",
       " 'get_ipython': <bound method InteractiveShell.get_ipython of <ipykernel.zmqshell.ZMQInteractiveShell object at 0x000001E4FFE73D60>>,\n",
       " 'exit': <IPython.core.autocall.ZMQExitAutocall at 0x1e4ffe7f5e0>,\n",
       " 'quit': <IPython.core.autocall.ZMQExitAutocall at 0x1e4ffe7f5e0>,\n",
       " 'open': <function io.open(file, mode='r', buffering=-1, encoding=None, errors=None, newline=None, closefd=True, opener=None)>,\n",
       " '_': {...},\n",
       " '__': <function globals()>,\n",
       " '___': [3, 3, 3, 3, 3, 3, 3, 3, 3, 3],\n",
       " '_i': 'globals()',\n",
       " '_ii': 'globals',\n",
       " '_iii': '# 람다식을 return\\ndef make_box(shape):\\n    if len(shape)==1:\\n        return lambda init_value : [init_value]*shape[0]\\n    else len(shape)==2:\\n        return lambda init_value : [ [init_value]*shape[1] * shape[0]',\n",
       " '_i1': \"students = [\\n    {'name' : '홍길동', 'score' : 90},\\n    {'name' : '김길동', 'score' : 50},\\n    {'name' : '윤길동', 'score' : 99},\\n    {'score' : 100}\\n]\",\n",
       " 'students': [{'score': 100},\n",
       "  {'name': '윤길동', 'score': 99},\n",
       "  {'name': '홍길동', 'score': 90},\n",
       "  {'name': '김길동', 'score': 50}],\n",
       " '_i2': \"# 이름순으로 정렬(ㄱ ㄴ ㄷ 순) by 선생님\\n\\nstudents.sort(key = lambda item : item.get('name','힝'))\\nstudents\",\n",
       " '_2': [{'score': 100},\n",
       "  {'name': '윤길동', 'score': 99},\n",
       "  {'name': '홍길동', 'score': 90},\n",
       "  {'name': '김길동', 'score': 50}],\n",
       " '_i3': \"# sore 순으로 정렬(내림차순 정렬)\\nstudents.sort(key = lambda item : item.get('score', 0), reverse=True)\\nstudents\",\n",
       " '_3': [{'score': 100},\n",
       "  {'name': '윤길동', 'score': 99},\n",
       "  {'name': '홍길동', 'score': 90},\n",
       "  {'name': '김길동', 'score': 50}],\n",
       " '_i4': \"books.sort(key = lambda book : book.get('title'))\\nbooks\",\n",
       " '_i5': \"# 책 제목순 정렬(ㄱㄴㄷ순), 저자순 정렬(ㄱㄴㄷ순), 가격순 오름차순 정렬\\nbooks =[\\n    {'no':1, 'title':'강남 아파트 인사이트', 'writer':'오스틀', 'price':'25,200'},\\n    {'no':2, 'title':'단 한 번의 삶', 'writer':'김영하', 'price':'18,100'},\\n    {'no':3, 'title':'흔한남매 19', 'writer':'백난도', 'price':'14,220'},\\n    {'no':4, 'title':'가격이잘못', 'writer':'홍길동', 'price':'-'},\\n    {'no':5, 'title':'가격이숫자', 'writer':'신길동', 'price':900},\\n    {'no':6, 'title':'가격이없음', 'writer':'김길동'},\\n]\",\n",
       " 'books': [{'no': 1,\n",
       "   'title': '강남 아파트 인사이트',\n",
       "   'writer': '오스틀',\n",
       "   'price': '25,200'},\n",
       "  {'no': 2, 'title': '단 한 번의 삶', 'writer': '김영하', 'price': '18,100'},\n",
       "  {'no': 3, 'title': '흔한남매 19', 'writer': '백난도', 'price': '14220'},\n",
       "  {'no': 4, 'title': '가격이잘못', 'writer': '홍길동', 'price': '-'},\n",
       "  {'no': 5, 'title': '가격이숫자', 'writer': '신길동', 'price': 900},\n",
       "  {'no': 6, 'title': '가격이없음', 'writer': '김길동'}],\n",
       " '_i6': \"books.sort(key = lambda book : book.get('title'))\\nbooks\",\n",
       " '_6': [{'no': 6, 'title': '가격이없음', 'writer': '김길동'},\n",
       "  {'no': 2, 'title': '단 한 번의 삶', 'writer': '김영하', 'price': '18,100'},\n",
       "  {'no': 3, 'title': '흔한남매 19', 'writer': '백난도', 'price': '14,220'},\n",
       "  {'no': 5, 'title': '가격이숫자', 'writer': '신길동', 'price': 900},\n",
       "  {'no': 1, 'title': '강남 아파트 인사이트', 'writer': '오스틀', 'price': '25,200'},\n",
       "  {'no': 4, 'title': '가격이잘못', 'writer': '홍길동', 'price': '-'}],\n",
       " '_i7': \"# '14,000' -> 14000 / 800 -> 800 / '-' -> 0\\n\\ndef parse_int(price):\\n    print(type(price))\",\n",
       " 'parse_int': <function __main__.parse_int(book)>,\n",
       " '_i8': 'parse_int(800)',\n",
       " '_i9': 'parse_int(\"800\")',\n",
       " '_i10': \"# '14,000' -> 14000 / 800 -> 800 / '-' -> 0\\n\\ndef parse_int(price):\\n#     print(type(price))\\n    if isinstance(price, int):\\n        return price\",\n",
       " '_i11': 'parse_int(800)',\n",
       " '_11': 800,\n",
       " '_i12': \"parse_int('800')\",\n",
       " '_i13': 'parse_int(\"8,000\"), parse_int(\"8000\"), parse_int(800), parse_int(\\'-\\')',\n",
       " '_13': (None, None, 800, None),\n",
       " '_i14': \"# '14,000' -> 14000 / 800 -> 800 / '-' -> 0\\n\\ndef parse_int(price):\\n#     print(type(price))\\n    if isinstance(price, str) and price.replace(',','').isdigit():\\n        return int(price.replace(',',''))\\n    \\n    elif isinstance(price, int):\\n        return price\",\n",
       " '_i15': 'parse_int(\"8,000\"), parse_int(\"8000\"), parse_int(800), parse_int(\\'-\\')',\n",
       " '_15': (8000, 8000, 800, None),\n",
       " '_i16': \"# '14,000' -> 14000 / 800 -> 800 / '-' -> 0\\n\\ndef parse_int(price):\\n#     print(type(price))\\n    if isinstance(price, str) and price.replace(',','').isdigit():\\n        return int(price.replace(',',''))\\n    \\n    elif isinstance(price, int):\\n        return price\\n    else:\\n        return 0\",\n",
       " '_i17': 'parse_int(\"8,000\"), parse_int(\"8000\"), parse_int(800), parse_int(\\'-\\')',\n",
       " '_17': (8000, 8000, 800, 0),\n",
       " '_i18': \"price.replace(',','').isdigit()\",\n",
       " '_i19': \"books.sort(key = lambda book : book.get('writer'))\\nbooks\",\n",
       " '_19': [{'no': 6, 'title': '가격이없음', 'writer': '김길동'},\n",
       "  {'no': 2, 'title': '단 한 번의 삶', 'writer': '김영하', 'price': '18,100'},\n",
       "  {'no': 3, 'title': '흔한남매 19', 'writer': '백난도', 'price': '14,220'},\n",
       "  {'no': 5, 'title': '가격이숫자', 'writer': '신길동', 'price': 900},\n",
       "  {'no': 1, 'title': '강남 아파트 인사이트', 'writer': '오스틀', 'price': '25,200'},\n",
       "  {'no': 4, 'title': '가격이잘못', 'writer': '홍길동', 'price': '-'}],\n",
       " '_i20': \"\\nbooks.sort(key = lambda book : book.get('price', 0))\\nbooks\",\n",
       " '_i21': '# \\'14,000\\' -> 14000 / \"2000\" -> 2000 / 800 -> 800 / \\'-\\' -> 0\\ndef parse_int(price):\\n    #print(type(price))\\n    if isinstance(price, str) and price.replace(\\',\\',\\'\\').isdigit():\\n        return int(price.replace(\\',\\', \\'\\'))\\n    elif isinstance(price, int):\\n        return price\\n    else:\\n        return 0',\n",
       " '_i22': 'parse_int(\"8,000\"), parse_int(\"8000\"), parse_int(800), parse_int(\\'-\\')',\n",
       " '_22': (8000, 8000, 800, 0),\n",
       " '_i23': \"# {'no': 6, 'title': '가격이없음', 'writer': '김길동'} = > 0 return\\n# {'no': 3, 'title': '흔한남매 19', 'writer': '백난도', 'price': '14,220'} => 14220\\n# {'no': 5, 'title': '가격이숫자', 'writer': '신길동', 'price': 900} => 900\\ndef parse_int(book):\\n    if isinstance(book.get('price'), str) and \\\\\\n            book.get('price').replace(',','').isdigit():\\n        return int( book.get('price').replace(',','') )\\n    elif isinstance(book.get('price'), int):\\n        return book.get('price')\\n    else:\\n        return 0\\nparse_int(books[0]), parse_int(books[3]), parse_int(books[2]),  parse_int(books[5])\",\n",
       " '_23': (0, 900, 14220, 0),\n",
       " '_i24': \"books =[\\n    {'no':1, 'title':'강남 아파트 인사이트', 'writer':'오스틀', 'price':'25,200'},\\n    {'no':2, 'title':'단 한 번의 삶', 'writer':'김영하', 'price':'18,100'},\\n    {'no':3, 'title':'흔한남매 19', 'writer':'백난도', 'price':'14220'},\\n    {'no':4, 'title':'가격이잘못', 'writer':'홍길동', 'price':'-'},\\n    {'no':5, 'title':'가격이숫자', 'writer':'신길동', 'price':900},\\n    {'no':6, 'title':'가격이없음', 'writer':'김길동'},\\n]\\ncopy_books = books.copy() # 깊은 복사\",\n",
       " 'copy_books': [{'no': 4, 'title': '가격이잘못', 'writer': '홍길동', 'price': '-'},\n",
       "  {'no': 6, 'title': '가격이없음', 'writer': '김길동'},\n",
       "  {'no': 5, 'title': '가격이숫자', 'writer': '신길동', 'price': 900},\n",
       "  {'no': 3, 'title': '흔한남매 19', 'writer': '백난도', 'price': '14220'},\n",
       "  {'no': 2, 'title': '단 한 번의 삶', 'writer': '김영하', 'price': '18,100'},\n",
       "  {'no': 1, 'title': '강남 아파트 인사이트', 'writer': '오스틀', 'price': '25,200'}],\n",
       " '_i25': \"copy_books.sort(key = lambda book : \\n                int(book.get('price').replace(',','')) \\\\\\n                    if isinstance(book.get('price'), str) and \\\\\\n                        book.get('price').replace(',','').isdigit() else \\\\\\n                book.get('price') if isinstance(book.get('price'), int) else \\\\\\n                0                \\n               )\",\n",
       " '_i26': \"# 람다식 테스트 확인\\n(lambda book : \\n                int(book.get('price').replace(',','')) \\\\\\n                    if isinstance(book.get('price'), str) and \\\\\\n                        book.get('price').replace(',','').isdigit() else \\\\\\n                book.get('price') if isinstance(book.get('price'), int) else \\\\\\n                0 )(books[0])\",\n",
       " '_26': 25200,\n",
       " '_i27': \"copy_books.sort(key = lambda book : \\n                int(book.get('price').replace(',','')) \\\\\\n                    if isinstance(book.get('price'), str) and \\\\\\n                        book.get('price').replace(',','').isdigit() else \\\\\\n                book.get('price') if isinstance(book.get('price'), int) else \\\\\\n                0                \\n               )\",\n",
       " '_i28': \"# 람다식 테스트 확인\\n(lambda book : \\n                int(book.get('price').replace(',','')) \\\\\\n                    if isinstance(book.get('price'), str) and \\\\\\n                        book.get('price').replace(',','').isdigit() else \\\\\\n                book.get('price') if isinstance(book.get('price'), int) else \\\\\\n                0 )(books[0])\",\n",
       " '_28': 25200,\n",
       " '_i29': \"[{'no': 4, 'title': '가격이잘못', 'writer': '홍길동', 'price': '-'},\\n {'no': 6, 'title': '가격이없음', 'writer': '김길동'},\\n {'no': 5, 'title': '가격이숫자', 'writer': '신길동', 'price': 900},\\n {'no': 3, 'title': '흔한남매 19', 'writer': '백난도', 'price': '14220'},\\n {'no': 2, 'title': '단 한 번의 삶', 'writer': '김영하', 'price': '18,100'},\\n {'no': 1, 'title': '강남 아파트 인사이트', 'writer': '오스틀', 'price': '25,200'}]\\nbooks\",\n",
       " '_29': [{'no': 1, 'title': '강남 아파트 인사이트', 'writer': '오스틀', 'price': '25,200'},\n",
       "  {'no': 2, 'title': '단 한 번의 삶', 'writer': '김영하', 'price': '18,100'},\n",
       "  {'no': 3, 'title': '흔한남매 19', 'writer': '백난도', 'price': '14220'},\n",
       "  {'no': 4, 'title': '가격이잘못', 'writer': '홍길동', 'price': '-'},\n",
       "  {'no': 5, 'title': '가격이숫자', 'writer': '신길동', 'price': 900},\n",
       "  {'no': 6, 'title': '가격이없음', 'writer': '김길동'}],\n",
       " '_i30': '# 함수를 return\\ndef make_box(shape): # shape : [L]=> len가 L인 list를 생성하는 함수 return,',\n",
       " '_i31': '# 함수를 return\\ndef make_box(shape):   # shape : [L]=> len가 L인 list를 생성하는 함수 return,\\n#                                [r,c] => r행 c열인 2차원 list를 생성하는 함수 return\\n    def box(init_value):\\n        if len(shape)==1:\\n            return [init_value]*shape[0]\\n        elif len(shape)==2:\\n            return [[init_value]*shape[1]] * shape[0]\\n    return box',\n",
       " 'make_box': <function __main__.make_box(shape)>,\n",
       " '_i32': 'line_func = make_box([2,3])',\n",
       " 'line_func': <function __main__.make_box.<locals>.box(init_value)>,\n",
       " '_i33': 'line_func = make_box([2,3])\\nline_func(3)',\n",
       " '_33': [[3, 3, 3], [3, 3, 3]],\n",
       " '_i34': 'line_func1 = make_box([10])\\nline_func1(3)',\n",
       " 'line_func1': <function __main__.make_box.<locals>.box(init_value)>,\n",
       " '_34': [3, 3, 3, 3, 3, 3, 3, 3, 3, 3],\n",
       " '_i35': '# 람다식을 return\\ndef make_box(shape):\\n    if len(shape)==1:\\n        return lambda init_value : [init_value]*shape[0]\\n    else len(shape)==2:\\n        return lambda init_value : [ [init_value]*shape[1] * shape[0]',\n",
       " '_i36': '# 함수를 return\\ndef make_box(shape):   # shape : [L]=> len가 L인 list를 생성하는 함수 return,\\n#                                [r,c] => r행 c열인 2차원 list를 생성하는 함수 return\\n    def box(init_value):\\n        if len(shape)==1:\\n            return [init_value]*shape[0]\\n        elif len(shape)==2:\\n            return [[init_value]*shape[1]] * shape[0]\\n    return box',\n",
       " '_i37': '# 람다식을 return\\ndef make_box(shape):\\n    if len(shape)==1:\\n        return lambda init_value : [init_value]*shape[0]\\n    else len(shape)==2:\\n        return lambda init_value : [ [init_value]*shape[1] * shape[0]',\n",
       " '_i38': 'globals',\n",
       " '_38': <function globals()>,\n",
       " '_i39': 'globals()',\n",
       " '_39': {...},\n",
       " '_i40': 'globals() # 전역변수 리스트'}"
      ]
     },
     "execution_count": 40,
     "metadata": {},
     "output_type": "execute_result"
    }
   ],
   "source": [
    "globals() # 전역변수 리스트 : o로 내용 확장 가능"
   ]
  },
  {
   "cell_type": "code",
   "execution_count": 41,
   "id": "4af9954d",
   "metadata": {},
   "outputs": [
    {
     "data": {
      "text/plain": [
       "False"
      ]
     },
     "execution_count": 41,
     "metadata": {},
     "output_type": "execute_result"
    }
   ],
   "source": [
    "all([True, True, False]) # 전부 True 인지 여부"
   ]
  },
  {
   "cell_type": "code",
   "execution_count": 42,
   "id": "40452e00",
   "metadata": {},
   "outputs": [
    {
     "data": {
      "text/plain": [
       "4"
      ]
     },
     "execution_count": 42,
     "metadata": {},
     "output_type": "execute_result"
    }
   ],
   "source": [
    "round(3.5) # 반올림"
   ]
  },
  {
   "cell_type": "code",
   "execution_count": 47,
   "id": "94501dd9",
   "metadata": {},
   "outputs": [
    {
     "data": {
      "text/plain": [
       "(4.0, 4.0, 3.0)"
      ]
     },
     "execution_count": 47,
     "metadata": {},
     "output_type": "execute_result"
    }
   ],
   "source": [
    "import numpy as np # numpy 모듈을 np라는 이름으로 load\n",
    "np.round(3.5), np.ceil(3.1), np.floor(3.9) # 반올림, 올림, 내림"
   ]
  },
  {
   "cell_type": "markdown",
   "id": "38480f94",
   "metadata": {},
   "source": [
    "# 6절. 연습문제\n",
    "## 실습형"
   ]
  },
  {
   "cell_type": "code",
   "execution_count": 2,
   "id": "64811fba",
   "metadata": {},
   "outputs": [
    {
     "data": {
      "text/plain": [
       "(6, 1)"
      ]
     },
     "execution_count": 2,
     "metadata": {},
     "output_type": "execute_result"
    }
   ],
   "source": [
    "# 1. 코드 실행 결과\n",
    "# 함수의 인자로 리스트를 받은 후 리스트 내에 있는 모든 정수값에 대한 최대값과 최소값을 리턴하는 함수를 작성하세요\n",
    "# •def get_max_min(data_list):\n",
    "# •get_max_min= lambda ~\n",
    "\n",
    "def get_max_min(data_list):\n",
    "    return max(data_list), min(data_list)\n",
    "\n",
    "get_max_min = lambda data_list : (max(data_list), min(data_list))\n",
    "get_max_min([1,2,3,4,5,6,])"
   ]
  },
  {
   "cell_type": "code",
   "execution_count": 3,
   "id": "3b4382c3",
   "metadata": {},
   "outputs": [
    {
     "name": "stdout",
     "output_type": "stream",
     "text": [
      "표준\n",
      "표준\n"
     ]
    }
   ],
   "source": [
    "# 2. 체질량 지수(Body Mass Index, BMI)는 체중과 키를 이용해 비만도를 나타내는 지수로 아래의 수식에 의해 계산됩니다. 함수의 인자로 체중(kg)과 신장(m)를입력받은 후 BMI값에 따라 ‘마른 체형‘, ‘표준‘, ‘비만‘, ‘고도비만‘ 중 하나의 상태를 출력하는 함수를 구현해 보세요.\n",
    "# • getBMI(kg, m):\n",
    "# • BMI지수 = 체중(kg) / 신장(m)의 제곱\n",
    "# • BMI<18.5 : 마른체형\n",
    "# • 18.5<=BMI<25 : 표준\n",
    "# • 25<=BMI<30 : 비만\n",
    "# • BMI >=30 : 고도비만\n",
    "\n",
    "# 실습형2. 체중과 키를 입력받아 BMI지수에 따른\n",
    "    #‘마른 체형‘, ‘표준‘, ‘비만‘, ‘고도비만‘ 중 하나의 상태를 출력하는 함수\n",
    "def getBMI(kg, m):\n",
    "    bmi = kg / (m**2) # kg / m**2 동일\n",
    "    if bmi < 18.5:\n",
    "        print('마른체형')\n",
    "    elif 18.5 <= bmi < 25:\n",
    "        print('표준')\n",
    "    elif 25 <= bmi < 30:\n",
    "        print('비만')\n",
    "    else:\n",
    "        print('고도비만')\n",
    "\n",
    "getBMI_lambda = lambda kg, m : '마른체형' if kg / (m**2) < 18.5 else \\\n",
    "                        '표준' if 18.5 <= kg / (m**2) < 25 else \\\n",
    "                        '비만' if 25 <= kg / (m**2) < 30 else \\\n",
    "                        '고도비만'\n",
    "getBMI(70, 1.75)\n",
    "print(getBMI_lambda(70, 1.75))\n",
    "\n"
   ]
  },
  {
   "cell_type": "code",
   "execution_count": 4,
   "id": "6b8e3c63",
   "metadata": {},
   "outputs": [
    {
     "data": {
      "text/plain": [
       "{'넓이': 6.0, '둘레': 12.0}"
      ]
     },
     "execution_count": 4,
     "metadata": {},
     "output_type": "execute_result"
    }
   ],
   "source": [
    "# 3. 직각삼각형의 밑변과 높이를 입력받은 후 삼각형의 면적과 둘레를 계산하는 함수를 작성하세요\n",
    "# • 리턴값은 면적과 둘레를 return하도록 구현하세요\n",
    "# • math.sqrt() : 제곱근을 구하는 함수이용 (ex)math.sqrt(25) : 5.0\n",
    "# • def get_triangle(width, height):\n",
    "\n",
    "# 실습형 3. 직각삼각형의 width, height로 area, perimeter(둘레)를 return\n",
    "import math\n",
    "def get_triangle(width, height):\n",
    "    area = width * height * 0.5\n",
    "    perimeter = width + height + math.sqrt(width*width + height*height)\n",
    "    return {'넓이':area, '둘레':perimeter}\n",
    " # math 모듈을 사용하라고 하지만 구현능력을 위해 하드코딩이라고 함(훈련생 曰)\n",
    "get_triangle_lambda = lambda width, height : {\n",
    "        '넓이':width * height * 0.5,\n",
    "        '둘레':width + height + (width*width + height*height)**0.5\n",
    "}\n",
    "get_triangle(3,4)\n",
    "\n"
   ]
  },
  {
   "cell_type": "code",
   "execution_count": 5,
   "id": "5ce4284c",
   "metadata": {},
   "outputs": [
    {
     "data": {
      "text/plain": [
       "5.0"
      ]
     },
     "execution_count": 5,
     "metadata": {},
     "output_type": "execute_result"
    }
   ],
   "source": [
    "# 4.함수의 인자로 시작과 끝 숫자가 주어질 때 시작부터 끝까지의 모든 정수값의 합을 리턴하는 함수를 작성하세요(시작값과 끝값 포함).\n",
    "# • def mysum(from, end):\n",
    "\n",
    "import math\n",
    "math.sqrt(25)\n"
   ]
  },
  {
   "cell_type": "code",
   "execution_count": 8,
   "id": "9ce17e01",
   "metadata": {},
   "outputs": [
    {
     "name": "stdout",
     "output_type": "stream",
     "text": [
      "['Seo', 'Dae', 'Kwa', 'Jej']\n",
      "['Seo', 'Dae', 'Kwa', 'Jej']\n"
     ]
    }
   ],
   "source": [
    "# 5. 함수의인자로 문자열을 포함하는 리스트가 입력될 때 각 문자열의 첫 세글자로만 구성된 리스트를 리턴하는 함수와 람다식을 작성하세요\n",
    "# • 예를 들어 함수의 입력으로 [‘Seoul’, ‘Daegu’, ‘Kwangju’, ‘Jeju’]가 입력될 때 함수의 리턴값은 [‘Seo’, ‘Dae’, ‘Kwa’,’Jej’]\n",
    "# • def get_abbrs(lst):\n",
    "\n",
    "test = ['Seoul', 'Daegu', 'Kwangju', 'Jeju']\n",
    "def get_abbrs(lst):\n",
    "    return [x[:3] for x in lst]\n",
    "\n",
    "print(get_abbrs(test)) # 일반 함수 이용\n",
    "print((lambda l : [x[:3] for x in l])(test)) #람다식 이용"
   ]
  },
  {
   "cell_type": "code",
   "execution_count": 9,
   "id": "cf7ef319",
   "metadata": {},
   "outputs": [
    {
     "name": "stdout",
     "output_type": "stream",
     "text": [
      "8\n",
      "8\n"
     ]
    }
   ],
   "source": [
    "# 6. 다음 코드를 람다 함수 형태로 수정할 때 알맞은 코드를 작성하시오\n",
    "fun = lambda x, y : x**y\n",
    "print(fun(2, 3))\n",
    "print((lambda x, y : x**y)(2,3))"
   ]
  },
  {
   "cell_type": "code",
   "execution_count": 12,
   "id": "f4edd4f8",
   "metadata": {},
   "outputs": [
    {
     "data": {
      "text/plain": [
       "[1, 4, 9, 16, 25]"
      ]
     },
     "execution_count": 12,
     "metadata": {},
     "output_type": "execute_result"
    }
   ],
   "source": [
    "# 7. ex = [1,2,3,4,5]를 [1,4,9,16,25]의 결과를 얻을 수 있도록 람다함수와 map()함수를 사용하여 구현과 리스트 컴프리헨션으로 구현하시오\n",
    "\n",
    "[x**2 for x in ex]"
   ]
  },
  {
   "cell_type": "code",
   "execution_count": 13,
   "id": "eecf5e16",
   "metadata": {},
   "outputs": [
    {
     "name": "stdout",
     "output_type": "stream",
     "text": [
      "1 2 3\n",
      "[1, 2, 3]\n"
     ]
    }
   ],
   "source": [
    "# 8. 다음코드를 각각 실행하면 서로 다른 결과가 나온다. 이런 결과가 나오는 이유를 서술하시오\n",
    "a = [1,2,3]\n",
    "print(*a)\n",
    "print(a)\n",
    "answer=\"\"\"\n",
    "별표(asterisk, *)는 함수의 인자(argument)로 사용될 때, \n",
    "시퀀스형 자료형의 각각의 값(element)을 하나의 값(element)으로 넣어주게 된다(언패킹)\n",
    "그러므로 print(*a)의 의미는 사실 print(a[0], a[1], a[2])으로 나타나게 된다.\n",
    "\"\"\""
   ]
  },
  {
   "cell_type": "code",
   "execution_count": 3,
   "id": "8b31dceb",
   "metadata": {},
   "outputs": [
    {
     "data": {
      "text/plain": [
       "'2019-09-06'"
      ]
     },
     "execution_count": 3,
     "metadata": {},
     "output_type": "execute_result"
    }
   ],
   "source": [
    "# 9. 다음 코드의 실행 결과는?\n",
    "date_info = {'year':'2019', 'month':'9', 'day':'6'}\n",
    "# result = \"{year}-{month}-{day}\".format(**date_info)\n",
    "# result = \"{year}-{month}-{day}\".format(year='2019', month=9, day=6)\n",
    "# '2024-09-06을 원하면'\n",
    "result = \"{year}-{month:>02}-{day:>02}\".format(**date_info) # :>02 로 형식 변경해서 처리\n",
    "result"
   ]
  },
  {
   "cell_type": "code",
   "execution_count": 4,
   "id": "5ad99a70",
   "metadata": {},
   "outputs": [
    {
     "data": {
      "text/plain": [
       "'2019-9-6'"
      ]
     },
     "execution_count": 4,
     "metadata": {},
     "output_type": "execute_result"
    }
   ],
   "source": [
    "date_info = {'year':'2019', 'month':9, 'day':6}\n",
    "result = \"{year}-{month}-{day}\".format(**date_info)\n",
    "# result = \"{year}-{month}-{day}\".format(year='2019', month=9, day=6)\n",
    "# '2024-09-06을 원하면'\n",
    "#result = \"{year}-{month:02}-{day:02}\".format(**date_info)\n",
    "result"
   ]
  },
  {
   "cell_type": "code",
   "execution_count": 18,
   "id": "f4754ab3",
   "metadata": {},
   "outputs": [
    {
     "data": {
      "text/plain": [
       "[2, 2, 2, 2]"
      ]
     },
     "execution_count": 18,
     "metadata": {},
     "output_type": "execute_result"
    }
   ],
   "source": [
    "# 10. n개의 벡터(리스트나 튜플, 셋등)의 크기들이 같은지 여부를 reutrn하는 \n",
    "# vector_size_check(*vector _var) 를 한 줄의 코드(리스트 컴프리헨션 이용)로 작성하시오.\n",
    "\n",
    "def vector_size(*vector_var):\n",
    "    result = []\n",
    "    for vector in vector_var:\n",
    "        result.append(len(vector))\n",
    "    return result\n",
    "\n",
    "def vector_size(*vector_var):\n",
    "    return [len(vector) for vector in vector_var]\n",
    "\n",
    "vector_size([10, 20], (100, 200), {'name':'홍', 'age':20}, {1, 2})"
   ]
  },
  {
   "cell_type": "code",
   "execution_count": 19,
   "id": "29eefb90",
   "metadata": {},
   "outputs": [
    {
     "data": {
      "text/plain": [
       "True"
      ]
     },
     "execution_count": 19,
     "metadata": {},
     "output_type": "execute_result"
    }
   ],
   "source": [
    "# 원래 실습형 10. \n",
    "# 입력받은 n개의 벡터(리스트나 튜플이나 셋)의 크기들이 모두 같은지 여부 return : 셋 이용\n",
    "def vector_size_check(*vector_var):\n",
    "    result = set()\n",
    "    for vector in vector_var:\n",
    "        result.add(len(vector))\n",
    "    return len(result)==1\n",
    "def vector_size_check(*vector_var):\n",
    "    return len(set([len(vector) for vector in vector_var]))==1\n",
    "vector_size_check([10, 20], (100,200), {'name':'홍', 'age':20}, {1, 2})"
   ]
  },
  {
   "cell_type": "code",
   "execution_count": 20,
   "id": "78a723a9",
   "metadata": {},
   "outputs": [
    {
     "data": {
      "text/plain": [
       "False"
      ]
     },
     "execution_count": 20,
     "metadata": {},
     "output_type": "execute_result"
    }
   ],
   "source": [
    "vector_size_check([10, 20], (100,), {'name':'홍', 'age':20}, {1, 2})"
   ]
  },
  {
   "cell_type": "code",
   "execution_count": 6,
   "id": "53d34c00",
   "metadata": {},
   "outputs": [
    {
     "data": {
      "text/plain": [
       "True"
      ]
     },
     "execution_count": 6,
     "metadata": {},
     "output_type": "execute_result"
    }
   ],
   "source": [
    "# 입력받은 n개의 벡터(리스트나 튜플이나 셋)의 크기들이 모두 같은지 여부 return : all이용\n",
    "def vector_size_check(*vector_var):\n",
    "    result = []\n",
    "    for vector in vector_var:\n",
    "        result.append(len(vector))\n",
    "    return all(result)\n",
    "\n",
    "def vector_size_check(*vector_var):\n",
    "    return all([len(vector) for vector in vector_var])\n",
    "vector_size_check([10, 20], (100,200), {'name':'홍', 'age':20}, {1, 2})"
   ]
  },
  {
   "cell_type": "code",
   "execution_count": 17,
   "id": "4d475f0e",
   "metadata": {},
   "outputs": [
    {
     "data": {
      "text/plain": [
       "[5, 10, 15, 20]"
      ]
     },
     "execution_count": 17,
     "metadata": {},
     "output_type": "execute_result"
    }
   ],
   "source": [
    "# 11. 다음과 같은 결과를 얻기 위해 하나의 스칼라값을 리스트나 튜플, 셋등 벡터에 곱하는 코드를 작성하시오.(단 입력되는 벡터의 크기는 일정하지 않음)\n",
    "def scalar_vector_product(num, vector):\n",
    "    return [num*vec for vec in vector]\n",
    "scalar_vector_product(5, [1,2,3,4])"
   ]
  },
  {
   "cell_type": "markdown",
   "id": "6b425d9c",
   "metadata": {},
   "source": [
    "# 서술형"
   ]
  },
  {
   "cell_type": "code",
   "execution_count": 51,
   "id": "a7a8c959",
   "metadata": {},
   "outputs": [
    {
     "data": {
      "text/plain": [
       "[(4, 'a'), (3, 'b'), (2, 'c'), (1, 'd')]"
      ]
     },
     "execution_count": 51,
     "metadata": {},
     "output_type": "execute_result"
    }
   ],
   "source": [
    "# 1. \n",
    "pairs = [(1,'d'), (2, 'c'), (3,'b'), (4, 'a')]\n",
    "pairs.sort(key=lambda pair : pair[1])\n",
    "pairs\n",
    "\n",
    "# 2번"
   ]
  },
  {
   "cell_type": "code",
   "execution_count": 22,
   "id": "b6f423be",
   "metadata": {},
   "outputs": [
    {
     "data": {
      "text/plain": [
       "[(4, 'a'), (3, 'b'), (2, 'c'), (1, 'd')]"
      ]
     },
     "execution_count": 22,
     "metadata": {},
     "output_type": "execute_result"
    }
   ],
   "source": [
    "# 서술형 1 ②\n",
    "pairs = [(1, 'd'),(2, 'c'),(3,'b'),(4,'a')]\n",
    "pairs.sort(key=lambda pair : pair[1])\n",
    "pairs"
   ]
  },
  {
   "cell_type": "code",
   "execution_count": 99,
   "id": "98ddbfae",
   "metadata": {},
   "outputs": [
    {
     "name": "stdout",
     "output_type": "stream",
     "text": [
      "612613\n",
      "13\n"
     ]
    }
   ],
   "source": [
    "# 2.\n",
    "a = 10\n",
    "def sub():\n",
    "#   global a에 의해 전역 a는 다시 1 증가\n",
    "    global a # 렉시컬변수\n",
    "    a += 1\n",
    "    print(a, end='')\n",
    "\n",
    "def func():\n",
    "    for i in range(2):\n",
    "        a = 5\n",
    "        a  += 1\n",
    "        print(a, end='')\n",
    "        sub()\n",
    "    \n",
    "a += 1\n",
    "func()\n",
    "print()\n",
    "print(a)"
   ]
  },
  {
   "cell_type": "code",
   "execution_count": 23,
   "id": "fb4d9681",
   "metadata": {},
   "outputs": [
    {
     "name": "stdout",
     "output_type": "stream",
     "text": [
      "6(func에서 a는 지역변수) 11(sub에서 a는 전역변수) 6(func에서 a는 지역변수) 12(sub에서 a는 전역변수) "
     ]
    }
   ],
   "source": [
    "# 2. 선생님\n",
    "a = 10 # 전역변수\n",
    "def sub():\n",
    "    global a # 문제해결을 위한 코드\n",
    "    a += 1\n",
    "    print(a, end='(sub에서 a는 전역변수) ')\n",
    "def func():\n",
    "    for i in range(2):\n",
    "        a = 5 # 지역변수\n",
    "        a += 1\n",
    "        print(a, end='(func에서 a는 지역변수) ')\n",
    "        sub()\n",
    "func()\n",
    "answer ='''\n",
    "오류가 발생하는 라인 : 원래 3번째줄(a += 1부분)\n",
    "a = a+1 : a에 값을 할당하면 지역변수가 됨\n",
    "          지역변수 a+1를 계산할 수 없음\n",
    "문제해결을 위해 : 에러나는 줄 앞에 global a 선언\n",
    "'''"
   ]
  },
  {
   "cell_type": "code",
   "execution_count": 56,
   "id": "5709f950",
   "metadata": {},
   "outputs": [
    {
     "name": "stdout",
     "output_type": "stream",
     "text": [
      "100\n"
     ]
    }
   ],
   "source": [
    "# 3.\n",
    "var = 100\n",
    "def func(var):\n",
    "    var = 200\n",
    "func(var)\n",
    "print(var)\n",
    "\n",
    "# 100"
   ]
  },
  {
   "cell_type": "code",
   "execution_count": 24,
   "id": "df494c78",
   "metadata": {},
   "outputs": [
    {
     "name": "stdout",
     "output_type": "stream",
     "text": [
      "100\n"
     ]
    }
   ],
   "source": [
    "var = 100\n",
    "def func(var): # 매개변수로 들어온 변수는 지역변수\n",
    "    var = 200  # 그러므로 var는 전역변수가 아니고 지역변수\n",
    "func(var)\n",
    "print(var)"
   ]
  },
  {
   "cell_type": "code",
   "execution_count": 8,
   "id": "dec9eddf",
   "metadata": {},
   "outputs": [
    {
     "data": {
      "text/plain": [
       "5"
      ]
     },
     "execution_count": 8,
     "metadata": {},
     "output_type": "execute_result"
    }
   ],
   "source": [
    "# 4.\n",
    "\n",
    "def my_func(func, *args):\n",
    "    return func(*args)\n",
    "import numpy as np\n",
    "my_func(np.add, 2, 3)\n"
   ]
  },
  {
   "cell_type": "code",
   "execution_count": 9,
   "id": "66401604",
   "metadata": {},
   "outputs": [
    {
     "data": {
      "text/plain": [
       "6"
      ]
     },
     "execution_count": 9,
     "metadata": {},
     "output_type": "execute_result"
    }
   ],
   "source": [
    "def my_func(func, *args):\n",
    "    return func(*args)\n",
    "import numpy as np\n",
    "my_func(np.add, 3, 3)"
   ]
  },
  {
   "cell_type": "code",
   "execution_count": 62,
   "id": "17bc5bcb",
   "metadata": {},
   "outputs": [
    {
     "data": {
      "text/plain": [
       "9"
      ]
     },
     "execution_count": 62,
     "metadata": {},
     "output_type": "execute_result"
    }
   ],
   "source": [
    "# 5.\n",
    "\n",
    "def my_func(func, *args):\n",
    "    return func(*args)\n",
    "my_func(lambda a, b : a**b, 3, 2) #람다로 변형\n",
    "\n",
    "# 9"
   ]
  },
  {
   "cell_type": "code",
   "execution_count": 26,
   "id": "8098a5fd",
   "metadata": {},
   "outputs": [
    {
     "data": {
      "text/plain": [
       "5"
      ]
     },
     "execution_count": 26,
     "metadata": {},
     "output_type": "execute_result"
    }
   ],
   "source": [
    "np.add(2, 3)"
   ]
  },
  {
   "cell_type": "code",
   "execution_count": null,
   "id": "617d1313",
   "metadata": {},
   "outputs": [],
   "source": [
    "# 6. \n",
    "# 파이썬 함수에 대한 설명 중 잘못된 것은?\n",
    "# ① 파이썬의 함수는 중복 정의해 사용할 수 있다.\n",
    "# ② 파이썬의 함수 매개변수는 기본값을 가질 수 있다.\n",
    "# ③ **args 형식의 매개변수가 있으면 키워드 인수는 딕셔너리 형식으로 받는다.\n",
    "# ④ 함수를 호출할 때 매개변수 이름이 없는 인수는 매개변수 이름이 있는 인수보다 앞에 와야 한다.\n",
    "\n",
    "# 4\n",
    "# 마지막 정의된 함수로 덮어쓰기 된다.\n"
   ]
  },
  {
   "cell_type": "code",
   "execution_count": 10,
   "id": "dbb23bd9",
   "metadata": {},
   "outputs": [
    {
     "data": {
      "text/plain": [
       "[30]"
      ]
     },
     "execution_count": 10,
     "metadata": {},
     "output_type": "execute_result"
    }
   ],
   "source": [
    "# 7.\n",
    "\n",
    "list_ = []\n",
    "def func(a, L=None):\n",
    "    if L is None:\n",
    "        L=[]\n",
    "    L.append(a)\n",
    "    return L\n",
    "\n",
    "func(10, list_)\n",
    "func(20,L=list_)\n",
    "func(a=30)\n",
    "# func([], a=40)  <== 요넘이 범인!\n"
   ]
  },
  {
   "cell_type": "code",
   "execution_count": 27,
   "id": "c6653143",
   "metadata": {},
   "outputs": [
    {
     "name": "stdout",
     "output_type": "stream",
     "text": [
      "① [10]\n",
      "② [10, 20]\n",
      "③ [30]\n"
     ]
    }
   ],
   "source": [
    "# 선생님\n",
    "\n",
    "list_ = []\n",
    "def func(a, L=None):\n",
    "    if L is None:\n",
    "        L = []\n",
    "    L.append(a)\n",
    "    return L\n",
    "print('①',func(10, list_))\n",
    "print('②',func(20, L=list_))\n",
    "print('③',func(a=30))\n",
    "# func([], a=40)이라고 하면 우선 첫번째 매개변수를 순서인수 a에 할당하고\n",
    "#          a=40을 중복할 당함 (에러 메세지 아래와 같음"
   ]
  },
  {
   "cell_type": "code",
   "execution_count": null,
   "id": "795f74c3",
   "metadata": {},
   "outputs": [],
   "source": [
    "# 8.\n",
    "# 작은 익명함수를 의미\n",
    "# 함수가 실행할 문장이 한 문장일 경우에 만들어 사용할 수 있습니다.\n",
    "# 다른 함수의 인수 또는 리턴값에 사용될 수 있습니다.\n",
    "\n",
    "# 키워드는 => lambda"
   ]
  }
 ],
 "metadata": {
  "kernelspec": {
   "display_name": "Python 3 (ipykernel)",
   "language": "python",
   "name": "python3"
  },
  "language_info": {
   "codemirror_mode": {
    "name": "ipython",
    "version": 3
   },
   "file_extension": ".py",
   "mimetype": "text/x-python",
   "name": "python",
   "nbconvert_exporter": "python",
   "pygments_lexer": "ipython3",
   "version": "3.10.9"
  },
  "toc": {
   "base_numbering": 1,
   "nav_menu": {},
   "number_sections": false,
   "sideBar": true,
   "skip_h1_title": false,
   "title_cell": "Table of Contents",
   "title_sidebar": "Contents",
   "toc_cell": false,
   "toc_position": {
    "height": "calc(100% - 180px)",
    "left": "10px",
    "top": "150px",
    "width": "237.188px"
   },
   "toc_section_display": true,
   "toc_window_display": true
  }
 },
 "nbformat": 4,
 "nbformat_minor": 5
}
