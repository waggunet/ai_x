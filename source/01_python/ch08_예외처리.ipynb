{
 "cells": [
  {
   "cell_type": "code",
   "execution_count": 1,
   "id": "f49014f4",
   "metadata": {},
   "outputs": [
    {
     "data": {
      "text/html": [
       "\n",
       "<style>\n",
       "div.container{width:86% !important;}\n",
       "div.cell.code_cell.rendered{width:100%;}\n",
       "div.CodeMirror {font-family:Consolas; font-size:10pt;}\n",
       "div.output {font-size:12pt; font-weight:bold;}\n",
       "div.input {font-family:Consolas; font-size:10pt;}\n",
       "div.prompt {min-width:70px;}\n",
       "div#toc-wrapper{padding-top:120px;}\n",
       "div.text_cell_render ul li{font-size:10pt;padding:5px;}\n",
       "table.dataframe{font-size:15px;\n",
       "</style>\n"
      ],
      "text/plain": [
       "<IPython.core.display.HTML object>"
      ]
     },
     "metadata": {},
     "output_type": "display_data"
    }
   ],
   "source": [
    "# 매 강의 시작시마다 동일하게 처리해야 함\n",
    "from IPython.display import display, HTML\n",
    "display(HTML(\"\"\"\n",
    "<style>\n",
    "div.container{width:86% !important;}\n",
    "div.cell.code_cell.rendered{width:100%;}\n",
    "div.CodeMirror {font-family:Consolas; font-size:10pt;}\n",
    "div.output {font-size:12pt; font-weight:bold;}\n",
    "div.input {font-family:Consolas; font-size:10pt;}\n",
    "div.prompt {min-width:70px;}\n",
    "div#toc-wrapper{padding-top:120px;}\n",
    "div.text_cell_render ul li{font-size:10pt;padding:5px;}\n",
    "table.dataframe{font-size:15px;\n",
    "</style>\n",
    "\"\"\"))"
   ]
  },
  {
   "cell_type": "markdown",
   "id": "e6850fba",
   "metadata": {},
   "source": [
    "<b><font size=\"5\" color=\"red\">ch08. 예외처리</font></b>\n",
    "# 1절. 예외처리\n",
    "- 예외가 날 가능성이 있는 부분에 대해 미리 예상하고, 그에 대한 처리를 프로그램하는 것(이유 : 좀 더 안정적으로 실행)\n",
    "```\n",
    "ex. 파일을 다룰 때 : 파일이 없거나, 쓰기금지로 인한 오류\n",
    "ex. 데이터베이스 프로그램시 제약조건 등으로 CRUD(CREATE, READ, UPDATE, DELETE)\n",
    "ex. 네트워크 프로그래밍시 일시적인 네트워크 장애시 연결 실패 오류\n",
    "ex. 리스트나 튜플의 인덱스를 벗어난 오류\n"
   ]
  },
  {
   "cell_type": "code",
   "execution_count": 5,
   "id": "b101d275",
   "metadata": {},
   "outputs": [
    {
     "name": "stdout",
     "output_type": "stream",
     "text": [
      "파일명은(ch08.txt)?sdf\n"
     ]
    },
    {
     "ename": "FileNotFoundError",
     "evalue": "[Errno 2] No such file or directory: 'data/sdf'",
     "output_type": "error",
     "traceback": [
      "\u001b[1;31m---------------------------------------------------------------------------\u001b[0m",
      "\u001b[1;31mFileNotFoundError\u001b[0m                         Traceback (most recent call last)",
      "Cell \u001b[1;32mIn[5], line 2\u001b[0m\n\u001b[0;32m      1\u001b[0m filename \u001b[38;5;241m=\u001b[39m \u001b[38;5;28minput\u001b[39m(\u001b[38;5;124m'\u001b[39m\u001b[38;5;124m파일명은(ch08.txt)?\u001b[39m\u001b[38;5;124m'\u001b[39m)\n\u001b[1;32m----> 2\u001b[0m f \u001b[38;5;241m=\u001b[39m \u001b[38;5;28;43mopen\u001b[39;49m\u001b[43m(\u001b[49m\u001b[38;5;124;43m'\u001b[39;49m\u001b[38;5;124;43mdata/\u001b[39;49m\u001b[38;5;124;43m'\u001b[39;49m\u001b[38;5;241;43m+\u001b[39;49m\u001b[43mfilename\u001b[49m\u001b[43m,\u001b[49m\u001b[43m \u001b[49m\u001b[38;5;124;43m'\u001b[39;49m\u001b[38;5;124;43mr\u001b[39;49m\u001b[38;5;124;43m'\u001b[39;49m\u001b[43m)\u001b[49m \u001b[38;5;66;03m# 읽기 전용으로 파일열기 'r' (쓰기는 'w')\u001b[39;00m\n\u001b[0;32m      3\u001b[0m \u001b[38;5;28mprint\u001b[39m(f\u001b[38;5;241m.\u001b[39mread())\n\u001b[0;32m      4\u001b[0m f\u001b[38;5;241m.\u001b[39mclose()\n",
      "File \u001b[1;32m~\\anaconda3\\lib\\site-packages\\IPython\\core\\interactiveshell.py:282\u001b[0m, in \u001b[0;36m_modified_open\u001b[1;34m(file, *args, **kwargs)\u001b[0m\n\u001b[0;32m    275\u001b[0m \u001b[38;5;28;01mif\u001b[39;00m file \u001b[38;5;129;01min\u001b[39;00m {\u001b[38;5;241m0\u001b[39m, \u001b[38;5;241m1\u001b[39m, \u001b[38;5;241m2\u001b[39m}:\n\u001b[0;32m    276\u001b[0m     \u001b[38;5;28;01mraise\u001b[39;00m \u001b[38;5;167;01mValueError\u001b[39;00m(\n\u001b[0;32m    277\u001b[0m         \u001b[38;5;124mf\u001b[39m\u001b[38;5;124m\"\u001b[39m\u001b[38;5;124mIPython won\u001b[39m\u001b[38;5;124m'\u001b[39m\u001b[38;5;124mt let you open fd=\u001b[39m\u001b[38;5;132;01m{\u001b[39;00mfile\u001b[38;5;132;01m}\u001b[39;00m\u001b[38;5;124m by default \u001b[39m\u001b[38;5;124m\"\u001b[39m\n\u001b[0;32m    278\u001b[0m         \u001b[38;5;124m\"\u001b[39m\u001b[38;5;124mas it is likely to crash IPython. If you know what you are doing, \u001b[39m\u001b[38;5;124m\"\u001b[39m\n\u001b[0;32m    279\u001b[0m         \u001b[38;5;124m\"\u001b[39m\u001b[38;5;124myou can use builtins\u001b[39m\u001b[38;5;124m'\u001b[39m\u001b[38;5;124m open.\u001b[39m\u001b[38;5;124m\"\u001b[39m\n\u001b[0;32m    280\u001b[0m     )\n\u001b[1;32m--> 282\u001b[0m \u001b[38;5;28;01mreturn\u001b[39;00m io_open(file, \u001b[38;5;241m*\u001b[39margs, \u001b[38;5;241m*\u001b[39m\u001b[38;5;241m*\u001b[39mkwargs)\n",
      "\u001b[1;31mFileNotFoundError\u001b[0m: [Errno 2] No such file or directory: 'data/sdf'"
     ]
    }
   ],
   "source": [
    "filename = input('파일명은(ch08.txt)?')\n",
    "f = open('data/'+filename, 'r') # 읽기 전용으로 파일열기 'r' (쓰기는 'w')\n",
    "print(f.read())\n",
    "f.close()"
   ]
  },
  {
   "cell_type": "code",
   "execution_count": 6,
   "id": "5dc5c745",
   "metadata": {},
   "outputs": [
    {
     "ename": "ZeroDivisionError",
     "evalue": "division by zero",
     "output_type": "error",
     "traceback": [
      "\u001b[1;31m---------------------------------------------------------------------------\u001b[0m",
      "\u001b[1;31mZeroDivisionError\u001b[0m                         Traceback (most recent call last)",
      "Cell \u001b[1;32mIn[6], line 1\u001b[0m\n\u001b[1;32m----> 1\u001b[0m \u001b[38;5;241;43m4\u001b[39;49m\u001b[38;5;241;43m/\u001b[39;49m\u001b[38;5;241;43m0\u001b[39;49m\n",
      "\u001b[1;31mZeroDivisionError\u001b[0m: division by zero"
     ]
    }
   ],
   "source": [
    "4/0"
   ]
  },
  {
   "cell_type": "code",
   "execution_count": 7,
   "id": "8f99f6fa",
   "metadata": {},
   "outputs": [
    {
     "ename": "IndexError",
     "evalue": "list index out of range",
     "output_type": "error",
     "traceback": [
      "\u001b[1;31m---------------------------------------------------------------------------\u001b[0m",
      "\u001b[1;31mIndexError\u001b[0m                                Traceback (most recent call last)",
      "Cell \u001b[1;32mIn[7], line 2\u001b[0m\n\u001b[0;32m      1\u001b[0m a \u001b[38;5;241m=\u001b[39m [\u001b[38;5;241m1\u001b[39m,\u001b[38;5;241m2\u001b[39m,\u001b[38;5;241m3\u001b[39m]\n\u001b[1;32m----> 2\u001b[0m \u001b[43ma\u001b[49m\u001b[43m[\u001b[49m\u001b[38;5;241;43m3\u001b[39;49m\u001b[43m]\u001b[49m\n",
      "\u001b[1;31mIndexError\u001b[0m: list index out of range"
     ]
    }
   ],
   "source": [
    "a = [1,2,3]\n",
    "a[3]"
   ]
  },
  {
   "cell_type": "markdown",
   "id": "934874de",
   "metadata": {},
   "source": [
    "# 2절. try~except로 예외처리\n",
    "## 2.1 try~except\n",
    "\n",
    "```\n",
    "try:\n",
    "    예외가 발생할 가능성이 있는 명령어들\n",
    "except:\n",
    "    예외가 발생했ㅇ르 경우 실행할 명령어들\n",
    "```    "
   ]
  },
  {
   "cell_type": "code",
   "execution_count": 16,
   "id": "1d690d2b",
   "metadata": {},
   "outputs": [
    {
     "name": "stdout",
     "output_type": "stream",
     "text": [
      "정수를 입력하세요 :2\n",
      "x값 입력 받음 2\n",
      "100을 입력한 정수로 나누면 50.000\n",
      "예외가 발생 안됨\n"
     ]
    }
   ],
   "source": [
    "# 100을 입력받은 정수값으로 나눠 출력\n",
    "# ZeroDivisionError: division by zero\n",
    "# ValueError : invalid literal for int() with base 10: 'a'\n",
    "try:\n",
    "    x = int(input('정수를 입력하세요 :'))\n",
    "    print('x값 입력 받음', x)\n",
    "    print('100을 입력한 정수로 나누면 {:.3f}'.format(100/x))\n",
    "    print('예외가 발생 안됨')\n",
    "\n",
    "except:\n",
    "    print('정수가 아닙니다.')"
   ]
  },
  {
   "cell_type": "code",
   "execution_count": 2,
   "id": "7ba45271",
   "metadata": {},
   "outputs": [
    {
     "name": "stdout",
     "output_type": "stream",
     "text": [
      "정수를 입력하세요 :a\n",
      "유효한 정수를 입력하세요.\n",
      "정수를 입력하세요 :0\n",
      "유효한 정수를 입력하세요.\n",
      "정수를 입력하세요 :\n",
      "유효한 정수를 입력하세요.\n",
      "정수를 입력하세요 :2\n",
      "50\n"
     ]
    }
   ],
   "source": [
    "# 100을 나눌 유요한 정수를 입력할 때까지 입력 받아\n",
    "# 유효한 정수를 입력하면, 100을 입력한 수로 나눈 결과를 출력\n",
    "# 나눈 결과가 .0으로 끝나면 정수를 결과로 출력 / .0으로 끝나지 않으면 소수점 2자리까지 출력\n",
    "\n",
    "while True:\n",
    "    try:\n",
    "        x = int(input('정수를 입력하세요 :'))\n",
    "        result = 100/x\n",
    "        result = f\"{100/x:.0f}\" if round(result)==result else f\"{100/x:.2f}\"\n",
    "        print(result)\n",
    "        break\n",
    "    except:\n",
    "        print('유효한 정수를 입력하세요.')\n",
    "# ZeroDivisionError: division by zero\n",
    "# ValueError : invalid literal for int() with base 10: 'a'"
   ]
  },
  {
   "cell_type": "markdown",
   "id": "ad71137f",
   "metadata": {},
   "source": [
    "## 2.2 예외를 지정한 처리\n",
    "```\n",
    "\n",
    "try:\n",
    "    예외가 발생할 수도 있는 문장들 \n",
    "except 예외타입1:\n",
    "    해당 예외가 발생할 경우 실행할 문장\n",
    "except 예외타입2:\n",
    "    해당 예외가 발생할 경우 실행할 문장\n",
    "\n",
    "```"
   ]
  },
  {
   "cell_type": "code",
   "execution_count": 3,
   "id": "f7b04b88",
   "metadata": {},
   "outputs": [
    {
     "name": "stdout",
     "output_type": "stream",
     "text": [
      "정수를 입력하세요 :a\n",
      "유효한 정수를 입력하세요.\n",
      "정수를 입력하세요 :0\n",
      "0으로 나눌 수 없어어.\n",
      "정수를 입력하세요 :0.3\n",
      "유효한 정수를 입력하세요.\n",
      "정수를 입력하세요 :12\n",
      "8.33\n"
     ]
    }
   ],
   "source": [
    "while True:\n",
    "    try:\n",
    "        x = int(input('정수를 입력하세요 :'))\n",
    "        result = 100/x\n",
    "        result = f\"{100/x:.0f}\" if round(result)==result else f\"{100/x:.2f}\"\n",
    "        print(result)\n",
    "        break\n",
    "    except ValueError:\n",
    "        print('유효한 정수를 입력하세요.')\n",
    "    except ZeroDivisionError:\n",
    "        print('0으로 나눌 수 없어어.')\n",
    "    except Exception:\n",
    "        print('다시 시도하세요')\n",
    "    \n",
    "# ZeroDivisionError: division by zero\n",
    "# ValueError : invalid literal for int() with base 10: 'a'"
   ]
  },
  {
   "cell_type": "code",
   "execution_count": 4,
   "id": "843e3a5e",
   "metadata": {},
   "outputs": [
    {
     "name": "stdout",
     "output_type": "stream",
     "text": [
      "정수를 입력하세요 :a\n",
      "유효한 정수를 입력하세요.\n",
      "정수를 입력하세요 :0\n",
      "0으로 나눌 수 없어어.\n",
      "정수를 입력하세요 :12\n",
      "8.33\n"
     ]
    }
   ],
   "source": [
    "while True:\n",
    "    try:\n",
    "        x = int(input('정수를 입력하세요 :'))\n",
    "        result = 100/x\n",
    "        result = f\"{100/x:.0f}\" if round(result)==result else f\"{100/x:.2f}\"\n",
    "        print(result)\n",
    "        break\n",
    "    except ZeroDivisionError:\n",
    "        print('0으로 나눌 수 없어어.')\n",
    "    except ValueError:\n",
    "        print('유효한 정수를 입력하세요.')\n",
    "    except Exception:\n",
    "        print('다시 시도하세요')\n",
    "        \n",
    "# 예외처리의 위치를 옮기더라도 문제없이 실행됨, except가 마지막에 있으므로"
   ]
  },
  {
   "cell_type": "code",
   "execution_count": null,
   "id": "1bf72174",
   "metadata": {},
   "outputs": [],
   "source": [
    "while True:\n",
    "    try:\n",
    "        x = int(input('정수를 입력하세요 :'))\n",
    "        result = 100/x\n",
    "        result = f\"{100/x:.0f}\" if round(result)==result else f\"{100/x:.2f}\"\n",
    "        print(result)\n",
    "        break\n",
    "    except Exception:\n",
    "        print('다시 시도하세요')\n",
    "    except ZeroDivisionError:\n",
    "        print('0으로 나눌 수 없어어.')\n",
    "    except ValueError:\n",
    "        print('유효한 정수를 입력하세요.')\n",
    "        \n",
    "# Exception을 많이 사용할 경우 상위 클래스 밑에 넣지 않으면 하위 예외처리가 되지 않으므로 주의해야 함"
   ]
  },
  {
   "cell_type": "code",
   "execution_count": null,
   "id": "c8282093",
   "metadata": {},
   "outputs": [],
   "source": [
    "while True:\n",
    "    try:\n",
    "        x = int(input('정수를 입력하세요 :'))\n",
    "        result = 100/x\n",
    "        result = f\"{100/x:.0f}\" if round(result)==result else f\"{100/x:.2f}\"\n",
    "        print(result)\n",
    "        break\n",
    "\n",
    "    except ZeroDivisionError:\n",
    "        print('0으로 나눌 수 없어어.')\n",
    "    except ValueError:\n",
    "        print('유효한 정수를 입력하세요.')\n",
    "    except Exception: # except 절이  많은 경우 하위 클래스(자식클래스)가 위에 나와야 함\n",
    "        print('다시 시도하세요')\n",
    "        \n",
    "# Exception을 많이 사용할 경우 상위 클래스 밑에 넣지 않으면 하위 예외처리가 되지 않으므로 주의해야 함"
   ]
  },
  {
   "cell_type": "code",
   "execution_count": null,
   "id": "7ca79155",
   "metadata": {},
   "outputs": [],
   "source": [
    "while True:\n",
    "    try:\n",
    "        x = int(input('정수를 입력하세요 :'))\n",
    "        result = 100/x\n",
    "        result = f\"{100/x:.0f}\" if round(result)==result else f\"{100/x:.2f}\"\n",
    "        print(result)\n",
    "        break\n",
    "        \n",
    "# 통합도 가능함\n",
    "\n",
    "    except (ZeroDivisionError, ValueError):\n",
    "        print('제대로 입력하세요')\n",
    "    except Exception:\n",
    "        print('다시 시도하세요')"
   ]
  },
  {
   "cell_type": "markdown",
   "id": "2a5e45c2",
   "metadata": {},
   "source": [
    "## 2.3 예외 메시지(예외인수)"
   ]
  },
  {
   "cell_type": "code",
   "execution_count": 5,
   "id": "127e7e7e",
   "metadata": {},
   "outputs": [
    {
     "name": "stdout",
     "output_type": "stream",
     "text": [
      "정수를 입력하세요 :a\n",
      "invalid literal for int() with base 10: 'a'\n",
      "<class 'ValueError'>\n",
      "예외메시지 :  (\"invalid literal for int() with base 10: 'a'\",)\n",
      "예외메시지 :  invalid literal for int() with base 10: 'a'\n",
      "정수를 입력하세요 :0\n",
      "division by zero\n",
      "<class 'ZeroDivisionError'>\n",
      "예외메시지 :  ('division by zero',)\n",
      "예외메시지 :  division by zero\n",
      "정수를 입력하세요 :33\n",
      "3.03\n"
     ]
    }
   ],
   "source": [
    "while True:\n",
    "    try:\n",
    "        x = int(input('정수를 입력하세요 :'))\n",
    "        result = 100/x\n",
    "        result = f\"{100/x:.0f}\" if round(result)==result else f\"{100/x:.2f}\"\n",
    "        print(result)\n",
    "        break\n",
    "    except (ZeroDivisionError, ValueError) as e:\n",
    "        print(e) # e.__str__() : 예외 메시지\n",
    "        print(type(e))\n",
    "        print('예외메시지 : ', e.args)\n",
    "        print('예외메시지 : ', e.args[0])\n",
    "    except Exception:\n",
    "        print('다시 시도하세요')\n",
    "            \n",
    "# ZeroDivisionError: division by zero\n",
    "# ValueError : invalid literal for int() with base 10: 'a'"
   ]
  },
  {
   "cell_type": "code",
   "execution_count": null,
   "id": "3115beb0",
   "metadata": {},
   "outputs": [],
   "source": [
    "\"\"\"\n",
    "pdf(p.12)\n",
    "\n",
    "try:\n",
    "    예외가 발생할 수도 있는 구문\n",
    "    \n",
    "except [예외타입 as e]:\n",
    "    예외가 발생되면 수행할 구문\n",
    "else:  생략가능(잘 쓰지 않음)\n",
    "    try절을 수행하다 예외가 발생되지 않으면 else 절을 한번 수행\n",
    "finally:\n",
    "    예외가 발생 안하면 try-else-finally절 수행\n",
    "    예회가 발생하면 try수행 중 except - finally절 수행\n",
    "\n",
    "\"\"\""
   ]
  },
  {
   "cell_type": "code",
   "execution_count": 7,
   "id": "24722447",
   "metadata": {},
   "outputs": [
    {
     "name": "stdout",
     "output_type": "stream",
     "text": [
      "Hello world\n"
     ]
    }
   ],
   "source": [
    "try:\n",
    "    f = open(r'data/ch08.txt', 'r')\n",
    "except FileNotFoundError as e:\n",
    "    print(e)\n",
    "    print('해당 파일이 없습니다.')\n",
    "else:\n",
    "    data = f.read()\n",
    "    print(data)\n",
    "finally:\n",
    "    f.close()"
   ]
  },
  {
   "cell_type": "code",
   "execution_count": 8,
   "id": "77beadd8",
   "metadata": {},
   "outputs": [
    {
     "name": "stdout",
     "output_type": "stream",
     "text": [
      "Hello world\n",
      "반드시 실행\n"
     ]
    }
   ],
   "source": [
    "# else 구문 삭제해도 됨\n",
    "\n",
    "try:\n",
    "    f = open(r'data/ch08.txt', 'r')\n",
    "    data = f.read()\n",
    "    print(data)\n",
    "except FileNotFoundError as e:\n",
    "    print(e)\n",
    "    print('해당 파일이 없습니다.')\n",
    "finally:\n",
    "    print('반드시 실행')\n",
    "    f.close()"
   ]
  },
  {
   "cell_type": "markdown",
   "id": "d59ddffa",
   "metadata": {},
   "source": [
    "# 3절. raise\n",
    "- 강제 예외 발생\n"
   ]
  },
  {
   "cell_type": "code",
   "execution_count": 11,
   "id": "237fb4a2",
   "metadata": {},
   "outputs": [
    {
     "ename": "NameError",
     "evalue": "예외 발생함",
     "output_type": "error",
     "traceback": [
      "\u001b[1;31m---------------------------------------------------------------------------\u001b[0m",
      "\u001b[1;31mNameError\u001b[0m                                 Traceback (most recent call last)",
      "Cell \u001b[1;32mIn[11], line 1\u001b[0m\n\u001b[1;32m----> 1\u001b[0m \u001b[38;5;28;01mraise\u001b[39;00m \u001b[38;5;167;01mNameError\u001b[39;00m(\u001b[38;5;124m\"\u001b[39m\u001b[38;5;124m예외 발생함\u001b[39m\u001b[38;5;124m\"\u001b[39m)\n",
      "\u001b[1;31mNameError\u001b[0m: 예외 발생함"
     ]
    }
   ],
   "source": [
    "raise NameError(\"예외 발생함\")"
   ]
  },
  {
   "cell_type": "code",
   "execution_count": 23,
   "id": "9bb693ff",
   "metadata": {},
   "outputs": [],
   "source": [
    "# 사용자 정의 예외 : Exception 클래스 또는 그 하위 클래스를 상속받아 구현\n",
    "class LengthZeroError(Exception):\n",
    "    '길이가 0일 때 발생할 예외'\n",
    "    pass\n",
    "#     def __init__(self, message):\n",
    "#         self.message = message"
   ]
  },
  {
   "cell_type": "code",
   "execution_count": 24,
   "id": "7fc1920f",
   "metadata": {},
   "outputs": [],
   "source": [
    "def insert(*data):  # 튜플 매개변수\n",
    "    if len(data) == 0 :\n",
    "        raise LengthZeroError(\"매개변수가 0인 예외입니다\")\n",
    "    for item in data:\n",
    "        print(item, end=' ')\n",
    "    print('등을 입력하셨습니다')\n",
    "    \n",
    "# NameError: name 'LengthZeroError' is not defined\n"
   ]
  },
  {
   "cell_type": "code",
   "execution_count": 25,
   "id": "4448204d",
   "metadata": {},
   "outputs": [
    {
     "name": "stdout",
     "output_type": "stream",
     "text": [
      "매개변수가 0인 예외입니다\n",
      "무조건 실행하는 부분 DONE\n"
     ]
    }
   ],
   "source": [
    "data = []\n",
    "try:\n",
    "    insert(*data)\n",
    "except LengthZeroError as e:\n",
    "    print(e)\n",
    "finally:\n",
    "    print('무조건 실행하는 부분 DONE')\n",
    "\n",
    "# TypeError: __main__.insert() argument after ** must be a mapping, not list"
   ]
  },
  {
   "cell_type": "markdown",
   "id": "c6f21a4b",
   "metadata": {},
   "source": [
    "# 4절. 추상클래스\n",
    "- 추상클래스 : 객체를 생성할 수 없는 클래스. 상속받을 클래스의 포맷 제공\n",
    "- 추상메소드 : 호출할 수 없는 메소드"
   ]
  },
  {
   "cell_type": "code",
   "execution_count": 26,
   "id": "92c7413c",
   "metadata": {},
   "outputs": [],
   "source": [
    "# Shape 클래스 : 객체를 만드는게 목적이 아니고, 자식클래스(서브클래스)를 잘 만드는게 목적\n",
    "# Shape 클래스를 상속받은 클래스들의 표준 제시\n",
    "\n",
    "class Shape:\n",
    "    def __init__(self):\n",
    "        raise NotImplementedError('추상 클래스 역할')\n",
    "    def calc_area(self):\n",
    "        raise NotImplementedError('추상 메소드 역할')\n",
    "        "
   ]
  },
  {
   "cell_type": "code",
   "execution_count": 32,
   "id": "a647cfd9",
   "metadata": {},
   "outputs": [
    {
     "data": {
      "text/plain": [
       "28.259999999999998"
      ]
     },
     "execution_count": 32,
     "metadata": {},
     "output_type": "execute_result"
    }
   ],
   "source": [
    "# s = Shape()\n",
    "class Circle(Shape):\n",
    "    def __init__(self, r=3):\n",
    "        self.r = r\n",
    "    def calc_area(self):\n",
    "        return 3.14 * self.r*self.r\n",
    "    \n",
    "c = Circle(3)\n",
    "c.calc_area()\n",
    "        "
   ]
  },
  {
   "cell_type": "markdown",
   "id": "cdfd684a",
   "metadata": {},
   "source": [
    "# 5절. 파일 정리 작업(with 절 이용)"
   ]
  },
  {
   "cell_type": "code",
   "execution_count": 34,
   "id": "412cef33",
   "metadata": {},
   "outputs": [
    {
     "name": "stdout",
     "output_type": "stream",
     "text": [
      "Hello world\n"
     ]
    }
   ],
   "source": [
    "try:\n",
    "    f = open('data/ch08.txt', 'r')\n",
    "    print(f.read())\n",
    "except Exception as e:\n",
    "    print(e)\n",
    "finally:\n",
    "    f.close()"
   ]
  },
  {
   "cell_type": "code",
   "execution_count": 35,
   "id": "56ffdbc6",
   "metadata": {},
   "outputs": [
    {
     "name": "stdout",
     "output_type": "stream",
     "text": [
      "Hello world\n"
     ]
    }
   ],
   "source": [
    "f = open('data/ch08.txt', 'r')\n",
    "print(f.read())\n",
    "f.close()"
   ]
  },
  {
   "cell_type": "code",
   "execution_count": null,
   "id": "9cc90f88",
   "metadata": {},
   "outputs": [],
   "source": [
    "with open('data/ch08.txt', 'r') as f:\n",
    "    print(f.read())\n",
    "# with절 이후에는 자동 close() 실행"
   ]
  },
  {
   "cell_type": "markdown",
   "id": "ede722c2",
   "metadata": {},
   "source": [
    "# 6절. 연습문제"
   ]
  },
  {
   "cell_type": "code",
   "execution_count": null,
   "id": "fe08374c",
   "metadata": {},
   "outputs": [],
   "source": [
    "# 4/22 내일 점심식사 이후에 하고 오전에는 파일 입출력 진도 나가는 걸로"
   ]
  },
  {
   "cell_type": "code",
   "execution_count": null,
   "id": "b4654014",
   "metadata": {},
   "outputs": [],
   "source": []
  },
  {
   "cell_type": "code",
   "execution_count": null,
   "id": "2f611885",
   "metadata": {},
   "outputs": [],
   "source": []
  },
  {
   "cell_type": "code",
   "execution_count": null,
   "id": "08e59144",
   "metadata": {},
   "outputs": [],
   "source": []
  }
 ],
 "metadata": {
  "kernelspec": {
   "display_name": "Python 3 (ipykernel)",
   "language": "python",
   "name": "python3"
  },
  "language_info": {
   "codemirror_mode": {
    "name": "ipython",
    "version": 3
   },
   "file_extension": ".py",
   "mimetype": "text/x-python",
   "name": "python",
   "nbconvert_exporter": "python",
   "pygments_lexer": "ipython3",
   "version": "3.10.9"
  },
  "toc": {
   "base_numbering": 1,
   "nav_menu": {},
   "number_sections": false,
   "sideBar": true,
   "skip_h1_title": false,
   "title_cell": "Table of Contents",
   "title_sidebar": "Contents",
   "toc_cell": false,
   "toc_position": {
    "height": "calc(100% - 180px)",
    "left": "10px",
    "top": "150px",
    "width": "333.913px"
   },
   "toc_section_display": true,
   "toc_window_display": true
  }
 },
 "nbformat": 4,
 "nbformat_minor": 5
}
