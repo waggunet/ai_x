{
 "cells": [
  {
   "cell_type": "code",
   "execution_count": 2,
   "id": "f49014f4",
   "metadata": {},
   "outputs": [
    {
     "data": {
      "text/html": [
       "\n",
       "<style>\n",
       "div.container{width:86% !important;}\n",
       "div.cell.code_cell.rendered{width:100%;}\n",
       "div.CodeMirror {font-family:Consolas; font-size:10pt;}\n",
       "div.output {font-size:12pt; font-weight:bold;}\n",
       "div.input {font-family:Consolas; font-size:10pt;}\n",
       "div.prompt {min-width:70px;}\n",
       "div#toc-wrapper{padding-top:120px;}\n",
       "div.text_cell_render ul li{font-size:10pt;padding:5px;}\n",
       "table.dataframe{font-size:15px;\n",
       "</style>\n"
      ],
      "text/plain": [
       "<IPython.core.display.HTML object>"
      ]
     },
     "metadata": {},
     "output_type": "display_data"
    }
   ],
   "source": [
    "# 매 강의 시작시마다 동일하게 처리해야 함\n",
    "from IPython.display import display, HTML\n",
    "display(HTML(\"\"\"\n",
    "<style>\n",
    "div.container{width:86% !important;}\n",
    "div.cell.code_cell.rendered{width:100%;}\n",
    "div.CodeMirror {font-family:Consolas; font-size:10pt;}\n",
    "div.output {font-size:12pt; font-weight:bold;}\n",
    "div.input {font-family:Consolas; font-size:10pt;}\n",
    "div.prompt {min-width:70px;}\n",
    "div#toc-wrapper{padding-top:120px;}\n",
    "div.text_cell_render ul li{font-size:10pt;padding:5px;}\n",
    "table.dataframe{font-size:15px;\n",
    "</style>\n",
    "\"\"\"))"
   ]
  },
  {
   "cell_type": "markdown",
   "id": "e6850fba",
   "metadata": {},
   "source": [
    "<b><font size=\"5\" color=\"red\">ch08. 예외처리</font></b>\n",
    "# 1절. 예외처리\n",
    "- 예외가 날 가능성이 있는 부분에 대해 미리 예상하고, 그에 대한 처리를 프로그램하는 것(이유 : 좀 더 안정적으로 실행)\n",
    "```\n",
    "ex. 파일을 다룰 때 : 파일이 없거나, 쓰기금지로 인한 오류\n",
    "ex. 데이터베이스 프로그램시 제약조건 등으로 CRUD(CREATE, READ, UPDATE, DELETE)\n",
    "ex. 네트워크 프로그래밍시 일시적인 네트워크 장애시 연결 실패 오류\n",
    "ex. 리스트나 튜플의 인덱스를 벗어난 오류\n"
   ]
  },
  {
   "cell_type": "code",
   "execution_count": 11,
   "id": "0f869b6c",
   "metadata": {},
   "outputs": [],
   "source": [
    "# 25/04/21 본 강의"
   ]
  },
  {
   "cell_type": "code",
   "execution_count": 13,
   "id": "b101d275",
   "metadata": {},
   "outputs": [
    {
     "name": "stdout",
     "output_type": "stream",
     "text": [
      "파일명은(ch08.txt)?111\n"
     ]
    },
    {
     "ename": "FileNotFoundError",
     "evalue": "[Errno 2] No such file or directory: 'data/111'",
     "output_type": "error",
     "traceback": [
      "\u001b[1;31m---------------------------------------------------------------------------\u001b[0m",
      "\u001b[1;31mFileNotFoundError\u001b[0m                         Traceback (most recent call last)",
      "Cell \u001b[1;32mIn[13], line 2\u001b[0m\n\u001b[0;32m      1\u001b[0m filename \u001b[38;5;241m=\u001b[39m \u001b[38;5;28minput\u001b[39m(\u001b[38;5;124m'\u001b[39m\u001b[38;5;124m파일명은(ch08.txt)?\u001b[39m\u001b[38;5;124m'\u001b[39m)\n\u001b[1;32m----> 2\u001b[0m f \u001b[38;5;241m=\u001b[39m \u001b[38;5;28;43mopen\u001b[39;49m\u001b[43m(\u001b[49m\u001b[38;5;124;43m'\u001b[39;49m\u001b[38;5;124;43mdata/\u001b[39;49m\u001b[38;5;124;43m'\u001b[39;49m\u001b[38;5;241;43m+\u001b[39;49m\u001b[43mfilename\u001b[49m\u001b[43m,\u001b[49m\u001b[43m \u001b[49m\u001b[38;5;124;43m'\u001b[39;49m\u001b[38;5;124;43mr\u001b[39;49m\u001b[38;5;124;43m'\u001b[39;49m\u001b[43m)\u001b[49m \u001b[38;5;66;03m# 읽기 전용으로 파일열기 'r' (쓰기는 'w')\u001b[39;00m\n\u001b[0;32m      3\u001b[0m \u001b[38;5;28mprint\u001b[39m(f\u001b[38;5;241m.\u001b[39mread())\n\u001b[0;32m      4\u001b[0m f\u001b[38;5;241m.\u001b[39mclose()\n",
      "File \u001b[1;32m~\\anaconda3\\lib\\site-packages\\IPython\\core\\interactiveshell.py:282\u001b[0m, in \u001b[0;36m_modified_open\u001b[1;34m(file, *args, **kwargs)\u001b[0m\n\u001b[0;32m    275\u001b[0m \u001b[38;5;28;01mif\u001b[39;00m file \u001b[38;5;129;01min\u001b[39;00m {\u001b[38;5;241m0\u001b[39m, \u001b[38;5;241m1\u001b[39m, \u001b[38;5;241m2\u001b[39m}:\n\u001b[0;32m    276\u001b[0m     \u001b[38;5;28;01mraise\u001b[39;00m \u001b[38;5;167;01mValueError\u001b[39;00m(\n\u001b[0;32m    277\u001b[0m         \u001b[38;5;124mf\u001b[39m\u001b[38;5;124m\"\u001b[39m\u001b[38;5;124mIPython won\u001b[39m\u001b[38;5;124m'\u001b[39m\u001b[38;5;124mt let you open fd=\u001b[39m\u001b[38;5;132;01m{\u001b[39;00mfile\u001b[38;5;132;01m}\u001b[39;00m\u001b[38;5;124m by default \u001b[39m\u001b[38;5;124m\"\u001b[39m\n\u001b[0;32m    278\u001b[0m         \u001b[38;5;124m\"\u001b[39m\u001b[38;5;124mas it is likely to crash IPython. If you know what you are doing, \u001b[39m\u001b[38;5;124m\"\u001b[39m\n\u001b[0;32m    279\u001b[0m         \u001b[38;5;124m\"\u001b[39m\u001b[38;5;124myou can use builtins\u001b[39m\u001b[38;5;124m'\u001b[39m\u001b[38;5;124m open.\u001b[39m\u001b[38;5;124m\"\u001b[39m\n\u001b[0;32m    280\u001b[0m     )\n\u001b[1;32m--> 282\u001b[0m \u001b[38;5;28;01mreturn\u001b[39;00m io_open(file, \u001b[38;5;241m*\u001b[39margs, \u001b[38;5;241m*\u001b[39m\u001b[38;5;241m*\u001b[39mkwargs)\n",
      "\u001b[1;31mFileNotFoundError\u001b[0m: [Errno 2] No such file or directory: 'data/111'"
     ]
    }
   ],
   "source": [
    "filename = input('파일명은(ch08.txt)?')\n",
    "f = open('data/'+filename, 'r') # 읽기 전용으로 파일열기 'r' (쓰기는 'w')\n",
    "print(f.read())\n",
    "f.close()"
   ]
  },
  {
   "cell_type": "code",
   "execution_count": 6,
   "id": "5dc5c745",
   "metadata": {},
   "outputs": [
    {
     "ename": "ZeroDivisionError",
     "evalue": "division by zero",
     "output_type": "error",
     "traceback": [
      "\u001b[1;31m---------------------------------------------------------------------------\u001b[0m",
      "\u001b[1;31mZeroDivisionError\u001b[0m                         Traceback (most recent call last)",
      "Cell \u001b[1;32mIn[6], line 1\u001b[0m\n\u001b[1;32m----> 1\u001b[0m \u001b[38;5;241;43m4\u001b[39;49m\u001b[38;5;241;43m/\u001b[39;49m\u001b[38;5;241;43m0\u001b[39;49m\n",
      "\u001b[1;31mZeroDivisionError\u001b[0m: division by zero"
     ]
    }
   ],
   "source": [
    "4/0"
   ]
  },
  {
   "cell_type": "code",
   "execution_count": 7,
   "id": "8f99f6fa",
   "metadata": {},
   "outputs": [
    {
     "ename": "IndexError",
     "evalue": "list index out of range",
     "output_type": "error",
     "traceback": [
      "\u001b[1;31m---------------------------------------------------------------------------\u001b[0m",
      "\u001b[1;31mIndexError\u001b[0m                                Traceback (most recent call last)",
      "Cell \u001b[1;32mIn[7], line 2\u001b[0m\n\u001b[0;32m      1\u001b[0m a \u001b[38;5;241m=\u001b[39m [\u001b[38;5;241m1\u001b[39m,\u001b[38;5;241m2\u001b[39m,\u001b[38;5;241m3\u001b[39m]\n\u001b[1;32m----> 2\u001b[0m \u001b[43ma\u001b[49m\u001b[43m[\u001b[49m\u001b[38;5;241;43m3\u001b[39;49m\u001b[43m]\u001b[49m\n",
      "\u001b[1;31mIndexError\u001b[0m: list index out of range"
     ]
    }
   ],
   "source": [
    "a = [1,2,3]\n",
    "a[3]"
   ]
  },
  {
   "cell_type": "markdown",
   "id": "934874de",
   "metadata": {},
   "source": [
    "# 2절. try~except로 예외처리\n",
    "## 2.1 try~except\n",
    "\n",
    "```\n",
    "try:\n",
    "    예외가 발생할 가능성이 있는 명령어들\n",
    "except:\n",
    "    예외가 발생했ㅇ르 경우 실행할 명령어들\n",
    "```    "
   ]
  },
  {
   "cell_type": "code",
   "execution_count": 16,
   "id": "1d690d2b",
   "metadata": {},
   "outputs": [
    {
     "name": "stdout",
     "output_type": "stream",
     "text": [
      "정수를 입력하세요 :2\n",
      "x값 입력 받음 2\n",
      "100을 입력한 정수로 나누면 50.000\n",
      "예외가 발생 안됨\n"
     ]
    }
   ],
   "source": [
    "# 100을 입력받은 정수값으로 나눠 출력\n",
    "# ZeroDivisionError: division by zero\n",
    "# ValueError : invalid literal for int() with base 10: 'a'\n",
    "try:\n",
    "    x = int(input('정수를 입력하세요 :'))\n",
    "    print('x값 입력 받음', x)\n",
    "    print('100을 입력한 정수로 나누면 {:.3f}'.format(100/x))\n",
    "    print('예외가 발생 안됨')\n",
    "\n",
    "except:\n",
    "    print('정수가 아닙니다.')"
   ]
  },
  {
   "cell_type": "code",
   "execution_count": 2,
   "id": "7ba45271",
   "metadata": {},
   "outputs": [
    {
     "name": "stdout",
     "output_type": "stream",
     "text": [
      "정수를 입력하세요 :a\n",
      "유효한 정수를 입력하세요.\n",
      "정수를 입력하세요 :0\n",
      "유효한 정수를 입력하세요.\n",
      "정수를 입력하세요 :\n",
      "유효한 정수를 입력하세요.\n",
      "정수를 입력하세요 :2\n",
      "50\n"
     ]
    }
   ],
   "source": [
    "# 100을 나눌 유요한 정수를 입력할 때까지 입력 받아\n",
    "# 유효한 정수를 입력하면, 100을 입력한 수로 나눈 결과를 출력\n",
    "# 나눈 결과가 .0으로 끝나면 정수를 결과로 출력 / .0으로 끝나지 않으면 소수점 2자리까지 출력\n",
    "\n",
    "while True:\n",
    "    try:\n",
    "        x = int(input('정수를 입력하세요 :'))\n",
    "        result = 100/x\n",
    "        result = f\"{100/x:.0f}\" if round(result)==result else f\"{100/x:.2f}\"\n",
    "        print(result)\n",
    "        break\n",
    "    except:\n",
    "        print('유효한 정수를 입력하세요.')\n",
    "# ZeroDivisionError: division by zero\n",
    "# ValueError : invalid literal for int() with base 10: 'a'"
   ]
  },
  {
   "cell_type": "markdown",
   "id": "ad71137f",
   "metadata": {},
   "source": [
    "## 2.2 예외를 지정한 처리\n",
    "```\n",
    "\n",
    "try:\n",
    "    예외가 발생할 수도 있는 문장들 \n",
    "except 예외타입1:\n",
    "    해당 예외가 발생할 경우 실행할 문장\n",
    "except 예외타입2:\n",
    "    해당 예외가 발생할 경우 실행할 문장\n",
    "\n",
    "```"
   ]
  },
  {
   "cell_type": "code",
   "execution_count": 3,
   "id": "f7b04b88",
   "metadata": {},
   "outputs": [
    {
     "name": "stdout",
     "output_type": "stream",
     "text": [
      "정수를 입력하세요 :a\n",
      "유효한 정수를 입력하세요.\n",
      "정수를 입력하세요 :0\n",
      "0으로 나눌 수 없어어.\n",
      "정수를 입력하세요 :0.3\n",
      "유효한 정수를 입력하세요.\n",
      "정수를 입력하세요 :12\n",
      "8.33\n"
     ]
    }
   ],
   "source": [
    "while True:\n",
    "    try:\n",
    "        x = int(input('정수를 입력하세요 :'))\n",
    "        result = 100/x\n",
    "        result = f\"{100/x:.0f}\" if round(result)==result else f\"{100/x:.2f}\"\n",
    "        print(result)\n",
    "        break\n",
    "    except ValueError:\n",
    "        print('유효한 정수를 입력하세요.')\n",
    "    except ZeroDivisionError:\n",
    "        print('0으로 나눌 수 없어어.')\n",
    "    except Exception:\n",
    "        print('다시 시도하세요')\n",
    "    \n",
    "# ZeroDivisionError: division by zero\n",
    "# ValueError : invalid literal for int() with base 10: 'a'"
   ]
  },
  {
   "cell_type": "code",
   "execution_count": 4,
   "id": "843e3a5e",
   "metadata": {},
   "outputs": [
    {
     "name": "stdout",
     "output_type": "stream",
     "text": [
      "정수를 입력하세요 :a\n",
      "유효한 정수를 입력하세요.\n",
      "정수를 입력하세요 :0\n",
      "0으로 나눌 수 없어어.\n",
      "정수를 입력하세요 :12\n",
      "8.33\n"
     ]
    }
   ],
   "source": [
    "while True:\n",
    "    try:\n",
    "        x = int(input('정수를 입력하세요 :'))\n",
    "        result = 100/x\n",
    "        result = f\"{100/x:.0f}\" if round(result)==result else f\"{100/x:.2f}\"\n",
    "        print(result)\n",
    "        break\n",
    "    except ZeroDivisionError:\n",
    "        print('0으로 나눌 수 없어어.')\n",
    "    except ValueError:\n",
    "        print('유효한 정수를 입력하세요.')\n",
    "    except Exception:\n",
    "        print('다시 시도하세요')\n",
    "        \n",
    "# 예외처리의 위치를 옮기더라도 문제없이 실행됨, except가 마지막에 있으므로"
   ]
  },
  {
   "cell_type": "code",
   "execution_count": null,
   "id": "1bf72174",
   "metadata": {},
   "outputs": [],
   "source": [
    "while True:\n",
    "    try:\n",
    "        x = int(input('정수를 입력하세요 :'))\n",
    "        result = 100/x\n",
    "        result = f\"{100/x:.0f}\" if round(result)==result else f\"{100/x:.2f}\"\n",
    "        print(result)\n",
    "        break\n",
    "    except Exception:\n",
    "        print('다시 시도하세요')\n",
    "    except ZeroDivisionError:\n",
    "        print('0으로 나눌 수 없어어.')\n",
    "    except ValueError:\n",
    "        print('유효한 정수를 입력하세요.')\n",
    "        \n",
    "# Exception을 많이 사용할 경우 상위 클래스 밑에 넣지 않으면 하위 예외처리가 되지 않으므로 주의해야 함"
   ]
  },
  {
   "cell_type": "code",
   "execution_count": null,
   "id": "c8282093",
   "metadata": {},
   "outputs": [],
   "source": [
    "while True:\n",
    "    try:\n",
    "        x = int(input('정수를 입력하세요 :'))\n",
    "        result = 100/x\n",
    "        result = f\"{100/x:.0f}\" if round(result)==result else f\"{100/x:.2f}\"\n",
    "        print(result)\n",
    "        break\n",
    "\n",
    "    except ZeroDivisionError:\n",
    "        print('0으로 나눌 수 없어어.')\n",
    "    except ValueError:\n",
    "        print('유효한 정수를 입력하세요.')\n",
    "    except Exception: # except 절이  많은 경우 하위 클래스(자식클래스)가 위에 나와야 함\n",
    "        print('다시 시도하세요')\n",
    "        \n",
    "# Exception을 많이 사용할 경우 상위 클래스 밑에 넣지 않으면 하위 예외처리가 되지 않으므로 주의해야 함"
   ]
  },
  {
   "cell_type": "code",
   "execution_count": null,
   "id": "7ca79155",
   "metadata": {},
   "outputs": [],
   "source": [
    "while True:\n",
    "    try:\n",
    "        x = int(input('정수를 입력하세요 :'))\n",
    "        result = 100/x\n",
    "        result = f\"{100/x:.0f}\" if round(result)==result else f\"{100/x:.2f}\"\n",
    "        print(result)\n",
    "        break\n",
    "        \n",
    "# 통합도 가능함\n",
    "\n",
    "    except (ZeroDivisionError, ValueError):\n",
    "        print('제대로 입력하세요')\n",
    "    except Exception:\n",
    "        print('다시 시도하세요')"
   ]
  },
  {
   "cell_type": "markdown",
   "id": "2a5e45c2",
   "metadata": {},
   "source": [
    "## 2.3 예외 메시지(예외인수)"
   ]
  },
  {
   "cell_type": "code",
   "execution_count": 5,
   "id": "127e7e7e",
   "metadata": {},
   "outputs": [
    {
     "name": "stdout",
     "output_type": "stream",
     "text": [
      "정수를 입력하세요 :a\n",
      "invalid literal for int() with base 10: 'a'\n",
      "<class 'ValueError'>\n",
      "예외메시지 :  (\"invalid literal for int() with base 10: 'a'\",)\n",
      "예외메시지 :  invalid literal for int() with base 10: 'a'\n",
      "정수를 입력하세요 :0\n",
      "division by zero\n",
      "<class 'ZeroDivisionError'>\n",
      "예외메시지 :  ('division by zero',)\n",
      "예외메시지 :  division by zero\n",
      "정수를 입력하세요 :33\n",
      "3.03\n"
     ]
    }
   ],
   "source": [
    "while True:\n",
    "    try:\n",
    "        x = int(input('정수를 입력하세요 :'))\n",
    "        result = 100/x\n",
    "        result = f\"{100/x:.0f}\" if round(result)==result else f\"{100/x:.2f}\"\n",
    "        print(result)\n",
    "        break\n",
    "    except (ZeroDivisionError, ValueError) as e:\n",
    "        print(e) # e.__str__() : 예외 메시지\n",
    "        print(type(e))\n",
    "        print('예외메시지 : ', e.args)\n",
    "        print('예외메시지 : ', e.args[0])\n",
    "    except Exception:\n",
    "        print('다시 시도하세요')\n",
    "            \n",
    "# ZeroDivisionError: division by zero\n",
    "# ValueError : invalid literal for int() with base 10: 'a'"
   ]
  },
  {
   "cell_type": "code",
   "execution_count": null,
   "id": "3115beb0",
   "metadata": {},
   "outputs": [],
   "source": [
    "\"\"\"\n",
    "pdf(p.12)\n",
    "\n",
    "try:\n",
    "    예외가 발생할 수도 있는 구문\n",
    "    \n",
    "except [예외타입 as e]:\n",
    "    예외가 발생되면 수행할 구문\n",
    "else:  생략가능(잘 쓰지 않음)\n",
    "    try절을 수행하다 예외가 발생되지 않으면 else 절을 한번 수행\n",
    "finally:\n",
    "    예외가 발생 안하면 try-else-finally절 수행\n",
    "    예회가 발생하면 try수행 중 except - finally절 수행\n",
    "\n",
    "\"\"\""
   ]
  },
  {
   "cell_type": "code",
   "execution_count": 7,
   "id": "24722447",
   "metadata": {},
   "outputs": [
    {
     "name": "stdout",
     "output_type": "stream",
     "text": [
      "Hello world\n"
     ]
    }
   ],
   "source": [
    "try:\n",
    "    f = open(r'data/ch08.txt', 'r')\n",
    "except FileNotFoundError as e:\n",
    "    print(e)\n",
    "    print('해당 파일이 없습니다.')\n",
    "else:\n",
    "    data = f.read()\n",
    "    print(data)\n",
    "finally:\n",
    "    f.close()"
   ]
  },
  {
   "cell_type": "code",
   "execution_count": 8,
   "id": "77beadd8",
   "metadata": {},
   "outputs": [
    {
     "name": "stdout",
     "output_type": "stream",
     "text": [
      "Hello world\n",
      "반드시 실행\n"
     ]
    }
   ],
   "source": [
    "# else 구문 삭제해도 됨\n",
    "\n",
    "try:\n",
    "    f = open(r'data/ch08.txt', 'r')\n",
    "    data = f.read()\n",
    "    print(data)\n",
    "except FileNotFoundError as e:\n",
    "    print(e)\n",
    "    print('해당 파일이 없습니다.')\n",
    "finally:\n",
    "    print('반드시 실행')\n",
    "    f.close()"
   ]
  },
  {
   "cell_type": "markdown",
   "id": "d59ddffa",
   "metadata": {},
   "source": [
    "# 3절. raise\n",
    "- 강제 예외 발생\n"
   ]
  },
  {
   "cell_type": "code",
   "execution_count": 11,
   "id": "237fb4a2",
   "metadata": {},
   "outputs": [
    {
     "ename": "NameError",
     "evalue": "예외 발생함",
     "output_type": "error",
     "traceback": [
      "\u001b[1;31m---------------------------------------------------------------------------\u001b[0m",
      "\u001b[1;31mNameError\u001b[0m                                 Traceback (most recent call last)",
      "Cell \u001b[1;32mIn[11], line 1\u001b[0m\n\u001b[1;32m----> 1\u001b[0m \u001b[38;5;28;01mraise\u001b[39;00m \u001b[38;5;167;01mNameError\u001b[39;00m(\u001b[38;5;124m\"\u001b[39m\u001b[38;5;124m예외 발생함\u001b[39m\u001b[38;5;124m\"\u001b[39m)\n",
      "\u001b[1;31mNameError\u001b[0m: 예외 발생함"
     ]
    }
   ],
   "source": [
    "raise NameError(\"예외 발생함\")"
   ]
  },
  {
   "cell_type": "code",
   "execution_count": 23,
   "id": "9bb693ff",
   "metadata": {},
   "outputs": [],
   "source": [
    "# 사용자 정의 예외 : Exception 클래스 또는 그 하위 클래스를 상속받아 구현\n",
    "class LengthZeroError(Exception):\n",
    "    '길이가 0일 때 발생할 예외'\n",
    "    pass\n",
    "#     def __init__(self, message):\n",
    "#         self.message = message"
   ]
  },
  {
   "cell_type": "code",
   "execution_count": 24,
   "id": "7fc1920f",
   "metadata": {},
   "outputs": [],
   "source": [
    "def insert(*data):  # 튜플 매개변수\n",
    "    if len(data) == 0 :\n",
    "        raise LengthZeroError(\"매개변수가 0인 예외입니다\")\n",
    "    for item in data:\n",
    "        print(item, end=' ')\n",
    "    print('등을 입력하셨습니다')\n",
    "    \n",
    "# NameError: name 'LengthZeroError' is not defined\n"
   ]
  },
  {
   "cell_type": "code",
   "execution_count": 25,
   "id": "4448204d",
   "metadata": {},
   "outputs": [
    {
     "name": "stdout",
     "output_type": "stream",
     "text": [
      "매개변수가 0인 예외입니다\n",
      "무조건 실행하는 부분 DONE\n"
     ]
    }
   ],
   "source": [
    "data = []\n",
    "try:\n",
    "    insert(*data)\n",
    "except LengthZeroError as e:\n",
    "    print(e)\n",
    "finally:\n",
    "    print('무조건 실행하는 부분 DONE')\n",
    "\n",
    "# TypeError: __main__.insert() argument after ** must be a mapping, not list"
   ]
  },
  {
   "cell_type": "markdown",
   "id": "c6f21a4b",
   "metadata": {},
   "source": [
    "# 4절. 추상클래스\n",
    "- 추상클래스 : 객체를 생성할 수 없는 클래스. 상속받을 클래스의 포맷 제공\n",
    "- 추상메소드 : 호출할 수 없는 메소드"
   ]
  },
  {
   "cell_type": "code",
   "execution_count": 26,
   "id": "92c7413c",
   "metadata": {},
   "outputs": [],
   "source": [
    "# Shape 클래스 : 객체를 만드는게 목적이 아니고, 자식클래스(서브클래스)를 잘 만드는게 목적\n",
    "# Shape 클래스를 상속받은 클래스들의 표준 제시\n",
    "\n",
    "class Shape:\n",
    "    def __init__(self):\n",
    "        raise NotImplementedError('추상 클래스 역할')\n",
    "    def calc_area(self):\n",
    "        raise NotImplementedError('추상 메소드 역할')\n",
    "        "
   ]
  },
  {
   "cell_type": "code",
   "execution_count": 32,
   "id": "a647cfd9",
   "metadata": {},
   "outputs": [
    {
     "data": {
      "text/plain": [
       "28.259999999999998"
      ]
     },
     "execution_count": 32,
     "metadata": {},
     "output_type": "execute_result"
    }
   ],
   "source": [
    "# s = Shape()\n",
    "class Circle(Shape):\n",
    "    def __init__(self, r=3):\n",
    "        self.r = r\n",
    "    def calc_area(self):\n",
    "        return 3.14 * self.r*self.r\n",
    "    \n",
    "c = Circle(3)\n",
    "c.calc_area()\n",
    "        "
   ]
  },
  {
   "cell_type": "markdown",
   "id": "cdfd684a",
   "metadata": {},
   "source": [
    "# 5절. 파일 정리 작업(with 절 이용)"
   ]
  },
  {
   "cell_type": "code",
   "execution_count": 34,
   "id": "412cef33",
   "metadata": {},
   "outputs": [
    {
     "name": "stdout",
     "output_type": "stream",
     "text": [
      "Hello world\n"
     ]
    }
   ],
   "source": [
    "try:\n",
    "    f = open('data/ch08.txt', 'r')\n",
    "    print(f.read())\n",
    "except Exception as e:\n",
    "    print(e)\n",
    "finally:\n",
    "    f.close()"
   ]
  },
  {
   "cell_type": "code",
   "execution_count": 35,
   "id": "56ffdbc6",
   "metadata": {},
   "outputs": [
    {
     "name": "stdout",
     "output_type": "stream",
     "text": [
      "Hello world\n"
     ]
    }
   ],
   "source": [
    "f = open('data/ch08.txt', 'r')\n",
    "print(f.read())\n",
    "f.close()"
   ]
  },
  {
   "cell_type": "code",
   "execution_count": null,
   "id": "9cc90f88",
   "metadata": {},
   "outputs": [],
   "source": [
    "with open('data/ch08.txt', 'r') as f:\n",
    "    print(f.read())\n",
    "# with절 이후에는 자동 close() 실행"
   ]
  },
  {
   "cell_type": "code",
   "execution_count": null,
   "id": "1624c078",
   "metadata": {},
   "outputs": [],
   "source": [
    "# 4/21 복습"
   ]
  },
  {
   "cell_type": "code",
   "execution_count": null,
   "id": "a860deb1",
   "metadata": {},
   "outputs": [],
   "source": [
    "# 예외의 예시"
   ]
  },
  {
   "cell_type": "code",
   "execution_count": 15,
   "id": "3094387a",
   "metadata": {},
   "outputs": [
    {
     "ename": "ZeroDivisionError",
     "evalue": "division by zero",
     "output_type": "error",
     "traceback": [
      "\u001b[1;31m---------------------------------------------------------------------------\u001b[0m",
      "\u001b[1;31mZeroDivisionError\u001b[0m                         Traceback (most recent call last)",
      "Cell \u001b[1;32mIn[15], line 1\u001b[0m\n\u001b[1;32m----> 1\u001b[0m \u001b[38;5;28mprint\u001b[39m(\u001b[38;5;241;43m10\u001b[39;49m\u001b[43m \u001b[49m\u001b[38;5;241;43m/\u001b[39;49m\u001b[38;5;241;43m0\u001b[39;49m)\n",
      "\u001b[1;31mZeroDivisionError\u001b[0m: division by zero"
     ]
    }
   ],
   "source": [
    "print(10 /0)"
   ]
  },
  {
   "cell_type": "code",
   "execution_count": 16,
   "id": "50abe1d2",
   "metadata": {},
   "outputs": [
    {
     "ename": "ValueError",
     "evalue": "invalid literal for int() with base 10: 'hello'",
     "output_type": "error",
     "traceback": [
      "\u001b[1;31m---------------------------------------------------------------------------\u001b[0m",
      "\u001b[1;31mValueError\u001b[0m                                Traceback (most recent call last)",
      "Cell \u001b[1;32mIn[16], line 1\u001b[0m\n\u001b[1;32m----> 1\u001b[0m \u001b[38;5;28mprint\u001b[39m(\u001b[38;5;28;43mint\u001b[39;49m\u001b[43m(\u001b[49m\u001b[38;5;124;43m\"\u001b[39;49m\u001b[38;5;124;43mhello\u001b[39;49m\u001b[38;5;124;43m\"\u001b[39;49m\u001b[43m)\u001b[49m)\n",
      "\u001b[1;31mValueError\u001b[0m: invalid literal for int() with base 10: 'hello'"
     ]
    }
   ],
   "source": [
    "print(int(\"hello\"))"
   ]
  },
  {
   "cell_type": "code",
   "execution_count": 18,
   "id": "e13596ac",
   "metadata": {},
   "outputs": [
    {
     "ename": "IndexError",
     "evalue": "list index out of range",
     "output_type": "error",
     "traceback": [
      "\u001b[1;31m---------------------------------------------------------------------------\u001b[0m",
      "\u001b[1;31mIndexError\u001b[0m                                Traceback (most recent call last)",
      "Cell \u001b[1;32mIn[18], line 1\u001b[0m\n\u001b[1;32m----> 1\u001b[0m \u001b[38;5;28mprint\u001b[39m(\u001b[43m[\u001b[49m\u001b[38;5;241;43m1\u001b[39;49m\u001b[43m,\u001b[49m\u001b[38;5;241;43m2\u001b[39;49m\u001b[43m,\u001b[49m\u001b[38;5;241;43m30\u001b[39;49m\u001b[43m]\u001b[49m\u001b[43m[\u001b[49m\u001b[38;5;241;43m5\u001b[39;49m\u001b[43m]\u001b[49m)\n",
      "\u001b[1;31mIndexError\u001b[0m: list index out of range"
     ]
    }
   ],
   "source": [
    "print([1,2,30][5])"
   ]
  },
  {
   "cell_type": "code",
   "execution_count": 19,
   "id": "c976001a",
   "metadata": {},
   "outputs": [],
   "source": [
    "# 예외 발생시 흐름"
   ]
  },
  {
   "cell_type": "code",
   "execution_count": 21,
   "id": "129b5b13",
   "metadata": {},
   "outputs": [
    {
     "name": "stdout",
     "output_type": "stream",
     "text": [
      "Start\n"
     ]
    },
    {
     "ename": "ZeroDivisionError",
     "evalue": "division by zero",
     "output_type": "error",
     "traceback": [
      "\u001b[1;31m---------------------------------------------------------------------------\u001b[0m",
      "\u001b[1;31mZeroDivisionError\u001b[0m                         Traceback (most recent call last)",
      "Cell \u001b[1;32mIn[21], line 2\u001b[0m\n\u001b[0;32m      1\u001b[0m \u001b[38;5;28mprint\u001b[39m(\u001b[38;5;124m\"\u001b[39m\u001b[38;5;124mStart\u001b[39m\u001b[38;5;124m\"\u001b[39m)\n\u001b[1;32m----> 2\u001b[0m \u001b[38;5;28mprint\u001b[39m(\u001b[38;5;241;43m10\u001b[39;49m\u001b[38;5;241;43m/\u001b[39;49m\u001b[38;5;241;43m0\u001b[39;49m)\n\u001b[0;32m      3\u001b[0m \u001b[38;5;28mprint\u001b[39m(\u001b[38;5;124m\"\u001b[39m\u001b[38;5;124mEnd\u001b[39m\u001b[38;5;124m\"\u001b[39m)\n",
      "\u001b[1;31mZeroDivisionError\u001b[0m: division by zero"
     ]
    }
   ],
   "source": [
    "print(\"Start\")\n",
    "print(10/0)\n",
    "print(\"End\")"
   ]
  },
  {
   "cell_type": "code",
   "execution_count": 22,
   "id": "ab090a4d",
   "metadata": {},
   "outputs": [
    {
     "name": "stdout",
     "output_type": "stream",
     "text": [
      "0으로 나눌 수 없음\n"
     ]
    }
   ],
   "source": [
    "try:\n",
    "    print(10/0)\n",
    "except ZeroDivisionError:\n",
    "    print(\"0으로 나눌 수 없음\")"
   ]
  },
  {
   "cell_type": "code",
   "execution_count": 24,
   "id": "c8de8b70",
   "metadata": {},
   "outputs": [
    {
     "name": "stdout",
     "output_type": "stream",
     "text": [
      "숫자를 입력하세요:2\n",
      "5.0\n"
     ]
    }
   ],
   "source": [
    "try:\n",
    "    x = int(input(\"숫자를 입력하세요:\"))\n",
    "    print(10 /x)\n",
    "except ZeroDivisionError:\n",
    "    print('0으로 나눌 수 없습니다.')\n",
    "except ValueError:\n",
    "    print('숫자만 입력해야 도니다 이눔아')"
   ]
  },
  {
   "cell_type": "code",
   "execution_count": 26,
   "id": "7107f427",
   "metadata": {},
   "outputs": [
    {
     "name": "stdout",
     "output_type": "stream",
     "text": [
      "숫자를 입력하세요:ㄴ\n",
      "뭔가 좆댐\n"
     ]
    }
   ],
   "source": [
    "try:\n",
    "    x = int(input(\"숫자를 입력하세요:\"))\n",
    "    print(10 /x)\n",
    "except Exception:\n",
    "    print('뭔가 좆댐')"
   ]
  },
  {
   "cell_type": "code",
   "execution_count": 36,
   "id": "40ff5bf5",
   "metadata": {},
   "outputs": [
    {
     "name": "stdout",
     "output_type": "stream",
     "text": [
      "숫자를 입력해주세요 : ㅁ\n",
      "숫자만 입력하세요\n"
     ]
    }
   ],
   "source": [
    "# # 사용자에게 숫자를 입력받아 10을 나눈 결과를 출력하되,\n",
    "# 0을 입력하면 \"0으로 나눌 수 없습니다.\"\n",
    "\n",
    "# 문자를 입력하면 \"숫자만 입력하세요!\"\n",
    "\n",
    "# 라는 메시지가 출력되도록 코드를 완성해봐!\n",
    "\n",
    "\n",
    "try:\n",
    "    num = int(input('숫자를 입력해주세요 : '))\n",
    "    result = 10 / num\n",
    "    print(\"결과 : \", result)\n",
    "except ZeroDivisionError:\n",
    "    print(\"0으로 나눌 수 없습니다.\")\n",
    "except ValueError:\n",
    "    print(\"숫자만 입력하세요\")\n",
    "\n",
    "# ZeroDivisionError\n",
    "# ValueError"
   ]
  },
  {
   "cell_type": "code",
   "execution_count": 41,
   "id": "dff87cc5",
   "metadata": {},
   "outputs": [
    {
     "name": "stdout",
     "output_type": "stream",
     "text": [
      "인덱스를 입력하세요 (0~2) :10\n",
      "존재하지 않는 인덱스입니다.\n"
     ]
    }
   ],
   "source": [
    "# 리스트 [10, 20, 30]에서\n",
    "# 사용자로부터 인덱스를 입력받아 해당 값을 출력하도록 하고,\n",
    "# 인덱스가 범위를 벗어나면 \"존재하지 않는 인덱스입니다.\" 라고 출력\n",
    "\n",
    "lst = [10, 20, 30]\n",
    "try:\n",
    "    index = int(input('인덱스를 입력하세요 (0~2) :'))\n",
    "    print('값:', lst[index])\n",
    "except IndexError:\n",
    "    print('존재하지 않는 인덱스입니다.')\n",
    "except ValueError:\n",
    "    print('숫자만 입력해야 합니다.')    "
   ]
  },
  {
   "cell_type": "code",
   "execution_count": null,
   "id": "ac90f254",
   "metadata": {},
   "outputs": [],
   "source": [
    "# 아래 조건을 모두 만족하도록 코드를 작성해보자:\n",
    "# 사용자로부터 정수를 입력받는다.\n",
    "# 10을 입력받은 수로 나눈다.\n",
    "# 예외 처리:\n",
    "# 0을 입력하면: \"0으로 나눌 수 없습니다.\"\n",
    "# 문자를 입력하면: \"정수만 입력해야 합니다.\"\n",
    "# 그 외 알 수 없는 예외는: \"알 수 없는 오류 발생\"\n",
    "\n"
   ]
  },
  {
   "cell_type": "code",
   "execution_count": 57,
   "id": "c137d810",
   "metadata": {},
   "outputs": [
    {
     "name": "stdout",
     "output_type": "stream",
     "text": [
      "숫자를 입력해주세요 :3\n",
      "3.33\n"
     ]
    }
   ],
   "source": [
    "try:\n",
    "    num = int(input('숫자를 입력해주세요 :'))\n",
    "    result = 10 / num\n",
    "#   print(result(:.2f))\n",
    "    print(f'{result:.2f}')\n",
    "\n",
    "except ZeroDivisionError:\n",
    "    print('0으로 나눌 수 없습니다.')\n",
    "except ValueError:\n",
    "    print('정수만 입력해야 합니다.')\n",
    "except Exception:\n",
    "    print('알수없는 오류가 발생했습니다.')\n",
    "    \n",
    "    "
   ]
  },
  {
   "cell_type": "code",
   "execution_count": 58,
   "id": "5f328c73",
   "metadata": {},
   "outputs": [
    {
     "name": "stdout",
     "output_type": "stream",
     "text": [
      "숫자입력 : 1\n",
      "결과: 10.00\n",
      "프로그램 종료\n"
     ]
    }
   ],
   "source": [
    "try:\n",
    "    num = int(input(\"숫자입력 : \"))\n",
    "    result = 10 / num\n",
    "except ZeroDivisionError:\n",
    "    print(\"0으로 나눌 수 없습니다\")\n",
    "except ValueError:\n",
    "    print(\"숫자만 입력하셔\")\n",
    "else:\n",
    "    print(f'결과: {result:.2f}')\n",
    "finally:\n",
    "    print(\"프로그램 종료\")\n",
    "        "
   ]
  },
  {
   "cell_type": "code",
   "execution_count": 59,
   "id": "3b358635",
   "metadata": {},
   "outputs": [
    {
     "name": "stdout",
     "output_type": "stream",
     "text": [
      "파일 음슴\n"
     ]
    }
   ],
   "source": [
    "try:\n",
    "    f = open('sample.txt', 'r')\n",
    "    content = f.read()\n",
    "except FileNotFoundError:\n",
    "    print('파일 음슴')\n",
    "else:\n",
    "    print('파일내용 : \\n', content)\n",
    "finally:\n",
    "    try:\n",
    "        f.close()\n",
    "        print('파일을 닫았슈')\n",
    "    except:\n",
    "        pass\n",
    "    \n",
    "# 1. try 블록\n",
    "# sample.txt 파일을 읽기 모드로 열려고 시도\n",
    "\n",
    "# 성공하면 내용을 변수 content에 저장\n",
    "\n",
    "# 2. except FileNotFoundError\n",
    "# 만약 파일이 없으면 예외 발생 → 이 블록 실행\n",
    "\n",
    "# \"파일을 찾을 수 없습니다.\" 출력됨\n",
    "\n",
    "# 3. else 블록\n",
    "# 파일 열기와 읽기까지 성공했을 때만 실행됨\n",
    "\n",
    "# 읽은 내용 출력\n",
    "\n",
    "# 4. finally 블록\n",
    "# 무조건 실행됨!\n",
    "\n",
    "# f.close()로 열린 파일 닫기 시도\n",
    "\n",
    "# 만약 f가 정의되어 있지 않으면(open()에서 실패했을 경우) except로 넘김 → 그냥 무시 (pass)"
   ]
  },
  {
   "cell_type": "code",
   "execution_count": null,
   "id": "4463b246",
   "metadata": {},
   "outputs": [],
   "source": [
    "# 왜 finally에서 f.close()를 try-except로 감쌌을까?\n",
    "try:\n",
    "    f.close()\n",
    "except:\n",
    "    pass\n",
    "\n",
    "# 만약 f = open(...) 이 실패했다면, 변수 f 자체가 아예 없을 수 있음\n",
    "\n",
    "# 그 상태에서 f.close() 하면 NameError 나겠지?\n",
    "\n",
    "# 그래서 try로 감싸고, 문제 생기면 무시(pass) → 안전한 마무리를 위한 장치\n",
    "\n"
   ]
  },
  {
   "cell_type": "code",
   "execution_count": null,
   "id": "5c51b938",
   "metadata": {},
   "outputs": [],
   "source": [
    "# 블록\t언제 실행됨?\n",
    "# try\t항상 시도됨\n",
    "# except\t예외가 발생했을 때만 실행\n",
    "# else\t예외 없이 정상 실행된 경우에만 실행\n",
    "# finally\t예외 유무와 상관없이 항상 실행!"
   ]
  },
  {
   "cell_type": "markdown",
   "id": "f3a9d1aa",
   "metadata": {},
   "source": [
    "<img src=\"https://sdmntprsouthcentralus.oaiusercontent.com/files/00000000-777c-61f7-b76f-72bc0078ed53/raw?se=2025-04-21T13%3A05%3A36Z&sp=r&sv=2024-08-04&sr=b&scid=afaade47-97db-54d0-8961-73ffd01f2fad&skoid=0abefe37-d2bd-4fcb-bc88-32bccbef6f7d&sktid=a48cca56-e6da-484e-a814-9c849652bcb3&skt=2025-04-21T00%3A50%3A59Z&ske=2025-04-22T00%3A50%3A59Z&sks=b&skv=2024-08-04&sig=3nHomtVH8TaJ6w8T2J5yUNf7KFfl925n7rABHSAZqjk%3D\" width=\"500\"></img>"
   ]
  },
  {
   "cell_type": "code",
   "execution_count": null,
   "id": "748120f1",
   "metadata": {},
   "outputs": [],
   "source": [
    "filename = input(\"파일이름을 입력하세요:\")\n",
    "\n",
    "try:\n",
    "    if filename.endswith(\".txt\"):\n",
    "        f = open(filename, \"r\")\n",
    "        print(\"파일내용 :\", f.read())\n",
    "    else:\n",
    "        print(\"텍스트 파일만 열 수 있다규!!\")\n",
    "except FileNotFoundError:\n",
    "    print(\"해당 파일이 없슈\")\n",
    "except Exception as e:\n",
    "    print(\"알 수 없는 오류\")\n",
    "finally:\n",
    "    try:\n",
    "        f.close()\n",
    "        print(\"파일을 닫았습니다.\")\n",
    "    except NameError:\\\n",
    "        print(\"파일이 열리지 않아 닫을 수 없습니다.\")\n",
    "\n",
    "        \n",
    "# f 가 아예 정의되지 않을수도 있음\n",
    "# 파일명이 . txt로 끝나지 않으면 f=open(...) 자체가 실행되지 않음\n",
    "# 그러면 finally에서 f.close()하려다가 NameError:name 'f' is not defined 에러 발생함\n",
    "\n",
    "# try:\n",
    "#     f.close()\n",
    "# except:\n",
    "#     pass  또는 예쁘게 메시지 출력\n",
    "\n",
    "# 그래서 with 구문을 사용@!!!!\n"
   ]
  },
  {
   "cell_type": "code",
   "execution_count": null,
   "id": "7175dfb2",
   "metadata": {},
   "outputs": [],
   "source": [
    "# with 구문 사용 예시\n",
    "\n",
    "filename = input(\"파일 이름을 입력하세요\")\n",
    "if filename.endswith(\".txt\"):\n",
    "    try:\n",
    "        with open(filename, \"r\") as f:\n",
    "            print(\"파일내용 :\", f.read())\n",
    "    except FileNotFoundError:\n",
    "        print(\"해당파일음슴요\")\n",
    "    except Exceptionni as e:\n",
    "        print(\"알 수 없는 오류\")\n",
    "else:\n",
    "    print(\"텍스트파일만 열수 있다규~\")\n"
   ]
  },
  {
   "cell_type": "code",
   "execution_count": 64,
   "id": "e3ad0376",
   "metadata": {},
   "outputs": [
    {
     "data": {
      "text/plain": [
       "'\\n\\n항목\\t기존 방식\\twith 방식\\n파일 닫기\\tf.close() 직접 호출 + 예외 처리 필요\\t자동으로 닫힘\\n변수 f 없음 처리\\tNameError 발생 가능\\t그런 걱정 없음\\n코드 가독성\\t길고 중복 많음\\t간결하고 깔끔\\n안전성\\t실수로 close() 빼먹을 수 있음\\t안전하게 자동 처리\\n\\n'"
      ]
     },
     "execution_count": 64,
     "metadata": {},
     "output_type": "execute_result"
    }
   ],
   "source": [
    "# 차이점 \n",
    "'''\n",
    "\n",
    "항목\t기존 방식\twith 방식\n",
    "파일 닫기\tf.close() 직접 호출 + 예외 처리 필요\t자동으로 닫힘\n",
    "변수 f 없음 처리\tNameError 발생 가능\t그런 걱정 없음\n",
    "코드 가독성\t길고 중복 많음\t간결하고 깔끔\n",
    "안전성\t실수로 close() 빼먹을 수 있음\t안전하게 자동 처리\n",
    "\n",
    "즉,\n",
    "\n",
    "with는 파일을 조건 없이 열 때 아주 유용하고,\n",
    "\n",
    "try-except와 함께 쓰면 더 강력해져!\n",
    "\n",
    "단, with 블록 바깥에서 파일을 쓸 일이 없을 때에만 써야 함!\n",
    "\n",
    "\n",
    "\n",
    "'''"
   ]
  },
  {
   "cell_type": "markdown",
   "id": "ede722c2",
   "metadata": {},
   "source": [
    "# 6절. 연습문제"
   ]
  },
  {
   "cell_type": "code",
   "execution_count": null,
   "id": "fe08374c",
   "metadata": {},
   "outputs": [],
   "source": [
    "# 4/22 내일 점심식사 이후에 하고 오전에는 파일 입출력 진도 나가는 걸로"
   ]
  },
  {
   "cell_type": "code",
   "execution_count": 1,
   "id": "bf442562",
   "metadata": {},
   "outputs": [
    {
     "name": "stdout",
     "output_type": "stream",
     "text": [
      "첫번째 숫자를 입력해주세요 :\n",
      "유효한 숫자가 아닙니다. 다시 시도하세요\n",
      "첫번째 숫자를 입력해주세요 :hello\n",
      "유효한 숫자가 아닙니다. 다시 시도하세요\n",
      "첫번째 숫자를 입력해주세요 :10\n",
      "두번째 숫자를 입력해주세요 :0\n",
      "입력한 수는 10.0와 0.0입니다.\n",
      "유효한 숫자가 아닙니다. 다시 시도하세요\n",
      "첫번째 숫자를 입력해주세요 :3.5\n",
      "두번째 숫자를 입력해주세요 :hello\n",
      "유효한 숫자가 아닙니다. 다시 시도하세요\n",
      "첫번째 숫자를 입력해주세요 :2\n",
      "두번째 숫자를 입력해주세요 :3.5\n",
      "입력한 수는 2.0와 3.5입니다.\n",
      "2.0를 3.5로 나누면 0.5714285714285714입니다.\n"
     ]
    }
   ],
   "source": [
    "# 연습문제 1.\n",
    "\n",
    "while True:\n",
    "    try:\n",
    "        num1 = float(input('첫번째 숫자를 입력해주세요 :'))\n",
    "        num2 = float(input('두번째 숫자를 입력해주세요 :'))\n",
    "        print(\"입력한 수는 {}와 {}입니다.\".format(num1, num2))\n",
    "        print(\"{}를 {}로 나누면 {}입니다.\".format(num1, num2, num1/num2))\n",
    "        break\n",
    "    except:\n",
    "        print(\"유효한 숫자가 아닙니다. 다시 시도하세요\")\n",
    "        \n",
    "#     except ZeroDivisionError:\n",
    "#         print('0으로 나눌 수 없습니다.')\n",
    "\n",
    "#     except ValueError:\n",
    "#         print('실수만 입력해야 합니다.')\n",
    "#     else:\n",
    "#         print('유효한 숫자가 아닙니다.')\n",
    "#     except Exception:\n",
    "#         print('유효한 숫자가 아닙니다.')\n",
    "    \n",
    "# finally:\n",
    "#     print('종료')\n"
   ]
  },
  {
   "cell_type": "code",
   "execution_count": null,
   "id": "5a5e8364",
   "metadata": {},
   "outputs": [
    {
     "name": "stdout",
     "output_type": "stream",
     "text": [
      "첫번째 숫자를 입력해주세요 :abc\n",
      "유효한 숫자가 아닙니다. 다시 시도하세요\n",
      "첫번째 숫자를 입력해주세요 :10\n",
      "두번째 숫자를 입력해주세요 :0\n",
      "입력한 수는 10.0와 0.0입니다.\n",
      "0으로 나눌 수 없습니다.\n",
      "첫번째 숫자를 입력해주세요 :5\n",
      "두번째 숫자를 입력해주세요 :3\n",
      "입력한 수는 5.0와 3.0입니다.\n",
      "5.0를 3.0로 나누면 1.6666666666666667입니다.\n"
     ]
    }
   ],
   "source": [
    "# 연습문제 2.\n",
    "while True:\n",
    "    \n",
    "    try:\n",
    "        num1 = float(input('첫번째 숫자를 입력해주세요 :'))\n",
    "        num2 = float(input('두번째 숫자를 입력해주세요 :'))\n",
    "        print(\"입력한 수는 {}와 {}입니다.\".format(num1, num2))\n",
    "        print(\"{}를 {}로 나누면 {}입니다.\".format(num1, num2, num1/num2))\n",
    "\n",
    "    except ZeroDivisionError:\n",
    "        print('0으로 나눌 수 없습니다.')\n",
    "\n",
    "    except:\n",
    "        print(\"유효한 숫자가 아닙니다. 다시 시도하세요\")  \n"
   ]
  },
  {
   "cell_type": "code",
   "execution_count": null,
   "id": "d6acb335",
   "metadata": {},
   "outputs": [],
   "source": [
    "# 연습문제 문제풀이형\n",
    "# 1. (3)\n",
    "# 2. (2)\n",
    "# 3. (4)\n",
    "# 4. (3)"
   ]
  },
  {
   "cell_type": "code",
   "execution_count": null,
   "id": "b4654014",
   "metadata": {},
   "outputs": [],
   "source": [
    "# 파일 입출력 예습"
   ]
  },
  {
   "cell_type": "code",
   "execution_count": null,
   "id": "2f611885",
   "metadata": {},
   "outputs": [],
   "source": [
    "'''\n",
    "파이썬에서 파일 다루는 기본 개념\n",
    "\n",
    "with open(\"파일이름\", \"모드\") as f:\n",
    "\n",
    "    # 파일을 다루는 코드\n",
    "\n",
    "모드\t뜻\n",
    "\"r\"\t읽기 (read)\n",
    "\"w\"\t쓰기 (write, 덮어쓰기)\n",
    "\"a\"\t이어쓰기 (append)\n",
    "\n",
    "'''\n"
   ]
  },
  {
   "cell_type": "code",
   "execution_count": 1,
   "id": "e77be4c9",
   "metadata": {},
   "outputs": [
    {
     "name": "stdout",
     "output_type": "stream",
     "text": [
      "Hi hello!~\n",
      "My name is Alan Jo\n",
      "What's up?\n",
      "It's so hard to study Python Shit!!\n"
     ]
    },
    {
     "data": {
      "text/plain": [
       "'\\n코드 | 설명\\nopen(..., \"r\") | 파일을 읽기 모드로 엶\\nas f | f는 파일 객체를 뜻해\\nfor line in f | 파일에서 한 줄씩 읽어옴\\nline.strip() | 줄 끝의 줄바꿈 문자 \\n 제거    \\n\\n'"
      ]
     },
     "execution_count": 1,
     "metadata": {},
     "output_type": "execute_result"
    }
   ],
   "source": [
    "# 1. message.txt 파일을 읽어서 한 줄씩 화면에 출력\n",
    "\n",
    "with open(\"message.txt\", \"r\") as f:\n",
    "    for line in f:\n",
    "        print(line.strip())\n",
    "        \n",
    "'''\n",
    "코드 | 설명\n",
    "open(..., \"r\") | 파일을 읽기 모드로 엶\n",
    "as f | f는 파일 객체를 뜻해\n",
    "for line in f | 파일에서 한 줄씩 읽어옴\n",
    "line.strip() | 줄 끝의 줄바꿈 문자 \\n 제거    \n",
    "\n",
    "'''        \n"
   ]
  },
  {
   "cell_type": "code",
   "execution_count": null,
   "id": "eb4a1d0b",
   "metadata": {},
   "outputs": [],
   "source": [
    "# 2. 사용자로부터 메모를 받아 memo.txt에 저장.\n",
    "# 사용자가 exit을 입력하면 저장 종료\n",
    "with open(\"memo.txt\", \"w\") as f:\n",
    "    while True:\n",
    "        text = input(\"메모입력(exit 입력시 종료) : \")\n",
    "        if text == \"exit\":\n",
    "            break\n",
    "        f.wirite(text + \"\\n\")\n",
    "print(\"메모 저장 완료!!\")\n",
    "\n",
    "\n",
    "'''\n",
    "코드          | 설명\n",
    "\"w\"          | 파일 쓰기 모드 (기존 내용 덮어쓰기)\n",
    "f.write(...) | 텍스트를 파일에 저장\n",
    "+ \"\\n\"       | 줄바꿈 추가해서 줄 단위로 저장\n",
    "'''"
   ]
  },
  {
   "cell_type": "code",
   "execution_count": null,
   "id": "fa7e4cc6",
   "metadata": {},
   "outputs": [],
   "source": [
    "# 3. 파일복사\n",
    "# 하나의 파일을 읽고,그 내용을 다른 파일로 복사\n",
    "\n",
    "src = input(\"복사할 원본 파일명 : \")\n",
    "dst = input(\"복사할 대상 파일명 : \")\n",
    "try:\n",
    "    with open(src, \"r\") as f_src:\n",
    "        content = f_src.read()\n",
    "        \n",
    "    with open(dst, \"w\") as f_dst:\n",
    "        f_dst.write(content)\n",
    "        \n",
    "    print(\"복사완료!\")\n",
    "except FileNotFoundError:\n",
    "    print(\"원본 파일이 존재하지 않아요\")\n",
    "    \n",
    "\n",
    "    '''\n",
    "코드               | 설명\n",
    "f_src.read()      | 파일 전체 내용 읽기\n",
    "f_dst.write(...)  | 내용을 새 파일에 저장\n",
    "FileNotFoundError | 원본 파일이 없을 경우 예외 처리    \n",
    "'''\n"
   ]
  },
  {
   "cell_type": "code",
   "execution_count": null,
   "id": "239368c0",
   "metadata": {},
   "outputs": [],
   "source": [
    "# 1단계 : 텍스트 파일 입출력(기본)\n",
    "\n",
    "# 파일을 여는 함수 : open()\n",
    "\n",
    "file = open(\"파일명\", \"모드\", encoding=\"UTF-8\")\n",
    "\n",
    "'''\n",
    "모드\t설명\n",
    "\"r\"\t읽기 모드 (파일이 있어야 함)\n",
    "\"w\"\t쓰기 모드 (파일 새로 생성 또는 덮어쓰기)\n",
    "\"a\"\t추가 모드 (기존 파일 뒤에 이어쓰기)\n",
    "\"b\"\t바이너리 모드 (픽클 등 이진 데이터 처리용)\n",
    "\n",
    "'''\n"
   ]
  },
  {
   "cell_type": "code",
   "execution_count": 3,
   "id": "8b380c95",
   "metadata": {},
   "outputs": [],
   "source": [
    "# 텍스트 쓰기 예제\n",
    "\n",
    "with open(\"memo.txt\", \"w\", encoding=\"UTF8\") as f:\n",
    "    f.write(\"안녕하세요?\\n\")\n",
    "    f.write(\"파일쓰기 예제입니다.\")"
   ]
  },
  {
   "cell_type": "code",
   "execution_count": 4,
   "id": "e22eec2b",
   "metadata": {},
   "outputs": [
    {
     "name": "stdout",
     "output_type": "stream",
     "text": [
      "안녕하세요?\n",
      "파일쓰기 예제입니다.\n"
     ]
    }
   ],
   "source": [
    "# 텍스트 읽기 예제\n",
    "\n",
    "with open(\"memo.txt\", \"r\", encoding=\"UTF=8\") as f:\n",
    "    for line in f:\n",
    "        print(line.strip())"
   ]
  },
  {
   "cell_type": "code",
   "execution_count": null,
   "id": "ea72c221",
   "metadata": {},
   "outputs": [],
   "source": [
    "# 2단계 : 피클(pickle)로 객체 저장하기\n",
    "\n",
    "'''\n",
    "객체 자체를 파일에 저장하고 불러오는 방식\n",
    "예 : 리스트, 딕셔너리, 사용자 정의 객체 등\n",
    "바이너리 모드 사용 필수\n",
    "'''"
   ]
  },
  {
   "cell_type": "code",
   "execution_count": 5,
   "id": "fab5401b",
   "metadata": {},
   "outputs": [],
   "source": [
    "# 저장(피클링)\n",
    "import pickle\n",
    "data = {'name' : '맹구', 'age' : 13}\n",
    "\n",
    "with open(\"data.pkl\",\"wb\") as f:\n",
    "    pickle.dump(data, f)"
   ]
  },
  {
   "cell_type": "code",
   "execution_count": 6,
   "id": "df123c1c",
   "metadata": {},
   "outputs": [
    {
     "name": "stdout",
     "output_type": "stream",
     "text": [
      "{'name': '맹구', 'age': 13}\n"
     ]
    }
   ],
   "source": [
    "# 불러오기(언피클링)\n",
    "\n",
    "with open(\"data.pkl\", \"rb\") as f:\n",
    "    loaded = pickle.load(f)\n",
    "    print(loaded)"
   ]
  },
  {
   "cell_type": "code",
   "execution_count": 10,
   "id": "f064ae04",
   "metadata": {},
   "outputs": [
    {
     "ename": "NameError",
     "evalue": "name 'writerow' is not defined",
     "output_type": "error",
     "traceback": [
      "\u001b[1;31m---------------------------------------------------------------------------\u001b[0m",
      "\u001b[1;31mNameError\u001b[0m                                 Traceback (most recent call last)",
      "Cell \u001b[1;32mIn[10], line 7\u001b[0m\n\u001b[0;32m      5\u001b[0m \u001b[38;5;28;01mwith\u001b[39;00m \u001b[38;5;28mopen\u001b[39m(\u001b[38;5;124m\"\u001b[39m\u001b[38;5;124mdata.csv\u001b[39m\u001b[38;5;124m\"\u001b[39m, \u001b[38;5;124m\"\u001b[39m\u001b[38;5;124mw\u001b[39m\u001b[38;5;124m\"\u001b[39m, newline\u001b[38;5;241m=\u001b[39m\u001b[38;5;124m\"\u001b[39m\u001b[38;5;124m\"\u001b[39m, encoding\u001b[38;5;241m=\u001b[39m\u001b[38;5;124m\"\u001b[39m\u001b[38;5;124mutf-8\u001b[39m\u001b[38;5;124m\"\u001b[39m) \u001b[38;5;28;01mas\u001b[39;00m f:\n\u001b[0;32m      6\u001b[0m     writer \u001b[38;5;241m=\u001b[39m csv\u001b[38;5;241m.\u001b[39mwriter(f)\n\u001b[1;32m----> 7\u001b[0m     writer \u001b[38;5;241m=\u001b[39m \u001b[43mwriterow\u001b[49m([\u001b[38;5;124m\"\u001b[39m\u001b[38;5;124m이름\u001b[39m\u001b[38;5;124m\"\u001b[39m, \u001b[38;5;124m\"\u001b[39m\u001b[38;5;124m나이\u001b[39m\u001b[38;5;124m\"\u001b[39m])\n\u001b[0;32m      8\u001b[0m     writer \u001b[38;5;241m=\u001b[39m writerow([\u001b[38;5;124m\"\u001b[39m\u001b[38;5;124m맹구\u001b[39m\u001b[38;5;124m\"\u001b[39m, \u001b[38;5;124m\"\u001b[39m\u001b[38;5;124m13\u001b[39m\u001b[38;5;124m\"\u001b[39m])\n",
      "\u001b[1;31mNameError\u001b[0m: name 'writerow' is not defined"
     ]
    }
   ],
   "source": [
    "# 3단계 :  csv 파일 다루기\n",
    "# 기본은 csv.reader(), csv.writer() 사용\n",
    "\n",
    "import csv\n",
    "\n",
    "with open(\"data.csv\", \"w\", newline=\"\", encoding=\"utf-8\") as f:\n",
    "    writer = csv.writer(f)\n",
    "    writer = writerow([\"이름\", \"나이\"])\n",
    "    writer = writerow([\"맹구\", \"13\"])"
   ]
  },
  {
   "cell_type": "code",
   "execution_count": 12,
   "id": "3b1af2f4",
   "metadata": {},
   "outputs": [],
   "source": [
    "# csv파일 읽기\n",
    "\n",
    "with open(\"data.csv\", \"r\", encoding=\"utf-8\") as f:\n",
    "    reader = csv.reader(f)\n",
    "    for row in reader:\n",
    "        print(row)"
   ]
  },
  {
   "cell_type": "code",
   "execution_count": null,
   "id": "35eb7f7a",
   "metadata": {},
   "outputs": [],
   "source": [
    "# 딕셔너리 형식으로 CSV 다루기\n",
    "\n",
    "with open(\"data.csv\", \"w\", newline=\"\", encoding=\"utf-8\") as f:\n",
    "    fieldnames = [\"이름\", \"나이\"]\n",
    "    writer = csv.DictWriter(f, fieldnames=fieldnames)\n",
    "    writer.writeheader()\n",
    "    writer.writerow({\"이름\": \"맹구\", \"나이\": 13})"
   ]
  },
  {
   "cell_type": "code",
   "execution_count": 16,
   "id": "e73b3682",
   "metadata": {},
   "outputs": [],
   "source": [
    "# 4단계 JSON 데이터 저장/불러오기\n",
    "\n",
    "# 저장\n",
    "\n",
    "import json\n",
    "data = {\"이름\": \"맹구\", \"나이\" : 13}\n",
    "\n",
    "with open(\"data.json\", \"w\", encoding=\"utf-8\") as f:\n",
    "    json.dump(data, f, ensure_ascii=False, indent=2)"
   ]
  },
  {
   "cell_type": "code",
   "execution_count": 17,
   "id": "46dad522",
   "metadata": {},
   "outputs": [
    {
     "name": "stdout",
     "output_type": "stream",
     "text": [
      "{'이름': '맹구', '나이': 13}\n"
     ]
    }
   ],
   "source": [
    "# 불러오기\n",
    "\n",
    "with open(\"data.json\", \"r\", encoding=\"utf=8\") as f:\n",
    "    data = json.load(f)\n",
    "    print(data)"
   ]
  },
  {
   "cell_type": "code",
   "execution_count": 20,
   "id": "b3379f80",
   "metadata": {},
   "outputs": [
    {
     "name": "stdout",
     "output_type": "stream",
     "text": [
      "   이름  나이\n",
      "0  맹구  15\n",
      "1  철수  13\n"
     ]
    },
    {
     "name": "stderr",
     "output_type": "stream",
     "text": [
      "C:\\Users\\cppap\\anaconda3\\lib\\site-packages\\tables\\path.py:137: NaturalNameWarning: object name is not a valid Python identifier: '고객'; it does not match the pattern ``^[a-zA-Z_][a-zA-Z0-9_]*$``; you will not be able to use natural naming to access this object; using ``getattr()`` will still work, though\n",
      "  check_attribute_name(name)\n"
     ]
    }
   ],
   "source": [
    "# 5단계 HDF5 파일 다루기\n",
    "'''\n",
    "대용량 데이터 저장용\n",
    "주로 pandas나 h5py 모듈로 사용\n",
    "'''\n",
    "\n",
    "import pandas as pd\n",
    "df = pd.DataFrame({\"이름\": [\"맹구\", \"철수\"], \"나이\" : [ 15, 13]})\n",
    "df.to_hdf(\"data.h5\", key=\"고객\", mode=\"w\")\n",
    "\n",
    "df2 = pd.read_hdf(\"data.h5\", key=\"고객\")\n",
    "print(df2)"
   ]
  },
  {
   "cell_type": "code",
   "execution_count": null,
   "id": "724bbe51",
   "metadata": {},
   "outputs": [],
   "source": [
    "# 2025/04/22 본 강의"
   ]
  },
  {
   "cell_type": "code",
   "execution_count": null,
   "id": "b5b96b27",
   "metadata": {},
   "outputs": [],
   "source": []
  },
  {
   "cell_type": "code",
   "execution_count": null,
   "id": "2665413f",
   "metadata": {},
   "outputs": [],
   "source": []
  },
  {
   "cell_type": "code",
   "execution_count": null,
   "id": "02cdd7db",
   "metadata": {},
   "outputs": [],
   "source": []
  },
  {
   "cell_type": "code",
   "execution_count": null,
   "id": "0f3478e8",
   "metadata": {},
   "outputs": [],
   "source": []
  },
  {
   "cell_type": "code",
   "execution_count": null,
   "id": "74f537c1",
   "metadata": {},
   "outputs": [],
   "source": []
  },
  {
   "cell_type": "code",
   "execution_count": null,
   "id": "08e59144",
   "metadata": {},
   "outputs": [],
   "source": []
  }
 ],
 "metadata": {
  "kernelspec": {
   "display_name": "Python 3 (ipykernel)",
   "language": "python",
   "name": "python3"
  },
  "language_info": {
   "codemirror_mode": {
    "name": "ipython",
    "version": 3
   },
   "file_extension": ".py",
   "mimetype": "text/x-python",
   "name": "python",
   "nbconvert_exporter": "python",
   "pygments_lexer": "ipython3",
   "version": "3.10.9"
  },
  "toc": {
   "base_numbering": 1,
   "nav_menu": {},
   "number_sections": false,
   "sideBar": true,
   "skip_h1_title": false,
   "title_cell": "Table of Contents",
   "title_sidebar": "Contents",
   "toc_cell": false,
   "toc_position": {
    "height": "calc(100% - 180px)",
    "left": "10px",
    "top": "150px",
    "width": "264.984px"
   },
   "toc_section_display": true,
   "toc_window_display": true
  }
 },
 "nbformat": 4,
 "nbformat_minor": 5
}
